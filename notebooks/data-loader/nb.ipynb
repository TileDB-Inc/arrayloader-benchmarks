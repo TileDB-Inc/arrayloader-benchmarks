{
 "cells": [
  {
   "cell_type": "code",
   "execution_count": null,
   "id": "6be02d7f-9cc1-47b5-b89e-bd3d1a2fedd5",
   "metadata": {
    "editable": true,
    "slideshow": {
     "slide_type": ""
    },
    "tags": []
   },
   "outputs": [],
   "source": [
    "import utz\n",
    "from utz import *\n",
    "from utz.plots import symbols\n",
    "from benchmarks.cli.data_loader import DEFAULT_PQT_PATH, CHUNK_METHODS"
   ]
  },
  {
   "cell_type": "markdown",
   "id": "effd3aa6-d6e8-4022-b130-9521898e9987",
   "metadata": {},
   "source": [
    "[Papermill](https://papermill.readthedocs.io/en/latest/) parameters:"
   ]
  },
  {
   "cell_type": "code",
   "execution_count": null,
   "id": "a8f69780-67fa-4c2b-bf1e-0d8b7b411163",
   "metadata": {
    "editable": true,
    "slideshow": {
     "slide_type": ""
    },
    "tags": [
     "parameters"
    ]
   },
   "outputs": [],
   "source": [
    "db_path = DEFAULT_PQT_PATH  # Parquet path to read epoch stats from\n",
    "out_dir = None              # Directory to save plot PNG/JSON to (e.g. \"m3\", \"azl\")\n",
    "host = None                 # Description of host the stats were collected on, used in plot subtitle (e.g. \"M3 Mac\", \"Amazon Linux\")\n",
    "show = \"html\"               # Set to \"png\" to render plots in notebook as PNGs (good for noninteractive mode / Git-committing)\n",
    "hostname_rgx = None         # Filter DB \"hostname\" field to values matching this regex\n",
    "max_batches = None          # Filter DB `max_batches` column\n",
    "since = None                # Filter DB to `alb_start` since this datetime\n",
    "uri_rgx = None              # Filter DB \"uri\" field to values matching this regex\n",
    "start_idx = None            # Filter DB to runs consuming dataset slices beginning at this index\n",
    "end_idx = 123               # Filter DB to runs consuming dataset slices ending at this index\n",
    "W = 1000                    # Output plot width\n",
    "H =  600                    # Output plot height"
   ]
  },
  {
   "cell_type": "code",
   "execution_count": null,
   "id": "1c586037-7df1-4217-9b25-4f57da57a2ed",
   "metadata": {
    "editable": true,
    "slideshow": {
     "slide_type": ""
    },
    "tags": []
   },
   "outputs": [],
   "source": [
    "df = pd.read_parquet(db_path)\n",
    "if hostname_rgx:\n",
    "    df = df[df.hostname.str.contains(hostname_rgx)].reset_index(drop=True).copy()\n",
    "if since:\n",
    "    since = to_dt(since)\n",
    "    df = df[df.alb_start >= since].reset_index(drop=True).copy()\n",
    "if uri_rgx:\n",
    "    df = df[~df.uri.isna()]\n",
    "    df = df[df.uri.str.contains(uri_rgx)].reset_index(drop=True).copy()\n",
    "if start_idx is not None:\n",
    "    df = df[df.start_idx == start_idx].reset_index(drop=True).copy()\n",
    "if end_idx is not None:\n",
    "    df = df[df.end_idx == end_idx].reset_index(drop=True).copy()\n",
    "if max_batches is not None:\n",
    "    df = df[df.max_batches == max_batches].copy()\n",
    "df"
   ]
  },
  {
   "cell_type": "code",
   "execution_count": null,
   "id": "7d3f0bf0-e4de-4aba-af55-06fb3caacad0",
   "metadata": {},
   "outputs": [],
   "source": [
    "hist = df[['uri', 'chunk_method', 'chunks_per_block', 'chunk_size']].value_counts().sort_index().rename('num')\n",
    "hist"
   ]
  },
  {
   "cell_type": "code",
   "execution_count": null,
   "id": "fdc6e9fa-47e5-4161-9f15-2b1b57f2b3af",
   "metadata": {
    "scrolled": true
   },
   "outputs": [],
   "source": [
    "pivoted = hist.reset_index(level=[0,1]).pivot(columns=['uri', 'chunk_method'], values='num')\n",
    "# assert (pivoted == 5).all().all()\n",
    "pivoted"
   ]
  },
  {
   "cell_type": "code",
   "execution_count": null,
   "id": "b61d64f1-c79d-4c76-8c3b-c99ca58a511d",
   "metadata": {},
   "outputs": [],
   "source": [
    "df['block_size_lg2'] = df.block_size.apply(log2).astype(int)\n",
    "block_lg2_vals = df.block_size_lg2.unique().tolist()\n",
    "block_lg2_vals.sort()\n",
    "min_block_lg2, max_block_lg2 = min(block_lg2_vals), max(block_lg2_vals)\n",
    "min_block_lg2, max_block_lg2, block_lg2_vals"
   ]
  },
  {
   "cell_type": "code",
   "execution_count": null,
   "id": "fa3bfe89-73fa-4c81-b821-be35eb57cfbc",
   "metadata": {},
   "outputs": [],
   "source": [
    "df['chunk_lg2'] = df.chunk_size.apply(log2)\n",
    "chunk_lg2_vals = df.chunk_lg2.apply(int).unique().tolist()\n",
    "chunk_lg2_vals.sort()\n",
    "min_chunk_log2, max_chunk_log2 = min(chunk_lg2_vals), max(chunk_lg2_vals)\n",
    "min_chunk_log2, max_chunk_log2, chunk_lg2_vals"
   ]
  },
  {
   "cell_type": "code",
   "execution_count": null,
   "id": "8c198cf0-6fa9-4515-93e9-ab98db77b4e0",
   "metadata": {},
   "outputs": [],
   "source": [
    "df['block_chunks_lg2'] = df.chunks_per_block.apply(log2).apply(int)\n",
    "counts_lg2_vals = df.block_chunks_lg2.unique().tolist()\n",
    "counts_lg2_vals.sort()\n",
    "min_block_chunks_lg2, max_block_chunks_lg2 = min(counts_lg2_vals), max(counts_lg2_vals)\n",
    "min_block_chunks_lg2, max_block_chunks_lg2, counts_lg2_vals"
   ]
  },
  {
   "cell_type": "code",
   "execution_count": null,
   "id": "fa800f16-4921-4317-b32c-1f6d6b8a2b15",
   "metadata": {},
   "outputs": [],
   "source": [
    "chunk_count_to_size = (\n",
    "    df\n",
    "    [['chunk_size', 'chunks_per_block']]\n",
    "    .value_counts()\n",
    "    .sort_index()\n",
    "    .index\n",
    "    .to_frame()\n",
    "    .reset_index(drop=True, level=0)\n",
    "    .chunk_size\n",
    "    .to_dict()\n",
    ")\n",
    "chunk_count_to_size"
   ]
  },
  {
   "cell_type": "code",
   "execution_count": null,
   "id": "36875032-579e-4581-b34c-3b0dd0120bfd",
   "metadata": {
    "editable": true,
    "scrolled": true,
    "slideshow": {
     "slide_type": ""
    },
    "tags": []
   },
   "outputs": [],
   "source": [
    "C = 'SOMA chunk size'\n",
    "N = 'Chunks per shuffle block'\n",
    "S = 'Samples / sec'\n",
    "df[C] = pd.Categorical(df.chunk_size.apply(lambda c: f'{c:,}'))\n",
    "df[N] = pd.Categorical(df.chunks_per_block.apply(lambda c: f'{c:,}'))\n",
    "chunk_sizes = df[C].unique()\n",
    "chunks_per_blocks = df[N].unique()\n",
    "df[S] = df.n_rows / df.elapsed\n",
    "M = 'Max. memory usage'\n",
    "df = df.rename(columns={ 'max_mem': M, 'chunk_method': 'Method', })\n",
    "df"
   ]
  },
  {
   "cell_type": "code",
   "execution_count": null,
   "id": "27e6ea15-5042-4f54-ac1e-fcf246b0f236",
   "metadata": {
    "editable": true,
    "slideshow": {
     "slide_type": ""
    },
    "tags": []
   },
   "outputs": [],
   "source": [
    "batch_size = singleton(df.batch_size.unique())\n",
    "print(f'{batch_size=}')\n",
    "n_vars = singleton(df.n_cols.unique())\n",
    "print(f'{n_vars=}')\n",
    "n_rows = singleton(df.n_rows.unique())\n",
    "print(f'{n_rows=}')\n",
    "uri = singleton(df.uri.unique())\n",
    "print(f'{uri=}')\n",
    "instance_type = singleton(df.instance_type.unique())\n",
    "print(f'{instance_type=}')\n",
    "max_batches = singleton(df.max_batches.unique())\n",
    "print(f'{max_batches=}')"
   ]
  },
  {
   "cell_type": "code",
   "execution_count": null,
   "id": "0327af7e-b79b-4a75-9b20-ef08beea2984",
   "metadata": {
    "editable": true,
    "slideshow": {
     "slide_type": ""
    },
    "tags": []
   },
   "outputs": [],
   "source": [
    "host_str = f\"EC2 ({instance_type}), \" if instance_type else \"\"\n",
    "host_subtitle = f'{host_str}{batch_size} samples per PyTorch batch'"
   ]
  },
  {
   "cell_type": "code",
   "execution_count": null,
   "id": "ac66b31a-30c0-4081-828d-f3edacb632dd",
   "metadata": {},
   "outputs": [],
   "source": [
    "if not uri:\n",
    "    dataset_subtitle = f'{n_rows:,} cells, streamed (and sliced on the fly) from S3'\n",
    "elif uri.startswith('s3://'):\n",
    "    dataset_subtitle = f'{n_rows:,} cells, pre-sliced, read from S3'\n",
    "else:\n",
    "    dataset_subtitle = f'{n_rows:,} cells, pre-sliced, read from local disk'\n",
    "\n",
    "if max_batches:\n",
    "    dataset_subtitle += f'; {max_batches} batches measured'"
   ]
  },
  {
   "cell_type": "code",
   "execution_count": null,
   "id": "fc3aba52-95ba-4797-a634-e37bef4e3d2d",
   "metadata": {},
   "outputs": [],
   "source": [
    "def plot(\n",
    "    fig,\n",
    "    *args,\n",
    "    **kwargs,\n",
    "):\n",
    "    return utz.plot(\n",
    "        fig,\n",
    "        *args,        \n",
    "        dir=out_dir,\n",
    "        w=W, h=H,\n",
    "        show=show,\n",
    "        html=True,\n",
    "        **kwargs,\n",
    "    )"
   ]
  },
  {
   "cell_type": "code",
   "execution_count": null,
   "id": "fbd840aa-3113-49d8-b72d-043d72f212fe",
   "metadata": {},
   "outputs": [],
   "source": [
    "title = \"Samples/sec vs. memory use\"\n",
    "\n",
    "def ticktext(e):\n",
    "    chunk_count = int(2**e)\n",
    "    return f'{chunk_count:,}'\n",
    "\n",
    "tickvals = counts_lg2_vals\n",
    "colorbar = dict(\n",
    "    title=utz.plots.title(['# Chunks', 'per shuffled block']),\n",
    "    tickmode='array',\n",
    "    tickvals=tickvals,\n",
    "    ticktext=list(map(ticktext, tickvals)),\n",
    ")"
   ]
  },
  {
   "cell_type": "code",
   "execution_count": null,
   "id": "f651b04f-8703-41d4-98b4-556f1a5dcd08",
   "metadata": {},
   "outputs": [],
   "source": [
    "min_size, max_size = 9, 19\n",
    "block_lg2_span = max_block_lg2 - min_block_lg2\n",
    "if block_lg2_span == 0:\n",
    "    df['marker_size'] = (min_size + max_size) / 2\n",
    "else:\n",
    "    df['marker_size'] = min_size + (max_size - min_size) * (df.block_size_lg2 - min_block_lg2) / block_lg2_span\n",
    "size_vals = list(sorted(df.marker_size.unique()))\n",
    "size_vals"
   ]
  },
  {
   "cell_type": "code",
   "execution_count": null,
   "id": "db41a80b-cd2e-4aa8-8169-bfc67623b241",
   "metadata": {},
   "outputs": [],
   "source": [
    "marker2block_size = df[['block_size', 'marker_size']].drop_duplicates().set_index('marker_size').block_size.to_dict()\n",
    "marker2block_size"
   ]
  },
  {
   "cell_type": "code",
   "execution_count": null,
   "id": "12c817b3-8280-48b1-83d2-c98322ecb114",
   "metadata": {},
   "outputs": [],
   "source": [
    "min_opacity, max_opacity = 0.4, 0.9\n",
    "default_opacity = 0.8\n",
    "epoch_vals = list(sorted(df.epoch.unique()))\n",
    "min_epoch, max_epoch = epoch_vals[0], epoch_vals[-1]\n",
    "df['marker_opacity'] = min_opacity + (max_opacity - min_opacity) * df.epoch / max_epoch\n",
    "epoch2opacity = df[['epoch', 'marker_opacity']].drop_duplicates().set_index('epoch').marker_opacity.to_dict()\n",
    "epoch_vals, epoch2opacity"
   ]
  },
  {
   "cell_type": "code",
   "execution_count": null,
   "id": "399836ca-c15f-4221-a220-8788abc2c44e",
   "metadata": {},
   "outputs": [],
   "source": [
    "fig = go.Figure()\n",
    "\n",
    "def dummy_trace(name, legend=None, **kwargs):\n",
    "    marker = dict(color='gray')\n",
    "    marker.update(kwargs)\n",
    "    return go.Scatter(\n",
    "        name=name,\n",
    "        legend=legend,\n",
    "        x=[None], y=[None], mode='markers',\n",
    "        marker=marker,\n",
    "    )\n",
    "\n",
    "def legend(title, **kwargs):\n",
    "    defaults = dict(\n",
    "        xanchor='left',\n",
    "        yanchor='top',\n",
    "        bordercolor=\"Black\",\n",
    "        borderwidth=2,\n",
    "        #bgcolor=\"rgba(0,0,0,0)\",\n",
    "    )\n",
    "    defaults.update(kwargs)\n",
    "    return dict(\n",
    "        title_text=title,\n",
    "        **defaults\n",
    "    )\n",
    "\n",
    "for idx, chunk_method in enumerate(CHUNK_METHODS):\n",
    "    f = df[df.Method == chunk_method]\n",
    "    symbol = symbols[idx]\n",
    "    marker = dict(\n",
    "        color=f.block_chunks_lg2,\n",
    "        colorscale=px.colors.diverging.Portland,\n",
    "        cmin=min_block_chunks_lg2,\n",
    "        cmax=max_block_chunks_lg2 + .12,\n",
    "        colorbar=colorbar,\n",
    "        showscale=True,\n",
    "        size=f.marker_size,\n",
    "        symbol=symbol,\n",
    "    )\n",
    "    if len(epoch_vals) > 1:\n",
    "        marker['opacity'] = f.marker_opacity\n",
    "    else:\n",
    "        marker['opacity'] = default_opacity\n",
    "\n",
    "    fig.add_trace(go.Scatter(\n",
    "        name=chunk_method,\n",
    "        x=f[M],\n",
    "        y=f[S],\n",
    "        mode='markers',\n",
    "        marker=marker,\n",
    "        customdata=f[['epoch', 'chunk_size', 'chunks_per_block', 'block_size',]],\n",
    "        showlegend=False,\n",
    "    ))\n",
    "\n",
    "    # Dummy traces, for legend: one per fmt, set color/size (instead of inheriting from last data point in `f`)\n",
    "    size = size_vals[-1]\n",
    "    fig.add_trace(dummy_trace(\n",
    "        chunk_method,\n",
    "        size=size,\n",
    "        symbol=symbol,\n",
    "    ))\n",
    "\n",
    "# Dummy legend/traces for `block_size` facet (represented by marker size)\n",
    "if len(size_vals) > 1:\n",
    "    for size in size_vals:\n",
    "        block_size = marker2block_size[size]\n",
    "        fig.add_trace(dummy_trace(\n",
    "            f\"{block_size:,}\",\n",
    "            legend=\"legend2\",\n",
    "            size=size,\n",
    "            #symbol=symbols[0],\n",
    "        ))\n",
    "\n",
    "method_block_legends_v = dict(\n",
    "    legend =legend('Method',     x=.01, y=.99, ),\n",
    "    legend2=legend('Block size', x=.01, y=.81, ),\n",
    ")\n",
    "method_block_legends_h = dict(\n",
    "    legend =legend('Method',     x=.145, y=.99, ),\n",
    "    legend2=legend('Block size', x=.01,  y=.99, ),\n",
    ")\n",
    "method_block_legends = method_block_legends_v if end_idx == 123 else method_block_legends_h\n",
    "\n",
    "if len(epoch_vals) > 1:\n",
    "    # Dummy legend/traces for `epoch` facet (represented by marker opacity)\n",
    "    #for epoch, opacity in [ (min_epoch, min_opacity), (max_epoch, max_opacity) ]:\n",
    "    for epoch, opacity in epoch2opacity.items():\n",
    "        fig.add_trace(dummy_trace(\n",
    "            f\"{epoch}\",\n",
    "            legend=\"legend3\",\n",
    "            size=max_size,\n",
    "            opacity=opacity,\n",
    "        ))\n",
    "    legends = dict(\n",
    "        **method_block_legends_v,\n",
    "        legend3=legend('Epoch',      x=.15, y=.99, ),\n",
    "    )\n",
    "else:\n",
    "    legends = method_block_legends\n",
    "\n",
    "fig = plot(\n",
    "    fig,\n",
    "    utz.plots.title([\n",
    "        title,\n",
    "        host_subtitle,\n",
    "        dataset_subtitle,\n",
    "    ], subtitle_size=\"0.7em\"),\n",
    "    title_y=.95,\n",
    "    name=\"speed_vs_mem_1\",\n",
    "    hovertemplate=[\n",
    "        *([\"Epoch: %{customdata[0]}\"] if len(epoch_vals) > 1 else []),\n",
    "        \"%s: %%{customdata[1]}\" % C,\n",
    "        \"Chunks per shuffled block: %{customdata[2]}\",\n",
    "        \"Shuffled block size: %{customdata[3]}\",\n",
    "        \"Samples/sec: %{y:,d}\",\n",
    "        \"Memory: %{x:.3s}\",\n",
    "    ],\n",
    "    xtitle=M,\n",
    "    xaxis_tickformat='s',\n",
    "    xaxis_rangemode='tozero',\n",
    "    ytitle=S,\n",
    "    **legends,\n",
    "    zerolines='y',\n",
    ")\n",
    "fig\n",
    "#from IPython.display import HTML\n",
    "#HTML(fig.to_html(include_plotlyjs='cdn'))"
   ]
  }
 ],
 "metadata": {
  "kernelspec": {
   "display_name": "Python 3 (ipykernel)",
   "language": "python",
   "name": "python3"
  },
  "language_info": {
   "codemirror_mode": {
    "name": "ipython",
    "version": 3
   },
   "file_extension": ".py",
   "mimetype": "text/x-python",
   "name": "python",
   "nbconvert_exporter": "python",
   "pygments_lexer": "ipython3",
   "version": "3.11.8"
  }
 },
 "nbformat": 4,
 "nbformat_minor": 5
}
