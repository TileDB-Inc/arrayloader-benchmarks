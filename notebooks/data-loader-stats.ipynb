{
 "cells": [
  {
   "cell_type": "code",
   "execution_count": null,
   "id": "1e39a460-4de8-45e9-a8ee-65ef080a861f",
   "metadata": {},
   "outputs": [],
   "source": [
    "import pandas as pd\n",
    "from benchmarks.cli.data_loader import DEFAULT_DB_PATH, TBL"
   ]
  },
  {
   "cell_type": "code",
   "execution_count": null,
   "id": "a8f69780-67fa-4c2b-bf1e-0d8b7b411163",
   "metadata": {
    "editable": true,
    "slideshow": {
     "slide_type": ""
    },
    "tags": [
     "parameters"
    ]
   },
   "outputs": [],
   "source": [
    "db_path = DEFAULT_DB_PATH\n",
    "tbl = TBL"
   ]
  },
  {
   "cell_type": "code",
   "execution_count": null,
   "id": "1db6fa96-7af1-4789-af2e-fddadbc53600",
   "metadata": {
    "editable": true,
    "slideshow": {
     "slide_type": ""
    },
    "tags": []
   },
   "outputs": [],
   "source": [
    "db_uri = f'sqlite:///../{db_path}'\n",
    "df = pd.read_sql_table(tbl, db_uri)\n",
    "df"
   ]
  },
  {
   "cell_type": "code",
   "execution_count": null,
   "id": "4652cc25-c7e3-45e2-81e8-101fab6326ad",
   "metadata": {
    "editable": true,
    "slideshow": {
     "slide_type": ""
    },
    "tags": []
   },
   "outputs": [],
   "source": [
    "(df.elapsed > 0).value_counts()"
   ]
  },
  {
   "cell_type": "code",
   "execution_count": null,
   "id": "9963d75a-1ad9-4bd2-af0d-978c125db329",
   "metadata": {
    "editable": true,
    "slideshow": {
     "slide_type": ""
    },
    "tags": []
   },
   "outputs": [],
   "source": [
    "df.n_rows.value_counts()"
   ]
  },
  {
   "cell_type": "code",
   "execution_count": null,
   "id": "3221add5-723e-459a-ac6d-0062c6943fd1",
   "metadata": {
    "editable": true,
    "slideshow": {
     "slide_type": ""
    },
    "tags": []
   },
   "outputs": [],
   "source": [
    "import plotly.express as px"
   ]
  },
  {
   "cell_type": "code",
   "execution_count": null,
   "id": "36875032-579e-4581-b34c-3b0dd0120bfd",
   "metadata": {
    "editable": true,
    "slideshow": {
     "slide_type": ""
    },
    "tags": []
   },
   "outputs": [],
   "source": [
    "n = df[df.fmt == 'np.array'].copy()\n",
    "chunk_sizes = list(map(str, sorted(n['soma_chunk_size'].unique())))\n",
    "n['soma_chunk_size'] = pd.Categorical(n['soma_chunk_size'].apply(str), categories=chunk_sizes)\n",
    "n['samples_per_sec'] = n.n_rows / n.elapsed\n",
    "n"
   ]
  },
  {
   "cell_type": "code",
   "execution_count": null,
   "id": "6e6a7a9b-7975-4bda-b689-e346a5a36b16",
   "metadata": {
    "editable": true,
    "slideshow": {
     "slide_type": ""
    },
    "tags": []
   },
   "outputs": [],
   "source": [
    "px.violin(\n",
    "    n,\n",
    "    x='soma_chunk_size',\n",
    "    y='samples_per_sec',\n",
    "    category_orders={\n",
    "        'soma_chunk_size': chunk_sizes,\n",
    "    },\n",
    "    box=True,\n",
    "    points=False,\n",
    "    #log_x=True,\n",
    ").update_layout(\n",
    "    plot_bgcolor='white',\n",
    ").update_traces(\n",
    "    hovertemplate=None,\n",
    ").update_xaxes(\n",
    "    gridcolor='#ccc',\n",
    ").update_yaxes(\n",
    "    gridcolor='#ccc',\n",
    "    zeroline=True,\n",
    "    zerolinecolor='#ccc',\n",
    "    zerolinewidth=1,\n",
    ")"
   ]
  },
  {
   "cell_type": "code",
   "execution_count": null,
   "id": "2ce4f76b-e2a4-46e2-98d4-0c03d683e415",
   "metadata": {
    "editable": true,
    "slideshow": {
     "slide_type": ""
    },
    "tags": []
   },
   "outputs": [],
   "source": []
  }
 ],
 "metadata": {
  "kernelspec": {
   "display_name": "Python 3 (ipykernel)",
   "language": "python",
   "name": "python3"
  },
  "language_info": {
   "codemirror_mode": {
    "name": "ipython",
    "version": 3
   },
   "file_extension": ".py",
   "mimetype": "text/x-python",
   "name": "python",
   "nbconvert_exporter": "python",
   "pygments_lexer": "ipython3",
   "version": "3.11.8"
  }
 },
 "nbformat": 4,
 "nbformat_minor": 5
}
