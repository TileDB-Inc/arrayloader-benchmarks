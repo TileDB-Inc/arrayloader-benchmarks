{
 "cells": [
  {
   "cell_type": "markdown",
   "id": "f26be066-35f1-4478-b99a-5f4b51f8b9f5",
   "metadata": {},
   "source": [
    "# Download census slice\n",
    "\n",
    "Download a local copy of [CELLxGENE Census](https://chanzuckerberg.github.io/cellxgene-census/), with several filters applied:\n",
    "- `collection_id` (default: `283d65eb-dd53-496d-adb7-7570c7caa443`)\n",
    "- Dataset `start`/`end` (default: `2:7`, ≈133k cells)\n",
    "- `n_vars` (default: 20k)\n",
    "\n",
    "By default, outputs are written to `data/census-benchmark_<start>:<end>` (see `out_dir` / `out_root=data` params below).\n",
    "\n",
    "## Execute this notebook with [Papermill](https://papermill.readthedocs.io/)\n",
    "\n",
    "**❗️❗️ NOTE: this notebook has been ported to the `alb download` CLI; use that instead, for programmatic execution. ❗️❗️**\n",
    "\n",
    "```bash\n",
    "nb=download-census-slice.ipynb\n",
    "mkdir -p out  # run notebook will be output here\n",
    "papermill $nb out/$nb\n",
    "\n",
    "# slice just one dataset:\n",
    "papermill $nb -p start 3 -p end 4 out/$nb\n",
    "```"
   ]
  },
  {
   "cell_type": "code",
   "execution_count": null,
   "id": "1e129fe5-c0f8-4d8e-939d-480c7bc615f0",
   "metadata": {
    "editable": true,
    "slideshow": {
     "slide_type": ""
    },
    "tags": []
   },
   "outputs": [],
   "source": [
    "from benchmarks.utils import *"
   ]
  },
  {
   "cell_type": "markdown",
   "id": "f4107133-f091-4f2b-80ac-4ebf06cc0fd0",
   "metadata": {
    "editable": true,
    "slideshow": {
     "slide_type": ""
    },
    "tags": []
   },
   "source": [
    "## [Papermill](https://papermill.readthedocs.io/en/latest/) params:"
   ]
  },
  {
   "cell_type": "code",
   "execution_count": null,
   "id": "ade92f2b-789f-4822-8707-437845013dc4",
   "metadata": {
    "editable": true,
    "slideshow": {
     "slide_type": ""
    },
    "tags": [
     "parameters"
    ]
   },
   "outputs": [],
   "source": [
    "census_uri = None\n",
    "census_version = \"2023-12-15\"\n",
    "\n",
    "collection_id = '283d65eb-dd53-496d-adb7-7570c7caa443'\n",
    "# Slice datasets from `collection_id`\n",
    "start = 2\n",
    "end = 7\n",
    "\n",
    "# Slice the first `n_vars` vars\n",
    "n_vars = 20_000\n",
    "\n",
    "out_root = \"data\"\n",
    "out_dir = None\n",
    "force = True  # rm existing out_dir before writing"
   ]
  },
  {
   "cell_type": "code",
   "execution_count": null,
   "id": "b7b9b1b0-e562-44c1-9847-dbc01822f61a",
   "metadata": {
    "editable": true,
    "slideshow": {
     "slide_type": ""
    },
    "tags": []
   },
   "outputs": [],
   "source": [
    "if out_dir is None:\n",
    "    suffix = \"\" if start is None and end is None else f\"_{start or ''}:{end or ''}\"\n",
    "    out_dir = f'{out_root}/census-benchmark{suffix}'\n",
    "else:\n",
    "    out_dir = f\"{out_root}/{out_dir}\"\n",
    "err(f\"Downloading to {out_dir}\")"
   ]
  },
  {
   "cell_type": "code",
   "execution_count": null,
   "id": "7420ba62-404b-4850-9268-b0c69fa73213",
   "metadata": {
    "editable": true,
    "slideshow": {
     "slide_type": ""
    },
    "tags": []
   },
   "outputs": [],
   "source": [
    "census = cellxgene_census.open_soma(uri=census_uri, census_version=census_version)\n",
    "datasets = get_dataset_ids(census, collection_id)\n",
    "len(datasets), datasets[:10]"
   ]
  },
  {
   "cell_type": "code",
   "execution_count": null,
   "id": "73e0d831-da5d-41e0-ac4b-ac9e2e359a90",
   "metadata": {
    "editable": true,
    "slideshow": {
     "slide_type": ""
    },
    "tags": []
   },
   "outputs": [],
   "source": [
    "exp = census[\"census_data\"][\"homo_sapiens\"]\n",
    "exp"
   ]
  },
  {
   "cell_type": "code",
   "execution_count": null,
   "id": "2e3c64a7-2a0c-46f6-88df-4af91fdded81",
   "metadata": {},
   "outputs": [],
   "source": [
    "from benchmarks.census import get_datasets_df\n",
    "ddf = get_datasets_df(census, collection_id)\n",
    "ddf"
   ]
  },
  {
   "cell_type": "code",
   "execution_count": null,
   "id": "ea0654bf-a381-4ca6-8ed6-8f0400b30821",
   "metadata": {},
   "outputs": [],
   "source": [
    "datasets = ddf.iloc[2:20][['dataset_id', 'dataset_title', 'dataset_total_cell_count']]\n",
    "datasets['sum_cells'] = datasets.dataset_total_cell_count.cumsum()\n",
    "datasets"
   ]
  },
  {
   "cell_type": "code",
   "execution_count": null,
   "id": "356f64a0-8d36-405c-9570-1edc6e35ad83",
   "metadata": {
    "editable": true,
    "slideshow": {
     "slide_type": ""
    },
    "tags": []
   },
   "outputs": [],
   "source": [
    "%%time\n",
    "download_datasets(exp, datasets, out_dir, start=start, end=end, n_vars=n_vars, rm=force)"
   ]
  },
  {
   "cell_type": "code",
   "execution_count": null,
   "id": "4d7be259-5a53-47cb-85ac-99b461e17626",
   "metadata": {
    "editable": true,
    "slideshow": {
     "slide_type": ""
    },
    "tags": []
   },
   "outputs": [],
   "source": [
    "h_size = check_output(['du', '-sh', out_dir]).decode().split('\\t')[0]\n",
    "print(f\"{out_dir}: {h_size}\")"
   ]
  }
 ],
 "metadata": {
  "kernelspec": {
   "display_name": "Python 3 (ipykernel)",
   "language": "python",
   "name": "python3"
  },
  "language_info": {
   "codemirror_mode": {
    "name": "ipython",
    "version": 3
   },
   "file_extension": ".py",
   "mimetype": "text/x-python",
   "name": "python",
   "nbconvert_exporter": "python",
   "pygments_lexer": "ipython3",
   "version": "3.11.8"
  }
 },
 "nbformat": 4,
 "nbformat_minor": 5
}
