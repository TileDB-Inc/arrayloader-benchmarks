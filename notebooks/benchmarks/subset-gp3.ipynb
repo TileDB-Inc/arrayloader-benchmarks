{
 "cells": [
  {
   "cell_type": "markdown",
   "metadata": {
    "tags": []
   },
   "source": [
    "## Benchmark loading CELLxGENE Census data in Pytorch\n",
    "\n",
    "Run this notebook via [Papermill](https://papermill.readthedocs.io/en/latest/) / the [`execute-nb`](https://github.com/ryan-williams/arrayloader-benchmarks/blob/main/execute-nb) wrapper\n",
    "\n",
    "```bash\n",
    "./execute-nb us-east-1  # from a g4dn.8xlarge in us-east-1\n",
    "./execute-nb us-west-2  # from a g4dn.8xlarge in us-west-2\n",
    "./execute-nb local-nvme -p census_uri '/mnt/nvme/s3/cellxgene-census-public-us-west-2/cell-census/2023-12-15/soma'\n",
    "./execute-nb subset-nvme -p experiment_uri '/mnt/nvme/census-benchmark_2:7' -p n_vars 0  # 20k vars already sliced\n",
    "./execute-nb subset-gp3 -p experiment_uri 'data/census-benchmark_2:7' -p n_vars 0  # 20k vars already sliced\n",
    "```\n",
    "See [README](https://github.com/ryan-williams/arrayloader-benchmarks?tab=readme-ov-file#census-timing-vs-data-locality) for more info."
   ]
  },
  {
   "cell_type": "markdown",
   "metadata": {
    "tags": []
   },
   "source": [
    "**⚠️ This notebook was run with a modified `cellxgene_census` library; see [`main...ryan-williams:cellxgene-census`](https://github.com/chanzuckerberg/cellxgene-census/compare/main...ryan-williams:cellxgene-census:stats?expand=1) ⚠️**"
   ]
  },
  {
   "cell_type": "code",
   "execution_count": 1,
   "metadata": {
    "tags": []
   },
   "outputs": [],
   "source": [
    "from benchmark import *\n",
    "from utils import *\n",
    "\n",
    "from cellxgene_census.experimental.ml import ExperimentDataPipe, experiment_dataloader\n",
    "from cellxgene_census.experimental.ml.pytorch import pytorch_logger\n",
    "import torch\n",
    "from torch.utils.data import DataLoader\n",
    "torch.ones(2).cuda();"
   ]
  },
  {
   "cell_type": "markdown",
   "metadata": {
    "tags": []
   },
   "source": [
    "### [Papermill](https://papermill.readthedocs.io/en/latest/) params:"
   ]
  },
  {
   "cell_type": "code",
   "execution_count": 2,
   "metadata": {
    "editable": true,
    "slideshow": {
     "slide_type": ""
    },
    "tags": [
     "parameters"
    ]
   },
   "outputs": [],
   "source": [
    "# Set this to read from a local path\n",
    "experiment_uri = 'data/census-benchmark_2:7'\n",
    "\n",
    "# None ⟹ fetch from S3\n",
    "census_uri = None\n",
    "#census_uri = '/mnt/nvme/s3/cellxgene-census-public-us-west-2/cell-census/2023-12-15/soma'\n",
    "census_version = \"2023-12-15\"\n",
    "\n",
    "# By default:\n",
    "# - `subset` if `experiment_uri` is a local path\n",
    "# - `local` if `census_uri` is a local path\n",
    "# - current (EC2 instance) region if `census_uri` is None (e.g. `us-east-1`, `us-west-2`)\n",
    "name = 'subset-gp3-dbg'\n",
    "\n",
    "collection_id = '283d65eb-dd53-496d-adb7-7570c7caa443'\n",
    "# Slice datasets from `collection_id`\n",
    "start = 2\n",
    "end = 7\n",
    "\n",
    "n_epochs = 1\n",
    "batch_size = 1024\n",
    "\n",
    "# Defaults to 20_000 when fetching from S3. Local subsets (when `experiment_uri` is set)\n",
    "# are assumed to have already been var-sliced.\n",
    "n_vars = None\n",
    "\n",
    "soma_chunk_size = 10_000\n",
    "gc_freq: Optional[int] = None  # When set, run `gc.collect()` every `gc_freq` batches\n",
    "exclude_first_batch = True\n",
    "progress_bar = True\n",
    "torch_log_level = \"DEBUG\"\n",
    "\n",
    "# Plot configs\n",
    "ann_cutoff = .5  # Annotate plot with values for batch timings greater than this threshold\n",
    "log_plot = False\n",
    "width = 1200\n",
    "height = 700"
   ]
  },
  {
   "cell_type": "code",
   "execution_count": 3,
   "metadata": {
    "tags": [
     "injected-parameters"
    ]
   },
   "outputs": [],
   "source": [
    "# Parameters\n",
    "name = \"subset-gp3\"\n",
    "progress_bar = False\n"
   ]
  },
  {
   "cell_type": "code",
   "execution_count": 4,
   "metadata": {
    "tags": []
   },
   "outputs": [],
   "source": [
    "pytorch_logger.setLevel(torch_log_level)"
   ]
  },
  {
   "cell_type": "code",
   "execution_count": 5,
   "metadata": {
    "editable": true,
    "slideshow": {
     "slide_type": ""
    },
    "tags": []
   },
   "outputs": [
    {
     "name": "stderr",
     "output_type": "stream",
     "text": [
      "Loading experiment data/census-benchmark_2:7\n"
     ]
    },
    {
     "data": {
      "text/plain": [
       "<Experiment 'data/census-benchmark_2:7' (open for 'r') (2 items)\n",
       "    'obs': 'file:///home/ec2-user/arrayloader-benchmarks/data/census-benchmark_2:7/obs' (unopened)\n",
       "    'ms': 'file:///home/ec2-user/arrayloader-benchmarks/data/census-benchmark_2:7/ms' (unopened)>"
      ]
     },
     "execution_count": 5,
     "metadata": {},
     "output_type": "execute_result"
    }
   ],
   "source": [
    "if experiment_uri:\n",
    "    err(f\"Loading experiment {experiment_uri}\")\n",
    "    with profile('open'):\n",
    "        experiment = Experiment.open(experiment_uri)\n",
    "    obs_query = None\n",
    "    var_query = None\n",
    "    if name is None:\n",
    "        scheme = urlparse(experiment_uri).scheme\n",
    "        if is_local(experiment_uri):\n",
    "            name = 'subset'\n",
    "else:\n",
    "    if not census_uri:\n",
    "        census_uri = None\n",
    "    \n",
    "    if name is None:\n",
    "        if census_uri and is_local(census_uri):\n",
    "            name = 'local'\n",
    "        else:\n",
    "            name = get_region()\n",
    "    \n",
    "    err(f\"Loading census ({name})\")\n",
    "\n",
    "    with profile('open_soma'):\n",
    "        census = cellxgene_census.open_soma(uri=census_uri, census_version=census_version)\n",
    "    \n",
    "    datasets = get_dataset_ids(census, collection_id, 'datasets')\n",
    "    err(f\"{len(datasets)} datasets: {datasets[:10]}\")\n",
    "    \n",
    "    experiment = census[\"census_data\"][\"homo_sapiens\"]\n",
    "    ds = datasets[slice(start, end)]\n",
    "    datasets_query = \"dataset_id in \" + str(ds)\n",
    "    obs_query = AxisQuery(value_filter=datasets_query)\n",
    "    if n_vars is None:\n",
    "        n_vars = 20_000\n",
    "    var_query = AxisQuery(coords=(slice(n_vars - 1),)) if n_vars else None\n",
    "\n",
    "if not name:\n",
    "    raise ValueError(\"`name` not set\")\n",
    "\n",
    "experiment"
   ]
  },
  {
   "cell_type": "code",
   "execution_count": 6,
   "metadata": {
    "tags": []
   },
   "outputs": [
    {
     "name": "stdout",
     "output_type": "stream",
     "text": [
      "CPU times: user 241 µs, sys: 4.03 ms, total: 4.27 ms\n",
      "Wall time: 3.9 ms\n"
     ]
    },
    {
     "data": {
      "text/plain": [
       "Exp(datapipe=ExperimentDataPipe, loader=<torch.utils.data.dataloader.DataLoader object at 0x7fa446af6d10>)"
      ]
     },
     "execution_count": 6,
     "metadata": {},
     "output_type": "execute_result"
    }
   ],
   "source": [
    "%%time\n",
    "with profile('get_exp_datapipe'):\n",
    "    experiment_datapipe = ExperimentDataPipe(\n",
    "        experiment,\n",
    "        measurement_name=\"RNA\",\n",
    "        X_name=\"raw\",\n",
    "        obs_query=obs_query,\n",
    "        var_query=var_query,\n",
    "        batch_size=batch_size,\n",
    "        shuffle=True,\n",
    "        soma_chunk_size=soma_chunk_size,\n",
    "    )\n",
    "    loader = experiment_dataloader(experiment_datapipe)\n",
    "exp = Exp(experiment_datapipe, loader)\n",
    "exp"
   ]
  },
  {
   "cell_type": "code",
   "execution_count": 7,
   "metadata": {
    "tags": []
   },
   "outputs": [
    {
     "name": "stderr",
     "output_type": "stream",
     "text": [
      "Initializing ExperimentDataPipe\n"
     ]
    },
    {
     "name": "stderr",
     "output_type": "stream",
     "text": [
      "Initializing encoders\n"
     ]
    },
    {
     "name": "stdout",
     "output_type": "stream",
     "text": [
      "Data shape: (133790, 20000), pid 23514\n",
      "CPU times: user 68.8 ms, sys: 30 ms, total: 98.9 ms\n",
      "Wall time: 38.5 ms\n"
     ]
    }
   ],
   "source": [
    "%%time\n",
    "print(f\"Data shape: {exp.datapipe.shape}, pid {os.getpid()}\")"
   ]
  },
  {
   "cell_type": "markdown",
   "metadata": {
    "tags": []
   },
   "source": [
    "## Run benchmark"
   ]
  },
  {
   "cell_type": "code",
   "execution_count": 8,
   "metadata": {
    "tags": []
   },
   "outputs": [
    {
     "name": "stderr",
     "output_type": "stream",
     "text": [
      "Using self.soma_chunk_size=10000\n"
     ]
    },
    {
     "name": "stderr",
     "output_type": "stream",
     "text": [
      "Shuffling 133790 obs joinids into 14 chunks of 10000\n"
     ]
    },
    {
     "name": "stderr",
     "output_type": "stream",
     "text": [
      "Process 23514 handling partition 1 of 1, partition_size=133790\n"
     ]
    },
    {
     "name": "stderr",
     "output_type": "stream",
     "text": [
      "Retrieving next SOMA chunk...\n"
     ]
    },
    {
     "name": "stderr",
     "output_type": "stream",
     "text": [
      "gc:  pre=(pfullmem(rss=1906778112, vms=25984286720, shared=543485952, text=3342336, lib=0, data=10635882496, dirty=0, uss=1866719232, pss=1881084928, swap=0), svmem(total=133636747264, available=129455206400, percent=3.1, used=2901790720, free=111138603008, active=8114593792, inactive=12500934656, buffers=2768896, cached=19593584640, shared=13348864, slab=1137565696), sswap(total=0, used=0, free=0, percent=0.0, sin=0, sout=0))\n"
     ]
    },
    {
     "name": "stderr",
     "output_type": "stream",
     "text": [
      "gc: post=(pfullmem(rss=1907617792, vms=26005262336, shared=543485952, text=3342336, lib=0, data=10672599040, dirty=0, uss=1869774848, pss=1884150784, swap=0), svmem(total=133636747264, available=129452744704, percent=3.1, used=2904252416, free=111136141312, active=8116785152, inactive=12500934656, buffers=2768896, cached=19593584640, shared=13348864, slab=1137467392), sswap(total=0, used=0, free=0, percent=0.0, sin=0, sout=0))\n"
     ]
    },
    {
     "name": "stderr",
     "output_type": "stream",
     "text": [
      "Retrieved SOMA chunk: self.n_soma_chunks=1, self.n_obs=9556, self.nnz=33892022, elapsed=0:00:04.019550\n"
     ]
    },
    {
     "name": "stderr",
     "output_type": "stream",
     "text": [
      "Retrieved SOMA chunk totals: self.n_soma_chunks=1, self.n_obs=9556, self.nnz=33892022, elapsed=0:00:04.019550, gc_elapsed=0:00:00.130967\n"
     ]
    },
    {
     "name": "stderr",
     "output_type": "stream",
     "text": [
      "Retrieving next SOMA chunk...\n"
     ]
    },
    {
     "name": "stderr",
     "output_type": "stream",
     "text": [
      "gc:  pre=(pfullmem(rss=4414926848, vms=33097240576, shared=546684928, text=3342336, lib=0, data=16373112832, dirty=0, uss=4379938816, pss=4394380288, swap=0), svmem(total=133636747264, available=126945193984, percent=5.0, used=5411803136, free=108627566592, active=10622963712, inactive=12500770816, buffers=2768896, cached=19594608640, shared=13348864, slab=1138704384), sswap(total=0, used=0, free=0, percent=0.0, sin=0, sout=0))\n"
     ]
    },
    {
     "name": "stderr",
     "output_type": "stream",
     "text": [
      "gc: post=(pfullmem(rss=4414926848, vms=33097240576, shared=546684928, text=3342336, lib=0, data=16373112832, dirty=0, uss=4379938816, pss=4394380288, swap=0), svmem(total=133636747264, available=126945193984, percent=5.0, used=5411803136, free=108627566592, active=10622963712, inactive=12500770816, buffers=2768896, cached=19594608640, shared=13348864, slab=1138704384), sswap(total=0, used=0, free=0, percent=0.0, sin=0, sout=0))\n"
     ]
    },
    {
     "name": "stderr",
     "output_type": "stream",
     "text": [
      "Retrieved SOMA chunk: self.n_soma_chunks=1, self.n_obs=9557, self.nnz=33919521, elapsed=0:00:04.143854\n"
     ]
    },
    {
     "name": "stderr",
     "output_type": "stream",
     "text": [
      "Retrieved SOMA chunk totals: self.n_soma_chunks=2, self.n_obs=19113, self.nnz=67811543, elapsed=0:00:08.163404, gc_elapsed=0:00:00.272438\n"
     ]
    },
    {
     "name": "stderr",
     "output_type": "stream",
     "text": [
      "Retrieving next SOMA chunk...\n"
     ]
    },
    {
     "name": "stderr",
     "output_type": "stream",
     "text": [
      "gc:  pre=(pfullmem(rss=5388173312, vms=37049352192, shared=546684928, text=3342336, lib=0, data=19991142400, dirty=0, uss=5353320448, pss=5367761920, swap=0), svmem(total=133636747264, available=125969690624, percent=5.7, used=6387306496, free=107652063232, active=11596296192, inactive=12500770816, buffers=2768896, cached=19594608640, shared=13348864, slab=1138704384), sswap(total=0, used=0, free=0, percent=0.0, sin=0, sout=0))\n"
     ]
    },
    {
     "name": "stderr",
     "output_type": "stream",
     "text": [
      "gc: post=(pfullmem(rss=3221446656, vms=32993529856, shared=546684928, text=3342336, lib=0, data=15935320064, dirty=0, uss=3186593792, pss=3201035264, swap=0), svmem(total=133636747264, available=128139296768, percent=4.1, used=4217700352, free=109821669376, active=9429626880, inactive=12500770816, buffers=2768896, cached=19594608640, shared=13348864, slab=1138704384), sswap(total=0, used=0, free=0, percent=0.0, sin=0, sout=0))\n"
     ]
    },
    {
     "name": "stderr",
     "output_type": "stream",
     "text": [
      "Retrieved SOMA chunk: self.n_soma_chunks=1, self.n_obs=9556, self.nnz=16207697, elapsed=0:00:02.268058\n"
     ]
    },
    {
     "name": "stderr",
     "output_type": "stream",
     "text": [
      "Retrieved SOMA chunk totals: self.n_soma_chunks=3, self.n_obs=28669, self.nnz=84019240, elapsed=0:00:10.431463, gc_elapsed=0:00:00.450883\n"
     ]
    },
    {
     "name": "stderr",
     "output_type": "stream",
     "text": [
      "Retrieving next SOMA chunk...\n"
     ]
    },
    {
     "name": "stderr",
     "output_type": "stream",
     "text": [
      "gc:  pre=(pfullmem(rss=4877275136, vms=37107281920, shared=546684928, text=3342336, lib=0, data=19782782976, dirty=0, uss=4843732992, pss=4858174464, swap=0), svmem(total=133636747264, available=126480519168, percent=5.4, used=5876477952, free=108162891776, active=11086409728, inactive=12500770816, buffers=2768896, cached=19594608640, shared=13348864, slab=1138704384), sswap(total=0, used=0, free=0, percent=0.0, sin=0, sout=0))\n"
     ]
    },
    {
     "name": "stderr",
     "output_type": "stream",
     "text": [
      "gc: post=(pfullmem(rss=3630862336, vms=33496641536, shared=546684928, text=3342336, lib=0, data=16172142592, dirty=0, uss=3597320192, pss=3611761664, swap=0), svmem(total=133636747264, available=127727738880, percent=4.4, used=4629258240, free=109410111488, active=9839947776, inactive=12500770816, buffers=2768896, cached=19594608640, shared=13348864, slab=1138704384), sswap(total=0, used=0, free=0, percent=0.0, sin=0, sout=0))\n"
     ]
    },
    {
     "name": "stderr",
     "output_type": "stream",
     "text": [
      "Retrieved SOMA chunk: self.n_soma_chunks=1, self.n_obs=9557, self.nnz=25249271, elapsed=0:00:03.193629\n"
     ]
    },
    {
     "name": "stderr",
     "output_type": "stream",
     "text": [
      "Retrieved SOMA chunk totals: self.n_soma_chunks=4, self.n_obs=38226, self.nnz=109268511, elapsed=0:00:13.625092, gc_elapsed=0:00:00.617591\n"
     ]
    },
    {
     "name": "stderr",
     "output_type": "stream",
     "text": [
      "Retrieving next SOMA chunk...\n"
     ]
    },
    {
     "name": "stderr",
     "output_type": "stream",
     "text": [
      "gc:  pre=(pfullmem(rss=5794787328, vms=37660033024, shared=546684928, text=3342336, lib=0, data=20068630528, dirty=0, uss=5761032192, pss=5775302656, swap=0), svmem(total=133636747264, available=125518397440, percent=6.1, used=6838554624, free=107199492096, active=12047626240, inactive=12501929984, buffers=2768896, cached=19595931648, shared=13348864, slab=1138827264), sswap(total=0, used=0, free=0, percent=0.0, sin=0, sout=0))\n"
     ]
    },
    {
     "name": "stderr",
     "output_type": "stream",
     "text": [
      "gc: post=(pfullmem(rss=4116905984, vms=33802792960, shared=546684928, text=3342336, lib=0, data=16211390464, dirty=0, uss=4083150848, pss=4097421312, swap=0), svmem(total=133636747264, available=127198162944, percent=4.8, used=5158834176, free=108860936192, active=10370170880, inactive=12519608320, buffers=2768896, cached=19614208000, shared=13348864, slab=1139482624), sswap(total=0, used=0, free=0, percent=0.0, sin=0, sout=0))\n"
     ]
    },
    {
     "name": "stderr",
     "output_type": "stream",
     "text": [
      "Retrieved SOMA chunk: self.n_soma_chunks=1, self.n_obs=9557, self.nnz=31183978, elapsed=0:00:03.994303\n"
     ]
    },
    {
     "name": "stderr",
     "output_type": "stream",
     "text": [
      "Retrieved SOMA chunk totals: self.n_soma_chunks=5, self.n_obs=47783, self.nnz=140452489, elapsed=0:00:17.619395, gc_elapsed=0:00:00.796526\n"
     ]
    },
    {
     "name": "stderr",
     "output_type": "stream",
     "text": [
      "Retrieving next SOMA chunk...\n"
     ]
    },
    {
     "name": "stderr",
     "output_type": "stream",
     "text": [
      "gc:  pre=(pfullmem(rss=5963132928, vms=38672953344, shared=546684928, text=3342336, lib=0, data=20814356480, dirty=0, uss=5929963520, pss=5944404992, swap=0), svmem(total=133636747264, available=125381595136, percent=6.2, used=6975410176, free=107015864320, active=12172931072, inactive=12545994752, buffers=2768896, cached=19642703872, shared=13348864, slab=1142030336), sswap(total=0, used=0, free=0, percent=0.0, sin=0, sout=0))\n"
     ]
    },
    {
     "name": "stderr",
     "output_type": "stream",
     "text": [
      "gc: post=(pfullmem(rss=4038344704, vms=34684149760, shared=546684928, text=3342336, lib=0, data=16825552896, dirty=0, uss=4005175296, pss=4019616768, swap=0), svmem(total=133636747264, available=127307505664, percent=4.7, used=5049499648, free=108941774848, active=10250084352, inactive=12545994752, buffers=2768896, cached=19642703872, shared=13348864, slab=1142030336), sswap(total=0, used=0, free=0, percent=0.0, sin=0, sout=0))\n"
     ]
    },
    {
     "name": "stderr",
     "output_type": "stream",
     "text": [
      "Retrieved SOMA chunk: self.n_soma_chunks=1, self.n_obs=9556, self.nnz=27197660, elapsed=0:00:03.295157\n"
     ]
    },
    {
     "name": "stderr",
     "output_type": "stream",
     "text": [
      "Retrieved SOMA chunk totals: self.n_soma_chunks=6, self.n_obs=57339, self.nnz=167650149, elapsed=0:00:20.914552, gc_elapsed=0:00:00.979501\n"
     ]
    },
    {
     "name": "stderr",
     "output_type": "stream",
     "text": [
      "Retrieving next SOMA chunk...\n"
     ]
    },
    {
     "name": "stderr",
     "output_type": "stream",
     "text": [
      "gc:  pre=(pfullmem(rss=4920520704, vms=38452097024, shared=546684928, text=3342336, lib=0, data=20392579072, dirty=0, uss=4874907648, pss=4889340928, swap=0), svmem(total=133636747264, available=126547587072, percent=5.3, used=5926862848, free=108064403456, active=11016986624, inactive=12661907456, buffers=2768896, cached=19642712064, shared=13348864, slab=1142009856), sswap(total=0, used=0, free=0, percent=0.0, sin=0, sout=0))\n"
     ]
    },
    {
     "name": "stderr",
     "output_type": "stream",
     "text": [
      "gc: post=(pfullmem(rss=3559538688, vms=34576031744, shared=546684928, text=3342336, lib=0, data=16516513792, dirty=0, uss=3526971392, pss=3541412864, swap=0), svmem(total=133636747264, available=127906119680, percent=4.3, used=4568330240, free=109422936064, active=9654960128, inactive=12661907456, buffers=2768896, cached=19642712064, shared=13348864, slab=1142009856), sswap(total=0, used=0, free=0, percent=0.0, sin=0, sout=0))\n"
     ]
    },
    {
     "name": "stderr",
     "output_type": "stream",
     "text": [
      "Retrieved SOMA chunk: self.n_soma_chunks=1, self.n_obs=9556, self.nnz=14032495, elapsed=0:00:01.963885\n"
     ]
    },
    {
     "name": "stderr",
     "output_type": "stream",
     "text": [
      "Retrieved SOMA chunk totals: self.n_soma_chunks=7, self.n_obs=66895, self.nnz=181682644, elapsed=0:00:22.878437, gc_elapsed=0:00:01.152538\n"
     ]
    },
    {
     "name": "stderr",
     "output_type": "stream",
     "text": [
      "Retrieving next SOMA chunk...\n"
     ]
    },
    {
     "name": "stderr",
     "output_type": "stream",
     "text": [
      "gc:  pre=(pfullmem(rss=4762492928, vms=38386823168, shared=546684928, text=3342336, lib=0, data=20327903232, dirty=0, uss=4729630720, pss=4744072192, swap=0), svmem(total=133636747264, available=126625632256, percent=5.2, used=5764919296, free=108226347008, active=10940915712, inactive=12578009088, buffers=2768896, cached=19642712064, shared=13348864, slab=1142149120), sswap(total=0, used=0, free=0, percent=0.0, sin=0, sout=0))\n"
     ]
    },
    {
     "name": "stderr",
     "output_type": "stream",
     "text": [
      "gc: post=(pfullmem(rss=3559698432, vms=34812452864, shared=546684928, text=3342336, lib=0, data=16753532928, dirty=0, uss=3526836224, pss=3541277696, swap=0), svmem(total=133636747264, available=127908265984, percent=4.3, used=4561002496, free=109430263808, active=9659207680, inactive=12656726016, buffers=2768896, cached=19642712064, shared=13348864, slab=1142149120), sswap(total=0, used=0, free=0, percent=0.0, sin=0, sout=0))\n"
     ]
    },
    {
     "name": "stderr",
     "output_type": "stream",
     "text": [
      "Retrieved SOMA chunk: self.n_soma_chunks=1, self.n_obs=9557, self.nnz=24919121, elapsed=0:00:03.204135\n"
     ]
    },
    {
     "name": "stderr",
     "output_type": "stream",
     "text": [
      "Retrieved SOMA chunk totals: self.n_soma_chunks=8, self.n_obs=76452, self.nnz=206601765, elapsed=0:00:26.082572, gc_elapsed=0:00:01.329495\n"
     ]
    },
    {
     "name": "stderr",
     "output_type": "stream",
     "text": [
      "Retrieving next SOMA chunk...\n"
     ]
    },
    {
     "name": "stderr",
     "output_type": "stream",
     "text": [
      "gc:  pre=(pfullmem(rss=6113443840, vms=39025868800, shared=546684928, text=3342336, lib=0, data=20967219200, dirty=0, uss=6081413120, pss=6095854592, swap=0), svmem(total=133636747264, available=125236154368, percent=6.3, used=7124000768, free=106867257344, active=12323381248, inactive=12547629056, buffers=2768896, cached=19642720256, shared=13348864, slab=1142124544), sswap(total=0, used=0, free=0, percent=0.0, sin=0, sout=0))\n"
     ]
    },
    {
     "name": "stderr",
     "output_type": "stream",
     "text": [
      "gc: post=(pfullmem(rss=4328615936, vms=35186601984, shared=546684928, text=3342336, lib=0, data=17127952384, dirty=0, uss=4296585216, pss=4311026688, swap=0), svmem(total=133636747264, available=127023226880, percent=4.9, used=5336928256, free=108654329856, active=10538225664, inactive=12547629056, buffers=2768896, cached=19642720256, shared=13348864, slab=1142190080), sswap(total=0, used=0, free=0, percent=0.0, sin=0, sout=0))\n"
     ]
    },
    {
     "name": "stderr",
     "output_type": "stream",
     "text": [
      "Retrieved SOMA chunk: self.n_soma_chunks=1, self.n_obs=9556, self.nnz=35898436, elapsed=0:00:04.478140\n"
     ]
    },
    {
     "name": "stderr",
     "output_type": "stream",
     "text": [
      "Retrieved SOMA chunk totals: self.n_soma_chunks=9, self.n_obs=86008, self.nnz=242500201, elapsed=0:00:30.560711, gc_elapsed=0:00:01.513218\n"
     ]
    },
    {
     "name": "stderr",
     "output_type": "stream",
     "text": [
      "Retrieving next SOMA chunk...\n"
     ]
    },
    {
     "name": "stderr",
     "output_type": "stream",
     "text": [
      "gc:  pre=(pfullmem(rss=5824860160, vms=38905085952, shared=546684928, text=3342336, lib=0, data=20847046656, dirty=0, uss=5792665600, pss=5807107072, swap=0), svmem(total=133636747264, available=125528526848, percent=6.1, used=6828478464, free=107162763264, active=12037074944, inactive=12544491520, buffers=2768896, cached=19642736640, shared=13348864, slab=1142202368), sswap(total=0, used=0, free=0, percent=0.0, sin=0, sout=0))\n"
     ]
    },
    {
     "name": "stderr",
     "output_type": "stream",
     "text": [
      "gc: post=(pfullmem(rss=3715846144, vms=34743099392, shared=546684928, text=3342336, lib=0, data=16685060096, dirty=0, uss=3683602432, pss=3698043904, swap=0), svmem(total=133636747264, available=127640420352, percent=4.5, used=4716584960, free=109274656768, active=9928179712, inactive=12544491520, buffers=2768896, cached=19642736640, shared=13348864, slab=1142202368), sswap(total=0, used=0, free=0, percent=0.0, sin=0, sout=0))\n"
     ]
    },
    {
     "name": "stderr",
     "output_type": "stream",
     "text": [
      "Retrieved SOMA chunk: self.n_soma_chunks=1, self.n_obs=9556, self.nnz=19339142, elapsed=0:00:02.467863\n"
     ]
    },
    {
     "name": "stderr",
     "output_type": "stream",
     "text": [
      "Retrieved SOMA chunk totals: self.n_soma_chunks=10, self.n_obs=95564, self.nnz=261839343, elapsed=0:00:33.028575, gc_elapsed=0:00:01.689265\n"
     ]
    },
    {
     "name": "stderr",
     "output_type": "stream",
     "text": [
      "Retrieving next SOMA chunk...\n"
     ]
    },
    {
     "name": "stderr",
     "output_type": "stream",
     "text": [
      "gc:  pre=(pfullmem(rss=5213388800, vms=38637948928, shared=546684928, text=3342336, lib=0, data=20580610048, dirty=0, uss=5181628416, pss=5196069888, swap=0), svmem(total=133636747264, available=126140760064, percent=5.6, used=6216245248, free=107774996480, active=11426078720, inactive=12544491520, buffers=2768896, cached=19642736640, shared=13348864, slab=1142185984), sswap(total=0, used=0, free=0, percent=0.0, sin=0, sout=0))\n"
     ]
    },
    {
     "name": "stderr",
     "output_type": "stream",
     "text": [
      "gc: post=(pfullmem(rss=3807354880, vms=34929721344, shared=546684928, text=3342336, lib=0, data=16872382464, dirty=0, uss=3775594496, pss=3790035968, swap=0), svmem(total=133636747264, available=127548669952, percent=4.6, used=4808335360, free=109182906368, active=10020134912, inactive=12544491520, buffers=2768896, cached=19642736640, shared=13348864, slab=1142185984), sswap(total=0, used=0, free=0, percent=0.0, sin=0, sout=0))\n"
     ]
    },
    {
     "name": "stderr",
     "output_type": "stream",
     "text": [
      "Retrieved SOMA chunk: self.n_soma_chunks=1, self.n_obs=9557, self.nnz=27269678, elapsed=0:00:03.356158\n"
     ]
    },
    {
     "name": "stderr",
     "output_type": "stream",
     "text": [
      "Retrieved SOMA chunk totals: self.n_soma_chunks=11, self.n_obs=105121, self.nnz=289109021, elapsed=0:00:36.384732, gc_elapsed=0:00:01.872976\n"
     ]
    },
    {
     "name": "stderr",
     "output_type": "stream",
     "text": [
      "Retrieving next SOMA chunk...\n"
     ]
    },
    {
     "name": "stderr",
     "output_type": "stream",
     "text": [
      "gc:  pre=(pfullmem(rss=6309937152, vms=39135772672, shared=546684928, text=3342336, lib=0, data=21079425024, dirty=0, uss=6277955584, pss=6292397056, swap=0), svmem(total=133636747264, available=125043953664, percent=6.4, used=7313051648, free=106678190080, active=12522819584, inactive=12544491520, buffers=2768896, cached=19642736640, shared=13348864, slab=1142194176), sswap(total=0, used=0, free=0, percent=0.0, sin=0, sout=0))\n"
     ]
    },
    {
     "name": "stderr",
     "output_type": "stream",
     "text": [
      "gc: post=(pfullmem(rss=4344872960, vms=35233792000, shared=546684928, text=3342336, lib=0, data=17177444352, dirty=0, uss=4312891392, pss=4327332864, swap=0), svmem(total=133636747264, available=127009886208, percent=5.0, used=5347119104, free=108644122624, active=10559299584, inactive=12544491520, buffers=2768896, cached=19642736640, shared=13348864, slab=1142194176), sswap(total=0, used=0, free=0, percent=0.0, sin=0, sout=0))\n"
     ]
    },
    {
     "name": "stderr",
     "output_type": "stream",
     "text": [
      "Retrieved SOMA chunk: self.n_soma_chunks=1, self.n_obs=9557, self.nnz=34774431, elapsed=0:00:04.331068\n"
     ]
    },
    {
     "name": "stderr",
     "output_type": "stream",
     "text": [
      "Retrieved SOMA chunk totals: self.n_soma_chunks=12, self.n_obs=114678, self.nnz=323883452, elapsed=0:00:40.715801, gc_elapsed=0:00:02.057564\n"
     ]
    },
    {
     "name": "stderr",
     "output_type": "stream",
     "text": [
      "Retrieving next SOMA chunk...\n"
     ]
    },
    {
     "name": "stderr",
     "output_type": "stream",
     "text": [
      "gc:  pre=(pfullmem(rss=6429523968, vms=39207432192, shared=546684928, text=3342336, lib=0, data=21151883264, dirty=0, uss=6398222336, pss=6412663808, swap=0), svmem(total=133636747264, available=124928311296, percent=6.5, used=7433940992, free=106557300736, active=12637302784, inactive=12549738496, buffers=2768896, cached=19642736640, shared=13348864, slab=1142194176), sswap(total=0, used=0, free=0, percent=0.0, sin=0, sout=0))\n"
     ]
    },
    {
     "name": "stderr",
     "output_type": "stream",
     "text": [
      "gc: post=(pfullmem(rss=4246257664, vms=35151548416, shared=546684928, text=3342336, lib=0, data=17095999488, dirty=0, uss=4214956032, pss=4229397504, swap=0), svmem(total=133636747264, available=127114518528, percent=4.9, used=5247733760, free=108743507968, active=10454151168, inactive=12549738496, buffers=2768896, cached=19642736640, shared=13348864, slab=1142194176), sswap(total=0, used=0, free=0, percent=0.0, sin=0, sout=0))\n"
     ]
    },
    {
     "name": "stderr",
     "output_type": "stream",
     "text": [
      "Retrieved SOMA chunk: self.n_soma_chunks=1, self.n_obs=9556, self.nnz=29214437, elapsed=0:00:03.368509\n"
     ]
    },
    {
     "name": "stderr",
     "output_type": "stream",
     "text": [
      "Retrieved SOMA chunk totals: self.n_soma_chunks=13, self.n_obs=124234, self.nnz=353097889, elapsed=0:00:44.084310, gc_elapsed=0:00:02.248535\n"
     ]
    },
    {
     "name": "stderr",
     "output_type": "stream",
     "text": [
      "Retrieving next SOMA chunk...\n"
     ]
    },
    {
     "name": "stderr",
     "output_type": "stream",
     "text": [
      "gc:  pre=(pfullmem(rss=5222559744, vms=38760202240, shared=546684928, text=3342336, lib=0, data=20704751616, dirty=0, uss=5190643712, pss=5205085184, swap=0), svmem(total=133636747264, available=126303944704, percent=5.5, used=6226083840, free=107765157888, active=11262472192, inactive=12717514752, buffers=2768896, cached=19642736640, shared=13348864, slab=1142202368), sswap(total=0, used=0, free=0, percent=0.0, sin=0, sout=0))\n"
     ]
    },
    {
     "name": "stderr",
     "output_type": "stream",
     "text": [
      "gc: post=(pfullmem(rss=3486674944, vms=34668478464, shared=546684928, text=3342336, lib=0, data=16613634048, dirty=0, uss=3454763008, pss=3469204480, swap=0), svmem(total=133636747264, available=128042672128, percent=4.2, used=4487356416, free=109503885312, active=9526263808, inactive=12717514752, buffers=2768896, cached=19642736640, shared=13348864, slab=1142202368), sswap(total=0, used=0, free=0, percent=0.0, sin=0, sout=0))\n"
     ]
    },
    {
     "name": "stderr",
     "output_type": "stream",
     "text": [
      "Retrieved SOMA chunk: self.n_soma_chunks=1, self.n_obs=9556, self.nnz=17489698, elapsed=0:00:02.371468\n"
     ]
    },
    {
     "name": "stderr",
     "output_type": "stream",
     "text": [
      "Retrieved SOMA chunk totals: self.n_soma_chunks=14, self.n_obs=133790, self.nnz=370587587, elapsed=0:00:46.455778, gc_elapsed=0:00:02.414946\n"
     ]
    },
    {
     "name": "stderr",
     "output_type": "stream",
     "text": [
      "Retrieving next SOMA chunk...\n"
     ]
    },
    {
     "name": "stderr",
     "output_type": "stream",
     "text": [
      "gc:  pre=(pfullmem(rss=3591786496, vms=34841583616, shared=546684928, text=3342336, lib=0, data=16786739200, dirty=0, uss=3559874560, pss=3574316032, swap=0), svmem(total=133636747264, available=127931342848, percent=4.3, used=4598685696, free=109392535552, active=9632624640, inactive=12717510656, buffers=2768896, cached=19642757120, shared=13348864, slab=1142157312), sswap(total=0, used=0, free=0, percent=0.0, sin=0, sout=0))\n"
     ]
    },
    {
     "name": "stderr",
     "output_type": "stream",
     "text": [
      "gc: post=(pfullmem(rss=2555629568, vms=31171407872, shared=546684928, text=3342336, lib=0, data=13116563456, dirty=0, uss=2523717632, pss=2538159104, swap=0), svmem(total=133636747264, available=128800985088, percent=3.6, used=3561267200, free=110429954048, active=8764334080, inactive=12549734400, buffers=2768896, cached=19642757120, shared=13348864, slab=1142157312), sswap(total=0, used=0, free=0, percent=0.0, sin=0, sout=0))\n"
     ]
    },
    {
     "name": "stderr",
     "output_type": "stream",
     "text": [
      "gc:  pre=(pfullmem(rss=2448334848, vms=31143067648, shared=546684928, text=3342336, lib=0, data=13088223232, dirty=0, uss=2495860736, pss=2510302208, swap=0), svmem(total=133636747264, available=128996728832, percent=3.5, used=3462549504, free=110528671744, active=8569204736, inactive=12646760448, buffers=2768896, cached=19642757120, shared=13348864, slab=1142157312), sswap(total=0, used=0, free=0, percent=0.0, sin=0, sout=0))\n"
     ]
    },
    {
     "name": "stderr",
     "output_type": "stream",
     "text": [
      "gc: post=(pfullmem(rss=2360004608, vms=31143067648, shared=546684928, text=3342336, lib=0, data=13088223232, dirty=0, uss=2328084480, pss=2342525952, swap=0), svmem(total=133636747264, available=128997261312, percent=3.5, used=3364990976, free=110626230272, active=8568651776, inactive=12549734400, buffers=2768896, cached=19642757120, shared=13348864, slab=1142280192), sswap(total=0, used=0, free=0, percent=0.0, sin=0, sout=0))\n"
     ]
    },
    {
     "name": "stderr",
     "output_type": "stream",
     "text": [
      "max process memory usage=5.959 GiB\n"
     ]
    },
    {
     "name": "stdout",
     "output_type": "stream",
     "text": [
      "time per sample: 327.24 μs\n",
      "samples per sec: 3055.90 samples/sec\n",
      "CPU times: user 1min 13s, sys: 35.6 s, total: 1min 49s\n",
      "Wall time: 48 s\n"
     ]
    }
   ],
   "source": [
    "%%time\n",
    "epochs = []\n",
    "for epoch in range(n_epochs):\n",
    "    with profile(f'benchmark-epoch{epoch}'):\n",
    "        epoch = benchmark(\n",
    "            exp,\n",
    "            batch_size=batch_size,\n",
    "            gc_freq=gc_freq,\n",
    "            exclude_first_batch=exclude_first_batch,\n",
    "            progress_bar=progress_bar,\n",
    "        )\n",
    "    epochs.append(epoch)\n",
    "\n",
    "results = Results(\n",
    "    census=Method('census', epochs),\n",
    ")"
   ]
  },
  {
   "cell_type": "code",
   "execution_count": 9,
   "metadata": {
    "tags": []
   },
   "outputs": [
    {
     "data": {
      "text/html": [
       "<div>\n",
       "<style scoped>\n",
       "    .dataframe tbody tr th:only-of-type {\n",
       "        vertical-align: middle;\n",
       "    }\n",
       "\n",
       "    .dataframe tbody tr th {\n",
       "        vertical-align: top;\n",
       "    }\n",
       "\n",
       "    .dataframe thead th {\n",
       "        text-align: right;\n",
       "    }\n",
       "</style>\n",
       "<table border=\"1\" class=\"dataframe\">\n",
       "  <thead>\n",
       "    <tr style=\"text-align: right;\">\n",
       "      <th></th>\n",
       "      <th>obs_joinids_chunk</th>\n",
       "      <th>obs_batch</th>\n",
       "      <th>obs_batch_reindex</th>\n",
       "      <th>scipy_iter</th>\n",
       "      <th>X_batch</th>\n",
       "    </tr>\n",
       "  </thead>\n",
       "  <tbody>\n",
       "    <tr>\n",
       "      <th>0</th>\n",
       "      <td>0.000520</td>\n",
       "      <td>0.176328</td>\n",
       "      <td>0.001201</td>\n",
       "      <td>0.002991</td>\n",
       "      <td>3.838478</td>\n",
       "    </tr>\n",
       "    <tr>\n",
       "      <th>1</th>\n",
       "      <td>0.000180</td>\n",
       "      <td>0.050734</td>\n",
       "      <td>0.000875</td>\n",
       "      <td>0.004128</td>\n",
       "      <td>4.087913</td>\n",
       "    </tr>\n",
       "    <tr>\n",
       "      <th>2</th>\n",
       "      <td>0.000263</td>\n",
       "      <td>0.021986</td>\n",
       "      <td>0.000595</td>\n",
       "      <td>0.003157</td>\n",
       "      <td>2.242034</td>\n",
       "    </tr>\n",
       "    <tr>\n",
       "      <th>3</th>\n",
       "      <td>0.000410</td>\n",
       "      <td>0.023979</td>\n",
       "      <td>0.001258</td>\n",
       "      <td>0.003942</td>\n",
       "      <td>3.164015</td>\n",
       "    </tr>\n",
       "    <tr>\n",
       "      <th>4</th>\n",
       "      <td>0.000251</td>\n",
       "      <td>0.023711</td>\n",
       "      <td>0.000965</td>\n",
       "      <td>0.004351</td>\n",
       "      <td>3.965002</td>\n",
       "    </tr>\n",
       "    <tr>\n",
       "      <th>5</th>\n",
       "      <td>0.000431</td>\n",
       "      <td>0.023233</td>\n",
       "      <td>0.000618</td>\n",
       "      <td>0.003357</td>\n",
       "      <td>3.267495</td>\n",
       "    </tr>\n",
       "    <tr>\n",
       "      <th>6</th>\n",
       "      <td>0.000248</td>\n",
       "      <td>0.025471</td>\n",
       "      <td>0.001424</td>\n",
       "      <td>0.005577</td>\n",
       "      <td>1.931142</td>\n",
       "    </tr>\n",
       "    <tr>\n",
       "      <th>7</th>\n",
       "      <td>0.000201</td>\n",
       "      <td>0.025522</td>\n",
       "      <td>0.000830</td>\n",
       "      <td>0.004630</td>\n",
       "      <td>3.172929</td>\n",
       "    </tr>\n",
       "    <tr>\n",
       "      <th>8</th>\n",
       "      <td>0.000423</td>\n",
       "      <td>0.021832</td>\n",
       "      <td>0.000564</td>\n",
       "      <td>0.003192</td>\n",
       "      <td>4.452107</td>\n",
       "    </tr>\n",
       "    <tr>\n",
       "      <th>9</th>\n",
       "      <td>0.000418</td>\n",
       "      <td>0.022145</td>\n",
       "      <td>0.000750</td>\n",
       "      <td>0.003654</td>\n",
       "      <td>2.440875</td>\n",
       "    </tr>\n",
       "    <tr>\n",
       "      <th>10</th>\n",
       "      <td>0.000800</td>\n",
       "      <td>0.023083</td>\n",
       "      <td>0.000828</td>\n",
       "      <td>0.005535</td>\n",
       "      <td>3.325889</td>\n",
       "    </tr>\n",
       "    <tr>\n",
       "      <th>11</th>\n",
       "      <td>0.000271</td>\n",
       "      <td>0.022116</td>\n",
       "      <td>0.000604</td>\n",
       "      <td>0.003392</td>\n",
       "      <td>4.304662</td>\n",
       "    </tr>\n",
       "    <tr>\n",
       "      <th>12</th>\n",
       "      <td>0.000429</td>\n",
       "      <td>0.021993</td>\n",
       "      <td>0.000661</td>\n",
       "      <td>0.004022</td>\n",
       "      <td>3.341384</td>\n",
       "    </tr>\n",
       "    <tr>\n",
       "      <th>13</th>\n",
       "      <td>0.000667</td>\n",
       "      <td>0.023055</td>\n",
       "      <td>0.000810</td>\n",
       "      <td>0.005966</td>\n",
       "      <td>2.340950</td>\n",
       "    </tr>\n",
       "  </tbody>\n",
       "</table>\n",
       "</div>"
      ],
      "text/plain": [
       "    obs_joinids_chunk  obs_batch  obs_batch_reindex  scipy_iter   X_batch\n",
       "0            0.000520   0.176328           0.001201    0.002991  3.838478\n",
       "1            0.000180   0.050734           0.000875    0.004128  4.087913\n",
       "2            0.000263   0.021986           0.000595    0.003157  2.242034\n",
       "3            0.000410   0.023979           0.001258    0.003942  3.164015\n",
       "4            0.000251   0.023711           0.000965    0.004351  3.965002\n",
       "5            0.000431   0.023233           0.000618    0.003357  3.267495\n",
       "6            0.000248   0.025471           0.001424    0.005577  1.931142\n",
       "7            0.000201   0.025522           0.000830    0.004630  3.172929\n",
       "8            0.000423   0.021832           0.000564    0.003192  4.452107\n",
       "9            0.000418   0.022145           0.000750    0.003654  2.440875\n",
       "10           0.000800   0.023083           0.000828    0.005535  3.325889\n",
       "11           0.000271   0.022116           0.000604    0.003392  4.304662\n",
       "12           0.000429   0.021993           0.000661    0.004022  3.341384\n",
       "13           0.000667   0.023055           0.000810    0.005966  2.340950"
      ]
     },
     "execution_count": 9,
     "metadata": {},
     "output_type": "execute_result"
    }
   ],
   "source": [
    "exp_stats = experiment_datapipe.stats()\n",
    "checkpoints_df = exp_stats.checkpoints_df()\n",
    "checkpoints_df"
   ]
  },
  {
   "cell_type": "markdown",
   "metadata": {
    "tags": []
   },
   "source": [
    "## CxG `pytorch.py` latency\n",
    "Total latency from various chunks in [CxG `_ObsAndXSOMAIterator`](https://github.com/ryan-williams/cellxgene-census/blob/a0fa2449a9f9858edd3befee3c9fb46f84c2cf44/api/python/cellxgene_census/src/cellxgene_census/experimental/ml/pytorch.py#L162-L212):"
   ]
  },
  {
   "cell_type": "code",
   "execution_count": 10,
   "metadata": {
    "tags": []
   },
   "outputs": [
    {
     "data": {
      "text/plain": [
       "obs_joinids_chunk     0.005512\n",
       "obs_batch             0.505189\n",
       "obs_batch_reindex     0.011981\n",
       "scipy_iter            0.057895\n",
       "X_batch              45.874877\n",
       "dtype: float64"
      ]
     },
     "execution_count": 10,
     "metadata": {},
     "output_type": "execute_result"
    }
   ],
   "source": [
    "checkpoints_df.sum()"
   ]
  },
  {
   "cell_type": "markdown",
   "metadata": {
    "tags": []
   },
   "source": [
    "## `tiledbsoma` latency\n",
    "Measured by `tiledbsoma_stats_*`:"
   ]
  },
  {
   "cell_type": "code",
   "execution_count": 11,
   "metadata": {
    "tags": []
   },
   "outputs": [
    {
     "data": {
      "text/plain": [
       "8.401237365"
      ]
     },
     "execution_count": 11,
     "metadata": {},
     "output_type": "execute_result"
    }
   ],
   "source": [
    "timers_df, counters_df = stats.dfs\n",
    "timers_df['sum'].sum()"
   ]
  },
  {
   "cell_type": "code",
   "execution_count": 12,
   "metadata": {
    "tags": []
   },
   "outputs": [
    {
     "data": {
      "text/plain": [
       "source      name   \n",
       "tiledb      open       0.000457\n",
       "tiledbsoma  X_batch    8.400438\n",
       "            open       0.000343\n",
       "Name: sum, dtype: float64"
      ]
     },
     "execution_count": 12,
     "metadata": {},
     "output_type": "execute_result"
    }
   ],
   "source": [
    "timers_df.groupby(['source', 'name'])['sum'].sum()"
   ]
  },
  {
   "cell_type": "markdown",
   "metadata": {
    "tags": []
   },
   "source": [
    "### `tiledb{,soma}` timer/counter DataFrames"
   ]
  },
  {
   "cell_type": "code",
   "execution_count": 13,
   "metadata": {
    "tags": []
   },
   "outputs": [
    {
     "data": {
      "text/html": [
       "<div>\n",
       "<style scoped>\n",
       "    .dataframe tbody tr th:only-of-type {\n",
       "        vertical-align: middle;\n",
       "    }\n",
       "\n",
       "    .dataframe tbody tr th {\n",
       "        vertical-align: top;\n",
       "    }\n",
       "\n",
       "    .dataframe thead th {\n",
       "        text-align: right;\n",
       "    }\n",
       "</style>\n",
       "<table border=\"1\" class=\"dataframe\">\n",
       "  <thead>\n",
       "    <tr style=\"text-align: right;\">\n",
       "      <th></th>\n",
       "      <th>key</th>\n",
       "      <th>avg</th>\n",
       "      <th>sum</th>\n",
       "      <th>num</th>\n",
       "      <th>name</th>\n",
       "      <th>source</th>\n",
       "    </tr>\n",
       "  </thead>\n",
       "  <tbody>\n",
       "    <tr>\n",
       "      <th>0</th>\n",
       "      <td>Context.StorageManager.load_group_from_all_uris</td>\n",
       "      <td>0.000124</td>\n",
       "      <td>0.000124</td>\n",
       "      <td>1</td>\n",
       "      <td>open</td>\n",
       "      <td>tiledb</td>\n",
       "    </tr>\n",
       "    <tr>\n",
       "      <th>1</th>\n",
       "      <td>Context.StorageManager.load_group_details</td>\n",
       "      <td>0.000129</td>\n",
       "      <td>0.000129</td>\n",
       "      <td>1</td>\n",
       "      <td>open</td>\n",
       "      <td>tiledb</td>\n",
       "    </tr>\n",
       "    <tr>\n",
       "      <th>2</th>\n",
       "      <td>Context.StorageManager.group_open_for_reads</td>\n",
       "      <td>0.000131</td>\n",
       "      <td>0.000131</td>\n",
       "      <td>1</td>\n",
       "      <td>open</td>\n",
       "      <td>tiledb</td>\n",
       "    </tr>\n",
       "    <tr>\n",
       "      <th>3</th>\n",
       "      <td>Context.StorageManager.group_load_metadata_fro...</td>\n",
       "      <td>0.000074</td>\n",
       "      <td>0.000074</td>\n",
       "      <td>1</td>\n",
       "      <td>open</td>\n",
       "      <td>tiledb</td>\n",
       "    </tr>\n",
       "    <tr>\n",
       "      <th>4</th>\n",
       "      <td>Context.StorageManager.load_group_from_all_uris</td>\n",
       "      <td>0.000091</td>\n",
       "      <td>0.000091</td>\n",
       "      <td>1</td>\n",
       "      <td>open</td>\n",
       "      <td>tiledbsoma</td>\n",
       "    </tr>\n",
       "    <tr>\n",
       "      <th>...</th>\n",
       "      <td>...</td>\n",
       "      <td>...</td>\n",
       "      <td>...</td>\n",
       "      <td>...</td>\n",
       "      <td>...</td>\n",
       "      <td>...</td>\n",
       "    </tr>\n",
       "    <tr>\n",
       "      <th>381</th>\n",
       "      <td>Context.StorageManager.Query.Reader.create_res...</td>\n",
       "      <td>0.000529</td>\n",
       "      <td>0.000529</td>\n",
       "      <td>1</td>\n",
       "      <td>X_batch</td>\n",
       "      <td>tiledbsoma</td>\n",
       "    </tr>\n",
       "    <tr>\n",
       "      <th>382</th>\n",
       "      <td>Context.StorageManager.Query.Reader.copy_fixed...</td>\n",
       "      <td>0.005973</td>\n",
       "      <td>0.017920</td>\n",
       "      <td>3</td>\n",
       "      <td>X_batch</td>\n",
       "      <td>tiledbsoma</td>\n",
       "    </tr>\n",
       "    <tr>\n",
       "      <th>383</th>\n",
       "      <td>Context.StorageManager.Query.Reader.compute_ti...</td>\n",
       "      <td>0.009012</td>\n",
       "      <td>0.009012</td>\n",
       "      <td>1</td>\n",
       "      <td>X_batch</td>\n",
       "      <td>tiledbsoma</td>\n",
       "    </tr>\n",
       "    <tr>\n",
       "      <th>384</th>\n",
       "      <td>Context.StorageManager.Query.Reader.compute_re...</td>\n",
       "      <td>0.000928</td>\n",
       "      <td>0.035265</td>\n",
       "      <td>38</td>\n",
       "      <td>X_batch</td>\n",
       "      <td>tiledbsoma</td>\n",
       "    </tr>\n",
       "    <tr>\n",
       "      <th>385</th>\n",
       "      <td>Context.StorageManager.Query.Reader.apply_quer...</td>\n",
       "      <td>0.000282</td>\n",
       "      <td>0.000282</td>\n",
       "      <td>1</td>\n",
       "      <td>X_batch</td>\n",
       "      <td>tiledbsoma</td>\n",
       "    </tr>\n",
       "  </tbody>\n",
       "</table>\n",
       "<p>386 rows × 6 columns</p>\n",
       "</div>"
      ],
      "text/plain": [
       "                                                   key       avg       sum  \\\n",
       "0      Context.StorageManager.load_group_from_all_uris  0.000124  0.000124   \n",
       "1            Context.StorageManager.load_group_details  0.000129  0.000129   \n",
       "2          Context.StorageManager.group_open_for_reads  0.000131  0.000131   \n",
       "3    Context.StorageManager.group_load_metadata_fro...  0.000074  0.000074   \n",
       "4      Context.StorageManager.load_group_from_all_uris  0.000091  0.000091   \n",
       "..                                                 ...       ...       ...   \n",
       "381  Context.StorageManager.Query.Reader.create_res...  0.000529  0.000529   \n",
       "382  Context.StorageManager.Query.Reader.copy_fixed...  0.005973  0.017920   \n",
       "383  Context.StorageManager.Query.Reader.compute_ti...  0.009012  0.009012   \n",
       "384  Context.StorageManager.Query.Reader.compute_re...  0.000928  0.035265   \n",
       "385  Context.StorageManager.Query.Reader.apply_quer...  0.000282  0.000282   \n",
       "\n",
       "     num     name      source  \n",
       "0      1     open      tiledb  \n",
       "1      1     open      tiledb  \n",
       "2      1     open      tiledb  \n",
       "3      1     open      tiledb  \n",
       "4      1     open  tiledbsoma  \n",
       "..   ...      ...         ...  \n",
       "381    1  X_batch  tiledbsoma  \n",
       "382    3  X_batch  tiledbsoma  \n",
       "383    1  X_batch  tiledbsoma  \n",
       "384   38  X_batch  tiledbsoma  \n",
       "385    1  X_batch  tiledbsoma  \n",
       "\n",
       "[386 rows x 6 columns]"
      ]
     },
     "execution_count": 13,
     "metadata": {},
     "output_type": "execute_result"
    }
   ],
   "source": [
    "timers_df"
   ]
  },
  {
   "cell_type": "code",
   "execution_count": 14,
   "metadata": {
    "tags": []
   },
   "outputs": [
    {
     "data": {
      "text/html": [
       "<div>\n",
       "<style scoped>\n",
       "    .dataframe tbody tr th:only-of-type {\n",
       "        vertical-align: middle;\n",
       "    }\n",
       "\n",
       "    .dataframe tbody tr th {\n",
       "        vertical-align: top;\n",
       "    }\n",
       "\n",
       "    .dataframe thead th {\n",
       "        text-align: right;\n",
       "    }\n",
       "</style>\n",
       "<table border=\"1\" class=\"dataframe\">\n",
       "  <thead>\n",
       "    <tr style=\"text-align: right;\">\n",
       "      <th></th>\n",
       "      <th>key</th>\n",
       "      <th>num</th>\n",
       "      <th>name</th>\n",
       "      <th>source</th>\n",
       "    </tr>\n",
       "  </thead>\n",
       "  <tbody>\n",
       "    <tr>\n",
       "      <th>0</th>\n",
       "      <td>Context.StorageManager.read_unfiltered_byte_num</td>\n",
       "      <td>262</td>\n",
       "      <td>open</td>\n",
       "      <td>tiledb</td>\n",
       "    </tr>\n",
       "    <tr>\n",
       "      <th>1</th>\n",
       "      <td>Context.StorageManager.read_group_size</td>\n",
       "      <td>70</td>\n",
       "      <td>open</td>\n",
       "      <td>tiledb</td>\n",
       "    </tr>\n",
       "    <tr>\n",
       "      <th>2</th>\n",
       "      <td>Context.StorageManager.group_read_group_meta_size</td>\n",
       "      <td>192</td>\n",
       "      <td>open</td>\n",
       "      <td>tiledb</td>\n",
       "    </tr>\n",
       "    <tr>\n",
       "      <th>3</th>\n",
       "      <td>Context.StorageManager.VFS.read_ops_num</td>\n",
       "      <td>6</td>\n",
       "      <td>open</td>\n",
       "      <td>tiledb</td>\n",
       "    </tr>\n",
       "    <tr>\n",
       "      <th>4</th>\n",
       "      <td>Context.StorageManager.VFS.read_byte_num</td>\n",
       "      <td>333</td>\n",
       "      <td>open</td>\n",
       "      <td>tiledb</td>\n",
       "    </tr>\n",
       "    <tr>\n",
       "      <th>...</th>\n",
       "      <td>...</td>\n",
       "      <td>...</td>\n",
       "      <td>...</td>\n",
       "      <td>...</td>\n",
       "    </tr>\n",
       "    <tr>\n",
       "      <th>288</th>\n",
       "      <td>Context.StorageManager.Query.Reader.dim_num</td>\n",
       "      <td>2</td>\n",
       "      <td>X_batch</td>\n",
       "      <td>tiledbsoma</td>\n",
       "    </tr>\n",
       "    <tr>\n",
       "      <th>289</th>\n",
       "      <td>Context.StorageManager.Query.Reader.dim_fixed_num</td>\n",
       "      <td>2</td>\n",
       "      <td>X_batch</td>\n",
       "      <td>tiledbsoma</td>\n",
       "    </tr>\n",
       "    <tr>\n",
       "      <th>290</th>\n",
       "      <td>Context.StorageManager.Query.Reader.cell_num</td>\n",
       "      <td>19500000</td>\n",
       "      <td>X_batch</td>\n",
       "      <td>tiledbsoma</td>\n",
       "    </tr>\n",
       "    <tr>\n",
       "      <th>291</th>\n",
       "      <td>Context.StorageManager.Query.Reader.attr_num</td>\n",
       "      <td>1</td>\n",
       "      <td>X_batch</td>\n",
       "      <td>tiledbsoma</td>\n",
       "    </tr>\n",
       "    <tr>\n",
       "      <th>292</th>\n",
       "      <td>Context.StorageManager.Query.Reader.attr_fixed...</td>\n",
       "      <td>1</td>\n",
       "      <td>X_batch</td>\n",
       "      <td>tiledbsoma</td>\n",
       "    </tr>\n",
       "  </tbody>\n",
       "</table>\n",
       "<p>293 rows × 4 columns</p>\n",
       "</div>"
      ],
      "text/plain": [
       "                                                   key       num     name  \\\n",
       "0      Context.StorageManager.read_unfiltered_byte_num       262     open   \n",
       "1               Context.StorageManager.read_group_size        70     open   \n",
       "2    Context.StorageManager.group_read_group_meta_size       192     open   \n",
       "3              Context.StorageManager.VFS.read_ops_num         6     open   \n",
       "4             Context.StorageManager.VFS.read_byte_num       333     open   \n",
       "..                                                 ...       ...      ...   \n",
       "288        Context.StorageManager.Query.Reader.dim_num         2  X_batch   \n",
       "289  Context.StorageManager.Query.Reader.dim_fixed_num         2  X_batch   \n",
       "290       Context.StorageManager.Query.Reader.cell_num  19500000  X_batch   \n",
       "291       Context.StorageManager.Query.Reader.attr_num         1  X_batch   \n",
       "292  Context.StorageManager.Query.Reader.attr_fixed...         1  X_batch   \n",
       "\n",
       "         source  \n",
       "0        tiledb  \n",
       "1        tiledb  \n",
       "2        tiledb  \n",
       "3        tiledb  \n",
       "4        tiledb  \n",
       "..          ...  \n",
       "288  tiledbsoma  \n",
       "289  tiledbsoma  \n",
       "290  tiledbsoma  \n",
       "291  tiledbsoma  \n",
       "292  tiledbsoma  \n",
       "\n",
       "[293 rows x 4 columns]"
      ]
     },
     "execution_count": 14,
     "metadata": {},
     "output_type": "execute_result"
    }
   ],
   "source": [
    "counters_df"
   ]
  },
  {
   "cell_type": "markdown",
   "metadata": {
    "tags": []
   },
   "source": [
    "## Save batch timings, `tiledb{,soma}` stats"
   ]
  },
  {
   "cell_type": "code",
   "execution_count": 15,
   "metadata": {
    "tags": []
   },
   "outputs": [
    {
     "name": "stderr",
     "output_type": "stream",
     "text": [
      "Saved results to results/subset-gp3.json\n"
     ]
    }
   ],
   "source": [
    "results_json_path = f'results/{name}.json'\n",
    "with open(results_json_path, 'w') as f:\n",
    "    json.dump(asdict(results), f, indent=2)\n",
    "    err(f\"Saved results to {results_json_path}\")"
   ]
  },
  {
   "cell_type": "code",
   "execution_count": 16,
   "metadata": {
    "tags": []
   },
   "outputs": [],
   "source": [
    "makedirs('tdb', exist_ok=True)\n",
    "timers_path = f'tdb/{name}-timers.csv'\n",
    "timers_df.sort_values('key').to_csv(timers_path)\n",
    "counters_path = f'tdb/{name}-counters.csv'\n",
    "counters_df.sort_values('key').to_csv(counters_path)"
   ]
  },
  {
   "cell_type": "code",
   "execution_count": 17,
   "metadata": {
    "tags": []
   },
   "outputs": [],
   "source": [
    "# with open(results_json_path, 'r') as f:\n",
    "#     results = Results(**json.load(f))"
   ]
  },
  {
   "cell_type": "markdown",
   "metadata": {
    "tags": []
   },
   "source": [
    "## Plot batch timings"
   ]
  },
  {
   "cell_type": "code",
   "execution_count": 18,
   "metadata": {
    "scrolled": true,
    "tags": []
   },
   "outputs": [
    {
     "name": "stderr",
     "output_type": "stream",
     "text": [
      "/tmp/ipykernel_23514/2254310219.py:5: FutureWarning: Downcasting object dtype arrays on .fillna, .ffill, .bfill is deprecated and will change in a future version. Call result.infer_objects(copy=False) instead. To opt-in to the future behavior, set `pd.set_option('future.no_silent_downcasting', True)`\n",
      "  df['gc'] = df['gc'].fillna(nan)\n"
     ]
    },
    {
     "data": {
      "text/html": [
       "<div>\n",
       "<style scoped>\n",
       "    .dataframe tbody tr th:only-of-type {\n",
       "        vertical-align: middle;\n",
       "    }\n",
       "\n",
       "    .dataframe tbody tr th {\n",
       "        vertical-align: top;\n",
       "    }\n",
       "\n",
       "    .dataframe thead th {\n",
       "        text-align: right;\n",
       "    }\n",
       "</style>\n",
       "<table border=\"1\" class=\"dataframe\">\n",
       "  <thead>\n",
       "    <tr style=\"text-align: right;\">\n",
       "      <th></th>\n",
       "      <th>idx</th>\n",
       "      <th>batch</th>\n",
       "    </tr>\n",
       "  </thead>\n",
       "  <tbody>\n",
       "    <tr>\n",
       "      <th>0</th>\n",
       "      <td>0</td>\n",
       "      <td>0.250258</td>\n",
       "    </tr>\n",
       "    <tr>\n",
       "      <th>1</th>\n",
       "      <td>1</td>\n",
       "      <td>0.166497</td>\n",
       "    </tr>\n",
       "    <tr>\n",
       "      <th>2</th>\n",
       "      <td>2</td>\n",
       "      <td>0.166705</td>\n",
       "    </tr>\n",
       "    <tr>\n",
       "      <th>3</th>\n",
       "      <td>3</td>\n",
       "      <td>0.211116</td>\n",
       "    </tr>\n",
       "    <tr>\n",
       "      <th>4</th>\n",
       "      <td>4</td>\n",
       "      <td>0.167500</td>\n",
       "    </tr>\n",
       "    <tr>\n",
       "      <th>...</th>\n",
       "      <td>...</td>\n",
       "      <td>...</td>\n",
       "    </tr>\n",
       "    <tr>\n",
       "      <th>125</th>\n",
       "      <td>125</td>\n",
       "      <td>0.100397</td>\n",
       "    </tr>\n",
       "    <tr>\n",
       "      <th>126</th>\n",
       "      <td>126</td>\n",
       "      <td>0.101162</td>\n",
       "    </tr>\n",
       "    <tr>\n",
       "      <th>127</th>\n",
       "      <td>127</td>\n",
       "      <td>0.101148</td>\n",
       "    </tr>\n",
       "    <tr>\n",
       "      <th>128</th>\n",
       "      <td>128</td>\n",
       "      <td>0.099889</td>\n",
       "    </tr>\n",
       "    <tr>\n",
       "      <th>129</th>\n",
       "      <td>129</td>\n",
       "      <td>0.264999</td>\n",
       "    </tr>\n",
       "  </tbody>\n",
       "</table>\n",
       "<p>130 rows × 2 columns</p>\n",
       "</div>"
      ],
      "text/plain": [
       "     idx     batch\n",
       "0      0  0.250258\n",
       "1      1  0.166497\n",
       "2      2  0.166705\n",
       "3      3  0.211116\n",
       "4      4  0.167500\n",
       "..   ...       ...\n",
       "125  125  0.100397\n",
       "126  126  0.101162\n",
       "127  127  0.101148\n",
       "128  128  0.099889\n",
       "129  129  0.264999\n",
       "\n",
       "[130 rows x 2 columns]"
      ]
     },
     "execution_count": 18,
     "metadata": {},
     "output_type": "execute_result"
    }
   ],
   "source": [
    "method = 'census'\n",
    "epoch = 0\n",
    "batches = getattr(results, 'census').epochs[epoch].batches\n",
    "df = pd.DataFrame(batches)\n",
    "df['gc'] = df['gc'].fillna(nan)\n",
    "if df.gc.isna().all():\n",
    "    df = df.drop(columns='gc')\n",
    "df.index.name = 'idx'\n",
    "df = df.reset_index()\n",
    "df"
   ]
  },
  {
   "cell_type": "code",
   "execution_count": 19,
   "metadata": {
    "scrolled": true,
    "tags": []
   },
   "outputs": [
    {
     "data": {
      "text/html": [
       "<div>\n",
       "<style scoped>\n",
       "    .dataframe tbody tr th:only-of-type {\n",
       "        vertical-align: middle;\n",
       "    }\n",
       "\n",
       "    .dataframe tbody tr th {\n",
       "        vertical-align: top;\n",
       "    }\n",
       "\n",
       "    .dataframe thead th {\n",
       "        text-align: right;\n",
       "    }\n",
       "</style>\n",
       "<table border=\"1\" class=\"dataframe\">\n",
       "  <thead>\n",
       "    <tr style=\"text-align: right;\">\n",
       "      <th></th>\n",
       "      <th>idx</th>\n",
       "      <th>batch</th>\n",
       "    </tr>\n",
       "  </thead>\n",
       "  <tbody>\n",
       "    <tr>\n",
       "      <th>8</th>\n",
       "      <td>8</td>\n",
       "      <td>2.711623</td>\n",
       "    </tr>\n",
       "    <tr>\n",
       "      <th>17</th>\n",
       "      <td>17</td>\n",
       "      <td>0.930343</td>\n",
       "    </tr>\n",
       "    <tr>\n",
       "      <th>26</th>\n",
       "      <td>26</td>\n",
       "      <td>1.912794</td>\n",
       "    </tr>\n",
       "    <tr>\n",
       "      <th>36</th>\n",
       "      <td>36</td>\n",
       "      <td>2.603803</td>\n",
       "    </tr>\n",
       "    <tr>\n",
       "      <th>45</th>\n",
       "      <td>45</td>\n",
       "      <td>1.878824</td>\n",
       "    </tr>\n",
       "    <tr>\n",
       "      <th>54</th>\n",
       "      <td>54</td>\n",
       "      <td>0.651343</td>\n",
       "    </tr>\n",
       "    <tr>\n",
       "      <th>64</th>\n",
       "      <td>64</td>\n",
       "      <td>1.986335</td>\n",
       "    </tr>\n",
       "    <tr>\n",
       "      <th>73</th>\n",
       "      <td>73</td>\n",
       "      <td>3.117478</td>\n",
       "    </tr>\n",
       "    <tr>\n",
       "      <th>82</th>\n",
       "      <td>82</td>\n",
       "      <td>1.059114</td>\n",
       "    </tr>\n",
       "    <tr>\n",
       "      <th>92</th>\n",
       "      <td>92</td>\n",
       "      <td>2.033076</td>\n",
       "    </tr>\n",
       "    <tr>\n",
       "      <th>101</th>\n",
       "      <td>101</td>\n",
       "      <td>2.997457</td>\n",
       "    </tr>\n",
       "    <tr>\n",
       "      <th>110</th>\n",
       "      <td>110</td>\n",
       "      <td>1.942472</td>\n",
       "    </tr>\n",
       "    <tr>\n",
       "      <th>120</th>\n",
       "      <td>120</td>\n",
       "      <td>0.723247</td>\n",
       "    </tr>\n",
       "  </tbody>\n",
       "</table>\n",
       "</div>"
      ],
      "text/plain": [
       "     idx     batch\n",
       "8      8  2.711623\n",
       "17    17  0.930343\n",
       "26    26  1.912794\n",
       "36    36  2.603803\n",
       "45    45  1.878824\n",
       "54    54  0.651343\n",
       "64    64  1.986335\n",
       "73    73  3.117478\n",
       "82    82  1.059114\n",
       "92    92  2.033076\n",
       "101  101  2.997457\n",
       "110  110  1.942472\n",
       "120  120  0.723247"
      ]
     },
     "execution_count": 19,
     "metadata": {},
     "output_type": "execute_result"
    }
   ],
   "source": [
    "ann = df[df.batch > ann_cutoff] if ann_cutoff else df[[]]\n",
    "ann"
   ]
  },
  {
   "cell_type": "code",
   "execution_count": 20,
   "metadata": {
    "tags": []
   },
   "outputs": [
    {
     "data": {
      "text/plain": [
       "PlotConfigs(fmt='fig', w=1200, h=800, save=[], v=True, i=None, dir=None, grid='#ccc', bg='white')"
      ]
     },
     "execution_count": 20,
     "metadata": {},
     "output_type": "execute_result"
    }
   ],
   "source": [
    "pc"
   ]
  },
  {
   "cell_type": "code",
   "execution_count": 21,
   "metadata": {
    "tags": []
   },
   "outputs": [
    {
     "name": "stderr",
     "output_type": "stream",
     "text": [
      "Saving: img/census-subset-gp3.png\n"
     ]
    },
    {
     "name": "stderr",
     "output_type": "stream",
     "text": [
      "Returning IPython Image\n"
     ]
    },
    {
     "data": {
      "image/png": "[encoded data removed]",
      "text/plain": [
       "<IPython.core.display.Image object>"
      ]
     },
     "execution_count": 21,
     "metadata": {},
     "output_type": "execute_result"
    }
   ],
   "source": [
    "fig = px.bar(\n",
    "    df.set_index('idx')[['batch', *(['gc'] if 'gc' in df else [])]],\n",
    "    barmode='stack',\n",
    "    labels={\n",
    "        'idx': 'Batch idx',\n",
    "        'variable': '',\n",
    "        'value': 'Time (s)',\n",
    "    },\n",
    "    log_y=log_plot,\n",
    ").update_layout(\n",
    "    title=dict(text=f'Batch+GC times ({method} / {name})'),\n",
    ").update_xaxes(\n",
    "    range=(-.5, len(df) - 1 + .5),\n",
    ")\n",
    "\n",
    "if not ann.empty:\n",
    "    anns = ann.set_index('idx').batch.to_dict().items()\n",
    "    for idx, batch in anns:\n",
    "        fig.add_annotation(\n",
    "            x=idx, y=log10(batch) if log_plot else batch,\n",
    "            showarrow=False,\n",
    "            text=f'{idx}: {batch:.1f}s',\n",
    "            xshift=7,\n",
    "            xanchor='left',\n",
    "        )\n",
    "\n",
    "plot(fig, f'census-{name}', fmt='png', save=['png'], w=width, h=height, dir='img',)"
   ]
  }
 ],
 "metadata": {
  "kernelspec": {
   "display_name": "Python 3 (ipykernel)",
   "language": "python",
   "name": "python3"
  },
  "language_info": {
   "codemirror_mode": {
    "name": "ipython",
    "version": 3
   },
   "file_extension": ".py",
   "mimetype": "text/x-python",
   "name": "python",
   "nbconvert_exporter": "python",
   "pygments_lexer": "ipython3",
   "version": "3.11.8"
  }
 },
 "nbformat": 4,
 "nbformat_minor": 5
}
