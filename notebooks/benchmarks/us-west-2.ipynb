{
 "cells": [
  {
   "cell_type": "code",
   "execution_count": 1,
   "metadata": {
    "tags": []
   },
   "outputs": [],
   "source": [
    "from benchmark import *\n",
    "from utils import *\n",
    "\n",
    "from cellxgene_census.experimental.ml import ExperimentDataPipe, experiment_dataloader\n",
    "import torch\n",
    "from torch.utils.data import DataLoader\n",
    "torch.ones(2).cuda();"
   ]
  },
  {
   "cell_type": "markdown",
   "metadata": {
    "tags": []
   },
   "source": [
    "### [Papermill](https://papermill.readthedocs.io/en/latest/) params:"
   ]
  },
  {
   "cell_type": "code",
   "execution_count": 2,
   "metadata": {
    "editable": true,
    "slideshow": {
     "slide_type": ""
    },
    "tags": [
     "parameters"
    ]
   },
   "outputs": [],
   "source": [
    "# Set this to read from a local path\n",
    "experiment_uri = None\n",
    "\n",
    "# None ⟹ fetch from S3\n",
    "census_uri = None\n",
    "#census_uri = '/mnt/nvme/s3/cellxgene-census-public-us-west-2/cell-census/2023-12-15/soma'\n",
    "census_version = \"2023-12-15\"\n",
    "\n",
    "# By default:\n",
    "# - `subset` if `experiment_uri` is a local path\n",
    "# - `local` if `census_uri` is a local path\n",
    "# - current (EC2 instance) region if `census_uri` is None (e.g. `us-east-1`, `us-west-2`)\n",
    "name = None\n",
    "\n",
    "collection_id = '283d65eb-dd53-496d-adb7-7570c7caa443'\n",
    "# Slice datasets from `collection_id`\n",
    "start = 2\n",
    "end = 7\n",
    "\n",
    "n_epochs = 1\n",
    "batch_size = 1024\n",
    "n_vars = 20_000\n",
    "soma_chunk_size = 10_000\n",
    "gc_freq: Optional[int] = None  # When set, run `gc.collect()` every `gc_freq` batches\n",
    "exclude_first_batch = True\n",
    "progress_bar = True\n",
    "\n",
    "# Plot configs\n",
    "ann_cutoff = .5  # Annotate plot with values for batch timings greater than this threshold\n",
    "log_plot = False\n",
    "width = 1200\n",
    "height = 700"
   ]
  },
  {
   "cell_type": "code",
   "execution_count": 3,
   "metadata": {
    "tags": [
     "injected-parameters"
    ]
   },
   "outputs": [],
   "source": [
    "# Parameters\n",
    "name = \"us-west-2\"\n",
    "progress_bar = False\n"
   ]
  },
  {
   "cell_type": "code",
   "execution_count": 4,
   "metadata": {
    "editable": true,
    "slideshow": {
     "slide_type": ""
    },
    "tags": []
   },
   "outputs": [
    {
     "name": "stderr",
     "output_type": "stream",
     "text": [
      "Loading census (us-west-2)\n"
     ]
    },
    {
     "name": "stderr",
     "output_type": "stream",
     "text": [
      "138 datasets: ['8e10f1c4-8e98-41e5-b65f-8cd89a887122', 'b165f033-9dec-468a-9248-802fc6902a74', 'ff7d15fa-f4b6-4a0e-992e-fd0c9d088ded', 'fe1a73ab-a203-45fd-84e9-0f7fd19efcbd', 'fbf173f9-f809-4d84-9b65-ae205d35b523', 'fa554686-fc07-44dd-b2de-b726d82d26ec', 'f9034091-2e8f-4ac6-9874-e7b7eb566824', 'f8dda921-5fb4-4c94-a654-c6fc346bfd6d', 'f7d003d4-40d5-4de8-858c-a9a8b48fcc67', 'f6d9f2ad-5ec7-4d53-b7f0-ceb0e7bcd181']\n"
     ]
    },
    {
     "data": {
      "text/plain": [
       "<Experiment 's3://cellxgene-census-public-us-west-2/cell-census/2023-12-15/soma/census_data/homo_sapiens' (open for 'r') (2 items)\n",
       "    'ms': 's3://cellxgene-census-public-us-west-2/cell-census/2023-12-15/soma/census_data/homo_sapiens/ms' (unopened)\n",
       "    'obs': 's3://cellxgene-census-public-us-west-2/cell-census/2023-12-15/soma/census_data/homo_sapiens/obs' (unopened)>"
      ]
     },
     "execution_count": 4,
     "metadata": {},
     "output_type": "execute_result"
    }
   ],
   "source": [
    "var_query = AxisQuery(coords=(slice(n_vars - 1),)) if n_vars else None\n",
    "\n",
    "if experiment_uri:\n",
    "    err(f\"Loading experiment {experiment_uri}\")\n",
    "    with profile('open'):\n",
    "        experiment = Experiment.open(experiment_uri)\n",
    "    obs_query = None\n",
    "    if name is None:\n",
    "        scheme = urlparse(experiment_uri).scheme\n",
    "        if is_local(experiment_uri):\n",
    "            name = 'subset'\n",
    "else:\n",
    "    if not census_uri:\n",
    "        census_uri = None\n",
    "    \n",
    "    if name is None:\n",
    "        if census_uri and is_local(census_uri):\n",
    "            name = 'local'\n",
    "        else:\n",
    "            name = get_region()\n",
    "    \n",
    "    err(f\"Loading census ({name})\")\n",
    "\n",
    "    with profile('open_soma'):\n",
    "        census = cellxgene_census.open_soma(uri=census_uri, census_version=census_version)\n",
    "    \n",
    "    datasets = get_dataset_ids(census, collection_id, 'datasets')\n",
    "    err(f\"{len(datasets)} datasets: {datasets[:10]}\")\n",
    "    \n",
    "    experiment = census[\"census_data\"][\"homo_sapiens\"]\n",
    "    ds = datasets[slice(start, end)]\n",
    "    datasets_query = \"dataset_id in \" + str(ds)\n",
    "    obs_query = AxisQuery(value_filter=datasets_query)\n",
    "\n",
    "if not name:\n",
    "    raise ValueError(\"`name` not set\")\n",
    "\n",
    "experiment"
   ]
  },
  {
   "cell_type": "code",
   "execution_count": 5,
   "metadata": {
    "tags": []
   },
   "outputs": [
    {
     "name": "stdout",
     "output_type": "stream",
     "text": [
      "CPU times: user 4.49 ms, sys: 156 µs, total: 4.65 ms\n",
      "Wall time: 4.46 ms\n"
     ]
    },
    {
     "data": {
      "text/plain": [
       "Exp(datapipe=ExperimentDataPipe, loader=<torch.utils.data.dataloader.DataLoader object at 0x7fce33bfebd0>)"
      ]
     },
     "execution_count": 5,
     "metadata": {},
     "output_type": "execute_result"
    }
   ],
   "source": [
    "%%time\n",
    "with profile('get_exp_datapipe'):\n",
    "    experiment_datapipe = ExperimentDataPipe(\n",
    "        experiment,\n",
    "        measurement_name=\"RNA\",\n",
    "        X_name=\"raw\",\n",
    "        obs_query=obs_query,\n",
    "        var_query=var_query,\n",
    "        batch_size=batch_size,\n",
    "        shuffle=True,\n",
    "        soma_chunk_size=soma_chunk_size,\n",
    "    )\n",
    "    loader = experiment_dataloader(experiment_datapipe)\n",
    "exp = Exp(experiment_datapipe, loader)\n",
    "exp"
   ]
  },
  {
   "cell_type": "code",
   "execution_count": 6,
   "metadata": {
    "tags": []
   },
   "outputs": [
    {
     "name": "stdout",
     "output_type": "stream",
     "text": [
      "CPU times: user 8.33 s, sys: 2.59 s, total: 10.9 s\n",
      "Wall time: 2.39 s\n"
     ]
    },
    {
     "data": {
      "text/plain": [
       "133790"
      ]
     },
     "execution_count": 6,
     "metadata": {},
     "output_type": "execute_result"
    }
   ],
   "source": [
    "%%time\n",
    "exp.datapipe.shape[0]"
   ]
  },
  {
   "cell_type": "markdown",
   "metadata": {
    "tags": []
   },
   "source": [
    "## Run benchmark"
   ]
  },
  {
   "cell_type": "code",
   "execution_count": 7,
   "metadata": {
    "tags": []
   },
   "outputs": [
    {
     "name": "stdout",
     "output_type": "stream",
     "text": [
      "time per sample: 702.69 μs\n",
      "samples per sec: 1423.11 samples/sec\n",
      "CPU times: user 1min 45s, sys: 52.7 s, total: 2min 37s\n",
      "Wall time: 1min 41s\n"
     ]
    }
   ],
   "source": [
    "%%time\n",
    "epochs = []\n",
    "for epoch in range(n_epochs):\n",
    "    with profile(f'benchmark-epoch{epoch}'):\n",
    "        epoch = benchmark(\n",
    "            exp,\n",
    "            batch_size=batch_size,\n",
    "            gc_freq=gc_freq,\n",
    "            exclude_first_batch=exclude_first_batch,\n",
    "            progress_bar=progress_bar,\n",
    "        )\n",
    "    epochs.append(epoch)\n",
    "\n",
    "results = Results(\n",
    "    census=Method('census', epochs),\n",
    ")"
   ]
  },
  {
   "cell_type": "code",
   "execution_count": 8,
   "metadata": {
    "tags": []
   },
   "outputs": [
    {
     "data": {
      "text/plain": [
       "{'open_soma': [{'timers': {'Context.StorageManager.sm_load_group_metadata.sum': 0.0174165,\n",
       "    'Context.StorageManager.sm_load_group_metadata.avg': 0.0174165,\n",
       "    'Context.StorageManager.sm_load_group_from_uri.sum': 0.0150429,\n",
       "    'Context.StorageManager.sm_load_group_from_uri.avg': 0.0150429,\n",
       "    'Context.StorageManager.sm_load_group_details.sum': 0.0150498,\n",
       "    'Context.StorageManager.sm_load_group_details.avg': 0.0150498,\n",
       "    'Context.StorageManager.group_open_for_reads.sum': 0.0150524,\n",
       "    'Context.StorageManager.group_open_for_reads.avg': 0.0150524},\n",
       "   'counters': {'Context.StorageManager.read_unfiltered_byte_num': 373,\n",
       "    'Context.StorageManager.read_group_size': 104,\n",
       "    'Context.StorageManager.read_array_meta_size': 269,\n",
       "    'Context.StorageManager.VFS.read_ops_num': 9,\n",
       "    'Context.StorageManager.VFS.read_byte_num': 504,\n",
       "    'Context.StorageManager.VFS.ls_num': 3,\n",
       "    'Context.StorageManager.VFS.is_object_num': 1}}],\n",
       " 'datasets': [{'timers': {'Context.StorageManager.sm_load_group_metadata.sum': 0.0120463,\n",
       "    'Context.StorageManager.sm_load_group_metadata.avg': 0.0120463,\n",
       "    'Context.StorageManager.sm_load_group_from_uri.sum': 0.0107079,\n",
       "    'Context.StorageManager.sm_load_group_from_uri.avg': 0.0107079,\n",
       "    'Context.StorageManager.sm_load_group_details.sum': 0.0107119,\n",
       "    'Context.StorageManager.sm_load_group_details.avg': 0.0107119,\n",
       "    'Context.StorageManager.group_open_for_reads.sum': 0.0107147,\n",
       "    'Context.StorageManager.group_open_for_reads.avg': 0.0107147},\n",
       "   'counters': {'Context.StorageManager.read_unfiltered_byte_num': 291,\n",
       "    'Context.StorageManager.read_group_size': 152,\n",
       "    'Context.StorageManager.read_array_meta_size': 139,\n",
       "    'Context.StorageManager.VFS.read_ops_num': 6,\n",
       "    'Context.StorageManager.VFS.read_byte_num': 337,\n",
       "    'Context.StorageManager.VFS.ls_num': 3}}],\n",
       " 'get_exp_datapipe': [],\n",
       " 'benchmark-epoch0': []}"
      ]
     },
     "execution_count": 8,
     "metadata": {},
     "output_type": "execute_result"
    }
   ],
   "source": [
    "tdb.stats"
   ]
  },
  {
   "cell_type": "code",
   "execution_count": 9,
   "metadata": {
    "tags": []
   },
   "outputs": [
    {
     "data": {
      "text/plain": [
       "{'open_soma': [],\n",
       " 'datasets': [{'timers': {'Context.StorageManager.sm_load_fragment_metadata.sum': 0.0432856,\n",
       "    'Context.StorageManager.sm_load_fragment_metadata.avg': 0.0216428,\n",
       "    'Context.StorageManager.sm_load_filtered_fragment_uris.sum': 5.0694e-05,\n",
       "    'Context.StorageManager.sm_load_filtered_fragment_uris.avg': 2.5347e-05,\n",
       "    'Context.StorageManager.sm_load_array_schemas_and_fragment_metadata.sum': 0.0544591,\n",
       "    'Context.StorageManager.sm_load_array_schemas_and_fragment_metadata.avg': 0.0272295,\n",
       "    'Context.StorageManager.sm_load_array_schema_from_uri.sum': 0.0110763,\n",
       "    'Context.StorageManager.sm_load_array_schema_from_uri.avg': 0.00553817,\n",
       "    'Context.StorageManager.sm_load_array_metadata.sum': 0.00719966,\n",
       "    'Context.StorageManager.sm_load_array_metadata.avg': 0.00719966,\n",
       "    'Context.StorageManager.sm_load_all_array_schemas.sum': 0.0111022,\n",
       "    'Context.StorageManager.sm_load_all_array_schemas.avg': 0.00555111,\n",
       "    'Context.StorageManager.array_open_read_load_schemas_and_fragment_meta.sum': 0.0544678,\n",
       "    'Context.StorageManager.array_open_read_load_schemas_and_fragment_meta.avg': 0.0272339,\n",
       "    'Context.StorageManager.array_open_read_load_directory.sum': 0.0879893,\n",
       "    'Context.StorageManager.array_open_read_load_directory.avg': 0.0439947,\n",
       "    'Context.StorageManager.array_open_READ.sum': 0.142471,\n",
       "    'Context.StorageManager.array_open_READ.avg': 0.0712357,\n",
       "    'Context.StorageManager.VFS.ArrayDirectory.load_consolidated_commit_uris.sum': 0.0396504,\n",
       "    'Context.StorageManager.VFS.ArrayDirectory.load_consolidated_commit_uris.avg': 0.0198252,\n",
       "    'Context.StorageManager.VFS.ArrayDirectory.list_root_uris.sum': 0.0461536,\n",
       "    'Context.StorageManager.VFS.ArrayDirectory.list_root_uris.avg': 0.0230768,\n",
       "    'Context.StorageManager.VFS.ArrayDirectory.list_fragment_meta_uris.sum': 0.0407367,\n",
       "    'Context.StorageManager.VFS.ArrayDirectory.list_fragment_meta_uris.avg': 0.0203684,\n",
       "    'Context.StorageManager.VFS.ArrayDirectory.list_commit_uris.sum': 0.0467044,\n",
       "    'Context.StorageManager.VFS.ArrayDirectory.list_commit_uris.avg': 0.0233522,\n",
       "    'Context.StorageManager.VFS.ArrayDirectory.list_array_schema_uris.sum': 0.0259921,\n",
       "    'Context.StorageManager.VFS.ArrayDirectory.list_array_schema_uris.avg': 0.0129961,\n",
       "    'Context.StorageManager.VFS.ArrayDirectory.list_array_meta_uris.sum': 0.0470981,\n",
       "    'Context.StorageManager.VFS.ArrayDirectory.list_array_meta_uris.avg': 0.023549},\n",
       "   'counters': {'Context.StorageManager.read_unfiltered_byte_num': 1301,\n",
       "    'Context.StorageManager.read_frag_meta_size': 2044,\n",
       "    'Context.StorageManager.read_array_schema_size': 1230,\n",
       "    'Context.StorageManager.read_array_meta_size': 71,\n",
       "    'Context.StorageManager.VFS.read_ops_num': 15,\n",
       "    'Context.StorageManager.VFS.read_byte_num': 2950,\n",
       "    'Context.StorageManager.VFS.file_size_num': 4}}],\n",
       " 'get_exp_datapipe': [],\n",
       " 'benchmark-epoch0': []}"
      ]
     },
     "execution_count": 9,
     "metadata": {},
     "output_type": "execute_result"
    }
   ],
   "source": [
    "tdbs.stats"
   ]
  },
  {
   "cell_type": "code",
   "execution_count": 10,
   "metadata": {
    "tags": []
   },
   "outputs": [
    {
     "name": "stderr",
     "output_type": "stream",
     "text": [
      "Saved results to results/us-west-2.json\n"
     ]
    }
   ],
   "source": [
    "results_json_path = f'results/{name}.json'\n",
    "with open(results_json_path, 'w') as f:\n",
    "    json.dump(asdict(results), f, indent=2)\n",
    "    err(f\"Saved results to {results_json_path}\")"
   ]
  },
  {
   "cell_type": "code",
   "execution_count": 11,
   "metadata": {
    "tags": []
   },
   "outputs": [],
   "source": [
    "# with open(results_json_path, 'r') as f:\n",
    "#     results = Results(**json.load(f))"
   ]
  },
  {
   "cell_type": "markdown",
   "metadata": {
    "tags": []
   },
   "source": [
    "## Plot batch timings"
   ]
  },
  {
   "cell_type": "code",
   "execution_count": 12,
   "metadata": {
    "scrolled": true,
    "tags": []
   },
   "outputs": [
    {
     "name": "stderr",
     "output_type": "stream",
     "text": [
      "/tmp/ipykernel_25832/2254310219.py:5: FutureWarning: Downcasting object dtype arrays on .fillna, .ffill, .bfill is deprecated and will change in a future version. Call result.infer_objects(copy=False) instead. To opt-in to the future behavior, set `pd.set_option('future.no_silent_downcasting', True)`\n",
      "  df['gc'] = df['gc'].fillna(nan)\n"
     ]
    },
    {
     "data": {
      "text/html": [
       "<div>\n",
       "<style scoped>\n",
       "    .dataframe tbody tr th:only-of-type {\n",
       "        vertical-align: middle;\n",
       "    }\n",
       "\n",
       "    .dataframe tbody tr th {\n",
       "        vertical-align: top;\n",
       "    }\n",
       "\n",
       "    .dataframe thead th {\n",
       "        text-align: right;\n",
       "    }\n",
       "</style>\n",
       "<table border=\"1\" class=\"dataframe\">\n",
       "  <thead>\n",
       "    <tr style=\"text-align: right;\">\n",
       "      <th></th>\n",
       "      <th>idx</th>\n",
       "      <th>batch</th>\n",
       "    </tr>\n",
       "  </thead>\n",
       "  <tbody>\n",
       "    <tr>\n",
       "      <th>0</th>\n",
       "      <td>0</td>\n",
       "      <td>0.138209</td>\n",
       "    </tr>\n",
       "    <tr>\n",
       "      <th>1</th>\n",
       "      <td>1</td>\n",
       "      <td>0.110529</td>\n",
       "    </tr>\n",
       "    <tr>\n",
       "      <th>2</th>\n",
       "      <td>2</td>\n",
       "      <td>0.141621</td>\n",
       "    </tr>\n",
       "    <tr>\n",
       "      <th>3</th>\n",
       "      <td>3</td>\n",
       "      <td>0.151263</td>\n",
       "    </tr>\n",
       "    <tr>\n",
       "      <th>4</th>\n",
       "      <td>4</td>\n",
       "      <td>0.151116</td>\n",
       "    </tr>\n",
       "    <tr>\n",
       "      <th>...</th>\n",
       "      <td>...</td>\n",
       "      <td>...</td>\n",
       "    </tr>\n",
       "    <tr>\n",
       "      <th>125</th>\n",
       "      <td>125</td>\n",
       "      <td>0.104583</td>\n",
       "    </tr>\n",
       "    <tr>\n",
       "      <th>126</th>\n",
       "      <td>126</td>\n",
       "      <td>0.104859</td>\n",
       "    </tr>\n",
       "    <tr>\n",
       "      <th>127</th>\n",
       "      <td>127</td>\n",
       "      <td>0.108282</td>\n",
       "    </tr>\n",
       "    <tr>\n",
       "      <th>128</th>\n",
       "      <td>128</td>\n",
       "      <td>0.105040</td>\n",
       "    </tr>\n",
       "    <tr>\n",
       "      <th>129</th>\n",
       "      <td>129</td>\n",
       "      <td>0.621087</td>\n",
       "    </tr>\n",
       "  </tbody>\n",
       "</table>\n",
       "<p>130 rows × 2 columns</p>\n",
       "</div>"
      ],
      "text/plain": [
       "     idx     batch\n",
       "0      0  0.138209\n",
       "1      1  0.110529\n",
       "2      2  0.141621\n",
       "3      3  0.151263\n",
       "4      4  0.151116\n",
       "..   ...       ...\n",
       "125  125  0.104583\n",
       "126  126  0.104859\n",
       "127  127  0.108282\n",
       "128  128  0.105040\n",
       "129  129  0.621087\n",
       "\n",
       "[130 rows x 2 columns]"
      ]
     },
     "execution_count": 12,
     "metadata": {},
     "output_type": "execute_result"
    }
   ],
   "source": [
    "method = 'census'\n",
    "epoch = 0\n",
    "batches = getattr(results, 'census').epochs[epoch].batches\n",
    "df = pd.DataFrame(batches)\n",
    "df['gc'] = df['gc'].fillna(nan)\n",
    "if df.gc.isna().all():\n",
    "    df = df.drop(columns='gc')\n",
    "df.index.name = 'idx'\n",
    "df = df.reset_index()\n",
    "df"
   ]
  },
  {
   "cell_type": "code",
   "execution_count": 13,
   "metadata": {
    "scrolled": true,
    "tags": []
   },
   "outputs": [
    {
     "data": {
      "text/html": [
       "<div>\n",
       "<style scoped>\n",
       "    .dataframe tbody tr th:only-of-type {\n",
       "        vertical-align: middle;\n",
       "    }\n",
       "\n",
       "    .dataframe tbody tr th {\n",
       "        vertical-align: top;\n",
       "    }\n",
       "\n",
       "    .dataframe thead th {\n",
       "        text-align: right;\n",
       "    }\n",
       "</style>\n",
       "<table border=\"1\" class=\"dataframe\">\n",
       "  <thead>\n",
       "    <tr style=\"text-align: right;\">\n",
       "      <th></th>\n",
       "      <th>idx</th>\n",
       "      <th>batch</th>\n",
       "    </tr>\n",
       "  </thead>\n",
       "  <tbody>\n",
       "    <tr>\n",
       "      <th>8</th>\n",
       "      <td>8</td>\n",
       "      <td>6.639621</td>\n",
       "    </tr>\n",
       "    <tr>\n",
       "      <th>17</th>\n",
       "      <td>17</td>\n",
       "      <td>3.732073</td>\n",
       "    </tr>\n",
       "    <tr>\n",
       "      <th>26</th>\n",
       "      <td>26</td>\n",
       "      <td>6.612509</td>\n",
       "    </tr>\n",
       "    <tr>\n",
       "      <th>36</th>\n",
       "      <td>36</td>\n",
       "      <td>5.422949</td>\n",
       "    </tr>\n",
       "    <tr>\n",
       "      <th>45</th>\n",
       "      <td>45</td>\n",
       "      <td>4.340151</td>\n",
       "    </tr>\n",
       "    <tr>\n",
       "      <th>54</th>\n",
       "      <td>54</td>\n",
       "      <td>5.569529</td>\n",
       "    </tr>\n",
       "    <tr>\n",
       "      <th>64</th>\n",
       "      <td>64</td>\n",
       "      <td>6.031402</td>\n",
       "    </tr>\n",
       "    <tr>\n",
       "      <th>73</th>\n",
       "      <td>73</td>\n",
       "      <td>5.414223</td>\n",
       "    </tr>\n",
       "    <tr>\n",
       "      <th>82</th>\n",
       "      <td>82</td>\n",
       "      <td>5.612596</td>\n",
       "    </tr>\n",
       "    <tr>\n",
       "      <th>92</th>\n",
       "      <td>92</td>\n",
       "      <td>6.286216</td>\n",
       "    </tr>\n",
       "    <tr>\n",
       "      <th>101</th>\n",
       "      <td>101</td>\n",
       "      <td>6.055763</td>\n",
       "    </tr>\n",
       "    <tr>\n",
       "      <th>110</th>\n",
       "      <td>110</td>\n",
       "      <td>4.133603</td>\n",
       "    </tr>\n",
       "    <tr>\n",
       "      <th>120</th>\n",
       "      <td>120</td>\n",
       "      <td>4.538439</td>\n",
       "    </tr>\n",
       "    <tr>\n",
       "      <th>129</th>\n",
       "      <td>129</td>\n",
       "      <td>0.621087</td>\n",
       "    </tr>\n",
       "  </tbody>\n",
       "</table>\n",
       "</div>"
      ],
      "text/plain": [
       "     idx     batch\n",
       "8      8  6.639621\n",
       "17    17  3.732073\n",
       "26    26  6.612509\n",
       "36    36  5.422949\n",
       "45    45  4.340151\n",
       "54    54  5.569529\n",
       "64    64  6.031402\n",
       "73    73  5.414223\n",
       "82    82  5.612596\n",
       "92    92  6.286216\n",
       "101  101  6.055763\n",
       "110  110  4.133603\n",
       "120  120  4.538439\n",
       "129  129  0.621087"
      ]
     },
     "execution_count": 13,
     "metadata": {},
     "output_type": "execute_result"
    }
   ],
   "source": [
    "ann = df[df.batch > ann_cutoff] if ann_cutoff else df[[]]\n",
    "ann"
   ]
  },
  {
   "cell_type": "code",
   "execution_count": 14,
   "metadata": {
    "tags": []
   },
   "outputs": [
    {
     "data": {
      "text/plain": [
       "PlotConfigs(fmt='fig', w=1200, h=800, save=[], v=True, i=None, dir=None, grid='#ccc', bg='white')"
      ]
     },
     "execution_count": 14,
     "metadata": {},
     "output_type": "execute_result"
    }
   ],
   "source": [
    "pc"
   ]
  },
  {
   "cell_type": "code",
   "execution_count": 15,
   "metadata": {
    "tags": []
   },
   "outputs": [
    {
     "name": "stderr",
     "output_type": "stream",
     "text": [
      "Saving: img/census-us-west-2.png\n"
     ]
    },
    {
     "name": "stderr",
     "output_type": "stream",
     "text": [
      "Returning IPython Image\n"
     ]
    },
    {
     "data": {
      "image/png": "[encoded data removed]",
      "text/plain": [
       "<IPython.core.display.Image object>"
      ]
     },
     "execution_count": 15,
     "metadata": {},
     "output_type": "execute_result"
    }
   ],
   "source": [
    "fig = px.bar(\n",
    "    df.set_index('idx')[['batch', *(['gc'] if 'gc' in df else [])]],\n",
    "    barmode='stack',\n",
    "    labels={\n",
    "        'idx': 'Batch idx',\n",
    "        'variable': '',\n",
    "        'value': 'Time (s)',\n",
    "    },\n",
    "    log_y=log_plot,\n",
    ").update_layout(\n",
    "    title=dict(text=f'Batch+GC times ({method} / {name})'),\n",
    ").update_xaxes(\n",
    "    range=(-.5, len(df) - 1 + .5),\n",
    ")\n",
    "\n",
    "if not ann.empty:\n",
    "    anns = ann.set_index('idx').batch.to_dict().items()\n",
    "    for idx, batch in anns:\n",
    "        fig.add_annotation(\n",
    "            x=idx, y=log10(batch) if log_plot else batch,\n",
    "            showarrow=False,\n",
    "            text=f'{idx}: {batch:.1f}s',\n",
    "            xshift=7,\n",
    "            xanchor='left',\n",
    "        )\n",
    "\n",
    "plot(fig, f'census-{name}', fmt='png', save=['png'], w=width, h=height, dir='img',)"
   ]
  }
 ],
 "metadata": {
  "kernelspec": {
   "display_name": "Python 3 (ipykernel)",
   "language": "python",
   "name": "python3"
  },
  "language_info": {
   "codemirror_mode": {
    "name": "ipython",
    "version": 3
   },
   "file_extension": ".py",
   "mimetype": "text/x-python",
   "name": "python",
   "nbconvert_exporter": "python",
   "pygments_lexer": "ipython3",
   "version": "3.11.8"
  }
 },
 "nbformat": 4,
 "nbformat_minor": 5
}
