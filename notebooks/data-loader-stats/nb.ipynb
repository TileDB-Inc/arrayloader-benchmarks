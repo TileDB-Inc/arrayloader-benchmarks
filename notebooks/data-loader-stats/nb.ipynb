{
 "cells": [
  {
   "cell_type": "code",
   "execution_count": null,
   "id": "1e39a460-4de8-45e9-a8ee-65ef080a861f",
   "metadata": {
    "editable": true,
    "slideshow": {
     "slide_type": ""
    },
    "tags": []
   },
   "outputs": [],
   "source": [
    "from os import makedirs\n",
    "import pandas as pd\n",
    "import plotly.express as px\n",
    "from IPython.display import Image\n",
    "from benchmarks.cli.data_loader import DEFAULT_DB_PATH, TBL"
   ]
  },
  {
   "cell_type": "code",
   "execution_count": null,
   "id": "a8f69780-67fa-4c2b-bf1e-0d8b7b411163",
   "metadata": {
    "editable": true,
    "slideshow": {
     "slide_type": ""
    },
    "tags": [
     "parameters"
    ]
   },
   "outputs": [],
   "source": [
    "db_path = DEFAULT_DB_PATH  # SQL db path to read epoch stats from\n",
    "tbl = TBL                  # SQL table name to read epoch stats from\n",
    "out_dir = None             # Directory to save plot PNG/JSON to (e.g. \"m3\", \"azl\")\n",
    "host = None                # Description of host the stats were collected on, used in plot subtitle (e.g. \"M3 Mac\", \"Amazon Linux\")"
   ]
  },
  {
   "cell_type": "code",
   "execution_count": null,
   "id": "1db6fa96-7af1-4789-af2e-fddadbc53600",
   "metadata": {
    "editable": true,
    "slideshow": {
     "slide_type": ""
    },
    "tags": []
   },
   "outputs": [],
   "source": [
    "db_uri = f'sqlite:///{db_path}'\n",
    "df = pd.read_sql_table(tbl, db_uri)\n",
    "df"
   ]
  },
  {
   "cell_type": "code",
   "execution_count": null,
   "id": "4652cc25-c7e3-45e2-81e8-101fab6326ad",
   "metadata": {
    "editable": true,
    "slideshow": {
     "slide_type": ""
    },
    "tags": []
   },
   "outputs": [],
   "source": [
    "(df.elapsed > 0).value_counts()"
   ]
  },
  {
   "cell_type": "code",
   "execution_count": null,
   "id": "9963d75a-1ad9-4bd2-af0d-978c125db329",
   "metadata": {
    "editable": true,
    "slideshow": {
     "slide_type": ""
    },
    "tags": []
   },
   "outputs": [],
   "source": [
    "df.n_rows.value_counts()"
   ]
  },
  {
   "cell_type": "code",
   "execution_count": null,
   "id": "36875032-579e-4581-b34c-3b0dd0120bfd",
   "metadata": {
    "editable": true,
    "slideshow": {
     "slide_type": ""
    },
    "tags": []
   },
   "outputs": [],
   "source": [
    "chunk_sizes = list(map(str, sorted(df['soma_chunk_size'].unique())))\n",
    "x = 'SOMA chunk size'\n",
    "y = 'Samples / sec'\n",
    "df[x] = pd.Categorical(df['soma_chunk_size'].apply(str), categories=chunk_sizes)\n",
    "df[y] = df.n_rows / df.elapsed\n",
    "df"
   ]
  },
  {
   "cell_type": "code",
   "execution_count": null,
   "id": "e2a0c9d8-4177-4231-bb09-096d71aa5dd5",
   "metadata": {
    "editable": true,
    "slideshow": {
     "slide_type": ""
    },
    "tags": []
   },
   "outputs": [],
   "source": [
    "[hostname] = df.hostname.unique()\n",
    "hostname"
   ]
  },
  {
   "cell_type": "code",
   "execution_count": null,
   "id": "823f4d4a-fc19-4726-b06f-02904d6c3c61",
   "metadata": {
    "editable": true,
    "slideshow": {
     "slide_type": ""
    },
    "tags": []
   },
   "outputs": [],
   "source": [
    "[batch_size] = df.batch_size.unique()\n",
    "batch_size"
   ]
  },
  {
   "cell_type": "code",
   "execution_count": null,
   "id": "42eef9f6-b37f-4dd1-87d7-d5cd627c5dc9",
   "metadata": {
    "editable": true,
    "slideshow": {
     "slide_type": ""
    },
    "tags": []
   },
   "outputs": [],
   "source": [
    "if host is None:\n",
    "    if 'm3.lan' in hostname:\n",
    "        host = 'M3 Mac'\n",
    "    elif 'us-west-2' in hostname:\n",
    "        host = 'Amazon Linux'\n",
    "host_str = f\"{host}, \" if host else \"\""
   ]
  },
  {
   "cell_type": "code",
   "execution_count": null,
   "id": "6e6a7a9b-7975-4bda-b689-e346a5a36b16",
   "metadata": {
    "editable": true,
    "slideshow": {
     "slide_type": ""
    },
    "tags": []
   },
   "outputs": [],
   "source": [
    "dims = dict(width=1200, height=800)\n",
    "grid = '#ccc'\n",
    "fig = px.violin(\n",
    "    df, x=x, y=y,\n",
    "    category_orders={ y: chunk_sizes, },\n",
    "    color='fmt',\n",
    "    box=True,\n",
    "    points='all',\n",
    "    labels={ 'fmt': \"Format\", }\n",
    ").update_layout(\n",
    "    plot_bgcolor='white',\n",
    "    **dims,\n",
    "    title=dict(\n",
    "        text=f'Samples/sec<br><span style=\"font-size:0.8em\">({host_str}{batch_size} samples per PyTorch batch)',\n",
    "        x=0.5,\n",
    "    )\n",
    ").update_traces(\n",
    "    hovertemplate=None,\n",
    ").update_xaxes(\n",
    "    gridcolor=grid,\n",
    ").update_yaxes(\n",
    "    gridcolor=grid,\n",
    "    zeroline=True,\n",
    "    zerolinecolor=grid,\n",
    "    zerolinewidth=1,\n",
    "    rangemode='tozero',\n",
    ")\n",
    "if out_dir:\n",
    "    makedirs(out_dir, exist_ok=True)\n",
    "    fig.write_image(f'{out_dir}/fig.png', **dims)\n",
    "    fig.write_json(f'{out_dir}/fig.json')\n",
    "Image(fig.to_image(**dims))"
   ]
  }
 ],
 "metadata": {
  "kernelspec": {
   "display_name": "Python 3 (ipykernel)",
   "language": "python",
   "name": "python3"
  },
  "language_info": {
   "codemirror_mode": {
    "name": "ipython",
    "version": 3
   },
   "file_extension": ".py",
   "mimetype": "text/x-python",
   "name": "python",
   "nbconvert_exporter": "python",
   "pygments_lexer": "ipython3",
   "version": "3.11.8"
  }
 },
 "nbformat": 4,
 "nbformat_minor": 5
}
