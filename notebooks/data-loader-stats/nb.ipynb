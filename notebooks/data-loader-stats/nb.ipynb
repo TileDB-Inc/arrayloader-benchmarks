{
 "cells": [
  {
   "cell_type": "code",
   "execution_count": null,
   "id": "6be02d7f-9cc1-47b5-b89e-bd3d1a2fedd5",
   "metadata": {
    "editable": true,
    "slideshow": {
     "slide_type": ""
    },
    "tags": []
   },
   "outputs": [],
   "source": [
    "from math import log2\n",
    "from os import makedirs\n",
    "import pandas as pd\n",
    "from benchmarks.cli.data_loader import DEFAULT_DB_PATH, METHODS, TBL\n",
    "import plotly.express as px\n",
    "from IPython.display import Image\n",
    "from plotly.subplots import make_subplots\n",
    "import plotly.graph_objects as go\n",
    "from plotly.validators.scatter.marker import SymbolValidator\n",
    "symbols = SymbolValidator().values[2::12]"
   ]
  },
  {
   "cell_type": "code",
   "execution_count": null,
   "id": "a8f69780-67fa-4c2b-bf1e-0d8b7b411163",
   "metadata": {
    "editable": true,
    "slideshow": {
     "slide_type": ""
    },
    "tags": [
     "parameters"
    ]
   },
   "outputs": [],
   "source": [
    "db_path = DEFAULT_DB_PATH  # SQL db path to read epoch stats from\n",
    "tbl = TBL                  # SQL table name to read epoch stats from\n",
    "out_dir = None             # Directory to save plot PNG/JSON to (e.g. \"m3\", \"azl\")\n",
    "host = None                # Description of host the stats were collected on, used in plot subtitle (e.g. \"M3 Mac\", \"Amazon Linux\")\n",
    "show = None                # Set to \"png\" to render plots in notebook as PNGs (good for noninteractive mode / Git-committing)\n",
    "hostname = None            # Filter DB \"hostname\" field to values matching this regex"
   ]
  },
  {
   "cell_type": "code",
   "execution_count": null,
   "id": "1db6fa96-7af1-4789-af2e-fddadbc53600",
   "metadata": {
    "editable": true,
    "slideshow": {
     "slide_type": ""
    },
    "tags": []
   },
   "outputs": [],
   "source": [
    "db_uri = f'sqlite:///{db_path}'\n",
    "df = pd.read_sql_table(tbl, db_uri)\n",
    "if hostname:\n",
    "    df = df[df.hostname.str.contains(hostname)].reset_index(drop=True)\n",
    "df"
   ]
  },
  {
   "cell_type": "code",
   "execution_count": null,
   "id": "fa3bfe89-73fa-4c81-b821-be35eb57cfbc",
   "metadata": {},
   "outputs": [],
   "source": [
    "chunks_log2 = df.soma_chunk_size.apply(log2).apply(int).unique()\n",
    "min_chunk_log2, max_chunk_log2 = chunks_log2.min(), chunks_log2.max()\n",
    "chunks_log2 = chunks_log2.tolist()\n",
    "min_chunk_log2, max_chunk_log2, chunks_log2"
   ]
  },
  {
   "cell_type": "code",
   "execution_count": null,
   "id": "36875032-579e-4581-b34c-3b0dd0120bfd",
   "metadata": {
    "editable": true,
    "slideshow": {
     "slide_type": ""
    },
    "tags": []
   },
   "outputs": [],
   "source": [
    "chunk_sizes = list(map(str, sorted(df['soma_chunk_size'].unique())))\n",
    "x = 'SOMA chunk size'\n",
    "y = 'Samples / sec'\n",
    "df[x] = pd.Categorical(df['soma_chunk_size'].apply(str), categories=chunk_sizes)\n",
    "df[y] = df.n_rows / df.elapsed\n",
    "df"
   ]
  },
  {
   "cell_type": "code",
   "execution_count": null,
   "id": "e2a0c9d8-4177-4231-bb09-096d71aa5dd5",
   "metadata": {
    "editable": true,
    "slideshow": {
     "slide_type": ""
    },
    "tags": []
   },
   "outputs": [],
   "source": [
    "[hostname] = df.hostname.unique()\n",
    "hostname"
   ]
  },
  {
   "cell_type": "code",
   "execution_count": null,
   "id": "823f4d4a-fc19-4726-b06f-02904d6c3c61",
   "metadata": {
    "editable": true,
    "slideshow": {
     "slide_type": ""
    },
    "tags": []
   },
   "outputs": [],
   "source": [
    "[batch_size] = df.batch_size.unique()\n",
    "batch_size"
   ]
  },
  {
   "cell_type": "code",
   "execution_count": null,
   "id": "42eef9f6-b37f-4dd1-87d7-d5cd627c5dc9",
   "metadata": {
    "editable": true,
    "slideshow": {
     "slide_type": ""
    },
    "tags": []
   },
   "outputs": [],
   "source": [
    "if host is None:\n",
    "    if 'm3.lan' in hostname:\n",
    "        host = 'M3 Mac'\n",
    "    elif 'us-west-2' in hostname:\n",
    "        host = 'Amazon Linux'\n",
    "host_str = f\"{host}, \" if host else \"\""
   ]
  },
  {
   "cell_type": "code",
   "execution_count": null,
   "id": "2e0cd242-bb74-4fdf-a7ca-a59c477d8e33",
   "metadata": {},
   "outputs": [],
   "source": [
    "host_subtitle = f'({host_str}{batch_size} samples per PyTorch batch)'"
   ]
  },
  {
   "cell_type": "code",
   "execution_count": null,
   "id": "fc3aba52-95ba-4797-a634-e37bef4e3d2d",
   "metadata": {},
   "outputs": [],
   "source": [
    "def plot(\n",
    "    fig,\n",
    "    title,\n",
    "    name=None,\n",
    "    grid='#ccc',\n",
    "    subtitle_size='0.8em',\n",
    "    show=show,\n",
    "    **kwargs,\n",
    "):\n",
    "    traces = {}\n",
    "    if 'hovertemplate' in kwargs:\n",
    "        traces['hovertemplate'] = kwargs.pop('hovertemplate')\n",
    "    if 'w' in kwargs:\n",
    "        kwargs['width'] = kwargs.pop('w')\n",
    "    if 'h' in kwargs:\n",
    "        kwargs['height'] = kwargs.pop('h')\n",
    "    \n",
    "    if isinstance(title, list):\n",
    "        title, *subtitles = title\n",
    "        prefix = f'<br><span style=\"font-size:{subtitle_size}\">'\n",
    "        suffix = '</span>'\n",
    "        title = prefix.join([title] + [ f'{subtitle}{suffix}' for subtitle in subtitles ])\n",
    "\n",
    "    fig = (\n",
    "        fig\n",
    "        .update_layout(\n",
    "            plot_bgcolor='white',\n",
    "            title=dict(text=title, x=0.5),\n",
    "            **kwargs,\n",
    "        ).update_traces(**traces)\n",
    "        .update_xaxes(\n",
    "            gridcolor=grid,\n",
    "        ).update_yaxes(\n",
    "            gridcolor=grid,\n",
    "            zeroline=True,\n",
    "            zerolinecolor=grid,\n",
    "            zerolinewidth=1,\n",
    "            rangemode='tozero',\n",
    "        )\n",
    "    )\n",
    "    if out_dir and name:\n",
    "        makedirs(out_dir, exist_ok=True)\n",
    "        fig.write_image(f'{out_dir}/{name}.png', **dims)\n",
    "        fig.write_json(f'{out_dir}/{name}.json')\n",
    "    if show == 'png':\n",
    "        return Image(fig.to_image(**dims))\n",
    "    else:\n",
    "        return fig"
   ]
  },
  {
   "cell_type": "code",
   "execution_count": null,
   "id": "6e6a7a9b-7975-4bda-b689-e346a5a36b16",
   "metadata": {
    "editable": true,
    "slideshow": {
     "slide_type": ""
    },
    "tags": []
   },
   "outputs": [],
   "source": [
    "dims = dict(width=1200, height=800)\n",
    "grid = '#ccc'\n",
    "plot(\n",
    "    px.violin(\n",
    "        df, x=x, y=y,\n",
    "        category_orders={ x: chunk_sizes, },\n",
    "        color='method',\n",
    "        box=True,\n",
    "        points='all',\n",
    "        labels={ 'method': \"Format\", }\n",
    "    ),\n",
    "    title=['Samples/sec', host_subtitle],\n",
    "    name='speed_vs_chunks',\n",
    "    **dims,\n",
    ")"
   ]
  },
  {
   "cell_type": "code",
   "execution_count": null,
   "id": "4f4afdd0-b2ed-4c9b-a4a8-f81e81fc6de7",
   "metadata": {
    "editable": true,
    "slideshow": {
     "slide_type": ""
    },
    "tags": []
   },
   "outputs": [],
   "source": [
    "dims = dict(width=1200, height=800)\n",
    "grid = '#ccc'\n",
    "plot(\n",
    "    px.violin(\n",
    "        df, x=x, y='max_mem',\n",
    "        category_orders={ x: chunk_sizes, },\n",
    "        color='method',\n",
    "        box=True,\n",
    "        points='all',\n",
    "        labels={ 'method': \"Format\", 'max_mem': 'Max. memory usage', }\n",
    "    ),\n",
    "    title=['Max. memory usage', host_subtitle],\n",
    "    name=\"mem_vs_chunks\",\n",
    "    **dims,\n",
    ")"
   ]
  },
  {
   "cell_type": "code",
   "execution_count": null,
   "id": "fbd840aa-3113-49d8-b72d-043d72f212fe",
   "metadata": {},
   "outputs": [],
   "source": [
    "title = \"Samples/sec vs. memory use\""
   ]
  },
  {
   "cell_type": "code",
   "execution_count": null,
   "id": "e47563ef-866a-4aef-a6b1-6411299e0768",
   "metadata": {},
   "outputs": [],
   "source": [
    "fig = go.Figure()\n",
    "for idx, method in enumerate(METHODS):\n",
    "    f = df[df.method == method]\n",
    "    fig.add_trace(go.Scatter(\n",
    "        name=method,\n",
    "        x=f.max_mem,\n",
    "        y=f[y],\n",
    "        mode='markers+text',\n",
    "        marker=dict(\n",
    "            color=f.soma_chunk_size.apply(log2),\n",
    "            colorscale=px.colors.diverging.Portland,\n",
    "            cmin=min_chunk_log2,\n",
    "            cmax=max_chunk_log2 + .07,\n",
    "            colorbar=dict(\n",
    "                title='SOMA chunk size',\n",
    "                tickmode='array',\n",
    "                tickvals=chunks_log2,\n",
    "                ticktext=list(map(lambda e: f'{2**(e-10)} KiB', chunks_log2)),\n",
    "            ),\n",
    "            showscale=True,\n",
    "            opacity=0.4 + 0.5 * f.epoch / max(df.epoch),\n",
    "            size=18,\n",
    "            symbol=symbols[idx],\n",
    "        ),\n",
    "        customdata=f[['epoch', 'soma_chunk_size']],\n",
    "    ))\n",
    "\n",
    "plot(\n",
    "    fig,\n",
    "    [\n",
    "        title,\n",
    "        '\"np.array\" method: speed (and memory use) increase with chunk size',\n",
    "        '\"scipy\" methods: speed capped, regardless of chunk size',\n",
    "    ],\n",
    "    name=\"speed_vs_mem_1\",\n",
    "    width=1000, height=600,\n",
    "    hovertemplate='<br>'.join([\n",
    "        \"Epoch: %{customdata[0]}\",\n",
    "        \"Samples/sec: %{y:,d}\",\n",
    "        \"Memory: %{x:.3s}\",\n",
    "        \"SOMA chunk size: %{customdata[1]}\",\n",
    "    ]),\n",
    "    xaxis_title='Max. memory use',\n",
    "    xaxis_tickformat='s',\n",
    "    yaxis_title='Samples / sec',\n",
    "    legend=dict(\n",
    "        title_text='Method',\n",
    "        xanchor='right', x=.99,\n",
    "        yanchor='bottom', y=.01,\n",
    "        bordercolor=\"Black\",\n",
    "        borderwidth=2,\n",
    "    ),\n",
    ")"
   ]
  },
  {
   "cell_type": "code",
   "execution_count": null,
   "id": "b087edf5-2e31-4f93-903e-943c7818aa78",
   "metadata": {},
   "outputs": [],
   "source": [
    "max_mem = df.max_mem.max()\n",
    "max_mem"
   ]
  },
  {
   "cell_type": "code",
   "execution_count": null,
   "id": "2af6abea-8fb7-41bc-9132-2e26f20fa37a",
   "metadata": {},
   "outputs": [],
   "source": [
    "ncols = 3\n",
    "fig = make_subplots(\n",
    "    rows=1,\n",
    "    cols=ncols,\n",
    "    shared_yaxes=True,\n",
    "    subplot_titles=METHODS,\n",
    ")\n",
    "\n",
    "for col, method in enumerate(METHODS):\n",
    "    f = df[df.method == method]\n",
    "    fig.add_trace(\n",
    "        go.Scatter(\n",
    "            x=f.max_mem,\n",
    "            y=f[y],\n",
    "            mode='markers',\n",
    "            name=method,\n",
    "            marker=dict(\n",
    "                color=f.soma_chunk_size.apply(log2),\n",
    "                colorscale=px.colors.diverging.Portland,\n",
    "                cmin=min_chunk_log2,\n",
    "                cmax=max_chunk_log2 + .07,\n",
    "                colorbar=dict(\n",
    "                    title='SOMA chunk size',\n",
    "                    tickmode='array',\n",
    "                    tickvals=chunks_log2,\n",
    "                    ticktext=list(map(lambda e: f'{2**(e-10)} KiB', chunks_log2)),\n",
    "                ),\n",
    "                showscale=True,\n",
    "                opacity=0.4 + 0.5 * f.epoch / max(df.epoch),\n",
    "                size=12,\n",
    "            ),\n",
    "            customdata=f[['epoch', 'soma_chunk_size']],\n",
    "        ),\n",
    "        row=1, col=col+1,\n",
    "    )\n",
    "\n",
    "ss = [ \"\" if i == 1 else f\"{i}\" for i in range(1, ncols+1) ]\n",
    "plot(\n",
    "    fig.update_xaxes(range=[0, max_mem*1.03]),\n",
    "    [ title, host_subtitle, ],\n",
    "    title_y=.95,\n",
    "    name=\"speed_vs_mem_3\",\n",
    "    width=1000, height=600,\n",
    "    showlegend=False,\n",
    "    **{ f\"xaxis{(ncols+1)//2}_title\": \"Max. memory usage\" },\n",
    "    **{ f\"xaxis{s}_tickformat\": \"s\" for s in ss },\n",
    "    yaxis_title=\"Samples/sec\",\n",
    "    **{ f\"yaxis{s}_showticklabels\": True for s in ss },\n",
    ")"
   ]
  }
 ],
 "metadata": {
  "kernelspec": {
   "display_name": "Python 3 (ipykernel)",
   "language": "python",
   "name": "python3"
  },
  "language_info": {
   "codemirror_mode": {
    "name": "ipython",
    "version": 3
   },
   "file_extension": ".py",
   "mimetype": "text/x-python",
   "name": "python",
   "nbconvert_exporter": "python",
   "pygments_lexer": "ipython3",
   "version": "3.11.8"
  }
 },
 "nbformat": 4,
 "nbformat_minor": 5
}
