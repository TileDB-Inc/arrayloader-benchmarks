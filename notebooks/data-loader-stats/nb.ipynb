{
 "cells": [
  {
   "cell_type": "code",
   "execution_count": null,
   "id": "6be02d7f-9cc1-47b5-b89e-bd3d1a2fedd5",
   "metadata": {
    "editable": true,
    "slideshow": {
     "slide_type": ""
    },
    "tags": []
   },
   "outputs": [],
   "source": [
    "import utz\n",
    "from utz import *\n",
    "from utz.plots import symbols\n",
    "from benchmarks.cli.data_loader import DEFAULT_DB_PATH, METHODS, TBL"
   ]
  },
  {
   "cell_type": "code",
   "execution_count": null,
   "id": "a8f69780-67fa-4c2b-bf1e-0d8b7b411163",
   "metadata": {
    "editable": true,
    "slideshow": {
     "slide_type": ""
    },
    "tags": [
     "parameters"
    ]
   },
   "outputs": [],
   "source": [
    "db_path = DEFAULT_DB_PATH  # SQL db path to read epoch stats from\n",
    "tbl = TBL                  # SQL table name to read epoch stats from\n",
    "out_dir = None             # Directory to save plot PNG/JSON to (e.g. \"m3\", \"azl\")\n",
    "host = None                # Description of host the stats were collected on, used in plot subtitle (e.g. \"M3 Mac\", \"Amazon Linux\")\n",
    "show = None                # Set to \"png\" to render plots in notebook as PNGs (good for noninteractive mode / Git-committing)\n",
    "hostname = None            # Filter DB \"hostname\" field to values matching this regex\n",
    "W = 1000                   # Output plot width\n",
    "H =  600                   # Output plot height"
   ]
  },
  {
   "cell_type": "code",
   "execution_count": null,
   "id": "1db6fa96-7af1-4789-af2e-fddadbc53600",
   "metadata": {
    "editable": true,
    "scrolled": true,
    "slideshow": {
     "slide_type": ""
    },
    "tags": []
   },
   "outputs": [],
   "source": [
    "db_uri = f'sqlite:///{db_path}'\n",
    "df = pd.read_sql_table(tbl, db_uri)\n",
    "if hostname:\n",
    "    df = df[df.hostname.str.contains(hostname)].reset_index(drop=True).copy()\n",
    "df"
   ]
  },
  {
   "cell_type": "code",
   "execution_count": null,
   "id": "6d59bf6a-b526-4340-8f73-59901c836120",
   "metadata": {},
   "outputs": [],
   "source": [
    "df = df[df.method != 'scipy.coo'].copy()"
   ]
  },
  {
   "cell_type": "code",
   "execution_count": null,
   "id": "b61d64f1-c79d-4c76-8c3b-c99ca58a511d",
   "metadata": {},
   "outputs": [],
   "source": [
    "df['block_size'] = df.soma_chunk_size * df.shuffle_chunk_count\n",
    "df['block_size_lg2'] = df['block_size'].apply(log2).astype(int)\n",
    "block_lg2_vals = df['block_size_lg2'].unique().tolist()\n",
    "block_lg2_vals.sort()\n",
    "min_block_lg2, max_block_lg2 = min(block_lg2_vals), max(block_lg2_vals)\n",
    "min_block_lg2, max_block_lg2, block_lg2_vals"
   ]
  },
  {
   "cell_type": "code",
   "execution_count": null,
   "id": "96a6e56e-4f60-423f-89d8-1e253d8a6dbc",
   "metadata": {},
   "outputs": [],
   "source": [
    "# df.to_sql(tbl, db_uri, if_exists='replace', index=False)"
   ]
  },
  {
   "cell_type": "code",
   "execution_count": null,
   "id": "fa3bfe89-73fa-4c81-b821-be35eb57cfbc",
   "metadata": {},
   "outputs": [],
   "source": [
    "df['chunk_lg2'] = df.soma_chunk_size.apply(log2)\n",
    "chunk_lg2_vals = df.chunk_lg2.apply(int).unique().tolist()\n",
    "chunk_lg2_vals.sort()\n",
    "min_chunk_log2, max_chunk_log2 = min(chunk_lg2_vals), max(chunk_lg2_vals)\n",
    "min_chunk_log2, max_chunk_log2, chunk_lg2_vals"
   ]
  },
  {
   "cell_type": "code",
   "execution_count": null,
   "id": "8c198cf0-6fa9-4515-93e9-ab98db77b4e0",
   "metadata": {},
   "outputs": [],
   "source": [
    "df['count_lg2'] = df.shuffle_chunk_count.apply(log2).apply(int)\n",
    "counts_lg2_vals = df.count_lg2.unique().tolist()\n",
    "counts_lg2_vals.sort()\n",
    "min_count_lg2, max_count_lg2 = min(counts_lg2_vals), max(counts_lg2_vals)\n",
    "min_count_lg2, max_count_lg2, counts_lg2_vals"
   ]
  },
  {
   "cell_type": "code",
   "execution_count": null,
   "id": "fa800f16-4921-4317-b32c-1f6d6b8a2b15",
   "metadata": {},
   "outputs": [],
   "source": [
    "chunk_count_to_size = (\n",
    "    df\n",
    "    [['soma_chunk_size', 'shuffle_chunk_count']]\n",
    "    .value_counts()\n",
    "    .sort_index()\n",
    "    .index\n",
    "    .to_frame()\n",
    "    .reset_index(drop=True, level=0)\n",
    "    .soma_chunk_size\n",
    "    .to_dict()\n",
    ")\n",
    "chunk_count_to_size"
   ]
  },
  {
   "cell_type": "code",
   "execution_count": null,
   "id": "36875032-579e-4581-b34c-3b0dd0120bfd",
   "metadata": {
    "editable": true,
    "scrolled": true,
    "slideshow": {
     "slide_type": ""
    },
    "tags": []
   },
   "outputs": [],
   "source": [
    "C = 'SOMA chunk size'\n",
    "N = 'Shuffled chunk count'\n",
    "S = 'Samples / sec'\n",
    "df[C] = pd.Categorical(df.soma_chunk_size.apply(lambda c: f'{c:,}'))\n",
    "df[N] = pd.Categorical(df.shuffle_chunk_count.apply(lambda c: f'{c:,}'))\n",
    "chunk_sizes = df[C].unique()\n",
    "shuffle_chunk_counts = df[N].unique()\n",
    "df[S] = df.n_rows / df.elapsed\n",
    "M = 'Max. memory usage'\n",
    "df = df.rename(columns={ 'max_mem': M, 'method': 'Method', })\n",
    "df"
   ]
  },
  {
   "cell_type": "code",
   "execution_count": null,
   "id": "27e6ea15-5042-4f54-ac1e-fcf246b0f236",
   "metadata": {
    "editable": true,
    "slideshow": {
     "slide_type": ""
    },
    "tags": []
   },
   "outputs": [],
   "source": [
    "[hostname] = df.hostname.unique()\n",
    "print(f'{hostname=}')\n",
    "[batch_size] = df.batch_size.unique()\n",
    "print(f'{batch_size=}')\n",
    "[n_vars] = df.n_cols.unique()\n",
    "print(f'{n_vars=}')"
   ]
  },
  {
   "cell_type": "code",
   "execution_count": null,
   "id": "42eef9f6-b37f-4dd1-87d7-d5cd627c5dc9",
   "metadata": {
    "editable": true,
    "slideshow": {
     "slide_type": ""
    },
    "tags": []
   },
   "outputs": [],
   "source": [
    "if host is None:\n",
    "    if 'm3.lan' in hostname:\n",
    "        host = 'M3 Mac'\n",
    "    elif 'us-west-2' in hostname:\n",
    "        host = 'Amazon Linux'\n",
    "host_str = f\"{host}, \" if host else \"\""
   ]
  },
  {
   "cell_type": "code",
   "execution_count": null,
   "id": "2e0cd242-bb74-4fdf-a7ca-a59c477d8e33",
   "metadata": {},
   "outputs": [],
   "source": [
    "host_subtitle = f'{host_str}{batch_size} samples per PyTorch batch'"
   ]
  },
  {
   "cell_type": "code",
   "execution_count": null,
   "id": "fc3aba52-95ba-4797-a634-e37bef4e3d2d",
   "metadata": {},
   "outputs": [],
   "source": [
    "def plot(\n",
    "    fig,\n",
    "    *args,\n",
    "    **kwargs,\n",
    "):\n",
    "    return utz.plot(\n",
    "        fig,\n",
    "        *args,        \n",
    "        dir=out_dir,\n",
    "        w=W, h=H,\n",
    "        **kwargs,\n",
    "    )"
   ]
  },
  {
   "cell_type": "code",
   "execution_count": null,
   "id": "fbd840aa-3113-49d8-b72d-043d72f212fe",
   "metadata": {},
   "outputs": [],
   "source": [
    "title = \"Samples/sec vs. memory use\"\n",
    "\n",
    "def ticktext(e):\n",
    "    chunk_count = int(2**e)\n",
    "    return f'{chunk_count:,}'\n",
    "\n",
    "tickvals = counts_lg2_vals\n",
    "colorbar = dict(\n",
    "    title=utz.plots.title(['# Chunks', 'per shuffled block']),\n",
    "    tickmode='array',\n",
    "    tickvals=tickvals,\n",
    "    ticktext=list(map(ticktext, tickvals)),\n",
    ")"
   ]
  },
  {
   "cell_type": "code",
   "execution_count": null,
   "id": "e47563ef-866a-4aef-a6b1-6411299e0768",
   "metadata": {},
   "outputs": [],
   "source": [
    "min_size, max_size = 10, 18\n",
    "fig = go.Figure()\n",
    "for idx, method in enumerate(METHODS):\n",
    "    f = df[df.Method == method]\n",
    "    fig.add_trace(go.Scatter(\n",
    "        name=method,\n",
    "        x=f[M],\n",
    "        y=f[S],\n",
    "        mode='markers',\n",
    "        marker=dict(\n",
    "            color=f.count_lg2,\n",
    "            colorscale=px.colors.diverging.Portland,\n",
    "            cmin=min_count_lg2,\n",
    "            cmax=max_count_lg2 + .12,\n",
    "            colorbar=colorbar,\n",
    "            showscale=True,\n",
    "            opacity=0.4 + 0.5 * f.epoch / df.epoch.max(),\n",
    "            size=min_size + (max_size - min_size) * (f.block_size_lg2 - min_block_lg2) / (max_block_lg2 - min_block_lg2),\n",
    "            symbol=symbols[idx],\n",
    "        ),\n",
    "        customdata=f[['epoch', 'soma_chunk_size', 'shuffle_chunk_count', 'block_size',]],\n",
    "    ))\n",
    "\n",
    "proportional = '<span style=\"font-size:2em\">∝</span>'\n",
    "size_text = f'Marker size {proportional} shuffled block size (rows/chunk * chunks/block; {\", \".join([ f\"{s}\" for s in sorted(df.block_size.unique()) ])})'\n",
    "opacity_text = f'Marker opacity {proportional} epoch (more recent ⇒ darker)'\n",
    "# fig.add_annotation(\n",
    "#     x=.99, y=.2,\n",
    "#     xref=\"paper\", yref=\"paper\",\n",
    "#     text=size_text,\n",
    "#     showarrow=False,\n",
    "# )\n",
    "\n",
    "plot(\n",
    "    fig,\n",
    "    utz.plots.title([\n",
    "        title,\n",
    "        host_subtitle,\n",
    "        size_text,\n",
    "        opacity_text,\n",
    "    ], subtitle_size=\"0.7em\"),\n",
    "    title_y=.95,\n",
    "    name=\"speed_vs_mem_1\",\n",
    "    hovertemplate=[\n",
    "        \"Epoch: %{customdata[0]}\",\n",
    "        \"Samples/sec: %{y:,d}\",\n",
    "        \"Memory: %{x:.3s}\",\n",
    "        \"%s: %%{customdata[1]}\" % C,\n",
    "        \"Chunks per shuffled block: %{customdata[2]}\",\n",
    "        \"Shuffled block size: %{customdata[3]}\",\n",
    "    ],\n",
    "    xtitle=M,\n",
    "    xaxis_tickformat='s',\n",
    "    xaxis_rangemode='tozero',\n",
    "    ytitle=S,\n",
    "    legend=dict(\n",
    "        title_text='Method',\n",
    "        xanchor='right', x=.99,\n",
    "        yanchor='bottom', y=.01,\n",
    "        bordercolor=\"Black\",\n",
    "        borderwidth=2,\n",
    "    ),\n",
    "    zerolines='y',\n",
    ")"
   ]
  }
 ],
 "metadata": {
  "kernelspec": {
   "display_name": "Python 3 (ipykernel)",
   "language": "python",
   "name": "python3"
  },
  "language_info": {
   "codemirror_mode": {
    "name": "ipython",
    "version": 3
   },
   "file_extension": ".py",
   "mimetype": "text/x-python",
   "name": "python",
   "nbconvert_exporter": "python",
   "pygments_lexer": "ipython3",
   "version": "3.11.8"
  }
 },
 "nbformat": 4,
 "nbformat_minor": 5
}
