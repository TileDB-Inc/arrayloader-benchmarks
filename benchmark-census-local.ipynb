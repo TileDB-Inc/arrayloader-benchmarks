{
 "cells": [
  {
   "cell_type": "code",
   "execution_count": 1,
   "id": "1e129fe5-c0f8-4d8e-939d-480c7bc615f0",
   "metadata": {},
   "outputs": [],
   "source": [
    "from utils import *\n",
    "\n",
    "import cellxgene_census\n",
    "import cellxgene_census.experimental.ml as census_ml\n",
    "import somacore as soma\n",
    "from somacore import AxisQuery, ExperimentAxisQuery\n",
    "import tiledbsoma\n",
    "from tiledbsoma import Experiment, Measurement"
   ]
  },
  {
   "cell_type": "code",
   "execution_count": 2,
   "id": "7420ba62-404b-4850-9268-b0c69fa73213",
   "metadata": {},
   "outputs": [
    {
     "name": "stderr",
     "output_type": "stream",
     "text": [
      "The \"stable\" release is currently 2023-12-15. Specify 'census_version=\"2023-12-15\"' in future calls to open_soma() to ensure data consistency.\n"
     ]
    },
    {
     "data": {
      "text/plain": [
       "['8e10f1c4-8e98-41e5-b65f-8cd89a887122',\n",
       " 'b165f033-9dec-468a-9248-802fc6902a74',\n",
       " 'ff7d15fa-f4b6-4a0e-992e-fd0c9d088ded',\n",
       " 'fe1a73ab-a203-45fd-84e9-0f7fd19efcbd',\n",
       " 'fbf173f9-f809-4d84-9b65-ae205d35b523',\n",
       " 'fa554686-fc07-44dd-b2de-b726d82d26ec',\n",
       " 'f9034091-2e8f-4ac6-9874-e7b7eb566824',\n",
       " 'f8dda921-5fb4-4c94-a654-c6fc346bfd6d',\n",
       " 'f7d003d4-40d5-4de8-858c-a9a8b48fcc67',\n",
       " 'f6d9f2ad-5ec7-4d53-b7f0-ceb0e7bcd181']"
      ]
     },
     "execution_count": 2,
     "metadata": {},
     "output_type": "execute_result"
    }
   ],
   "source": [
    "census = cellxgene_census.open_soma()\n",
    "\n",
    "#reference = ln.Collection.filter(uid=\"1gsdckxvOvIjQgeDVS1F\").one().reference\n",
    "reference = '283d65eb-dd53-496d-adb7-7570c7caa443'\n",
    "query_collection_id = f\"collection_id == '{reference}'\"\n",
    "datasets = (\n",
    "    census[\"census_info\"][\"datasets\"]\n",
    "    .read(column_names=[\"dataset_id\"], value_filter=query_collection_id)\n",
    "    .concat().to_pandas()\n",
    ")[\"dataset_id\"].tolist()\n",
    "\n",
    "datasets[:10]"
   ]
  },
  {
   "cell_type": "code",
   "execution_count": 3,
   "id": "d0ad65a7-935e-484c-8346-169a6bc6e422",
   "metadata": {},
   "outputs": [
    {
     "data": {
      "text/plain": [
       "138"
      ]
     },
     "execution_count": 3,
     "metadata": {},
     "output_type": "execute_result"
    }
   ],
   "source": [
    "len(datasets)"
   ]
  },
  {
   "cell_type": "code",
   "execution_count": 4,
   "id": "97b96aa4-c765-426a-a310-e2a9425a4fb7",
   "metadata": {},
   "outputs": [],
   "source": [
    "def subset_census(query: ExperimentAxisQuery, output_base_dir: str) -> None:\n",
    "    \"\"\"\n",
    "    Subset the census cube to the given query, returning a new cube.\n",
    "    \"\"\"\n",
    "    with Experiment.create(uri=output_base_dir) as exp_subset:\n",
    "        x_data = query.X(layer_name=\"raw\").tables().concat()\n",
    "\n",
    "        obs_data = query.obs().concat()\n",
    "        # remove obs rows with no X data\n",
    "        x_soma_dim_0_unique = pa.Table.from_arrays([x_data[\"soma_dim_0\"].unique()], names=[\"soma_dim_0\"])\n",
    "        obs_data = obs_data.join(x_soma_dim_0_unique, keys=\"soma_joinid\", right_keys=\"soma_dim_0\", join_type=\"inner\")\n",
    "        obs = tiledbsoma.DataFrame.create(join(output_base_dir, \"obs\"), schema=obs_data.schema)\n",
    "        obs.write(obs_data)\n",
    "        exp_subset.set(\"obs\", obs)\n",
    "\n",
    "        ms = exp_subset.add_new_collection(\"ms\")\n",
    "        rna = ms.add_new_collection(\"RNA\", Measurement)\n",
    "\n",
    "        var_data = query.var().concat()\n",
    "        var = rna.add_new_dataframe(\"var\", schema=var_data.schema)\n",
    "        var.write(var_data)\n",
    "\n",
    "        x_type = x_data.schema.field_by_name(\"soma_data\").type\n",
    "        rna.add_new_collection(\"X\")\n",
    "        rna[\"X\"].add_new_sparse_ndarray(\"raw\", type=x_type, shape=(None, None))\n",
    "        rna.X[\"raw\"].write(x_data)"
   ]
  },
  {
   "cell_type": "code",
   "execution_count": 5,
   "id": "73e0d831-da5d-41e0-ac4b-ac9e2e359a90",
   "metadata": {},
   "outputs": [
    {
     "data": {
      "text/plain": [
       "<Experiment 's3://cellxgene-census-public-us-west-2/cell-census/2023-12-15/soma/census_data/homo_sapiens' (open for 'r') (2 items)\n",
       "    'ms': 's3://cellxgene-census-public-us-west-2/cell-census/2023-12-15/soma/census_data/homo_sapiens/ms' (unopened)\n",
       "    'obs': 's3://cellxgene-census-public-us-west-2/cell-census/2023-12-15/soma/census_data/homo_sapiens/obs' (unopened)>"
      ]
     },
     "execution_count": 5,
     "metadata": {},
     "output_type": "execute_result"
    }
   ],
   "source": [
    "experiment = census[\"census_data\"][\"homo_sapiens\"]\n",
    "experiment"
   ]
  },
  {
   "cell_type": "code",
   "execution_count": 6,
   "id": "4d46d656-9760-4748-8b78-a8e430b15fa6",
   "metadata": {},
   "outputs": [],
   "source": [
    "def download_datasets(start=None, n=None):\n",
    "    start = start or 0\n",
    "    end = len(datasets) if n is None else start + n\n",
    "    ds = datasets[start:end]\n",
    "    err(f\"Downloading {len(ds)} datasets:\\n\\t%s\" % \"\\n\\t\".join(ds))\n",
    "    query_datasets = f'dataset_id in {ds}'\n",
    "    query = experiment.axis_query(\n",
    "        \"RNA\",\n",
    "        obs_query=AxisQuery(value_filter=query_datasets),\n",
    "        var_query=AxisQuery(coords=(slice(20000-1),)),\n",
    "    )\n",
    "    \n",
    "    output_base_dir = f'/mnt/nvme/census-benchmark_{start}:{end}'\n",
    "    if exists(output_base_dir):\n",
    "        err(f\"Removing {output_base_dir}\")\n",
    "        rmtree(output_base_dir)\n",
    "    \n",
    "    subset_census(query, output_base_dir)"
   ]
  },
  {
   "cell_type": "markdown",
   "id": "a705762e-60da-47bd-bf93-f6fdaad4be93",
   "metadata": {},
   "source": [
    "Just downloading the first dataset is OOMing a 128GB worker…"
   ]
  },
  {
   "cell_type": "code",
   "execution_count": 7,
   "id": "356f64a0-8d36-405c-9570-1edc6e35ad83",
   "metadata": {},
   "outputs": [
    {
     "name": "stderr",
     "output_type": "stream",
     "text": [
      "Downloading 5 datasets:\n",
      "\tff7d15fa-f4b6-4a0e-992e-fd0c9d088ded\n",
      "\tfe1a73ab-a203-45fd-84e9-0f7fd19efcbd\n",
      "\tfbf173f9-f809-4d84-9b65-ae205d35b523\n",
      "\tfa554686-fc07-44dd-b2de-b726d82d26ec\n",
      "\tf9034091-2e8f-4ac6-9874-e7b7eb566824\n",
      "/tmp/ipykernel_8202/1138040736.py:18: FutureWarning: The 'field_by_name' method is deprecated, use 'field' instead\n",
      "  subset_census(query, output_base_dir)\n"
     ]
    },
    {
     "name": "stdout",
     "output_type": "stream",
     "text": [
      "CPU times: user 26min 9s, sys: 1min 1s, total: 27min 11s\n",
      "Wall time: 2min 1s\n"
     ]
    }
   ],
   "source": [
    "%%time\n",
    "download_datasets(2, n=5)"
   ]
  }
 ],
 "metadata": {
  "kernelspec": {
   "display_name": "Python 3 (ipykernel)",
   "language": "python",
   "name": "python3"
  },
  "language_info": {
   "codemirror_mode": {
    "name": "ipython",
    "version": 3
   },
   "file_extension": ".py",
   "mimetype": "text/x-python",
   "name": "python",
   "nbconvert_exporter": "python",
   "pygments_lexer": "ipython3",
   "version": "3.11.8"
  }
 },
 "nbformat": 4,
 "nbformat_minor": 5
}
