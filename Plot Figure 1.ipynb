{
 "cells": [
  {
   "cell_type": "markdown",
   "id": "f591ec86",
   "metadata": {},
   "source": [
    "# Plot Figure 1"
   ]
  },
  {
   "cell_type": "code",
   "execution_count": null,
   "id": "c107369b",
   "metadata": {
    "tags": []
   },
   "outputs": [],
   "source": [
    "import lamindb as ln\n",
    "import seaborn as sns\n",
    "import pandas as pd\n",
    "import matplotlib.pyplot as plt \n",
    "\n",
    "ln.connect(\"laminlabs/arrayloader-benchmarks\")\n",
    "sns.set_theme()\n",
    "ln.settings.transform.stem_uid = \"faAhgiIDemaP\"\n",
    "ln.settings.transform.version = \"4.1\"\n",
    "%config InlineBackend.figure_formats = ['svg']"
   ]
  },
  {
   "cell_type": "code",
   "execution_count": null,
   "id": "f9cac710",
   "metadata": {
    "tags": []
   },
   "outputs": [],
   "source": [
    "ln.track()"
   ]
  },
  {
   "cell_type": "code",
   "execution_count": null,
   "id": "9eb45b41",
   "metadata": {},
   "outputs": [],
   "source": [
    "BATCH_SIZE = 1024"
   ]
  },
  {
   "cell_type": "markdown",
   "id": "bceb42fa",
   "metadata": {},
   "source": [
    "## Replot MappedCollection, Merlin, cellxgene-census benchmarks"
   ]
  },
  {
   "cell_type": "code",
   "execution_count": null,
   "id": "0546a8bf-5201-496f-81fd-f04f13fda5c6",
   "metadata": {},
   "outputs": [],
   "source": [
    "artifact = ln.Artifact.filter(uid=\"WDNVolxzqPiZ2Mtus9vJ\").one()\n",
    "artifact"
   ]
  },
  {
   "cell_type": "code",
   "execution_count": null,
   "id": "34b88998",
   "metadata": {},
   "outputs": [],
   "source": [
    "df = artifact.load()\n",
    "df"
   ]
  },
  {
   "cell_type": "code",
   "execution_count": null,
   "id": "4123af96",
   "metadata": {},
   "outputs": [],
   "source": [
    "df.method = df.method.astype(pd.CategoricalDtype(df.method.unique()))"
   ]
  },
  {
   "cell_type": "markdown",
   "id": "639b623a",
   "metadata": {},
   "source": [
    "The dataframe index here enumerates the batch-loading operation within an epoch."
   ]
  },
  {
   "cell_type": "code",
   "execution_count": null,
   "id": "ebaee1eb",
   "metadata": {},
   "outputs": [],
   "source": [
    "df_subsampled = df.sample(frac=0.01)"
   ]
  },
  {
   "cell_type": "code",
   "execution_count": null,
   "id": "9bc059e1",
   "metadata": {},
   "outputs": [],
   "source": [
    "df_subsampled.shape"
   ]
  },
  {
   "cell_type": "code",
   "execution_count": null,
   "id": "c1472983",
   "metadata": {},
   "outputs": [],
   "source": [
    "def panel1(ax=None):\n",
    "    ax = sns.boxplot(df_subsampled, x=\"method\", y=\"batch_times\", hue=\"epoch\", ax=ax, showfliers=False, legend=False)\n",
    "    ax = sns.stripplot(df_subsampled, x=\"method\", y=\"batch_times\", hue=\"epoch\", ax=ax, legend=False, dodge=True, size=2, jitter=0.1, alpha=0.7, palette='dark:black')\n",
    "    ax.set_ylabel(\"time per batch (s)\")\n",
    "    ax.set(yscale=\"log\", xlabel=None)\n",
    "\n",
    "panel1()"
   ]
  },
  {
   "cell_type": "code",
   "execution_count": null,
   "id": "578d4b6f",
   "metadata": {},
   "outputs": [],
   "source": [
    "ax = sns.barplot(df, x=\"method\", y=\"batch_times\", hue=\"epoch\")\n",
    "ax.set_ylabel(\"time per batch (s)\")\n",
    "ax.set(yscale=\"log\", xlabel=None)"
   ]
  },
  {
   "cell_type": "markdown",
   "id": "221b0c2f",
   "metadata": {},
   "source": [
    "## Convert to per epoch statistics"
   ]
  },
  {
   "cell_type": "code",
   "execution_count": null,
   "id": "94ac5f3d",
   "metadata": {},
   "outputs": [],
   "source": [
    "df.method = df.method.astype(pd.CategoricalDtype([\"Merlin\", \"MappedCollection\", \"Census\"]))"
   ]
  },
  {
   "cell_type": "code",
   "execution_count": null,
   "id": "9fbe6ce9",
   "metadata": {},
   "outputs": [],
   "source": [
    "epoch_stats = df.groupby([\"method\", \"epoch\"]).sum()"
   ]
  },
  {
   "cell_type": "code",
   "execution_count": null,
   "id": "98f1c327",
   "metadata": {},
   "outputs": [],
   "source": [
    "epoch_stats"
   ]
  },
  {
   "cell_type": "code",
   "execution_count": null,
   "id": "9c92a0ac",
   "metadata": {},
   "outputs": [],
   "source": [
    "epoch_stats /= 3600"
   ]
  },
  {
   "cell_type": "code",
   "execution_count": null,
   "id": "30fd38b5",
   "metadata": {},
   "outputs": [],
   "source": [
    "def panel2(ax=None):\n",
    "    ax = sns.barplot(epoch_stats, x=\"method\", y=\"batch_times\", hue=\"epoch\", ax=ax)\n",
    "    ax.set_ylabel(\"time per epoch (h)\")\n",
    "    ax.set(xlabel=None)\n",
    "\n",
    "panel2()"
   ]
  },
  {
   "cell_type": "markdown",
   "id": "d7565bd0",
   "metadata": {},
   "source": [
    "## Convert to samples per second"
   ]
  },
  {
   "cell_type": "code",
   "execution_count": null,
   "id": "fadc8502",
   "metadata": {},
   "outputs": [],
   "source": [
    "samples_per_second = 10e6 / (epoch_stats * 3600)\n",
    "samples_per_second"
   ]
  },
  {
   "cell_type": "code",
   "execution_count": null,
   "id": "5ca436ac",
   "metadata": {},
   "outputs": [],
   "source": [
    "def panel3(ax=None):\n",
    "    ax = sns.barplot(samples_per_second, x=\"method\", y=\"batch_times\", hue=\"epoch\", ax=ax)\n",
    "    ax.set_ylabel(\"samples per second (avg per epoch)\")\n",
    "    ax.set(xlabel=None)\n",
    "\n",
    "panel3()"
   ]
  },
  {
   "cell_type": "markdown",
   "id": "ccaccf36",
   "metadata": {},
   "source": [
    "## One figure"
   ]
  },
  {
   "cell_type": "code",
   "execution_count": null,
   "id": "e7a2c764",
   "metadata": {},
   "outputs": [],
   "source": [
    "fig, axs = plt.subplots(1, 3, figsize=(12, 4))\n",
    "\n",
    "panel1(axs[0])\n",
    "panel2(axs[1])\n",
    "panel3(axs[2])\n",
    "\n",
    "fig.suptitle(f\"Loading batches of size {BATCH_SIZE} out of a 10M x 20k array across 5 epochs\", fontsize=12)\n",
    "\n",
    "plt.tight_layout(rect=[0, 0.03, 1, 1.05])\n",
    "plt.show()"
   ]
  },
  {
   "cell_type": "code",
   "execution_count": null,
   "id": "c4ba10d9",
   "metadata": {},
   "outputs": [],
   "source": [
    "ln.finish(i_saved_the_notebook=True)"
   ]
  }
 ],
 "metadata": {
  "kernelspec": {
   "display_name": "py310",
   "language": "python",
   "name": "python3"
  },
  "language_info": {
   "codemirror_mode": {
    "name": "ipython",
    "version": 3
   },
   "file_extension": ".py",
   "mimetype": "text/x-python",
   "name": "python",
   "nbconvert_exporter": "python",
   "pygments_lexer": "ipython3",
   "version": "3.10.13"
  },
  "nbproject": {
   "id": "faAhgiIDemaP",
   "parent": null,
   "pypackage": null,
   "time_init": "2024-02-22T12:39:58.423068+00:00",
   "user_handle": null,
   "user_id": null,
   "user_name": null,
   "version": "1"
  }
 },
 "nbformat": 4,
 "nbformat_minor": 5
}
