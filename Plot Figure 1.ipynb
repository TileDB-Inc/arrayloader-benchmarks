{
 "cells": [
  {
   "cell_type": "markdown",
   "id": "f591ec86",
   "metadata": {},
   "source": [
    "# Plot Figure 1"
   ]
  },
  {
   "cell_type": "code",
   "execution_count": null,
   "id": "c107369b",
   "metadata": {
    "tags": []
   },
   "outputs": [],
   "source": [
    "import seaborn as sns\n",
    "import pandas as pd\n",
    "import matplotlib.pyplot as plt \n",
    "\n",
    "sns.set_theme()\n",
    "%config InlineBackend.figure_formats = ['svg']"
   ]
  },
  {
   "cell_type": "code",
   "execution_count": null,
   "id": "9eb45b41",
   "metadata": {},
   "outputs": [],
   "source": [
    "BATCH_SIZE = 1024"
   ]
  },
  {
   "cell_type": "markdown",
   "id": "bceb42fa",
   "metadata": {},
   "source": [
    "## Replot MappedCollection, Merlin, cellxgene-census benchmarks"
   ]
  },
  {
   "cell_type": "code",
   "execution_count": null,
   "id": "715c7e31-b87c-4f24-bab7-5980fcbbaca1",
   "metadata": {},
   "outputs": [],
   "source": [
    "df = pd.read_parquet('WDNVolxzqPiZ2Mtus9vJ.parquet')\n",
    "df.method = df.method.astype(pd.CategoricalDtype(df.method.unique()))\n",
    "df"
   ]
  },
  {
   "cell_type": "markdown",
   "id": "639b623a",
   "metadata": {},
   "source": [
    "The dataframe index here enumerates the batch-loading operation within an epoch."
   ]
  },
  {
   "cell_type": "code",
   "execution_count": null,
   "id": "bf9ba9bf-bb0e-4316-aa10-7c50f4260f5e",
   "metadata": {},
   "outputs": [],
   "source": [
    "def panel1(ax=None, frac=0.01, stripplot=True):\n",
    "    df_subsampled = df.sample(frac=frac)\n",
    "    print(f\"Subsampled: {df_subsampled.shape}\")\n",
    "    ax = sns.boxplot(df_subsampled, x=\"method\", y=\"batch_times\", hue=\"epoch\", ax=ax, showfliers=False, legend=False)\n",
    "    if stripplot:\n",
    "        ax = sns.stripplot(df_subsampled, x=\"method\", y=\"batch_times\", hue=\"epoch\", ax=ax, legend=False, dodge=True, size=2, jitter=0.1, alpha=0.7, palette='dark:black')\n",
    "    ax.set_ylabel(\"time per batch (s)\")\n",
    "    ax.set(yscale=\"log\", xlabel=None)\n",
    "    return ax"
   ]
  },
  {
   "cell_type": "code",
   "execution_count": null,
   "id": "b4290422-112f-42b0-a615-02ec965d40f6",
   "metadata": {},
   "outputs": [],
   "source": [
    "frac = 0.05\n",
    "for i in range(5):\n",
    "    ax = panel1(frac=frac)\n",
    "    ax.set(ylim=(.01, 10))\n",
    "    ax.figure.savefig(f'f1_5p_{i}.png')\n",
    "    plt.clf()"
   ]
  },
  {
   "cell_type": "code",
   "execution_count": null,
   "id": "d59de1da-fc84-48c6-942b-e857aa9a839d",
   "metadata": {},
   "outputs": [],
   "source": [
    "panel1(frac=1, stripplot=False)"
   ]
  },
  {
   "cell_type": "code",
   "execution_count": null,
   "id": "8b1fe6b4-76ed-46cf-b19d-9ec0fcb6a1aa",
   "metadata": {},
   "outputs": [],
   "source": [
    "panel1(frac=0.1)"
   ]
  },
  {
   "cell_type": "code",
   "execution_count": null,
   "id": "c4a48131-b0df-48ae-97a1-5348f96dd97d",
   "metadata": {},
   "outputs": [],
   "source": [
    "panel1()"
   ]
  },
  {
   "cell_type": "code",
   "execution_count": null,
   "id": "849360a0-6fd3-42b1-8c1b-0f9b9ecd4199",
   "metadata": {},
   "outputs": [],
   "source": [
    "def batches_histplot(method, ax=None):\n",
    "    return sns.histplot(\n",
    "        df[df.method == method],\n",
    "        x='batch_times',\n",
    "        hue='epoch',\n",
    "        multiple='stack',\n",
    "        log_scale=True,\n",
    "        ax=ax,\n",
    "    )"
   ]
  },
  {
   "cell_type": "code",
   "execution_count": null,
   "id": "d86159b1-8e61-48d3-a1c6-27b2ccf7e345",
   "metadata": {},
   "outputs": [],
   "source": [
    "sns.violinplot(df.sample(frac=0.1), x='method', y='batch_times', hue='epoch', log_scale=True)"
   ]
  },
  {
   "cell_type": "code",
   "execution_count": null,
   "id": "a566f426-5960-454c-9a18-ac686f71210d",
   "metadata": {},
   "outputs": [],
   "source": [
    "sns.violinplot(df.sample(frac=0.1), x='method', y='batch_times', log_scale=True)"
   ]
  },
  {
   "cell_type": "code",
   "execution_count": null,
   "id": "0168ed11-8c43-418c-bbaa-4a1c23bdf011",
   "metadata": {},
   "outputs": [],
   "source": [
    "df.method.value_counts()"
   ]
  },
  {
   "cell_type": "code",
   "execution_count": null,
   "id": "e55edd58-ad2b-46c4-9d05-b0b7bc096ee1",
   "metadata": {},
   "outputs": [],
   "source": [
    "df[['method', 'epoch']].value_counts()"
   ]
  },
  {
   "cell_type": "code",
   "execution_count": null,
   "id": "519229b4-c76f-4613-8bd4-a6aa6045cd44",
   "metadata": {},
   "outputs": [],
   "source": [
    "nbatches = df[['method', 'epoch']].value_counts().value_counts().index[0]\n",
    "nepochs = 5\n",
    "nbatches, nepochs"
   ]
  },
  {
   "cell_type": "code",
   "execution_count": null,
   "id": "544894bb-c5ce-472a-b4c1-716d25ee6a70",
   "metadata": {},
   "outputs": [],
   "source": [
    "def batch_times_df(d):\n",
    "    d = d.batch_times.sort_values().cumsum().reset_index(drop=True)\n",
    "    d.index.name = 'batch'\n",
    "    return d\n",
    "\n",
    "cdf = df.groupby(['method', 'epoch']).apply(batch_times_df)\n",
    "cdf = cdf.reset_index().sort_values(['batch', 'epoch', 'method']).reset_index(drop=True)\n",
    "cdf"
   ]
  },
  {
   "cell_type": "code",
   "execution_count": null,
   "id": "a90a393a-d423-4c85-9a83-08b2447d2333",
   "metadata": {},
   "outputs": [],
   "source": [
    "import plotly.express as px\n",
    "import plotly.graph_objects as go\n",
    "from plotly.subplots import make_subplots"
   ]
  },
  {
   "cell_type": "code",
   "execution_count": null,
   "id": "f86648ad-f827-483c-8f9f-e2e93406e542",
   "metadata": {},
   "outputs": [],
   "source": [
    "cdf['trace'] = cdf.apply(lambda r: f'{r.method} (e{r.epoch})', axis=1)"
   ]
  },
  {
   "cell_type": "code",
   "execution_count": null,
   "id": "2500a6c5-495f-4225-beb5-61b5f8b678c1",
   "metadata": {},
   "outputs": [],
   "source": [
    "colors = [ 'red', 'green', 'blue' ]\n",
    "def epoch_cdfs():\n",
    "    fig = go.Figure()\n",
    "    for idx, method in enumerate(['Merlin', 'MappedCollection', 'Census']):\n",
    "        dm = cdf[cdf.method == method]\n",
    "        for epoch in range(nepochs):\n",
    "            d = dm[dm.epoch == epoch]\n",
    "            fig.add_trace(go.Scatter(\n",
    "                name=method,\n",
    "                hovertemplate='%%{y:.1f} %s (%s)' % (method, epoch),\n",
    "                x=d['batch'],\n",
    "                y=d['batch_times'] / 60,\n",
    "                mode='lines',\n",
    "                marker=dict(\n",
    "                    color=colors[idx],\n",
    "                ), showlegend=epoch == 0, #legendgrouptitle=dict(text=method), #legendgroup=method,\n",
    "            ))\n",
    "    return fig.update_layout(\n",
    "        hovermode='x',\n",
    "        title=dict(x=0.5, text=f'Batch-time CDFs ({nbatches:,} batches x {nepochs} epochs)'),\n",
    "        height=800,\n",
    "    ).update_traces(\n",
    "        #hovertemplate=None,\n",
    "    ).update_xaxes(\n",
    "        title=dict(text=\"Batch #\",),\n",
    "    ).update_yaxes(\n",
    "        title=dict(text=\"Cumulative time (m)\"),\n",
    "    )"
   ]
  },
  {
   "cell_type": "code",
   "execution_count": null,
   "id": "2b5683b6-1066-4564-8e43-f046a267aeeb",
   "metadata": {},
   "outputs": [],
   "source": [
    "epoch_cdfs()"
   ]
  },
  {
   "cell_type": "code",
   "execution_count": null,
   "id": "52120b08-488b-4268-9dd8-6d2faf466f88",
   "metadata": {},
   "outputs": [],
   "source": [
    "def epoch_batches(method, epoch):\n",
    "    return px.scatter(df[(df.method == method) & (df.epoch == epoch)], y='batch_times')"
   ]
  },
  {
   "cell_type": "code",
   "execution_count": null,
   "id": "96cd9036-dafa-448a-bba8-ae9e6f7a20cb",
   "metadata": {},
   "outputs": [],
   "source": [
    "import plotly\n",
    "colors = plotly.colors.DEFAULT_PLOTLY_COLORS\n",
    "colors"
   ]
  },
  {
   "cell_type": "code",
   "execution_count": null,
   "id": "5010a788-d90c-492c-b88e-968b4a55f406",
   "metadata": {},
   "outputs": [],
   "source": [
    "def epochs_batches(method, batch_range=None, period=None, epochs=nepochs):\n",
    "    dm = df[df.method == method]\n",
    "    fig = make_subplots(rows=epochs, cols=1, subplot_titles=[ f'Epoch {epoch}' for epoch in range(epochs) ])\n",
    "    for epoch in range(epochs):\n",
    "        de = dm[dm.epoch == epoch].reset_index(drop=True)\n",
    "        de.index.name = 'Batch #'\n",
    "        if batch_id_range:\n",
    "            start, end = batch_id_range\n",
    "            de = de.iloc[start:end]\n",
    "        if period:\n",
    "            mod = (de.index.to_series() % period).rename('mod')\n",
    "            for res in range(period):\n",
    "                dr = de[mod == res]\n",
    "                fig.add_trace(\n",
    "                    go.Scatter(\n",
    "                        x=dr.index,\n",
    "                        y=dr.batch_times,\n",
    "                        name=f'{res}mod{period}',\n",
    "                        mode='markers',\n",
    "                        marker=dict(size=4, color=colors[res]),\n",
    "                        showlegend=epoch == 0,\n",
    "                    ),\n",
    "                    row=epoch + 1, col=1,\n",
    "                )                \n",
    "        else:\n",
    "            fig.add_trace(\n",
    "                go.Scatter(\n",
    "                    x=de.index,\n",
    "                    y=de.batch_times,\n",
    "                    name=f'Epoch {epoch}',\n",
    "                    mode='markers',\n",
    "                    marker=dict(size=4),\n",
    "                ),\n",
    "                row=epoch + 1, col=1,\n",
    "            )\n",
    "    fig.update_layout(\n",
    "        title=dict(x=0.5, text=f'{method}: batch times ({epochs} epochs x {nbatches} batches)'),\n",
    "        height=400 + 120 * epochs,\n",
    "        legend=dict(title=dict(text='Batch #')),\n",
    "    )\n",
    "    return fig"
   ]
  },
  {
   "cell_type": "code",
   "execution_count": null,
   "id": "39385cbe-fbaa-4fde-9298-0a2e14bdca5d",
   "metadata": {},
   "outputs": [],
   "source": [
    "epochs_batches('Census', period=10)"
   ]
  },
  {
   "cell_type": "code",
   "execution_count": null,
   "id": "8c0508dc-888c-49b7-b761-7c87b331468f",
   "metadata": {},
   "outputs": [],
   "source": [
    "epochs_batches('Census')"
   ]
  },
  {
   "cell_type": "code",
   "execution_count": null,
   "id": "4203d985-fae0-4f44-9f09-cbd8bd0fe792",
   "metadata": {},
   "outputs": [],
   "source": [
    "epochs_batches('Merlin')"
   ]
  },
  {
   "cell_type": "code",
   "execution_count": null,
   "id": "fface586-1bac-4c90-9805-131907c1235f",
   "metadata": {},
   "outputs": [],
   "source": [
    "epochs_batches('MappedCollection')"
   ]
  },
  {
   "cell_type": "code",
   "execution_count": null,
   "id": "e1649d91-0cca-429d-82f8-411742c13c05",
   "metadata": {},
   "outputs": [],
   "source": [
    "epoch_batches('Census', 0)"
   ]
  },
  {
   "cell_type": "code",
   "execution_count": null,
   "id": "81abebb4-62c0-4f1f-8446-9943082fe39c",
   "metadata": {},
   "outputs": [],
   "source": [
    "epoch_batches('Census', 1)"
   ]
  },
  {
   "cell_type": "code",
   "execution_count": null,
   "id": "9883e23e-d63d-4c32-b4b3-9aa079675010",
   "metadata": {},
   "outputs": [],
   "source": [
    "epoch_batches('Census', 2)"
   ]
  },
  {
   "cell_type": "code",
   "execution_count": null,
   "id": "a5c4418b-5b46-4622-838d-f19cbf02b8cc",
   "metadata": {},
   "outputs": [],
   "source": [
    "import numpy as np\n",
    "\n",
    "plt.clf()\n",
    "sns.set_theme(style=\"white\", rc={\"axes.facecolor\": (0, 0, 0, 0)})\n",
    "\n",
    "# Initialize the FacetGrid object\n",
    "#pal = sns.cubehelix_palette(10, rot=-.25, light=.7)\n",
    "g = sns.FacetGrid(df, row=\"method\", hue='method', aspect=4, height=2)\n",
    "\n",
    "# Draw the densities in a few steps\n",
    "g.map(sns.kdeplot, \"batch_times\", clip_on=False, bw_adjust=.5, log_scale=True, fill=True, alpha=1, linewidth=1.5)\n",
    "g.map(sns.kdeplot, \"batch_times\", clip_on=False, bw_adjust=.5, log_scale=True, color=\"w\", lw=2)\n",
    "\n",
    "# passing color=None to refline() uses the hue mapping\n",
    "g.refline(y=0, linewidth=2, linestyle=\"-\", clip_on=False)\n",
    "\n",
    "\n",
    "# Define and use a simple function to label the plot in axes coordinates\n",
    "def label(x, color, label):\n",
    "    ax = plt.gca()\n",
    "    ax.text(0, 0.2, label, color=color,\n",
    "            ha=\"left\", va=\"center\", transform=ax.transAxes)\n",
    "    ax.set(xlim=(5e-3, 5e2))\n",
    "\n",
    "g.map(label, \"batch_times\")\n",
    "\n",
    "# Set the subplots to overlap\n",
    "g.figure.subplots_adjust(hspace=-.25)\n",
    "\n",
    "# Remove axes details that don't play well with overlap\n",
    "g.set_titles(\"\")\n",
    "g.set(yticks=[], ylabel=\"\")\n",
    "g.despine(bottom=True, left=True)"
   ]
  },
  {
   "cell_type": "code",
   "execution_count": null,
   "id": "95753f5d-c9dd-4137-9980-9e11688c8035",
   "metadata": {},
   "outputs": [],
   "source": [
    "fig, axs = plt.subplots(1, 3, figsize=(12, 4))\n",
    "\n",
    "batches_histplot(\"Merlin\", axs[0])\n",
    "batches_histplot(\"MappedCollection\", axs[1])\n",
    "batches_histplot(\"Census\", axs[2])\n",
    "\n",
    "fig.suptitle(f\"Loading batches of size {BATCH_SIZE} out of a 10M x 20k array across 5 epochs\", fontsize=12)\n",
    "\n",
    "plt.tight_layout(rect=[0, 0.03, 1, 1.05])\n",
    "plt.show()"
   ]
  },
  {
   "cell_type": "code",
   "execution_count": null,
   "id": "cee9ee45-92d5-445e-bdf9-a0f1da2cd995",
   "metadata": {},
   "outputs": [],
   "source": [
    "sns.histplot(\n",
    "    df[df.method == 'Merlin'], x='batch_times', hue='epoch', multiple='stack', log_scale=True\n",
    ")"
   ]
  },
  {
   "cell_type": "code",
   "execution_count": null,
   "id": "578d4b6f",
   "metadata": {},
   "outputs": [],
   "source": [
    "ax = sns.barplot(df, x=\"method\", y=\"batch_times\", hue=\"epoch\", errorbar=(\"pi\", 90))\n",
    "ax.set_ylabel(\"time per batch (s)\")\n",
    "ax.set(yscale=\"log\", xlabel=None)"
   ]
  },
  {
   "cell_type": "markdown",
   "id": "221b0c2f",
   "metadata": {},
   "source": [
    "## Convert to per epoch statistics"
   ]
  },
  {
   "cell_type": "code",
   "execution_count": null,
   "id": "94ac5f3d",
   "metadata": {},
   "outputs": [],
   "source": [
    "df.method = df.method.astype(pd.CategoricalDtype([\"Merlin\", \"MappedCollection\", \"Census\"]))"
   ]
  },
  {
   "cell_type": "code",
   "execution_count": null,
   "id": "9fbe6ce9",
   "metadata": {},
   "outputs": [],
   "source": [
    "epoch_stats = df.groupby([\"method\", \"epoch\"]).sum()"
   ]
  },
  {
   "cell_type": "code",
   "execution_count": null,
   "id": "98f1c327",
   "metadata": {},
   "outputs": [],
   "source": [
    "epoch_stats"
   ]
  },
  {
   "cell_type": "code",
   "execution_count": null,
   "id": "9c92a0ac",
   "metadata": {},
   "outputs": [],
   "source": [
    "epoch_stats /= 3600"
   ]
  },
  {
   "cell_type": "code",
   "execution_count": null,
   "id": "30fd38b5",
   "metadata": {},
   "outputs": [],
   "source": [
    "def panel2(ax=None):\n",
    "    ax = sns.barplot(epoch_stats, x=\"method\", y=\"batch_times\", hue=\"epoch\", ax=ax)\n",
    "    ax.set_ylabel(\"time per epoch (h)\")\n",
    "    ax.set(xlabel=None)\n",
    "\n",
    "panel2()"
   ]
  },
  {
   "cell_type": "markdown",
   "id": "d7565bd0",
   "metadata": {},
   "source": [
    "## Convert to samples per second"
   ]
  },
  {
   "cell_type": "code",
   "execution_count": null,
   "id": "fadc8502",
   "metadata": {},
   "outputs": [],
   "source": [
    "samples_per_second = 10e6 / (epoch_stats * 3600)\n",
    "samples_per_second"
   ]
  },
  {
   "cell_type": "code",
   "execution_count": null,
   "id": "5ca436ac",
   "metadata": {},
   "outputs": [],
   "source": [
    "def panel3(ax=None):\n",
    "    ax = sns.barplot(samples_per_second, x=\"method\", y=\"batch_times\", hue=\"epoch\", ax=ax)\n",
    "    ax.set_ylabel(\"samples per second (avg per epoch)\")\n",
    "    ax.set(xlabel=None)\n",
    "\n",
    "panel3()"
   ]
  },
  {
   "cell_type": "markdown",
   "id": "ccaccf36",
   "metadata": {},
   "source": [
    "## One figure"
   ]
  },
  {
   "cell_type": "code",
   "execution_count": null,
   "id": "e7a2c764",
   "metadata": {},
   "outputs": [],
   "source": [
    "fig, axs = plt.subplots(1, 3, figsize=(12, 4))\n",
    "\n",
    "panel1(axs[0])\n",
    "panel2(axs[1])\n",
    "panel3(axs[2])\n",
    "\n",
    "fig.suptitle(f\"Loading batches of size {BATCH_SIZE} out of a 10M x 20k array across 5 epochs\", fontsize=12)\n",
    "\n",
    "plt.tight_layout(rect=[0, 0.03, 1, 1.05])\n",
    "plt.show()"
   ]
  }
 ],
 "metadata": {
  "kernelspec": {
   "display_name": "Python 3 (ipykernel)",
   "language": "python",
   "name": "python3"
  },
  "language_info": {
   "codemirror_mode": {
    "name": "ipython",
    "version": 3
   },
   "file_extension": ".py",
   "mimetype": "text/x-python",
   "name": "python",
   "nbconvert_exporter": "python",
   "pygments_lexer": "ipython3",
   "version": "3.11.8"
  },
  "nbproject": {
   "id": "faAhgiIDemaP",
   "parent": null,
   "pypackage": null,
   "time_init": "2024-02-22T12:39:58.423068+00:00",
   "user_handle": null,
   "user_id": null,
   "user_name": null,
   "version": "1"
  }
 },
 "nbformat": 4,
 "nbformat_minor": 5
}
