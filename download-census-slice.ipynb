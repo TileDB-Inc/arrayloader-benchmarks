{
 "cells": [
  {
   "cell_type": "markdown",
   "id": "f26be066-35f1-4478-b99a-5f4b51f8b9f5",
   "metadata": {},
   "source": [
    "# Download census slice\n",
    "\n",
    "Download a local copy of [CELLxGENE Census](https://chanzuckerberg.github.io/cellxgene-census/), with several filters applied:\n",
    "- `collection_id` (default: `283d65eb-dd53-496d-adb7-7570c7caa443`)\n",
    "- Dataset `start`/`end` (default: `2:7`, ≈133k cells)\n",
    "- `n_vars` (default: 20k)\n",
    "\n",
    "By default, outputs are written to `data/census-benchmark_<start>:<end>` (see `out_dir` / `out_root=data` params below).\n",
    "\n",
    "## Execute this notebook with [Papermill](https://papermill.readthedocs.io/)\n",
    "```bash\n",
    "nb=download-census-slice.ipynb\n",
    "mkdir -p out  # run notebook will be output here\n",
    "papermill $nb out/$nb\n",
    "\n",
    "# slice just one dataset:\n",
    "papermill $nb -p start 3 -p end 4 out/$nb\n",
    "```"
   ]
  },
  {
   "cell_type": "code",
   "execution_count": 1,
   "id": "1e129fe5-c0f8-4d8e-939d-480c7bc615f0",
   "metadata": {
    "editable": true,
    "slideshow": {
     "slide_type": ""
    },
    "tags": []
   },
   "outputs": [],
   "source": [
    "from utils import *"
   ]
  },
  {
   "cell_type": "markdown",
   "id": "f4107133-f091-4f2b-80ac-4ebf06cc0fd0",
   "metadata": {
    "editable": true,
    "slideshow": {
     "slide_type": ""
    },
    "tags": []
   },
   "source": [
    "## [Papermill](https://papermill.readthedocs.io/en/latest/) params:"
   ]
  },
  {
   "cell_type": "code",
   "execution_count": 2,
   "id": "ade92f2b-789f-4822-8707-437845013dc4",
   "metadata": {
    "editable": true,
    "slideshow": {
     "slide_type": ""
    },
    "tags": [
     "parameters"
    ]
   },
   "outputs": [],
   "source": [
    "census_uri = None\n",
    "census_version = \"2023-12-15\"\n",
    "\n",
    "collection_id = '283d65eb-dd53-496d-adb7-7570c7caa443'\n",
    "# Slice datasets from `collection_id`\n",
    "start = 2\n",
    "end = 7\n",
    "\n",
    "# Slice the first `n_vars` vars\n",
    "n_vars = 20_000\n",
    "\n",
    "out_root = \"data\"\n",
    "out_dir = None"
   ]
  },
  {
   "cell_type": "code",
   "execution_count": 3,
   "id": "b7b9b1b0-e562-44c1-9847-dbc01822f61a",
   "metadata": {
    "editable": true,
    "slideshow": {
     "slide_type": ""
    },
    "tags": []
   },
   "outputs": [
    {
     "name": "stderr",
     "output_type": "stream",
     "text": [
      "Downloading to /mnt/nvme/census-benchmark_2:7\n"
     ]
    }
   ],
   "source": [
    "if out_dir is None:\n",
    "    suffix = \"\" if start is None and end is None else f\"_{start or ''}:{end or ''}\"\n",
    "    out_dir = f'{out_root}/census-benchmark{suffix}'\n",
    "else:\n",
    "    out_dir = f\"{out_root}/{out_dir}\"\n",
    "err(f\"Downloading to {out_dir}\")"
   ]
  },
  {
   "cell_type": "code",
   "execution_count": 4,
   "id": "7420ba62-404b-4850-9268-b0c69fa73213",
   "metadata": {
    "editable": true,
    "slideshow": {
     "slide_type": ""
    },
    "tags": []
   },
   "outputs": [
    {
     "data": {
      "text/plain": [
       "(138,\n",
       " ['8e10f1c4-8e98-41e5-b65f-8cd89a887122',\n",
       "  'b165f033-9dec-468a-9248-802fc6902a74',\n",
       "  'ff7d15fa-f4b6-4a0e-992e-fd0c9d088ded',\n",
       "  'fe1a73ab-a203-45fd-84e9-0f7fd19efcbd',\n",
       "  'fbf173f9-f809-4d84-9b65-ae205d35b523',\n",
       "  'fa554686-fc07-44dd-b2de-b726d82d26ec',\n",
       "  'f9034091-2e8f-4ac6-9874-e7b7eb566824',\n",
       "  'f8dda921-5fb4-4c94-a654-c6fc346bfd6d',\n",
       "  'f7d003d4-40d5-4de8-858c-a9a8b48fcc67',\n",
       "  'f6d9f2ad-5ec7-4d53-b7f0-ceb0e7bcd181'])"
      ]
     },
     "execution_count": 4,
     "metadata": {},
     "output_type": "execute_result"
    }
   ],
   "source": [
    "census = cellxgene_census.open_soma(uri=census_uri, census_version=census_version)\n",
    "datasets = get_datasets(census, collection_id)\n",
    "len(datasets), datasets[:10]"
   ]
  },
  {
   "cell_type": "code",
   "execution_count": 5,
   "id": "73e0d831-da5d-41e0-ac4b-ac9e2e359a90",
   "metadata": {
    "editable": true,
    "slideshow": {
     "slide_type": ""
    },
    "tags": []
   },
   "outputs": [
    {
     "data": {
      "text/plain": [
       "<Experiment 's3://cellxgene-census-public-us-west-2/cell-census/2023-12-15/soma/census_data/homo_sapiens' (open for 'r') (2 items)\n",
       "    'ms': 's3://cellxgene-census-public-us-west-2/cell-census/2023-12-15/soma/census_data/homo_sapiens/ms' (unopened)\n",
       "    'obs': 's3://cellxgene-census-public-us-west-2/cell-census/2023-12-15/soma/census_data/homo_sapiens/obs' (unopened)>"
      ]
     },
     "execution_count": 5,
     "metadata": {},
     "output_type": "execute_result"
    }
   ],
   "source": [
    "experiment = census[\"census_data\"][\"homo_sapiens\"]\n",
    "experiment"
   ]
  },
  {
   "cell_type": "code",
   "execution_count": 6,
   "id": "356f64a0-8d36-405c-9570-1edc6e35ad83",
   "metadata": {
    "editable": true,
    "slideshow": {
     "slide_type": ""
    },
    "tags": []
   },
   "outputs": [
    {
     "name": "stderr",
     "output_type": "stream",
     "text": [
      "Downloading 5 datasets:\n",
      "\tff7d15fa-f4b6-4a0e-992e-fd0c9d088ded\n",
      "\tfe1a73ab-a203-45fd-84e9-0f7fd19efcbd\n",
      "\tfbf173f9-f809-4d84-9b65-ae205d35b523\n",
      "\tfa554686-fc07-44dd-b2de-b726d82d26ec\n",
      "\tf9034091-2e8f-4ac6-9874-e7b7eb566824\n",
      "/home/ec2-user/c/tiledb/arrayloader-benchmarks/census.py:71: FutureWarning: The 'field_by_name' method is deprecated, use 'field' instead\n",
      "  subset_census(query, out_dir)\n"
     ]
    },
    {
     "name": "stdout",
     "output_type": "stream",
     "text": [
      "CPU times: user 26min 26s, sys: 58.2 s, total: 27min 25s\n",
      "Wall time: 1min 43s\n"
     ]
    }
   ],
   "source": [
    "%%time\n",
    "download_datasets(experiment, datasets, out_dir, start=start, end=end, n_vars=n_vars)"
   ]
  },
  {
   "cell_type": "code",
   "execution_count": 8,
   "id": "4d7be259-5a53-47cb-85ac-99b461e17626",
   "metadata": {
    "editable": true,
    "slideshow": {
     "slide_type": ""
    },
    "tags": []
   },
   "outputs": [
    {
     "name": "stdout",
     "output_type": "stream",
     "text": [
      "/mnt/nvme/census-benchmark_2:7: 714M\n"
     ]
    }
   ],
   "source": [
    "h_size = check_output(['du', '-sh', out_dir]).decode().split('\\t')[0]\n",
    "print(f\"{out_dir}: {h_size}\")"
   ]
  }
 ],
 "metadata": {
  "kernelspec": {
   "display_name": "Python 3 (ipykernel)",
   "language": "python",
   "name": "python3"
  },
  "language_info": {
   "codemirror_mode": {
    "name": "ipython",
    "version": 3
   },
   "file_extension": ".py",
   "mimetype": "text/x-python",
   "name": "python",
   "nbconvert_exporter": "python",
   "pygments_lexer": "ipython3",
   "version": "3.11.8"
  }
 },
 "nbformat": 4,
 "nbformat_minor": 5
}
