{
 "cells": [
  {
   "cell_type": "code",
   "execution_count": 1,
   "id": "cf534d10-2611-43fc-94a1-11650b44e30a",
   "metadata": {
    "execution": {
     "iopub.execute_input": "2024-04-15T17:01:58.791400Z",
     "iopub.status.busy": "2024-04-15T17:01:58.791121Z",
     "iopub.status.idle": "2024-04-15T17:02:03.515762Z",
     "shell.execute_reply": "2024-04-15T17:02:03.515186Z"
    },
    "papermill": {
     "duration": 4.731418,
     "end_time": "2024-04-15T17:02:03.517230",
     "exception": false,
     "start_time": "2024-04-15T17:01:58.785812",
     "status": "completed"
    },
    "tags": []
   },
   "outputs": [],
   "source": [
    "from utils import *\n",
    "\n",
    "import cellxgene_census\n",
    "from cellxgene_census.experimental.ml import ExperimentDataPipe, experiment_dataloader\n",
    "import somacore as soma\n",
    "from somacore import AxisQuery\n",
    "import torch\n",
    "from torch.utils.data import DataLoader\n",
    "torch.ones(2).cuda();"
   ]
  },
  {
   "cell_type": "markdown",
   "id": "ea210b2d-c864-4ca1-be75-44f465d04450",
   "metadata": {
    "papermill": {
     "duration": 0.003135,
     "end_time": "2024-04-15T17:02:03.523817",
     "exception": false,
     "start_time": "2024-04-15T17:02:03.520682",
     "status": "completed"
    },
    "tags": []
   },
   "source": [
    "### [Papermill](https://papermill.readthedocs.io/en/latest/) params:"
   ]
  },
  {
   "cell_type": "code",
   "execution_count": 2,
   "id": "5bcfe840-ad0c-4b90-b977-384573638612",
   "metadata": {
    "editable": true,
    "execution": {
     "iopub.execute_input": "2024-04-15T17:02:03.531442Z",
     "iopub.status.busy": "2024-04-15T17:02:03.530601Z",
     "iopub.status.idle": "2024-04-15T17:02:03.534475Z",
     "shell.execute_reply": "2024-04-15T17:02:03.534025Z"
    },
    "papermill": {
     "duration": 0.00862,
     "end_time": "2024-04-15T17:02:03.535461",
     "exception": false,
     "start_time": "2024-04-15T17:02:03.526841",
     "status": "completed"
    },
    "slideshow": {
     "slide_type": ""
    },
    "tags": [
     "parameters"
    ]
   },
   "outputs": [],
   "source": [
    "# Set to None to fetch from S3\n",
    "census_uri = '/mnt/nvme/s3/cellxgene-census-public-us-west-2/cell-census/2023-12-15/soma'\n",
    "\n",
    "# Slice 138 total datasets\n",
    "start = 2\n",
    "end = 7\n",
    "\n",
    "n_epochs = 1\n",
    "BATCH_SIZE = 1024\n",
    "n_vars = 20_000\n",
    "SOMA_CHUNK_SIZE = 10_000\n",
    "\n",
    "# Misc\n",
    "peek_dataset_lens = None  # When set, initialize loaders and print `len`s for the first [this many] datasets\n",
    "\n",
    "# Plot configs\n",
    "period = 10  # Color batch timings by this modulus (to highlight periodic artifacts)\n",
    "ann_cutoff = .5  # Annotate plot with values for batch timings greater than this threshold\n",
    "log_plot = False\n",
    "width = 1200\n",
    "height = 700"
   ]
  },
  {
   "cell_type": "code",
   "execution_count": 3,
   "id": "8ace2f5e",
   "metadata": {
    "execution": {
     "iopub.execute_input": "2024-04-15T17:02:03.542718Z",
     "iopub.status.busy": "2024-04-15T17:02:03.542358Z",
     "iopub.status.idle": "2024-04-15T17:02:03.544692Z",
     "shell.execute_reply": "2024-04-15T17:02:03.544267Z"
    },
    "papermill": {
     "duration": 0.007104,
     "end_time": "2024-04-15T17:02:03.545674",
     "exception": false,
     "start_time": "2024-04-15T17:02:03.538570",
     "status": "completed"
    },
    "tags": [
     "injected-parameters"
    ]
   },
   "outputs": [],
   "source": [
    "# Parameters\n",
    "census_uri = \"\"\n"
   ]
  },
  {
   "cell_type": "code",
   "execution_count": 4,
   "id": "e8e22305-4c80-40f8-ab55-067e2f7e2f1a",
   "metadata": {
    "editable": true,
    "execution": {
     "iopub.execute_input": "2024-04-15T17:02:03.552650Z",
     "iopub.status.busy": "2024-04-15T17:02:03.552310Z",
     "iopub.status.idle": "2024-04-15T17:02:03.555501Z",
     "shell.execute_reply": "2024-04-15T17:02:03.555068Z"
    },
    "papermill": {
     "duration": 0.007823,
     "end_time": "2024-04-15T17:02:03.556504",
     "exception": false,
     "start_time": "2024-04-15T17:02:03.548681",
     "status": "completed"
    },
    "slideshow": {
     "slide_type": ""
    },
    "tags": []
   },
   "outputs": [
    {
     "name": "stderr",
     "output_type": "stream",
     "text": [
      "Using S3 census\n"
     ]
    }
   ],
   "source": [
    "if not census_uri:\n",
    "    census_uri = None\n",
    "if census_uri and census_uri.startswith('/'):\n",
    "    census_loc = 'local'\n",
    "else:\n",
    "    census_loc = 'S3'\n",
    "err(f\"Using {census_loc} census\")"
   ]
  },
  {
   "cell_type": "code",
   "execution_count": 5,
   "id": "dee78f66-5b8f-4d38-9c5f-e96282808d31",
   "metadata": {
    "editable": true,
    "execution": {
     "iopub.execute_input": "2024-04-15T17:02:03.563605Z",
     "iopub.status.busy": "2024-04-15T17:02:03.563270Z",
     "iopub.status.idle": "2024-04-15T17:02:09.805473Z",
     "shell.execute_reply": "2024-04-15T17:02:09.804974Z"
    },
    "papermill": {
     "duration": 6.247001,
     "end_time": "2024-04-15T17:02:09.806608",
     "exception": false,
     "start_time": "2024-04-15T17:02:03.559607",
     "status": "completed"
    },
    "slideshow": {
     "slide_type": ""
    },
    "tags": []
   },
   "outputs": [
    {
     "name": "stderr",
     "output_type": "stream",
     "text": [
      "The \"stable\" release is currently 2023-12-15. Specify 'census_version=\"2023-12-15\"' in future calls to open_soma() to ensure data consistency.\n"
     ]
    },
    {
     "data": {
      "text/plain": [
       "['8e10f1c4-8e98-41e5-b65f-8cd89a887122',\n",
       " 'b165f033-9dec-468a-9248-802fc6902a74',\n",
       " 'ff7d15fa-f4b6-4a0e-992e-fd0c9d088ded',\n",
       " 'fe1a73ab-a203-45fd-84e9-0f7fd19efcbd',\n",
       " 'fbf173f9-f809-4d84-9b65-ae205d35b523',\n",
       " 'fa554686-fc07-44dd-b2de-b726d82d26ec',\n",
       " 'f9034091-2e8f-4ac6-9874-e7b7eb566824',\n",
       " 'f8dda921-5fb4-4c94-a654-c6fc346bfd6d',\n",
       " 'f7d003d4-40d5-4de8-858c-a9a8b48fcc67',\n",
       " 'f6d9f2ad-5ec7-4d53-b7f0-ceb0e7bcd181']"
      ]
     },
     "execution_count": 5,
     "metadata": {},
     "output_type": "execute_result"
    }
   ],
   "source": [
    "census = cellxgene_census.open_soma(uri=census_uri)\n",
    "\n",
    "#reference = ln.Collection.filter(uid=\"1gsdckxvOvIjQgeDVS1F\").one().reference\n",
    "reference = '283d65eb-dd53-496d-adb7-7570c7caa443'\n",
    "query_collection_id = f\"collection_id == '{reference}'\"\n",
    "datasets =(census[\"census_info\"][\"datasets\"]\n",
    "           .read(column_names=[\"dataset_id\"], value_filter=query_collection_id)\n",
    "           .concat().to_pandas())[\"dataset_id\"].tolist()\n",
    "datasets[:10]"
   ]
  },
  {
   "cell_type": "code",
   "execution_count": 6,
   "id": "1c387c19-f218-4ddd-9686-a80f08a88b02",
   "metadata": {
    "execution": {
     "iopub.execute_input": "2024-04-15T17:02:09.814649Z",
     "iopub.status.busy": "2024-04-15T17:02:09.814399Z",
     "iopub.status.idle": "2024-04-15T17:02:09.817780Z",
     "shell.execute_reply": "2024-04-15T17:02:09.817317Z"
    },
    "papermill": {
     "duration": 0.008442,
     "end_time": "2024-04-15T17:02:09.818814",
     "exception": false,
     "start_time": "2024-04-15T17:02:09.810372",
     "status": "completed"
    },
    "tags": []
   },
   "outputs": [
    {
     "data": {
      "text/plain": [
       "138"
      ]
     },
     "execution_count": 6,
     "metadata": {},
     "output_type": "execute_result"
    }
   ],
   "source": [
    "len(datasets)"
   ]
  },
  {
   "cell_type": "code",
   "execution_count": 7,
   "id": "73e0d831-da5d-41e0-ac4b-ac9e2e359a90",
   "metadata": {
    "execution": {
     "iopub.execute_input": "2024-04-15T17:02:09.828582Z",
     "iopub.status.busy": "2024-04-15T17:02:09.828348Z",
     "iopub.status.idle": "2024-04-15T17:02:11.088153Z",
     "shell.execute_reply": "2024-04-15T17:02:11.087665Z"
    },
    "papermill": {
     "duration": 1.266981,
     "end_time": "2024-04-15T17:02:11.089225",
     "exception": false,
     "start_time": "2024-04-15T17:02:09.822244",
     "status": "completed"
    },
    "tags": []
   },
   "outputs": [
    {
     "data": {
      "text/plain": [
       "<Experiment 's3://cellxgene-census-public-us-west-2/cell-census/2023-12-15/soma/census_data/homo_sapiens' (open for 'r') (2 items)\n",
       "    'ms': 's3://cellxgene-census-public-us-west-2/cell-census/2023-12-15/soma/census_data/homo_sapiens/ms' (unopened)\n",
       "    'obs': 's3://cellxgene-census-public-us-west-2/cell-census/2023-12-15/soma/census_data/homo_sapiens/obs' (unopened)>"
      ]
     },
     "execution_count": 7,
     "metadata": {},
     "output_type": "execute_result"
    }
   ],
   "source": [
    "experiment = census[\"census_data\"][\"homo_sapiens\"]\n",
    "experiment"
   ]
  },
  {
   "cell_type": "code",
   "execution_count": 8,
   "id": "2a51a7e4-3af5-4d21-8c8b-91713540599e",
   "metadata": {
    "execution": {
     "iopub.execute_input": "2024-04-15T17:02:11.097603Z",
     "iopub.status.busy": "2024-04-15T17:02:11.097348Z",
     "iopub.status.idle": "2024-04-15T17:02:11.100389Z",
     "shell.execute_reply": "2024-04-15T17:02:11.099941Z"
    },
    "papermill": {
     "duration": 0.008255,
     "end_time": "2024-04-15T17:02:11.101343",
     "exception": false,
     "start_time": "2024-04-15T17:02:11.093088",
     "status": "completed"
    },
    "tags": []
   },
   "outputs": [],
   "source": [
    "@dataclass\n",
    "class Exp:\n",
    "    datapipe: ExperimentDataPipe\n",
    "    loader: DataLoader"
   ]
  },
  {
   "cell_type": "code",
   "execution_count": 9,
   "id": "ac8ed548-8f2f-48c2-9eac-f6e5bb6174e4",
   "metadata": {
    "execution": {
     "iopub.execute_input": "2024-04-15T17:02:11.109275Z",
     "iopub.status.busy": "2024-04-15T17:02:11.108945Z",
     "iopub.status.idle": "2024-04-15T17:02:11.112473Z",
     "shell.execute_reply": "2024-04-15T17:02:11.112027Z"
    },
    "papermill": {
     "duration": 0.008631,
     "end_time": "2024-04-15T17:02:11.113449",
     "exception": false,
     "start_time": "2024-04-15T17:02:11.104818",
     "status": "completed"
    },
    "tags": []
   },
   "outputs": [],
   "source": [
    "def get_exp_datapipe(start=None, end=None) -> Exp:\n",
    "    ds = datasets[slice(start, end)]\n",
    "    query_datasets = \"dataset_id in \" + str(ds)\n",
    "    experiment_datapipe = ExperimentDataPipe(\n",
    "        experiment,\n",
    "        measurement_name=\"RNA\",\n",
    "        X_name=\"raw\",\n",
    "        obs_query=AxisQuery(value_filter=query_datasets),\n",
    "        var_query=AxisQuery(coords=(slice(n_vars-1),)),\n",
    "        batch_size=BATCH_SIZE,\n",
    "        shuffle=True,\n",
    "        soma_chunk_size=SOMA_CHUNK_SIZE,\n",
    "    )\n",
    "    loader = experiment_dataloader(experiment_datapipe)\n",
    "    return Exp(experiment_datapipe, loader)"
   ]
  },
  {
   "cell_type": "markdown",
   "id": "80993178-384d-42c3-97a1-a6e405fdc207",
   "metadata": {
    "editable": true,
    "papermill": {
     "duration": 0.003472,
     "end_time": "2024-04-15T17:02:11.120444",
     "exception": false,
     "start_time": "2024-04-15T17:02:11.116972",
     "status": "completed"
    },
    "slideshow": {
     "slide_type": ""
    },
    "tags": []
   },
   "source": [
    "Optional: peek at `peek_dataset_lens` datasets' lengths:"
   ]
  },
  {
   "cell_type": "code",
   "execution_count": 10,
   "id": "a4fb0241-7ef8-4811-a7de-1786242476fe",
   "metadata": {
    "editable": true,
    "execution": {
     "iopub.execute_input": "2024-04-15T17:02:11.128346Z",
     "iopub.status.busy": "2024-04-15T17:02:11.128118Z",
     "iopub.status.idle": "2024-04-15T17:02:11.131696Z",
     "shell.execute_reply": "2024-04-15T17:02:11.131258Z"
    },
    "papermill": {
     "duration": 0.008676,
     "end_time": "2024-04-15T17:02:11.132658",
     "exception": false,
     "start_time": "2024-04-15T17:02:11.123982",
     "status": "completed"
    },
    "slideshow": {
     "slide_type": ""
    },
    "tags": []
   },
   "outputs": [
    {
     "name": "stdout",
     "output_type": "stream",
     "text": [
      "CPU times: user 15 µs, sys: 5 µs, total: 20 µs\n",
      "Wall time: 38.6 µs\n"
     ]
    }
   ],
   "source": [
    "%%time\n",
    "if peek_dataset_lens:\n",
    "    exps_prefix = [ get_exp_datapipe(start=i, n=1) for i in range(10) ]\n",
    "    print([ exp.datapipe.shape[0] for exp in exps_prefix ])"
   ]
  },
  {
   "cell_type": "code",
   "execution_count": 11,
   "id": "e0d116cb-c92b-41f9-b168-57d31878f79c",
   "metadata": {
    "editable": true,
    "execution": {
     "iopub.execute_input": "2024-04-15T17:02:11.140611Z",
     "iopub.status.busy": "2024-04-15T17:02:11.140393Z",
     "iopub.status.idle": "2024-04-15T17:02:11.143178Z",
     "shell.execute_reply": "2024-04-15T17:02:11.142740Z"
    },
    "papermill": {
     "duration": 0.007933,
     "end_time": "2024-04-15T17:02:11.144156",
     "exception": false,
     "start_time": "2024-04-15T17:02:11.136223",
     "status": "completed"
    },
    "slideshow": {
     "slide_type": ""
    },
    "tags": []
   },
   "outputs": [],
   "source": [
    "results = {\"Merlin\": {}, \"MappedCollection\": {}, \"cellxgene_census\": {}}\n",
    "for epoch in range(n_epochs):\n",
    "    for k in results:\n",
    "        results[k][f\"epoch_{epoch}\"] = {}"
   ]
  },
  {
   "cell_type": "code",
   "execution_count": 12,
   "id": "d7096ab2-54ca-4a64-9d9d-e94ffad8d7a6",
   "metadata": {
    "execution": {
     "iopub.execute_input": "2024-04-15T17:02:11.152682Z",
     "iopub.status.busy": "2024-04-15T17:02:11.152307Z",
     "iopub.status.idle": "2024-04-15T17:02:11.155279Z",
     "shell.execute_reply": "2024-04-15T17:02:11.154756Z"
    },
    "papermill": {
     "duration": 0.008464,
     "end_time": "2024-04-15T17:02:11.156227",
     "exception": false,
     "start_time": "2024-04-15T17:02:11.147763",
     "status": "completed"
    },
    "tags": []
   },
   "outputs": [],
   "source": [
    "@dataclass\n",
    "class Batch:\n",
    "    batch: float\n",
    "    gc: Optional[float] = None"
   ]
  },
  {
   "cell_type": "code",
   "execution_count": 13,
   "id": "87d827ed-0fdf-48ba-a3ad-552692bf2c9a",
   "metadata": {
    "execution": {
     "iopub.execute_input": "2024-04-15T17:02:11.164290Z",
     "iopub.status.busy": "2024-04-15T17:02:11.164015Z",
     "iopub.status.idle": "2024-04-15T17:02:11.166994Z",
     "shell.execute_reply": "2024-04-15T17:02:11.166568Z"
    },
    "papermill": {
     "duration": 0.008075,
     "end_time": "2024-04-15T17:02:11.167957",
     "exception": false,
     "start_time": "2024-04-15T17:02:11.159882",
     "status": "completed"
    },
    "tags": []
   },
   "outputs": [],
   "source": [
    "@dataclass\n",
    "class Epoch:\n",
    "    time_per_sample: float\n",
    "    samples_per_sec: float\n",
    "    batches: list[Batch]"
   ]
  },
  {
   "cell_type": "code",
   "execution_count": 14,
   "id": "f63d0b2a-f0b3-4a5d-ae09-63cad724b4ae",
   "metadata": {
    "execution": {
     "iopub.execute_input": "2024-04-15T17:02:11.176132Z",
     "iopub.status.busy": "2024-04-15T17:02:11.175879Z",
     "iopub.status.idle": "2024-04-15T17:02:11.178744Z",
     "shell.execute_reply": "2024-04-15T17:02:11.178309Z"
    },
    "papermill": {
     "duration": 0.008141,
     "end_time": "2024-04-15T17:02:11.179755",
     "exception": false,
     "start_time": "2024-04-15T17:02:11.171614",
     "status": "completed"
    },
    "tags": []
   },
   "outputs": [],
   "source": [
    "@dataclass\n",
    "class Method:\n",
    "    name: str\n",
    "    epochs: list[Epoch]"
   ]
  },
  {
   "cell_type": "code",
   "execution_count": 15,
   "id": "00a5c54d-5a38-43d1-9332-ba9f1ca5b135",
   "metadata": {
    "execution": {
     "iopub.execute_input": "2024-04-15T17:02:11.187848Z",
     "iopub.status.busy": "2024-04-15T17:02:11.187591Z",
     "iopub.status.idle": "2024-04-15T17:02:11.190641Z",
     "shell.execute_reply": "2024-04-15T17:02:11.190222Z"
    },
    "papermill": {
     "duration": 0.00814,
     "end_time": "2024-04-15T17:02:11.191564",
     "exception": false,
     "start_time": "2024-04-15T17:02:11.183424",
     "status": "completed"
    },
    "tags": []
   },
   "outputs": [],
   "source": [
    "@dataclass\n",
    "class Results:\n",
    "    census: Method\n",
    "    merlin: Optional[Method] = None\n",
    "    mapped_collection: Optional[Method] = None"
   ]
  },
  {
   "cell_type": "code",
   "execution_count": 16,
   "id": "a4a79d77-b0e0-48c0-9f50-df511142e938",
   "metadata": {
    "editable": true,
    "execution": {
     "iopub.execute_input": "2024-04-15T17:02:11.201268Z",
     "iopub.status.busy": "2024-04-15T17:02:11.201016Z",
     "iopub.status.idle": "2024-04-15T17:02:11.206742Z",
     "shell.execute_reply": "2024-04-15T17:02:11.206309Z"
    },
    "papermill": {
     "duration": 0.012288,
     "end_time": "2024-04-15T17:02:11.207713",
     "exception": false,
     "start_time": "2024-04-15T17:02:11.195425",
     "status": "completed"
    },
    "slideshow": {
     "slide_type": ""
    },
    "tags": []
   },
   "outputs": [],
   "source": [
    "def benchmark(exp: Exp) -> Epoch:\n",
    "    n_samples = exp.datapipe.shape[0]\n",
    "    loader_iter = exp.loader.__iter__()\n",
    "    # exclude first batch from benchmark as this includes the setup time\n",
    "    batch = next(loader_iter)\n",
    "    \n",
    "    num_iter = n_samples // BATCH_SIZE if n_samples is not None else None\n",
    "    \n",
    "    batches = []\n",
    "    start_time = batch_time = time()\n",
    "    \n",
    "    total = num_iter if num_iter is not None else len(loader_iter)\n",
    "    for i, batch in tqdm(enumerate(loader_iter), total=total):\n",
    "        X = batch[\"x\"] if isinstance(batch, dict) else batch[0] \n",
    "        # for pytorch DataLoader\n",
    "        # Merlin sends to cuda by default\n",
    "        if hasattr(X, \"is_cuda\") and not X.is_cuda:\n",
    "            X = X.cuda()\n",
    "        \n",
    "        if num_iter is not None and i == num_iter:\n",
    "            break\n",
    "\n",
    "        batch_elapsed = time() - batch_time\n",
    "\n",
    "        gc_time = None\n",
    "        if i % 10 == 0:\n",
    "            gc_before = time()\n",
    "            gc.collect()\n",
    "            gc_time = time() - gc_before\n",
    "\n",
    "        batches.append(Batch(batch_elapsed, gc_time))\n",
    "        batch_time = time()\n",
    "    \n",
    "    execution_time = time() - start_time\n",
    "    gc.collect()\n",
    "    \n",
    "    time_per_sample = (1e6 * execution_time) / (total * BATCH_SIZE)\n",
    "    print(f'time per sample: {time_per_sample:.2f} μs')\n",
    "    samples_per_sec = total * BATCH_SIZE / execution_time\n",
    "    print(f'samples per sec: {samples_per_sec:.2f} samples/sec')\n",
    "    \n",
    "    return Epoch(samples_per_sec=samples_per_sec, time_per_sample=time_per_sample, batches=batches)"
   ]
  },
  {
   "cell_type": "code",
   "execution_count": 17,
   "id": "7a614e15-a28d-45ce-a9a0-f22e9f78f824",
   "metadata": {
    "execution": {
     "iopub.execute_input": "2024-04-15T17:02:11.216019Z",
     "iopub.status.busy": "2024-04-15T17:02:11.215764Z",
     "iopub.status.idle": "2024-04-15T17:02:21.265761Z",
     "shell.execute_reply": "2024-04-15T17:02:21.265252Z"
    },
    "papermill": {
     "duration": 10.055333,
     "end_time": "2024-04-15T17:02:21.266841",
     "exception": false,
     "start_time": "2024-04-15T17:02:11.211508",
     "status": "completed"
    },
    "tags": []
   },
   "outputs": [
    {
     "name": "stdout",
     "output_type": "stream",
     "text": [
      "CPU times: user 9.15 s, sys: 2.77 s, total: 11.9 s\n",
      "Wall time: 10 s\n"
     ]
    },
    {
     "data": {
      "text/plain": [
       "133790"
      ]
     },
     "execution_count": 17,
     "metadata": {},
     "output_type": "execute_result"
    }
   ],
   "source": [
    "%%time\n",
    "exp = get_exp_datapipe(start=start, end=end)\n",
    "exp.datapipe.shape[0]"
   ]
  },
  {
   "cell_type": "markdown",
   "id": "58d03d4d-c3e3-43b7-8fc8-9674eb3832ec",
   "metadata": {
    "papermill": {
     "duration": 0.003976,
     "end_time": "2024-04-15T17:02:21.275042",
     "exception": false,
     "start_time": "2024-04-15T17:02:21.271066",
     "status": "completed"
    },
    "tags": []
   },
   "source": [
    "## Run benchmark"
   ]
  },
  {
   "cell_type": "code",
   "execution_count": 18,
   "id": "c7610705-d2ec-4eb3-90e4-332626526728",
   "metadata": {
    "execution": {
     "iopub.execute_input": "2024-04-15T17:02:21.283825Z",
     "iopub.status.busy": "2024-04-15T17:02:21.283556Z",
     "iopub.status.idle": "2024-04-15T17:05:12.645309Z",
     "shell.execute_reply": "2024-04-15T17:05:12.644780Z"
    },
    "papermill": {
     "duration": 171.367434,
     "end_time": "2024-04-15T17:05:12.646407",
     "exception": false,
     "start_time": "2024-04-15T17:02:21.278973",
     "status": "completed"
    },
    "tags": []
   },
   "outputs": [
    {
     "name": "stderr",
     "output_type": "stream",
     "text": [
      "\r",
      "  0%|                                                                                              | 0/130 [00:00<?, ?it/s]"
     ]
    },
    {
     "name": "stderr",
     "output_type": "stream",
     "text": [
      "\r",
      "  1%|▋                                                                                     | 1/130 [00:00<01:10,  1.83it/s]"
     ]
    },
    {
     "name": "stderr",
     "output_type": "stream",
     "text": [
      "\r",
      "  2%|█▎                                                                                    | 2/130 [00:02<02:41,  1.26s/it]"
     ]
    },
    {
     "name": "stderr",
     "output_type": "stream",
     "text": [
      "\r",
      "  2%|█▉                                                                                    | 3/130 [00:02<01:33,  1.36it/s]"
     ]
    },
    {
     "name": "stderr",
     "output_type": "stream",
     "text": [
      "\r",
      "  3%|██▋                                                                                   | 4/130 [00:02<01:02,  2.03it/s]"
     ]
    },
    {
     "name": "stderr",
     "output_type": "stream",
     "text": [
      "\r",
      "  4%|███▎                                                                                  | 5/130 [00:02<00:44,  2.79it/s]"
     ]
    },
    {
     "name": "stderr",
     "output_type": "stream",
     "text": [
      "\r",
      "  5%|███▉                                                                                  | 6/130 [00:02<00:33,  3.67it/s]"
     ]
    },
    {
     "name": "stderr",
     "output_type": "stream",
     "text": [
      "\r",
      "  5%|████▋                                                                                 | 7/130 [00:02<00:27,  4.55it/s]"
     ]
    },
    {
     "name": "stderr",
     "output_type": "stream",
     "text": [
      "\r",
      "  6%|█████▎                                                                                | 8/130 [00:03<00:24,  4.93it/s]"
     ]
    },
    {
     "name": "stderr",
     "output_type": "stream",
     "text": [
      "\r",
      "  7%|█████▉                                                                                | 9/130 [00:10<04:51,  2.41s/it]"
     ]
    },
    {
     "name": "stderr",
     "output_type": "stream",
     "text": [
      "\r",
      "  8%|██████▌                                                                              | 10/130 [00:10<03:23,  1.70s/it]"
     ]
    },
    {
     "name": "stderr",
     "output_type": "stream",
     "text": [
      "\r",
      "  8%|███████▏                                                                             | 11/130 [00:12<03:36,  1.82s/it]"
     ]
    },
    {
     "name": "stderr",
     "output_type": "stream",
     "text": [
      "\r",
      "  9%|███████▊                                                                             | 12/130 [00:12<02:33,  1.30s/it]"
     ]
    },
    {
     "name": "stderr",
     "output_type": "stream",
     "text": [
      "\r",
      " 10%|████████▌                                                                            | 13/130 [00:12<01:49,  1.07it/s]"
     ]
    },
    {
     "name": "stderr",
     "output_type": "stream",
     "text": [
      "\r",
      " 12%|█████████▊                                                                           | 15/130 [00:12<01:03,  1.82it/s]"
     ]
    },
    {
     "name": "stderr",
     "output_type": "stream",
     "text": [
      "\r",
      " 12%|██████████▍                                                                          | 16/130 [00:13<00:49,  2.28it/s]"
     ]
    },
    {
     "name": "stderr",
     "output_type": "stream",
     "text": [
      "\r",
      " 13%|███████████                                                                          | 17/130 [00:13<00:39,  2.85it/s]"
     ]
    },
    {
     "name": "stderr",
     "output_type": "stream",
     "text": [
      "\r",
      " 14%|███████████▊                                                                         | 18/130 [00:19<03:50,  2.05s/it]"
     ]
    },
    {
     "name": "stderr",
     "output_type": "stream",
     "text": [
      "\r",
      " 15%|█████████████                                                                        | 20/130 [00:21<02:49,  1.54s/it]"
     ]
    },
    {
     "name": "stderr",
     "output_type": "stream",
     "text": [
      "\r",
      " 16%|█████████████▋                                                                       | 21/130 [00:22<02:22,  1.31s/it]"
     ]
    },
    {
     "name": "stderr",
     "output_type": "stream",
     "text": [
      "\r",
      " 17%|██████████████▍                                                                      | 22/130 [00:22<01:48,  1.00s/it]"
     ]
    },
    {
     "name": "stderr",
     "output_type": "stream",
     "text": [
      "\r",
      " 18%|███████████████                                                                      | 23/130 [00:22<01:23,  1.29it/s]"
     ]
    },
    {
     "name": "stderr",
     "output_type": "stream",
     "text": [
      "\r",
      " 18%|███████████████▋                                                                     | 24/130 [00:22<01:03,  1.66it/s]"
     ]
    },
    {
     "name": "stderr",
     "output_type": "stream",
     "text": [
      "\r",
      " 19%|████████████████▎                                                                    | 25/130 [00:22<00:49,  2.10it/s]"
     ]
    },
    {
     "name": "stderr",
     "output_type": "stream",
     "text": [
      "\r",
      " 20%|█████████████████                                                                    | 26/130 [00:22<00:41,  2.51it/s]"
     ]
    },
    {
     "name": "stderr",
     "output_type": "stream",
     "text": [
      "\r",
      " 21%|█████████████████▋                                                                   | 27/130 [00:29<03:56,  2.29s/it]"
     ]
    },
    {
     "name": "stderr",
     "output_type": "stream",
     "text": [
      "\r",
      " 22%|██████████████████▉                                                                  | 29/130 [00:31<02:51,  1.69s/it]"
     ]
    },
    {
     "name": "stderr",
     "output_type": "stream",
     "text": [
      "\r",
      " 23%|███████████████████▌                                                                 | 30/130 [00:31<02:10,  1.31s/it]"
     ]
    },
    {
     "name": "stderr",
     "output_type": "stream",
     "text": [
      "\r",
      " 24%|████████████████████▎                                                                | 31/130 [00:32<01:49,  1.11s/it]"
     ]
    },
    {
     "name": "stderr",
     "output_type": "stream",
     "text": [
      "\r",
      " 25%|████████████████████▉                                                                | 32/130 [00:32<01:22,  1.19it/s]"
     ]
    },
    {
     "name": "stderr",
     "output_type": "stream",
     "text": [
      "\r",
      " 25%|█████████████████████▌                                                               | 33/130 [00:32<01:02,  1.55it/s]"
     ]
    },
    {
     "name": "stderr",
     "output_type": "stream",
     "text": [
      "\r",
      " 26%|██████████████████████▏                                                              | 34/130 [00:32<00:48,  1.98it/s]"
     ]
    },
    {
     "name": "stderr",
     "output_type": "stream",
     "text": [
      "\r",
      " 27%|██████████████████████▉                                                              | 35/130 [00:32<00:39,  2.43it/s]"
     ]
    },
    {
     "name": "stderr",
     "output_type": "stream",
     "text": [
      "\r",
      " 28%|███████████████████████▌                                                             | 36/130 [00:33<00:32,  2.85it/s]"
     ]
    },
    {
     "name": "stderr",
     "output_type": "stream",
     "text": [
      "\r",
      " 28%|████████████████████████▏                                                            | 37/130 [00:40<03:51,  2.49s/it]"
     ]
    },
    {
     "name": "stderr",
     "output_type": "stream",
     "text": [
      "\r",
      " 29%|████████████████████████▊                                                            | 38/130 [00:40<02:44,  1.79s/it]"
     ]
    },
    {
     "name": "stderr",
     "output_type": "stream",
     "text": [
      "\r",
      " 30%|█████████████████████████▌                                                           | 39/130 [00:42<02:45,  1.82s/it]"
     ]
    },
    {
     "name": "stderr",
     "output_type": "stream",
     "text": [
      "\r",
      " 31%|██████████████████████████▏                                                          | 40/130 [00:42<01:58,  1.31s/it]"
     ]
    },
    {
     "name": "stderr",
     "output_type": "stream",
     "text": [
      "\r",
      " 32%|██████████████████████████▊                                                          | 41/130 [00:43<01:36,  1.09s/it]"
     ]
    },
    {
     "name": "stderr",
     "output_type": "stream",
     "text": [
      "\r",
      " 32%|███████████████████████████▍                                                         | 42/130 [00:43<01:11,  1.23it/s]"
     ]
    },
    {
     "name": "stderr",
     "output_type": "stream",
     "text": [
      "\r",
      " 33%|████████████████████████████                                                         | 43/130 [00:43<00:53,  1.62it/s]"
     ]
    },
    {
     "name": "stderr",
     "output_type": "stream",
     "text": [
      "\r",
      " 34%|████████████████████████████▊                                                        | 44/130 [00:43<00:42,  2.03it/s]"
     ]
    },
    {
     "name": "stderr",
     "output_type": "stream",
     "text": [
      "\r",
      " 35%|█████████████████████████████▍                                                       | 45/130 [00:44<00:36,  2.35it/s]"
     ]
    },
    {
     "name": "stderr",
     "output_type": "stream",
     "text": [
      "\r",
      " 35%|██████████████████████████████                                                       | 46/130 [00:55<05:20,  3.81s/it]"
     ]
    },
    {
     "name": "stderr",
     "output_type": "stream",
     "text": [
      "\r",
      " 36%|██████████████████████████████▋                                                      | 47/130 [00:56<03:45,  2.71s/it]"
     ]
    },
    {
     "name": "stderr",
     "output_type": "stream",
     "text": [
      "\r",
      " 37%|███████████████████████████████▍                                                     | 48/130 [00:57<03:20,  2.45s/it]"
     ]
    },
    {
     "name": "stderr",
     "output_type": "stream",
     "text": [
      "\r",
      " 38%|████████████████████████████████                                                     | 49/130 [00:58<02:21,  1.75s/it]"
     ]
    },
    {
     "name": "stderr",
     "output_type": "stream",
     "text": [
      "\r",
      " 38%|████████████████████████████████▋                                                    | 50/130 [00:58<01:41,  1.27s/it]"
     ]
    },
    {
     "name": "stderr",
     "output_type": "stream",
     "text": [
      "\r",
      " 39%|█████████████████████████████████▎                                                   | 51/130 [00:58<01:24,  1.06s/it]"
     ]
    },
    {
     "name": "stderr",
     "output_type": "stream",
     "text": [
      "\r",
      " 40%|██████████████████████████████████                                                   | 52/130 [00:59<01:05,  1.20it/s]"
     ]
    },
    {
     "name": "stderr",
     "output_type": "stream",
     "text": [
      "\r",
      " 41%|██████████████████████████████████▋                                                  | 53/130 [00:59<00:53,  1.44it/s]"
     ]
    },
    {
     "name": "stderr",
     "output_type": "stream",
     "text": [
      "\r",
      " 42%|███████████████████████████████████▎                                                 | 54/130 [00:59<00:45,  1.67it/s]"
     ]
    },
    {
     "name": "stderr",
     "output_type": "stream",
     "text": [
      "\r",
      " 42%|███████████████████████████████████▉                                                 | 55/130 [01:08<03:41,  2.96s/it]"
     ]
    },
    {
     "name": "stderr",
     "output_type": "stream",
     "text": [
      "\r",
      " 43%|████████████████████████████████████▌                                                | 56/130 [01:08<02:36,  2.11s/it]"
     ]
    },
    {
     "name": "stderr",
     "output_type": "stream",
     "text": [
      "\r",
      " 44%|█████████████████████████████████████▎                                               | 57/130 [01:10<02:24,  1.98s/it]"
     ]
    },
    {
     "name": "stderr",
     "output_type": "stream",
     "text": [
      "\r",
      " 45%|█████████████████████████████████████▉                                               | 58/130 [01:10<01:42,  1.43s/it]"
     ]
    },
    {
     "name": "stderr",
     "output_type": "stream",
     "text": [
      "\r",
      " 45%|██████████████████████████████████████▌                                              | 59/130 [01:10<01:13,  1.04s/it]"
     ]
    },
    {
     "name": "stderr",
     "output_type": "stream",
     "text": [
      "\r",
      " 46%|███████████████████████████████████████▏                                             | 60/130 [01:10<00:53,  1.30it/s]"
     ]
    },
    {
     "name": "stderr",
     "output_type": "stream",
     "text": [
      "\r",
      " 47%|███████████████████████████████████████▉                                             | 61/130 [01:11<00:49,  1.39it/s]"
     ]
    },
    {
     "name": "stderr",
     "output_type": "stream",
     "text": [
      "\r",
      " 48%|████████████████████████████████████████▌                                            | 62/130 [01:11<00:41,  1.65it/s]"
     ]
    },
    {
     "name": "stderr",
     "output_type": "stream",
     "text": [
      "\r",
      " 48%|█████████████████████████████████████████▏                                           | 63/130 [01:11<00:34,  1.92it/s]"
     ]
    },
    {
     "name": "stderr",
     "output_type": "stream",
     "text": [
      "\r",
      " 49%|█████████████████████████████████████████▊                                           | 64/130 [01:12<00:29,  2.20it/s]"
     ]
    },
    {
     "name": "stderr",
     "output_type": "stream",
     "text": [
      "\r",
      " 50%|██████████████████████████████████████████▌                                          | 65/130 [01:19<02:49,  2.60s/it]"
     ]
    },
    {
     "name": "stderr",
     "output_type": "stream",
     "text": [
      "\r",
      " 51%|███████████████████████████████████████████▏                                         | 66/130 [01:19<01:58,  1.86s/it]"
     ]
    },
    {
     "name": "stderr",
     "output_type": "stream",
     "text": [
      "\r",
      " 52%|███████████████████████████████████████████▊                                         | 67/130 [01:19<01:24,  1.33s/it]"
     ]
    },
    {
     "name": "stderr",
     "output_type": "stream",
     "text": [
      "\r",
      " 52%|████████████████████████████████████████████▍                                        | 68/130 [01:21<01:29,  1.44s/it]"
     ]
    },
    {
     "name": "stderr",
     "output_type": "stream",
     "text": [
      "\r",
      " 53%|█████████████████████████████████████████████                                        | 69/130 [01:21<01:04,  1.05s/it]"
     ]
    },
    {
     "name": "stderr",
     "output_type": "stream",
     "text": [
      "\r",
      " 54%|█████████████████████████████████████████████▊                                       | 70/130 [01:21<00:46,  1.30it/s]"
     ]
    },
    {
     "name": "stderr",
     "output_type": "stream",
     "text": [
      "\r",
      " 55%|██████████████████████████████████████████████▍                                      | 71/130 [01:22<00:41,  1.41it/s]"
     ]
    },
    {
     "name": "stderr",
     "output_type": "stream",
     "text": [
      "\r",
      " 55%|███████████████████████████████████████████████                                      | 72/130 [01:22<00:31,  1.83it/s]"
     ]
    },
    {
     "name": "stderr",
     "output_type": "stream",
     "text": [
      "\r",
      " 56%|███████████████████████████████████████████████▋                                     | 73/130 [01:22<00:25,  2.22it/s]"
     ]
    },
    {
     "name": "stderr",
     "output_type": "stream",
     "text": [
      "\r",
      " 57%|████████████████████████████████████████████████▍                                    | 74/130 [01:34<03:32,  3.79s/it]"
     ]
    },
    {
     "name": "stderr",
     "output_type": "stream",
     "text": [
      "\r",
      " 58%|█████████████████████████████████████████████████                                    | 75/130 [01:34<02:28,  2.69s/it]"
     ]
    },
    {
     "name": "stderr",
     "output_type": "stream",
     "text": [
      "\r",
      " 58%|█████████████████████████████████████████████████▋                                   | 76/130 [01:36<02:09,  2.40s/it]"
     ]
    },
    {
     "name": "stderr",
     "output_type": "stream",
     "text": [
      "\r",
      " 59%|██████████████████████████████████████████████████▎                                  | 77/130 [01:36<01:31,  1.72s/it]"
     ]
    },
    {
     "name": "stderr",
     "output_type": "stream",
     "text": [
      "\r",
      " 60%|███████████████████████████████████████████████████                                  | 78/130 [01:36<01:04,  1.24s/it]"
     ]
    },
    {
     "name": "stderr",
     "output_type": "stream",
     "text": [
      "\r",
      " 61%|███████████████████████████████████████████████████▋                                 | 79/130 [01:36<00:46,  1.10it/s]"
     ]
    },
    {
     "name": "stderr",
     "output_type": "stream",
     "text": [
      "\r",
      " 62%|████████████████████████████████████████████████████▎                                | 80/130 [01:36<00:33,  1.48it/s]"
     ]
    },
    {
     "name": "stderr",
     "output_type": "stream",
     "text": [
      "\r",
      " 62%|████████████████████████████████████████████████████▉                                | 81/130 [01:37<00:32,  1.53it/s]"
     ]
    },
    {
     "name": "stderr",
     "output_type": "stream",
     "text": [
      "\r",
      " 63%|█████████████████████████████████████████████████████▌                               | 82/130 [01:37<00:26,  1.78it/s]"
     ]
    },
    {
     "name": "stderr",
     "output_type": "stream",
     "text": [
      "\r",
      " 64%|██████████████████████████████████████████████████████▎                              | 83/130 [01:44<01:52,  2.39s/it]"
     ]
    },
    {
     "name": "stderr",
     "output_type": "stream",
     "text": [
      "\r",
      " 65%|██████████████████████████████████████████████████████▉                              | 84/130 [01:44<01:18,  1.71s/it]"
     ]
    },
    {
     "name": "stderr",
     "output_type": "stream",
     "text": [
      "\r",
      " 65%|███████████████████████████████████████████████████████▌                             | 85/130 [01:44<00:55,  1.24s/it]"
     ]
    },
    {
     "name": "stderr",
     "output_type": "stream",
     "text": [
      "\r",
      " 66%|████████████████████████████████████████████████████████▏                            | 86/130 [01:46<00:59,  1.35s/it]"
     ]
    },
    {
     "name": "stderr",
     "output_type": "stream",
     "text": [
      "\r",
      " 67%|████████████████████████████████████████████████████████▉                            | 87/130 [01:46<00:41,  1.03it/s]"
     ]
    },
    {
     "name": "stderr",
     "output_type": "stream",
     "text": [
      "\r",
      " 68%|██████████████████████████████████████████████████████████▏                          | 89/130 [01:46<00:23,  1.75it/s]"
     ]
    },
    {
     "name": "stderr",
     "output_type": "stream",
     "text": [
      "\r",
      " 70%|███████████████████████████████████████████████████████████▍                         | 91/130 [01:47<00:18,  2.10it/s]"
     ]
    },
    {
     "name": "stderr",
     "output_type": "stream",
     "text": [
      "\r",
      " 71%|████████████████████████████████████████████████████████████▏                        | 92/130 [01:47<00:16,  2.34it/s]"
     ]
    },
    {
     "name": "stderr",
     "output_type": "stream",
     "text": [
      "\r",
      " 72%|████████████████████████████████████████████████████████████▊                        | 93/130 [01:55<01:23,  2.27s/it]"
     ]
    },
    {
     "name": "stderr",
     "output_type": "stream",
     "text": [
      "\r",
      " 72%|█████████████████████████████████████████████████████████████▍                       | 94/130 [01:55<01:01,  1.72s/it]"
     ]
    },
    {
     "name": "stderr",
     "output_type": "stream",
     "text": [
      "\r",
      " 73%|██████████████████████████████████████████████████████████████                       | 95/130 [01:57<01:00,  1.73s/it]"
     ]
    },
    {
     "name": "stderr",
     "output_type": "stream",
     "text": [
      "\r",
      " 74%|██████████████████████████████████████████████████████████████▊                      | 96/130 [01:57<00:43,  1.29s/it]"
     ]
    },
    {
     "name": "stderr",
     "output_type": "stream",
     "text": [
      "\r",
      " 75%|███████████████████████████████████████████████████████████████▍                     | 97/130 [01:57<00:31,  1.04it/s]"
     ]
    },
    {
     "name": "stderr",
     "output_type": "stream",
     "text": [
      "\r",
      " 75%|████████████████████████████████████████████████████████████████                     | 98/130 [01:57<00:22,  1.39it/s]"
     ]
    },
    {
     "name": "stderr",
     "output_type": "stream",
     "text": [
      "\r",
      " 76%|████████████████████████████████████████████████████████████████▋                    | 99/130 [01:57<00:16,  1.82it/s]"
     ]
    },
    {
     "name": "stderr",
     "output_type": "stream",
     "text": [
      "\r",
      " 77%|████████████████████████████████████████████████████████████████▌                   | 100/130 [01:58<00:12,  2.35it/s]"
     ]
    },
    {
     "name": "stderr",
     "output_type": "stream",
     "text": [
      "\r",
      " 78%|█████████████████████████████████████████████████████████████████▎                  | 101/130 [01:58<00:14,  2.03it/s]"
     ]
    },
    {
     "name": "stderr",
     "output_type": "stream",
     "text": [
      "\r",
      " 78%|█████████████████████████████████████████████████████████████████▉                  | 102/130 [02:07<01:20,  2.87s/it]"
     ]
    },
    {
     "name": "stderr",
     "output_type": "stream",
     "text": [
      "\r",
      " 79%|██████████████████████████████████████████████████████████████████▌                 | 103/130 [02:07<00:55,  2.05s/it]"
     ]
    },
    {
     "name": "stderr",
     "output_type": "stream",
     "text": [
      "\r",
      " 80%|███████████████████████████████████████████████████████████████████▏                | 104/130 [02:09<00:51,  1.99s/it]"
     ]
    },
    {
     "name": "stderr",
     "output_type": "stream",
     "text": [
      "\r",
      " 81%|███████████████████████████████████████████████████████████████████▊                | 105/130 [02:09<00:35,  1.44s/it]"
     ]
    },
    {
     "name": "stderr",
     "output_type": "stream",
     "text": [
      "\r",
      " 82%|████████████████████████████████████████████████████████████████████▍               | 106/130 [02:09<00:25,  1.05s/it]"
     ]
    },
    {
     "name": "stderr",
     "output_type": "stream",
     "text": [
      "\r",
      " 82%|█████████████████████████████████████████████████████████████████████▏              | 107/130 [02:09<00:17,  1.29it/s]"
     ]
    },
    {
     "name": "stderr",
     "output_type": "stream",
     "text": [
      "\r",
      " 83%|█████████████████████████████████████████████████████████████████████▊              | 108/130 [02:09<00:12,  1.72it/s]"
     ]
    },
    {
     "name": "stderr",
     "output_type": "stream",
     "text": [
      "\r",
      " 84%|██████████████████████████████████████████████████████████████████████▍             | 109/130 [02:09<00:09,  2.23it/s]"
     ]
    },
    {
     "name": "stderr",
     "output_type": "stream",
     "text": [
      "\r",
      " 85%|███████████████████████████████████████████████████████████████████████             | 110/130 [02:10<00:07,  2.68it/s]"
     ]
    },
    {
     "name": "stderr",
     "output_type": "stream",
     "text": [
      "\r",
      " 85%|███████████████████████████████████████████████████████████████████████▋            | 111/130 [02:19<00:56,  2.97s/it]"
     ]
    },
    {
     "name": "stderr",
     "output_type": "stream",
     "text": [
      "\r",
      " 86%|████████████████████████████████████████████████████████████████████████▎           | 112/130 [02:20<00:47,  2.62s/it]"
     ]
    },
    {
     "name": "stderr",
     "output_type": "stream",
     "text": [
      "\r",
      " 87%|█████████████████████████████████████████████████████████████████████████           | 113/130 [02:21<00:31,  1.87s/it]"
     ]
    },
    {
     "name": "stderr",
     "output_type": "stream",
     "text": [
      "\r",
      " 88%|█████████████████████████████████████████████████████████████████████████▋          | 114/130 [02:21<00:21,  1.34s/it]"
     ]
    },
    {
     "name": "stderr",
     "output_type": "stream",
     "text": [
      "\r",
      " 88%|██████████████████████████████████████████████████████████████████████████▎         | 115/130 [02:21<00:14,  1.03it/s]"
     ]
    },
    {
     "name": "stderr",
     "output_type": "stream",
     "text": [
      "\r",
      " 89%|██████████████████████████████████████████████████████████████████████████▉         | 116/130 [02:21<00:09,  1.40it/s]"
     ]
    },
    {
     "name": "stderr",
     "output_type": "stream",
     "text": [
      "\r",
      " 90%|███████████████████████████████████████████████████████████████████████████▌        | 117/130 [02:21<00:06,  1.87it/s]"
     ]
    },
    {
     "name": "stderr",
     "output_type": "stream",
     "text": [
      "\r",
      " 91%|████████████████████████████████████████████████████████████████████████████▏       | 118/130 [02:21<00:05,  2.37it/s]"
     ]
    },
    {
     "name": "stderr",
     "output_type": "stream",
     "text": [
      "\r",
      " 92%|████████████████████████████████████████████████████████████████████████████▉       | 119/130 [02:21<00:03,  2.90it/s]"
     ]
    },
    {
     "name": "stderr",
     "output_type": "stream",
     "text": [
      "\r",
      " 92%|█████████████████████████████████████████████████████████████████████████████▌      | 120/130 [02:22<00:02,  3.34it/s]"
     ]
    },
    {
     "name": "stderr",
     "output_type": "stream",
     "text": [
      "\r",
      " 93%|██████████████████████████████████████████████████████████████████████████████▏     | 121/130 [02:29<00:22,  2.47s/it]"
     ]
    },
    {
     "name": "stderr",
     "output_type": "stream",
     "text": [
      "\r",
      " 94%|██████████████████████████████████████████████████████████████████████████████▊     | 122/130 [02:29<00:14,  1.77s/it]"
     ]
    },
    {
     "name": "stderr",
     "output_type": "stream",
     "text": [
      "\r",
      " 95%|███████████████████████████████████████████████████████████████████████████████▍    | 123/130 [02:29<00:08,  1.27s/it]"
     ]
    },
    {
     "name": "stderr",
     "output_type": "stream",
     "text": [
      "\r",
      " 95%|████████████████████████████████████████████████████████████████████████████████    | 124/130 [02:29<00:05,  1.08it/s]"
     ]
    },
    {
     "name": "stderr",
     "output_type": "stream",
     "text": [
      "\r",
      " 96%|████████████████████████████████████████████████████████████████████████████████▊   | 125/130 [02:30<00:03,  1.47it/s]"
     ]
    },
    {
     "name": "stderr",
     "output_type": "stream",
     "text": [
      "\r",
      " 97%|█████████████████████████████████████████████████████████████████████████████████▍  | 126/130 [02:30<00:02,  1.97it/s]"
     ]
    },
    {
     "name": "stderr",
     "output_type": "stream",
     "text": [
      "\r",
      " 98%|██████████████████████████████████████████████████████████████████████████████████  | 127/130 [02:30<00:01,  2.57it/s]"
     ]
    },
    {
     "name": "stderr",
     "output_type": "stream",
     "text": [
      "\r",
      " 98%|██████████████████████████████████████████████████████████████████████████████████▋ | 128/130 [02:30<00:00,  3.30it/s]"
     ]
    },
    {
     "name": "stderr",
     "output_type": "stream",
     "text": [
      "\r",
      " 99%|███████████████████████████████████████████████████████████████████████████████████▎| 129/130 [02:30<00:00,  4.07it/s]"
     ]
    },
    {
     "name": "stderr",
     "output_type": "stream",
     "text": [
      "\r",
      "100%|████████████████████████████████████████████████████████████████████████████████████| 130/130 [02:30<00:00,  4.08it/s]"
     ]
    },
    {
     "name": "stderr",
     "output_type": "stream",
     "text": [
      "\r",
      "100%|████████████████████████████████████████████████████████████████████████████████████| 130/130 [02:30<00:00,  1.16s/it]"
     ]
    },
    {
     "name": "stderr",
     "output_type": "stream",
     "text": [
      "\n"
     ]
    },
    {
     "name": "stdout",
     "output_type": "stream",
     "text": [
      "time per sample: 1133.39 μs\n",
      "samples per sec: 882.31 samples/sec\n",
      "CPU times: user 1min 56s, sys: 56.1 s, total: 2min 52s\n",
      "Wall time: 2min 51s\n"
     ]
    }
   ],
   "source": [
    "%%time\n",
    "epochs = []\n",
    "for epoch in range(n_epochs):\n",
    "    epoch = benchmark(exp)\n",
    "    epochs.append(epoch)\n",
    "\n",
    "results = Results(\n",
    "    census=Method('census', epochs),\n",
    ")"
   ]
  },
  {
   "cell_type": "code",
   "execution_count": 19,
   "id": "14bcbc20-0853-4404-8766-141632991e8c",
   "metadata": {
    "execution": {
     "iopub.execute_input": "2024-04-15T17:05:12.666299Z",
     "iopub.status.busy": "2024-04-15T17:05:12.665837Z",
     "iopub.status.idle": "2024-04-15T17:05:12.670699Z",
     "shell.execute_reply": "2024-04-15T17:05:12.670253Z"
    },
    "papermill": {
     "duration": 0.015642,
     "end_time": "2024-04-15T17:05:12.671673",
     "exception": false,
     "start_time": "2024-04-15T17:05:12.656031",
     "status": "completed"
    },
    "tags": []
   },
   "outputs": [],
   "source": [
    "results_json_path = f'results-{census_loc}.json'\n",
    "with open(results_json_path, 'w') as f:\n",
    "    json.dump(asdict(results), f, indent=2)"
   ]
  },
  {
   "cell_type": "code",
   "execution_count": 20,
   "id": "eb1fb31a-b7cf-416a-b801-dae42f03b397",
   "metadata": {
    "execution": {
     "iopub.execute_input": "2024-04-15T17:05:12.690725Z",
     "iopub.status.busy": "2024-04-15T17:05:12.690499Z",
     "iopub.status.idle": "2024-04-15T17:05:12.692785Z",
     "shell.execute_reply": "2024-04-15T17:05:12.692344Z"
    },
    "papermill": {
     "duration": 0.01306,
     "end_time": "2024-04-15T17:05:12.693761",
     "exception": false,
     "start_time": "2024-04-15T17:05:12.680701",
     "status": "completed"
    },
    "tags": []
   },
   "outputs": [],
   "source": [
    "# with open(results_json_path, 'r') as f:\n",
    "#     results = Results(**json.load(f))"
   ]
  },
  {
   "cell_type": "markdown",
   "id": "ece8e5db-bf91-4fac-bd8e-48d747477f92",
   "metadata": {
    "papermill": {
     "duration": 0.00894,
     "end_time": "2024-04-15T17:05:12.711731",
     "exception": false,
     "start_time": "2024-04-15T17:05:12.702791",
     "status": "completed"
    },
    "tags": []
   },
   "source": [
    "## Plot batch timings"
   ]
  },
  {
   "cell_type": "code",
   "execution_count": 21,
   "id": "1b6c7282-7c2a-464b-8b5a-e8dd44e789e4",
   "metadata": {
    "execution": {
     "iopub.execute_input": "2024-04-15T17:05:12.730709Z",
     "iopub.status.busy": "2024-04-15T17:05:12.730436Z",
     "iopub.status.idle": "2024-04-15T17:05:12.743330Z",
     "shell.execute_reply": "2024-04-15T17:05:12.742889Z"
    },
    "papermill": {
     "duration": 0.023599,
     "end_time": "2024-04-15T17:05:12.744376",
     "exception": false,
     "start_time": "2024-04-15T17:05:12.720777",
     "status": "completed"
    },
    "scrolled": true,
    "tags": []
   },
   "outputs": [
    {
     "data": {
      "text/html": [
       "<div>\n",
       "<style scoped>\n",
       "    .dataframe tbody tr th:only-of-type {\n",
       "        vertical-align: middle;\n",
       "    }\n",
       "\n",
       "    .dataframe tbody tr th {\n",
       "        vertical-align: top;\n",
       "    }\n",
       "\n",
       "    .dataframe thead th {\n",
       "        text-align: right;\n",
       "    }\n",
       "</style>\n",
       "<table border=\"1\" class=\"dataframe\">\n",
       "  <thead>\n",
       "    <tr style=\"text-align: right;\">\n",
       "      <th></th>\n",
       "      <th>idx</th>\n",
       "      <th>batch</th>\n",
       "      <th>gc</th>\n",
       "      <th>res</th>\n",
       "      <th>res_str</th>\n",
       "    </tr>\n",
       "  </thead>\n",
       "  <tbody>\n",
       "    <tr>\n",
       "      <th>0</th>\n",
       "      <td>0</td>\n",
       "      <td>0.106799</td>\n",
       "      <td>0.442309</td>\n",
       "      <td>0</td>\n",
       "      <td>0mod10</td>\n",
       "    </tr>\n",
       "    <tr>\n",
       "      <th>1</th>\n",
       "      <td>1</td>\n",
       "      <td>1.766778</td>\n",
       "      <td>NaN</td>\n",
       "      <td>1</td>\n",
       "      <td>1mod10</td>\n",
       "    </tr>\n",
       "    <tr>\n",
       "      <th>2</th>\n",
       "      <td>2</td>\n",
       "      <td>0.109591</td>\n",
       "      <td>NaN</td>\n",
       "      <td>2</td>\n",
       "      <td>2mod10</td>\n",
       "    </tr>\n",
       "    <tr>\n",
       "      <th>3</th>\n",
       "      <td>3</td>\n",
       "      <td>0.117103</td>\n",
       "      <td>NaN</td>\n",
       "      <td>3</td>\n",
       "      <td>3mod10</td>\n",
       "    </tr>\n",
       "    <tr>\n",
       "      <th>4</th>\n",
       "      <td>4</td>\n",
       "      <td>0.120394</td>\n",
       "      <td>NaN</td>\n",
       "      <td>4</td>\n",
       "      <td>4mod10</td>\n",
       "    </tr>\n",
       "    <tr>\n",
       "      <th>...</th>\n",
       "      <td>...</td>\n",
       "      <td>...</td>\n",
       "      <td>...</td>\n",
       "      <td>...</td>\n",
       "      <td>...</td>\n",
       "    </tr>\n",
       "    <tr>\n",
       "      <th>125</th>\n",
       "      <td>125</td>\n",
       "      <td>0.105348</td>\n",
       "      <td>NaN</td>\n",
       "      <td>5</td>\n",
       "      <td>5mod10</td>\n",
       "    </tr>\n",
       "    <tr>\n",
       "      <th>126</th>\n",
       "      <td>126</td>\n",
       "      <td>0.111769</td>\n",
       "      <td>NaN</td>\n",
       "      <td>6</td>\n",
       "      <td>6mod10</td>\n",
       "    </tr>\n",
       "    <tr>\n",
       "      <th>127</th>\n",
       "      <td>127</td>\n",
       "      <td>0.104855</td>\n",
       "      <td>NaN</td>\n",
       "      <td>7</td>\n",
       "      <td>7mod10</td>\n",
       "    </tr>\n",
       "    <tr>\n",
       "      <th>128</th>\n",
       "      <td>128</td>\n",
       "      <td>0.111742</td>\n",
       "      <td>NaN</td>\n",
       "      <td>8</td>\n",
       "      <td>8mod10</td>\n",
       "    </tr>\n",
       "    <tr>\n",
       "      <th>129</th>\n",
       "      <td>129</td>\n",
       "      <td>0.243515</td>\n",
       "      <td>NaN</td>\n",
       "      <td>9</td>\n",
       "      <td>9mod10</td>\n",
       "    </tr>\n",
       "  </tbody>\n",
       "</table>\n",
       "<p>130 rows × 5 columns</p>\n",
       "</div>"
      ],
      "text/plain": [
       "     idx     batch        gc  res res_str\n",
       "0      0  0.106799  0.442309    0  0mod10\n",
       "1      1  1.766778       NaN    1  1mod10\n",
       "2      2  0.109591       NaN    2  2mod10\n",
       "3      3  0.117103       NaN    3  3mod10\n",
       "4      4  0.120394       NaN    4  4mod10\n",
       "..   ...       ...       ...  ...     ...\n",
       "125  125  0.105348       NaN    5  5mod10\n",
       "126  126  0.111769       NaN    6  6mod10\n",
       "127  127  0.104855       NaN    7  7mod10\n",
       "128  128  0.111742       NaN    8  8mod10\n",
       "129  129  0.243515       NaN    9  9mod10\n",
       "\n",
       "[130 rows x 5 columns]"
      ]
     },
     "execution_count": 21,
     "metadata": {},
     "output_type": "execute_result"
    }
   ],
   "source": [
    "method = 'census'\n",
    "epoch = 0\n",
    "batches = getattr(results, 'census').epochs[epoch].batches\n",
    "df = pd.DataFrame(batches)\n",
    "df.index.name = 'idx'\n",
    "if period:\n",
    "    df['res'] = df.index % period\n",
    "    df['res_str'] = df.res.astype('str') + f'mod{period}'\n",
    "df = df.reset_index()\n",
    "df"
   ]
  },
  {
   "cell_type": "code",
   "execution_count": 22,
   "id": "703da7d9-035a-4b9f-8062-62c509458391",
   "metadata": {
    "execution": {
     "iopub.execute_input": "2024-04-15T17:05:12.763783Z",
     "iopub.status.busy": "2024-04-15T17:05:12.763449Z",
     "iopub.status.idle": "2024-04-15T17:05:12.771921Z",
     "shell.execute_reply": "2024-04-15T17:05:12.771486Z"
    },
    "papermill": {
     "duration": 0.019324,
     "end_time": "2024-04-15T17:05:12.772969",
     "exception": false,
     "start_time": "2024-04-15T17:05:12.753645",
     "status": "completed"
    },
    "scrolled": true,
    "tags": []
   },
   "outputs": [
    {
     "data": {
      "text/html": [
       "<div>\n",
       "<style scoped>\n",
       "    .dataframe tbody tr th:only-of-type {\n",
       "        vertical-align: middle;\n",
       "    }\n",
       "\n",
       "    .dataframe tbody tr th {\n",
       "        vertical-align: top;\n",
       "    }\n",
       "\n",
       "    .dataframe thead th {\n",
       "        text-align: right;\n",
       "    }\n",
       "</style>\n",
       "<table border=\"1\" class=\"dataframe\">\n",
       "  <thead>\n",
       "    <tr style=\"text-align: right;\">\n",
       "      <th></th>\n",
       "      <th>idx</th>\n",
       "      <th>batch</th>\n",
       "      <th>gc</th>\n",
       "      <th>res</th>\n",
       "      <th>res_str</th>\n",
       "    </tr>\n",
       "  </thead>\n",
       "  <tbody>\n",
       "    <tr>\n",
       "      <th>1</th>\n",
       "      <td>1</td>\n",
       "      <td>1.766778</td>\n",
       "      <td>NaN</td>\n",
       "      <td>1</td>\n",
       "      <td>1mod10</td>\n",
       "    </tr>\n",
       "    <tr>\n",
       "      <th>8</th>\n",
       "      <td>8</td>\n",
       "      <td>7.257470</td>\n",
       "      <td>NaN</td>\n",
       "      <td>8</td>\n",
       "      <td>8mod10</td>\n",
       "    </tr>\n",
       "    <tr>\n",
       "      <th>10</th>\n",
       "      <td>10</td>\n",
       "      <td>1.645569</td>\n",
       "      <td>0.443089</td>\n",
       "      <td>0</td>\n",
       "      <td>0mod10</td>\n",
       "    </tr>\n",
       "    <tr>\n",
       "      <th>17</th>\n",
       "      <td>17</td>\n",
       "      <td>6.600063</td>\n",
       "      <td>NaN</td>\n",
       "      <td>7</td>\n",
       "      <td>7mod10</td>\n",
       "    </tr>\n",
       "    <tr>\n",
       "      <th>19</th>\n",
       "      <td>19</td>\n",
       "      <td>1.657098</td>\n",
       "      <td>NaN</td>\n",
       "      <td>9</td>\n",
       "      <td>9mod10</td>\n",
       "    </tr>\n",
       "    <tr>\n",
       "      <th>26</th>\n",
       "      <td>26</td>\n",
       "      <td>6.903248</td>\n",
       "      <td>NaN</td>\n",
       "      <td>6</td>\n",
       "      <td>6mod10</td>\n",
       "    </tr>\n",
       "    <tr>\n",
       "      <th>28</th>\n",
       "      <td>28</td>\n",
       "      <td>1.850579</td>\n",
       "      <td>NaN</td>\n",
       "      <td>8</td>\n",
       "      <td>8mod10</td>\n",
       "    </tr>\n",
       "    <tr>\n",
       "      <th>36</th>\n",
       "      <td>36</td>\n",
       "      <td>7.627467</td>\n",
       "      <td>NaN</td>\n",
       "      <td>6</td>\n",
       "      <td>6mod10</td>\n",
       "    </tr>\n",
       "    <tr>\n",
       "      <th>38</th>\n",
       "      <td>38</td>\n",
       "      <td>1.889204</td>\n",
       "      <td>NaN</td>\n",
       "      <td>8</td>\n",
       "      <td>8mod10</td>\n",
       "    </tr>\n",
       "    <tr>\n",
       "      <th>45</th>\n",
       "      <td>45</td>\n",
       "      <td>11.729740</td>\n",
       "      <td>NaN</td>\n",
       "      <td>5</td>\n",
       "      <td>5mod10</td>\n",
       "    </tr>\n",
       "    <tr>\n",
       "      <th>47</th>\n",
       "      <td>47</td>\n",
       "      <td>1.818523</td>\n",
       "      <td>NaN</td>\n",
       "      <td>7</td>\n",
       "      <td>7mod10</td>\n",
       "    </tr>\n",
       "    <tr>\n",
       "      <th>54</th>\n",
       "      <td>54</td>\n",
       "      <td>8.467282</td>\n",
       "      <td>NaN</td>\n",
       "      <td>4</td>\n",
       "      <td>4mod10</td>\n",
       "    </tr>\n",
       "    <tr>\n",
       "      <th>56</th>\n",
       "      <td>56</td>\n",
       "      <td>1.678118</td>\n",
       "      <td>NaN</td>\n",
       "      <td>6</td>\n",
       "      <td>6mod10</td>\n",
       "    </tr>\n",
       "    <tr>\n",
       "      <th>64</th>\n",
       "      <td>64</td>\n",
       "      <td>7.618764</td>\n",
       "      <td>NaN</td>\n",
       "      <td>4</td>\n",
       "      <td>4mod10</td>\n",
       "    </tr>\n",
       "    <tr>\n",
       "      <th>67</th>\n",
       "      <td>67</td>\n",
       "      <td>1.703460</td>\n",
       "      <td>NaN</td>\n",
       "      <td>7</td>\n",
       "      <td>7mod10</td>\n",
       "    </tr>\n",
       "    <tr>\n",
       "      <th>73</th>\n",
       "      <td>73</td>\n",
       "      <td>11.573429</td>\n",
       "      <td>NaN</td>\n",
       "      <td>3</td>\n",
       "      <td>3mod10</td>\n",
       "    </tr>\n",
       "    <tr>\n",
       "      <th>75</th>\n",
       "      <td>75</td>\n",
       "      <td>1.724407</td>\n",
       "      <td>NaN</td>\n",
       "      <td>5</td>\n",
       "      <td>5mod10</td>\n",
       "    </tr>\n",
       "    <tr>\n",
       "      <th>82</th>\n",
       "      <td>82</td>\n",
       "      <td>6.662902</td>\n",
       "      <td>NaN</td>\n",
       "      <td>2</td>\n",
       "      <td>2mod10</td>\n",
       "    </tr>\n",
       "    <tr>\n",
       "      <th>85</th>\n",
       "      <td>85</td>\n",
       "      <td>1.601674</td>\n",
       "      <td>NaN</td>\n",
       "      <td>5</td>\n",
       "      <td>5mod10</td>\n",
       "    </tr>\n",
       "    <tr>\n",
       "      <th>92</th>\n",
       "      <td>92</td>\n",
       "      <td>8.093225</td>\n",
       "      <td>NaN</td>\n",
       "      <td>2</td>\n",
       "      <td>2mod10</td>\n",
       "    </tr>\n",
       "    <tr>\n",
       "      <th>94</th>\n",
       "      <td>94</td>\n",
       "      <td>1.763820</td>\n",
       "      <td>NaN</td>\n",
       "      <td>4</td>\n",
       "      <td>4mod10</td>\n",
       "    </tr>\n",
       "    <tr>\n",
       "      <th>101</th>\n",
       "      <td>101</td>\n",
       "      <td>8.481863</td>\n",
       "      <td>NaN</td>\n",
       "      <td>1</td>\n",
       "      <td>1mod10</td>\n",
       "    </tr>\n",
       "    <tr>\n",
       "      <th>103</th>\n",
       "      <td>103</td>\n",
       "      <td>1.847121</td>\n",
       "      <td>NaN</td>\n",
       "      <td>3</td>\n",
       "      <td>3mod10</td>\n",
       "    </tr>\n",
       "    <tr>\n",
       "      <th>110</th>\n",
       "      <td>110</td>\n",
       "      <td>8.578562</td>\n",
       "      <td>0.454263</td>\n",
       "      <td>0</td>\n",
       "      <td>0mod10</td>\n",
       "    </tr>\n",
       "    <tr>\n",
       "      <th>111</th>\n",
       "      <td>111</td>\n",
       "      <td>1.801620</td>\n",
       "      <td>NaN</td>\n",
       "      <td>1</td>\n",
       "      <td>1mod10</td>\n",
       "    </tr>\n",
       "    <tr>\n",
       "      <th>120</th>\n",
       "      <td>120</td>\n",
       "      <td>7.080559</td>\n",
       "      <td>0.470014</td>\n",
       "      <td>0</td>\n",
       "      <td>0mod10</td>\n",
       "    </tr>\n",
       "  </tbody>\n",
       "</table>\n",
       "</div>"
      ],
      "text/plain": [
       "     idx      batch        gc  res res_str\n",
       "1      1   1.766778       NaN    1  1mod10\n",
       "8      8   7.257470       NaN    8  8mod10\n",
       "10    10   1.645569  0.443089    0  0mod10\n",
       "17    17   6.600063       NaN    7  7mod10\n",
       "19    19   1.657098       NaN    9  9mod10\n",
       "26    26   6.903248       NaN    6  6mod10\n",
       "28    28   1.850579       NaN    8  8mod10\n",
       "36    36   7.627467       NaN    6  6mod10\n",
       "38    38   1.889204       NaN    8  8mod10\n",
       "45    45  11.729740       NaN    5  5mod10\n",
       "47    47   1.818523       NaN    7  7mod10\n",
       "54    54   8.467282       NaN    4  4mod10\n",
       "56    56   1.678118       NaN    6  6mod10\n",
       "64    64   7.618764       NaN    4  4mod10\n",
       "67    67   1.703460       NaN    7  7mod10\n",
       "73    73  11.573429       NaN    3  3mod10\n",
       "75    75   1.724407       NaN    5  5mod10\n",
       "82    82   6.662902       NaN    2  2mod10\n",
       "85    85   1.601674       NaN    5  5mod10\n",
       "92    92   8.093225       NaN    2  2mod10\n",
       "94    94   1.763820       NaN    4  4mod10\n",
       "101  101   8.481863       NaN    1  1mod10\n",
       "103  103   1.847121       NaN    3  3mod10\n",
       "110  110   8.578562  0.454263    0  0mod10\n",
       "111  111   1.801620       NaN    1  1mod10\n",
       "120  120   7.080559  0.470014    0  0mod10"
      ]
     },
     "execution_count": 22,
     "metadata": {},
     "output_type": "execute_result"
    }
   ],
   "source": [
    "ann = df[df.batch > ann_cutoff] if ann_cutoff else df[[]]\n",
    "ann"
   ]
  },
  {
   "cell_type": "code",
   "execution_count": 23,
   "id": "9bbe7687-edb0-4287-981f-96436ca40da6",
   "metadata": {
    "execution": {
     "iopub.execute_input": "2024-04-15T17:05:12.792923Z",
     "iopub.status.busy": "2024-04-15T17:05:12.792654Z",
     "iopub.status.idle": "2024-04-15T17:05:12.795716Z",
     "shell.execute_reply": "2024-04-15T17:05:12.795303Z"
    },
    "papermill": {
     "duration": 0.014144,
     "end_time": "2024-04-15T17:05:12.796750",
     "exception": false,
     "start_time": "2024-04-15T17:05:12.782606",
     "status": "completed"
    },
    "tags": []
   },
   "outputs": [
    {
     "data": {
      "text/plain": [
       "PlotConfigs(fmt='fig', w=1200, h=800, save=[], v=True, i=None, dir=None, grid='#ccc', bg='white')"
      ]
     },
     "execution_count": 23,
     "metadata": {},
     "output_type": "execute_result"
    }
   ],
   "source": [
    "pc"
   ]
  },
  {
   "cell_type": "code",
   "execution_count": 24,
   "id": "823603b4-61ac-4edd-9047-921e6b0568a7",
   "metadata": {
    "execution": {
     "iopub.execute_input": "2024-04-15T17:05:12.816873Z",
     "iopub.status.busy": "2024-04-15T17:05:12.816536Z",
     "iopub.status.idle": "2024-04-15T17:05:13.886489Z",
     "shell.execute_reply": "2024-04-15T17:05:13.885986Z"
    },
    "papermill": {
     "duration": 1.081236,
     "end_time": "2024-04-15T17:05:13.887555",
     "exception": false,
     "start_time": "2024-04-15T17:05:12.806319",
     "status": "completed"
    },
    "tags": []
   },
   "outputs": [
    {
     "name": "stderr",
     "output_type": "stream",
     "text": [
      "Saving: img/census-S3.png\n"
     ]
    },
    {
     "name": "stderr",
     "output_type": "stream",
     "text": [
      "Returning IPython Image\n"
     ]
    },
    {
     "data": {
      "image/png": "[encoded data removed]",
      "text/plain": [
       "<IPython.core.display.Image object>"
      ]
     },
     "execution_count": 24,
     "metadata": {},
     "output_type": "execute_result"
    }
   ],
   "source": [
    "fig = px.bar(\n",
    "    df.set_index('idx')[['batch', 'gc']],\n",
    "    barmode='stack',\n",
    "    labels={\n",
    "        'idx': 'Batch idx',\n",
    "        'variable': '',\n",
    "        'value': 'Time (s)',\n",
    "    },\n",
    "    log_y=log_plot,\n",
    ").update_layout(\n",
    "    title=dict(text=f'Batch+GC times ({method} / {census_loc})'),\n",
    ").update_xaxes(\n",
    "    range=(-.5, len(df) - 1 + .5),\n",
    ")\n",
    "\n",
    "if not ann.empty:\n",
    "    anns = ann.set_index('idx').batch.to_dict().items()\n",
    "    for idx, batch in anns:\n",
    "        fig.add_annotation(\n",
    "            x=idx, y=log10(batch) if log_plot else batch,\n",
    "            showarrow=False,\n",
    "            text=f'{idx}: {batch:.1f}s',\n",
    "            xshift=7,\n",
    "            xanchor='left',\n",
    "        )\n",
    "\n",
    "plot(fig, f'census-{census_loc}', fmt='png', save=['png'], w=width, h=height, dir='img',)"
   ]
  }
 ],
 "metadata": {
  "kernelspec": {
   "display_name": "Python 3 (ipykernel)",
   "language": "python",
   "name": "python3"
  },
  "language_info": {
   "codemirror_mode": {
    "name": "ipython",
    "version": 3
   },
   "file_extension": ".py",
   "mimetype": "text/x-python",
   "name": "python",
   "nbconvert_exporter": "python",
   "pygments_lexer": "ipython3",
   "version": "3.11.8"
  },
  "papermill": {
   "default_parameters": {},
   "duration": 198.564237,
   "end_time": "2024-04-15T17:05:16.516607",
   "environment_variables": {},
   "exception": null,
   "input_path": "benchmark.ipynb",
   "output_path": "benchmark-s3.ipynb",
   "parameters": {
    "census_uri": ""
   },
   "start_time": "2024-04-15T17:01:57.952370",
   "version": "2.5.0"
  }
 },
 "nbformat": 4,
 "nbformat_minor": 5
}