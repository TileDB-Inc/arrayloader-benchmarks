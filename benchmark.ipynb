{
 "cells": [
  {
   "cell_type": "code",
   "execution_count": 1,
   "id": "1e129fe5-c0f8-4d8e-939d-480c7bc615f0",
   "metadata": {},
   "outputs": [],
   "source": [
    "import somacore as soma\n",
    "import time\n",
    "import gc\n",
    "from tqdm import tqdm\n",
    "\n",
    "import cellxgene_census\n",
    "import cellxgene_census.experimental.ml as census_ml"
   ]
  },
  {
   "cell_type": "code",
   "execution_count": 2,
   "id": "8b65ab8a-3155-4407-9c19-bb04bc4b7493",
   "metadata": {},
   "outputs": [
    {
     "name": "stderr",
     "output_type": "stream",
     "text": [
      "The \"stable\" release is currently 2023-12-15. Specify 'census_version=\"2023-12-15\"' in future calls to open_soma() to ensure data consistency.\n"
     ]
    }
   ],
   "source": [
    "census = cellxgene_census.open_soma()\n",
    "\n",
    "#reference = ln.Collection.filter(uid=\"1gsdckxvOvIjQgeDVS1F\").one().reference\n",
    "reference = '283d65eb-dd53-496d-adb7-7570c7caa443'\n",
    "query_collection_id = f\"collection_id == '{reference}'\"\n",
    "datasets =(census[\"census_info\"][\"datasets\"]\n",
    "           .read(column_names=[\"dataset_id\"], value_filter=query_collection_id)\n",
    "           .concat().to_pandas())[\"dataset_id\"].tolist()\n",
    "query_datasets = \"dataset_id in \" + str(datasets)"
   ]
  },
  {
   "cell_type": "code",
   "execution_count": 3,
   "id": "1c387c19-f218-4ddd-9686-a80f08a88b02",
   "metadata": {},
   "outputs": [
    {
     "data": {
      "text/plain": [
       "\"dataset_id in ['8e10f1c4-8e98-41e5-b65f-8cd89a887122', 'b165f033-9dec-468a-9248-802fc6902a74', 'ff7d15fa-f4b6-4a0e-992e-fd0c9d088ded', 'fe1a73ab-a203-45fd-84e9-0f7fd19efcbd', 'fbf173f9-f809-4d84-9b65-ae205d35b523', 'fa554686-fc07-44dd-b2de-b726d82d26ec', 'f9034091-2e8f-4ac6-9874-e7b7eb566824', 'f8dda921-5fb4-4c94-a654-c6fc346bfd6d', 'f7d003d4-40d5-4de8-858c-a9a8b48fcc67', 'f6d9f2ad-5ec7-4d53-b7f0-ceb0e7bcd181', 'f5a04dff-d394-4023-8811-65494e8bb11d', 'f502c312-05dc-4fd4-a762-92a63e92b539', 'f3565fda-499a-4d20-bd92-563c09954c42', 'f32c2c13-bb1a-4ffd-a457-60b64ecfa4cb', 'f20f44ef-a0d4-4d94-87de-037fd47141f0', 'f16f4108-7873-4035-9989-3748da1a7ff1', 'ed33c203-233a-476a-a56b-28da945fdd32', 'ed11cc3e-2947-407c-883c-c53b043917c3', 'ecd9230d-c571-4dab-abd3-8b54c74833f0', 'e8681d74-ac9e-4be5-be14-1cf1bbd54dd7', 'e6b2ce27-681b-4409-a053-2681875936e5', 'e5b1115b-a486-49bb-bda3-8261822836e0', 'e4710a02-8abc-48d5-a3e8-9ae7e9d79bdb', 'e1f595f6-ba2c-495e-9bee-7056f116b1e4', 'dd03ce70-3243-4c96-9561-330cc461e4d7', 'db1d2c1b-2ee1-45d5-9d53-69a327cd77e6', 'd6a5b240-cc8f-45c1-ad36-2fc291e15e8e', 'd582f63a-3c88-4e38-8cd3-8682dbe40f64', 'd5452b83-7c3d-4d7c-ab7a-c7fece7196c5', 'd2b5efc1-14c6-4b5f-bd98-40f9084872d7', 'd288b10a-643e-44bd-b451-96e9588b2ee5', 'd2514440-d747-4d8d-b2c7-b58ef8b71fbe', 'd02287f3-408b-438d-9131-999e460cbd0e', 'cfa755c1-48c5-4336-94f4-aa95eca4fbd5', 'caf8670f-e647-4f0c-bfba-163aa84ce602', 'ca20e2ac-5676-4158-b5d0-0c2b15898b19', 'c7856243-c59a-4b70-8ce7-25b94c2d9da1', 'c5cfa2b7-abb1-4a50-908f-707b54ca606b', 'c4dd26a8-d956-4bee-a233-44b573f2ce27', 'c4b03352-af8d-492a-8d6b-40f304e0a122', 'c2aad8fc-b63b-4f9b-9cfd-baf7bc9c1771', 'c202b243-1aa1-4b16-bc9a-b36241f3b1e3', 'bdb26abd-f4ba-4ea3-8862-c2340e7a4f55', 'bd6b68e8-179a-42f0-9bde-b4fdf7d34dd1', 'bac09168-940b-4b11-8d55-b4955f80b98d', 'b8681124-aabf-4904-b9c9-66d834bf5bba', 'adda0684-f8ea-4403-b393-2a25607077c4', 'acae7679-d077-461c-b857-ee6ccfeb267f', 'a84face4-eb30-4f43-994f-c6a13a097808', 'a7b4f565-691d-43ea-bf4a-d2d1d52bb4b4', 'a5b5d1f3-dd8b-44f6-a685-15f0f741c062', 'a59ba9fa-1407-4f15-8c56-d3637421570d', 'a56f1a6b-071c-4780-9832-33ca9b8fb391', 'a4116666-d295-4443-a174-0acc283f92c4', 'a19b218b-1c0a-4618-b41f-7c216c623ec6', '9f499d32-400d-4c42-ac9a-fb1481844fee', '9ec34295-ab16-47e2-af33-b884143e520b', '9ec335f2-420a-45a8-b45a-1ab646e50041', '98113e7e-f586-4065-a26a-60aa702f8d1c', '949ec7fc-ac54-47c9-bb6f-ee9e67688cce', '9372df2d-13d6-4fac-980b-919a5b7eb483', '93131426-0124-4ab4-a013-9dfbcd99d467', '900fdf13-150d-4695-9f8c-4c09105ba2eb', '8f48c031-6692-4c82-b6c2-e4ad35cbc0aa', '8ba5453f-7fab-4702-a3a6-4021b1f31a7a', '88a01d4a-5197-45be-b5ae-e019aef43376', '8039c63d-08b0-4fc9-af0f-5b57f08ca0da', '7db0c178-b0a4-442f-ba54-e9e1633a84bb', '7d3ab174-e433-40fc-a352-6fe71b1a19f9', '7cd3c321-e487-4b51-a8af-9bf671b59fe5', '7c1c3d47-3166-43e5-9a95-65ceb2d45f78', '7b316f62-7fa0-4b95-bac9-e90866038a85', '7a0a8891-9a22-4549-a55b-c2aca23c3a2a', '77c1c785-809f-4065-8c54-6a0170783256', '77044335-0ac5-4406-9b3f-8cdd3656d67b', '715327a6-7978-4896-ba91-69d6b04dbbfb', '70e4f35b-c98c-45a1-9aa9-2053b07315dd', '700aed19-c16e-4ba8-9191-07da098a8626', '6ed0bb6c-a9e3-4ba6-9436-7c8fd4e206f0', '6dafb698-7a53-4699-ad13-1b5e2c164be7', '6538ce1b-7949-405f-b01c-a2c3e876baee', '64f4ad90-a422-400a-944d-4ce0f39594a7', '64767efb-49b0-4562-a1bd-e619a5d9db41', '639ffc23-14db-4060-9027-3c90314200f8', '5e5ab909-f73f-4b57-98a0-6d2c5662f6a4', '5bc23cb2-8cfc-4960-bab1-c3027fbeefc4', '5a73f63f-18a2-49b5-b431-2c469c41a41b', '599504e5-d4ad-45bd-9128-823faf0fb9c9', '59923449-e303-43e6-9e63-03ef92f5ebd1', '56c33a38-2732-4e53-a9c1-1bc61eda9a99', '531c9543-9093-45ed-93ac-ebc5815bfb8a', '52f18bc3-52d9-487b-bf8f-f0b7aa684b09', '52ea546e-9229-40ef-b048-a2e694dd73e8', '529bb209-9d7b-44da-bfa4-f6e4745c46c2', '50dc91a1-36b6-472a-b884-7307b6961ab1', '4d43082e-59cd-43ac-b77d-54d55519c881', '4976b234-9028-4b4b-8a2f-8ac59d636219', '489eaa11-c119-4a5f-b44b-81e33c80c0ef', '4724c395-0c46-46d2-81f7-60fd271fb488', '470565f2-5afc-456a-b617-18e4496c04fd', '46ff9dc2-3d87-4b36-91aa-ffa8aa13c52e', '4593c820-512d-4805-a10f-c0b864a7cc8c', '43b7e156-65b3-4a7b-8c7a-08528e4b21d0', '421e5f54-5de7-425f-b399-34ead0651ce1', '40e79234-65e8-45e9-b555-5c663154a108', '40569510-2282-461b-84df-6218ef208e0e', '40318d39-3d8f-49f4-8455-a2e1365c5c5b', '3f56901c-dd4a-47d6-b60b-7b0c0111cfb2', '3f31f8ce-bbf6-4df8-8203-aa240ed03026', '3a7f3ab4-a280-4b3b-b2c0-6dd05614a78c', '381aa407-317a-40ef-8048-7ce0eacc4266', '367b55f4-d543-49aa-90e8-4765fcb8c687', '364348b4-bc34-4fe1-a851-60d99e36cafa', '35c8a04c-8639-4d15-8228-765d8d93fc96', '35090826-f636-40c1-a3ef-4466beeab9f8', '31f04740-c712-4c4b-a3f8-55c0506b3034', '2a8ca8f3-5599-4cda-b973-3a2dfc3c1fe6', '27d91086-cfe3-4e33-9282-bd1246e5ce8e', '22658f4f-9268-41ad-8828-cc53f4baa9fa', '2190bd4d-3be0-4bf7-8ca8-8d6f71228936', '2185eb07-22e2-4209-b3c8-7111afc6aa90', '20980d73-7c53-4039-b852-b76a01566d5a', '1cf24082-59de-4029-ac81-6e398768af3a', '1b767f95-d0a0-4a3d-b394-cc665d86c3dc', '1a018108-b4b6-457b-ba15-046d5e98c169', '19b21f40-db42-4a71-a0d6-913e83b17784', '18500fcd-9960-49cb-8a8e-7d868dc14efe', '182f6a56-7360-4924-a74e-1772e07b3031', '1185a7d3-a9c1-4280-9ba5-d61895b15cac', '0ee5ae70-c3f5-473f-bd1c-287f4690ffc5', '0d7f4c06-a6bd-47d2-a42b-3a7196704f77', '095940cb-7422-4510-96e2-cbafd961eb88', '090da8ea-46e8-40df-bffc-1f78e1538d27', '07b1d7c8-5c2e-42f7-9246-26f746cd6013', '04a23820-ffa8-4be5-9f65-64db15631d1e', '03d38670-1444-4001-bc53-9936e61d9b20', '0325478a-9b52-45b5-b40a-2e2ab0d72eb1', '00476f9f-ebc1-4b72-b541-32f912ce36ea']\""
      ]
     },
     "execution_count": 3,
     "metadata": {},
     "output_type": "execute_result"
    }
   ],
   "source": [
    "query_datasets"
   ]
  },
  {
   "cell_type": "code",
   "execution_count": 4,
   "id": "d0ad65a7-935e-484c-8346-169a6bc6e422",
   "metadata": {},
   "outputs": [
    {
     "data": {
      "text/plain": [
       "5534"
      ]
     },
     "execution_count": 4,
     "metadata": {},
     "output_type": "execute_result"
    }
   ],
   "source": [
    "len(query_datasets)"
   ]
  },
  {
   "cell_type": "code",
   "execution_count": 5,
   "id": "e909b687-7edd-4fa1-93c5-03b56645be4b",
   "metadata": {},
   "outputs": [
    {
     "data": {
      "text/plain": [
       "<Collection 's3://cellxgene-census-public-us-west-2/cell-census/2023-12-15/soma/census_data' (open for 'r') (2 items)\n",
       "    'homo_sapiens': 's3://cellxgene-census-public-us-west-2/cell-census/2023-12-15/soma/census_data/homo_sapiens' (unopened)\n",
       "    'mus_musculus': 's3://cellxgene-census-public-us-west-2/cell-census/2023-12-15/soma/census_data/mus_musculus' (unopened)>"
      ]
     },
     "execution_count": 5,
     "metadata": {},
     "output_type": "execute_result"
    }
   ],
   "source": [
    "census[\"census_data\"]"
   ]
  },
  {
   "cell_type": "code",
   "execution_count": 6,
   "id": "73e0d831-da5d-41e0-ac4b-ac9e2e359a90",
   "metadata": {},
   "outputs": [
    {
     "data": {
      "text/plain": [
       "<Experiment 's3://cellxgene-census-public-us-west-2/cell-census/2023-12-15/soma/census_data/homo_sapiens' (open for 'r') (2 items)\n",
       "    'ms': 's3://cellxgene-census-public-us-west-2/cell-census/2023-12-15/soma/census_data/homo_sapiens/ms' (unopened)\n",
       "    'obs': 's3://cellxgene-census-public-us-west-2/cell-census/2023-12-15/soma/census_data/homo_sapiens/obs' (unopened)>"
      ]
     },
     "execution_count": 6,
     "metadata": {},
     "output_type": "execute_result"
    }
   ],
   "source": [
    "experiment = census[\"census_data\"][\"homo_sapiens\"]\n",
    "experiment"
   ]
  },
  {
   "cell_type": "code",
   "execution_count": 7,
   "id": "85725f4b-6d07-42e4-8baf-167c99c2c667",
   "metadata": {},
   "outputs": [
    {
     "data": {
      "text/plain": [
       "<Measurement 's3://cellxgene-census-public-us-west-2/cell-census/2023-12-15/soma/census_data/homo_sapiens/ms/RNA' (open for 'r') (4 items)\n",
       "    'obsm': 's3://cellxgene-census-public-us-west-2/cell-census/2023-12-15/soma/census_data/homo_sapiens/ms/RNA/obsm' (unopened)\n",
       "    'feature_dataset_presence_matrix': 's3://cellxgene-census-public-us-west-2/cell-census/2023-12-15/soma/census_data/homo_sapiens/ms/RNA/feature_dataset_presence_matrix' (unopened)\n",
       "    'X': 's3://cellxgene-census-public-us-west-2/cell-census/2023-12-15/soma/census_data/homo_sapiens/ms/RNA/X' (unopened)\n",
       "    'var': 's3://cellxgene-census-public-us-west-2/cell-census/2023-12-15/soma/census_data/homo_sapiens/ms/RNA/var' (unopened)>"
      ]
     },
     "execution_count": 7,
     "metadata": {},
     "output_type": "execute_result"
    }
   ],
   "source": [
    "experiment.ms['RNA']"
   ]
  },
  {
   "cell_type": "code",
   "execution_count": 8,
   "id": "cd9eea1f-62f1-44c0-976f-7242f531e6f8",
   "metadata": {},
   "outputs": [],
   "source": [
    "BATCH_SIZE = 1024"
   ]
  },
  {
   "cell_type": "code",
   "execution_count": 9,
   "id": "826570e2-721f-43ae-9412-f274047d2267",
   "metadata": {},
   "outputs": [],
   "source": [
    "experiment_datapipe = census_ml.ExperimentDataPipe(\n",
    "    experiment,\n",
    "    measurement_name=\"RNA\",\n",
    "    X_name=\"raw\",\n",
    "    obs_query=soma.AxisQuery(value_filter=query_datasets),\n",
    "    var_query=soma.AxisQuery(coords=(slice(20000-1),)),\n",
    "    batch_size=BATCH_SIZE,\n",
    "    shuffle=True,\n",
    "    soma_chunk_size=10000,\n",
    ")\n",
    "\n",
    "loader = census_ml.experiment_dataloader(experiment_datapipe)"
   ]
  },
  {
   "cell_type": "code",
   "execution_count": 10,
   "id": "de4ef2ee-8260-4f4a-a1a9-cb145c94106b",
   "metadata": {},
   "outputs": [],
   "source": [
    "n_epochs = 1\n",
    "# n_epochs = 5"
   ]
  },
  {
   "cell_type": "code",
   "execution_count": 11,
   "id": "a4a79d77-b0e0-48c0-9f50-df511142e938",
   "metadata": {},
   "outputs": [],
   "source": [
    "def benchmark(loader, n_samples = None):    \n",
    "    loader_iter = loader.__iter__()\n",
    "    # exclude first batch from benchmark as this includes the setup time\n",
    "    batch = next(loader_iter)\n",
    "    \n",
    "    num_iter = n_samples // BATCH_SIZE if n_samples is not None else None\n",
    "    \n",
    "    start_time = time.time()\n",
    "    \n",
    "    batch_times = []\n",
    "    batch_time = time.time()\n",
    "    \n",
    "    total = num_iter if num_iter is not None else len(loader_iter)\n",
    "    for i, batch in tqdm(enumerate(loader_iter), total=total):\n",
    "        X = batch[\"x\"] if isinstance(batch, dict) else batch[0] \n",
    "        # for pytorch DataLoader\n",
    "        # Merlin sends to cuda by default\n",
    "        if hasattr(X, \"is_cuda\") and not X.is_cuda:\n",
    "            X = X.cuda()\n",
    "        \n",
    "        if num_iter is not None and i == num_iter:\n",
    "            break\n",
    "        if i % 10 == 0:\n",
    "            gc.collect()\n",
    "        \n",
    "        batch_times.append(time.time() - batch_time)\n",
    "        batch_time = time.time()\n",
    "    \n",
    "    execution_time = time.time() - start_time\n",
    "    gc.collect()\n",
    "    \n",
    "    time_per_sample = (1e6 * execution_time) / (total * BATCH_SIZE)\n",
    "    print(f'time per sample: {time_per_sample:.2f} μs')\n",
    "    samples_per_sec = total * BATCH_SIZE / execution_time\n",
    "    print(f'samples per sec: {samples_per_sec:.2f} samples/sec')\n",
    "    \n",
    "    return samples_per_sec, time_per_sample, batch_times"
   ]
  },
  {
   "cell_type": "code",
   "execution_count": 12,
   "id": "12509f91-a624-407d-8a4c-afecb1bbd764",
   "metadata": {},
   "outputs": [
    {
     "name": "stdout",
     "output_type": "stream",
     "text": [
      "CPU times: user 10 s, sys: 5.58 s, total: 15.6 s\n",
      "Wall time: 7.12 s\n"
     ]
    },
    {
     "data": {
      "text/plain": [
       "(10107657, 20000)"
      ]
     },
     "execution_count": 12,
     "metadata": {},
     "output_type": "execute_result"
    }
   ],
   "source": [
    "%%time\n",
    "experiment_datapipe.shape"
   ]
  },
  {
   "cell_type": "code",
   "execution_count": 13,
   "id": "c7610705-d2ec-4eb3-90e4-332626526728",
   "metadata": {},
   "outputs": [
    {
     "name": "stdout",
     "output_type": "stream",
     "text": [
      "cellxgene_census\n"
     ]
    },
    {
     "name": "stderr",
     "output_type": "stream",
     "text": [
      "  0%|                                                                                                       | 0/9870 [00:00<?, ?it/s]\n"
     ]
    },
    {
     "ename": "RuntimeError",
     "evalue": "Found no NVIDIA driver on your system. Please check that you have an NVIDIA GPU and installed a driver from http://www.nvidia.com/Download/index.aspx",
     "output_type": "error",
     "traceback": [
      "\u001b[0;31m---------------------------------------------------------------------------\u001b[0m",
      "\u001b[0;31mRuntimeError\u001b[0m                              Traceback (most recent call last)",
      "Cell \u001b[0;32mIn[13], line 3\u001b[0m\n\u001b[1;32m      1\u001b[0m \u001b[38;5;28mprint\u001b[39m(\u001b[38;5;124m\"\u001b[39m\u001b[38;5;124mcellxgene_census\u001b[39m\u001b[38;5;124m\"\u001b[39m)\n\u001b[1;32m      2\u001b[0m \u001b[38;5;28;01mfor\u001b[39;00m epoch \u001b[38;5;129;01min\u001b[39;00m \u001b[38;5;28mrange\u001b[39m(n_epochs):\n\u001b[0;32m----> 3\u001b[0m     samples_per_sec, time_per_sample, batch_times \u001b[38;5;241m=\u001b[39m \u001b[43mbenchmark\u001b[49m\u001b[43m(\u001b[49m\u001b[43mloader\u001b[49m\u001b[43m,\u001b[49m\u001b[43m \u001b[49m\u001b[43mn_samples\u001b[49m\u001b[38;5;241;43m=\u001b[39;49m\u001b[43mexperiment_datapipe\u001b[49m\u001b[38;5;241;43m.\u001b[39;49m\u001b[43mshape\u001b[49m\u001b[43m[\u001b[49m\u001b[38;5;241;43m0\u001b[39;49m\u001b[43m]\u001b[49m\u001b[43m)\u001b[49m\n\u001b[1;32m      4\u001b[0m     results[\u001b[38;5;124m\"\u001b[39m\u001b[38;5;124mcellxgene_census\u001b[39m\u001b[38;5;124m\"\u001b[39m][\u001b[38;5;124mf\u001b[39m\u001b[38;5;124m\"\u001b[39m\u001b[38;5;124mepoch_\u001b[39m\u001b[38;5;132;01m{\u001b[39;00mepoch\u001b[38;5;132;01m}\u001b[39;00m\u001b[38;5;124m\"\u001b[39m][\u001b[38;5;124m\"\u001b[39m\u001b[38;5;124mtime_per_sample\u001b[39m\u001b[38;5;124m\"\u001b[39m] \u001b[38;5;241m=\u001b[39m time_per_sample\n\u001b[1;32m      5\u001b[0m     results[\u001b[38;5;124m\"\u001b[39m\u001b[38;5;124mcellxgene_census\u001b[39m\u001b[38;5;124m\"\u001b[39m][\u001b[38;5;124mf\u001b[39m\u001b[38;5;124m\"\u001b[39m\u001b[38;5;124mepoch_\u001b[39m\u001b[38;5;132;01m{\u001b[39;00mepoch\u001b[38;5;132;01m}\u001b[39;00m\u001b[38;5;124m\"\u001b[39m][\u001b[38;5;124m\"\u001b[39m\u001b[38;5;124msamples_per_sec\u001b[39m\u001b[38;5;124m\"\u001b[39m] \u001b[38;5;241m=\u001b[39m samples_per_sec\n",
      "Cell \u001b[0;32mIn[11], line 19\u001b[0m, in \u001b[0;36mbenchmark\u001b[0;34m(loader, n_samples)\u001b[0m\n\u001b[1;32m     16\u001b[0m \u001b[38;5;66;03m# for pytorch DataLoader\u001b[39;00m\n\u001b[1;32m     17\u001b[0m \u001b[38;5;66;03m# Merlin sends to cuda by default\u001b[39;00m\n\u001b[1;32m     18\u001b[0m \u001b[38;5;28;01mif\u001b[39;00m \u001b[38;5;28mhasattr\u001b[39m(X, \u001b[38;5;124m\"\u001b[39m\u001b[38;5;124mis_cuda\u001b[39m\u001b[38;5;124m\"\u001b[39m) \u001b[38;5;129;01mand\u001b[39;00m \u001b[38;5;129;01mnot\u001b[39;00m X\u001b[38;5;241m.\u001b[39mis_cuda:\n\u001b[0;32m---> 19\u001b[0m     X \u001b[38;5;241m=\u001b[39m \u001b[43mX\u001b[49m\u001b[38;5;241;43m.\u001b[39;49m\u001b[43mcuda\u001b[49m\u001b[43m(\u001b[49m\u001b[43m)\u001b[49m\n\u001b[1;32m     21\u001b[0m \u001b[38;5;28;01mif\u001b[39;00m num_iter \u001b[38;5;129;01mis\u001b[39;00m \u001b[38;5;129;01mnot\u001b[39;00m \u001b[38;5;28;01mNone\u001b[39;00m \u001b[38;5;129;01mand\u001b[39;00m i \u001b[38;5;241m==\u001b[39m num_iter:\n\u001b[1;32m     22\u001b[0m     \u001b[38;5;28;01mbreak\u001b[39;00m\n",
      "File \u001b[0;32m~/miniconda3/envs/arrayloader-benchmarks/lib/python3.11/site-packages/torch/cuda/__init__.py:298\u001b[0m, in \u001b[0;36m_lazy_init\u001b[0;34m()\u001b[0m\n\u001b[1;32m    296\u001b[0m \u001b[38;5;28;01mif\u001b[39;00m \u001b[38;5;124m\"\u001b[39m\u001b[38;5;124mCUDA_MODULE_LOADING\u001b[39m\u001b[38;5;124m\"\u001b[39m \u001b[38;5;129;01mnot\u001b[39;00m \u001b[38;5;129;01min\u001b[39;00m os\u001b[38;5;241m.\u001b[39menviron:\n\u001b[1;32m    297\u001b[0m     os\u001b[38;5;241m.\u001b[39menviron[\u001b[38;5;124m\"\u001b[39m\u001b[38;5;124mCUDA_MODULE_LOADING\u001b[39m\u001b[38;5;124m\"\u001b[39m] \u001b[38;5;241m=\u001b[39m \u001b[38;5;124m\"\u001b[39m\u001b[38;5;124mLAZY\u001b[39m\u001b[38;5;124m\"\u001b[39m\n\u001b[0;32m--> 298\u001b[0m \u001b[43mtorch\u001b[49m\u001b[38;5;241;43m.\u001b[39;49m\u001b[43m_C\u001b[49m\u001b[38;5;241;43m.\u001b[39;49m\u001b[43m_cuda_init\u001b[49m\u001b[43m(\u001b[49m\u001b[43m)\u001b[49m\n\u001b[1;32m    299\u001b[0m \u001b[38;5;66;03m# Some of the queued calls may reentrantly call _lazy_init();\u001b[39;00m\n\u001b[1;32m    300\u001b[0m \u001b[38;5;66;03m# we need to just return without initializing in that case.\u001b[39;00m\n\u001b[1;32m    301\u001b[0m \u001b[38;5;66;03m# However, we must not let any *other* threads in!\u001b[39;00m\n\u001b[1;32m    302\u001b[0m _tls\u001b[38;5;241m.\u001b[39mis_initializing \u001b[38;5;241m=\u001b[39m \u001b[38;5;28;01mTrue\u001b[39;00m\n",
      "\u001b[0;31mRuntimeError\u001b[0m: Found no NVIDIA driver on your system. Please check that you have an NVIDIA GPU and installed a driver from http://www.nvidia.com/Download/index.aspx"
     ]
    }
   ],
   "source": [
    "print(\"cellxgene_census\")\n",
    "for epoch in range(n_epochs):\n",
    "    samples_per_sec, time_per_sample, batch_times = benchmark(loader, n_samples=experiment_datapipe.shape[0])\n",
    "    results[\"cellxgene_census\"][f\"epoch_{epoch}\"][\"time_per_sample\"] = time_per_sample\n",
    "    results[\"cellxgene_census\"][f\"epoch_{epoch}\"][\"samples_per_sec\"] = samples_per_sec\n",
    "    results[\"cellxgene_census\"][f\"epoch_{epoch}\"][\"batch_times\"] = batch_times"
   ]
  },
  {
   "cell_type": "code",
   "execution_count": null,
   "id": "3fa19777-9564-462e-98a5-a4f069c0d651",
   "metadata": {},
   "outputs": [],
   "source": [
    "census.close()"
   ]
  }
 ],
 "metadata": {
  "kernelspec": {
   "display_name": "Python 3 (ipykernel)",
   "language": "python",
   "name": "python3"
  },
  "language_info": {
   "codemirror_mode": {
    "name": "ipython",
    "version": 3
   },
   "file_extension": ".py",
   "mimetype": "text/x-python",
   "name": "python",
   "nbconvert_exporter": "python",
   "pygments_lexer": "ipython3",
   "version": "3.11.8"
  }
 },
 "nbformat": 4,
 "nbformat_minor": 5
}
