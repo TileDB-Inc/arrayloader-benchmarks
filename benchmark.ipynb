{
 "cells": [
  {
   "cell_type": "markdown",
   "id": "4c712408-1cfc-4a38-bdfd-3964903645ff",
   "metadata": {},
   "source": [
    "## Benchmark loading CELLxGENE Census data in Pytorch\n",
    "\n",
    "Run this notebook via [Papermill](https://papermill.readthedocs.io/en/latest/) / the [`execute-nb`](https://github.com/ryan-williams/arrayloader-benchmarks/blob/main/execute-nb) wrapper\n",
    "\n",
    "```bash\n",
    "./execute-nb us-east-1  # from a g4dn.8xlarge in us-east-1\n",
    "./execute-nb us-west-2  # from a g4dn.8xlarge in us-west-2\n",
    "./execute-nb local-nvme -p census_uri '/mnt/nvme/s3/cellxgene-census-public-us-west-2/cell-census/2023-12-15/soma'\n",
    "./execute-nb subset-nvme -p experiment_uri '/mnt/nvme/census-benchmark_2:7' -p n_vars 0  # 20k vars already sliced\n",
    "./execute-nb subset-gp3 -p experiment_uri 'data/census-benchmark_2:7' -p n_vars 0  # 20k vars already sliced\n",
    "```\n",
    "See [README](https://github.com/ryan-williams/arrayloader-benchmarks?tab=readme-ov-file#census-timing-vs-data-locality) for more info."
   ]
  },
  {
   "cell_type": "markdown",
   "id": "d5a30df3-fe3f-4452-b9a6-c9609fd92616",
   "metadata": {},
   "source": [
    "**⚠️ This notebook was run with a modified `cellxgene_census` library; see [`main...ryan-williams:cellxgene-census`](https://github.com/chanzuckerberg/cellxgene-census/compare/main...ryan-williams:cellxgene-census:stats?expand=1) ⚠️**"
   ]
  },
  {
   "cell_type": "code",
   "execution_count": 1,
   "id": "cf534d10-2611-43fc-94a1-11650b44e30a",
   "metadata": {},
   "outputs": [],
   "source": [
    "from benchmark import *\n",
    "from utils import *\n",
    "\n",
    "from cellxgene_census.experimental.ml import ExperimentDataPipe, experiment_dataloader\n",
    "from cellxgene_census.experimental.ml.pytorch import pytorch_logger\n",
    "import torch\n",
    "from torch.utils.data import DataLoader\n",
    "torch.ones(2).cuda();"
   ]
  },
  {
   "cell_type": "markdown",
   "id": "ea210b2d-c864-4ca1-be75-44f465d04450",
   "metadata": {},
   "source": [
    "### [Papermill](https://papermill.readthedocs.io/en/latest/) params:"
   ]
  },
  {
   "cell_type": "code",
   "execution_count": 2,
   "id": "5bcfe840-ad0c-4b90-b977-384573638612",
   "metadata": {
    "editable": true,
    "slideshow": {
     "slide_type": ""
    },
    "tags": [
     "parameters"
    ]
   },
   "outputs": [],
   "source": [
    "# Set this to read from a local path\n",
    "experiment_uri = 'data/census-benchmark_2:7'\n",
    "\n",
    "# None ⟹ fetch from S3\n",
    "census_uri = None\n",
    "#census_uri = '/mnt/nvme/s3/cellxgene-census-public-us-west-2/cell-census/2023-12-15/soma'\n",
    "census_version = \"2023-12-15\"\n",
    "\n",
    "# By default:\n",
    "# - `subset` if `experiment_uri` is a local path\n",
    "# - `local` if `census_uri` is a local path\n",
    "# - current (EC2 instance) region if `census_uri` is None (e.g. `us-east-1`, `us-west-2`)\n",
    "name = 'subset-gp3-dbg'\n",
    "\n",
    "collection_id = '283d65eb-dd53-496d-adb7-7570c7caa443'\n",
    "# Slice datasets from `collection_id`\n",
    "start = 2\n",
    "end = 7\n",
    "\n",
    "n_epochs = 1\n",
    "batch_size = 1024\n",
    "n_vars = 20_000\n",
    "soma_chunk_size = 10_000\n",
    "gc_freq: Optional[int] = None  # When set, run `gc.collect()` every `gc_freq` batches\n",
    "exclude_first_batch = True\n",
    "progress_bar = True\n",
    "torch_log_level = \"DEBUG\"\n",
    "\n",
    "# Plot configs\n",
    "ann_cutoff = .5  # Annotate plot with values for batch timings greater than this threshold\n",
    "log_plot = False\n",
    "width = 1200\n",
    "height = 700"
   ]
  },
  {
   "cell_type": "code",
   "execution_count": 3,
   "id": "8f819614-3721-4db6-8867-221322399ba0",
   "metadata": {},
   "outputs": [],
   "source": [
    "pytorch_logger.setLevel(torch_log_level)"
   ]
  },
  {
   "cell_type": "code",
   "execution_count": 4,
   "id": "a7a60456-92dc-466d-b3ca-a6d5df4c5121",
   "metadata": {
    "editable": true,
    "slideshow": {
     "slide_type": ""
    },
    "tags": []
   },
   "outputs": [
    {
     "name": "stderr",
     "output_type": "stream",
     "text": [
      "Loading experiment data/census-benchmark_2:7\n"
     ]
    },
    {
     "data": {
      "text/plain": [
       "<Experiment 'data/census-benchmark_2:7' (open for 'r') (2 items)\n",
       "    'obs': 'file:///home/ec2-user/c/tiledb/arrayloader-benchmarks/data/census-benchmark_2:7/obs' (unopened)\n",
       "    'ms': 'file:///home/ec2-user/c/tiledb/arrayloader-benchmarks/data/census-benchmark_2:7/ms' (unopened)>"
      ]
     },
     "execution_count": 4,
     "metadata": {},
     "output_type": "execute_result"
    }
   ],
   "source": [
    "var_query = AxisQuery(coords=(slice(n_vars - 1),)) if n_vars else None\n",
    "\n",
    "if experiment_uri:\n",
    "    err(f\"Loading experiment {experiment_uri}\")\n",
    "    with profile('open'):\n",
    "        experiment = Experiment.open(experiment_uri)\n",
    "    obs_query = None\n",
    "    if name is None:\n",
    "        scheme = urlparse(experiment_uri).scheme\n",
    "        if is_local(experiment_uri):\n",
    "            name = 'subset'\n",
    "else:\n",
    "    if not census_uri:\n",
    "        census_uri = None\n",
    "    \n",
    "    if name is None:\n",
    "        if census_uri and is_local(census_uri):\n",
    "            name = 'local'\n",
    "        else:\n",
    "            name = get_region()\n",
    "    \n",
    "    err(f\"Loading census ({name})\")\n",
    "\n",
    "    with profile('open_soma'):\n",
    "        census = cellxgene_census.open_soma(uri=census_uri, census_version=census_version)\n",
    "    \n",
    "    datasets = get_datasets(census, collection_id, 'datasets')\n",
    "    err(f\"{len(datasets)} datasets: {datasets[:10]}\")\n",
    "    \n",
    "    experiment = census[\"census_data\"][\"homo_sapiens\"]\n",
    "    ds = datasets[slice(start, end)]\n",
    "    datasets_query = \"dataset_id in \" + str(ds)\n",
    "    obs_query = AxisQuery(value_filter=datasets_query)\n",
    "\n",
    "if not name:\n",
    "    raise ValueError(\"`name` not set\")\n",
    "\n",
    "experiment"
   ]
  },
  {
   "cell_type": "code",
   "execution_count": 5,
   "id": "ac8ed548-8f2f-48c2-9eac-f6e5bb6174e4",
   "metadata": {},
   "outputs": [
    {
     "name": "stdout",
     "output_type": "stream",
     "text": [
      "CPU times: user 4.43 ms, sys: 140 µs, total: 4.57 ms\n",
      "Wall time: 4.09 ms\n"
     ]
    },
    {
     "data": {
      "text/plain": [
       "Exp(datapipe=ExperimentDataPipe, loader=<torch.utils.data.dataloader.DataLoader object at 0x7fcfb7507950>)"
      ]
     },
     "execution_count": 5,
     "metadata": {},
     "output_type": "execute_result"
    }
   ],
   "source": [
    "%%time\n",
    "with profile('get_exp_datapipe'):\n",
    "    experiment_datapipe = ExperimentDataPipe(\n",
    "        experiment,\n",
    "        measurement_name=\"RNA\",\n",
    "        X_name=\"raw\",\n",
    "        obs_query=obs_query,\n",
    "        var_query=var_query,\n",
    "        batch_size=batch_size,\n",
    "        shuffle=True,\n",
    "        soma_chunk_size=soma_chunk_size,\n",
    "    )\n",
    "    loader = experiment_dataloader(experiment_datapipe)\n",
    "exp = Exp(experiment_datapipe, loader)\n",
    "exp"
   ]
  },
  {
   "cell_type": "code",
   "execution_count": 6,
   "id": "7a614e15-a28d-45ce-a9a0-f22e9f78f824",
   "metadata": {},
   "outputs": [
    {
     "name": "stderr",
     "output_type": "stream",
     "text": [
      "Initializing ExperimentDataPipe\n",
      "Initializing encoders\n"
     ]
    },
    {
     "name": "stdout",
     "output_type": "stream",
     "text": [
      "Data shape: (133790, 20000), pid 20277\n",
      "CPU times: user 94.1 ms, sys: 86.7 ms, total: 181 ms\n",
      "Wall time: 67.1 ms\n"
     ]
    }
   ],
   "source": [
    "%%time\n",
    "print(f\"Data shape: {exp.datapipe.shape}, pid {os.getpid()}\")"
   ]
  },
  {
   "cell_type": "markdown",
   "id": "58d03d4d-c3e3-43b7-8fc8-9674eb3832ec",
   "metadata": {},
   "source": [
    "## Run benchmark"
   ]
  },
  {
   "cell_type": "code",
   "execution_count": 7,
   "id": "c7610705-d2ec-4eb3-90e4-332626526728",
   "metadata": {},
   "outputs": [
    {
     "name": "stderr",
     "output_type": "stream",
     "text": [
      "Using self.soma_chunk_size=10000\n",
      "Shuffling 133790 obs joinids into 14 chunks of 10000\n",
      "Process 20277 handling partition 1 of 1, partition_size=133790\n",
      "Retrieving next SOMA chunk...\n",
      "gc:  pre=(pfullmem(rss=1912160256, vms=28006039552, shared=546230272, text=3342336, lib=0, data=10945335296, dirty=0, uss=1895727104, pss=1903364096, swap=0), svmem(total=133636747264, available=127051792384, percent=4.9, used=5350592512, free=123457486848, active=7324889088, inactive=1747468288, buffers=2138112, cached=4826529792, shared=13348864, slab=422486016), sswap(total=0, used=0, free=0, percent=0.0, sin=0, sout=0))\n",
      "gc: post=(pfullmem(rss=1914953728, vms=27376644096, shared=547614720, text=3342336, lib=0, data=10336571392, dirty=0, uss=1899220992, pss=1906857984, swap=0), svmem(total=133636747264, available=127059439616, percent=4.9, used=5342945280, free=123465125888, active=7326846976, inactive=1747476480, buffers=2138112, cached=4826537984, shared=13348864, slab=414380032), sswap(total=0, used=0, free=0, percent=0.0, sin=0, sout=0))\n",
      "Retrieved SOMA chunk: self.n_soma_chunks=1, self.n_obs=9557, self.nnz=34774431, elapsed=0:00:04.118900\n",
      "Retrieved SOMA chunk totals: self.n_soma_chunks=1, self.n_obs=9557, self.nnz=34774431, elapsed=0:00:04.118900, gc_elapsed=0:00:00.125156\n",
      "Retrieving next SOMA chunk...\n",
      "  6%|██▋                                        | 8/130 [00:01<00:23,  5.13it/s]gc:  pre=(pfullmem(rss=3985817600, vms=39203135488, shared=550334464, text=3342336, lib=0, data=17754628096, dirty=0, uss=3974377472, pss=3982054400, swap=0), svmem(total=133636747264, available=124983595008, percent=6.5, used=7418265600, free=121388761088, active=9399836672, inactive=1747480576, buffers=2138112, cached=4827582464, shared=13352960, slab=416067584), sswap(total=0, used=0, free=0, percent=0.0, sin=0, sout=0))\n",
      "gc: post=(pfullmem(rss=3985817600, vms=39203135488, shared=550334464, text=3342336, lib=0, data=17754628096, dirty=0, uss=3974381568, pss=3982058496, swap=0), svmem(total=133636747264, available=124981149696, percent=6.5, used=7420768256, free=121386258432, active=9399328768, inactive=1747537920, buffers=2138112, cached=4827582464, shared=13352960, slab=415698944), sswap(total=0, used=0, free=0, percent=0.0, sin=0, sout=0))\n",
      "Retrieved SOMA chunk: self.n_soma_chunks=1, self.n_obs=9556, self.nnz=29214437, elapsed=0:00:03.734863\n",
      "Retrieved SOMA chunk totals: self.n_soma_chunks=2, self.n_obs=19113, self.nnz=63988868, elapsed=0:00:07.853763, gc_elapsed=0:00:00.271573\n",
      "Retrieving next SOMA chunk...\n",
      " 13%|█████▍                                    | 17/130 [00:05<00:22,  4.94it/s]gc:  pre=(pfullmem(rss=5351608320, vms=43649359872, shared=550334464, text=3342336, lib=0, data=22311280640, dirty=0, uss=5344182272, pss=5351859200, swap=0), svmem(total=133636747264, available=123609038848, percent=7.5, used=8792825856, free=120014209024, active=10769092608, inactive=1747480576, buffers=2138112, cached=4827574272, shared=13352960, slab=417288192), sswap(total=0, used=0, free=0, percent=0.0, sin=0, sout=0))\n",
      "gc: post=(pfullmem(rss=3555643392, vms=38793334784, shared=550334464, text=3342336, lib=0, data=17455583232, dirty=0, uss=3543441408, pss=3551118336, swap=0), svmem(total=133636747264, available=125411971072, percent=6.2, used=6989893632, free=121817141248, active=8968486912, inactive=1747480576, buffers=2138112, cached=4827574272, shared=13352960, slab=417239040), sswap(total=0, used=0, free=0, percent=0.0, sin=0, sout=0))\n",
      "Retrieved SOMA chunk: self.n_soma_chunks=1, self.n_obs=9556, self.nnz=19339142, elapsed=0:00:02.503076\n",
      "Retrieved SOMA chunk totals: self.n_soma_chunks=3, self.n_obs=28669, self.nnz=83328010, elapsed=0:00:10.356839, gc_elapsed=0:00:00.445203\n",
      "Retrieving next SOMA chunk...\n",
      " 20%|████████▍                                 | 26/130 [00:07<00:18,  5.76it/s]gc:  pre=(pfullmem(rss=5714784256, vms=43903635456, shared=550334464, text=3342336, lib=0, data=22692200448, dirty=0, uss=5707046912, pss=5714723840, swap=0), svmem(total=133636747264, available=123243053056, percent=7.8, used=9158533120, free=119647948800, active=11132121088, inactive=1747480576, buffers=2138112, cached=4828127232, shared=13352960, slab=417755136), sswap(total=0, used=0, free=0, percent=0.0, sin=0, sout=0))\n",
      "gc: post=(pfullmem(rss=4239347712, vms=39041781760, shared=550334464, text=3342336, lib=0, data=17833398272, dirty=0, uss=4227665920, pss=4235342848, swap=0), svmem(total=133636747264, available=124724621312, percent=6.7, used=7676968960, free=121129512960, active=9652678656, inactive=1747484672, buffers=2138112, cached=4828127232, shared=13352960, slab=417583104), sswap(total=0, used=0, free=0, percent=0.0, sin=0, sout=0))\n",
      "Retrieved SOMA chunk: self.n_soma_chunks=1, self.n_obs=9557, self.nnz=33919521, elapsed=0:00:04.262335\n",
      "Retrieved SOMA chunk totals: self.n_soma_chunks=4, self.n_obs=38226, self.nnz=117247531, elapsed=0:00:14.619174, gc_elapsed=0:00:00.632962\n",
      "Retrieving next SOMA chunk...\n",
      " 28%|███████████▋                              | 36/130 [00:12<00:19,  4.93it/s]gc:  pre=(pfullmem(rss=6341541888, vms=45016154112, shared=550334464, text=3342336, lib=0, data=23879434240, dirty=0, uss=6334390272, pss=6342067200, swap=0), svmem(total=133636747264, available=122615586816, percent=8.2, used=9786032128, free=119020494848, active=11760103424, inactive=1747513344, buffers=2138112, cached=4828082176, shared=13352960, slab=417550336), sswap(total=0, used=0, free=0, percent=0.0, sin=0, sout=0))\n",
      "gc: post=(pfullmem(rss=4193910784, vms=39766605824, shared=550334464, text=3342336, lib=0, data=18632712192, dirty=0, uss=4182323200, pss=4190000128, swap=0), svmem(total=133636747264, available=124768346112, percent=6.6, used=7633289216, free=121173237760, active=9609961472, inactive=1747529728, buffers=2138112, cached=4828082176, shared=13352960, slab=417501184), sswap(total=0, used=0, free=0, percent=0.0, sin=0, sout=0))\n",
      "Retrieved SOMA chunk: self.n_soma_chunks=1, self.n_obs=9556, self.nnz=27197660, elapsed=0:00:03.340107\n",
      "Retrieved SOMA chunk totals: self.n_soma_chunks=5, self.n_obs=47782, self.nnz=144445191, elapsed=0:00:17.959282, gc_elapsed=0:00:00.832262\n",
      "Retrieving next SOMA chunk...\n",
      " 35%|██████████████▌                           | 45/130 [00:15<00:16,  5.19it/s]gc:  pre=(pfullmem(rss=5867245568, vms=44829945856, shared=550334464, text=3342336, lib=0, data=23767629824, dirty=0, uss=5860405248, pss=5868082176, swap=0), svmem(total=133636747264, available=123308273664, percent=7.7, used=9311125504, free=119495761920, active=11067961344, inactive=1965051904, buffers=2138112, cached=4827721728, shared=13352960, slab=417488896), sswap(total=0, used=0, free=0, percent=0.0, sin=0, sout=0))\n",
      "gc: post=(pfullmem(rss=4024942592, vms=39966150656, shared=550334464, text=3342336, lib=0, data=18904649728, dirty=0, uss=4013273088, pss=4020950016, swap=0), svmem(total=133636747264, available=125157838848, percent=6.3, used=7461560320, free=121345327104, active=9221517312, inactive=1965051904, buffers=2138112, cached=4827721728, shared=13352960, slab=417439744), sswap(total=0, used=0, free=0, percent=0.0, sin=0, sout=0))\n",
      "Retrieved SOMA chunk: self.n_soma_chunks=1, self.n_obs=9557, self.nnz=27269678, elapsed=0:00:03.441794\n",
      "Retrieved SOMA chunk totals: self.n_soma_chunks=6, self.n_obs=57339, self.nnz=171714869, elapsed=0:00:21.401076, gc_elapsed=0:00:01.024091\n",
      "Retrieving next SOMA chunk...\n",
      " 42%|█████████████████▍                        | 54/130 [00:18<00:15,  5.06it/s]gc:  pre=(pfullmem(rss=6325284864, vms=45086187520, shared=550334464, text=3342336, lib=0, data=24096780288, dirty=0, uss=6318088192, pss=6325765120, swap=0), svmem(total=133636747264, available=122632347648, percent=8.2, used=9769537536, free=119037489152, active=11743092736, inactive=1747468288, buffers=2138112, cached=4827582464, shared=13352960, slab=417517568), sswap(total=0, used=0, free=0, percent=0.0, sin=0, sout=0))\n",
      "gc: post=(pfullmem(rss=4510695424, vms=39833411584, shared=550334464, text=3342336, lib=0, data=18848399360, dirty=0, uss=4498903040, pss=4506579968, swap=0), svmem(total=133636747264, available=124452892672, percent=6.9, used=7948992512, free=120858034176, active=9924751360, inactive=1747468288, buffers=2138112, cached=4827582464, shared=13352960, slab=417468416), sswap(total=0, used=0, free=0, percent=0.0, sin=0, sout=0))\n",
      "Retrieved SOMA chunk: self.n_soma_chunks=1, self.n_obs=9556, self.nnz=35898436, elapsed=0:00:04.454855\n",
      "Retrieved SOMA chunk totals: self.n_soma_chunks=7, self.n_obs=66895, self.nnz=207613305, elapsed=0:00:25.855930, gc_elapsed=0:00:01.216559\n",
      "Retrieving next SOMA chunk...\n",
      " 49%|████████████████████▋                     | 64/130 [00:23<00:13,  4.86it/s]gc:  pre=(pfullmem(rss=6246506496, vms=44887252992, shared=550334464, text=3342336, lib=0, data=23965904896, dirty=0, uss=6239027200, pss=6246704128, swap=0), svmem(total=133636747264, available=122715004928, percent=8.2, used=9686753280, free=119120191488, active=11663974400, inactive=1747324928, buffers=2138112, cached=4827664384, shared=13352960, slab=417632256), sswap(total=0, used=0, free=0, percent=0.0, sin=0, sout=0))\n",
      "gc: post=(pfullmem(rss=4169523200, vms=39855607808, shared=550334464, text=3342336, lib=0, data=18934792192, dirty=0, uss=4157620224, pss=4165297152, swap=0), svmem(total=133636747264, available=124795629568, percent=6.6, used=7606128640, free=121200816128, active=9583353856, inactive=1747324928, buffers=2138112, cached=4827664384, shared=13352960, slab=417632256), sswap(total=0, used=0, free=0, percent=0.0, sin=0, sout=0))\n",
      "Retrieved SOMA chunk: self.n_soma_chunks=1, self.n_obs=9557, self.nnz=24919121, elapsed=0:00:03.122113\n",
      "Retrieved SOMA chunk totals: self.n_soma_chunks=8, self.n_obs=76452, self.nnz=232532426, elapsed=0:00:28.978044, gc_elapsed=0:00:01.416531\n",
      "Retrieving next SOMA chunk...\n",
      " 56%|███████████████████████▌                  | 73/130 [00:26<00:10,  5.31it/s]gc:  pre=(pfullmem(rss=6104084480, vms=44836376576, shared=550334464, text=3342336, lib=0, data=23980322816, dirty=0, uss=6096072704, pss=6103749632, swap=0), svmem(total=133636747264, available=122856194048, percent=8.1, used=9545584640, free=119261360128, active=11521122304, inactive=1747345408, buffers=2138112, cached=4827664384, shared=13352960, slab=417882112), sswap(total=0, used=0, free=0, percent=0.0, sin=0, sout=0))\n",
      "gc: post=(pfullmem(rss=4264079360, vms=39962099712, shared=550334464, text=3342336, lib=0, data=19107995648, dirty=0, uss=4251516928, pss=4259193856, swap=0), svmem(total=133636747264, available=124700897280, percent=6.7, used=7700881408, free=121106063360, active=9677647872, inactive=1747345408, buffers=2138112, cached=4827664384, shared=13352960, slab=417529856), sswap(total=0, used=0, free=0, percent=0.0, sin=0, sout=0))\n",
      "Retrieved SOMA chunk: self.n_soma_chunks=1, self.n_obs=9556, self.nnz=33892022, elapsed=0:00:04.267781\n",
      "Retrieved SOMA chunk totals: self.n_soma_chunks=9, self.n_obs=86008, self.nnz=266424448, elapsed=0:00:33.245825, gc_elapsed=0:00:01.612371\n",
      "Retrieving next SOMA chunk...\n",
      " 63%|██████████████████████████▍               | 82/130 [00:30<00:10,  4.56it/s]gc:  pre=(pfullmem(rss=5679243264, vms=44754206720, shared=550334464, text=3342336, lib=0, data=23964844032, dirty=0, uss=5670805504, pss=5678482432, swap=0), svmem(total=133636747264, available=123281178624, percent=7.7, used=9120690176, free=119686242304, active=11096510464, inactive=1747525632, buffers=2138112, cached=4827676672, shared=13352960, slab=417415168), sswap(total=0, used=0, free=0, percent=0.0, sin=0, sout=0))\n",
      "gc: post=(pfullmem(rss=3698860032, vms=39540703232, shared=550334464, text=3342336, lib=0, data=18753683456, dirty=0, uss=3686658048, pss=3694334976, swap=0), svmem(total=133636747264, available=125266456576, percent=6.3, used=7135412224, free=121671520256, active=9112522752, inactive=1747525632, buffers=2138112, cached=4827676672, shared=13352960, slab=417316864), sswap(total=0, used=0, free=0, percent=0.0, sin=0, sout=0))\n",
      "Retrieved SOMA chunk: self.n_soma_chunks=1, self.n_obs=9556, self.nnz=17489698, elapsed=0:00:02.475123\n",
      "Retrieved SOMA chunk totals: self.n_soma_chunks=10, self.n_obs=95564, self.nnz=283914146, elapsed=0:00:35.720948, gc_elapsed=0:00:01.800553\n",
      "Retrieving next SOMA chunk...\n",
      " 71%|█████████████████████████████▋            | 92/130 [00:33<00:06,  6.03it/s]gc:  pre=(pfullmem(rss=5171605504, vms=44715966464, shared=550334464, text=3342336, lib=0, data=23988158464, dirty=0, uss=5163847680, pss=5171524608, swap=0), svmem(total=133636747264, available=123788783616, percent=7.4, used=8612954112, free=120193667072, active=10589536256, inactive=1747550208, buffers=2138112, cached=4827987968, shared=13352960, slab=417882112), sswap(total=0, used=0, free=0, percent=0.0, sin=0, sout=0))\n",
      "gc: post=(pfullmem(rss=3803676672, vms=40118054912, shared=550334464, text=3342336, lib=0, data=19390877696, dirty=0, uss=3791704064, pss=3799380992, swap=0), svmem(total=133636747264, available=125161308160, percent=6.3, used=7240429568, free=121566191616, active=9217785856, inactive=1747550208, buffers=2138112, cached=4827987968, shared=13352960, slab=417882112), sswap(total=0, used=0, free=0, percent=0.0, sin=0, sout=0))\n",
      "Retrieved SOMA chunk: self.n_soma_chunks=1, self.n_obs=9557, self.nnz=25249271, elapsed=0:00:03.235052\n",
      "Retrieved SOMA chunk totals: self.n_soma_chunks=11, self.n_obs=105121, self.nnz=309163417, elapsed=0:00:38.955999, gc_elapsed=0:00:01.994378\n",
      "Retrieving next SOMA chunk...\n",
      " 78%|███████████████████████████████▊         | 101/130 [00:36<00:05,  5.23it/s]gc:  pre=(pfullmem(rss=4778442752, vms=44664856576, shared=550334464, text=3342336, lib=0, data=23987236864, dirty=0, uss=4761509888, pss=4769186816, swap=0), svmem(total=133636747264, available=124179316736, percent=7.1, used=8222412800, free=120584192000, active=10198106112, inactive=1747550208, buffers=2138112, cached=4828004352, shared=13352960, slab=418099200), sswap(total=0, used=0, free=0, percent=0.0, sin=0, sout=0))\n",
      "gc: post=(pfullmem(rss=3584876544, vms=39642562560, shared=550334464, text=3342336, lib=0, data=18967793664, dirty=0, uss=3573559296, pss=3581236224, swap=0), svmem(total=133636747264, available=125378772992, percent=6.2, used=7022956544, free=121783648256, active=8999940096, inactive=1747550208, buffers=2138112, cached=4828004352, shared=13352960, slab=417968128), sswap(total=0, used=0, free=0, percent=0.0, sin=0, sout=0))\n",
      "Retrieved SOMA chunk: self.n_soma_chunks=1, self.n_obs=9556, self.nnz=14032495, elapsed=0:00:02.068114\n",
      "Retrieved SOMA chunk totals: self.n_soma_chunks=12, self.n_obs=114677, self.nnz=323195912, elapsed=0:00:41.024113, gc_elapsed=0:00:02.175908\n",
      "Retrieving next SOMA chunk...\n",
      " 85%|██████████████████████████████████▋      | 110/130 [00:38<00:03,  6.05it/s]gc:  pre=(pfullmem(rss=5300592640, vms=44478521344, shared=550334464, text=3342336, lib=0, data=23869550592, dirty=0, uss=5293756416, pss=5301433344, swap=0), svmem(total=133636747264, available=123769626624, percent=7.4, used=8744652800, free=120062033920, active=10608263168, inactive=1860059136, buffers=2138112, cached=4827922432, shared=13352960, slab=417484800), sswap(total=0, used=0, free=0, percent=0.0, sin=0, sout=0))\n",
      "gc: post=(pfullmem(rss=3882483712, vms=39716577280, shared=550334464, text=3342336, lib=0, data=19113152512, dirty=0, uss=3870629888, pss=3878306816, swap=0), svmem(total=133636747264, available=125079105536, percent=6.4, used=7322664960, free=121484021760, active=9299746816, inactive=1747550208, buffers=2138112, cached=4827922432, shared=13352960, slab=417484800), sswap(total=0, used=0, free=0, percent=0.0, sin=0, sout=0))\n",
      "Retrieved SOMA chunk: self.n_soma_chunks=1, self.n_obs=9557, self.nnz=31183978, elapsed=0:00:03.985377\n",
      "Retrieved SOMA chunk totals: self.n_soma_chunks=13, self.n_obs=124234, self.nnz=354379890, elapsed=0:00:45.009490, gc_elapsed=0:00:02.365651\n",
      "Retrieving next SOMA chunk...\n",
      " 92%|█████████████████████████████████████▊   | 120/130 [00:42<00:01,  5.06it/s]gc:  pre=(pfullmem(rss=5249753088, vms=44325609472, shared=550334464, text=3342336, lib=0, data=23782752256, dirty=0, uss=5241810944, pss=5249487872, swap=0), svmem(total=133636747264, available=123706200064, percent=7.4, used=8695504896, free=120111050752, active=10671046656, inactive=1747550208, buffers=2138112, cached=4828053504, shared=13352960, slab=417890304), sswap(total=0, used=0, free=0, percent=0.0, sin=0, sout=0))\n",
      "gc: post=(pfullmem(rss=3553005568, vms=39479734272, shared=550334464, text=3342336, lib=0, data=18937204736, dirty=0, uss=3540779008, pss=3548455936, swap=0), svmem(total=133636747264, available=125411930112, percent=6.2, used=6989774848, free=121816780800, active=8967663616, inactive=1747550208, buffers=2138112, cached=4828053504, shared=13352960, slab=417890304), sswap(total=0, used=0, free=0, percent=0.0, sin=0, sout=0))\n",
      "Retrieved SOMA chunk: self.n_soma_chunks=1, self.n_obs=9556, self.nnz=16207697, elapsed=0:00:02.371076\n",
      "Retrieved SOMA chunk totals: self.n_soma_chunks=14, self.n_obs=133790, self.nnz=370587587, elapsed=0:00:47.380566, gc_elapsed=0:00:02.537615\n",
      "Retrieving next SOMA chunk...\n",
      " 99%|████████████████████████████████████████▋| 129/130 [00:43<00:00,  7.55it/s]gc:  pre=(pfullmem(rss=3638493184, vms=39559335936, shared=550334464, text=3342336, lib=0, data=19016806400, dirty=0, uss=3626078208, pss=3633755136, swap=0), svmem(total=133636747264, available=125634478080, percent=6.0, used=7074390016, free=121732288512, active=8746106880, inactive=2054651904, buffers=2138112, cached=4827930624, shared=13352960, slab=416391168), sswap(total=0, used=0, free=0, percent=0.0, sin=0, sout=0))\n",
      "gc: post=(pfullmem(rss=2588254208, vms=34878017536, shared=550334464, text=3342336, lib=0, data=14337830912, dirty=0, uss=2571911168, pss=2579588096, swap=0), svmem(total=133636747264, available=126511337472, percent=5.3, used=6019993600, free=122786684928, active=7869775872, inactive=1877114880, buffers=2138112, cached=4827930624, shared=13352960, slab=416325632), sswap(total=0, used=0, free=0, percent=0.0, sin=0, sout=0))\n",
      "100%|█████████████████████████████████████████| 130/130 [00:44<00:00,  5.85it/s]gc:  pre=(pfullmem(rss=2511040512, vms=34921111552, shared=550334464, text=3342336, lib=0, data=14380929024, dirty=0, uss=2624364544, pss=2632041472, swap=0), svmem(total=133636747264, available=126731038720, percent=5.2, used=5941186560, free=122865491968, active=7651983360, inactive=2018009088, buffers=2138112, cached=4827930624, shared=13352960, slab=416079872), sswap(total=0, used=0, free=0, percent=0.0, sin=0, sout=0))\n",
      "gc: post=(pfullmem(rss=2511040512, vms=34921111552, shared=550334464, text=3342336, lib=0, data=14380929024, dirty=0, uss=2494697472, pss=2502374400, swap=0), svmem(total=133636747264, available=126731276288, percent=5.2, used=5941088256, free=122865868800, active=7651983360, inactive=2018009088, buffers=2138112, cached=4827652096, shared=13352960, slab=415703040), sswap(total=0, used=0, free=0, percent=0.0, sin=0, sout=0))\n",
      "max process memory usage=5.899 GiB\n",
      "100%|█████████████████████████████████████████| 130/130 [00:44<00:00,  2.93it/s]\n"
     ]
    },
    {
     "name": "stdout",
     "output_type": "stream",
     "text": [
      "time per sample: 333.55 μs\n",
      "samples per sec: 2998.02 samples/sec\n",
      "CPU times: user 1min 13s, sys: 37.3 s, total: 1min 51s\n",
      "Wall time: 49 s\n"
     ]
    }
   ],
   "source": [
    "%%time\n",
    "epochs = []\n",
    "for epoch in range(n_epochs):\n",
    "    with profile(f'benchmark-epoch{epoch}'):\n",
    "        epoch = benchmark(\n",
    "            exp,\n",
    "            batch_size=batch_size,\n",
    "            gc_freq=gc_freq,\n",
    "            exclude_first_batch=exclude_first_batch,\n",
    "            progress_bar=progress_bar,\n",
    "        )\n",
    "    epochs.append(epoch)\n",
    "\n",
    "results = Results(\n",
    "    census=Method('census', epochs),\n",
    ")"
   ]
  },
  {
   "cell_type": "code",
   "execution_count": 8,
   "id": "d9a4eaf5-f79a-45b7-8d53-b47f53116fbe",
   "metadata": {},
   "outputs": [
    {
     "data": {
      "text/plain": [
       "Stats(n_obs=133790, nnz=370587587, elapsed=47.380566120147705, n_soma_chunks=14, checkpoints=[{'obs_joinids_chunk': 0.0002727508544921875, 'obs_batch': 0.17963719367980957, 'obs_batch_reindex': 0.0015857219696044922, 'scipy_iter': 0.0061457157135009766, 'X_batch': 3.9312191009521484}, {'obs_joinids_chunk': 0.00018024444580078125, 'obs_batch': 0.056635379791259766, 'obs_batch_reindex': 0.0006821155548095703, 'scipy_iter': 0.008401632308959961, 'X_batch': 3.6689293384552}, {'obs_joinids_chunk': 0.00041174888610839844, 'obs_batch': 0.02953052520751953, 'obs_batch_reindex': 0.0007176399230957031, 'scipy_iter': 0.0067827701568603516, 'X_batch': 2.465601682662964}, {'obs_joinids_chunk': 0.00029659271240234375, 'obs_batch': 0.036464691162109375, 'obs_batch_reindex': 0.0008494853973388672, 'scipy_iter': 0.00953364372253418, 'X_batch': 4.215155363082886}, {'obs_joinids_chunk': 0.000751495361328125, 'obs_batch': 0.03069901466369629, 'obs_batch_reindex': 0.0009477138519287109, 'scipy_iter': 0.009612798690795898, 'X_batch': 3.2980661392211914}, {'obs_joinids_chunk': 0.0004875659942626953, 'obs_batch': 0.027670860290527344, 'obs_batch_reindex': 0.0005919933319091797, 'scipy_iter': 0.007083415985107422, 'X_batch': 3.405928134918213}, {'obs_joinids_chunk': 0.0004401206970214844, 'obs_batch': 0.03281426429748535, 'obs_batch_reindex': 0.001234292984008789, 'scipy_iter': 0.011159420013427734, 'X_batch': 4.409173488616943}, {'obs_joinids_chunk': 0.00023412704467773438, 'obs_batch': 0.03395700454711914, 'obs_batch_reindex': 0.0008854866027832031, 'scipy_iter': 0.009505510330200195, 'X_batch': 3.0774993896484375}, {'obs_joinids_chunk': 0.00021386146545410156, 'obs_batch': 0.027428150177001953, 'obs_batch_reindex': 0.0006833076477050781, 'scipy_iter': 0.007378816604614258, 'X_batch': 4.232040166854858}, {'obs_joinids_chunk': 0.0003833770751953125, 'obs_batch': 0.07554006576538086, 'obs_batch_reindex': 0.0008053779602050781, 'scipy_iter': 0.010984182357788086, 'X_batch': 2.3873798847198486}, {'obs_joinids_chunk': 0.0007886886596679688, 'obs_batch': 0.03323960304260254, 'obs_batch_reindex': 0.0009739398956298828, 'scipy_iter': 0.009816408157348633, 'X_batch': 3.1902027130126953}, {'obs_joinids_chunk': 0.0004680156707763672, 'obs_batch': 0.03719210624694824, 'obs_batch_reindex': 0.0021033287048339844, 'scipy_iter': 0.007883787155151367, 'X_batch': 2.020437240600586}, {'obs_joinids_chunk': 0.00029730796813964844, 'obs_batch': 0.03552508354187012, 'obs_batch_reindex': 0.0007932186126708984, 'scipy_iter': 0.01032567024230957, 'X_batch': 3.9384047985076904}, {'obs_joinids_chunk': 0.0008399486541748047, 'obs_batch': 0.031152963638305664, 'obs_batch_reindex': 0.0008101463317871094, 'scipy_iter': 0.010289430618286133, 'X_batch': 2.327956438064575}])"
      ]
     },
     "execution_count": 8,
     "metadata": {},
     "output_type": "execute_result"
    }
   ],
   "source": [
    "exp_stats = experiment_datapipe.stats()\n",
    "exp_stats"
   ]
  },
  {
   "cell_type": "code",
   "execution_count": 9,
   "id": "2706d88d-48b1-4ea2-ab93-56c7858eceaa",
   "metadata": {},
   "outputs": [
    {
     "data": {
      "text/plain": [
       "{'open': [{'timers': {'Context.StorageManager.sm_load_group_metadata.sum': 7.086e-05,\n",
       "    'Context.StorageManager.sm_load_group_metadata.avg': 7.086e-05,\n",
       "    'Context.StorageManager.sm_load_group_from_uri.sum': 9.7561e-05,\n",
       "    'Context.StorageManager.sm_load_group_from_uri.avg': 9.7561e-05,\n",
       "    'Context.StorageManager.sm_load_group_details.sum': 0.000102126,\n",
       "    'Context.StorageManager.sm_load_group_details.avg': 0.000102126,\n",
       "    'Context.StorageManager.group_open_for_reads.sum': 0.000104562,\n",
       "    'Context.StorageManager.group_open_for_reads.avg': 0.000104562},\n",
       "   'counters': {'Context.StorageManager.read_unfiltered_byte_num': 262,\n",
       "    'Context.StorageManager.read_group_size': 70,\n",
       "    'Context.StorageManager.read_array_meta_size': 192,\n",
       "    'Context.StorageManager.VFS.read_ops_num': 6,\n",
       "    'Context.StorageManager.VFS.read_byte_num': 333,\n",
       "    'Context.StorageManager.VFS.ls_num': 3}}],\n",
       " 'get_exp_datapipe': [],\n",
       " 'benchmark-epoch0': []}"
      ]
     },
     "execution_count": 9,
     "metadata": {},
     "output_type": "execute_result"
    }
   ],
   "source": [
    "tdb.stats"
   ]
  },
  {
   "cell_type": "code",
   "execution_count": 10,
   "id": "8413e0fa-abfc-445b-9b45-56699e3c1547",
   "metadata": {},
   "outputs": [
    {
     "data": {
      "text/plain": [
       "{'open': [], 'get_exp_datapipe': [], 'benchmark-epoch0': []}"
      ]
     },
     "execution_count": 10,
     "metadata": {},
     "output_type": "execute_result"
    }
   ],
   "source": [
    "tdbs.stats"
   ]
  },
  {
   "cell_type": "code",
   "execution_count": 11,
   "id": "4cfb8f9f-bab6-4658-95e8-45c2c8365739",
   "metadata": {},
   "outputs": [
    {
     "data": {
      "text/html": [
       "<div>\n",
       "<style scoped>\n",
       "    .dataframe tbody tr th:only-of-type {\n",
       "        vertical-align: middle;\n",
       "    }\n",
       "\n",
       "    .dataframe tbody tr th {\n",
       "        vertical-align: top;\n",
       "    }\n",
       "\n",
       "    .dataframe thead th {\n",
       "        text-align: right;\n",
       "    }\n",
       "</style>\n",
       "<table border=\"1\" class=\"dataframe\">\n",
       "  <thead>\n",
       "    <tr style=\"text-align: right;\">\n",
       "      <th></th>\n",
       "      <th>obs_joinids_chunk</th>\n",
       "      <th>obs_batch</th>\n",
       "      <th>obs_batch_reindex</th>\n",
       "      <th>scipy_iter</th>\n",
       "      <th>X_batch</th>\n",
       "    </tr>\n",
       "  </thead>\n",
       "  <tbody>\n",
       "    <tr>\n",
       "      <th>0</th>\n",
       "      <td>0.000273</td>\n",
       "      <td>0.179637</td>\n",
       "      <td>0.001586</td>\n",
       "      <td>0.006146</td>\n",
       "      <td>3.931219</td>\n",
       "    </tr>\n",
       "    <tr>\n",
       "      <th>1</th>\n",
       "      <td>0.000180</td>\n",
       "      <td>0.056635</td>\n",
       "      <td>0.000682</td>\n",
       "      <td>0.008402</td>\n",
       "      <td>3.668929</td>\n",
       "    </tr>\n",
       "    <tr>\n",
       "      <th>2</th>\n",
       "      <td>0.000412</td>\n",
       "      <td>0.029531</td>\n",
       "      <td>0.000718</td>\n",
       "      <td>0.006783</td>\n",
       "      <td>2.465602</td>\n",
       "    </tr>\n",
       "    <tr>\n",
       "      <th>3</th>\n",
       "      <td>0.000297</td>\n",
       "      <td>0.036465</td>\n",
       "      <td>0.000849</td>\n",
       "      <td>0.009534</td>\n",
       "      <td>4.215155</td>\n",
       "    </tr>\n",
       "    <tr>\n",
       "      <th>4</th>\n",
       "      <td>0.000751</td>\n",
       "      <td>0.030699</td>\n",
       "      <td>0.000948</td>\n",
       "      <td>0.009613</td>\n",
       "      <td>3.298066</td>\n",
       "    </tr>\n",
       "    <tr>\n",
       "      <th>5</th>\n",
       "      <td>0.000488</td>\n",
       "      <td>0.027671</td>\n",
       "      <td>0.000592</td>\n",
       "      <td>0.007083</td>\n",
       "      <td>3.405928</td>\n",
       "    </tr>\n",
       "    <tr>\n",
       "      <th>6</th>\n",
       "      <td>0.000440</td>\n",
       "      <td>0.032814</td>\n",
       "      <td>0.001234</td>\n",
       "      <td>0.011159</td>\n",
       "      <td>4.409173</td>\n",
       "    </tr>\n",
       "    <tr>\n",
       "      <th>7</th>\n",
       "      <td>0.000234</td>\n",
       "      <td>0.033957</td>\n",
       "      <td>0.000885</td>\n",
       "      <td>0.009506</td>\n",
       "      <td>3.077499</td>\n",
       "    </tr>\n",
       "    <tr>\n",
       "      <th>8</th>\n",
       "      <td>0.000214</td>\n",
       "      <td>0.027428</td>\n",
       "      <td>0.000683</td>\n",
       "      <td>0.007379</td>\n",
       "      <td>4.232040</td>\n",
       "    </tr>\n",
       "    <tr>\n",
       "      <th>9</th>\n",
       "      <td>0.000383</td>\n",
       "      <td>0.075540</td>\n",
       "      <td>0.000805</td>\n",
       "      <td>0.010984</td>\n",
       "      <td>2.387380</td>\n",
       "    </tr>\n",
       "    <tr>\n",
       "      <th>10</th>\n",
       "      <td>0.000789</td>\n",
       "      <td>0.033240</td>\n",
       "      <td>0.000974</td>\n",
       "      <td>0.009816</td>\n",
       "      <td>3.190203</td>\n",
       "    </tr>\n",
       "    <tr>\n",
       "      <th>11</th>\n",
       "      <td>0.000468</td>\n",
       "      <td>0.037192</td>\n",
       "      <td>0.002103</td>\n",
       "      <td>0.007884</td>\n",
       "      <td>2.020437</td>\n",
       "    </tr>\n",
       "    <tr>\n",
       "      <th>12</th>\n",
       "      <td>0.000297</td>\n",
       "      <td>0.035525</td>\n",
       "      <td>0.000793</td>\n",
       "      <td>0.010326</td>\n",
       "      <td>3.938405</td>\n",
       "    </tr>\n",
       "    <tr>\n",
       "      <th>13</th>\n",
       "      <td>0.000840</td>\n",
       "      <td>0.031153</td>\n",
       "      <td>0.000810</td>\n",
       "      <td>0.010289</td>\n",
       "      <td>2.327956</td>\n",
       "    </tr>\n",
       "  </tbody>\n",
       "</table>\n",
       "</div>"
      ],
      "text/plain": [
       "    obs_joinids_chunk  obs_batch  obs_batch_reindex  scipy_iter   X_batch\n",
       "0            0.000273   0.179637           0.001586    0.006146  3.931219\n",
       "1            0.000180   0.056635           0.000682    0.008402  3.668929\n",
       "2            0.000412   0.029531           0.000718    0.006783  2.465602\n",
       "3            0.000297   0.036465           0.000849    0.009534  4.215155\n",
       "4            0.000751   0.030699           0.000948    0.009613  3.298066\n",
       "5            0.000488   0.027671           0.000592    0.007083  3.405928\n",
       "6            0.000440   0.032814           0.001234    0.011159  4.409173\n",
       "7            0.000234   0.033957           0.000885    0.009506  3.077499\n",
       "8            0.000214   0.027428           0.000683    0.007379  4.232040\n",
       "9            0.000383   0.075540           0.000805    0.010984  2.387380\n",
       "10           0.000789   0.033240           0.000974    0.009816  3.190203\n",
       "11           0.000468   0.037192           0.002103    0.007884  2.020437\n",
       "12           0.000297   0.035525           0.000793    0.010326  3.938405\n",
       "13           0.000840   0.031153           0.000810    0.010289  2.327956"
      ]
     },
     "execution_count": 11,
     "metadata": {},
     "output_type": "execute_result"
    }
   ],
   "source": [
    "checkpoints_df = exp_stats.checkpoints_df()\n",
    "checkpoints_df"
   ]
  },
  {
   "cell_type": "code",
   "execution_count": 12,
   "id": "4617d1d8-bbfc-4c5d-ae94-493bfbbc4ba5",
   "metadata": {},
   "outputs": [
    {
     "data": {
      "text/plain": [
       "obs_joinids_chunk     0.006066\n",
       "obs_batch             0.667487\n",
       "obs_batch_reindex     0.013664\n",
       "scipy_iter            0.124903\n",
       "X_batch              46.567994\n",
       "dtype: float64"
      ]
     },
     "execution_count": 12,
     "metadata": {},
     "output_type": "execute_result"
    }
   ],
   "source": [
    "checkpoints_df.sum()"
   ]
  },
  {
   "cell_type": "code",
   "execution_count": 13,
   "id": "14bcbc20-0853-4404-8766-141632991e8c",
   "metadata": {},
   "outputs": [
    {
     "name": "stderr",
     "output_type": "stream",
     "text": [
      "Saved results to results/subset-gp3-dbg.json\n"
     ]
    }
   ],
   "source": [
    "results_json_path = f'results/{name}.json'\n",
    "with open(results_json_path, 'w') as f:\n",
    "    json.dump(asdict(results), f, indent=2)\n",
    "    err(f\"Saved results to {results_json_path}\")"
   ]
  },
  {
   "cell_type": "code",
   "execution_count": 14,
   "id": "eb1fb31a-b7cf-416a-b801-dae42f03b397",
   "metadata": {},
   "outputs": [],
   "source": [
    "# with open(results_json_path, 'r') as f:\n",
    "#     results = Results(**json.load(f))"
   ]
  },
  {
   "cell_type": "markdown",
   "id": "ece8e5db-bf91-4fac-bd8e-48d747477f92",
   "metadata": {},
   "source": [
    "## Plot batch timings"
   ]
  },
  {
   "cell_type": "code",
   "execution_count": 15,
   "id": "1b6c7282-7c2a-464b-8b5a-e8dd44e789e4",
   "metadata": {
    "scrolled": true
   },
   "outputs": [
    {
     "name": "stderr",
     "output_type": "stream",
     "text": [
      "/tmp/ipykernel_20277/2254310219.py:5: FutureWarning: Downcasting object dtype arrays on .fillna, .ffill, .bfill is deprecated and will change in a future version. Call result.infer_objects(copy=False) instead. To opt-in to the future behavior, set `pd.set_option('future.no_silent_downcasting', True)`\n",
      "  df['gc'] = df['gc'].fillna(nan)\n"
     ]
    },
    {
     "data": {
      "text/html": [
       "<div>\n",
       "<style scoped>\n",
       "    .dataframe tbody tr th:only-of-type {\n",
       "        vertical-align: middle;\n",
       "    }\n",
       "\n",
       "    .dataframe tbody tr th {\n",
       "        vertical-align: top;\n",
       "    }\n",
       "\n",
       "    .dataframe thead th {\n",
       "        text-align: right;\n",
       "    }\n",
       "</style>\n",
       "<table border=\"1\" class=\"dataframe\">\n",
       "  <thead>\n",
       "    <tr style=\"text-align: right;\">\n",
       "      <th></th>\n",
       "      <th>idx</th>\n",
       "      <th>batch</th>\n",
       "    </tr>\n",
       "  </thead>\n",
       "  <tbody>\n",
       "    <tr>\n",
       "      <th>0</th>\n",
       "      <td>0</td>\n",
       "      <td>0.266165</td>\n",
       "    </tr>\n",
       "    <tr>\n",
       "      <th>1</th>\n",
       "      <td>1</td>\n",
       "      <td>0.183117</td>\n",
       "    </tr>\n",
       "    <tr>\n",
       "      <th>2</th>\n",
       "      <td>2</td>\n",
       "      <td>0.187992</td>\n",
       "    </tr>\n",
       "    <tr>\n",
       "      <th>3</th>\n",
       "      <td>3</td>\n",
       "      <td>0.183158</td>\n",
       "    </tr>\n",
       "    <tr>\n",
       "      <th>4</th>\n",
       "      <td>4</td>\n",
       "      <td>0.238058</td>\n",
       "    </tr>\n",
       "    <tr>\n",
       "      <th>...</th>\n",
       "      <td>...</td>\n",
       "      <td>...</td>\n",
       "    </tr>\n",
       "    <tr>\n",
       "      <th>125</th>\n",
       "      <td>125</td>\n",
       "      <td>0.095986</td>\n",
       "    </tr>\n",
       "    <tr>\n",
       "      <th>126</th>\n",
       "      <td>126</td>\n",
       "      <td>0.101035</td>\n",
       "    </tr>\n",
       "    <tr>\n",
       "      <th>127</th>\n",
       "      <td>127</td>\n",
       "      <td>0.100886</td>\n",
       "    </tr>\n",
       "    <tr>\n",
       "      <th>128</th>\n",
       "      <td>128</td>\n",
       "      <td>0.101868</td>\n",
       "    </tr>\n",
       "    <tr>\n",
       "      <th>129</th>\n",
       "      <td>129</td>\n",
       "      <td>0.288882</td>\n",
       "    </tr>\n",
       "  </tbody>\n",
       "</table>\n",
       "<p>130 rows × 2 columns</p>\n",
       "</div>"
      ],
      "text/plain": [
       "     idx     batch\n",
       "0      0  0.266165\n",
       "1      1  0.183117\n",
       "2      2  0.187992\n",
       "3      3  0.183158\n",
       "4      4  0.238058\n",
       "..   ...       ...\n",
       "125  125  0.095986\n",
       "126  126  0.101035\n",
       "127  127  0.100886\n",
       "128  128  0.101868\n",
       "129  129  0.288882\n",
       "\n",
       "[130 rows x 2 columns]"
      ]
     },
     "execution_count": 15,
     "metadata": {},
     "output_type": "execute_result"
    }
   ],
   "source": [
    "method = 'census'\n",
    "epoch = 0\n",
    "batches = getattr(results, 'census').epochs[epoch].batches\n",
    "df = pd.DataFrame(batches)\n",
    "df['gc'] = df['gc'].fillna(nan)\n",
    "if df.gc.isna().all():\n",
    "    df = df.drop(columns='gc')\n",
    "df.index.name = 'idx'\n",
    "df = df.reset_index()\n",
    "df"
   ]
  },
  {
   "cell_type": "code",
   "execution_count": 16,
   "id": "703da7d9-035a-4b9f-8062-62c509458391",
   "metadata": {
    "scrolled": true
   },
   "outputs": [
    {
     "data": {
      "text/html": [
       "<div>\n",
       "<style scoped>\n",
       "    .dataframe tbody tr th:only-of-type {\n",
       "        vertical-align: middle;\n",
       "    }\n",
       "\n",
       "    .dataframe tbody tr th {\n",
       "        vertical-align: top;\n",
       "    }\n",
       "\n",
       "    .dataframe thead th {\n",
       "        text-align: right;\n",
       "    }\n",
       "</style>\n",
       "<table border=\"1\" class=\"dataframe\">\n",
       "  <thead>\n",
       "    <tr style=\"text-align: right;\">\n",
       "      <th></th>\n",
       "      <th>idx</th>\n",
       "      <th>batch</th>\n",
       "    </tr>\n",
       "  </thead>\n",
       "  <tbody>\n",
       "    <tr>\n",
       "      <th>8</th>\n",
       "      <td>8</td>\n",
       "      <td>2.162117</td>\n",
       "    </tr>\n",
       "    <tr>\n",
       "      <th>17</th>\n",
       "      <td>17</td>\n",
       "      <td>1.109661</td>\n",
       "    </tr>\n",
       "    <tr>\n",
       "      <th>26</th>\n",
       "      <td>26</td>\n",
       "      <td>2.909929</td>\n",
       "    </tr>\n",
       "    <tr>\n",
       "      <th>36</th>\n",
       "      <td>36</td>\n",
       "      <td>1.862071</td>\n",
       "    </tr>\n",
       "    <tr>\n",
       "      <th>45</th>\n",
       "      <td>45</td>\n",
       "      <td>2.034531</td>\n",
       "    </tr>\n",
       "    <tr>\n",
       "      <th>54</th>\n",
       "      <td>54</td>\n",
       "      <td>3.037621</td>\n",
       "    </tr>\n",
       "    <tr>\n",
       "      <th>64</th>\n",
       "      <td>64</td>\n",
       "      <td>1.592906</td>\n",
       "    </tr>\n",
       "    <tr>\n",
       "      <th>73</th>\n",
       "      <td>73</td>\n",
       "      <td>2.957584</td>\n",
       "    </tr>\n",
       "    <tr>\n",
       "      <th>82</th>\n",
       "      <td>82</td>\n",
       "      <td>0.980328</td>\n",
       "    </tr>\n",
       "    <tr>\n",
       "      <th>92</th>\n",
       "      <td>92</td>\n",
       "      <td>1.822545</td>\n",
       "    </tr>\n",
       "    <tr>\n",
       "      <th>101</th>\n",
       "      <td>101</td>\n",
       "      <td>0.718954</td>\n",
       "    </tr>\n",
       "    <tr>\n",
       "      <th>110</th>\n",
       "      <td>110</td>\n",
       "      <td>2.655574</td>\n",
       "    </tr>\n",
       "    <tr>\n",
       "      <th>120</th>\n",
       "      <td>120</td>\n",
       "      <td>0.730395</td>\n",
       "    </tr>\n",
       "  </tbody>\n",
       "</table>\n",
       "</div>"
      ],
      "text/plain": [
       "     idx     batch\n",
       "8      8  2.162117\n",
       "17    17  1.109661\n",
       "26    26  2.909929\n",
       "36    36  1.862071\n",
       "45    45  2.034531\n",
       "54    54  3.037621\n",
       "64    64  1.592906\n",
       "73    73  2.957584\n",
       "82    82  0.980328\n",
       "92    92  1.822545\n",
       "101  101  0.718954\n",
       "110  110  2.655574\n",
       "120  120  0.730395"
      ]
     },
     "execution_count": 16,
     "metadata": {},
     "output_type": "execute_result"
    }
   ],
   "source": [
    "ann = df[df.batch > ann_cutoff] if ann_cutoff else df[[]]\n",
    "ann"
   ]
  },
  {
   "cell_type": "code",
   "execution_count": 17,
   "id": "9bbe7687-edb0-4287-981f-96436ca40da6",
   "metadata": {},
   "outputs": [
    {
     "data": {
      "text/plain": [
       "PlotConfigs(fmt='fig', w=1200, h=800, save=[], v=True, i=None, dir=None, grid='#ccc', bg='white')"
      ]
     },
     "execution_count": 17,
     "metadata": {},
     "output_type": "execute_result"
    }
   ],
   "source": [
    "pc"
   ]
  },
  {
   "cell_type": "code",
   "execution_count": 18,
   "id": "823603b4-61ac-4edd-9047-921e6b0568a7",
   "metadata": {},
   "outputs": [
    {
     "name": "stderr",
     "output_type": "stream",
     "text": [
      "Saving: img/census-subset-gp3-dbg.png\n",
      "Returning IPython Image\n"
     ]
    },
    {
     "data": {
      "image/png": "[encoded data removed]",
      "text/plain": [
       "<IPython.core.display.Image object>"
      ]
     },
     "execution_count": 18,
     "metadata": {},
     "output_type": "execute_result"
    }
   ],
   "source": [
    "fig = px.bar(\n",
    "    df.set_index('idx')[['batch', *(['gc'] if 'gc' in df else [])]],\n",
    "    barmode='stack',\n",
    "    labels={\n",
    "        'idx': 'Batch idx',\n",
    "        'variable': '',\n",
    "        'value': 'Time (s)',\n",
    "    },\n",
    "    log_y=log_plot,\n",
    ").update_layout(\n",
    "    title=dict(text=f'Batch+GC times ({method} / {name})'),\n",
    ").update_xaxes(\n",
    "    range=(-.5, len(df) - 1 + .5),\n",
    ")\n",
    "\n",
    "if not ann.empty:\n",
    "    anns = ann.set_index('idx').batch.to_dict().items()\n",
    "    for idx, batch in anns:\n",
    "        fig.add_annotation(\n",
    "            x=idx, y=log10(batch) if log_plot else batch,\n",
    "            showarrow=False,\n",
    "            text=f'{idx}: {batch:.1f}s',\n",
    "            xshift=7,\n",
    "            xanchor='left',\n",
    "        )\n",
    "\n",
    "plot(fig, f'census-{name}', fmt='png', save=['png'], w=width, h=height, dir='img',)"
   ]
  }
 ],
 "metadata": {
  "kernelspec": {
   "display_name": "Python 3 (ipykernel)",
   "language": "python",
   "name": "python3"
  },
  "language_info": {
   "codemirror_mode": {
    "name": "ipython",
    "version": 3
   },
   "file_extension": ".py",
   "mimetype": "text/x-python",
   "name": "python",
   "nbconvert_exporter": "python",
   "pygments_lexer": "ipython3",
   "version": "3.11.8"
  }
 },
 "nbformat": 4,
 "nbformat_minor": 5
}
