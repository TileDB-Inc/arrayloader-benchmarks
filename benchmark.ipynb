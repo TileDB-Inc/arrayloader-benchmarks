{
 "cells": [
  {
   "cell_type": "code",
   "execution_count": 1,
   "id": "cf534d10-2611-43fc-94a1-11650b44e30a",
   "metadata": {},
   "outputs": [],
   "source": [
    "from utils import *\n",
    "\n",
    "import cellxgene_census\n",
    "from cellxgene_census.experimental.ml import ExperimentDataPipe, experiment_dataloader\n",
    "import somacore as soma\n",
    "from somacore import AxisQuery\n",
    "import torch\n",
    "from torch.utils.data import DataLoader\n",
    "torch.ones(2).cuda();"
   ]
  },
  {
   "cell_type": "code",
   "execution_count": 2,
   "id": "8b65ab8a-3155-4407-9c19-bb04bc4b7493",
   "metadata": {},
   "outputs": [
    {
     "name": "stderr",
     "output_type": "stream",
     "text": [
      "The \"stable\" release is currently 2023-12-15. Specify 'census_version=\"2023-12-15\"' in future calls to open_soma() to ensure data consistency.\n"
     ]
    },
    {
     "data": {
      "text/plain": [
       "['8e10f1c4-8e98-41e5-b65f-8cd89a887122',\n",
       " 'b165f033-9dec-468a-9248-802fc6902a74',\n",
       " 'ff7d15fa-f4b6-4a0e-992e-fd0c9d088ded',\n",
       " 'fe1a73ab-a203-45fd-84e9-0f7fd19efcbd',\n",
       " 'fbf173f9-f809-4d84-9b65-ae205d35b523',\n",
       " 'fa554686-fc07-44dd-b2de-b726d82d26ec',\n",
       " 'f9034091-2e8f-4ac6-9874-e7b7eb566824',\n",
       " 'f8dda921-5fb4-4c94-a654-c6fc346bfd6d',\n",
       " 'f7d003d4-40d5-4de8-858c-a9a8b48fcc67',\n",
       " 'f6d9f2ad-5ec7-4d53-b7f0-ceb0e7bcd181']"
      ]
     },
     "execution_count": 2,
     "metadata": {},
     "output_type": "execute_result"
    }
   ],
   "source": [
    "census = cellxgene_census.open_soma()\n",
    "\n",
    "#reference = ln.Collection.filter(uid=\"1gsdckxvOvIjQgeDVS1F\").one().reference\n",
    "reference = '283d65eb-dd53-496d-adb7-7570c7caa443'\n",
    "query_collection_id = f\"collection_id == '{reference}'\"\n",
    "datasets =(census[\"census_info\"][\"datasets\"]\n",
    "           .read(column_names=[\"dataset_id\"], value_filter=query_collection_id)\n",
    "           .concat().to_pandas())[\"dataset_id\"].tolist()\n",
    "datasets[:10]"
   ]
  },
  {
   "cell_type": "code",
   "execution_count": 3,
   "id": "1c387c19-f218-4ddd-9686-a80f08a88b02",
   "metadata": {},
   "outputs": [
    {
     "data": {
      "text/plain": [
       "138"
      ]
     },
     "execution_count": 3,
     "metadata": {},
     "output_type": "execute_result"
    }
   ],
   "source": [
    "len(datasets)"
   ]
  },
  {
   "cell_type": "code",
   "execution_count": 4,
   "id": "73e0d831-da5d-41e0-ac4b-ac9e2e359a90",
   "metadata": {},
   "outputs": [
    {
     "data": {
      "text/plain": [
       "<Experiment 's3://cellxgene-census-public-us-west-2/cell-census/2023-12-15/soma/census_data/homo_sapiens' (open for 'r') (2 items)\n",
       "    'ms': 's3://cellxgene-census-public-us-west-2/cell-census/2023-12-15/soma/census_data/homo_sapiens/ms' (unopened)\n",
       "    'obs': 's3://cellxgene-census-public-us-west-2/cell-census/2023-12-15/soma/census_data/homo_sapiens/obs' (unopened)>"
      ]
     },
     "execution_count": 4,
     "metadata": {},
     "output_type": "execute_result"
    }
   ],
   "source": [
    "experiment = census[\"census_data\"][\"homo_sapiens\"]\n",
    "experiment"
   ]
  },
  {
   "cell_type": "code",
   "execution_count": 5,
   "id": "cd9eea1f-62f1-44c0-976f-7242f531e6f8",
   "metadata": {},
   "outputs": [],
   "source": [
    "BATCH_SIZE = 1024\n",
    "n_vars = 20_000\n",
    "SOMA_CHUNK_SIZE = 10_000"
   ]
  },
  {
   "cell_type": "code",
   "execution_count": 6,
   "id": "2a51a7e4-3af5-4d21-8c8b-91713540599e",
   "metadata": {},
   "outputs": [],
   "source": [
    "@dataclass\n",
    "class Exp:\n",
    "    datapipe: ExperimentDataPipe\n",
    "    loader: DataLoader"
   ]
  },
  {
   "cell_type": "code",
   "execution_count": 7,
   "id": "ac8ed548-8f2f-48c2-9eac-f6e5bb6174e4",
   "metadata": {},
   "outputs": [],
   "source": [
    "def get_exp_datapipe(start=None, n=None) -> Exp:\n",
    "    ds = datasets\n",
    "    if start is None and n is not None:\n",
    "        start = 0\n",
    "    if start is not None:\n",
    "        ds = datasets[start:] if n is None else datasets[start:(start + n)]\n",
    "    query_datasets = \"dataset_id in \" + str(ds)\n",
    "    experiment_datapipe = ExperimentDataPipe(\n",
    "        experiment,\n",
    "        measurement_name=\"RNA\",\n",
    "        X_name=\"raw\",\n",
    "        obs_query=AxisQuery(value_filter=query_datasets),\n",
    "        var_query=AxisQuery(coords=(slice(n_vars-1),)),\n",
    "        batch_size=BATCH_SIZE,\n",
    "        shuffle=True,\n",
    "        soma_chunk_size=SOMA_CHUNK_SIZE,\n",
    "    )\n",
    "    \n",
    "    loader = experiment_dataloader(experiment_datapipe)\n",
    "    return Exp(experiment_datapipe, loader)"
   ]
  },
  {
   "cell_type": "code",
   "execution_count": 8,
   "id": "3ddcd16f-a758-4a32-8ea3-b1ba844b2964",
   "metadata": {},
   "outputs": [
    {
     "name": "stdout",
     "output_type": "stream",
     "text": [
      "CPU times: user 0 ns, sys: 5.76 ms, total: 5.76 ms\n",
      "Wall time: 5.37 ms\n"
     ]
    }
   ],
   "source": [
    "%%time\n",
    "exps = [ get_exp_datapipe(start=i, n=1) for i in range(10) ]"
   ]
  },
  {
   "cell_type": "code",
   "execution_count": 9,
   "id": "c148e4ad-eed4-481f-8ff4-3a41cec2fcb3",
   "metadata": {},
   "outputs": [
    {
     "name": "stdout",
     "output_type": "stream",
     "text": [
      "CPU times: user 1min 29s, sys: 27 s, total: 1min 56s\n",
      "Wall time: 1min 39s\n"
     ]
    },
    {
     "data": {
      "text/plain": [
       "[2480956, 888263, 28051, 35285, 17660, 29674, 23120, 31899, 155025, 6877]"
      ]
     },
     "execution_count": 9,
     "metadata": {},
     "output_type": "execute_result"
    }
   ],
   "source": [
    "%%time\n",
    "[ exp.datapipe.shape[0] for exp in exps ]"
   ]
  },
  {
   "cell_type": "code",
   "execution_count": 10,
   "id": "e0d116cb-c92b-41f9-b168-57d31878f79c",
   "metadata": {},
   "outputs": [],
   "source": [
    "n_epochs = 1\n",
    "# n_epochs = 5\n",
    "\n",
    "results = {\"Merlin\": {}, \"MappedCollection\": {}, \"cellxgene_census\": {}}\n",
    "for epoch in range(n_epochs):\n",
    "    for k in results:\n",
    "        results[k][f\"epoch_{epoch}\"] = {}"
   ]
  },
  {
   "cell_type": "code",
   "execution_count": 11,
   "id": "a4a79d77-b0e0-48c0-9f50-df511142e938",
   "metadata": {},
   "outputs": [],
   "source": [
    "def benchmark(exp: Exp):\n",
    "    n_samples = exp.datapipe.shape[0]\n",
    "    loader_iter = exp.loader.__iter__()\n",
    "    # exclude first batch from benchmark as this includes the setup time\n",
    "    batch = next(loader_iter)\n",
    "    \n",
    "    num_iter = n_samples // BATCH_SIZE if n_samples is not None else None\n",
    "    \n",
    "    start_time = time.time()\n",
    "    \n",
    "    batch_times = []\n",
    "    batch_time = time.time()\n",
    "    \n",
    "    total = num_iter if num_iter is not None else len(loader_iter)\n",
    "    for i, batch in tqdm(enumerate(loader_iter), total=total):\n",
    "        X = batch[\"x\"] if isinstance(batch, dict) else batch[0] \n",
    "        # for pytorch DataLoader\n",
    "        # Merlin sends to cuda by default\n",
    "        if hasattr(X, \"is_cuda\") and not X.is_cuda:\n",
    "            X = X.cuda()\n",
    "        \n",
    "        if num_iter is not None and i == num_iter:\n",
    "            break\n",
    "        if i % 10 == 0:\n",
    "            gc.collect()\n",
    "\n",
    "        batch_elapsed = time.time() - batch_time\n",
    "        # print(f'Batch {i:04d} took {batch_elapsed:.2f}')\n",
    "        batch_times.append(batch_elapsed)\n",
    "        batch_time = time.time()\n",
    "    \n",
    "    execution_time = time.time() - start_time\n",
    "    gc.collect()\n",
    "    \n",
    "    time_per_sample = (1e6 * execution_time) / (total * BATCH_SIZE)\n",
    "    print(f'time per sample: {time_per_sample:.2f} μs')\n",
    "    samples_per_sec = total * BATCH_SIZE / execution_time\n",
    "    print(f'samples per sec: {samples_per_sec:.2f} samples/sec')\n",
    "    \n",
    "    return samples_per_sec, time_per_sample, batch_times"
   ]
  },
  {
   "cell_type": "code",
   "execution_count": 12,
   "id": "7a614e15-a28d-45ce-a9a0-f22e9f78f824",
   "metadata": {},
   "outputs": [
    {
     "name": "stdout",
     "output_type": "stream",
     "text": [
      "CPU times: user 9.08 s, sys: 2.59 s, total: 11.7 s\n",
      "Wall time: 9.83 s\n"
     ]
    },
    {
     "data": {
      "text/plain": [
       "133790"
      ]
     },
     "execution_count": 12,
     "metadata": {},
     "output_type": "execute_result"
    }
   ],
   "source": [
    "%%time\n",
    "exp = get_exp_datapipe(start=2, n=5)\n",
    "exp.datapipe.shape[0]"
   ]
  },
  {
   "cell_type": "code",
   "execution_count": null,
   "id": "c7610705-d2ec-4eb3-90e4-332626526728",
   "metadata": {},
   "outputs": [
    {
     "name": "stderr",
     "output_type": "stream",
     "text": [
      " 92%|████████████████████████████████████████████████████████████████████████      | 120/130 [02:19<00:02,  3.36it/s]"
     ]
    }
   ],
   "source": [
    "%%time\n",
    "for epoch in range(n_epochs):\n",
    "    samples_per_sec, time_per_sample, batch_times = benchmark(exp)\n",
    "    results[\"cellxgene_census\"][f\"epoch_{epoch}\"][\"time_per_sample\"] = time_per_sample\n",
    "    results[\"cellxgene_census\"][f\"epoch_{epoch}\"][\"samples_per_sec\"] = samples_per_sec\n",
    "    results[\"cellxgene_census\"][f\"epoch_{epoch}\"][\"batch_times\"] = batch_times"
   ]
  },
  {
   "cell_type": "code",
   "execution_count": 95,
   "id": "229b2bae-d969-4146-a1a3-3c6414b882d1",
   "metadata": {},
   "outputs": [
    {
     "data": {
      "text/plain": [
       "{'Merlin': {'epoch_0': {}},\n",
       " 'MappedCollection': {'epoch_0': {}},\n",
       " 'cellxgene_census': {'epoch_0': {'time_per_sample': 946.4118355775581,\n",
       "   'samples_per_sec': 1056.622458012414,\n",
       "   'batch_times': [0.5669107437133789,\n",
       "    1.537851095199585,\n",
       "    0.10442423820495605,\n",
       "    0.0986485481262207,\n",
       "    0.1056058406829834,\n",
       "    0.10325932502746582,\n",
       "    0.10774350166320801,\n",
       "    7.493406534194946,\n",
       "    0.13289260864257812,\n",
       "    1.7179481983184814,\n",
       "    0.606940507888794,\n",
       "    0.12613153457641602,\n",
       "    0.18005847930908203,\n",
       "    0.17359137535095215,\n",
       "    0.25761985778808594,\n",
       "    0.28278517723083496,\n",
       "    7.261744976043701,\n",
       "    0.12972760200500488,\n",
       "    1.5608677864074707,\n",
       "    0.12809419631958008,\n",
       "    0.5941059589385986,\n",
       "    0.17369341850280762,\n",
       "    0.16571259498596191,\n",
       "    0.20813632011413574,\n",
       "    7.03926420211792,\n",
       "    0.1300215721130371,\n",
       "    0.13744878768920898,\n",
       "    0.13117027282714844,\n",
       "    0.13716697692871094,\n",
       "    0.13648581504821777,\n",
       "    0.6416280269622803,\n",
       "    0.13326764106750488,\n",
       "    0.13846945762634277,\n",
       "    0.2809128761291504]}}}"
      ]
     },
     "execution_count": 95,
     "metadata": {},
     "output_type": "execute_result"
    }
   ],
   "source": [
    "results"
   ]
  },
  {
   "cell_type": "code",
   "execution_count": 98,
   "id": "14bcbc20-0853-4404-8766-141632991e8c",
   "metadata": {},
   "outputs": [],
   "source": [
    "with open('results.json', 'w') as f:\n",
    "    json.dump(results, f, indent=2)"
   ]
  },
  {
   "cell_type": "code",
   "execution_count": 3,
   "id": "eb1fb31a-b7cf-416a-b801-dae42f03b397",
   "metadata": {},
   "outputs": [],
   "source": [
    "# with open('results.json', 'r') as f:\n",
    "#     results = json.load(f)"
   ]
  },
  {
   "cell_type": "code",
   "execution_count": 4,
   "id": "1b6c7282-7c2a-464b-8b5a-e8dd44e789e4",
   "metadata": {
    "scrolled": true
   },
   "outputs": [
    {
     "data": {
      "text/html": [
       "<div>\n",
       "<style scoped>\n",
       "    .dataframe tbody tr th:only-of-type {\n",
       "        vertical-align: middle;\n",
       "    }\n",
       "\n",
       "    .dataframe tbody tr th {\n",
       "        vertical-align: top;\n",
       "    }\n",
       "\n",
       "    .dataframe thead th {\n",
       "        text-align: right;\n",
       "    }\n",
       "</style>\n",
       "<table border=\"1\" class=\"dataframe\">\n",
       "  <thead>\n",
       "    <tr style=\"text-align: right;\">\n",
       "      <th></th>\n",
       "      <th>idx</th>\n",
       "      <th>time</th>\n",
       "      <th>res</th>\n",
       "      <th>res_str</th>\n",
       "    </tr>\n",
       "  </thead>\n",
       "  <tbody>\n",
       "    <tr>\n",
       "      <th>0</th>\n",
       "      <td>0</td>\n",
       "      <td>0.566911</td>\n",
       "      <td>0</td>\n",
       "      <td>0mod10</td>\n",
       "    </tr>\n",
       "    <tr>\n",
       "      <th>1</th>\n",
       "      <td>1</td>\n",
       "      <td>1.537851</td>\n",
       "      <td>1</td>\n",
       "      <td>1mod10</td>\n",
       "    </tr>\n",
       "    <tr>\n",
       "      <th>2</th>\n",
       "      <td>2</td>\n",
       "      <td>0.104424</td>\n",
       "      <td>2</td>\n",
       "      <td>2mod10</td>\n",
       "    </tr>\n",
       "    <tr>\n",
       "      <th>3</th>\n",
       "      <td>3</td>\n",
       "      <td>0.098649</td>\n",
       "      <td>3</td>\n",
       "      <td>3mod10</td>\n",
       "    </tr>\n",
       "    <tr>\n",
       "      <th>4</th>\n",
       "      <td>4</td>\n",
       "      <td>0.105606</td>\n",
       "      <td>4</td>\n",
       "      <td>4mod10</td>\n",
       "    </tr>\n",
       "    <tr>\n",
       "      <th>5</th>\n",
       "      <td>5</td>\n",
       "      <td>0.103259</td>\n",
       "      <td>5</td>\n",
       "      <td>5mod10</td>\n",
       "    </tr>\n",
       "    <tr>\n",
       "      <th>6</th>\n",
       "      <td>6</td>\n",
       "      <td>0.107744</td>\n",
       "      <td>6</td>\n",
       "      <td>6mod10</td>\n",
       "    </tr>\n",
       "    <tr>\n",
       "      <th>7</th>\n",
       "      <td>7</td>\n",
       "      <td>7.493407</td>\n",
       "      <td>7</td>\n",
       "      <td>7mod10</td>\n",
       "    </tr>\n",
       "    <tr>\n",
       "      <th>8</th>\n",
       "      <td>8</td>\n",
       "      <td>0.132893</td>\n",
       "      <td>8</td>\n",
       "      <td>8mod10</td>\n",
       "    </tr>\n",
       "    <tr>\n",
       "      <th>9</th>\n",
       "      <td>9</td>\n",
       "      <td>1.717948</td>\n",
       "      <td>9</td>\n",
       "      <td>9mod10</td>\n",
       "    </tr>\n",
       "    <tr>\n",
       "      <th>10</th>\n",
       "      <td>10</td>\n",
       "      <td>0.606941</td>\n",
       "      <td>0</td>\n",
       "      <td>0mod10</td>\n",
       "    </tr>\n",
       "    <tr>\n",
       "      <th>11</th>\n",
       "      <td>11</td>\n",
       "      <td>0.126132</td>\n",
       "      <td>1</td>\n",
       "      <td>1mod10</td>\n",
       "    </tr>\n",
       "    <tr>\n",
       "      <th>12</th>\n",
       "      <td>12</td>\n",
       "      <td>0.180058</td>\n",
       "      <td>2</td>\n",
       "      <td>2mod10</td>\n",
       "    </tr>\n",
       "    <tr>\n",
       "      <th>13</th>\n",
       "      <td>13</td>\n",
       "      <td>0.173591</td>\n",
       "      <td>3</td>\n",
       "      <td>3mod10</td>\n",
       "    </tr>\n",
       "    <tr>\n",
       "      <th>14</th>\n",
       "      <td>14</td>\n",
       "      <td>0.257620</td>\n",
       "      <td>4</td>\n",
       "      <td>4mod10</td>\n",
       "    </tr>\n",
       "    <tr>\n",
       "      <th>15</th>\n",
       "      <td>15</td>\n",
       "      <td>0.282785</td>\n",
       "      <td>5</td>\n",
       "      <td>5mod10</td>\n",
       "    </tr>\n",
       "    <tr>\n",
       "      <th>16</th>\n",
       "      <td>16</td>\n",
       "      <td>7.261745</td>\n",
       "      <td>6</td>\n",
       "      <td>6mod10</td>\n",
       "    </tr>\n",
       "    <tr>\n",
       "      <th>17</th>\n",
       "      <td>17</td>\n",
       "      <td>0.129728</td>\n",
       "      <td>7</td>\n",
       "      <td>7mod10</td>\n",
       "    </tr>\n",
       "    <tr>\n",
       "      <th>18</th>\n",
       "      <td>18</td>\n",
       "      <td>1.560868</td>\n",
       "      <td>8</td>\n",
       "      <td>8mod10</td>\n",
       "    </tr>\n",
       "    <tr>\n",
       "      <th>19</th>\n",
       "      <td>19</td>\n",
       "      <td>0.128094</td>\n",
       "      <td>9</td>\n",
       "      <td>9mod10</td>\n",
       "    </tr>\n",
       "    <tr>\n",
       "      <th>20</th>\n",
       "      <td>20</td>\n",
       "      <td>0.594106</td>\n",
       "      <td>0</td>\n",
       "      <td>0mod10</td>\n",
       "    </tr>\n",
       "    <tr>\n",
       "      <th>21</th>\n",
       "      <td>21</td>\n",
       "      <td>0.173693</td>\n",
       "      <td>1</td>\n",
       "      <td>1mod10</td>\n",
       "    </tr>\n",
       "    <tr>\n",
       "      <th>22</th>\n",
       "      <td>22</td>\n",
       "      <td>0.165713</td>\n",
       "      <td>2</td>\n",
       "      <td>2mod10</td>\n",
       "    </tr>\n",
       "    <tr>\n",
       "      <th>23</th>\n",
       "      <td>23</td>\n",
       "      <td>0.208136</td>\n",
       "      <td>3</td>\n",
       "      <td>3mod10</td>\n",
       "    </tr>\n",
       "    <tr>\n",
       "      <th>24</th>\n",
       "      <td>24</td>\n",
       "      <td>7.039264</td>\n",
       "      <td>4</td>\n",
       "      <td>4mod10</td>\n",
       "    </tr>\n",
       "    <tr>\n",
       "      <th>25</th>\n",
       "      <td>25</td>\n",
       "      <td>0.130022</td>\n",
       "      <td>5</td>\n",
       "      <td>5mod10</td>\n",
       "    </tr>\n",
       "    <tr>\n",
       "      <th>26</th>\n",
       "      <td>26</td>\n",
       "      <td>0.137449</td>\n",
       "      <td>6</td>\n",
       "      <td>6mod10</td>\n",
       "    </tr>\n",
       "    <tr>\n",
       "      <th>27</th>\n",
       "      <td>27</td>\n",
       "      <td>0.131170</td>\n",
       "      <td>7</td>\n",
       "      <td>7mod10</td>\n",
       "    </tr>\n",
       "    <tr>\n",
       "      <th>28</th>\n",
       "      <td>28</td>\n",
       "      <td>0.137167</td>\n",
       "      <td>8</td>\n",
       "      <td>8mod10</td>\n",
       "    </tr>\n",
       "    <tr>\n",
       "      <th>29</th>\n",
       "      <td>29</td>\n",
       "      <td>0.136486</td>\n",
       "      <td>9</td>\n",
       "      <td>9mod10</td>\n",
       "    </tr>\n",
       "    <tr>\n",
       "      <th>30</th>\n",
       "      <td>30</td>\n",
       "      <td>0.641628</td>\n",
       "      <td>0</td>\n",
       "      <td>0mod10</td>\n",
       "    </tr>\n",
       "    <tr>\n",
       "      <th>31</th>\n",
       "      <td>31</td>\n",
       "      <td>0.133268</td>\n",
       "      <td>1</td>\n",
       "      <td>1mod10</td>\n",
       "    </tr>\n",
       "    <tr>\n",
       "      <th>32</th>\n",
       "      <td>32</td>\n",
       "      <td>0.138469</td>\n",
       "      <td>2</td>\n",
       "      <td>2mod10</td>\n",
       "    </tr>\n",
       "    <tr>\n",
       "      <th>33</th>\n",
       "      <td>33</td>\n",
       "      <td>0.280913</td>\n",
       "      <td>3</td>\n",
       "      <td>3mod10</td>\n",
       "    </tr>\n",
       "  </tbody>\n",
       "</table>\n",
       "</div>"
      ],
      "text/plain": [
       "    idx      time  res res_str\n",
       "0     0  0.566911    0  0mod10\n",
       "1     1  1.537851    1  1mod10\n",
       "2     2  0.104424    2  2mod10\n",
       "3     3  0.098649    3  3mod10\n",
       "4     4  0.105606    4  4mod10\n",
       "5     5  0.103259    5  5mod10\n",
       "6     6  0.107744    6  6mod10\n",
       "7     7  7.493407    7  7mod10\n",
       "8     8  0.132893    8  8mod10\n",
       "9     9  1.717948    9  9mod10\n",
       "10   10  0.606941    0  0mod10\n",
       "11   11  0.126132    1  1mod10\n",
       "12   12  0.180058    2  2mod10\n",
       "13   13  0.173591    3  3mod10\n",
       "14   14  0.257620    4  4mod10\n",
       "15   15  0.282785    5  5mod10\n",
       "16   16  7.261745    6  6mod10\n",
       "17   17  0.129728    7  7mod10\n",
       "18   18  1.560868    8  8mod10\n",
       "19   19  0.128094    9  9mod10\n",
       "20   20  0.594106    0  0mod10\n",
       "21   21  0.173693    1  1mod10\n",
       "22   22  0.165713    2  2mod10\n",
       "23   23  0.208136    3  3mod10\n",
       "24   24  7.039264    4  4mod10\n",
       "25   25  0.130022    5  5mod10\n",
       "26   26  0.137449    6  6mod10\n",
       "27   27  0.131170    7  7mod10\n",
       "28   28  0.137167    8  8mod10\n",
       "29   29  0.136486    9  9mod10\n",
       "30   30  0.641628    0  0mod10\n",
       "31   31  0.133268    1  1mod10\n",
       "32   32  0.138469    2  2mod10\n",
       "33   33  0.280913    3  3mod10"
      ]
     },
     "execution_count": 4,
     "metadata": {},
     "output_type": "execute_result"
    }
   ],
   "source": [
    "method = 'cellxgene_census'\n",
    "epoch = 0\n",
    "df = pd.DataFrame(\n",
    "    {\n",
    "        'time': results[method][f'epoch_{epoch}']['batch_times'],\n",
    "    },\n",
    ")\n",
    "df.index.name = 'idx'\n",
    "df['res'] = df.index % 10\n",
    "df['res_str'] = df.res.astype('str') + 'mod10'\n",
    "df = df.reset_index()\n",
    "df"
   ]
  },
  {
   "cell_type": "code",
   "execution_count": 5,
   "id": "703da7d9-035a-4b9f-8062-62c509458391",
   "metadata": {},
   "outputs": [
    {
     "data": {
      "text/html": [
       "<div>\n",
       "<style scoped>\n",
       "    .dataframe tbody tr th:only-of-type {\n",
       "        vertical-align: middle;\n",
       "    }\n",
       "\n",
       "    .dataframe tbody tr th {\n",
       "        vertical-align: top;\n",
       "    }\n",
       "\n",
       "    .dataframe thead th {\n",
       "        text-align: right;\n",
       "    }\n",
       "</style>\n",
       "<table border=\"1\" class=\"dataframe\">\n",
       "  <thead>\n",
       "    <tr style=\"text-align: right;\">\n",
       "      <th></th>\n",
       "      <th>idx</th>\n",
       "      <th>time</th>\n",
       "      <th>res</th>\n",
       "      <th>res_str</th>\n",
       "    </tr>\n",
       "  </thead>\n",
       "  <tbody>\n",
       "    <tr>\n",
       "      <th>0</th>\n",
       "      <td>0</td>\n",
       "      <td>0.566911</td>\n",
       "      <td>0</td>\n",
       "      <td>0mod10</td>\n",
       "    </tr>\n",
       "    <tr>\n",
       "      <th>1</th>\n",
       "      <td>1</td>\n",
       "      <td>1.537851</td>\n",
       "      <td>1</td>\n",
       "      <td>1mod10</td>\n",
       "    </tr>\n",
       "    <tr>\n",
       "      <th>7</th>\n",
       "      <td>7</td>\n",
       "      <td>7.493407</td>\n",
       "      <td>7</td>\n",
       "      <td>7mod10</td>\n",
       "    </tr>\n",
       "    <tr>\n",
       "      <th>9</th>\n",
       "      <td>9</td>\n",
       "      <td>1.717948</td>\n",
       "      <td>9</td>\n",
       "      <td>9mod10</td>\n",
       "    </tr>\n",
       "    <tr>\n",
       "      <th>10</th>\n",
       "      <td>10</td>\n",
       "      <td>0.606941</td>\n",
       "      <td>0</td>\n",
       "      <td>0mod10</td>\n",
       "    </tr>\n",
       "    <tr>\n",
       "      <th>16</th>\n",
       "      <td>16</td>\n",
       "      <td>7.261745</td>\n",
       "      <td>6</td>\n",
       "      <td>6mod10</td>\n",
       "    </tr>\n",
       "    <tr>\n",
       "      <th>18</th>\n",
       "      <td>18</td>\n",
       "      <td>1.560868</td>\n",
       "      <td>8</td>\n",
       "      <td>8mod10</td>\n",
       "    </tr>\n",
       "    <tr>\n",
       "      <th>20</th>\n",
       "      <td>20</td>\n",
       "      <td>0.594106</td>\n",
       "      <td>0</td>\n",
       "      <td>0mod10</td>\n",
       "    </tr>\n",
       "    <tr>\n",
       "      <th>24</th>\n",
       "      <td>24</td>\n",
       "      <td>7.039264</td>\n",
       "      <td>4</td>\n",
       "      <td>4mod10</td>\n",
       "    </tr>\n",
       "    <tr>\n",
       "      <th>30</th>\n",
       "      <td>30</td>\n",
       "      <td>0.641628</td>\n",
       "      <td>0</td>\n",
       "      <td>0mod10</td>\n",
       "    </tr>\n",
       "  </tbody>\n",
       "</table>\n",
       "</div>"
      ],
      "text/plain": [
       "    idx      time  res res_str\n",
       "0     0  0.566911    0  0mod10\n",
       "1     1  1.537851    1  1mod10\n",
       "7     7  7.493407    7  7mod10\n",
       "9     9  1.717948    9  9mod10\n",
       "10   10  0.606941    0  0mod10\n",
       "16   16  7.261745    6  6mod10\n",
       "18   18  1.560868    8  8mod10\n",
       "20   20  0.594106    0  0mod10\n",
       "24   24  7.039264    4  4mod10\n",
       "30   30  0.641628    0  0mod10"
      ]
     },
     "execution_count": 5,
     "metadata": {},
     "output_type": "execute_result"
    }
   ],
   "source": [
    "ann = df[df.time > .5]\n",
    "ann"
   ]
  },
  {
   "cell_type": "code",
   "execution_count": 6,
   "id": "d3ec3485-54aa-4537-9aac-4afd41b8bf64",
   "metadata": {},
   "outputs": [
    {
     "data": {
      "text/plain": [
       "dict_items([(0, 0.5669107437133789), (1, 1.537851095199585), (7, 7.493406534194946), (9, 1.7179481983184814), (10, 0.606940507888794), (16, 7.261744976043701), (18, 1.5608677864074707), (20, 0.5941059589385986), (24, 7.03926420211792), (30, 0.6416280269622803)])"
      ]
     },
     "execution_count": 6,
     "metadata": {},
     "output_type": "execute_result"
    }
   ],
   "source": [
    "anns = ann.set_index('idx').time.to_dict().items()\n",
    "anns"
   ]
  },
  {
   "cell_type": "code",
   "execution_count": 7,
   "id": "9bbe7687-edb0-4287-981f-96436ca40da6",
   "metadata": {},
   "outputs": [
    {
     "data": {
      "text/plain": [
       "PlotConfigs(fmt='fig', w=1200, h=800, save=[], v=True, i=None, dir=None, grid='#ccc', bg='white')"
      ]
     },
     "execution_count": 7,
     "metadata": {},
     "output_type": "execute_result"
    }
   ],
   "source": [
    "pc"
   ]
  },
  {
   "cell_type": "code",
   "execution_count": 15,
   "id": "823603b4-61ac-4edd-9047-921e6b0568a7",
   "metadata": {},
   "outputs": [
    {
     "name": "stderr",
     "output_type": "stream",
     "text": [
      "Saving: benchmark-batch-times.png\n",
      "Returning IPython Image\n"
     ]
    },
    {
     "data": {
      "image/png": "[encoded data removed]",
      "text/plain": [
       "<IPython.core.display.Image object>"
      ]
     },
     "execution_count": 15,
     "metadata": {},
     "output_type": "execute_result"
    }
   ],
   "source": [
    "fig = px.scatter(\n",
    "    df,\n",
    "    x='idx',\n",
    "    y='time',\n",
    "    # text='time',\n",
    "    color='res_str',\n",
    "    color_discrete_sequence=default_colors,\n",
    "    labels={ 'time': 'Batch time (s)', 'res_str': 'Batch idx', 'idx': 'Batch idx', },\n",
    "    log_y=True,\n",
    ").update_layout(\n",
    "    title=dict(text=f'Batch times ({method}, epoch {epoch})'),\n",
    ").update_xaxes(\n",
    "    range=(-.5, len(df) - 1 + .5),\n",
    ").update_traces(\n",
    "    marker=dict(\n",
    "        size=12,\n",
    "    )\n",
    ")\n",
    "for idx, time in anns:\n",
    "    fig.add_annotation(\n",
    "        x=idx, y=log10(time),\n",
    "        showarrow=False,\n",
    "        text=f'{idx}: {time:.2f}s',\n",
    "        xshift=37,\n",
    "        #yshift=0,\n",
    "    )\n",
    "\n",
    "plot(fig, 'benchmark-batch-times', fmt='png', save=['png'], w=1200, h=700,)\n",
    "#fig\n",
    "#Image(fig.to_image(width=1200, height=800))"
   ]
  },
  {
   "cell_type": "code",
   "execution_count": null,
   "id": "b9c72949-228c-4842-8171-98c3deefc448",
   "metadata": {},
   "outputs": [],
   "source": []
  }
 ],
 "metadata": {
  "kernelspec": {
   "display_name": "Python 3 (ipykernel)",
   "language": "python",
   "name": "python3"
  },
  "language_info": {
   "codemirror_mode": {
    "name": "ipython",
    "version": 3
   },
   "file_extension": ".py",
   "mimetype": "text/x-python",
   "name": "python",
   "nbconvert_exporter": "python",
   "pygments_lexer": "ipython3",
   "version": "3.11.8"
  }
 },
 "nbformat": 4,
 "nbformat_minor": 5
}
