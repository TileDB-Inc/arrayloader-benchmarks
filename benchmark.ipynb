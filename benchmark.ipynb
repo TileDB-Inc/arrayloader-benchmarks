{
 "cells": [
  {
   "cell_type": "code",
   "execution_count": 1,
   "id": "cf534d10-2611-43fc-94a1-11650b44e30a",
   "metadata": {},
   "outputs": [],
   "source": [
    "from utils import *\n",
    "\n",
    "import cellxgene_census\n",
    "from cellxgene_census.experimental.ml import ExperimentDataPipe, experiment_dataloader\n",
    "import somacore as soma\n",
    "from somacore import AxisQuery\n",
    "import torch\n",
    "from torch.utils.data import DataLoader\n",
    "torch.ones(2).cuda();"
   ]
  },
  {
   "cell_type": "code",
   "execution_count": 2,
   "id": "8b65ab8a-3155-4407-9c19-bb04bc4b7493",
   "metadata": {},
   "outputs": [
    {
     "data": {
      "text/plain": [
       "['8e10f1c4-8e98-41e5-b65f-8cd89a887122',\n",
       " 'b165f033-9dec-468a-9248-802fc6902a74',\n",
       " 'ff7d15fa-f4b6-4a0e-992e-fd0c9d088ded',\n",
       " 'fe1a73ab-a203-45fd-84e9-0f7fd19efcbd',\n",
       " 'fbf173f9-f809-4d84-9b65-ae205d35b523',\n",
       " 'fa554686-fc07-44dd-b2de-b726d82d26ec',\n",
       " 'f9034091-2e8f-4ac6-9874-e7b7eb566824',\n",
       " 'f8dda921-5fb4-4c94-a654-c6fc346bfd6d',\n",
       " 'f7d003d4-40d5-4de8-858c-a9a8b48fcc67',\n",
       " 'f6d9f2ad-5ec7-4d53-b7f0-ceb0e7bcd181']"
      ]
     },
     "execution_count": 2,
     "metadata": {},
     "output_type": "execute_result"
    }
   ],
   "source": [
    "root = '/mnt/nvme/s3/cellxgene-census-public-us-west-2/cell-census/2023-12-15/soma'\n",
    "census = cellxgene_census.open_soma(uri=root)\n",
    "\n",
    "#reference = ln.Collection.filter(uid=\"1gsdckxvOvIjQgeDVS1F\").one().reference\n",
    "reference = '283d65eb-dd53-496d-adb7-7570c7caa443'\n",
    "query_collection_id = f\"collection_id == '{reference}'\"\n",
    "datasets =(census[\"census_info\"][\"datasets\"]\n",
    "           .read(column_names=[\"dataset_id\"], value_filter=query_collection_id)\n",
    "           .concat().to_pandas())[\"dataset_id\"].tolist()\n",
    "datasets[:10]"
   ]
  },
  {
   "cell_type": "code",
   "execution_count": 3,
   "id": "1c387c19-f218-4ddd-9686-a80f08a88b02",
   "metadata": {},
   "outputs": [
    {
     "data": {
      "text/plain": [
       "138"
      ]
     },
     "execution_count": 3,
     "metadata": {},
     "output_type": "execute_result"
    }
   ],
   "source": [
    "len(datasets)"
   ]
  },
  {
   "cell_type": "code",
   "execution_count": 4,
   "id": "73e0d831-da5d-41e0-ac4b-ac9e2e359a90",
   "metadata": {},
   "outputs": [
    {
     "data": {
      "text/plain": [
       "<Experiment 'file:///mnt/nvme/s3/cellxgene-census-public-us-west-2/cell-census/2023-12-15/soma/census_data/homo_sapiens' (open for 'r') (2 items)\n",
       "    'ms': 'file:///mnt/nvme/s3/cellxgene-census-public-us-west-2/cell-census/2023-12-15/soma/census_data/homo_sapiens/ms' (unopened)\n",
       "    'obs': 'file:///mnt/nvme/s3/cellxgene-census-public-us-west-2/cell-census/2023-12-15/soma/census_data/homo_sapiens/obs' (unopened)>"
      ]
     },
     "execution_count": 4,
     "metadata": {},
     "output_type": "execute_result"
    }
   ],
   "source": [
    "experiment = census[\"census_data\"][\"homo_sapiens\"]\n",
    "experiment"
   ]
  },
  {
   "cell_type": "code",
   "execution_count": 5,
   "id": "cd9eea1f-62f1-44c0-976f-7242f531e6f8",
   "metadata": {},
   "outputs": [],
   "source": [
    "BATCH_SIZE = 1024\n",
    "n_vars = 20_000\n",
    "SOMA_CHUNK_SIZE = 10_000"
   ]
  },
  {
   "cell_type": "code",
   "execution_count": 6,
   "id": "2a51a7e4-3af5-4d21-8c8b-91713540599e",
   "metadata": {},
   "outputs": [],
   "source": [
    "@dataclass\n",
    "class Exp:\n",
    "    datapipe: ExperimentDataPipe\n",
    "    loader: DataLoader"
   ]
  },
  {
   "cell_type": "code",
   "execution_count": 7,
   "id": "ac8ed548-8f2f-48c2-9eac-f6e5bb6174e4",
   "metadata": {},
   "outputs": [],
   "source": [
    "def get_exp_datapipe(start=None, n=None) -> Exp:\n",
    "    start = start or 0\n",
    "    end = len(datasets) if n is None else start + n\n",
    "    ds = datasets[start:end]\n",
    "    query_datasets = \"dataset_id in \" + str(ds)\n",
    "    experiment_datapipe = ExperimentDataPipe(\n",
    "        experiment,\n",
    "        measurement_name=\"RNA\",\n",
    "        X_name=\"raw\",\n",
    "        obs_query=AxisQuery(value_filter=query_datasets),\n",
    "        var_query=AxisQuery(coords=(slice(n_vars-1),)),\n",
    "        batch_size=BATCH_SIZE,\n",
    "        shuffle=True,\n",
    "        soma_chunk_size=SOMA_CHUNK_SIZE,\n",
    "    )\n",
    "    \n",
    "    loader = experiment_dataloader(experiment_datapipe)\n",
    "    return Exp(experiment_datapipe, loader)"
   ]
  },
  {
   "cell_type": "markdown",
   "id": "80993178-384d-42c3-97a1-a6e405fdc207",
   "metadata": {},
   "source": [
    "Initialize loaders for the first 10 datasets"
   ]
  },
  {
   "cell_type": "code",
   "execution_count": 8,
   "id": "3ddcd16f-a758-4a32-8ea3-b1ba844b2964",
   "metadata": {},
   "outputs": [
    {
     "name": "stdout",
     "output_type": "stream",
     "text": [
      "CPU times: user 4.8 ms, sys: 255 µs, total: 5.05 ms\n",
      "Wall time: 4.92 ms\n"
     ]
    }
   ],
   "source": [
    "%%time\n",
    "exps = [ get_exp_datapipe(start=i, n=1) for i in range(10) ]"
   ]
  },
  {
   "cell_type": "markdown",
   "id": "1b86aa6e-d775-4a2f-aee1-97a22e0d7ebd",
   "metadata": {},
   "source": [
    "First 10 dataset lengths:"
   ]
  },
  {
   "cell_type": "code",
   "execution_count": 9,
   "id": "c148e4ad-eed4-481f-8ff4-3a41cec2fcb3",
   "metadata": {},
   "outputs": [
    {
     "name": "stdout",
     "output_type": "stream",
     "text": [
      "CPU times: user 1min 17s, sys: 20.8 s, total: 1min 38s\n",
      "Wall time: 5.5 s\n"
     ]
    },
    {
     "data": {
      "text/plain": [
       "[2480956, 888263, 28051, 35285, 17660, 29674, 23120, 31899, 155025, 6877]"
      ]
     },
     "execution_count": 9,
     "metadata": {},
     "output_type": "execute_result"
    }
   ],
   "source": [
    "%%time\n",
    "[ exp.datapipe.shape[0] for exp in exps ]"
   ]
  },
  {
   "cell_type": "code",
   "execution_count": 10,
   "id": "e0d116cb-c92b-41f9-b168-57d31878f79c",
   "metadata": {},
   "outputs": [],
   "source": [
    "n_epochs = 1\n",
    "# n_epochs = 5\n",
    "\n",
    "results = {\"Merlin\": {}, \"MappedCollection\": {}, \"cellxgene_census\": {}}\n",
    "for epoch in range(n_epochs):\n",
    "    for k in results:\n",
    "        results[k][f\"epoch_{epoch}\"] = {}"
   ]
  },
  {
   "cell_type": "code",
   "execution_count": 11,
   "id": "a4a79d77-b0e0-48c0-9f50-df511142e938",
   "metadata": {},
   "outputs": [],
   "source": [
    "def benchmark(exp: Exp):\n",
    "    n_samples = exp.datapipe.shape[0]\n",
    "    loader_iter = exp.loader.__iter__()\n",
    "    # exclude first batch from benchmark as this includes the setup time\n",
    "    batch = next(loader_iter)\n",
    "    \n",
    "    num_iter = n_samples // BATCH_SIZE if n_samples is not None else None\n",
    "    \n",
    "    start_time = time.time()\n",
    "    \n",
    "    batch_times = []\n",
    "    batch_time = time.time()\n",
    "    \n",
    "    total = num_iter if num_iter is not None else len(loader_iter)\n",
    "    for i, batch in tqdm(enumerate(loader_iter), total=total):\n",
    "        X = batch[\"x\"] if isinstance(batch, dict) else batch[0] \n",
    "        # for pytorch DataLoader\n",
    "        # Merlin sends to cuda by default\n",
    "        if hasattr(X, \"is_cuda\") and not X.is_cuda:\n",
    "            X = X.cuda()\n",
    "        \n",
    "        if num_iter is not None and i == num_iter:\n",
    "            break\n",
    "        if i % 10 == 0:\n",
    "            gc.collect()\n",
    "\n",
    "        batch_elapsed = time.time() - batch_time\n",
    "        # print(f'Batch {i:04d} took {batch_elapsed:.2f}')\n",
    "        batch_times.append(batch_elapsed)\n",
    "        batch_time = time.time()\n",
    "    \n",
    "    execution_time = time.time() - start_time\n",
    "    gc.collect()\n",
    "    \n",
    "    time_per_sample = (1e6 * execution_time) / (total * BATCH_SIZE)\n",
    "    print(f'time per sample: {time_per_sample:.2f} μs')\n",
    "    samples_per_sec = total * BATCH_SIZE / execution_time\n",
    "    print(f'samples per sec: {samples_per_sec:.2f} samples/sec')\n",
    "    \n",
    "    return samples_per_sec, time_per_sample, batch_times"
   ]
  },
  {
   "cell_type": "code",
   "execution_count": 12,
   "id": "7a614e15-a28d-45ce-a9a0-f22e9f78f824",
   "metadata": {},
   "outputs": [
    {
     "name": "stdout",
     "output_type": "stream",
     "text": [
      "CPU times: user 7.83 s, sys: 2.15 s, total: 9.99 s\n",
      "Wall time: 545 ms\n"
     ]
    },
    {
     "data": {
      "text/plain": [
       "133790"
      ]
     },
     "execution_count": 12,
     "metadata": {},
     "output_type": "execute_result"
    }
   ],
   "source": [
    "%%time\n",
    "exp = get_exp_datapipe(start=2, n=5)\n",
    "exp.datapipe.shape[0]"
   ]
  },
  {
   "cell_type": "markdown",
   "id": "58d03d4d-c3e3-43b7-8fc8-9674eb3832ec",
   "metadata": {},
   "source": [
    "## Run benchmark"
   ]
  },
  {
   "cell_type": "code",
   "execution_count": 13,
   "id": "c7610705-d2ec-4eb3-90e4-332626526728",
   "metadata": {},
   "outputs": [
    {
     "name": "stderr",
     "output_type": "stream",
     "text": [
      "100%|██████████████████| 130/130 [01:12<00:00,  1.80it/s]\n"
     ]
    },
    {
     "name": "stdout",
     "output_type": "stream",
     "text": [
      "time per sample: 541.57 μs\n",
      "samples per sec: 1846.49 samples/sec\n",
      "CPU times: user 1min 37s, sys: 48.9 s, total: 2min 26s\n",
      "Wall time: 1min 16s\n"
     ]
    }
   ],
   "source": [
    "%%time\n",
    "for epoch in range(n_epochs):\n",
    "    samples_per_sec, time_per_sample, batch_times = benchmark(exp)\n",
    "    results[\"cellxgene_census\"][f\"epoch_{epoch}\"][\"time_per_sample\"] = time_per_sample\n",
    "    results[\"cellxgene_census\"][f\"epoch_{epoch}\"][\"samples_per_sec\"] = samples_per_sec\n",
    "    results[\"cellxgene_census\"][f\"epoch_{epoch}\"][\"batch_times\"] = batch_times"
   ]
  },
  {
   "cell_type": "code",
   "execution_count": 14,
   "id": "14bcbc20-0853-4404-8766-141632991e8c",
   "metadata": {},
   "outputs": [],
   "source": [
    "results_json_path = 'results-local.json'\n",
    "with open(results_json_path, 'w') as f:\n",
    "    json.dump(results, f, indent=2)"
   ]
  },
  {
   "cell_type": "code",
   "execution_count": 15,
   "id": "eb1fb31a-b7cf-416a-b801-dae42f03b397",
   "metadata": {},
   "outputs": [],
   "source": [
    "# with open(results_json_path, 'r') as f:\n",
    "#     results = json.load(f)"
   ]
  },
  {
   "cell_type": "markdown",
   "id": "ece8e5db-bf91-4fac-bd8e-48d747477f92",
   "metadata": {},
   "source": [
    "## Plot batch timings"
   ]
  },
  {
   "cell_type": "code",
   "execution_count": 16,
   "id": "1b6c7282-7c2a-464b-8b5a-e8dd44e789e4",
   "metadata": {
    "scrolled": true
   },
   "outputs": [
    {
     "data": {
      "text/html": [
       "<div>\n",
       "<style scoped>\n",
       "    .dataframe tbody tr th:only-of-type {\n",
       "        vertical-align: middle;\n",
       "    }\n",
       "\n",
       "    .dataframe tbody tr th {\n",
       "        vertical-align: top;\n",
       "    }\n",
       "\n",
       "    .dataframe thead th {\n",
       "        text-align: right;\n",
       "    }\n",
       "</style>\n",
       "<table border=\"1\" class=\"dataframe\">\n",
       "  <thead>\n",
       "    <tr style=\"text-align: right;\">\n",
       "      <th></th>\n",
       "      <th>idx</th>\n",
       "      <th>time</th>\n",
       "      <th>res</th>\n",
       "      <th>res_str</th>\n",
       "    </tr>\n",
       "  </thead>\n",
       "  <tbody>\n",
       "    <tr>\n",
       "      <th>0</th>\n",
       "      <td>0</td>\n",
       "      <td>0.613416</td>\n",
       "      <td>0</td>\n",
       "      <td>0mod10</td>\n",
       "    </tr>\n",
       "    <tr>\n",
       "      <th>1</th>\n",
       "      <td>1</td>\n",
       "      <td>0.256815</td>\n",
       "      <td>1</td>\n",
       "      <td>1mod10</td>\n",
       "    </tr>\n",
       "    <tr>\n",
       "      <th>2</th>\n",
       "      <td>2</td>\n",
       "      <td>0.250808</td>\n",
       "      <td>2</td>\n",
       "      <td>2mod10</td>\n",
       "    </tr>\n",
       "    <tr>\n",
       "      <th>3</th>\n",
       "      <td>3</td>\n",
       "      <td>0.246755</td>\n",
       "      <td>3</td>\n",
       "      <td>3mod10</td>\n",
       "    </tr>\n",
       "    <tr>\n",
       "      <th>4</th>\n",
       "      <td>4</td>\n",
       "      <td>0.241966</td>\n",
       "      <td>4</td>\n",
       "      <td>4mod10</td>\n",
       "    </tr>\n",
       "    <tr>\n",
       "      <th>...</th>\n",
       "      <td>...</td>\n",
       "      <td>...</td>\n",
       "      <td>...</td>\n",
       "      <td>...</td>\n",
       "    </tr>\n",
       "    <tr>\n",
       "      <th>125</th>\n",
       "      <td>125</td>\n",
       "      <td>0.113792</td>\n",
       "      <td>5</td>\n",
       "      <td>5mod10</td>\n",
       "    </tr>\n",
       "    <tr>\n",
       "      <th>126</th>\n",
       "      <td>126</td>\n",
       "      <td>0.111463</td>\n",
       "      <td>6</td>\n",
       "      <td>6mod10</td>\n",
       "    </tr>\n",
       "    <tr>\n",
       "      <th>127</th>\n",
       "      <td>127</td>\n",
       "      <td>0.109159</td>\n",
       "      <td>7</td>\n",
       "      <td>7mod10</td>\n",
       "    </tr>\n",
       "    <tr>\n",
       "      <th>128</th>\n",
       "      <td>128</td>\n",
       "      <td>0.111219</td>\n",
       "      <td>8</td>\n",
       "      <td>8mod10</td>\n",
       "    </tr>\n",
       "    <tr>\n",
       "      <th>129</th>\n",
       "      <td>129</td>\n",
       "      <td>0.246831</td>\n",
       "      <td>9</td>\n",
       "      <td>9mod10</td>\n",
       "    </tr>\n",
       "  </tbody>\n",
       "</table>\n",
       "<p>130 rows × 4 columns</p>\n",
       "</div>"
      ],
      "text/plain": [
       "     idx      time  res res_str\n",
       "0      0  0.613416    0  0mod10\n",
       "1      1  0.256815    1  1mod10\n",
       "2      2  0.250808    2  2mod10\n",
       "3      3  0.246755    3  3mod10\n",
       "4      4  0.241966    4  4mod10\n",
       "..   ...       ...  ...     ...\n",
       "125  125  0.113792    5  5mod10\n",
       "126  126  0.111463    6  6mod10\n",
       "127  127  0.109159    7  7mod10\n",
       "128  128  0.111219    8  8mod10\n",
       "129  129  0.246831    9  9mod10\n",
       "\n",
       "[130 rows x 4 columns]"
      ]
     },
     "execution_count": 16,
     "metadata": {},
     "output_type": "execute_result"
    }
   ],
   "source": [
    "method = 'cellxgene_census'\n",
    "epoch = 0\n",
    "df = pd.DataFrame(\n",
    "    {\n",
    "        'time': results[method][f'epoch_{epoch}']['batch_times'],\n",
    "    },\n",
    ")\n",
    "df.index.name = 'idx'\n",
    "df['res'] = df.index % 10\n",
    "df['res_str'] = df.res.astype('str') + 'mod10'\n",
    "df = df.reset_index()\n",
    "df"
   ]
  },
  {
   "cell_type": "code",
   "execution_count": 17,
   "id": "703da7d9-035a-4b9f-8062-62c509458391",
   "metadata": {
    "scrolled": true
   },
   "outputs": [
    {
     "data": {
      "text/html": [
       "<div>\n",
       "<style scoped>\n",
       "    .dataframe tbody tr th:only-of-type {\n",
       "        vertical-align: middle;\n",
       "    }\n",
       "\n",
       "    .dataframe tbody tr th {\n",
       "        vertical-align: top;\n",
       "    }\n",
       "\n",
       "    .dataframe thead th {\n",
       "        text-align: right;\n",
       "    }\n",
       "</style>\n",
       "<table border=\"1\" class=\"dataframe\">\n",
       "  <thead>\n",
       "    <tr style=\"text-align: right;\">\n",
       "      <th></th>\n",
       "      <th>idx</th>\n",
       "      <th>time</th>\n",
       "      <th>res</th>\n",
       "      <th>res_str</th>\n",
       "    </tr>\n",
       "  </thead>\n",
       "  <tbody>\n",
       "    <tr>\n",
       "      <th>0</th>\n",
       "      <td>0</td>\n",
       "      <td>0.613416</td>\n",
       "      <td>0</td>\n",
       "      <td>0mod10</td>\n",
       "    </tr>\n",
       "    <tr>\n",
       "      <th>8</th>\n",
       "      <td>8</td>\n",
       "      <td>4.086326</td>\n",
       "      <td>8</td>\n",
       "      <td>8mod10</td>\n",
       "    </tr>\n",
       "    <tr>\n",
       "      <th>10</th>\n",
       "      <td>10</td>\n",
       "      <td>0.673394</td>\n",
       "      <td>0</td>\n",
       "      <td>0mod10</td>\n",
       "    </tr>\n",
       "    <tr>\n",
       "      <th>17</th>\n",
       "      <td>17</td>\n",
       "      <td>1.463308</td>\n",
       "      <td>7</td>\n",
       "      <td>7mod10</td>\n",
       "    </tr>\n",
       "    <tr>\n",
       "      <th>20</th>\n",
       "      <td>20</td>\n",
       "      <td>0.689228</td>\n",
       "      <td>0</td>\n",
       "      <td>0mod10</td>\n",
       "    </tr>\n",
       "    <tr>\n",
       "      <th>26</th>\n",
       "      <td>26</td>\n",
       "      <td>4.177011</td>\n",
       "      <td>6</td>\n",
       "      <td>6mod10</td>\n",
       "    </tr>\n",
       "    <tr>\n",
       "      <th>30</th>\n",
       "      <td>30</td>\n",
       "      <td>0.739352</td>\n",
       "      <td>0</td>\n",
       "      <td>0mod10</td>\n",
       "    </tr>\n",
       "    <tr>\n",
       "      <th>36</th>\n",
       "      <td>36</td>\n",
       "      <td>3.676944</td>\n",
       "      <td>6</td>\n",
       "      <td>6mod10</td>\n",
       "    </tr>\n",
       "    <tr>\n",
       "      <th>40</th>\n",
       "      <td>40</td>\n",
       "      <td>0.881639</td>\n",
       "      <td>0</td>\n",
       "      <td>0mod10</td>\n",
       "    </tr>\n",
       "    <tr>\n",
       "      <th>45</th>\n",
       "      <td>45</td>\n",
       "      <td>2.642899</td>\n",
       "      <td>5</td>\n",
       "      <td>5mod10</td>\n",
       "    </tr>\n",
       "    <tr>\n",
       "      <th>50</th>\n",
       "      <td>50</td>\n",
       "      <td>0.755014</td>\n",
       "      <td>0</td>\n",
       "      <td>0mod10</td>\n",
       "    </tr>\n",
       "    <tr>\n",
       "      <th>54</th>\n",
       "      <td>54</td>\n",
       "      <td>3.741727</td>\n",
       "      <td>4</td>\n",
       "      <td>4mod10</td>\n",
       "    </tr>\n",
       "    <tr>\n",
       "      <th>60</th>\n",
       "      <td>60</td>\n",
       "      <td>0.749150</td>\n",
       "      <td>0</td>\n",
       "      <td>0mod10</td>\n",
       "    </tr>\n",
       "    <tr>\n",
       "      <th>64</th>\n",
       "      <td>64</td>\n",
       "      <td>1.669432</td>\n",
       "      <td>4</td>\n",
       "      <td>4mod10</td>\n",
       "    </tr>\n",
       "    <tr>\n",
       "      <th>70</th>\n",
       "      <td>70</td>\n",
       "      <td>0.779802</td>\n",
       "      <td>0</td>\n",
       "      <td>0mod10</td>\n",
       "    </tr>\n",
       "    <tr>\n",
       "      <th>73</th>\n",
       "      <td>73</td>\n",
       "      <td>3.043092</td>\n",
       "      <td>3</td>\n",
       "      <td>3mod10</td>\n",
       "    </tr>\n",
       "    <tr>\n",
       "      <th>80</th>\n",
       "      <td>80</td>\n",
       "      <td>0.743353</td>\n",
       "      <td>0</td>\n",
       "      <td>0mod10</td>\n",
       "    </tr>\n",
       "    <tr>\n",
       "      <th>82</th>\n",
       "      <td>82</td>\n",
       "      <td>1.848040</td>\n",
       "      <td>2</td>\n",
       "      <td>2mod10</td>\n",
       "    </tr>\n",
       "    <tr>\n",
       "      <th>90</th>\n",
       "      <td>90</td>\n",
       "      <td>0.699973</td>\n",
       "      <td>0</td>\n",
       "      <td>0mod10</td>\n",
       "    </tr>\n",
       "    <tr>\n",
       "      <th>92</th>\n",
       "      <td>92</td>\n",
       "      <td>3.233683</td>\n",
       "      <td>2</td>\n",
       "      <td>2mod10</td>\n",
       "    </tr>\n",
       "    <tr>\n",
       "      <th>100</th>\n",
       "      <td>100</td>\n",
       "      <td>0.704161</td>\n",
       "      <td>0</td>\n",
       "      <td>0mod10</td>\n",
       "    </tr>\n",
       "    <tr>\n",
       "      <th>101</th>\n",
       "      <td>101</td>\n",
       "      <td>3.545159</td>\n",
       "      <td>1</td>\n",
       "      <td>1mod10</td>\n",
       "    </tr>\n",
       "    <tr>\n",
       "      <th>110</th>\n",
       "      <td>110</td>\n",
       "      <td>3.879495</td>\n",
       "      <td>0</td>\n",
       "      <td>0mod10</td>\n",
       "    </tr>\n",
       "    <tr>\n",
       "      <th>120</th>\n",
       "      <td>120</td>\n",
       "      <td>3.436804</td>\n",
       "      <td>0</td>\n",
       "      <td>0mod10</td>\n",
       "    </tr>\n",
       "  </tbody>\n",
       "</table>\n",
       "</div>"
      ],
      "text/plain": [
       "     idx      time  res res_str\n",
       "0      0  0.613416    0  0mod10\n",
       "8      8  4.086326    8  8mod10\n",
       "10    10  0.673394    0  0mod10\n",
       "17    17  1.463308    7  7mod10\n",
       "20    20  0.689228    0  0mod10\n",
       "26    26  4.177011    6  6mod10\n",
       "30    30  0.739352    0  0mod10\n",
       "36    36  3.676944    6  6mod10\n",
       "40    40  0.881639    0  0mod10\n",
       "45    45  2.642899    5  5mod10\n",
       "50    50  0.755014    0  0mod10\n",
       "54    54  3.741727    4  4mod10\n",
       "60    60  0.749150    0  0mod10\n",
       "64    64  1.669432    4  4mod10\n",
       "70    70  0.779802    0  0mod10\n",
       "73    73  3.043092    3  3mod10\n",
       "80    80  0.743353    0  0mod10\n",
       "82    82  1.848040    2  2mod10\n",
       "90    90  0.699973    0  0mod10\n",
       "92    92  3.233683    2  2mod10\n",
       "100  100  0.704161    0  0mod10\n",
       "101  101  3.545159    1  1mod10\n",
       "110  110  3.879495    0  0mod10\n",
       "120  120  3.436804    0  0mod10"
      ]
     },
     "execution_count": 17,
     "metadata": {},
     "output_type": "execute_result"
    }
   ],
   "source": [
    "ann = df[df.time > .5]\n",
    "ann"
   ]
  },
  {
   "cell_type": "code",
   "execution_count": 18,
   "id": "9bbe7687-edb0-4287-981f-96436ca40da6",
   "metadata": {},
   "outputs": [
    {
     "data": {
      "text/plain": [
       "PlotConfigs(fmt='fig', w=1200, h=800, save=[], v=True, i=None, dir=None, grid='#ccc', bg='white')"
      ]
     },
     "execution_count": 18,
     "metadata": {},
     "output_type": "execute_result"
    }
   ],
   "source": [
    "pc"
   ]
  },
  {
   "cell_type": "code",
   "execution_count": 19,
   "id": "823603b4-61ac-4edd-9047-921e6b0568a7",
   "metadata": {},
   "outputs": [
    {
     "name": "stderr",
     "output_type": "stream",
     "text": [
      "Saving: benchmark-batch-times-local.png\n",
      "Returning IPython Image\n"
     ]
    },
    {
     "data": {
      "image/png": "[encoded data removed]",
      "text/plain": [
       "<IPython.core.display.Image object>"
      ]
     },
     "execution_count": 19,
     "metadata": {},
     "output_type": "execute_result"
    }
   ],
   "source": [
    "fig = px.scatter(\n",
    "    df,\n",
    "    x='idx',\n",
    "    y='time',\n",
    "    # text='time',\n",
    "    color='res_str',\n",
    "    color_discrete_sequence=default_colors,\n",
    "    labels={ 'time': 'Batch time (s)', 'res_str': 'Batch idx', 'idx': 'Batch idx', },\n",
    "    log_y=True,\n",
    ").update_layout(\n",
    "    title=dict(text=f'Batch times ({method}, local census)'),\n",
    ").update_xaxes(\n",
    "    range=(-.5, len(df) - 1 + .5),\n",
    ").update_traces(\n",
    "    marker=dict(\n",
    "        size=12,\n",
    "    )\n",
    ")\n",
    "\n",
    "anns = ann.set_index('idx').time.to_dict().items()\n",
    "for idx, time in anns:\n",
    "    fig.add_annotation(\n",
    "        x=idx, y=log10(time),\n",
    "        showarrow=False,\n",
    "        text=f'{idx}',\n",
    "        xshift=7,\n",
    "        xanchor='left',\n",
    "    )\n",
    "\n",
    "plot(fig, 'benchmark-batch-times-local', fmt='png', save=['png'], w=1200, h=700,)"
   ]
  }
 ],
 "metadata": {
  "kernelspec": {
   "display_name": "Python 3 (ipykernel)",
   "language": "python",
   "name": "python3"
  },
  "language_info": {
   "codemirror_mode": {
    "name": "ipython",
    "version": 3
   },
   "file_extension": ".py",
   "mimetype": "text/x-python",
   "name": "python",
   "nbconvert_exporter": "python",
   "pygments_lexer": "ipython3",
   "version": "3.11.8"
  }
 },
 "nbformat": 4,
 "nbformat_minor": 5
}
