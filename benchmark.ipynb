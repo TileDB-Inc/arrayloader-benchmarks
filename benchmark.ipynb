{
 "cells": [
  {
   "cell_type": "code",
   "execution_count": 1,
   "id": "cf534d10-2611-43fc-94a1-11650b44e30a",
   "metadata": {},
   "outputs": [],
   "source": [
    "from utils import *\n",
    "\n",
    "import cellxgene_census\n",
    "from cellxgene_census.experimental.ml import ExperimentDataPipe, experiment_dataloader\n",
    "import somacore as soma\n",
    "from somacore import AxisQuery\n",
    "import torch\n",
    "from torch.utils.data import DataLoader\n",
    "torch.ones(2).cuda();"
   ]
  },
  {
   "cell_type": "markdown",
   "id": "ea210b2d-c864-4ca1-be75-44f465d04450",
   "metadata": {},
   "source": [
    "### [Papermill](https://papermill.readthedocs.io/en/latest/) params:"
   ]
  },
  {
   "cell_type": "code",
   "execution_count": 31,
   "id": "5bcfe840-ad0c-4b90-b977-384573638612",
   "metadata": {
    "editable": true,
    "slideshow": {
     "slide_type": ""
    },
    "tags": [
     "parameters"
    ]
   },
   "outputs": [],
   "source": [
    "# Set to None to fetch from S3\n",
    "census_uri = '/mnt/nvme/s3/cellxgene-census-public-us-west-2/cell-census/2023-12-15/soma'\n",
    "\n",
    "# Slice 138 total datasets\n",
    "start = 2\n",
    "end = 7\n",
    "\n",
    "n_epochs = 1\n",
    "BATCH_SIZE = 1024\n",
    "n_vars = 20_000\n",
    "SOMA_CHUNK_SIZE = 10_000\n",
    "\n",
    "# Misc\n",
    "peek_dataset_lens = None  # When set, initialize loaders and print `len`s for the first [this many] datasets\n",
    "\n",
    "# Plot configs\n",
    "period = 10  # Color batch timings by this modulus (to highlight periodic artifacts)\n",
    "ann_cutoff = .5  # Annotate plot with values for batch timings greater than this threshold\n",
    "log_plot = False\n",
    "width = 1200\n",
    "height = 700"
   ]
  },
  {
   "cell_type": "code",
   "execution_count": 3,
   "id": "e8e22305-4c80-40f8-ab55-067e2f7e2f1a",
   "metadata": {
    "editable": true,
    "slideshow": {
     "slide_type": ""
    },
    "tags": []
   },
   "outputs": [
    {
     "name": "stderr",
     "output_type": "stream",
     "text": [
      "Using local census\n"
     ]
    }
   ],
   "source": [
    "if not census_uri:\n",
    "    census_uri = None\n",
    "if census_uri and census_uri.startswith('/'):\n",
    "    census_loc = 'local'\n",
    "else:\n",
    "    census_loc = 'S3'\n",
    "err(f\"Using {census_loc} census\")"
   ]
  },
  {
   "cell_type": "code",
   "execution_count": 4,
   "id": "dee78f66-5b8f-4d38-9c5f-e96282808d31",
   "metadata": {
    "editable": true,
    "slideshow": {
     "slide_type": ""
    },
    "tags": []
   },
   "outputs": [
    {
     "data": {
      "text/plain": [
       "['8e10f1c4-8e98-41e5-b65f-8cd89a887122',\n",
       " 'b165f033-9dec-468a-9248-802fc6902a74',\n",
       " 'ff7d15fa-f4b6-4a0e-992e-fd0c9d088ded',\n",
       " 'fe1a73ab-a203-45fd-84e9-0f7fd19efcbd',\n",
       " 'fbf173f9-f809-4d84-9b65-ae205d35b523',\n",
       " 'fa554686-fc07-44dd-b2de-b726d82d26ec',\n",
       " 'f9034091-2e8f-4ac6-9874-e7b7eb566824',\n",
       " 'f8dda921-5fb4-4c94-a654-c6fc346bfd6d',\n",
       " 'f7d003d4-40d5-4de8-858c-a9a8b48fcc67',\n",
       " 'f6d9f2ad-5ec7-4d53-b7f0-ceb0e7bcd181']"
      ]
     },
     "execution_count": 4,
     "metadata": {},
     "output_type": "execute_result"
    }
   ],
   "source": [
    "census = cellxgene_census.open_soma(uri=census_uri)\n",
    "\n",
    "#reference = ln.Collection.filter(uid=\"1gsdckxvOvIjQgeDVS1F\").one().reference\n",
    "reference = '283d65eb-dd53-496d-adb7-7570c7caa443'\n",
    "query_collection_id = f\"collection_id == '{reference}'\"\n",
    "datasets =(census[\"census_info\"][\"datasets\"]\n",
    "           .read(column_names=[\"dataset_id\"], value_filter=query_collection_id)\n",
    "           .concat().to_pandas())[\"dataset_id\"].tolist()\n",
    "datasets[:10]"
   ]
  },
  {
   "cell_type": "code",
   "execution_count": 5,
   "id": "1c387c19-f218-4ddd-9686-a80f08a88b02",
   "metadata": {},
   "outputs": [
    {
     "data": {
      "text/plain": [
       "138"
      ]
     },
     "execution_count": 5,
     "metadata": {},
     "output_type": "execute_result"
    }
   ],
   "source": [
    "len(datasets)"
   ]
  },
  {
   "cell_type": "code",
   "execution_count": 6,
   "id": "73e0d831-da5d-41e0-ac4b-ac9e2e359a90",
   "metadata": {},
   "outputs": [
    {
     "data": {
      "text/plain": [
       "<Experiment 'file:///mnt/nvme/s3/cellxgene-census-public-us-west-2/cell-census/2023-12-15/soma/census_data/homo_sapiens' (open for 'r') (2 items)\n",
       "    'ms': 'file:///mnt/nvme/s3/cellxgene-census-public-us-west-2/cell-census/2023-12-15/soma/census_data/homo_sapiens/ms' (unopened)\n",
       "    'obs': 'file:///mnt/nvme/s3/cellxgene-census-public-us-west-2/cell-census/2023-12-15/soma/census_data/homo_sapiens/obs' (unopened)>"
      ]
     },
     "execution_count": 6,
     "metadata": {},
     "output_type": "execute_result"
    }
   ],
   "source": [
    "experiment = census[\"census_data\"][\"homo_sapiens\"]\n",
    "experiment"
   ]
  },
  {
   "cell_type": "code",
   "execution_count": 7,
   "id": "2a51a7e4-3af5-4d21-8c8b-91713540599e",
   "metadata": {},
   "outputs": [],
   "source": [
    "@dataclass\n",
    "class Exp:\n",
    "    datapipe: ExperimentDataPipe\n",
    "    loader: DataLoader"
   ]
  },
  {
   "cell_type": "code",
   "execution_count": 8,
   "id": "ac8ed548-8f2f-48c2-9eac-f6e5bb6174e4",
   "metadata": {},
   "outputs": [],
   "source": [
    "def get_exp_datapipe(start=None, end=None) -> Exp:\n",
    "    ds = datasets[slice(start, end)]\n",
    "    query_datasets = \"dataset_id in \" + str(ds)\n",
    "    experiment_datapipe = ExperimentDataPipe(\n",
    "        experiment,\n",
    "        measurement_name=\"RNA\",\n",
    "        X_name=\"raw\",\n",
    "        obs_query=AxisQuery(value_filter=query_datasets),\n",
    "        var_query=AxisQuery(coords=(slice(n_vars-1),)),\n",
    "        batch_size=BATCH_SIZE,\n",
    "        shuffle=True,\n",
    "        soma_chunk_size=SOMA_CHUNK_SIZE,\n",
    "    )\n",
    "    loader = experiment_dataloader(experiment_datapipe)\n",
    "    return Exp(experiment_datapipe, loader)"
   ]
  },
  {
   "cell_type": "markdown",
   "id": "80993178-384d-42c3-97a1-a6e405fdc207",
   "metadata": {
    "editable": true,
    "slideshow": {
     "slide_type": ""
    },
    "tags": []
   },
   "source": [
    "Optional: peek at `peek_dataset_lens` datasets' lengths:"
   ]
  },
  {
   "cell_type": "code",
   "execution_count": 9,
   "id": "a4fb0241-7ef8-4811-a7de-1786242476fe",
   "metadata": {
    "editable": true,
    "slideshow": {
     "slide_type": ""
    },
    "tags": []
   },
   "outputs": [
    {
     "name": "stdout",
     "output_type": "stream",
     "text": [
      "CPU times: user 15 µs, sys: 5 µs, total: 20 µs\n",
      "Wall time: 38.6 µs\n"
     ]
    }
   ],
   "source": [
    "%%time\n",
    "if peek_dataset_lens:\n",
    "    exps_prefix = [ get_exp_datapipe(start=i, n=1) for i in range(10) ]\n",
    "    print([ exp.datapipe.shape[0] for exp in exps_prefix ])"
   ]
  },
  {
   "cell_type": "code",
   "execution_count": 11,
   "id": "d7096ab2-54ca-4a64-9d9d-e94ffad8d7a6",
   "metadata": {},
   "outputs": [],
   "source": [
    "@dataclass\n",
    "class Batch:\n",
    "    batch: float\n",
    "    gc: Optional[float] = None"
   ]
  },
  {
   "cell_type": "code",
   "execution_count": 12,
   "id": "87d827ed-0fdf-48ba-a3ad-552692bf2c9a",
   "metadata": {},
   "outputs": [],
   "source": [
    "@dataclass\n",
    "class Epoch:\n",
    "    time_per_sample: float\n",
    "    samples_per_sec: float\n",
    "    batches: list[Batch]"
   ]
  },
  {
   "cell_type": "code",
   "execution_count": 13,
   "id": "f63d0b2a-f0b3-4a5d-ae09-63cad724b4ae",
   "metadata": {},
   "outputs": [],
   "source": [
    "@dataclass\n",
    "class Method:\n",
    "    name: str\n",
    "    epochs: list[Epoch]"
   ]
  },
  {
   "cell_type": "code",
   "execution_count": 14,
   "id": "00a5c54d-5a38-43d1-9332-ba9f1ca5b135",
   "metadata": {},
   "outputs": [],
   "source": [
    "@dataclass\n",
    "class Results:\n",
    "    census: Method\n",
    "    merlin: Optional[Method] = None\n",
    "    mapped_collection: Optional[Method] = None"
   ]
  },
  {
   "cell_type": "code",
   "execution_count": 15,
   "id": "a4a79d77-b0e0-48c0-9f50-df511142e938",
   "metadata": {
    "editable": true,
    "slideshow": {
     "slide_type": ""
    },
    "tags": []
   },
   "outputs": [],
   "source": [
    "def benchmark(exp: Exp) -> Epoch:\n",
    "    n_samples = exp.datapipe.shape[0]\n",
    "    loader_iter = exp.loader.__iter__()\n",
    "    # exclude first batch from benchmark as this includes the setup time\n",
    "    batch = next(loader_iter)\n",
    "    \n",
    "    num_iter = n_samples // BATCH_SIZE if n_samples is not None else None\n",
    "    \n",
    "    batches = []\n",
    "    start_time = batch_time = time()\n",
    "    \n",
    "    total = num_iter if num_iter is not None else len(loader_iter)\n",
    "    for i, batch in tqdm(enumerate(loader_iter), total=total):\n",
    "        X = batch[\"x\"] if isinstance(batch, dict) else batch[0] \n",
    "        # for pytorch DataLoader\n",
    "        # Merlin sends to cuda by default\n",
    "        if hasattr(X, \"is_cuda\") and not X.is_cuda:\n",
    "            X = X.cuda()\n",
    "        \n",
    "        if num_iter is not None and i == num_iter:\n",
    "            break\n",
    "\n",
    "        batch_elapsed = time() - batch_time\n",
    "\n",
    "        gc_time = None\n",
    "        if i % 10 == 0:\n",
    "            gc_before = time()\n",
    "            gc.collect()\n",
    "            gc_time = time() - gc_before\n",
    "\n",
    "        batches.append(Batch(batch_elapsed, gc_time))\n",
    "        batch_time = time()\n",
    "    \n",
    "    execution_time = time() - start_time\n",
    "    gc.collect()\n",
    "    \n",
    "    time_per_sample = (1e6 * execution_time) / (total * BATCH_SIZE)\n",
    "    print(f'time per sample: {time_per_sample:.2f} μs')\n",
    "    samples_per_sec = total * BATCH_SIZE / execution_time\n",
    "    print(f'samples per sec: {samples_per_sec:.2f} samples/sec')\n",
    "    \n",
    "    return Epoch(samples_per_sec=samples_per_sec, time_per_sample=time_per_sample, batches=batches)"
   ]
  },
  {
   "cell_type": "code",
   "execution_count": 16,
   "id": "7a614e15-a28d-45ce-a9a0-f22e9f78f824",
   "metadata": {},
   "outputs": [
    {
     "name": "stdout",
     "output_type": "stream",
     "text": [
      "CPU times: user 7.94 s, sys: 4.14 s, total: 12.1 s\n",
      "Wall time: 671 ms\n"
     ]
    },
    {
     "data": {
      "text/plain": [
       "133790"
      ]
     },
     "execution_count": 16,
     "metadata": {},
     "output_type": "execute_result"
    }
   ],
   "source": [
    "%%time\n",
    "exp = get_exp_datapipe(start=start, end=end)\n",
    "exp.datapipe.shape[0]"
   ]
  },
  {
   "cell_type": "markdown",
   "id": "58d03d4d-c3e3-43b7-8fc8-9674eb3832ec",
   "metadata": {},
   "source": [
    "## Run benchmark"
   ]
  },
  {
   "cell_type": "code",
   "execution_count": 17,
   "id": "c7610705-d2ec-4eb3-90e4-332626526728",
   "metadata": {},
   "outputs": [
    {
     "name": "stderr",
     "output_type": "stream",
     "text": [
      "100%|██████████████████| 130/130 [01:12<00:00,  1.79it/s]\n"
     ]
    },
    {
     "name": "stdout",
     "output_type": "stream",
     "text": [
      "time per sample: 544.27 μs\n",
      "samples per sec: 1837.32 samples/sec\n",
      "CPU times: user 1min 37s, sys: 50.6 s, total: 2min 27s\n",
      "Wall time: 1min 16s\n"
     ]
    }
   ],
   "source": [
    "%%time\n",
    "epochs = []\n",
    "for epoch in range(n_epochs):\n",
    "    epoch = benchmark(exp)\n",
    "    epochs.append(epoch)\n",
    "\n",
    "results = Results(\n",
    "    census=Method('census', epochs),\n",
    ")"
   ]
  },
  {
   "cell_type": "code",
   "execution_count": 18,
   "id": "14bcbc20-0853-4404-8766-141632991e8c",
   "metadata": {},
   "outputs": [],
   "source": [
    "results_json_path = f'results-{census_loc}.json'\n",
    "with open(results_json_path, 'w') as f:\n",
    "    json.dump(asdict(results), f, indent=2)\n",
    "    err(f\"Saved results to {results_json_path}\")"
   ]
  },
  {
   "cell_type": "code",
   "execution_count": 19,
   "id": "eb1fb31a-b7cf-416a-b801-dae42f03b397",
   "metadata": {},
   "outputs": [],
   "source": [
    "# with open(results_json_path, 'r') as f:\n",
    "#     results = Results(**json.load(f))"
   ]
  },
  {
   "cell_type": "markdown",
   "id": "ece8e5db-bf91-4fac-bd8e-48d747477f92",
   "metadata": {},
   "source": [
    "## Plot batch timings"
   ]
  },
  {
   "cell_type": "code",
   "execution_count": 20,
   "id": "1b6c7282-7c2a-464b-8b5a-e8dd44e789e4",
   "metadata": {
    "scrolled": true
   },
   "outputs": [
    {
     "data": {
      "text/html": [
       "<div>\n",
       "<style scoped>\n",
       "    .dataframe tbody tr th:only-of-type {\n",
       "        vertical-align: middle;\n",
       "    }\n",
       "\n",
       "    .dataframe tbody tr th {\n",
       "        vertical-align: top;\n",
       "    }\n",
       "\n",
       "    .dataframe thead th {\n",
       "        text-align: right;\n",
       "    }\n",
       "</style>\n",
       "<table border=\"1\" class=\"dataframe\">\n",
       "  <thead>\n",
       "    <tr style=\"text-align: right;\">\n",
       "      <th></th>\n",
       "      <th>idx</th>\n",
       "      <th>batch</th>\n",
       "      <th>gc</th>\n",
       "      <th>res</th>\n",
       "      <th>res_str</th>\n",
       "    </tr>\n",
       "  </thead>\n",
       "  <tbody>\n",
       "    <tr>\n",
       "      <th>0</th>\n",
       "      <td>0</td>\n",
       "      <td>0.149566</td>\n",
       "      <td>0.448649</td>\n",
       "      <td>0</td>\n",
       "      <td>0mod10</td>\n",
       "    </tr>\n",
       "    <tr>\n",
       "      <th>1</th>\n",
       "      <td>1</td>\n",
       "      <td>0.261206</td>\n",
       "      <td>NaN</td>\n",
       "      <td>1</td>\n",
       "      <td>1mod10</td>\n",
       "    </tr>\n",
       "    <tr>\n",
       "      <th>2</th>\n",
       "      <td>2</td>\n",
       "      <td>0.248069</td>\n",
       "      <td>NaN</td>\n",
       "      <td>2</td>\n",
       "      <td>2mod10</td>\n",
       "    </tr>\n",
       "    <tr>\n",
       "      <th>3</th>\n",
       "      <td>3</td>\n",
       "      <td>0.246372</td>\n",
       "      <td>NaN</td>\n",
       "      <td>3</td>\n",
       "      <td>3mod10</td>\n",
       "    </tr>\n",
       "    <tr>\n",
       "      <th>4</th>\n",
       "      <td>4</td>\n",
       "      <td>0.238690</td>\n",
       "      <td>NaN</td>\n",
       "      <td>4</td>\n",
       "      <td>4mod10</td>\n",
       "    </tr>\n",
       "    <tr>\n",
       "      <th>...</th>\n",
       "      <td>...</td>\n",
       "      <td>...</td>\n",
       "      <td>...</td>\n",
       "      <td>...</td>\n",
       "      <td>...</td>\n",
       "    </tr>\n",
       "    <tr>\n",
       "      <th>125</th>\n",
       "      <td>125</td>\n",
       "      <td>0.109494</td>\n",
       "      <td>NaN</td>\n",
       "      <td>5</td>\n",
       "      <td>5mod10</td>\n",
       "    </tr>\n",
       "    <tr>\n",
       "      <th>126</th>\n",
       "      <td>126</td>\n",
       "      <td>0.110607</td>\n",
       "      <td>NaN</td>\n",
       "      <td>6</td>\n",
       "      <td>6mod10</td>\n",
       "    </tr>\n",
       "    <tr>\n",
       "      <th>127</th>\n",
       "      <td>127</td>\n",
       "      <td>0.103730</td>\n",
       "      <td>NaN</td>\n",
       "      <td>7</td>\n",
       "      <td>7mod10</td>\n",
       "    </tr>\n",
       "    <tr>\n",
       "      <th>128</th>\n",
       "      <td>128</td>\n",
       "      <td>0.109828</td>\n",
       "      <td>NaN</td>\n",
       "      <td>8</td>\n",
       "      <td>8mod10</td>\n",
       "    </tr>\n",
       "    <tr>\n",
       "      <th>129</th>\n",
       "      <td>129</td>\n",
       "      <td>0.255908</td>\n",
       "      <td>NaN</td>\n",
       "      <td>9</td>\n",
       "      <td>9mod10</td>\n",
       "    </tr>\n",
       "  </tbody>\n",
       "</table>\n",
       "<p>130 rows × 5 columns</p>\n",
       "</div>"
      ],
      "text/plain": [
       "     idx     batch        gc  res res_str\n",
       "0      0  0.149566  0.448649    0  0mod10\n",
       "1      1  0.261206       NaN    1  1mod10\n",
       "2      2  0.248069       NaN    2  2mod10\n",
       "3      3  0.246372       NaN    3  3mod10\n",
       "4      4  0.238690       NaN    4  4mod10\n",
       "..   ...       ...       ...  ...     ...\n",
       "125  125  0.109494       NaN    5  5mod10\n",
       "126  126  0.110607       NaN    6  6mod10\n",
       "127  127  0.103730       NaN    7  7mod10\n",
       "128  128  0.109828       NaN    8  8mod10\n",
       "129  129  0.255908       NaN    9  9mod10\n",
       "\n",
       "[130 rows x 5 columns]"
      ]
     },
     "execution_count": 20,
     "metadata": {},
     "output_type": "execute_result"
    }
   ],
   "source": [
    "method = 'census'\n",
    "epoch = 0\n",
    "batches = getattr(results, 'census').epochs[epoch].batches\n",
    "df = pd.DataFrame(batches)\n",
    "df.index.name = 'idx'\n",
    "if period:\n",
    "    df['res'] = df.index % period\n",
    "    df['res_str'] = df.res.astype('str') + f'mod{period}'\n",
    "df = df.reset_index()\n",
    "df"
   ]
  },
  {
   "cell_type": "code",
   "execution_count": 21,
   "id": "703da7d9-035a-4b9f-8062-62c509458391",
   "metadata": {
    "scrolled": true
   },
   "outputs": [
    {
     "data": {
      "text/html": [
       "<div>\n",
       "<style scoped>\n",
       "    .dataframe tbody tr th:only-of-type {\n",
       "        vertical-align: middle;\n",
       "    }\n",
       "\n",
       "    .dataframe tbody tr th {\n",
       "        vertical-align: top;\n",
       "    }\n",
       "\n",
       "    .dataframe thead th {\n",
       "        text-align: right;\n",
       "    }\n",
       "</style>\n",
       "<table border=\"1\" class=\"dataframe\">\n",
       "  <thead>\n",
       "    <tr style=\"text-align: right;\">\n",
       "      <th></th>\n",
       "      <th>idx</th>\n",
       "      <th>batch</th>\n",
       "      <th>gc</th>\n",
       "      <th>res</th>\n",
       "      <th>res_str</th>\n",
       "    </tr>\n",
       "  </thead>\n",
       "  <tbody>\n",
       "    <tr>\n",
       "      <th>8</th>\n",
       "      <td>8</td>\n",
       "      <td>4.738242</td>\n",
       "      <td>NaN</td>\n",
       "      <td>8</td>\n",
       "      <td>8mod10</td>\n",
       "    </tr>\n",
       "    <tr>\n",
       "      <th>17</th>\n",
       "      <td>17</td>\n",
       "      <td>1.822496</td>\n",
       "      <td>NaN</td>\n",
       "      <td>7</td>\n",
       "      <td>7mod10</td>\n",
       "    </tr>\n",
       "    <tr>\n",
       "      <th>26</th>\n",
       "      <td>26</td>\n",
       "      <td>3.779912</td>\n",
       "      <td>NaN</td>\n",
       "      <td>6</td>\n",
       "      <td>6mod10</td>\n",
       "    </tr>\n",
       "    <tr>\n",
       "      <th>36</th>\n",
       "      <td>36</td>\n",
       "      <td>3.579571</td>\n",
       "      <td>NaN</td>\n",
       "      <td>6</td>\n",
       "      <td>6mod10</td>\n",
       "    </tr>\n",
       "    <tr>\n",
       "      <th>45</th>\n",
       "      <td>45</td>\n",
       "      <td>1.376704</td>\n",
       "      <td>NaN</td>\n",
       "      <td>5</td>\n",
       "      <td>5mod10</td>\n",
       "    </tr>\n",
       "    <tr>\n",
       "      <th>54</th>\n",
       "      <td>54</td>\n",
       "      <td>3.041019</td>\n",
       "      <td>NaN</td>\n",
       "      <td>4</td>\n",
       "      <td>4mod10</td>\n",
       "    </tr>\n",
       "    <tr>\n",
       "      <th>64</th>\n",
       "      <td>64</td>\n",
       "      <td>3.031327</td>\n",
       "      <td>NaN</td>\n",
       "      <td>4</td>\n",
       "      <td>4mod10</td>\n",
       "    </tr>\n",
       "    <tr>\n",
       "      <th>73</th>\n",
       "      <td>73</td>\n",
       "      <td>2.607092</td>\n",
       "      <td>NaN</td>\n",
       "      <td>3</td>\n",
       "      <td>3mod10</td>\n",
       "    </tr>\n",
       "    <tr>\n",
       "      <th>82</th>\n",
       "      <td>82</td>\n",
       "      <td>2.141476</td>\n",
       "      <td>NaN</td>\n",
       "      <td>2</td>\n",
       "      <td>2mod10</td>\n",
       "    </tr>\n",
       "    <tr>\n",
       "      <th>92</th>\n",
       "      <td>92</td>\n",
       "      <td>3.029560</td>\n",
       "      <td>NaN</td>\n",
       "      <td>2</td>\n",
       "      <td>2mod10</td>\n",
       "    </tr>\n",
       "    <tr>\n",
       "      <th>101</th>\n",
       "      <td>101</td>\n",
       "      <td>4.105495</td>\n",
       "      <td>NaN</td>\n",
       "      <td>1</td>\n",
       "      <td>1mod10</td>\n",
       "    </tr>\n",
       "    <tr>\n",
       "      <th>110</th>\n",
       "      <td>110</td>\n",
       "      <td>4.469095</td>\n",
       "      <td>0.467571</td>\n",
       "      <td>0</td>\n",
       "      <td>0mod10</td>\n",
       "    </tr>\n",
       "    <tr>\n",
       "      <th>120</th>\n",
       "      <td>120</td>\n",
       "      <td>2.497697</td>\n",
       "      <td>0.479322</td>\n",
       "      <td>0</td>\n",
       "      <td>0mod10</td>\n",
       "    </tr>\n",
       "  </tbody>\n",
       "</table>\n",
       "</div>"
      ],
      "text/plain": [
       "     idx     batch        gc  res res_str\n",
       "8      8  4.738242       NaN    8  8mod10\n",
       "17    17  1.822496       NaN    7  7mod10\n",
       "26    26  3.779912       NaN    6  6mod10\n",
       "36    36  3.579571       NaN    6  6mod10\n",
       "45    45  1.376704       NaN    5  5mod10\n",
       "54    54  3.041019       NaN    4  4mod10\n",
       "64    64  3.031327       NaN    4  4mod10\n",
       "73    73  2.607092       NaN    3  3mod10\n",
       "82    82  2.141476       NaN    2  2mod10\n",
       "92    92  3.029560       NaN    2  2mod10\n",
       "101  101  4.105495       NaN    1  1mod10\n",
       "110  110  4.469095  0.467571    0  0mod10\n",
       "120  120  2.497697  0.479322    0  0mod10"
      ]
     },
     "execution_count": 21,
     "metadata": {},
     "output_type": "execute_result"
    }
   ],
   "source": [
    "ann = df[df.batch > ann_cutoff] if ann_cutoff else df[[]]\n",
    "ann"
   ]
  },
  {
   "cell_type": "code",
   "execution_count": 22,
   "id": "9bbe7687-edb0-4287-981f-96436ca40da6",
   "metadata": {},
   "outputs": [
    {
     "data": {
      "text/plain": [
       "PlotConfigs(fmt='fig', w=1200, h=800, save=[], v=True, i=None, dir=None, grid='#ccc', bg='white')"
      ]
     },
     "execution_count": 22,
     "metadata": {},
     "output_type": "execute_result"
    }
   ],
   "source": [
    "pc"
   ]
  },
  {
   "cell_type": "code",
   "execution_count": 33,
   "id": "823603b4-61ac-4edd-9047-921e6b0568a7",
   "metadata": {},
   "outputs": [
    {
     "name": "stderr",
     "output_type": "stream",
     "text": [
      "Saving: img/census-local.png\n",
      "Returning IPython Image\n"
     ]
    },
    {
     "data": {
      "image/png": "[encoded data removed]",
      "text/plain": [
       "<IPython.core.display.Image object>"
      ]
     },
     "execution_count": 33,
     "metadata": {},
     "output_type": "execute_result"
    }
   ],
   "source": [
    "fig = px.bar(\n",
    "    df.set_index('idx')[['batch', 'gc']],\n",
    "    barmode='stack',\n",
    "    labels={\n",
    "        'idx': 'Batch idx',\n",
    "        'variable': '',\n",
    "        'value': 'Time (s)',\n",
    "    },\n",
    "    log_y=log_plot,\n",
    ").update_layout(\n",
    "    title=dict(text=f'Batch+GC times ({method} / {census_loc})'),\n",
    ").update_xaxes(\n",
    "    range=(-.5, len(df) - 1 + .5),\n",
    ")\n",
    "\n",
    "if not ann.empty:\n",
    "    anns = ann.set_index('idx').batch.to_dict().items()\n",
    "    for idx, batch in anns:\n",
    "        fig.add_annotation(\n",
    "            x=idx, y=log10(batch) if log_plot else batch,\n",
    "            showarrow=False,\n",
    "            text=f'{idx}: {batch:.1f}s',\n",
    "            xshift=7,\n",
    "            xanchor='left',\n",
    "        )\n",
    "\n",
    "plot(fig, f'census-{census_loc}', fmt='png', save=['png'], w=width, h=height, dir='img',)"
   ]
  }
 ],
 "metadata": {
  "kernelspec": {
   "display_name": "Python 3 (ipykernel)",
   "language": "python",
   "name": "python3"
  },
  "language_info": {
   "codemirror_mode": {
    "name": "ipython",
    "version": 3
   },
   "file_extension": ".py",
   "mimetype": "text/x-python",
   "name": "python",
   "nbconvert_exporter": "python",
   "pygments_lexer": "ipython3",
   "version": "3.11.8"
  }
 },
 "nbformat": 4,
 "nbformat_minor": 5
}
