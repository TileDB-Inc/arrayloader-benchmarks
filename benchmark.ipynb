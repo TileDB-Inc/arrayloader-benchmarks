{
 "cells": [
  {
   "cell_type": "code",
   "execution_count": null,
   "id": "cf534d10-2611-43fc-94a1-11650b44e30a",
   "metadata": {},
   "outputs": [],
   "source": [
    "from benchmark import *\n",
    "from utils import *\n",
    "\n",
    "from cellxgene_census.experimental.ml import ExperimentDataPipe, experiment_dataloader\n",
    "import torch\n",
    "from torch.utils.data import DataLoader\n",
    "torch.ones(2).cuda();"
   ]
  },
  {
   "cell_type": "markdown",
   "id": "ea210b2d-c864-4ca1-be75-44f465d04450",
   "metadata": {},
   "source": [
    "### [Papermill](https://papermill.readthedocs.io/en/latest/) params:"
   ]
  },
  {
   "cell_type": "code",
   "execution_count": null,
   "id": "5bcfe840-ad0c-4b90-b977-384573638612",
   "metadata": {
    "editable": true,
    "slideshow": {
     "slide_type": ""
    },
    "tags": [
     "parameters"
    ]
   },
   "outputs": [],
   "source": [
    "# Set this to read from a local path\n",
    "experiment_uri = None\n",
    "\n",
    "# None ⟹ fetch from S3\n",
    "census_uri = None\n",
    "#census_uri = '/mnt/nvme/s3/cellxgene-census-public-us-west-2/cell-census/2023-12-15/soma'\n",
    "census_version = \"2023-12-15\"\n",
    "\n",
    "# By default:\n",
    "# - `subset` if `experiment_uri` is a local path\n",
    "# - `local` if `census_uri` is a local path\n",
    "# - current (EC2 instance) region if `census_uri` is None (e.g. `us-east-1`, `us-west-2`)\n",
    "name = None\n",
    "\n",
    "collection_id = '283d65eb-dd53-496d-adb7-7570c7caa443'\n",
    "# Slice datasets from `collection_id`\n",
    "start = 2\n",
    "end = 7\n",
    "\n",
    "n_epochs = 1\n",
    "batch_size = 1024\n",
    "n_vars = 20_000\n",
    "soma_chunk_size = 10_000\n",
    "gc_freq: Optional[int] = None  # When set, run `gc.collect()` every `gc_freq` batches\n",
    "exclude_first_batch = True\n",
    "progress_bar = True\n",
    "\n",
    "# Plot configs\n",
    "ann_cutoff = .5  # Annotate plot with values for batch timings greater than this threshold\n",
    "log_plot = False\n",
    "width = 1200\n",
    "height = 700"
   ]
  },
  {
   "cell_type": "code",
   "execution_count": null,
   "id": "a7a60456-92dc-466d-b3ca-a6d5df4c5121",
   "metadata": {
    "editable": true,
    "slideshow": {
     "slide_type": ""
    },
    "tags": []
   },
   "outputs": [],
   "source": [
    "var_query = AxisQuery(coords=(slice(n_vars - 1),)) if n_vars else None\n",
    "\n",
    "if experiment_uri:\n",
    "    err(f\"Loading experiment {experiment_uri}\")\n",
    "    with profile('open'):\n",
    "        experiment = Experiment.open(experiment_uri)\n",
    "    obs_query = None\n",
    "    if name is None:\n",
    "        scheme = urlparse(experiment_uri).scheme\n",
    "        if is_local(experiment_uri):\n",
    "            name = 'subset'\n",
    "else:\n",
    "    if not census_uri:\n",
    "        census_uri = None\n",
    "    \n",
    "    if name is None:\n",
    "        if census_uri and is_local(census_uri):\n",
    "            name = 'local'\n",
    "        else:\n",
    "            name = get_region()\n",
    "    \n",
    "    err(f\"Loading census ({name})\")\n",
    "\n",
    "    with profile('open_soma'):\n",
    "        census = cellxgene_census.open_soma(uri=census_uri, census_version=census_version)\n",
    "    \n",
    "    datasets = get_datasets(census, collection_id, 'datasets')\n",
    "    err(f\"{len(datasets)} datasets: {datasets[:10]}\")\n",
    "    \n",
    "    experiment = census[\"census_data\"][\"homo_sapiens\"]\n",
    "    ds = datasets[slice(start, end)]\n",
    "    datasets_query = \"dataset_id in \" + str(ds)\n",
    "    obs_query = AxisQuery(value_filter=datasets_query)\n",
    "\n",
    "if not name:\n",
    "    raise ValueError(\"`name` not set\")\n",
    "\n",
    "experiment"
   ]
  },
  {
   "cell_type": "code",
   "execution_count": null,
   "id": "ac8ed548-8f2f-48c2-9eac-f6e5bb6174e4",
   "metadata": {},
   "outputs": [],
   "source": [
    "%%time\n",
    "with profile('get_exp_datapipe'):\n",
    "    experiment_datapipe = ExperimentDataPipe(\n",
    "        experiment,\n",
    "        measurement_name=\"RNA\",\n",
    "        X_name=\"raw\",\n",
    "        obs_query=obs_query,\n",
    "        var_query=var_query,\n",
    "        batch_size=batch_size,\n",
    "        shuffle=True,\n",
    "        soma_chunk_size=soma_chunk_size,\n",
    "    )\n",
    "    loader = experiment_dataloader(experiment_datapipe)\n",
    "exp = Exp(experiment_datapipe, loader)\n",
    "exp"
   ]
  },
  {
   "cell_type": "code",
   "execution_count": null,
   "id": "7a614e15-a28d-45ce-a9a0-f22e9f78f824",
   "metadata": {},
   "outputs": [],
   "source": [
    "%%time\n",
    "exp.datapipe.shape[0]"
   ]
  },
  {
   "cell_type": "markdown",
   "id": "58d03d4d-c3e3-43b7-8fc8-9674eb3832ec",
   "metadata": {},
   "source": [
    "## Run benchmark"
   ]
  },
  {
   "cell_type": "code",
   "execution_count": null,
   "id": "c7610705-d2ec-4eb3-90e4-332626526728",
   "metadata": {},
   "outputs": [],
   "source": [
    "%%time\n",
    "epochs = []\n",
    "for epoch in range(n_epochs):\n",
    "    with profile(f'benchmark-epoch{epoch}'):\n",
    "        epoch = benchmark(\n",
    "            exp,\n",
    "            batch_size=batch_size,\n",
    "            gc_freq=gc_freq,\n",
    "            exclude_first_batch=exclude_first_batch,\n",
    "            progress_bar=progress_bar,\n",
    "        )\n",
    "    epochs.append(epoch)\n",
    "\n",
    "results = Results(\n",
    "    census=Method('census', epochs),\n",
    ")"
   ]
  },
  {
   "cell_type": "code",
   "execution_count": null,
   "id": "2706d88d-48b1-4ea2-ab93-56c7858eceaa",
   "metadata": {},
   "outputs": [],
   "source": [
    "tdb.stats"
   ]
  },
  {
   "cell_type": "code",
   "execution_count": null,
   "id": "8413e0fa-abfc-445b-9b45-56699e3c1547",
   "metadata": {},
   "outputs": [],
   "source": [
    "tdbs.stats"
   ]
  },
  {
   "cell_type": "code",
   "execution_count": null,
   "id": "14bcbc20-0853-4404-8766-141632991e8c",
   "metadata": {},
   "outputs": [],
   "source": [
    "results_json_path = f'results/{name}.json'\n",
    "with open(results_json_path, 'w') as f:\n",
    "    json.dump(asdict(results), f, indent=2)\n",
    "    err(f\"Saved results to {results_json_path}\")"
   ]
  },
  {
   "cell_type": "code",
   "execution_count": null,
   "id": "eb1fb31a-b7cf-416a-b801-dae42f03b397",
   "metadata": {},
   "outputs": [],
   "source": [
    "# with open(results_json_path, 'r') as f:\n",
    "#     results = Results(**json.load(f))"
   ]
  },
  {
   "cell_type": "markdown",
   "id": "ece8e5db-bf91-4fac-bd8e-48d747477f92",
   "metadata": {},
   "source": [
    "## Plot batch timings"
   ]
  },
  {
   "cell_type": "code",
   "execution_count": null,
   "id": "1b6c7282-7c2a-464b-8b5a-e8dd44e789e4",
   "metadata": {
    "scrolled": true
   },
   "outputs": [],
   "source": [
    "method = 'census'\n",
    "epoch = 0\n",
    "batches = getattr(results, 'census').epochs[epoch].batches\n",
    "df = pd.DataFrame(batches)\n",
    "df['gc'] = df['gc'].fillna(nan)\n",
    "if df.gc.isna().all():\n",
    "    df = df.drop(columns='gc')\n",
    "df.index.name = 'idx'\n",
    "df = df.reset_index()\n",
    "df"
   ]
  },
  {
   "cell_type": "code",
   "execution_count": null,
   "id": "703da7d9-035a-4b9f-8062-62c509458391",
   "metadata": {
    "scrolled": true
   },
   "outputs": [],
   "source": [
    "ann = df[df.batch > ann_cutoff] if ann_cutoff else df[[]]\n",
    "ann"
   ]
  },
  {
   "cell_type": "code",
   "execution_count": null,
   "id": "9bbe7687-edb0-4287-981f-96436ca40da6",
   "metadata": {},
   "outputs": [],
   "source": [
    "pc"
   ]
  },
  {
   "cell_type": "code",
   "execution_count": null,
   "id": "823603b4-61ac-4edd-9047-921e6b0568a7",
   "metadata": {},
   "outputs": [],
   "source": [
    "fig = px.bar(\n",
    "    df.set_index('idx')[['batch', *(['gc'] if 'gc' in df else [])]],\n",
    "    barmode='stack',\n",
    "    labels={\n",
    "        'idx': 'Batch idx',\n",
    "        'variable': '',\n",
    "        'value': 'Time (s)',\n",
    "    },\n",
    "    log_y=log_plot,\n",
    ").update_layout(\n",
    "    title=dict(text=f'Batch+GC times ({method} / {name})'),\n",
    ").update_xaxes(\n",
    "    range=(-.5, len(df) - 1 + .5),\n",
    ")\n",
    "\n",
    "if not ann.empty:\n",
    "    anns = ann.set_index('idx').batch.to_dict().items()\n",
    "    for idx, batch in anns:\n",
    "        fig.add_annotation(\n",
    "            x=idx, y=log10(batch) if log_plot else batch,\n",
    "            showarrow=False,\n",
    "            text=f'{idx}: {batch:.1f}s',\n",
    "            xshift=7,\n",
    "            xanchor='left',\n",
    "        )\n",
    "\n",
    "plot(fig, f'census-{name}', fmt='png', save=['png'], w=width, h=height, dir='img',)"
   ]
  }
 ],
 "metadata": {
  "kernelspec": {
   "display_name": "Python 3 (ipykernel)",
   "language": "python",
   "name": "python3"
  },
  "language_info": {
   "codemirror_mode": {
    "name": "ipython",
    "version": 3
   },
   "file_extension": ".py",
   "mimetype": "text/x-python",
   "name": "python",
   "nbconvert_exporter": "python",
   "pygments_lexer": "ipython3",
   "version": "3.11.8"
  }
 },
 "nbformat": 4,
 "nbformat_minor": 5
}
