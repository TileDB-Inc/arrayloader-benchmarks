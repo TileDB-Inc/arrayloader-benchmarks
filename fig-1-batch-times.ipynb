{
 "cells": [
  {
   "cell_type": "markdown",
   "id": "f591ec86",
   "metadata": {},
   "source": [
    "# Array-loader batch timings\n",
    "\n",
    "Inspecting batch timings from Fig 1, panel 1 of Lamin.ai's [\"Training foundation models on large collections of scRNA-seq data\"][blog post]: \n",
    "\n",
    "![](fig1panel1.svg)\n",
    "\n",
    "- Blog post direct link: \"[A large-scale benchmark]\"\n",
    "- Source notebook [on lamin.ai](https://lamin.ai/laminlabs/arrayloader-benchmarks/transform/faAhgiIDemaP4BB5), [in this repo](./Plot%20Figure%201.ipynb)\n",
    "\n",
    "[A large-scale benchmark]: https://lamin.ai/blog/arrayloader-benchmarks#a-large-scale-benchmark\n",
    "[blog post]: https://lamin.ai/blog/arrayloader-benchmarks#non-sharded-loading-from-local-array-backends"
   ]
  },
  {
   "cell_type": "code",
   "execution_count": 1,
   "id": "c107369b",
   "metadata": {
    "tags": []
   },
   "outputs": [],
   "source": [
    "import pandas as pd\n",
    "from IPython.display import Markdown\n",
    "\n",
    "from os.path import splitext\n",
    "from sys import stderr\n",
    "def err(msg):\n",
    "    stderr.write(msg)\n",
    "    stderr.write('\\n')"
   ]
  },
  {
   "cell_type": "markdown",
   "id": "bceb42fa",
   "metadata": {},
   "source": [
    "## Inspect `batch_times` distribution for MappedCollection, Merlin, and CELLxGENE Census benchmarks"
   ]
  },
  {
   "cell_type": "code",
   "execution_count": 2,
   "id": "715c7e31-b87c-4f24-bab7-5980fcbbaca1",
   "metadata": {},
   "outputs": [
    {
     "data": {
      "text/html": [
       "<div>\n",
       "<style scoped>\n",
       "    .dataframe tbody tr th:only-of-type {\n",
       "        vertical-align: middle;\n",
       "    }\n",
       "\n",
       "    .dataframe tbody tr th {\n",
       "        vertical-align: top;\n",
       "    }\n",
       "\n",
       "    .dataframe thead th {\n",
       "        text-align: right;\n",
       "    }\n",
       "</style>\n",
       "<table border=\"1\" class=\"dataframe\">\n",
       "  <thead>\n",
       "    <tr style=\"text-align: right;\">\n",
       "      <th></th>\n",
       "      <th>method</th>\n",
       "      <th>epoch</th>\n",
       "      <th>batch_times</th>\n",
       "    </tr>\n",
       "  </thead>\n",
       "  <tbody>\n",
       "    <tr>\n",
       "      <th>0</th>\n",
       "      <td>Merlin</td>\n",
       "      <td>0</td>\n",
       "      <td>0.586334</td>\n",
       "    </tr>\n",
       "    <tr>\n",
       "      <th>1</th>\n",
       "      <td>Merlin</td>\n",
       "      <td>0</td>\n",
       "      <td>0.015708</td>\n",
       "    </tr>\n",
       "    <tr>\n",
       "      <th>2</th>\n",
       "      <td>Merlin</td>\n",
       "      <td>0</td>\n",
       "      <td>0.189669</td>\n",
       "    </tr>\n",
       "    <tr>\n",
       "      <th>3</th>\n",
       "      <td>Merlin</td>\n",
       "      <td>0</td>\n",
       "      <td>0.171891</td>\n",
       "    </tr>\n",
       "    <tr>\n",
       "      <th>4</th>\n",
       "      <td>Merlin</td>\n",
       "      <td>0</td>\n",
       "      <td>0.184234</td>\n",
       "    </tr>\n",
       "    <tr>\n",
       "      <th>...</th>\n",
       "      <td>...</td>\n",
       "      <td>...</td>\n",
       "      <td>...</td>\n",
       "    </tr>\n",
       "    <tr>\n",
       "      <th>9865</th>\n",
       "      <td>Census</td>\n",
       "      <td>4</td>\n",
       "      <td>0.041398</td>\n",
       "    </tr>\n",
       "    <tr>\n",
       "      <th>9866</th>\n",
       "      <td>Census</td>\n",
       "      <td>4</td>\n",
       "      <td>0.046678</td>\n",
       "    </tr>\n",
       "    <tr>\n",
       "      <th>9867</th>\n",
       "      <td>Census</td>\n",
       "      <td>4</td>\n",
       "      <td>0.041140</td>\n",
       "    </tr>\n",
       "    <tr>\n",
       "      <th>9868</th>\n",
       "      <td>Census</td>\n",
       "      <td>4</td>\n",
       "      <td>0.093823</td>\n",
       "    </tr>\n",
       "    <tr>\n",
       "      <th>9869</th>\n",
       "      <td>Census</td>\n",
       "      <td>4</td>\n",
       "      <td>0.511503</td>\n",
       "    </tr>\n",
       "  </tbody>\n",
       "</table>\n",
       "<p>148045 rows × 3 columns</p>\n",
       "</div>"
      ],
      "text/plain": [
       "      method  epoch  batch_times\n",
       "0     Merlin      0     0.586334\n",
       "1     Merlin      0     0.015708\n",
       "2     Merlin      0     0.189669\n",
       "3     Merlin      0     0.171891\n",
       "4     Merlin      0     0.184234\n",
       "...      ...    ...          ...\n",
       "9865  Census      4     0.041398\n",
       "9866  Census      4     0.046678\n",
       "9867  Census      4     0.041140\n",
       "9868  Census      4     0.093823\n",
       "9869  Census      4     0.511503\n",
       "\n",
       "[148045 rows x 3 columns]"
      ]
     },
     "execution_count": 2,
     "metadata": {},
     "output_type": "execute_result"
    }
   ],
   "source": [
    "df = pd.read_parquet('WDNVolxzqPiZ2Mtus9vJ.parquet')\n",
    "df.method = df.method.astype(pd.CategoricalDtype(df.method.unique()))\n",
    "df"
   ]
  },
  {
   "cell_type": "markdown",
   "id": "639b623a",
   "metadata": {},
   "source": [
    "The dataframe index here enumerates the batch-loading operation within an epoch."
   ]
  },
  {
   "cell_type": "code",
   "execution_count": 3,
   "id": "e55edd58-ad2b-46c4-9d05-b0b7bc096ee1",
   "metadata": {},
   "outputs": [
    {
     "data": {
      "text/plain": [
       "method            epoch\n",
       "Merlin            0        9870\n",
       "                  1        9870\n",
       "                  2        9870\n",
       "                  3        9870\n",
       "                  4        9870\n",
       "Census            0        9870\n",
       "                  1        9870\n",
       "                  2        9870\n",
       "                  3        9870\n",
       "                  4        9870\n",
       "MappedCollection  0        9869\n",
       "                  1        9869\n",
       "                  2        9869\n",
       "                  3        9869\n",
       "                  4        9869\n",
       "Name: count, dtype: int64"
      ]
     },
     "execution_count": 3,
     "metadata": {},
     "output_type": "execute_result"
    }
   ],
   "source": [
    "df[['method', 'epoch']].value_counts()"
   ]
  },
  {
   "cell_type": "code",
   "execution_count": 4,
   "id": "519229b4-c76f-4613-8bd4-a6aa6045cd44",
   "metadata": {},
   "outputs": [
    {
     "data": {
      "text/plain": [
       "(9870, 5)"
      ]
     },
     "execution_count": 4,
     "metadata": {},
     "output_type": "execute_result"
    }
   ],
   "source": [
    "nbatches = df[['method', 'epoch']].value_counts().value_counts().index[0]\n",
    "nepochs = 5\n",
    "nbatches, nepochs"
   ]
  },
  {
   "cell_type": "code",
   "execution_count": 5,
   "id": "544894bb-c5ce-472a-b4c1-716d25ee6a70",
   "metadata": {},
   "outputs": [
    {
     "data": {
      "text/html": [
       "<div>\n",
       "<style scoped>\n",
       "    .dataframe tbody tr th:only-of-type {\n",
       "        vertical-align: middle;\n",
       "    }\n",
       "\n",
       "    .dataframe tbody tr th {\n",
       "        vertical-align: top;\n",
       "    }\n",
       "\n",
       "    .dataframe thead th {\n",
       "        text-align: right;\n",
       "    }\n",
       "</style>\n",
       "<table border=\"1\" class=\"dataframe\">\n",
       "  <thead>\n",
       "    <tr style=\"text-align: right;\">\n",
       "      <th></th>\n",
       "      <th></th>\n",
       "      <th></th>\n",
       "      <th>batch_time_sum</th>\n",
       "      <th>time_frac</th>\n",
       "      <th>batch_frac</th>\n",
       "      <th>batch_time_sum_mins</th>\n",
       "    </tr>\n",
       "    <tr>\n",
       "      <th>method</th>\n",
       "      <th>epoch</th>\n",
       "      <th>batch_idx</th>\n",
       "      <th></th>\n",
       "      <th></th>\n",
       "      <th></th>\n",
       "      <th></th>\n",
       "    </tr>\n",
       "  </thead>\n",
       "  <tbody>\n",
       "    <tr>\n",
       "      <th rowspan=\"5\" valign=\"top\">Merlin</th>\n",
       "      <th rowspan=\"5\" valign=\"top\">0</th>\n",
       "      <th>0</th>\n",
       "      <td>0.013759</td>\n",
       "      <td>0.000004</td>\n",
       "      <td>0.000101</td>\n",
       "      <td>0.000229</td>\n",
       "    </tr>\n",
       "    <tr>\n",
       "      <th>1</th>\n",
       "      <td>0.027567</td>\n",
       "      <td>0.000008</td>\n",
       "      <td>0.000203</td>\n",
       "      <td>0.000459</td>\n",
       "    </tr>\n",
       "    <tr>\n",
       "      <th>2</th>\n",
       "      <td>0.041481</td>\n",
       "      <td>0.000012</td>\n",
       "      <td>0.000304</td>\n",
       "      <td>0.000691</td>\n",
       "    </tr>\n",
       "    <tr>\n",
       "      <th>3</th>\n",
       "      <td>0.055413</td>\n",
       "      <td>0.000016</td>\n",
       "      <td>0.000405</td>\n",
       "      <td>0.000924</td>\n",
       "    </tr>\n",
       "    <tr>\n",
       "      <th>4</th>\n",
       "      <td>0.069379</td>\n",
       "      <td>0.000020</td>\n",
       "      <td>0.000507</td>\n",
       "      <td>0.001156</td>\n",
       "    </tr>\n",
       "    <tr>\n",
       "      <th>...</th>\n",
       "      <th>...</th>\n",
       "      <th>...</th>\n",
       "      <td>...</td>\n",
       "      <td>...</td>\n",
       "      <td>...</td>\n",
       "      <td>...</td>\n",
       "    </tr>\n",
       "    <tr>\n",
       "      <th rowspan=\"5\" valign=\"top\">Census</th>\n",
       "      <th rowspan=\"5\" valign=\"top\">4</th>\n",
       "      <th>9865</th>\n",
       "      <td>7028.237910</td>\n",
       "      <td>0.995012</td>\n",
       "      <td>0.999595</td>\n",
       "      <td>117.137299</td>\n",
       "    </tr>\n",
       "    <tr>\n",
       "      <th>9866</th>\n",
       "      <td>7036.836652</td>\n",
       "      <td>0.996229</td>\n",
       "      <td>0.999696</td>\n",
       "      <td>117.280611</td>\n",
       "    </tr>\n",
       "    <tr>\n",
       "      <th>9867</th>\n",
       "      <td>7045.657804</td>\n",
       "      <td>0.997478</td>\n",
       "      <td>0.999797</td>\n",
       "      <td>117.427630</td>\n",
       "    </tr>\n",
       "    <tr>\n",
       "      <th>9868</th>\n",
       "      <td>7054.529921</td>\n",
       "      <td>0.998734</td>\n",
       "      <td>0.999899</td>\n",
       "      <td>117.575499</td>\n",
       "    </tr>\n",
       "    <tr>\n",
       "      <th>9869</th>\n",
       "      <td>7063.472615</td>\n",
       "      <td>1.000000</td>\n",
       "      <td>1.000000</td>\n",
       "      <td>117.724544</td>\n",
       "    </tr>\n",
       "  </tbody>\n",
       "</table>\n",
       "<p>148045 rows × 4 columns</p>\n",
       "</div>"
      ],
      "text/plain": [
       "                        batch_time_sum  time_frac  batch_frac  \\\n",
       "method epoch batch_idx                                          \n",
       "Merlin 0     0                0.013759   0.000004    0.000101   \n",
       "             1                0.027567   0.000008    0.000203   \n",
       "             2                0.041481   0.000012    0.000304   \n",
       "             3                0.055413   0.000016    0.000405   \n",
       "             4                0.069379   0.000020    0.000507   \n",
       "...                                ...        ...         ...   \n",
       "Census 4     9865          7028.237910   0.995012    0.999595   \n",
       "             9866          7036.836652   0.996229    0.999696   \n",
       "             9867          7045.657804   0.997478    0.999797   \n",
       "             9868          7054.529921   0.998734    0.999899   \n",
       "             9869          7063.472615   1.000000    1.000000   \n",
       "\n",
       "                        batch_time_sum_mins  \n",
       "method epoch batch_idx                       \n",
       "Merlin 0     0                     0.000229  \n",
       "             1                     0.000459  \n",
       "             2                     0.000691  \n",
       "             3                     0.000924  \n",
       "             4                     0.001156  \n",
       "...                                     ...  \n",
       "Census 4     9865                117.137299  \n",
       "             9866                117.280611  \n",
       "             9867                117.427630  \n",
       "             9868                117.575499  \n",
       "             9869                117.724544  \n",
       "\n",
       "[148045 rows x 4 columns]"
      ]
     },
     "execution_count": 5,
     "metadata": {},
     "output_type": "execute_result"
    }
   ],
   "source": [
    "def batch_times_df(batch_times):\n",
    "    batch_time_sum = batch_times.sort_values().cumsum().reset_index(drop=True).rename('batch_time_sum')\n",
    "    total = batch_time_sum.iloc[-1]\n",
    "    n = len(batch_time_sum)\n",
    "    time_frac = (batch_time_sum / total).rename('time_frac')\n",
    "    batch_idx = (batch_time_sum.index.to_series()).rename('batch_idx')\n",
    "    batch_frac = ((batch_idx + 1) / n).rename('batch_frac')\n",
    "    return pd.concat([ batch_idx, batch_time_sum, time_frac, batch_frac ], axis=1)\n",
    "\n",
    "cdf = (\n",
    "    df\n",
    "    .groupby(['method', 'epoch'], observed=True)\n",
    "    ['batch_times']\n",
    "    .apply(batch_times_df)\n",
    "    .reset_index(level=2, drop=True)\n",
    "    .reset_index()\n",
    "    .set_index(['method', 'epoch', 'batch_idx'])\n",
    "    .sort_index()\n",
    ")\n",
    "cdf['batch_time_sum_mins'] = cdf['batch_time_sum'] / 60\n",
    "cdf"
   ]
  },
  {
   "cell_type": "code",
   "execution_count": 6,
   "id": "8f8943e2-ce5a-4f00-8d07-f6ffe2ba3c16",
   "metadata": {},
   "outputs": [],
   "source": [
    "import plotly.express as px\n",
    "import plotly.graph_objects as go\n",
    "from plotly.subplots import make_subplots\n",
    "\n",
    "import plotly\n",
    "default_colors = plotly.colors.DEFAULT_PLOTLY_COLORS"
   ]
  },
  {
   "cell_type": "code",
   "execution_count": 7,
   "id": "6def2de8-675a-40a9-9448-b55da982da84",
   "metadata": {},
   "outputs": [],
   "source": [
    "i = False\n",
    "def interactive():\n",
    "    global i\n",
    "    return i\n",
    "\n",
    "def plot(\n",
    "    fig,\n",
    "    name,\n",
    "    save=True,\n",
    "    json=False,\n",
    "    W=1200, H=1200,\n",
    "    i=None, v=False,\n",
    "):\n",
    "    if save:\n",
    "        err(f'Saving: {name}')\n",
    "        fig.write_image(name, width=W, height=H)\n",
    "        stem = splitext(name)[0]\n",
    "        if json:\n",
    "            json_path = f'{stem}.json'\n",
    "            err(f'Saving: {json_path}')\n",
    "            fig.write_json(json_path)\n",
    "    if i is None:\n",
    "        i = interactive()\n",
    "    if i:\n",
    "        if v:\n",
    "            err(\"Returning interactive plot\")\n",
    "        return fig\n",
    "    else:\n",
    "        if v:\n",
    "            err(\"Returning markdown image\")\n",
    "        return Markdown(f'![]({name})')"
   ]
  },
  {
   "cell_type": "code",
   "execution_count": 8,
   "id": "2500a6c5-495f-4225-beb5-61b5f8b678c1",
   "metadata": {},
   "outputs": [],
   "source": [
    "colors = [ 'red', 'green', 'blue' ]\n",
    "def epoch_cdfs(name, x, y, title, xtitle, ytitle, hoverfmt, rng=None, bg='white', W=1000, H=800, grid='#ccc', rangemode=None, v=False, i=None,):\n",
    "    fig = go.Figure()\n",
    "    for idx, method in enumerate(['Merlin', 'MappedCollection', 'Census']):\n",
    "        dm = cdf.loc[method]\n",
    "        for epoch in range(nepochs):\n",
    "            d = dm.loc[epoch].reset_index()\n",
    "            fig.add_trace(go.Scatter(\n",
    "                name=method,\n",
    "                hovertemplate='%%{y:%s} (epoch %d)' % (hoverfmt, epoch),\n",
    "                x=d[x],\n",
    "                y=d[y],\n",
    "                mode='lines',\n",
    "                marker=dict(\n",
    "                    color=colors[idx],\n",
    "                ),\n",
    "                showlegend=epoch == 0,\n",
    "            ))\n",
    "    fig.update_layout(\n",
    "        hovermode='x',\n",
    "        title=dict(x=0.5, text=title),\n",
    "        width=W,\n",
    "        height=H,\n",
    "        plot_bgcolor=bg,\n",
    "    ).update_xaxes(\n",
    "        title=dict(text=xtitle),\n",
    "        gridcolor=grid,\n",
    "        range=rng,\n",
    "        linecolor=grid,\n",
    "        rangemode=rangemode,\n",
    "    ).update_yaxes(\n",
    "        title=dict(text=ytitle),\n",
    "        gridcolor=grid,\n",
    "        range=rng,\n",
    "        linecolor=grid,\n",
    "        rangemode=rangemode,\n",
    "    )\n",
    "    return plot(fig, name, W=1000, H=800, v=v, i=i,)"
   ]
  },
  {
   "cell_type": "markdown",
   "id": "ca6aa694-d3f7-4ad2-b9b2-09dbe11a98f6",
   "metadata": {},
   "source": [
    "## Sorted+Cumulative batch times"
   ]
  },
  {
   "cell_type": "code",
   "execution_count": 9,
   "id": "690f8a2b-c31b-4ac9-ad92-8e5bc98eab54",
   "metadata": {},
   "outputs": [
    {
     "name": "stderr",
     "output_type": "stream",
     "text": [
      "Saving: time_sums.png\n"
     ]
    },
    {
     "data": {
      "text/markdown": [
       "![](time_sums.png)"
      ],
      "text/plain": [
       "<IPython.core.display.Markdown object>"
      ]
     },
     "execution_count": 9,
     "metadata": {},
     "output_type": "execute_result"
    }
   ],
   "source": [
    "epoch_cdfs(\n",
    "    name='time_sums.png',\n",
    "    x='batch_idx',\n",
    "    y='batch_time_sum_mins',\n",
    "    title=f'Cumulative batch times ({nbatches:,} batches x {nepochs} epochs)',\n",
    "    xtitle=\"Batch #\",\n",
    "    ytitle=\"Total time (minutes)\",\n",
    "    hoverfmt='.1f',\n",
    "    rangemode='tozero',\n",
    ")"
   ]
  },
  {
   "cell_type": "markdown",
   "id": "350ede28-acb8-4ccb-96d5-196763a81b78",
   "metadata": {},
   "source": [
    "## Batch-time distributions"
   ]
  },
  {
   "cell_type": "code",
   "execution_count": 10,
   "id": "7e3a7eb0-e4a1-4a22-b430-ac6b616869ba",
   "metadata": {},
   "outputs": [
    {
     "name": "stderr",
     "output_type": "stream",
     "text": [
      "Saving: cdfs.png\n"
     ]
    },
    {
     "data": {
      "text/markdown": [
       "![](cdfs.png)"
      ],
      "text/plain": [
       "<IPython.core.display.Markdown object>"
      ]
     },
     "execution_count": 10,
     "metadata": {},
     "output_type": "execute_result"
    }
   ],
   "source": [
    "epoch_cdfs(\n",
    "    name='cdfs.png',\n",
    "    x='batch_frac',\n",
    "    y='time_frac',\n",
    "    title=f'Batch-time CDFs ({nbatches:,} batches x {nepochs} epochs)',\n",
    "    xtitle=\"Batch %\",\n",
    "    ytitle=\"Total time %\",\n",
    "    hoverfmt='.2f',\n",
    "    rng=[-.005, 1.005],\n",
    ")"
   ]
  },
  {
   "cell_type": "code",
   "execution_count": 11,
   "id": "5010a788-d90c-492c-b88e-968b4a55f406",
   "metadata": {},
   "outputs": [],
   "source": [
    "def epochs_batches(\n",
    "    method,\n",
    "    batch_range=None,\n",
    "    period=None,\n",
    "    epochs=nepochs,\n",
    "    log=True,\n",
    "    vertical_spacing=0.05,\n",
    "    size=3,\n",
    "    save=True,\n",
    "    W=1200, H=1200,\n",
    "    grid='#ccc', bg='white',\n",
    "    i=None,\n",
    "):\n",
    "    dm = df[df.method == method]\n",
    "    fig = make_subplots(\n",
    "        rows=epochs, cols=1,\n",
    "        x_title='Batch #',\n",
    "        subplot_titles=[ f'Epoch {epoch}' for epoch in range(epochs) ],\n",
    "        vertical_spacing=vertical_spacing,\n",
    "    )\n",
    "\n",
    "    name = f'{method.lower()}_batches'\n",
    "    if period:\n",
    "        name += f'_mod{period}'\n",
    "    if batch_range:\n",
    "        start, end = batch_range\n",
    "        name += f'_{start}:{end}'\n",
    "    name += '.png'\n",
    "\n",
    "    mod_str = f', mod {period}' if period else ''\n",
    "\n",
    "    for epoch in range(epochs):\n",
    "        de = dm[dm.epoch == epoch].reset_index(drop=True)\n",
    "        de.index.name = 'Batch #'\n",
    "        if batch_range:\n",
    "            start, end = batch_range\n",
    "            de = de.iloc[start:end]\n",
    "            batches_str = f', batches [{start}:{end})'\n",
    "        else:\n",
    "            batches_str = f' x {nbatches} batches'\n",
    "        if period:\n",
    "            mod = (de.index.to_series() % period).rename('mod')\n",
    "            for res in range(period):\n",
    "                dr = de[mod == res]\n",
    "                fig.add_trace(\n",
    "                    go.Scatter(\n",
    "                        x=dr.index,\n",
    "                        y=dr.batch_times,\n",
    "                        name=f'{res}mod{period}',\n",
    "                        mode='markers',\n",
    "                        marker=dict(size=size, color=default_colors[res]),\n",
    "                        showlegend=epoch == 0,\n",
    "                    ),\n",
    "                    row=epoch + 1, col=1,\n",
    "                )\n",
    "        else:\n",
    "            fig.add_trace(\n",
    "                go.Scatter(\n",
    "                    x=de.index,\n",
    "                    y=de.batch_times,\n",
    "                    name=f'Epoch {epoch}',\n",
    "                    mode='markers',\n",
    "                    marker=dict(size=size),\n",
    "                ),\n",
    "                row=epoch + 1, col=1,\n",
    "            )\n",
    "            mod_str = ''\n",
    "    fig.update_layout(\n",
    "        title=dict(x=0.5, text=f'{method}: {epochs} epochs{batches_str}{mod_str}'),\n",
    "        height=200 + 200 * epochs,\n",
    "        legend=dict(title=dict(text='Batch #')),\n",
    "        plot_bgcolor=bg,\n",
    "    ).update_yaxes(\n",
    "        gridcolor=grid,\n",
    "        linecolor=grid,\n",
    "        title=dict(text='Time (s)'),\n",
    "        **(dict(type=\"log\") if log else {}),\n",
    "    ).update_xaxes(\n",
    "        gridcolor=grid,\n",
    "        #linecolor=grid,\n",
    "    )\n",
    "    return plot(fig, name, save=save, i=i, W=W, H=H)"
   ]
  },
  {
   "cell_type": "markdown",
   "id": "e6b47e47-6b00-4dc7-b0d7-bc8fb146f422",
   "metadata": {},
   "source": [
    "## Census batch timings\n",
    "Every 10th batch is ≈100x slower, accounting for most of the total latency."
   ]
  },
  {
   "cell_type": "code",
   "execution_count": 12,
   "id": "625597c4-3af6-4505-8145-db9e22956303",
   "metadata": {},
   "outputs": [
    {
     "name": "stderr",
     "output_type": "stream",
     "text": [
      "Saving: census_batches_mod10.png\n"
     ]
    },
    {
     "data": {
      "text/markdown": [
       "![](census_batches_mod10.png)"
      ],
      "text/plain": [
       "<IPython.core.display.Markdown object>"
      ]
     },
     "execution_count": 12,
     "metadata": {},
     "output_type": "execute_result"
    }
   ],
   "source": [
    "epochs_batches('Census', period=10)"
   ]
  },
  {
   "cell_type": "markdown",
   "id": "80547d41-9ffd-4539-b933-98b1bd84cc0f",
   "metadata": {},
   "source": [
    "### Census batch timings (detail)\n",
    "\n",
    "- Top \"line\" of slow batch outliers occurs every ≈10th batch, but slips by 1 every 40-50 batches (manifesting as runs of 4-5 dots of the same color)\n",
    "- Middle blue line of ≈1s batches is more consistently every 10th batch"
   ]
  },
  {
   "cell_type": "code",
   "execution_count": 13,
   "id": "e7848b1c-9418-48a3-8d0d-90d72f5d4ff9",
   "metadata": {},
   "outputs": [
    {
     "name": "stderr",
     "output_type": "stream",
     "text": [
      "Saving: census_batches_mod10_1200:1800.png\n"
     ]
    },
    {
     "data": {
      "text/markdown": [
       "![](census_batches_mod10_1200:1800.png)"
      ],
      "text/plain": [
       "<IPython.core.display.Markdown object>"
      ]
     },
     "execution_count": 13,
     "metadata": {},
     "output_type": "execute_result"
    }
   ],
   "source": [
    "epochs_batches('Census', period=10, batch_range=(1200, 1800), size=6)"
   ]
  },
  {
   "cell_type": "markdown",
   "id": "be80ce2a-5af6-4dd0-bd4b-0cd821824e37",
   "metadata": {},
   "source": [
    "## Merlin batch timings\n",
    "- 1st epoch noisy, but contains clear every-10th-batch artifacts\n",
    "- Other epochs: every 10th batch ≈30x slower"
   ]
  },
  {
   "cell_type": "code",
   "execution_count": 14,
   "id": "4203d985-fae0-4f44-9f09-cbd8bd0fe792",
   "metadata": {},
   "outputs": [
    {
     "name": "stderr",
     "output_type": "stream",
     "text": [
      "Saving: merlin_batches_mod10.png\n"
     ]
    },
    {
     "data": {
      "text/markdown": [
       "![](merlin_batches_mod10.png)"
      ],
      "text/plain": [
       "<IPython.core.display.Markdown object>"
      ]
     },
     "execution_count": 14,
     "metadata": {},
     "output_type": "execute_result"
    }
   ],
   "source": [
    "epochs_batches('Merlin', period=10)"
   ]
  },
  {
   "cell_type": "markdown",
   "id": "8531dac1-c7b7-42ff-9898-cd98990a79d9",
   "metadata": {},
   "source": [
    "### Merlin batch timings (detail)"
   ]
  },
  {
   "cell_type": "code",
   "execution_count": 15,
   "id": "52b7f1b5-b441-4454-aa09-0b65baf89c2f",
   "metadata": {},
   "outputs": [
    {
     "name": "stderr",
     "output_type": "stream",
     "text": [
      "Saving: merlin_batches_mod10_1200:1800.png\n"
     ]
    },
    {
     "data": {
      "text/markdown": [
       "![](merlin_batches_mod10_1200:1800.png)"
      ],
      "text/plain": [
       "<IPython.core.display.Markdown object>"
      ]
     },
     "execution_count": 15,
     "metadata": {},
     "output_type": "execute_result"
    }
   ],
   "source": [
    "epochs_batches('Merlin', period=10, batch_range=(1200, 1800), size=6)"
   ]
  },
  {
   "cell_type": "markdown",
   "id": "b91a7a29-95d1-415e-8c61-85a13ecbae4e",
   "metadata": {},
   "source": [
    "## MappedCollection batch timings\n",
    "Outliers occur every 7th batch (as opposed to every 10 batches, as seen in Census/Merlin)"
   ]
  },
  {
   "cell_type": "code",
   "execution_count": 16,
   "id": "fface586-1bac-4c90-9805-131907c1235f",
   "metadata": {},
   "outputs": [
    {
     "name": "stderr",
     "output_type": "stream",
     "text": [
      "Saving: mappedcollection_batches_mod7.png\n"
     ]
    },
    {
     "data": {
      "text/markdown": [
       "![](mappedcollection_batches_mod7.png)"
      ],
      "text/plain": [
       "<IPython.core.display.Markdown object>"
      ]
     },
     "execution_count": 16,
     "metadata": {},
     "output_type": "execute_result"
    }
   ],
   "source": [
    "epochs_batches('MappedCollection', period=7)"
   ]
  },
  {
   "cell_type": "markdown",
   "id": "5726b712-6978-43f7-bb87-d8395ac50fff",
   "metadata": {},
   "source": [
    "### MappedCollection batch timings (detail)"
   ]
  },
  {
   "cell_type": "code",
   "execution_count": 17,
   "id": "ba303efb-0ded-4413-b4e9-039746e75f01",
   "metadata": {},
   "outputs": [
    {
     "name": "stderr",
     "output_type": "stream",
     "text": [
      "Saving: mappedcollection_batches_mod7_1200:1800.png\n"
     ]
    },
    {
     "data": {
      "text/markdown": [
       "![](mappedcollection_batches_mod7_1200:1800.png)"
      ],
      "text/plain": [
       "<IPython.core.display.Markdown object>"
      ]
     },
     "execution_count": 17,
     "metadata": {},
     "output_type": "execute_result"
    }
   ],
   "source": [
    "epochs_batches('MappedCollection', period=7, batch_range=(1200, 1800), size=6)"
   ]
  }
 ],
 "metadata": {
  "kernelspec": {
   "display_name": "Python 3 (ipykernel)",
   "language": "python",
   "name": "python3"
  },
  "language_info": {
   "codemirror_mode": {
    "name": "ipython",
    "version": 3
   },
   "file_extension": ".py",
   "mimetype": "text/x-python",
   "name": "python",
   "nbconvert_exporter": "python",
   "pygments_lexer": "ipython3",
   "version": "3.11.8"
  },
  "nbproject": {
   "id": "faAhgiIDemaP",
   "parent": null,
   "pypackage": null,
   "time_init": "2024-02-22T12:39:58.423068+00:00",
   "user_handle": null,
   "user_id": null,
   "user_name": null,
   "version": "1"
  }
 },
 "nbformat": 4,
 "nbformat_minor": 5
}
