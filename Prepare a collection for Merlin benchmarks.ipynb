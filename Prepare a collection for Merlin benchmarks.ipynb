{
 "cells": [
  {
   "cell_type": "markdown",
   "id": "a41a2e1c-11de-4852-8bb7-667a1243bd19",
   "metadata": {},
   "source": [
    "# Prepare a collection for Merlin benchmarks "
   ]
  },
  {
   "cell_type": "code",
   "execution_count": 7,
   "id": "7e440f3f-015f-44d7-acd8-d93f6625781d",
   "metadata": {
    "tags": []
   },
   "outputs": [],
   "source": [
    "import anndata as ad\n",
    "import dask\n",
    "import dask.array as da\n",
    "import dask.dataframe as dd\n",
    "from dask.distributed import Client, LocalCluster\n",
    "import numpy as np\n",
    "from os.path import basename\n",
    "import pandas as pd\n",
    "import pyarrow as pa\n",
    "import shlex\n",
    "from subprocess import check_call, check_output\n",
    "from sys import stderr\n",
    "from tqdm.notebook import tqdm\n",
    "\n",
    "\n",
    "def err(msg):\n",
    "    stderr.write(msg)\n",
    "    stderr.write('\\n')"
   ]
  },
  {
   "cell_type": "code",
   "execution_count": 2,
   "id": "6cf880ab-ec42-4135-8494-3950872c8d97",
   "metadata": {},
   "outputs": [
    {
     "data": {
      "text/plain": [
       "['cell-census/2023-12-15/h5ads/04a23820-ffa8-4be5-9f65-64db15631d1e.h5ad',\n",
       " 'cell-census/2023-12-15/h5ads/0325478a-9b52-45b5-b40a-2e2ab0d72eb1.h5ad',\n",
       " 'cell-census/2023-12-15/h5ads/0d7f4c06-a6bd-47d2-a42b-3a7196704f77.h5ad',\n",
       " 'cell-census/2023-12-15/h5ads/090da8ea-46e8-40df-bffc-1f78e1538d27.h5ad',\n",
       " 'cell-census/2023-12-15/h5ads/07b1d7c8-5c2e-42f7-9246-26f746cd6013.h5ad',\n",
       " 'cell-census/2023-12-15/h5ads/0ee5ae70-c3f5-473f-bd1c-287f4690ffc5.h5ad',\n",
       " 'cell-census/2023-12-15/h5ads/1cf24082-59de-4029-ac81-6e398768af3a.h5ad',\n",
       " 'cell-census/2023-12-15/h5ads/1b767f95-d0a0-4a3d-b394-cc665d86c3dc.h5ad',\n",
       " 'cell-census/2023-12-15/h5ads/19b21f40-db42-4a71-a0d6-913e83b17784.h5ad',\n",
       " 'cell-census/2023-12-15/h5ads/18500fcd-9960-49cb-8a8e-7d868dc14efe.h5ad',\n",
       " 'cell-census/2023-12-15/h5ads/182f6a56-7360-4924-a74e-1772e07b3031.h5ad',\n",
       " 'cell-census/2023-12-15/h5ads/22658f4f-9268-41ad-8828-cc53f4baa9fa.h5ad',\n",
       " 'cell-census/2023-12-15/h5ads/2190bd4d-3be0-4bf7-8ca8-8d6f71228936.h5ad',\n",
       " 'cell-census/2023-12-15/h5ads/2185eb07-22e2-4209-b3c8-7111afc6aa90.h5ad',\n",
       " 'cell-census/2023-12-15/h5ads/2a8ca8f3-5599-4cda-b973-3a2dfc3c1fe6.h5ad',\n",
       " 'cell-census/2023-12-15/h5ads/35090826-f636-40c1-a3ef-4466beeab9f8.h5ad',\n",
       " 'cell-census/2023-12-15/h5ads/31f04740-c712-4c4b-a3f8-55c0506b3034.h5ad',\n",
       " 'cell-census/2023-12-15/h5ads/3a7f3ab4-a280-4b3b-b2c0-6dd05614a78c.h5ad',\n",
       " 'cell-census/2023-12-15/h5ads/367b55f4-d543-49aa-90e8-4765fcb8c687.h5ad',\n",
       " 'cell-census/2023-12-15/h5ads/470565f2-5afc-456a-b617-18e4496c04fd.h5ad',\n",
       " 'cell-census/2023-12-15/h5ads/46ff9dc2-3d87-4b36-91aa-ffa8aa13c52e.h5ad',\n",
       " 'cell-census/2023-12-15/h5ads/43b7e156-65b3-4a7b-8c7a-08528e4b21d0.h5ad',\n",
       " 'cell-census/2023-12-15/h5ads/421e5f54-5de7-425f-b399-34ead0651ce1.h5ad',\n",
       " 'cell-census/2023-12-15/h5ads/40e79234-65e8-45e9-b555-5c663154a108.h5ad',\n",
       " 'cell-census/2023-12-15/h5ads/40569510-2282-461b-84df-6218ef208e0e.h5ad',\n",
       " 'cell-census/2023-12-15/h5ads/3f56901c-dd4a-47d6-b60b-7b0c0111cfb2.h5ad',\n",
       " 'cell-census/2023-12-15/h5ads/3f31f8ce-bbf6-4df8-8203-aa240ed03026.h5ad',\n",
       " 'cell-census/2023-12-15/h5ads/4976b234-9028-4b4b-8a2f-8ac59d636219.h5ad',\n",
       " 'cell-census/2023-12-15/h5ads/489eaa11-c119-4a5f-b44b-81e33c80c0ef.h5ad',\n",
       " 'cell-census/2023-12-15/h5ads/4724c395-0c46-46d2-81f7-60fd271fb488.h5ad',\n",
       " 'cell-census/2023-12-15/h5ads/531c9543-9093-45ed-93ac-ebc5815bfb8a.h5ad',\n",
       " 'cell-census/2023-12-15/h5ads/52ea546e-9229-40ef-b048-a2e694dd73e8.h5ad',\n",
       " 'cell-census/2023-12-15/h5ads/529bb209-9d7b-44da-bfa4-f6e4745c46c2.h5ad',\n",
       " 'cell-census/2023-12-15/h5ads/50dc91a1-36b6-472a-b884-7307b6961ab1.h5ad',\n",
       " 'cell-census/2023-12-15/h5ads/599504e5-d4ad-45bd-9128-823faf0fb9c9.h5ad',\n",
       " 'cell-census/2023-12-15/h5ads/59923449-e303-43e6-9e63-03ef92f5ebd1.h5ad',\n",
       " 'cell-census/2023-12-15/h5ads/639ffc23-14db-4060-9027-3c90314200f8.h5ad',\n",
       " 'cell-census/2023-12-15/h5ads/5e5ab909-f73f-4b57-98a0-6d2c5662f6a4.h5ad',\n",
       " 'cell-census/2023-12-15/h5ads/5a73f63f-18a2-49b5-b431-2c469c41a41b.h5ad',\n",
       " 'cell-census/2023-12-15/h5ads/6dafb698-7a53-4699-ad13-1b5e2c164be7.h5ad',\n",
       " 'cell-census/2023-12-15/h5ads/64f4ad90-a422-400a-944d-4ce0f39594a7.h5ad',\n",
       " 'cell-census/2023-12-15/h5ads/64767efb-49b0-4562-a1bd-e619a5d9db41.h5ad',\n",
       " 'cell-census/2023-12-15/h5ads/715327a6-7978-4896-ba91-69d6b04dbbfb.h5ad',\n",
       " 'cell-census/2023-12-15/h5ads/700aed19-c16e-4ba8-9191-07da098a8626.h5ad',\n",
       " 'cell-census/2023-12-15/h5ads/6ed0bb6c-a9e3-4ba6-9436-7c8fd4e206f0.h5ad',\n",
       " 'cell-census/2023-12-15/h5ads/7d3ab174-e433-40fc-a352-6fe71b1a19f9.h5ad',\n",
       " 'cell-census/2023-12-15/h5ads/7cd3c321-e487-4b51-a8af-9bf671b59fe5.h5ad',\n",
       " 'cell-census/2023-12-15/h5ads/7b316f62-7fa0-4b95-bac9-e90866038a85.h5ad',\n",
       " 'cell-census/2023-12-15/h5ads/7a0a8891-9a22-4549-a55b-c2aca23c3a2a.h5ad',\n",
       " 'cell-census/2023-12-15/h5ads/77c1c785-809f-4065-8c54-6a0170783256.h5ad',\n",
       " 'cell-census/2023-12-15/h5ads/8e10f1c4-8e98-41e5-b65f-8cd89a887122.h5ad',\n",
       " 'cell-census/2023-12-15/h5ads/8f48c031-6692-4c82-b6c2-e4ad35cbc0aa.h5ad',\n",
       " 'cell-census/2023-12-15/h5ads/8ba5453f-7fab-4702-a3a6-4021b1f31a7a.h5ad',\n",
       " 'cell-census/2023-12-15/h5ads/88a01d4a-5197-45be-b5ae-e019aef43376.h5ad',\n",
       " 'cell-census/2023-12-15/h5ads/98113e7e-f586-4065-a26a-60aa702f8d1c.h5ad',\n",
       " 'cell-census/2023-12-15/h5ads/949ec7fc-ac54-47c9-bb6f-ee9e67688cce.h5ad',\n",
       " 'cell-census/2023-12-15/h5ads/9372df2d-13d6-4fac-980b-919a5b7eb483.h5ad',\n",
       " 'cell-census/2023-12-15/h5ads/9f499d32-400d-4c42-ac9a-fb1481844fee.h5ad',\n",
       " 'cell-census/2023-12-15/h5ads/9ec34295-ab16-47e2-af33-b884143e520b.h5ad',\n",
       " 'cell-census/2023-12-15/h5ads/a5b5d1f3-dd8b-44f6-a685-15f0f741c062.h5ad',\n",
       " 'cell-census/2023-12-15/h5ads/a56f1a6b-071c-4780-9832-33ca9b8fb391.h5ad',\n",
       " 'cell-census/2023-12-15/h5ads/a4116666-d295-4443-a174-0acc283f92c4.h5ad',\n",
       " 'cell-census/2023-12-15/h5ads/a19b218b-1c0a-4618-b41f-7c216c623ec6.h5ad',\n",
       " 'cell-census/2023-12-15/h5ads/adda0684-f8ea-4403-b393-2a25607077c4.h5ad',\n",
       " 'cell-census/2023-12-15/h5ads/a84face4-eb30-4f43-994f-c6a13a097808.h5ad',\n",
       " 'cell-census/2023-12-15/h5ads/a7b4f565-691d-43ea-bf4a-d2d1d52bb4b4.h5ad',\n",
       " 'cell-census/2023-12-15/h5ads/b165f033-9dec-468a-9248-802fc6902a74.h5ad',\n",
       " 'cell-census/2023-12-15/h5ads/b8681124-aabf-4904-b9c9-66d834bf5bba.h5ad',\n",
       " 'cell-census/2023-12-15/h5ads/c202b243-1aa1-4b16-bc9a-b36241f3b1e3.h5ad',\n",
       " 'cell-census/2023-12-15/h5ads/bdb26abd-f4ba-4ea3-8862-c2340e7a4f55.h5ad',\n",
       " 'cell-census/2023-12-15/h5ads/bd6b68e8-179a-42f0-9bde-b4fdf7d34dd1.h5ad',\n",
       " 'cell-census/2023-12-15/h5ads/c5cfa2b7-abb1-4a50-908f-707b54ca606b.h5ad',\n",
       " 'cell-census/2023-12-15/h5ads/c4dd26a8-d956-4bee-a233-44b573f2ce27.h5ad',\n",
       " 'cell-census/2023-12-15/h5ads/c4b03352-af8d-492a-8d6b-40f304e0a122.h5ad',\n",
       " 'cell-census/2023-12-15/h5ads/caf8670f-e647-4f0c-bfba-163aa84ce602.h5ad',\n",
       " 'cell-census/2023-12-15/h5ads/ca20e2ac-5676-4158-b5d0-0c2b15898b19.h5ad',\n",
       " 'cell-census/2023-12-15/h5ads/d6a5b240-cc8f-45c1-ad36-2fc291e15e8e.h5ad',\n",
       " 'cell-census/2023-12-15/h5ads/d582f63a-3c88-4e38-8cd3-8682dbe40f64.h5ad',\n",
       " 'cell-census/2023-12-15/h5ads/d2b5efc1-14c6-4b5f-bd98-40f9084872d7.h5ad',\n",
       " 'cell-census/2023-12-15/h5ads/d288b10a-643e-44bd-b451-96e9588b2ee5.h5ad',\n",
       " 'cell-census/2023-12-15/h5ads/d02287f3-408b-438d-9131-999e460cbd0e.h5ad',\n",
       " 'cell-census/2023-12-15/h5ads/dd03ce70-3243-4c96-9561-330cc461e4d7.h5ad',\n",
       " 'cell-census/2023-12-15/h5ads/db1d2c1b-2ee1-45d5-9d53-69a327cd77e6.h5ad',\n",
       " 'cell-census/2023-12-15/h5ads/e6b2ce27-681b-4409-a053-2681875936e5.h5ad',\n",
       " 'cell-census/2023-12-15/h5ads/e4710a02-8abc-48d5-a3e8-9ae7e9d79bdb.h5ad',\n",
       " 'cell-census/2023-12-15/h5ads/e1f595f6-ba2c-495e-9bee-7056f116b1e4.h5ad',\n",
       " 'cell-census/2023-12-15/h5ads/ed33c203-233a-476a-a56b-28da945fdd32.h5ad',\n",
       " 'cell-census/2023-12-15/h5ads/ecd9230d-c571-4dab-abd3-8b54c74833f0.h5ad',\n",
       " 'cell-census/2023-12-15/h5ads/e8681d74-ac9e-4be5-be14-1cf1bbd54dd7.h5ad',\n",
       " 'cell-census/2023-12-15/h5ads/f5a04dff-d394-4023-8811-65494e8bb11d.h5ad',\n",
       " 'cell-census/2023-12-15/h5ads/f502c312-05dc-4fd4-a762-92a63e92b539.h5ad',\n",
       " 'cell-census/2023-12-15/h5ads/f3565fda-499a-4d20-bd92-563c09954c42.h5ad',\n",
       " 'cell-census/2023-12-15/h5ads/f20f44ef-a0d4-4d94-87de-037fd47141f0.h5ad',\n",
       " 'cell-census/2023-12-15/h5ads/f16f4108-7873-4035-9989-3748da1a7ff1.h5ad',\n",
       " 'cell-census/2023-12-15/h5ads/fbf173f9-f809-4d84-9b65-ae205d35b523.h5ad',\n",
       " 'cell-census/2023-12-15/h5ads/f9034091-2e8f-4ac6-9874-e7b7eb566824.h5ad',\n",
       " 'cell-census/2023-12-15/h5ads/f7d003d4-40d5-4de8-858c-a9a8b48fcc67.h5ad',\n",
       " 'cell-census/2023-12-15/h5ads/f6d9f2ad-5ec7-4d53-b7f0-ceb0e7bcd181.h5ad',\n",
       " 'cell-census/2023-12-15/h5ads/fe1a73ab-a203-45fd-84e9-0f7fd19efcbd.h5ad',\n",
       " 'cell-census/2023-12-15/h5ads/ff7d15fa-f4b6-4a0e-992e-fd0c9d088ded.h5ad',\n",
       " 'cell-census/2023-12-15/h5ads/fa554686-fc07-44dd-b2de-b726d82d26ec.h5ad',\n",
       " 'cell-census/2023-12-15/h5ads/f8dda921-5fb4-4c94-a654-c6fc346bfd6d.h5ad',\n",
       " 'cell-census/2023-12-15/h5ads/f32c2c13-bb1a-4ffd-a457-60b64ecfa4cb.h5ad',\n",
       " 'cell-census/2023-12-15/h5ads/ed11cc3e-2947-407c-883c-c53b043917c3.h5ad',\n",
       " 'cell-census/2023-12-15/h5ads/e5b1115b-a486-49bb-bda3-8261822836e0.h5ad',\n",
       " 'cell-census/2023-12-15/h5ads/d5452b83-7c3d-4d7c-ab7a-c7fece7196c5.h5ad',\n",
       " 'cell-census/2023-12-15/h5ads/d2514440-d747-4d8d-b2c7-b58ef8b71fbe.h5ad',\n",
       " 'cell-census/2023-12-15/h5ads/cfa755c1-48c5-4336-94f4-aa95eca4fbd5.h5ad',\n",
       " 'cell-census/2023-12-15/h5ads/c7856243-c59a-4b70-8ce7-25b94c2d9da1.h5ad',\n",
       " 'cell-census/2023-12-15/h5ads/c2aad8fc-b63b-4f9b-9cfd-baf7bc9c1771.h5ad',\n",
       " 'cell-census/2023-12-15/h5ads/bac09168-940b-4b11-8d55-b4955f80b98d.h5ad',\n",
       " 'cell-census/2023-12-15/h5ads/acae7679-d077-461c-b857-ee6ccfeb267f.h5ad',\n",
       " 'cell-census/2023-12-15/h5ads/a59ba9fa-1407-4f15-8c56-d3637421570d.h5ad',\n",
       " 'cell-census/2023-12-15/h5ads/9ec335f2-420a-45a8-b45a-1ab646e50041.h5ad',\n",
       " 'cell-census/2023-12-15/h5ads/93131426-0124-4ab4-a013-9dfbcd99d467.h5ad',\n",
       " 'cell-census/2023-12-15/h5ads/900fdf13-150d-4695-9f8c-4c09105ba2eb.h5ad',\n",
       " 'cell-census/2023-12-15/h5ads/8039c63d-08b0-4fc9-af0f-5b57f08ca0da.h5ad',\n",
       " 'cell-census/2023-12-15/h5ads/7db0c178-b0a4-442f-ba54-e9e1633a84bb.h5ad',\n",
       " 'cell-census/2023-12-15/h5ads/7c1c3d47-3166-43e5-9a95-65ceb2d45f78.h5ad',\n",
       " 'cell-census/2023-12-15/h5ads/77044335-0ac5-4406-9b3f-8cdd3656d67b.h5ad',\n",
       " 'cell-census/2023-12-15/h5ads/70e4f35b-c98c-45a1-9aa9-2053b07315dd.h5ad',\n",
       " 'cell-census/2023-12-15/h5ads/6538ce1b-7949-405f-b01c-a2c3e876baee.h5ad',\n",
       " 'cell-census/2023-12-15/h5ads/5bc23cb2-8cfc-4960-bab1-c3027fbeefc4.h5ad',\n",
       " 'cell-census/2023-12-15/h5ads/56c33a38-2732-4e53-a9c1-1bc61eda9a99.h5ad',\n",
       " 'cell-census/2023-12-15/h5ads/52f18bc3-52d9-487b-bf8f-f0b7aa684b09.h5ad',\n",
       " 'cell-census/2023-12-15/h5ads/4d43082e-59cd-43ac-b77d-54d55519c881.h5ad',\n",
       " 'cell-census/2023-12-15/h5ads/4593c820-512d-4805-a10f-c0b864a7cc8c.h5ad',\n",
       " 'cell-census/2023-12-15/h5ads/40318d39-3d8f-49f4-8455-a2e1365c5c5b.h5ad',\n",
       " 'cell-census/2023-12-15/h5ads/381aa407-317a-40ef-8048-7ce0eacc4266.h5ad',\n",
       " 'cell-census/2023-12-15/h5ads/364348b4-bc34-4fe1-a851-60d99e36cafa.h5ad',\n",
       " 'cell-census/2023-12-15/h5ads/35c8a04c-8639-4d15-8228-765d8d93fc96.h5ad',\n",
       " 'cell-census/2023-12-15/h5ads/27d91086-cfe3-4e33-9282-bd1246e5ce8e.h5ad',\n",
       " 'cell-census/2023-12-15/h5ads/20980d73-7c53-4039-b852-b76a01566d5a.h5ad',\n",
       " 'cell-census/2023-12-15/h5ads/1a018108-b4b6-457b-ba15-046d5e98c169.h5ad',\n",
       " 'cell-census/2023-12-15/h5ads/1185a7d3-a9c1-4280-9ba5-d61895b15cac.h5ad',\n",
       " 'cell-census/2023-12-15/h5ads/095940cb-7422-4510-96e2-cbafd961eb88.h5ad',\n",
       " 'cell-census/2023-12-15/h5ads/03d38670-1444-4001-bc53-9936e61d9b20.h5ad',\n",
       " 'cell-census/2023-12-15/h5ads/00476f9f-ebc1-4b72-b541-32f912ce36ea.h5ad']"
      ]
     },
     "execution_count": 2,
     "metadata": {},
     "output_type": "execute_result"
    }
   ],
   "source": [
    "with open('h5ads.txt', 'r') as f:\n",
    "    h5ad_paths = [ l.rstrip('\\n') for l in f.readlines() ]\n",
    "h5ad_paths"
   ]
  },
  {
   "cell_type": "code",
   "execution_count": 8,
   "id": "f5b089c1-e6e4-41d2-bbd3-184d330fdcc6",
   "metadata": {},
   "outputs": [],
   "source": [
    "bkt = 'cellxgene-census-public-us-west-2'\n",
    "bkt_dir = 'cell-census/2023-12-15/h5ads'\n",
    "prefix = f'{bkt}/{bkt_dir}'\n",
    "\n",
    "def sync(start, end, dryrun=False):\n",
    "    basenames = [ basename(h5ad_path) for h5ad_path in h5ad_paths[start:end] ]\n",
    "    cmd = [\n",
    "        'aws', 's3', 'sync',\n",
    "        *(['--dryrun'] if dryrun else []),\n",
    "        '--exclude', '*',\n",
    "        *[\n",
    "            arg\n",
    "            for name in basenames\n",
    "            for arg in [ '--include', name ]\n",
    "        ],\n",
    "        f's3://{prefix}',\n",
    "        f's3/{prefix}',\n",
    "    ]\n",
    "    err(f'Running: {shlex.join(cmd)}')\n",
    "    check_call(cmd)"
   ]
  },
  {
   "cell_type": "code",
   "execution_count": 9,
   "id": "53778330-a6b8-4373-a8b5-99396013fe9f",
   "metadata": {},
   "outputs": [
    {
     "name": "stderr",
     "output_type": "stream",
     "text": [
      "Running: aws s3 sync --dryrun --exclude '*' --include 04a23820-ffa8-4be5-9f65-64db15631d1e.h5ad --include 0325478a-9b52-45b5-b40a-2e2ab0d72eb1.h5ad --include 0d7f4c06-a6bd-47d2-a42b-3a7196704f77.h5ad --include 090da8ea-46e8-40df-bffc-1f78e1538d27.h5ad --include 07b1d7c8-5c2e-42f7-9246-26f746cd6013.h5ad --include 0ee5ae70-c3f5-473f-bd1c-287f4690ffc5.h5ad --include 1cf24082-59de-4029-ac81-6e398768af3a.h5ad --include 1b767f95-d0a0-4a3d-b394-cc665d86c3dc.h5ad --include 19b21f40-db42-4a71-a0d6-913e83b17784.h5ad --include 18500fcd-9960-49cb-8a8e-7d868dc14efe.h5ad s3://cellxgene-census-public-us-west-2/cell-census/2023-12-15/h5ads s3/cellxgene-census-public-us-west-2/cell-census/2023-12-15/h5ads\n"
     ]
    },
    {
     "name": "stdout",
     "output_type": "stream",
     "text": [
      "(dryrun) download: s3://cellxgene-census-public-us-west-2/cell-census/2023-12-15/h5ads/0325478a-9b52-45b5-b40a-2e2ab0d72eb1.h5ad to s3/cellxgene-census-public-us-west-2/cell-census/2023-12-15/h5ads/0325478a-9b52-45b5-b40a-2e2ab0d72eb1.h5ad\n",
      "(dryrun) download: s3://cellxgene-census-public-us-west-2/cell-census/2023-12-15/h5ads/04a23820-ffa8-4be5-9f65-64db15631d1e.h5ad to s3/cellxgene-census-public-us-west-2/cell-census/2023-12-15/h5ads/04a23820-ffa8-4be5-9f65-64db15631d1e.h5ad\n",
      "(dryrun) download: s3://cellxgene-census-public-us-west-2/cell-census/2023-12-15/h5ads/07b1d7c8-5c2e-42f7-9246-26f746cd6013.h5ad to s3/cellxgene-census-public-us-west-2/cell-census/2023-12-15/h5ads/07b1d7c8-5c2e-42f7-9246-26f746cd6013.h5ad\n",
      "(dryrun) download: s3://cellxgene-census-public-us-west-2/cell-census/2023-12-15/h5ads/090da8ea-46e8-40df-bffc-1f78e1538d27.h5ad to s3/cellxgene-census-public-us-west-2/cell-census/2023-12-15/h5ads/090da8ea-46e8-40df-bffc-1f78e1538d27.h5ad\n",
      "(dryrun) download: s3://cellxgene-census-public-us-west-2/cell-census/2023-12-15/h5ads/0d7f4c06-a6bd-47d2-a42b-3a7196704f77.h5ad to s3/cellxgene-census-public-us-west-2/cell-census/2023-12-15/h5ads/0d7f4c06-a6bd-47d2-a42b-3a7196704f77.h5ad\n",
      "(dryrun) download: s3://cellxgene-census-public-us-west-2/cell-census/2023-12-15/h5ads/0ee5ae70-c3f5-473f-bd1c-287f4690ffc5.h5ad to s3/cellxgene-census-public-us-west-2/cell-census/2023-12-15/h5ads/0ee5ae70-c3f5-473f-bd1c-287f4690ffc5.h5ad\n",
      "(dryrun) download: s3://cellxgene-census-public-us-west-2/cell-census/2023-12-15/h5ads/18500fcd-9960-49cb-8a8e-7d868dc14efe.h5ad to s3/cellxgene-census-public-us-west-2/cell-census/2023-12-15/h5ads/18500fcd-9960-49cb-8a8e-7d868dc14efe.h5ad\n",
      "(dryrun) download: s3://cellxgene-census-public-us-west-2/cell-census/2023-12-15/h5ads/19b21f40-db42-4a71-a0d6-913e83b17784.h5ad to s3/cellxgene-census-public-us-west-2/cell-census/2023-12-15/h5ads/19b21f40-db42-4a71-a0d6-913e83b17784.h5ad\n",
      "(dryrun) download: s3://cellxgene-census-public-us-west-2/cell-census/2023-12-15/h5ads/1b767f95-d0a0-4a3d-b394-cc665d86c3dc.h5ad to s3/cellxgene-census-public-us-west-2/cell-census/2023-12-15/h5ads/1b767f95-d0a0-4a3d-b394-cc665d86c3dc.h5ad\n",
      "(dryrun) download: s3://cellxgene-census-public-us-west-2/cell-census/2023-12-15/h5ads/1cf24082-59de-4029-ac81-6e398768af3a.h5ad to s3/cellxgene-census-public-us-west-2/cell-census/2023-12-15/h5ads/1cf24082-59de-4029-ac81-6e398768af3a.h5ad\n"
     ]
    }
   ],
   "source": [
    "sync(0, 10, dryrun=True)"
   ]
  },
  {
   "cell_type": "markdown",
   "id": "e8439731",
   "metadata": {},
   "source": [
    "## Prepare parquet"
   ]
  },
  {
   "cell_type": "code",
   "execution_count": null,
   "id": "6339fd7c",
   "metadata": {},
   "outputs": [],
   "source": [
    "cluster = LocalCluster(n_workers=1, threads_per_worker=4)\n",
    "client = Client(cluster)\n",
    "client"
   ]
  },
  {
   "cell_type": "code",
   "execution_count": null,
   "id": "d661cdb8",
   "metadata": {},
   "outputs": [],
   "source": [
    "@dask.delayed\n",
    "def read_X(path, idx):\n",
    "    return ad.read_h5ad(path, backed=\"r\").X[idx, :].toarray().astype(\"float32\", copy=False)"
   ]
  },
  {
   "cell_type": "code",
   "execution_count": null,
   "id": "0a53e5fd",
   "metadata": {},
   "outputs": [],
   "source": [
    "# number of files per parquet file\n",
    "CHUNK_SIZE = 32768\n",
    "# row group size of parquet files\n",
    "ROW_GROUP_SIZE = 1024"
   ]
  },
  {
   "cell_type": "code",
   "execution_count": null,
   "id": "32e4e4df",
   "metadata": {},
   "outputs": [],
   "source": [
    "array_chunks = []\n",
    "chunk_sizes = []\n",
    "\n",
    "for artifact in collection_inner.artifacts:\n",
    "    with artifact.backed() as access:\n",
    "        n_obs = access.shape[0]\n",
    "    idx_splits = np.array_split(np.arange(n_obs), np.ceil(n_obs / CHUNK_SIZE))\n",
    "    for idx in idx_splits:\n",
    "        array_chunks.append(read_X(artifact.stage().as_posix(), idx))\n",
    "        chunk_sizes.append(len(idx))"
   ]
  },
  {
   "cell_type": "code",
   "execution_count": null,
   "id": "491513cd",
   "metadata": {},
   "outputs": [],
   "source": [
    "X = da.concatenate([\n",
    "    da.from_delayed(chunk, (shape, len(var_inner)), dtype=\"float32\") \n",
    "    for chunk, shape in zip(array_chunks, chunk_sizes)\n",
    "]).rechunk((CHUNK_SIZE, -1))"
   ]
  },
  {
   "cell_type": "code",
   "execution_count": null,
   "id": "43a68128",
   "metadata": {},
   "outputs": [],
   "source": [
    "X"
   ]
  },
  {
   "cell_type": "code",
   "execution_count": null,
   "id": "8d54e940",
   "metadata": {},
   "outputs": [],
   "source": [
    "@dask.delayed\n",
    "def convert_to_dataframe(x, start, end):\n",
    "    return pd.DataFrame(\n",
    "        {'X': [arr.squeeze().astype(\"float32\", copy=False) for arr in np.vsplit(x, x.shape[0])]},\n",
    "        index=pd.RangeIndex(start, end)\n",
    "    )"
   ]
  },
  {
   "cell_type": "code",
   "execution_count": null,
   "id": "9e9bc131",
   "metadata": {},
   "outputs": [],
   "source": [
    "start_index = [0] + list(np.cumsum(X.chunks[0]))[:-1]\n",
    "end_index = list(np.cumsum(X.chunks[0]))\n",
    "# calculate divisons for dask dataframe\n",
    "divisions = [0] + list(np.cumsum(X.chunks[0]))\n",
    "divisions[-1] = divisions[-1] - 1\n",
    "ddf = dd.from_delayed(\n",
    "    [\n",
    "        convert_to_dataframe(arr, start, end) for arr, start, end in \n",
    "        zip(X.to_delayed().flatten().tolist(), start_index, end_index)\n",
    "    ],\n",
    "    divisions=divisions\n",
    ")"
   ]
  },
  {
   "cell_type": "code",
   "execution_count": null,
   "id": "1b62d86e",
   "metadata": {},
   "outputs": [],
   "source": [
    "ddf"
   ]
  },
  {
   "cell_type": "code",
   "execution_count": null,
   "id": "6fe696b0",
   "metadata": {},
   "outputs": [],
   "source": [
    "ddf.to_parquet(\n",
    "    \"./merlin_benchmark\", \n",
    "    engine='pyarrow',\n",
    "    schema=pa.schema([('X', pa.list_(pa.float32()))]),\n",
    "    write_metadata_file=True,\n",
    "    row_group_size=ROW_GROUP_SIZE\n",
    ")"
   ]
  },
  {
   "cell_type": "code",
   "execution_count": null,
   "id": "da15ad4f",
   "metadata": {},
   "outputs": [],
   "source": [
    "artifact_parquet = ln.Artifact(\"./merlin_benchmark\", description=collection_inner.name + \" counts in parquet\")"
   ]
  },
  {
   "cell_type": "code",
   "execution_count": null,
   "id": "6bc5ffd6",
   "metadata": {},
   "outputs": [],
   "source": [
    "artifact_parquet.save()"
   ]
  },
  {
   "cell_type": "code",
   "execution_count": null,
   "id": "bbeb7dcf",
   "metadata": {},
   "outputs": [],
   "source": []
  }
 ],
 "metadata": {
  "kernelspec": {
   "display_name": "Python 3 (ipykernel)",
   "language": "python",
   "name": "python3"
  },
  "language_info": {
   "codemirror_mode": {
    "name": "ipython",
    "version": 3
   },
   "file_extension": ".py",
   "mimetype": "text/x-python",
   "name": "python",
   "nbconvert_exporter": "python",
   "pygments_lexer": "ipython3",
   "version": "3.11.8"
  },
  "nbproject": {
   "id": "GjHlkZOA4wKp",
   "parent": null,
   "pypackage": null,
   "time_init": "2024-01-24T10:59:26.707959+00:00",
   "user_handle": null,
   "user_id": null,
   "user_name": null,
   "version": "1"
  }
 },
 "nbformat": 4,
 "nbformat_minor": 5
}
