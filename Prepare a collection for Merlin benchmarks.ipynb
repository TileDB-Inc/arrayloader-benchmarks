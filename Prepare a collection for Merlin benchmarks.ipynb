{
 "cells": [
  {
   "cell_type": "markdown",
   "id": "a41a2e1c-11de-4852-8bb7-667a1243bd19",
   "metadata": {},
   "source": [
    "# Prepare a collection for Merlin benchmarks "
   ]
  },
  {
   "cell_type": "code",
   "execution_count": 1,
   "id": "7e440f3f-015f-44d7-acd8-d93f6625781d",
   "metadata": {
    "tags": []
   },
   "outputs": [],
   "source": [
    "import anndata as ad\n",
    "import dask\n",
    "import dask.array as da\n",
    "import dask.dataframe as dd\n",
    "from dask.distributed import Client, LocalCluster\n",
    "from functools import reduce\n",
    "from glob import glob\n",
    "import json\n",
    "import numpy as np\n",
    "from os import makedirs, stat\n",
    "from os.path import basename, exists, join\n",
    "import pandas as pd\n",
    "import pyarrow as pa\n",
    "import shlex\n",
    "from subprocess import check_call, check_output\n",
    "from sys import stderr\n",
    "from tqdm.notebook import tqdm\n",
    "\n",
    "def err(msg):\n",
    "    stderr.write(msg)\n",
    "    stderr.write('\\n')"
   ]
  },
  {
   "cell_type": "code",
   "execution_count": 2,
   "id": "6cf880ab-ec42-4135-8494-3950872c8d97",
   "metadata": {},
   "outputs": [
    {
     "name": "stdout",
     "output_type": "stream",
     "text": [
      "04a23820-ffa8-4be5-9f65-64db15631d1e.h5ad\n",
      "0325478a-9b52-45b5-b40a-2e2ab0d72eb1.h5ad\n",
      "0d7f4c06-a6bd-47d2-a42b-3a7196704f77.h5ad\n",
      "090da8ea-46e8-40df-bffc-1f78e1538d27.h5ad\n",
      "07b1d7c8-5c2e-42f7-9246-26f746cd6013.h5ad\n",
      "0ee5ae70-c3f5-473f-bd1c-287f4690ffc5.h5ad\n",
      "1cf24082-59de-4029-ac81-6e398768af3a.h5ad\n",
      "1b767f95-d0a0-4a3d-b394-cc665d86c3dc.h5ad\n",
      "19b21f40-db42-4a71-a0d6-913e83b17784.h5ad\n",
      "18500fcd-9960-49cb-8a8e-7d868dc14efe.h5ad\n",
      "182f6a56-7360-4924-a74e-1772e07b3031.h5ad\n",
      "22658f4f-9268-41ad-8828-cc53f4baa9fa.h5ad\n",
      "2190bd4d-3be0-4bf7-8ca8-8d6f71228936.h5ad\n",
      "2185eb07-22e2-4209-b3c8-7111afc6aa90.h5ad\n",
      "2a8ca8f3-5599-4cda-b973-3a2dfc3c1fe6.h5ad\n",
      "35090826-f636-40c1-a3ef-4466beeab9f8.h5ad\n",
      "31f04740-c712-4c4b-a3f8-55c0506b3034.h5ad\n",
      "3a7f3ab4-a280-4b3b-b2c0-6dd05614a78c.h5ad\n",
      "367b55f4-d543-49aa-90e8-4765fcb8c687.h5ad\n",
      "470565f2-5afc-456a-b617-18e4496c04fd.h5ad\n",
      "46ff9dc2-3d87-4b36-91aa-ffa8aa13c52e.h5ad\n",
      "43b7e156-65b3-4a7b-8c7a-08528e4b21d0.h5ad\n",
      "421e5f54-5de7-425f-b399-34ead0651ce1.h5ad\n",
      "40e79234-65e8-45e9-b555-5c663154a108.h5ad\n",
      "40569510-2282-461b-84df-6218ef208e0e.h5ad\n",
      "3f56901c-dd4a-47d6-b60b-7b0c0111cfb2.h5ad\n",
      "3f31f8ce-bbf6-4df8-8203-aa240ed03026.h5ad\n",
      "4976b234-9028-4b4b-8a2f-8ac59d636219.h5ad\n",
      "489eaa11-c119-4a5f-b44b-81e33c80c0ef.h5ad\n",
      "4724c395-0c46-46d2-81f7-60fd271fb488.h5ad\n",
      "531c9543-9093-45ed-93ac-ebc5815bfb8a.h5ad\n",
      "52ea546e-9229-40ef-b048-a2e694dd73e8.h5ad\n",
      "529bb209-9d7b-44da-bfa4-f6e4745c46c2.h5ad\n",
      "50dc91a1-36b6-472a-b884-7307b6961ab1.h5ad\n",
      "599504e5-d4ad-45bd-9128-823faf0fb9c9.h5ad\n",
      "59923449-e303-43e6-9e63-03ef92f5ebd1.h5ad\n",
      "639ffc23-14db-4060-9027-3c90314200f8.h5ad\n",
      "5e5ab909-f73f-4b57-98a0-6d2c5662f6a4.h5ad\n",
      "5a73f63f-18a2-49b5-b431-2c469c41a41b.h5ad\n",
      "6dafb698-7a53-4699-ad13-1b5e2c164be7.h5ad\n",
      "64f4ad90-a422-400a-944d-4ce0f39594a7.h5ad\n",
      "64767efb-49b0-4562-a1bd-e619a5d9db41.h5ad\n",
      "715327a6-7978-4896-ba91-69d6b04dbbfb.h5ad\n",
      "700aed19-c16e-4ba8-9191-07da098a8626.h5ad\n",
      "6ed0bb6c-a9e3-4ba6-9436-7c8fd4e206f0.h5ad\n",
      "7d3ab174-e433-40fc-a352-6fe71b1a19f9.h5ad\n",
      "7cd3c321-e487-4b51-a8af-9bf671b59fe5.h5ad\n",
      "7b316f62-7fa0-4b95-bac9-e90866038a85.h5ad\n",
      "7a0a8891-9a22-4549-a55b-c2aca23c3a2a.h5ad\n",
      "77c1c785-809f-4065-8c54-6a0170783256.h5ad\n",
      "8e10f1c4-8e98-41e5-b65f-8cd89a887122.h5ad\n",
      "8f48c031-6692-4c82-b6c2-e4ad35cbc0aa.h5ad\n",
      "8ba5453f-7fab-4702-a3a6-4021b1f31a7a.h5ad\n",
      "88a01d4a-5197-45be-b5ae-e019aef43376.h5ad\n",
      "98113e7e-f586-4065-a26a-60aa702f8d1c.h5ad\n",
      "949ec7fc-ac54-47c9-bb6f-ee9e67688cce.h5ad\n",
      "9372df2d-13d6-4fac-980b-919a5b7eb483.h5ad\n",
      "9f499d32-400d-4c42-ac9a-fb1481844fee.h5ad\n",
      "9ec34295-ab16-47e2-af33-b884143e520b.h5ad\n",
      "a5b5d1f3-dd8b-44f6-a685-15f0f741c062.h5ad\n",
      "a56f1a6b-071c-4780-9832-33ca9b8fb391.h5ad\n",
      "a4116666-d295-4443-a174-0acc283f92c4.h5ad\n",
      "a19b218b-1c0a-4618-b41f-7c216c623ec6.h5ad\n",
      "adda0684-f8ea-4403-b393-2a25607077c4.h5ad\n",
      "a84face4-eb30-4f43-994f-c6a13a097808.h5ad\n",
      "a7b4f565-691d-43ea-bf4a-d2d1d52bb4b4.h5ad\n",
      "b165f033-9dec-468a-9248-802fc6902a74.h5ad\n",
      "b8681124-aabf-4904-b9c9-66d834bf5bba.h5ad\n",
      "c202b243-1aa1-4b16-bc9a-b36241f3b1e3.h5ad\n",
      "bdb26abd-f4ba-4ea3-8862-c2340e7a4f55.h5ad\n",
      "bd6b68e8-179a-42f0-9bde-b4fdf7d34dd1.h5ad\n",
      "c5cfa2b7-abb1-4a50-908f-707b54ca606b.h5ad\n",
      "c4dd26a8-d956-4bee-a233-44b573f2ce27.h5ad\n",
      "c4b03352-af8d-492a-8d6b-40f304e0a122.h5ad\n",
      "caf8670f-e647-4f0c-bfba-163aa84ce602.h5ad\n",
      "ca20e2ac-5676-4158-b5d0-0c2b15898b19.h5ad\n",
      "d6a5b240-cc8f-45c1-ad36-2fc291e15e8e.h5ad\n",
      "d582f63a-3c88-4e38-8cd3-8682dbe40f64.h5ad\n",
      "d2b5efc1-14c6-4b5f-bd98-40f9084872d7.h5ad\n",
      "d288b10a-643e-44bd-b451-96e9588b2ee5.h5ad\n",
      "d02287f3-408b-438d-9131-999e460cbd0e.h5ad\n",
      "dd03ce70-3243-4c96-9561-330cc461e4d7.h5ad\n",
      "db1d2c1b-2ee1-45d5-9d53-69a327cd77e6.h5ad\n",
      "e6b2ce27-681b-4409-a053-2681875936e5.h5ad\n",
      "e4710a02-8abc-48d5-a3e8-9ae7e9d79bdb.h5ad\n",
      "e1f595f6-ba2c-495e-9bee-7056f116b1e4.h5ad\n",
      "ed33c203-233a-476a-a56b-28da945fdd32.h5ad\n",
      "ecd9230d-c571-4dab-abd3-8b54c74833f0.h5ad\n",
      "e8681d74-ac9e-4be5-be14-1cf1bbd54dd7.h5ad\n",
      "f5a04dff-d394-4023-8811-65494e8bb11d.h5ad\n",
      "f502c312-05dc-4fd4-a762-92a63e92b539.h5ad\n",
      "f3565fda-499a-4d20-bd92-563c09954c42.h5ad\n",
      "f20f44ef-a0d4-4d94-87de-037fd47141f0.h5ad\n",
      "f16f4108-7873-4035-9989-3748da1a7ff1.h5ad\n",
      "fbf173f9-f809-4d84-9b65-ae205d35b523.h5ad\n",
      "f9034091-2e8f-4ac6-9874-e7b7eb566824.h5ad\n",
      "f7d003d4-40d5-4de8-858c-a9a8b48fcc67.h5ad\n",
      "f6d9f2ad-5ec7-4d53-b7f0-ceb0e7bcd181.h5ad\n",
      "fe1a73ab-a203-45fd-84e9-0f7fd19efcbd.h5ad\n",
      "ff7d15fa-f4b6-4a0e-992e-fd0c9d088ded.h5ad\n",
      "fa554686-fc07-44dd-b2de-b726d82d26ec.h5ad\n",
      "f8dda921-5fb4-4c94-a654-c6fc346bfd6d.h5ad\n",
      "f32c2c13-bb1a-4ffd-a457-60b64ecfa4cb.h5ad\n",
      "ed11cc3e-2947-407c-883c-c53b043917c3.h5ad\n",
      "e5b1115b-a486-49bb-bda3-8261822836e0.h5ad\n",
      "d5452b83-7c3d-4d7c-ab7a-c7fece7196c5.h5ad\n",
      "d2514440-d747-4d8d-b2c7-b58ef8b71fbe.h5ad\n",
      "cfa755c1-48c5-4336-94f4-aa95eca4fbd5.h5ad\n",
      "c7856243-c59a-4b70-8ce7-25b94c2d9da1.h5ad\n",
      "c2aad8fc-b63b-4f9b-9cfd-baf7bc9c1771.h5ad\n",
      "bac09168-940b-4b11-8d55-b4955f80b98d.h5ad\n",
      "acae7679-d077-461c-b857-ee6ccfeb267f.h5ad\n",
      "a59ba9fa-1407-4f15-8c56-d3637421570d.h5ad\n",
      "9ec335f2-420a-45a8-b45a-1ab646e50041.h5ad\n",
      "93131426-0124-4ab4-a013-9dfbcd99d467.h5ad\n",
      "900fdf13-150d-4695-9f8c-4c09105ba2eb.h5ad\n",
      "8039c63d-08b0-4fc9-af0f-5b57f08ca0da.h5ad\n",
      "7db0c178-b0a4-442f-ba54-e9e1633a84bb.h5ad\n",
      "7c1c3d47-3166-43e5-9a95-65ceb2d45f78.h5ad\n",
      "77044335-0ac5-4406-9b3f-8cdd3656d67b.h5ad\n",
      "70e4f35b-c98c-45a1-9aa9-2053b07315dd.h5ad\n",
      "6538ce1b-7949-405f-b01c-a2c3e876baee.h5ad\n",
      "5bc23cb2-8cfc-4960-bab1-c3027fbeefc4.h5ad\n",
      "56c33a38-2732-4e53-a9c1-1bc61eda9a99.h5ad\n",
      "52f18bc3-52d9-487b-bf8f-f0b7aa684b09.h5ad\n",
      "4d43082e-59cd-43ac-b77d-54d55519c881.h5ad\n",
      "4593c820-512d-4805-a10f-c0b864a7cc8c.h5ad\n",
      "40318d39-3d8f-49f4-8455-a2e1365c5c5b.h5ad\n",
      "381aa407-317a-40ef-8048-7ce0eacc4266.h5ad\n",
      "364348b4-bc34-4fe1-a851-60d99e36cafa.h5ad\n",
      "35c8a04c-8639-4d15-8228-765d8d93fc96.h5ad\n",
      "27d91086-cfe3-4e33-9282-bd1246e5ce8e.h5ad\n",
      "20980d73-7c53-4039-b852-b76a01566d5a.h5ad\n",
      "1a018108-b4b6-457b-ba15-046d5e98c169.h5ad\n",
      "1185a7d3-a9c1-4280-9ba5-d61895b15cac.h5ad\n",
      "095940cb-7422-4510-96e2-cbafd961eb88.h5ad\n",
      "03d38670-1444-4001-bc53-9936e61d9b20.h5ad\n",
      "00476f9f-ebc1-4b72-b541-32f912ce36ea.h5ad\n"
     ]
    }
   ],
   "source": [
    "with open('h5ads.txt', 'r') as f:\n",
    "    h5ad_names = [ l.rstrip('\\n') for l in f.readlines() ]\n",
    "print('\\n'.join(h5ad_names))"
   ]
  },
  {
   "cell_type": "code",
   "execution_count": 3,
   "id": "f5b089c1-e6e4-41d2-bbd3-184d330fdcc6",
   "metadata": {},
   "outputs": [],
   "source": [
    "bkt = 'cellxgene-census-public-us-west-2'\n",
    "bkt_dir = 'cell-census/2023-12-15/h5ads'\n",
    "prefix = f'{bkt}/{bkt_dir}'\n",
    "\n",
    "def sync(start, end, dryrun=False):\n",
    "    cmd = [\n",
    "        'aws', 's3', 'sync',\n",
    "        *(['--dryrun'] if dryrun else []),\n",
    "        '--exclude', '*',\n",
    "        *[\n",
    "            arg\n",
    "            for name in h5ad_names[start:end]\n",
    "            for arg in [ '--include', name ]\n",
    "        ],\n",
    "        f's3://{prefix}',\n",
    "        f's3/{prefix}',\n",
    "    ]\n",
    "    err(f'Running: {shlex.join(cmd)}')\n",
    "    check_call(cmd)"
   ]
  },
  {
   "cell_type": "code",
   "execution_count": 4,
   "id": "53778330-a6b8-4373-a8b5-99396013fe9f",
   "metadata": {},
   "outputs": [
    {
     "name": "stderr",
     "output_type": "stream",
     "text": [
      "Running: aws s3 sync --exclude '*' --include 04a23820-ffa8-4be5-9f65-64db15631d1e.h5ad --include 0325478a-9b52-45b5-b40a-2e2ab0d72eb1.h5ad --include 0d7f4c06-a6bd-47d2-a42b-3a7196704f77.h5ad --include 090da8ea-46e8-40df-bffc-1f78e1538d27.h5ad --include 07b1d7c8-5c2e-42f7-9246-26f746cd6013.h5ad --include 0ee5ae70-c3f5-473f-bd1c-287f4690ffc5.h5ad --include 1cf24082-59de-4029-ac81-6e398768af3a.h5ad --include 1b767f95-d0a0-4a3d-b394-cc665d86c3dc.h5ad --include 19b21f40-db42-4a71-a0d6-913e83b17784.h5ad --include 18500fcd-9960-49cb-8a8e-7d868dc14efe.h5ad s3://cellxgene-census-public-us-west-2/cell-census/2023-12-15/h5ads s3/cellxgene-census-public-us-west-2/cell-census/2023-12-15/h5ads\n"
     ]
    },
    {
     "name": "stdout",
     "output_type": "stream",
     "text": [
      "CPU times: user 1.56 ms, sys: 0 ns, total: 1.56 ms\n",
      "Wall time: 2.36 s\n"
     ]
    }
   ],
   "source": [
    "%%time\n",
    "sync(0, 10)"
   ]
  },
  {
   "cell_type": "code",
   "execution_count": 5,
   "id": "0848d2f8-51c3-4fc0-9487-511ed59b08dc",
   "metadata": {},
   "outputs": [
    {
     "data": {
      "text/plain": [
       "['s3/cellxgene-census-public-us-west-2/cell-census/2023-12-15/h5ads/090da8ea-46e8-40df-bffc-1f78e1538d27.h5ad',\n",
       " 's3/cellxgene-census-public-us-west-2/cell-census/2023-12-15/h5ads/0ee5ae70-c3f5-473f-bd1c-287f4690ffc5.h5ad',\n",
       " 's3/cellxgene-census-public-us-west-2/cell-census/2023-12-15/h5ads/18500fcd-9960-49cb-8a8e-7d868dc14efe.h5ad',\n",
       " 's3/cellxgene-census-public-us-west-2/cell-census/2023-12-15/h5ads/0d7f4c06-a6bd-47d2-a42b-3a7196704f77.h5ad',\n",
       " 's3/cellxgene-census-public-us-west-2/cell-census/2023-12-15/h5ads/04a23820-ffa8-4be5-9f65-64db15631d1e.h5ad',\n",
       " 's3/cellxgene-census-public-us-west-2/cell-census/2023-12-15/h5ads/07b1d7c8-5c2e-42f7-9246-26f746cd6013.h5ad',\n",
       " 's3/cellxgene-census-public-us-west-2/cell-census/2023-12-15/h5ads/1b767f95-d0a0-4a3d-b394-cc665d86c3dc.h5ad',\n",
       " 's3/cellxgene-census-public-us-west-2/cell-census/2023-12-15/h5ads/19b21f40-db42-4a71-a0d6-913e83b17784.h5ad',\n",
       " 's3/cellxgene-census-public-us-west-2/cell-census/2023-12-15/h5ads/1cf24082-59de-4029-ac81-6e398768af3a.h5ad',\n",
       " 's3/cellxgene-census-public-us-west-2/cell-census/2023-12-15/h5ads/0325478a-9b52-45b5-b40a-2e2ab0d72eb1.h5ad']"
      ]
     },
     "execution_count": 5,
     "metadata": {},
     "output_type": "execute_result"
    }
   ],
   "source": [
    "h5ad_paths = glob(f's3/{prefix}/*.h5ad')\n",
    "h5ad_paths"
   ]
  },
  {
   "cell_type": "markdown",
   "id": "d69856bb-2598-4a7a-85d8-e48979d365e8",
   "metadata": {},
   "source": [
    "Adapted [from `lamindb.MappedCollection._make_join_vars`](https://github.com/laminlabs/lamindb/blob/0.69.9/lamindb/core/_mapped_collection.py#L198-L221):"
   ]
  },
  {
   "cell_type": "code",
   "execution_count": 6,
   "id": "e83ad35e-4fa9-41fc-b777-24a40aef40fb",
   "metadata": {},
   "outputs": [
    {
     "name": "stdout",
     "output_type": "stream",
     "text": [
      "lens: 59357, 59357, 59357, 59357, 59357, 59357, 59357, 59357, 59357, 59357\n",
      "59357 joint vars\n",
      "CPU times: user 3.54 s, sys: 322 ms, total: 3.86 s\n",
      "Wall time: 4.64 s\n"
     ]
    },
    {
     "data": {
      "text/plain": [
       "['ENSG00000287383',\n",
       " 'ENSG00000100097',\n",
       " 'ENSG00000271850',\n",
       " 'ENSG00000156049',\n",
       " 'ENSG00000231373',\n",
       " 'ENSG00000232560',\n",
       " 'ENSG00000233359',\n",
       " 'ENSG00000172197',\n",
       " 'ENSG00000286271',\n",
       " 'ENSG00000150656']"
      ]
     },
     "execution_count": 6,
     "metadata": {},
     "output_type": "execute_result"
    }
   ],
   "source": [
    "%%time\n",
    "var_list = []\n",
    "for path in h5ad_paths:\n",
    "    h5ad = ad.read_h5ad(path, 'r')\n",
    "    var_list.append(h5ad.var.index)\n",
    "\n",
    "print('lens: %s' % ', '.join(map(str, [ len(v) for v in var_list ])))\n",
    "\n",
    "var_inner = reduce(pd.Index.intersection, var_list)\n",
    "print(f'{len(var_inner)} joint vars')\n",
    "\n",
    "var_inner = var_inner[:20000].tolist()\n",
    "var_inner[:10]"
   ]
  },
  {
   "cell_type": "code",
   "execution_count": 7,
   "id": "6339fd7c",
   "metadata": {},
   "outputs": [
    {
     "data": {
      "text/html": [
       "<div>\n",
       "    <div style=\"width: 24px; height: 24px; background-color: #e1e1e1; border: 3px solid #9D9D9D; border-radius: 5px; position: absolute;\"> </div>\n",
       "    <div style=\"margin-left: 48px;\">\n",
       "        <h3 style=\"margin-bottom: 0px;\">Client</h3>\n",
       "        <p style=\"color: #9D9D9D; margin-bottom: 0px;\">Client-80de8de3-f80a-11ee-9b1b-0aeb5ee8e2f3</p>\n",
       "        <table style=\"width: 100%; text-align: left;\">\n",
       "\n",
       "        <tr>\n",
       "        \n",
       "            <td style=\"text-align: left;\"><strong>Connection method:</strong> Cluster object</td>\n",
       "            <td style=\"text-align: left;\"><strong>Cluster type:</strong> distributed.LocalCluster</td>\n",
       "        \n",
       "        </tr>\n",
       "\n",
       "        \n",
       "            <tr>\n",
       "                <td style=\"text-align: left;\">\n",
       "                    <strong>Dashboard: </strong> <a href=\"http://127.0.0.1:8787/status\" target=\"_blank\">http://127.0.0.1:8787/status</a>\n",
       "                </td>\n",
       "                <td style=\"text-align: left;\"></td>\n",
       "            </tr>\n",
       "        \n",
       "\n",
       "        </table>\n",
       "\n",
       "        \n",
       "\n",
       "        \n",
       "            <details>\n",
       "            <summary style=\"margin-bottom: 20px;\"><h3 style=\"display: inline;\">Cluster Info</h3></summary>\n",
       "            <div class=\"jp-RenderedHTMLCommon jp-RenderedHTML jp-mod-trusted jp-OutputArea-output\">\n",
       "    <div style=\"width: 24px; height: 24px; background-color: #e1e1e1; border: 3px solid #9D9D9D; border-radius: 5px; position: absolute;\">\n",
       "    </div>\n",
       "    <div style=\"margin-left: 48px;\">\n",
       "        <h3 style=\"margin-bottom: 0px; margin-top: 0px;\">LocalCluster</h3>\n",
       "        <p style=\"color: #9D9D9D; margin-bottom: 0px;\">cbf3919b</p>\n",
       "        <table style=\"width: 100%; text-align: left;\">\n",
       "            <tr>\n",
       "                <td style=\"text-align: left;\">\n",
       "                    <strong>Dashboard:</strong> <a href=\"http://127.0.0.1:8787/status\" target=\"_blank\">http://127.0.0.1:8787/status</a>\n",
       "                </td>\n",
       "                <td style=\"text-align: left;\">\n",
       "                    <strong>Workers:</strong> 1\n",
       "                </td>\n",
       "            </tr>\n",
       "            <tr>\n",
       "                <td style=\"text-align: left;\">\n",
       "                    <strong>Total threads:</strong> 8\n",
       "                </td>\n",
       "                <td style=\"text-align: left;\">\n",
       "                    <strong>Total memory:</strong> 62.10 GiB\n",
       "                </td>\n",
       "            </tr>\n",
       "            \n",
       "            <tr>\n",
       "    <td style=\"text-align: left;\"><strong>Status:</strong> running</td>\n",
       "    <td style=\"text-align: left;\"><strong>Using processes:</strong> True</td>\n",
       "</tr>\n",
       "\n",
       "            \n",
       "        </table>\n",
       "\n",
       "        <details>\n",
       "            <summary style=\"margin-bottom: 20px;\">\n",
       "                <h3 style=\"display: inline;\">Scheduler Info</h3>\n",
       "            </summary>\n",
       "\n",
       "            <div style=\"\">\n",
       "    <div>\n",
       "        <div style=\"width: 24px; height: 24px; background-color: #FFF7E5; border: 3px solid #FF6132; border-radius: 5px; position: absolute;\"> </div>\n",
       "        <div style=\"margin-left: 48px;\">\n",
       "            <h3 style=\"margin-bottom: 0px;\">Scheduler</h3>\n",
       "            <p style=\"color: #9D9D9D; margin-bottom: 0px;\">Scheduler-afda13ed-9ae7-4615-83f1-abe438a5b40c</p>\n",
       "            <table style=\"width: 100%; text-align: left;\">\n",
       "                <tr>\n",
       "                    <td style=\"text-align: left;\">\n",
       "                        <strong>Comm:</strong> tcp://127.0.0.1:44717\n",
       "                    </td>\n",
       "                    <td style=\"text-align: left;\">\n",
       "                        <strong>Workers:</strong> 1\n",
       "                    </td>\n",
       "                </tr>\n",
       "                <tr>\n",
       "                    <td style=\"text-align: left;\">\n",
       "                        <strong>Dashboard:</strong> <a href=\"http://127.0.0.1:8787/status\" target=\"_blank\">http://127.0.0.1:8787/status</a>\n",
       "                    </td>\n",
       "                    <td style=\"text-align: left;\">\n",
       "                        <strong>Total threads:</strong> 8\n",
       "                    </td>\n",
       "                </tr>\n",
       "                <tr>\n",
       "                    <td style=\"text-align: left;\">\n",
       "                        <strong>Started:</strong> Just now\n",
       "                    </td>\n",
       "                    <td style=\"text-align: left;\">\n",
       "                        <strong>Total memory:</strong> 62.10 GiB\n",
       "                    </td>\n",
       "                </tr>\n",
       "            </table>\n",
       "        </div>\n",
       "    </div>\n",
       "\n",
       "    <details style=\"margin-left: 48px;\">\n",
       "        <summary style=\"margin-bottom: 20px;\">\n",
       "            <h3 style=\"display: inline;\">Workers</h3>\n",
       "        </summary>\n",
       "\n",
       "        \n",
       "        <div style=\"margin-bottom: 20px;\">\n",
       "            <div style=\"width: 24px; height: 24px; background-color: #DBF5FF; border: 3px solid #4CC9FF; border-radius: 5px; position: absolute;\"> </div>\n",
       "            <div style=\"margin-left: 48px;\">\n",
       "            <details>\n",
       "                <summary>\n",
       "                    <h4 style=\"margin-bottom: 0px; display: inline;\">Worker: 0</h4>\n",
       "                </summary>\n",
       "                <table style=\"width: 100%; text-align: left;\">\n",
       "                    <tr>\n",
       "                        <td style=\"text-align: left;\">\n",
       "                            <strong>Comm: </strong> tcp://127.0.0.1:38935\n",
       "                        </td>\n",
       "                        <td style=\"text-align: left;\">\n",
       "                            <strong>Total threads: </strong> 8\n",
       "                        </td>\n",
       "                    </tr>\n",
       "                    <tr>\n",
       "                        <td style=\"text-align: left;\">\n",
       "                            <strong>Dashboard: </strong> <a href=\"http://127.0.0.1:42909/status\" target=\"_blank\">http://127.0.0.1:42909/status</a>\n",
       "                        </td>\n",
       "                        <td style=\"text-align: left;\">\n",
       "                            <strong>Memory: </strong> 62.10 GiB\n",
       "                        </td>\n",
       "                    </tr>\n",
       "                    <tr>\n",
       "                        <td style=\"text-align: left;\">\n",
       "                            <strong>Nanny: </strong> tcp://127.0.0.1:46607\n",
       "                        </td>\n",
       "                        <td style=\"text-align: left;\"></td>\n",
       "                    </tr>\n",
       "                    <tr>\n",
       "                        <td colspan=\"2\" style=\"text-align: left;\">\n",
       "                            <strong>Local directory: </strong> /home/ec2-user/c/tiledb/arrayloader-benchmarks/scratch/dask-scratch-space/worker-l55dg0py\n",
       "                        </td>\n",
       "                    </tr>\n",
       "\n",
       "                    \n",
       "\n",
       "                    \n",
       "\n",
       "                </table>\n",
       "            </details>\n",
       "            </div>\n",
       "        </div>\n",
       "        \n",
       "\n",
       "    </details>\n",
       "</div>\n",
       "\n",
       "        </details>\n",
       "    </div>\n",
       "</div>\n",
       "            </details>\n",
       "        \n",
       "\n",
       "    </div>\n",
       "</div>"
      ],
      "text/plain": [
       "<Client: 'tcp://127.0.0.1:44717' processes=1 threads=8, memory=62.10 GiB>"
      ]
     },
     "execution_count": 7,
     "metadata": {},
     "output_type": "execute_result"
    },
    {
     "name": "stderr",
     "output_type": "stream",
     "text": [
      "2024-04-11 14:03:15,419 - distributed.nanny.memory - WARNING - Worker tcp://127.0.0.1:38935 (pid=6985) exceeded 95% memory budget. Restarting...\n",
      "2024-04-11 14:03:20,318 - distributed.scheduler - WARNING - Removing worker 'tcp://127.0.0.1:38935' caused the cluster to lose already computed task(s), which will be recomputed elsewhere: {('convert_to_dataframe-177cad9a-6691-48ff-a8b6-2d9e3d173aa3', 0), ('convert_to_dataframe-404a51d0-8abd-48da-9a81-53553d7a71cb', 0), ('convert_to_dataframe-a76d0877-d088-420e-aa6c-36723687a6e5', 0), ('convert_to_dataframe-8fe8dc91-0feb-4e85-8826-c3cccecc2306', 0), ('convert_to_dataframe-b0994537-3f92-4c4c-8ad2-656f7db1fa04', 0), ('convert_to_dataframe-495cb49c-24eb-4674-ace1-0124b1746427', 0), ('convert_to_dataframe-15228838-2202-43da-966e-aef1f4122c4c', 0), ('convert_to_dataframe-17ca92f7-215e-4cde-b293-24deed211b2e', 0), ('convert_to_dataframe-4fcc87ce-39a8-4d1e-bce5-dce14c552105', 0), ('convert_to_dataframe-5ef8fea6-4c78-4127-b3b5-ba9412332af7', 0), ('convert_to_dataframe-b05f6778-4b06-4e00-8b2e-b15643ea19a5', 0), ('convert_to_dataframe-d33fd10a-657b-4d61-b3f5-6dabb04345ef', 0), ('convert_to_dataframe-62b684ee-f2e0-4329-8509-d75af6b780eb', 0), ('convert_to_dataframe-348844b9-7819-40c3-a2a0-8ed132692605', 0), ('convert_to_dataframe-5395f702-e3e4-4b1a-83a5-2eae164f4cc3', 0), ('convert_to_dataframe-8d80529f-295f-435f-a076-8312335a23a3', 0), ('convert_to_dataframe-00a1aab4-13c6-4b1b-a0be-21e2319a9e62', 0), ('convert_to_dataframe-470bb617-5ec3-4196-811a-9db182994a4e', 0), ('convert_to_dataframe-8ca843a7-4e7c-40ca-ae46-687443b000d4', 0), ('convert_to_dataframe-dfc4074d-2881-4a53-8362-d797e30051e4', 0), ('convert_to_dataframe-b90f74d6-f03c-4a88-8a47-85088f3333f8', 0), ('convert_to_dataframe-871f2fff-6f69-4a78-ba49-ec71a9359155', 0), ('convert_to_dataframe-1da9b911-5855-4b58-a727-7e63a8772e2c', 0), ('convert_to_dataframe-6fbcc56c-04b9-4c78-a759-027b5d55662f', 0), ('convert_to_dataframe-44513abb-7433-463c-8b49-a7496e28e1f1', 0), ('convert_to_dataframe-4634a9f1-65ee-43bd-9ba8-584deccfc051', 0)} (stimulus_id='handle-worker-cleanup-1712844200.279664')\n",
      "2024-04-11 14:03:20,495 - distributed.nanny - WARNING - Restarting worker\n",
      "2024-04-11 14:15:48,386 - distributed.scheduler - WARNING - Worker failed to heartbeat within 300 seconds. Closing: <WorkerState 'tcp://127.0.0.1:40769', name: 0, status: running, memory: 26, processing: 26>\n",
      "2024-04-11 14:15:50,215 - distributed.scheduler - WARNING - Removing worker 'tcp://127.0.0.1:40769' caused the cluster to lose already computed task(s), which will be recomputed elsewhere: {('convert_to_dataframe-177cad9a-6691-48ff-a8b6-2d9e3d173aa3', 0), ('convert_to_dataframe-404a51d0-8abd-48da-9a81-53553d7a71cb', 0), ('convert_to_dataframe-a76d0877-d088-420e-aa6c-36723687a6e5', 0), ('convert_to_dataframe-8fe8dc91-0feb-4e85-8826-c3cccecc2306', 0), ('convert_to_dataframe-b0994537-3f92-4c4c-8ad2-656f7db1fa04', 0), ('convert_to_dataframe-495cb49c-24eb-4674-ace1-0124b1746427', 0), ('convert_to_dataframe-15228838-2202-43da-966e-aef1f4122c4c', 0), ('convert_to_dataframe-17ca92f7-215e-4cde-b293-24deed211b2e', 0), ('convert_to_dataframe-4fcc87ce-39a8-4d1e-bce5-dce14c552105', 0), ('convert_to_dataframe-5ef8fea6-4c78-4127-b3b5-ba9412332af7', 0), ('convert_to_dataframe-b05f6778-4b06-4e00-8b2e-b15643ea19a5', 0), ('convert_to_dataframe-d33fd10a-657b-4d61-b3f5-6dabb04345ef', 0), ('convert_to_dataframe-62b684ee-f2e0-4329-8509-d75af6b780eb', 0), ('convert_to_dataframe-348844b9-7819-40c3-a2a0-8ed132692605', 0), ('convert_to_dataframe-5395f702-e3e4-4b1a-83a5-2eae164f4cc3', 0), ('convert_to_dataframe-8d80529f-295f-435f-a076-8312335a23a3', 0), ('convert_to_dataframe-00a1aab4-13c6-4b1b-a0be-21e2319a9e62', 0), ('convert_to_dataframe-470bb617-5ec3-4196-811a-9db182994a4e', 0), ('convert_to_dataframe-8ca843a7-4e7c-40ca-ae46-687443b000d4', 0), ('convert_to_dataframe-dfc4074d-2881-4a53-8362-d797e30051e4', 0), ('convert_to_dataframe-b90f74d6-f03c-4a88-8a47-85088f3333f8', 0), ('convert_to_dataframe-871f2fff-6f69-4a78-ba49-ec71a9359155', 0), ('convert_to_dataframe-1da9b911-5855-4b58-a727-7e63a8772e2c', 0), ('convert_to_dataframe-6fbcc56c-04b9-4c78-a759-027b5d55662f', 0), ('convert_to_dataframe-44513abb-7433-463c-8b49-a7496e28e1f1', 0), ('convert_to_dataframe-4634a9f1-65ee-43bd-9ba8-584deccfc051', 0)} (stimulus_id='check-worker-ttl-1712844948.3293905')\n",
      "2024-04-11 14:16:09,936 - distributed.nanny - WARNING - Worker process still alive after 3.1995025634765626 seconds, killing\n",
      "2024-04-12 02:19:55,159 - tornado.application - ERROR - Uncaught exception GET /status/ws (127.0.0.1)\n",
      "HTTPServerRequest(protocol='http', host='127.0.0.1:8787', method='GET', uri='/status/ws', version='HTTP/1.1', remote_ip='127.0.0.1')\n",
      "Traceback (most recent call last):\n",
      "  File \"/home/ec2-user/miniconda3/envs/arrayloader-benchmarks/lib/python3.11/site-packages/tornado/websocket.py\", line 938, in _accept_connection\n",
      "    open_result = handler.open(*handler.open_args, **handler.open_kwargs)\n",
      "                  ^^^^^^^^^^^^^^^^^^^^^^^^^^^^^^^^^^^^^^^^^^^^^^^^^^^^^^^\n",
      "  File \"/home/ec2-user/miniconda3/envs/arrayloader-benchmarks/lib/python3.11/site-packages/tornado/web.py\", line 3301, in wrapper\n",
      "    return method(self, *args, **kwargs)\n",
      "           ^^^^^^^^^^^^^^^^^^^^^^^^^^^^^\n",
      "  File \"/home/ec2-user/miniconda3/envs/arrayloader-benchmarks/lib/python3.11/site-packages/bokeh/server/views/ws.py\", line 149, in open\n",
      "    raise ProtocolError(\"Token is expired.\")\n",
      "bokeh.protocol.exceptions.ProtocolError: Token is expired.\n",
      "Task exception was never retrieved\n",
      "future: <Task finished name='Task-974' coro=<Client._gather.<locals>.wait() done, defined at /home/ec2-user/miniconda3/envs/arrayloader-benchmarks/lib/python3.11/site-packages/distributed/client.py:2197> exception=AllExit()>\n",
      "Traceback (most recent call last):\n",
      "  File \"/home/ec2-user/miniconda3/envs/arrayloader-benchmarks/lib/python3.11/site-packages/distributed/client.py\", line 2206, in wait\n",
      "distributed.client.AllExit\n"
     ]
    }
   ],
   "source": [
    "dask.config.set({'temporary_directory': 'scratch'})\n",
    "cluster = LocalCluster(n_workers=1)\n",
    "client = Client(cluster)\n",
    "client"
   ]
  },
  {
   "cell_type": "code",
   "execution_count": 8,
   "id": "76038a7d-d045-4715-ae47-5a57cc2e4259",
   "metadata": {},
   "outputs": [],
   "source": [
    "out_dir = 'var20k'\n",
    "makedirs(out_dir, exist_ok=True)\n",
    "\n",
    "@dask.delayed\n",
    "def slice_20k_vars(h5ad_path):    \n",
    "    out_path = join(out_dir, basename(h5ad_path))\n",
    "    if exists(out_path):\n",
    "        #stderr(f\"Found {out_path}, skipping\")\n",
    "        return\n",
    "    h5ad = ad.read_h5ad(h5ad_path, 'r')\n",
    "    # todo: check why this error happens\n",
    "    # TypeError: Indexing elements must be in increasing order\n",
    "    # via selection of named varibales\n",
    "    # access[:, var_inner].to_memory()\n",
    "    # for the second artifact 0325478a-9b52-45b5-b40a-2e2ab0d72eb1.h5ad\n",
    "    # ok, it seems it doens't work with non-increasing indices\n",
    "    # todo: fix\n",
    "    adata = h5ad[:, var_inner]#.to_memory()\n",
    "    # idx_sort, reverse = np.unique(h5ad.var_names.get_indexer(var_inner), return_inverse=True)\n",
    "    # adata = h5ad[:, idx_sort].to_memory()[:, reverse]\n",
    "    #err(f\"Writing {out_path}\")\n",
    "    adata.write_h5ad(out_path)"
   ]
  },
  {
   "cell_type": "code",
   "execution_count": 9,
   "id": "5b12e775-5e87-4f2c-8096-4120cfd0f1af",
   "metadata": {},
   "outputs": [
    {
     "name": "stdout",
     "output_type": "stream",
     "text": [
      "CPU times: user 42.3 ms, sys: 292 µs, total: 42.6 ms\n",
      "Wall time: 254 ms\n"
     ]
    },
    {
     "data": {
      "text/plain": [
       "([None, None, None, None, None, None, None, None, None, None],)"
      ]
     },
     "execution_count": 9,
     "metadata": {},
     "output_type": "execute_result"
    }
   ],
   "source": [
    "%%time\n",
    "dask.compute([ slice_20k_vars(h5ad_path) for h5ad_path in h5ad_paths ])"
   ]
  },
  {
   "cell_type": "markdown",
   "id": "e8439731",
   "metadata": {},
   "source": [
    "## Prepare parquet"
   ]
  },
  {
   "cell_type": "code",
   "execution_count": 10,
   "id": "9cf3384e-03f4-4f44-865c-3164b20e68d7",
   "metadata": {},
   "outputs": [],
   "source": [
    "#cluster.close()"
   ]
  },
  {
   "cell_type": "code",
   "execution_count": 11,
   "id": "d661cdb8",
   "metadata": {},
   "outputs": [],
   "source": [
    "@dask.delayed\n",
    "def read_X(path, idx):\n",
    "    return ad.read_h5ad(path, backed=\"r\").X[idx, :].toarray().astype(\"float32\", copy=False)"
   ]
  },
  {
   "cell_type": "code",
   "execution_count": 12,
   "id": "0a53e5fd",
   "metadata": {},
   "outputs": [],
   "source": [
    "# number of files per parquet file\n",
    "CHUNK_SIZE = 32768\n",
    "# row group size of parquet files\n",
    "ROW_GROUP_SIZE = 1024"
   ]
  },
  {
   "cell_type": "code",
   "execution_count": 13,
   "id": "32e4e4df",
   "metadata": {},
   "outputs": [
    {
     "name": "stdout",
     "output_type": "stream",
     "text": [
      "CPU times: user 1.78 s, sys: 177 ms, total: 1.96 s\n",
      "Wall time: 2.46 s\n"
     ]
    }
   ],
   "source": [
    "%%time\n",
    "array_chunks = []\n",
    "chunk_sizes = []\n",
    "\n",
    "for path in h5ad_paths:\n",
    "    name = basename(path)\n",
    "    h5ad_path = join(out_dir, name)\n",
    "    access = ad.read_h5ad(h5ad_path, 'r')\n",
    "    n_obs = access.shape[0]\n",
    "    idx_splits = np.array_split(np.arange(n_obs), np.ceil(n_obs / CHUNK_SIZE))\n",
    "    for idx in idx_splits:\n",
    "        array_chunks.append(read_X(h5ad_path, idx))\n",
    "        chunk_sizes.append(len(idx))"
   ]
  },
  {
   "cell_type": "code",
   "execution_count": 14,
   "id": "491513cd",
   "metadata": {},
   "outputs": [],
   "source": [
    "X = da.concatenate([\n",
    "    da.from_delayed(chunk, (shape, len(var_inner)), dtype=\"float32\") \n",
    "    for chunk, shape in zip(array_chunks, chunk_sizes)\n",
    "]).rechunk((CHUNK_SIZE, -1))"
   ]
  },
  {
   "cell_type": "code",
   "execution_count": 15,
   "id": "43a68128",
   "metadata": {},
   "outputs": [
    {
     "data": {
      "text/html": [
       "<table>\n",
       "    <tr>\n",
       "        <td>\n",
       "            <table style=\"border-collapse: collapse;\">\n",
       "                <thead>\n",
       "                    <tr>\n",
       "                        <td> </td>\n",
       "                        <th> Array </th>\n",
       "                        <th> Chunk </th>\n",
       "                    </tr>\n",
       "                </thead>\n",
       "                <tbody>\n",
       "                    \n",
       "                    <tr>\n",
       "                        <th> Bytes </th>\n",
       "                        <td> 61.39 GiB </td>\n",
       "                        <td> 2.44 GiB </td>\n",
       "                    </tr>\n",
       "                    \n",
       "                    <tr>\n",
       "                        <th> Shape </th>\n",
       "                        <td> (823976, 20000) </td>\n",
       "                        <td> (32768, 20000) </td>\n",
       "                    </tr>\n",
       "                    <tr>\n",
       "                        <th> Dask graph </th>\n",
       "                        <td colspan=\"2\"> 26 chunks in 62 graph layers </td>\n",
       "                    </tr>\n",
       "                    <tr>\n",
       "                        <th> Data type </th>\n",
       "                        <td colspan=\"2\"> float32 numpy.ndarray </td>\n",
       "                    </tr>\n",
       "                </tbody>\n",
       "            </table>\n",
       "        </td>\n",
       "        <td>\n",
       "        <svg width=\"80\" height=\"170\" style=\"stroke:rgb(0,0,0);stroke-width:1\" >\n",
       "\n",
       "  <!-- Horizontal lines -->\n",
       "  <line x1=\"0\" y1=\"0\" x2=\"30\" y2=\"0\" style=\"stroke-width:2\" />\n",
       "  <line x1=\"0\" y1=\"4\" x2=\"30\" y2=\"4\" />\n",
       "  <line x1=\"0\" y1=\"9\" x2=\"30\" y2=\"9\" />\n",
       "  <line x1=\"0\" y1=\"19\" x2=\"30\" y2=\"19\" />\n",
       "  <line x1=\"0\" y1=\"23\" x2=\"30\" y2=\"23\" />\n",
       "  <line x1=\"0\" y1=\"28\" x2=\"30\" y2=\"28\" />\n",
       "  <line x1=\"0\" y1=\"38\" x2=\"30\" y2=\"38\" />\n",
       "  <line x1=\"0\" y1=\"42\" x2=\"30\" y2=\"42\" />\n",
       "  <line x1=\"0\" y1=\"47\" x2=\"30\" y2=\"47\" />\n",
       "  <line x1=\"0\" y1=\"57\" x2=\"30\" y2=\"57\" />\n",
       "  <line x1=\"0\" y1=\"62\" x2=\"30\" y2=\"62\" />\n",
       "  <line x1=\"0\" y1=\"71\" x2=\"30\" y2=\"71\" />\n",
       "  <line x1=\"0\" y1=\"76\" x2=\"30\" y2=\"76\" />\n",
       "  <line x1=\"0\" y1=\"81\" x2=\"30\" y2=\"81\" />\n",
       "  <line x1=\"0\" y1=\"90\" x2=\"30\" y2=\"90\" />\n",
       "  <line x1=\"0\" y1=\"95\" x2=\"30\" y2=\"95\" />\n",
       "  <line x1=\"0\" y1=\"100\" x2=\"30\" y2=\"100\" />\n",
       "  <line x1=\"0\" y1=\"109\" x2=\"30\" y2=\"109\" />\n",
       "  <line x1=\"0\" y1=\"114\" x2=\"30\" y2=\"114\" />\n",
       "  <line x1=\"0\" y1=\"120\" x2=\"30\" y2=\"120\" style=\"stroke-width:2\" />\n",
       "\n",
       "  <!-- Vertical lines -->\n",
       "  <line x1=\"0\" y1=\"0\" x2=\"0\" y2=\"120\" style=\"stroke-width:2\" />\n",
       "  <line x1=\"30\" y1=\"0\" x2=\"30\" y2=\"120\" style=\"stroke-width:2\" />\n",
       "\n",
       "  <!-- Colored Rectangle -->\n",
       "  <polygon points=\"0.0,0.0 30.139192739765683,0.0 30.139192739765683,120.0 0.0,120.0\" style=\"fill:#8B4903A0;stroke-width:0\"/>\n",
       "\n",
       "  <!-- Text -->\n",
       "  <text x=\"15.069596\" y=\"140.000000\" font-size=\"1.0rem\" font-weight=\"100\" text-anchor=\"middle\" >20000</text>\n",
       "  <text x=\"50.139193\" y=\"60.000000\" font-size=\"1.0rem\" font-weight=\"100\" text-anchor=\"middle\" transform=\"rotate(-90,50.139193,60.000000)\">823976</text>\n",
       "</svg>\n",
       "        </td>\n",
       "    </tr>\n",
       "</table>"
      ],
      "text/plain": [
       "dask.array<rechunk-merge, shape=(823976, 20000), dtype=float32, chunksize=(32768, 20000), chunktype=numpy.ndarray>"
      ]
     },
     "execution_count": 15,
     "metadata": {},
     "output_type": "execute_result"
    }
   ],
   "source": [
    "X"
   ]
  },
  {
   "cell_type": "code",
   "execution_count": 16,
   "id": "8d54e940",
   "metadata": {},
   "outputs": [],
   "source": [
    "@dask.delayed\n",
    "def convert_to_dataframe(x, start, end):\n",
    "    return pd.DataFrame(\n",
    "        {'X': [arr.squeeze().astype(\"float32\", copy=False) for arr in np.vsplit(x, x.shape[0])]},\n",
    "        index=pd.RangeIndex(start, end)\n",
    "    )"
   ]
  },
  {
   "cell_type": "code",
   "execution_count": 17,
   "id": "9e9bc131",
   "metadata": {},
   "outputs": [],
   "source": [
    "start_index = [0] + list(np.cumsum(X.chunks[0]))[:-1]\n",
    "end_index = list(np.cumsum(X.chunks[0]))\n",
    "# calculate divisons for dask dataframe\n",
    "divisions = [0] + list(np.cumsum(X.chunks[0]))\n",
    "divisions[-1] = divisions[-1] - 1\n",
    "ddf = dd.from_delayed(\n",
    "    [\n",
    "        convert_to_dataframe(arr, start, end) for arr, start, end in \n",
    "        zip(X.to_delayed().flatten().tolist(), start_index, end_index)\n",
    "    ],\n",
    "    divisions=divisions\n",
    ")"
   ]
  },
  {
   "cell_type": "code",
   "execution_count": 18,
   "id": "1b62d86e",
   "metadata": {},
   "outputs": [
    {
     "data": {
      "text/html": [
       "<div><strong>Dask DataFrame Structure:</strong></div>\n",
       "<table border=\"1\" class=\"dataframe\">\n",
       "  <thead>\n",
       "    <tr style=\"text-align: right;\">\n",
       "      <th></th>\n",
       "      <th>X</th>\n",
       "    </tr>\n",
       "    <tr>\n",
       "      <th>npartitions=26</th>\n",
       "      <th></th>\n",
       "    </tr>\n",
       "  </thead>\n",
       "  <tbody>\n",
       "    <tr>\n",
       "      <th>0</th>\n",
       "      <td>object</td>\n",
       "    </tr>\n",
       "    <tr>\n",
       "      <th>32768</th>\n",
       "      <td>...</td>\n",
       "    </tr>\n",
       "    <tr>\n",
       "      <th>...</th>\n",
       "      <td>...</td>\n",
       "    </tr>\n",
       "    <tr>\n",
       "      <th>819200</th>\n",
       "      <td>...</td>\n",
       "    </tr>\n",
       "    <tr>\n",
       "      <th>823975</th>\n",
       "      <td>...</td>\n",
       "    </tr>\n",
       "  </tbody>\n",
       "</table>\n",
       "<div>Dask Name: fromdelayed, 27 expressions</div>"
      ],
      "text/plain": [
       "Dask DataFrame Structure:\n",
       "                     X\n",
       "npartitions=26        \n",
       "0               object\n",
       "32768              ...\n",
       "...                ...\n",
       "819200             ...\n",
       "823975             ...\n",
       "Dask Name: fromdelayed, 27 expressions\n",
       "Expr=FromDelayed(3f6373c)"
      ]
     },
     "execution_count": 18,
     "metadata": {},
     "output_type": "execute_result"
    }
   ],
   "source": [
    "ddf"
   ]
  },
  {
   "cell_type": "code",
   "execution_count": 19,
   "id": "6fe696b0",
   "metadata": {},
   "outputs": [
    {
     "ename": "KeyboardInterrupt",
     "evalue": "",
     "output_type": "error",
     "traceback": [
      "\u001b[0;31m---------------------------------------------------------------------------\u001b[0m",
      "\u001b[0;31mKeyboardInterrupt\u001b[0m                         Traceback (most recent call last)",
      "File \u001b[0;32m<timed eval>:1\u001b[0m\n",
      "File \u001b[0;32m~/miniconda3/envs/arrayloader-benchmarks/lib/python3.11/site-packages/dask_expr/_collection.py:3152\u001b[0m, in \u001b[0;36mDataFrame.to_parquet\u001b[0;34m(self, path, **kwargs)\u001b[0m\n\u001b[1;32m   3149\u001b[0m \u001b[38;5;28;01mdef\u001b[39;00m \u001b[38;5;21mto_parquet\u001b[39m(\u001b[38;5;28mself\u001b[39m, path, \u001b[38;5;241m*\u001b[39m\u001b[38;5;241m*\u001b[39mkwargs):\n\u001b[1;32m   3150\u001b[0m     \u001b[38;5;28;01mfrom\u001b[39;00m \u001b[38;5;21;01mdask_expr\u001b[39;00m\u001b[38;5;21;01m.\u001b[39;00m\u001b[38;5;21;01mio\u001b[39;00m\u001b[38;5;21;01m.\u001b[39;00m\u001b[38;5;21;01mparquet\u001b[39;00m \u001b[38;5;28;01mimport\u001b[39;00m to_parquet\n\u001b[0;32m-> 3152\u001b[0m     \u001b[38;5;28;01mreturn\u001b[39;00m \u001b[43mto_parquet\u001b[49m\u001b[43m(\u001b[49m\u001b[38;5;28;43mself\u001b[39;49m\u001b[43m,\u001b[49m\u001b[43m \u001b[49m\u001b[43mpath\u001b[49m\u001b[43m,\u001b[49m\u001b[43m \u001b[49m\u001b[38;5;241;43m*\u001b[39;49m\u001b[38;5;241;43m*\u001b[39;49m\u001b[43mkwargs\u001b[49m\u001b[43m)\u001b[49m\n",
      "File \u001b[0;32m~/miniconda3/envs/arrayloader-benchmarks/lib/python3.11/site-packages/dask_expr/io/parquet.py:521\u001b[0m, in \u001b[0;36mto_parquet\u001b[0;34m(df, path, compression, write_index, append, overwrite, ignore_divisions, partition_on, storage_options, custom_metadata, write_metadata_file, compute, compute_kwargs, schema, name_function, filesystem, engine, **kwargs)\u001b[0m\n\u001b[1;32m    501\u001b[0m     out \u001b[38;5;241m=\u001b[39m new_collection(\n\u001b[1;32m    502\u001b[0m         ToParquet(\n\u001b[1;32m    503\u001b[0m             df,\n\u001b[0;32m   (...)\u001b[0m\n\u001b[1;32m    517\u001b[0m         )\n\u001b[1;32m    518\u001b[0m     )\n\u001b[1;32m    520\u001b[0m \u001b[38;5;28;01mif\u001b[39;00m compute:\n\u001b[0;32m--> 521\u001b[0m     out \u001b[38;5;241m=\u001b[39m \u001b[43mout\u001b[49m\u001b[38;5;241;43m.\u001b[39;49m\u001b[43mcompute\u001b[49m\u001b[43m(\u001b[49m\u001b[38;5;241;43m*\u001b[39;49m\u001b[38;5;241;43m*\u001b[39;49m\u001b[43mcompute_kwargs\u001b[49m\u001b[43m)\u001b[49m\n\u001b[1;32m    523\u001b[0m \u001b[38;5;66;03m# Invalidate the filesystem listing cache for the output path after write.\u001b[39;00m\n\u001b[1;32m    524\u001b[0m \u001b[38;5;66;03m# We do this before returning, even if `compute=False`. This helps ensure\u001b[39;00m\n\u001b[1;32m    525\u001b[0m \u001b[38;5;66;03m# that reading files that were just written succeeds.\u001b[39;00m\n\u001b[1;32m    526\u001b[0m fs\u001b[38;5;241m.\u001b[39minvalidate_cache(path)\n",
      "File \u001b[0;32m~/miniconda3/envs/arrayloader-benchmarks/lib/python3.11/site-packages/dask_expr/_collection.py:453\u001b[0m, in \u001b[0;36mFrameBase.compute\u001b[0;34m(self, fuse, **kwargs)\u001b[0m\n\u001b[1;32m    451\u001b[0m     out \u001b[38;5;241m=\u001b[39m out\u001b[38;5;241m.\u001b[39mrepartition(npartitions\u001b[38;5;241m=\u001b[39m\u001b[38;5;241m1\u001b[39m)\n\u001b[1;32m    452\u001b[0m out \u001b[38;5;241m=\u001b[39m out\u001b[38;5;241m.\u001b[39moptimize(fuse\u001b[38;5;241m=\u001b[39mfuse)\n\u001b[0;32m--> 453\u001b[0m \u001b[38;5;28;01mreturn\u001b[39;00m \u001b[43mDaskMethodsMixin\u001b[49m\u001b[38;5;241;43m.\u001b[39;49m\u001b[43mcompute\u001b[49m\u001b[43m(\u001b[49m\u001b[43mout\u001b[49m\u001b[43m,\u001b[49m\u001b[43m \u001b[49m\u001b[38;5;241;43m*\u001b[39;49m\u001b[38;5;241;43m*\u001b[39;49m\u001b[43mkwargs\u001b[49m\u001b[43m)\u001b[49m\n",
      "File \u001b[0;32m~/miniconda3/envs/arrayloader-benchmarks/lib/python3.11/site-packages/dask/base.py:375\u001b[0m, in \u001b[0;36mcompute\u001b[0;34m(self, **kwargs)\u001b[0m\n\u001b[1;32m      0\u001b[0m <Error retrieving source code with stack_data see ipython/ipython#13598>\n",
      "File \u001b[0;32m~/miniconda3/envs/arrayloader-benchmarks/lib/python3.11/site-packages/dask/base.py:661\u001b[0m, in \u001b[0;36mcompute\u001b[0;34m(traverse, optimize_graph, scheduler, get, *args, **kwargs)\u001b[0m\n\u001b[1;32m    633\u001b[0m \u001b[38;5;28;01mdef\u001b[39;00m \u001b[38;5;21mvisualize\u001b[39m(\n\u001b[1;32m    634\u001b[0m     \u001b[38;5;241m*\u001b[39margs,\n\u001b[1;32m    635\u001b[0m     filename\u001b[38;5;241m=\u001b[39m\u001b[38;5;124m\"\u001b[39m\u001b[38;5;124mmydask\u001b[39m\u001b[38;5;124m\"\u001b[39m,\n\u001b[0;32m   (...)\u001b[0m\n\u001b[1;32m    640\u001b[0m     \u001b[38;5;241m*\u001b[39m\u001b[38;5;241m*\u001b[39mkwargs,\n\u001b[1;32m    641\u001b[0m ):\n\u001b[1;32m    642\u001b[0m \u001b[38;5;250m    \u001b[39m\u001b[38;5;124;03m\"\"\"\u001b[39;00m\n\u001b[1;32m    643\u001b[0m \u001b[38;5;124;03m    Visualize several dask graphs simultaneously.\u001b[39;00m\n\u001b[1;32m    644\u001b[0m \n\u001b[1;32m    645\u001b[0m \u001b[38;5;124;03m    Requires ``graphviz`` to be installed. All options that are not the dask\u001b[39;00m\n\u001b[1;32m    646\u001b[0m \u001b[38;5;124;03m    graph(s) should be passed as keyword arguments.\u001b[39;00m\n\u001b[1;32m    647\u001b[0m \n\u001b[1;32m    648\u001b[0m \u001b[38;5;124;03m    Parameters\u001b[39;00m\n\u001b[1;32m    649\u001b[0m \u001b[38;5;124;03m    ----------\u001b[39;00m\n\u001b[1;32m    650\u001b[0m \u001b[38;5;124;03m    args : object\u001b[39;00m\n\u001b[1;32m    651\u001b[0m \u001b[38;5;124;03m        Any number of objects. If it is a dask collection (for example, a\u001b[39;00m\n\u001b[1;32m    652\u001b[0m \u001b[38;5;124;03m        dask DataFrame, Array, Bag, or Delayed), its associated graph\u001b[39;00m\n\u001b[1;32m    653\u001b[0m \u001b[38;5;124;03m        will be included in the output of visualize. By default, python builtin\u001b[39;00m\n\u001b[1;32m    654\u001b[0m \u001b[38;5;124;03m        collections are also traversed to look for dask objects (for more\u001b[39;00m\n\u001b[1;32m    655\u001b[0m \u001b[38;5;124;03m        information see the ``traverse`` keyword). Arguments lacking an\u001b[39;00m\n\u001b[1;32m    656\u001b[0m \u001b[38;5;124;03m        associated graph will be ignored.\u001b[39;00m\n\u001b[1;32m    657\u001b[0m \u001b[38;5;124;03m    filename : str or None, optional\u001b[39;00m\n\u001b[1;32m    658\u001b[0m \u001b[38;5;124;03m        The name of the file to write to disk. If the provided `filename`\u001b[39;00m\n\u001b[1;32m    659\u001b[0m \u001b[38;5;124;03m        doesn't include an extension, '.png' will be used by default.\u001b[39;00m\n\u001b[1;32m    660\u001b[0m \u001b[38;5;124;03m        If `filename` is None, no file will be written, and we communicate\u001b[39;00m\n\u001b[0;32m--> 661\u001b[0m \u001b[38;5;124;03m        with dot using only pipes.\u001b[39;00m\n\u001b[1;32m    662\u001b[0m \u001b[38;5;124;03m    format : {'png', 'pdf', 'dot', 'svg', 'jpeg', 'jpg'}, optional\u001b[39;00m\n\u001b[1;32m    663\u001b[0m \u001b[38;5;124;03m        Format in which to write output file.  Default is 'png'.\u001b[39;00m\n\u001b[1;32m    664\u001b[0m \u001b[38;5;124;03m    traverse : bool, optional\u001b[39;00m\n\u001b[1;32m    665\u001b[0m \u001b[38;5;124;03m        By default, dask traverses builtin python collections looking for dask\u001b[39;00m\n\u001b[1;32m    666\u001b[0m \u001b[38;5;124;03m        objects passed to ``visualize``. For large collections this can be\u001b[39;00m\n\u001b[1;32m    667\u001b[0m \u001b[38;5;124;03m        expensive. If none of the arguments contain any dask objects, set\u001b[39;00m\n\u001b[1;32m    668\u001b[0m \u001b[38;5;124;03m        ``traverse=False`` to avoid doing this traversal.\u001b[39;00m\n\u001b[1;32m    669\u001b[0m \u001b[38;5;124;03m    optimize_graph : bool, optional\u001b[39;00m\n\u001b[1;32m    670\u001b[0m \u001b[38;5;124;03m        If True, the graph is optimized before rendering.  Otherwise,\u001b[39;00m\n\u001b[1;32m    671\u001b[0m \u001b[38;5;124;03m        the graph is displayed as is. Default is False.\u001b[39;00m\n\u001b[1;32m    672\u001b[0m \u001b[38;5;124;03m    color : {None, 'order', 'ages', 'freed', 'memoryincreases', 'memorydecreases', 'memorypressure'}, optional\u001b[39;00m\n\u001b[1;32m    673\u001b[0m \u001b[38;5;124;03m        Options to color nodes. colormap:\u001b[39;00m\n\u001b[1;32m    674\u001b[0m \n\u001b[1;32m    675\u001b[0m \u001b[38;5;124;03m        - None, the default, no colors.\u001b[39;00m\n\u001b[1;32m    676\u001b[0m \u001b[38;5;124;03m        - 'order', colors the nodes' border based on the order they appear in the graph.\u001b[39;00m\n\u001b[1;32m    677\u001b[0m \u001b[38;5;124;03m        - 'ages', how long the data of a node is held.\u001b[39;00m\n\u001b[1;32m    678\u001b[0m \u001b[38;5;124;03m        - 'freed', the number of dependencies released after running a node.\u001b[39;00m\n\u001b[1;32m    679\u001b[0m \u001b[38;5;124;03m        - 'memoryincreases', how many more outputs are held after the lifetime of a node.\u001b[39;00m\n\u001b[1;32m    680\u001b[0m \u001b[38;5;124;03m          Large values may indicate nodes that should have run later.\u001b[39;00m\n\u001b[1;32m    681\u001b[0m \u001b[38;5;124;03m        - 'memorydecreases', how many fewer outputs are held after the lifetime of a node.\u001b[39;00m\n\u001b[1;32m    682\u001b[0m \u001b[38;5;124;03m          Large values may indicate nodes that should have run sooner.\u001b[39;00m\n\u001b[1;32m    683\u001b[0m \u001b[38;5;124;03m        - 'memorypressure', the number of data held when the node is run (circle), or\u001b[39;00m\n\u001b[1;32m    684\u001b[0m \u001b[38;5;124;03m          the data is released (rectangle).\u001b[39;00m\n\u001b[1;32m    685\u001b[0m \u001b[38;5;124;03m    maxval : {int, float}, optional\u001b[39;00m\n\u001b[1;32m    686\u001b[0m \u001b[38;5;124;03m        Maximum value for colormap to normalize form 0 to 1.0. Default is ``None``\u001b[39;00m\n\u001b[1;32m    687\u001b[0m \u001b[38;5;124;03m        will make it the max number of values\u001b[39;00m\n\u001b[1;32m    688\u001b[0m \u001b[38;5;124;03m    collapse_outputs : bool, optional\u001b[39;00m\n\u001b[1;32m    689\u001b[0m \u001b[38;5;124;03m        Whether to collapse output boxes, which often have empty labels.\u001b[39;00m\n\u001b[1;32m    690\u001b[0m \u001b[38;5;124;03m        Default is False.\u001b[39;00m\n\u001b[1;32m    691\u001b[0m \u001b[38;5;124;03m    verbose : bool, optional\u001b[39;00m\n\u001b[1;32m    692\u001b[0m \u001b[38;5;124;03m        Whether to label output and input boxes even if the data aren't chunked.\u001b[39;00m\n\u001b[1;32m    693\u001b[0m \u001b[38;5;124;03m        Beware: these labels can get very long. Default is False.\u001b[39;00m\n\u001b[1;32m    694\u001b[0m \u001b[38;5;124;03m    engine : {\"graphviz\", \"ipycytoscape\", \"cytoscape\"}, optional.\u001b[39;00m\n\u001b[1;32m    695\u001b[0m \u001b[38;5;124;03m        The visualization engine to use. If not provided, this checks the dask config\u001b[39;00m\n\u001b[1;32m    696\u001b[0m \u001b[38;5;124;03m        value \"visualization.engine\". If that is not set, it tries to import ``graphviz``\u001b[39;00m\n\u001b[1;32m    697\u001b[0m \u001b[38;5;124;03m        and ``ipycytoscape``, using the first one to succeed.\u001b[39;00m\n\u001b[1;32m    698\u001b[0m \u001b[38;5;124;03m    **kwargs\u001b[39;00m\n\u001b[1;32m    699\u001b[0m \u001b[38;5;124;03m       Additional keyword arguments to forward to the visualization engine.\u001b[39;00m\n\u001b[1;32m    700\u001b[0m \n\u001b[1;32m    701\u001b[0m \u001b[38;5;124;03m    Examples\u001b[39;00m\n\u001b[1;32m    702\u001b[0m \u001b[38;5;124;03m    --------\u001b[39;00m\n\u001b[1;32m    703\u001b[0m \u001b[38;5;124;03m    >>> x.visualize(filename='dask.pdf')  # doctest: +SKIP\u001b[39;00m\n\u001b[1;32m    704\u001b[0m \u001b[38;5;124;03m    >>> x.visualize(filename='dask.pdf', color='order')  # doctest: +SKIP\u001b[39;00m\n\u001b[1;32m    705\u001b[0m \n\u001b[1;32m    706\u001b[0m \u001b[38;5;124;03m    Returns\u001b[39;00m\n\u001b[1;32m    707\u001b[0m \u001b[38;5;124;03m    -------\u001b[39;00m\n\u001b[1;32m    708\u001b[0m \u001b[38;5;124;03m    result : IPython.diplay.Image, IPython.display.SVG, or None\u001b[39;00m\n\u001b[1;32m    709\u001b[0m \u001b[38;5;124;03m        See dask.dot.dot_graph for more information.\u001b[39;00m\n\u001b[1;32m    710\u001b[0m \n\u001b[1;32m    711\u001b[0m \u001b[38;5;124;03m    See Also\u001b[39;00m\n\u001b[1;32m    712\u001b[0m \u001b[38;5;124;03m    --------\u001b[39;00m\n\u001b[1;32m    713\u001b[0m \u001b[38;5;124;03m    dask.dot.dot_graph\u001b[39;00m\n\u001b[1;32m    714\u001b[0m \n\u001b[1;32m    715\u001b[0m \u001b[38;5;124;03m    Notes\u001b[39;00m\n\u001b[1;32m    716\u001b[0m \u001b[38;5;124;03m    -----\u001b[39;00m\n\u001b[1;32m    717\u001b[0m \u001b[38;5;124;03m    For more information on optimization see here:\u001b[39;00m\n\u001b[1;32m    718\u001b[0m \n\u001b[1;32m    719\u001b[0m \u001b[38;5;124;03m    https://docs.dask.org/en/latest/optimize.html\u001b[39;00m\n\u001b[1;32m    720\u001b[0m \u001b[38;5;124;03m    \"\"\"\u001b[39;00m\n\u001b[1;32m    721\u001b[0m     args, _ \u001b[38;5;241m=\u001b[39m unpack_collections(\u001b[38;5;241m*\u001b[39margs, traverse\u001b[38;5;241m=\u001b[39mtraverse)\n\u001b[1;32m    723\u001b[0m     dsk \u001b[38;5;241m=\u001b[39m \u001b[38;5;28mdict\u001b[39m(collections_to_dsk(args, optimize_graph\u001b[38;5;241m=\u001b[39moptimize_graph))\n",
      "File \u001b[0;32m~/miniconda3/envs/arrayloader-benchmarks/lib/python3.11/threading.py:629\u001b[0m, in \u001b[0;36mEvent.wait\u001b[0;34m(self, timeout)\u001b[0m\n\u001b[1;32m    627\u001b[0m signaled \u001b[38;5;241m=\u001b[39m \u001b[38;5;28mself\u001b[39m\u001b[38;5;241m.\u001b[39m_flag\n\u001b[1;32m    628\u001b[0m \u001b[38;5;28;01mif\u001b[39;00m \u001b[38;5;129;01mnot\u001b[39;00m signaled:\n\u001b[0;32m--> 629\u001b[0m     signaled \u001b[38;5;241m=\u001b[39m \u001b[38;5;28;43mself\u001b[39;49m\u001b[38;5;241;43m.\u001b[39;49m\u001b[43m_cond\u001b[49m\u001b[38;5;241;43m.\u001b[39;49m\u001b[43mwait\u001b[49m\u001b[43m(\u001b[49m\u001b[43mtimeout\u001b[49m\u001b[43m)\u001b[49m\n\u001b[1;32m    630\u001b[0m \u001b[38;5;28;01mreturn\u001b[39;00m signaled\n",
      "File \u001b[0;32m~/miniconda3/envs/arrayloader-benchmarks/lib/python3.11/threading.py:331\u001b[0m, in \u001b[0;36mCondition.wait\u001b[0;34m(self, timeout)\u001b[0m\n\u001b[1;32m    329\u001b[0m \u001b[38;5;28;01melse\u001b[39;00m:\n\u001b[1;32m    330\u001b[0m     \u001b[38;5;28;01mif\u001b[39;00m timeout \u001b[38;5;241m>\u001b[39m \u001b[38;5;241m0\u001b[39m:\n\u001b[0;32m--> 331\u001b[0m         gotit \u001b[38;5;241m=\u001b[39m \u001b[43mwaiter\u001b[49m\u001b[38;5;241;43m.\u001b[39;49m\u001b[43macquire\u001b[49m\u001b[43m(\u001b[49m\u001b[38;5;28;43;01mTrue\u001b[39;49;00m\u001b[43m,\u001b[49m\u001b[43m \u001b[49m\u001b[43mtimeout\u001b[49m\u001b[43m)\u001b[49m\n\u001b[1;32m    332\u001b[0m     \u001b[38;5;28;01melse\u001b[39;00m:\n\u001b[1;32m    333\u001b[0m         gotit \u001b[38;5;241m=\u001b[39m waiter\u001b[38;5;241m.\u001b[39macquire(\u001b[38;5;28;01mFalse\u001b[39;00m)\n",
      "\u001b[0;31mKeyboardInterrupt\u001b[0m: "
     ]
    }
   ],
   "source": [
    "%%time\n",
    "ddf.to_parquet(\n",
    "    \"./merlin_benchmark\", \n",
    "    engine='pyarrow',\n",
    "    schema=pa.schema([('X', pa.list_(pa.float32()))]),\n",
    "    write_metadata_file=True,\n",
    "    row_group_size=ROW_GROUP_SIZE\n",
    ")"
   ]
  }
 ],
 "metadata": {
  "kernelspec": {
   "display_name": "Python 3 (ipykernel)",
   "language": "python",
   "name": "python3"
  },
  "language_info": {
   "codemirror_mode": {
    "name": "ipython",
    "version": 3
   },
   "file_extension": ".py",
   "mimetype": "text/x-python",
   "name": "python",
   "nbconvert_exporter": "python",
   "pygments_lexer": "ipython3",
   "version": "3.11.8"
  },
  "nbproject": {
   "id": "GjHlkZOA4wKp",
   "parent": null,
   "pypackage": null,
   "time_init": "2024-01-24T10:59:26.707959+00:00",
   "user_handle": null,
   "user_id": null,
   "user_name": null,
   "version": "1"
  }
 },
 "nbformat": 4,
 "nbformat_minor": 5
}
