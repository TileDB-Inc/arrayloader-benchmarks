{
 "cells": [
  {
   "cell_type": "code",
   "execution_count": 1,
   "id": "cf534d10-2611-43fc-94a1-11650b44e30a",
   "metadata": {
    "execution": {
     "iopub.execute_input": "2024-04-16T15:48:19.233384Z",
     "iopub.status.busy": "2024-04-16T15:48:19.232930Z",
     "iopub.status.idle": "2024-04-16T15:48:23.893080Z",
     "shell.execute_reply": "2024-04-16T15:48:23.892488Z"
    },
    "papermill": {
     "duration": 4.665045,
     "end_time": "2024-04-16T15:48:23.894533",
     "exception": false,
     "start_time": "2024-04-16T15:48:19.229488",
     "status": "completed"
    },
    "tags": []
   },
   "outputs": [],
   "source": [
    "from benchmark import *\n",
    "from utils import *\n",
    "\n",
    "from cellxgene_census.experimental.ml import ExperimentDataPipe, experiment_dataloader\n",
    "import torch\n",
    "from torch.utils.data import DataLoader\n",
    "torch.ones(2).cuda();"
   ]
  },
  {
   "cell_type": "markdown",
   "id": "ea210b2d-c864-4ca1-be75-44f465d04450",
   "metadata": {
    "papermill": {
     "duration": 0.002136,
     "end_time": "2024-04-16T15:48:23.899326",
     "exception": false,
     "start_time": "2024-04-16T15:48:23.897190",
     "status": "completed"
    },
    "tags": []
   },
   "source": [
    "### [Papermill](https://papermill.readthedocs.io/en/latest/) params:"
   ]
  },
  {
   "cell_type": "code",
   "execution_count": 2,
   "id": "5bcfe840-ad0c-4b90-b977-384573638612",
   "metadata": {
    "editable": true,
    "execution": {
     "iopub.execute_input": "2024-04-16T15:48:23.905141Z",
     "iopub.status.busy": "2024-04-16T15:48:23.904337Z",
     "iopub.status.idle": "2024-04-16T15:48:23.908777Z",
     "shell.execute_reply": "2024-04-16T15:48:23.908322Z"
    },
    "papermill": {
     "duration": 0.008322,
     "end_time": "2024-04-16T15:48:23.909739",
     "exception": false,
     "start_time": "2024-04-16T15:48:23.901417",
     "status": "completed"
    },
    "slideshow": {
     "slide_type": ""
    },
    "tags": [
     "parameters"
    ]
   },
   "outputs": [],
   "source": [
    "# Set this to read from a local path\n",
    "experiment_uri = None\n",
    "\n",
    "# None ⟹ fetch from S3\n",
    "census_uri = None\n",
    "#census_uri = '/mnt/nvme/s3/cellxgene-census-public-us-west-2/cell-census/2023-12-15/soma'\n",
    "census_version = \"2023-12-15\"\n",
    "\n",
    "# By default:\n",
    "# - `local` if `census_uri` is a local path\n",
    "# - current region if `census_uri` is None (e.g. `us-east-1`, `us-west-2`)\n",
    "census_loc = None\n",
    "\n",
    "collection_id = '283d65eb-dd53-496d-adb7-7570c7caa443'\n",
    "# Slice datasets from `collection_id`\n",
    "start = 2\n",
    "end = 7\n",
    "\n",
    "n_epochs = 1\n",
    "batch_size = 1024\n",
    "n_vars = 20_000\n",
    "soma_chunk_size = 10_000\n",
    "gc_freq: Optional[int] = None  # When set, run `gc.collect()` every `gc_freq` batches\n",
    "exclude_first_batch = True\n",
    "\n",
    "# Plot configs\n",
    "ann_cutoff = .5  # Annotate plot with values for batch timings greater than this threshold\n",
    "log_plot = False\n",
    "width = 1200\n",
    "height = 700"
   ]
  },
  {
   "cell_type": "code",
   "execution_count": 3,
   "id": "ad7429c2",
   "metadata": {
    "execution": {
     "iopub.execute_input": "2024-04-16T15:48:23.915691Z",
     "iopub.status.busy": "2024-04-16T15:48:23.915448Z",
     "iopub.status.idle": "2024-04-16T15:48:23.917892Z",
     "shell.execute_reply": "2024-04-16T15:48:23.917446Z"
    },
    "papermill": {
     "duration": 0.006331,
     "end_time": "2024-04-16T15:48:23.918924",
     "exception": false,
     "start_time": "2024-04-16T15:48:23.912593",
     "status": "completed"
    },
    "tags": [
     "injected-parameters"
    ]
   },
   "outputs": [],
   "source": [
    "# Parameters\n",
    "census_uri = \"\"\n"
   ]
  },
  {
   "cell_type": "code",
   "execution_count": 4,
   "id": "a7a60456-92dc-466d-b3ca-a6d5df4c5121",
   "metadata": {
    "editable": true,
    "execution": {
     "iopub.execute_input": "2024-04-16T15:48:23.924246Z",
     "iopub.status.busy": "2024-04-16T15:48:23.923961Z",
     "iopub.status.idle": "2024-04-16T15:48:25.453414Z",
     "shell.execute_reply": "2024-04-16T15:48:25.452905Z"
    },
    "papermill": {
     "duration": 1.533426,
     "end_time": "2024-04-16T15:48:25.454516",
     "exception": false,
     "start_time": "2024-04-16T15:48:23.921090",
     "status": "completed"
    },
    "slideshow": {
     "slide_type": ""
    },
    "tags": []
   },
   "outputs": [
    {
     "name": "stderr",
     "output_type": "stream",
     "text": [
      "Loading census (us-west-2)\n"
     ]
    },
    {
     "name": "stderr",
     "output_type": "stream",
     "text": [
      "138 datasets: ['8e10f1c4-8e98-41e5-b65f-8cd89a887122', 'b165f033-9dec-468a-9248-802fc6902a74', 'ff7d15fa-f4b6-4a0e-992e-fd0c9d088ded', 'fe1a73ab-a203-45fd-84e9-0f7fd19efcbd', 'fbf173f9-f809-4d84-9b65-ae205d35b523', 'fa554686-fc07-44dd-b2de-b726d82d26ec', 'f9034091-2e8f-4ac6-9874-e7b7eb566824', 'f8dda921-5fb4-4c94-a654-c6fc346bfd6d', 'f7d003d4-40d5-4de8-858c-a9a8b48fcc67', 'f6d9f2ad-5ec7-4d53-b7f0-ceb0e7bcd181']\n"
     ]
    },
    {
     "data": {
      "text/plain": [
       "<Experiment 's3://cellxgene-census-public-us-west-2/cell-census/2023-12-15/soma/census_data/homo_sapiens' (open for 'r') (2 items)\n",
       "    'ms': 's3://cellxgene-census-public-us-west-2/cell-census/2023-12-15/soma/census_data/homo_sapiens/ms' (unopened)\n",
       "    'obs': 's3://cellxgene-census-public-us-west-2/cell-census/2023-12-15/soma/census_data/homo_sapiens/obs' (unopened)>"
      ]
     },
     "execution_count": 4,
     "metadata": {},
     "output_type": "execute_result"
    }
   ],
   "source": [
    "var_query = AxisQuery(coords=(slice(n_vars - 1),)) if n_vars else None\n",
    "\n",
    "if experiment_uri:\n",
    "    err(f\"Loading experiment {experiment_uri}\")\n",
    "    experiment = Experiment.open(experiment_uri)\n",
    "    obs_query = None\n",
    "else:\n",
    "    if not census_uri:\n",
    "        census_uri = None\n",
    "    \n",
    "    if census_loc is None:\n",
    "        if census_uri and census_uri.startswith('/'):\n",
    "            census_loc = 'local'\n",
    "        else:\n",
    "            census_loc = get_region()\n",
    "    \n",
    "    err(f\"Loading census ({census_loc})\")\n",
    "\n",
    "    with profile('open_soma'):\n",
    "        census = cellxgene_census.open_soma(uri=census_uri, census_version=census_version)\n",
    "    \n",
    "    datasets = get_datasets(census, collection_id, 'datasets')\n",
    "    err(f\"{len(datasets)} datasets: {datasets[:10]}\")\n",
    "    \n",
    "    experiment = census[\"census_data\"][\"homo_sapiens\"]\n",
    "    ds = datasets[slice(start, end)]\n",
    "    datasets_query = \"dataset_id in \" + str(ds)\n",
    "    obs_query = AxisQuery(value_filter=datasets_query)\n",
    "experiment"
   ]
  },
  {
   "cell_type": "code",
   "execution_count": 5,
   "id": "ac8ed548-8f2f-48c2-9eac-f6e5bb6174e4",
   "metadata": {
    "execution": {
     "iopub.execute_input": "2024-04-16T15:48:25.460754Z",
     "iopub.status.busy": "2024-04-16T15:48:25.460481Z",
     "iopub.status.idle": "2024-04-16T15:48:25.469676Z",
     "shell.execute_reply": "2024-04-16T15:48:25.469244Z"
    },
    "papermill": {
     "duration": 0.013375,
     "end_time": "2024-04-16T15:48:25.470696",
     "exception": false,
     "start_time": "2024-04-16T15:48:25.457321",
     "status": "completed"
    },
    "tags": []
   },
   "outputs": [
    {
     "name": "stdout",
     "output_type": "stream",
     "text": [
      "CPU times: user 4.54 ms, sys: 174 µs, total: 4.71 ms\n",
      "Wall time: 4.51 ms\n"
     ]
    },
    {
     "data": {
      "text/plain": [
       "Exp(datapipe=ExperimentDataPipe, loader=<torch.utils.data.dataloader.DataLoader object at 0x7fbb3289f790>)"
      ]
     },
     "execution_count": 5,
     "metadata": {},
     "output_type": "execute_result"
    }
   ],
   "source": [
    "%%time\n",
    "with profile('get_exp_datapipe'):\n",
    "    experiment_datapipe = ExperimentDataPipe(\n",
    "        experiment,\n",
    "        measurement_name=\"RNA\",\n",
    "        X_name=\"raw\",\n",
    "        obs_query=obs_query,\n",
    "        var_query=var_query,\n",
    "        batch_size=batch_size,\n",
    "        shuffle=True,\n",
    "        soma_chunk_size=soma_chunk_size,\n",
    "    )\n",
    "    loader = experiment_dataloader(experiment_datapipe)\n",
    "exp = Exp(experiment_datapipe, loader)\n",
    "exp"
   ]
  },
  {
   "cell_type": "code",
   "execution_count": 6,
   "id": "7a614e15-a28d-45ce-a9a0-f22e9f78f824",
   "metadata": {
    "execution": {
     "iopub.execute_input": "2024-04-16T15:48:25.477418Z",
     "iopub.status.busy": "2024-04-16T15:48:25.477188Z",
     "iopub.status.idle": "2024-04-16T15:48:27.707107Z",
     "shell.execute_reply": "2024-04-16T15:48:27.706547Z"
    },
    "papermill": {
     "duration": 2.234945,
     "end_time": "2024-04-16T15:48:27.708211",
     "exception": false,
     "start_time": "2024-04-16T15:48:25.473266",
     "status": "completed"
    },
    "tags": []
   },
   "outputs": [
    {
     "name": "stdout",
     "output_type": "stream",
     "text": [
      "CPU times: user 8.63 s, sys: 2.27 s, total: 10.9 s\n",
      "Wall time: 2.23 s\n"
     ]
    },
    {
     "data": {
      "text/plain": [
       "133790"
      ]
     },
     "execution_count": 6,
     "metadata": {},
     "output_type": "execute_result"
    }
   ],
   "source": [
    "%%time\n",
    "exp.datapipe.shape[0]"
   ]
  },
  {
   "cell_type": "markdown",
   "id": "58d03d4d-c3e3-43b7-8fc8-9674eb3832ec",
   "metadata": {
    "papermill": {
     "duration": 0.002655,
     "end_time": "2024-04-16T15:48:27.713875",
     "exception": false,
     "start_time": "2024-04-16T15:48:27.711220",
     "status": "completed"
    },
    "tags": []
   },
   "source": [
    "## Run benchmark"
   ]
  },
  {
   "cell_type": "code",
   "execution_count": 7,
   "id": "c7610705-d2ec-4eb3-90e4-332626526728",
   "metadata": {
    "execution": {
     "iopub.execute_input": "2024-04-16T15:48:27.720090Z",
     "iopub.status.busy": "2024-04-16T15:48:27.719813Z",
     "iopub.status.idle": "2024-04-16T15:50:10.953928Z",
     "shell.execute_reply": "2024-04-16T15:50:10.953322Z"
    },
    "papermill": {
     "duration": 103.238568,
     "end_time": "2024-04-16T15:50:10.955046",
     "exception": false,
     "start_time": "2024-04-16T15:48:27.716478",
     "status": "completed"
    },
    "tags": []
   },
   "outputs": [
    {
     "name": "stderr",
     "output_type": "stream",
     "text": [
      "\r",
      "  0%|                                                                                            | 0/130 [00:00<?, ?it/s]"
     ]
    },
    {
     "name": "stderr",
     "output_type": "stream",
     "text": [
      "\r",
      "  1%|▋                                                                                   | 1/130 [00:00<00:15,  8.11it/s]"
     ]
    },
    {
     "name": "stderr",
     "output_type": "stream",
     "text": [
      "\r",
      "  2%|█▉                                                                                  | 3/130 [00:00<00:14,  8.62it/s]"
     ]
    },
    {
     "name": "stderr",
     "output_type": "stream",
     "text": [
      "\r",
      "  3%|██▌                                                                                 | 4/130 [00:00<00:16,  7.86it/s]"
     ]
    },
    {
     "name": "stderr",
     "output_type": "stream",
     "text": [
      "\r",
      "  4%|███▏                                                                                | 5/130 [00:00<00:16,  7.38it/s]"
     ]
    },
    {
     "name": "stderr",
     "output_type": "stream",
     "text": [
      "\r",
      "  5%|███▉                                                                                | 6/130 [00:00<00:19,  6.35it/s]"
     ]
    },
    {
     "name": "stderr",
     "output_type": "stream",
     "text": [
      "\r",
      "  5%|████▌                                                                               | 7/130 [00:01<00:22,  5.48it/s]"
     ]
    },
    {
     "name": "stderr",
     "output_type": "stream",
     "text": [
      "\r",
      "  6%|█████▏                                                                              | 8/130 [00:01<00:24,  4.90it/s]"
     ]
    },
    {
     "name": "stderr",
     "output_type": "stream",
     "text": [
      "\r",
      "  7%|█████▊                                                                              | 9/130 [00:06<03:44,  1.86s/it]"
     ]
    },
    {
     "name": "stderr",
     "output_type": "stream",
     "text": [
      "\r",
      "  8%|██████▍                                                                            | 10/130 [00:07<02:39,  1.33s/it]"
     ]
    },
    {
     "name": "stderr",
     "output_type": "stream",
     "text": [
      "\r",
      "  8%|███████                                                                            | 11/130 [00:07<01:55,  1.03it/s]"
     ]
    },
    {
     "name": "stderr",
     "output_type": "stream",
     "text": [
      "\r",
      "  9%|███████▋                                                                           | 12/130 [00:07<01:26,  1.37it/s]"
     ]
    },
    {
     "name": "stderr",
     "output_type": "stream",
     "text": [
      "\r",
      " 10%|████████▎                                                                          | 13/130 [00:07<01:06,  1.77it/s]"
     ]
    },
    {
     "name": "stderr",
     "output_type": "stream",
     "text": [
      "\r",
      " 11%|████████▉                                                                          | 14/130 [00:07<00:53,  2.15it/s]"
     ]
    },
    {
     "name": "stderr",
     "output_type": "stream",
     "text": [
      "\r",
      " 12%|█████████▌                                                                         | 15/130 [00:08<00:49,  2.34it/s]"
     ]
    },
    {
     "name": "stderr",
     "output_type": "stream",
     "text": [
      "\r",
      " 12%|██████████▏                                                                        | 16/130 [00:08<00:45,  2.53it/s]"
     ]
    },
    {
     "name": "stderr",
     "output_type": "stream",
     "text": [
      "\r",
      " 13%|██████████▊                                                                        | 17/130 [00:08<00:40,  2.78it/s]"
     ]
    },
    {
     "name": "stderr",
     "output_type": "stream",
     "text": [
      "\r",
      " 14%|███████████▍                                                                       | 18/130 [00:15<04:04,  2.18s/it]"
     ]
    },
    {
     "name": "stderr",
     "output_type": "stream",
     "text": [
      "\r",
      " 15%|████████████▏                                                                      | 19/130 [00:15<02:54,  1.57s/it]"
     ]
    },
    {
     "name": "stderr",
     "output_type": "stream",
     "text": [
      "\r",
      " 15%|████████████▊                                                                      | 20/130 [00:15<02:07,  1.15s/it]"
     ]
    },
    {
     "name": "stderr",
     "output_type": "stream",
     "text": [
      "\r",
      " 16%|█████████████▍                                                                     | 21/130 [00:15<01:34,  1.16it/s]"
     ]
    },
    {
     "name": "stderr",
     "output_type": "stream",
     "text": [
      "\r",
      " 17%|██████████████                                                                     | 22/130 [00:15<01:12,  1.48it/s]"
     ]
    },
    {
     "name": "stderr",
     "output_type": "stream",
     "text": [
      "\r",
      " 18%|██████████████▋                                                                    | 23/130 [00:16<00:59,  1.81it/s]"
     ]
    },
    {
     "name": "stderr",
     "output_type": "stream",
     "text": [
      "\r",
      " 18%|███████████████▎                                                                   | 24/130 [00:16<00:50,  2.12it/s]"
     ]
    },
    {
     "name": "stderr",
     "output_type": "stream",
     "text": [
      "\r",
      " 19%|███████████████▉                                                                   | 25/130 [00:16<00:43,  2.43it/s]"
     ]
    },
    {
     "name": "stderr",
     "output_type": "stream",
     "text": [
      "\r",
      " 20%|████████████████▌                                                                  | 26/130 [00:17<00:40,  2.57it/s]"
     ]
    },
    {
     "name": "stderr",
     "output_type": "stream",
     "text": [
      "\r",
      " 21%|█████████████████▏                                                                 | 27/130 [00:23<03:48,  2.22s/it]"
     ]
    },
    {
     "name": "stderr",
     "output_type": "stream",
     "text": [
      "\r",
      " 22%|█████████████████▉                                                                 | 28/130 [00:23<02:43,  1.60s/it]"
     ]
    },
    {
     "name": "stderr",
     "output_type": "stream",
     "text": [
      "\r",
      " 22%|██████████████████▌                                                                | 29/130 [00:23<01:58,  1.17s/it]"
     ]
    },
    {
     "name": "stderr",
     "output_type": "stream",
     "text": [
      "\r",
      " 23%|███████████████████▏                                                               | 30/130 [00:24<01:27,  1.14it/s]"
     ]
    },
    {
     "name": "stderr",
     "output_type": "stream",
     "text": [
      "\r",
      " 24%|███████████████████▊                                                               | 31/130 [00:24<01:06,  1.48it/s]"
     ]
    },
    {
     "name": "stderr",
     "output_type": "stream",
     "text": [
      "\r",
      " 25%|████████████████████▍                                                              | 32/130 [00:24<00:54,  1.81it/s]"
     ]
    },
    {
     "name": "stderr",
     "output_type": "stream",
     "text": [
      "\r",
      " 25%|█████████████████████                                                              | 33/130 [00:24<00:46,  2.09it/s]"
     ]
    },
    {
     "name": "stderr",
     "output_type": "stream",
     "text": [
      "\r",
      " 26%|█████████████████████▋                                                             | 34/130 [00:25<00:41,  2.33it/s]"
     ]
    },
    {
     "name": "stderr",
     "output_type": "stream",
     "text": [
      "\r",
      " 27%|██████████████████████▎                                                            | 35/130 [00:25<00:36,  2.61it/s]"
     ]
    },
    {
     "name": "stderr",
     "output_type": "stream",
     "text": [
      "\r",
      " 28%|██████████████████████▉                                                            | 36/130 [00:25<00:32,  2.90it/s]"
     ]
    },
    {
     "name": "stderr",
     "output_type": "stream",
     "text": [
      "\r",
      " 28%|███████████████████████▌                                                           | 37/130 [00:30<02:36,  1.69s/it]"
     ]
    },
    {
     "name": "stderr",
     "output_type": "stream",
     "text": [
      "\r",
      " 29%|████████████████████████▎                                                          | 38/130 [00:30<01:52,  1.22s/it]"
     ]
    },
    {
     "name": "stderr",
     "output_type": "stream",
     "text": [
      "\r",
      " 30%|████████████████████████▉                                                          | 39/130 [00:30<01:20,  1.12it/s]"
     ]
    },
    {
     "name": "stderr",
     "output_type": "stream",
     "text": [
      "\r",
      " 31%|█████████████████████████▌                                                         | 40/130 [00:30<01:00,  1.49it/s]"
     ]
    },
    {
     "name": "stderr",
     "output_type": "stream",
     "text": [
      "\r",
      " 32%|██████████████████████████▏                                                        | 41/130 [00:31<00:46,  1.93it/s]"
     ]
    },
    {
     "name": "stderr",
     "output_type": "stream",
     "text": [
      "\r",
      " 32%|██████████████████████████▊                                                        | 42/130 [00:31<00:37,  2.36it/s]"
     ]
    },
    {
     "name": "stderr",
     "output_type": "stream",
     "text": [
      "\r",
      " 33%|███████████████████████████▍                                                       | 43/130 [00:31<00:32,  2.71it/s]"
     ]
    },
    {
     "name": "stderr",
     "output_type": "stream",
     "text": [
      "\r",
      " 34%|████████████████████████████                                                       | 44/130 [00:31<00:28,  3.04it/s]"
     ]
    },
    {
     "name": "stderr",
     "output_type": "stream",
     "text": [
      "\r",
      " 35%|████████████████████████████▋                                                      | 45/130 [00:32<00:25,  3.31it/s]"
     ]
    },
    {
     "name": "stderr",
     "output_type": "stream",
     "text": [
      "\r",
      " 35%|█████████████████████████████▎                                                     | 46/130 [00:38<02:54,  2.07s/it]"
     ]
    },
    {
     "name": "stderr",
     "output_type": "stream",
     "text": [
      "\r",
      " 36%|██████████████████████████████                                                     | 47/130 [00:38<02:04,  1.50s/it]"
     ]
    },
    {
     "name": "stderr",
     "output_type": "stream",
     "text": [
      "\r",
      " 37%|██████████████████████████████▋                                                    | 48/130 [00:38<01:29,  1.09s/it]"
     ]
    },
    {
     "name": "stderr",
     "output_type": "stream",
     "text": [
      "\r",
      " 38%|███████████████████████████████▎                                                   | 49/130 [00:38<01:05,  1.24it/s]"
     ]
    },
    {
     "name": "stderr",
     "output_type": "stream",
     "text": [
      "\r",
      " 38%|███████████████████████████████▉                                                   | 50/130 [00:38<00:49,  1.62it/s]"
     ]
    },
    {
     "name": "stderr",
     "output_type": "stream",
     "text": [
      "\r",
      " 39%|████████████████████████████████▌                                                  | 51/130 [00:39<00:39,  2.02it/s]"
     ]
    },
    {
     "name": "stderr",
     "output_type": "stream",
     "text": [
      "\r",
      " 40%|█████████████████████████████████▏                                                 | 52/130 [00:39<00:33,  2.36it/s]"
     ]
    },
    {
     "name": "stderr",
     "output_type": "stream",
     "text": [
      "\r",
      " 41%|█████████████████████████████████▊                                                 | 53/130 [00:39<00:29,  2.62it/s]"
     ]
    },
    {
     "name": "stderr",
     "output_type": "stream",
     "text": [
      "\r",
      " 42%|██████████████████████████████████▍                                                | 54/130 [00:40<00:30,  2.53it/s]"
     ]
    },
    {
     "name": "stderr",
     "output_type": "stream",
     "text": [
      "\r",
      " 42%|███████████████████████████████████                                                | 55/130 [00:43<01:50,  1.47s/it]"
     ]
    },
    {
     "name": "stderr",
     "output_type": "stream",
     "text": [
      "\r",
      " 43%|███████████████████████████████████▊                                               | 56/130 [00:44<01:18,  1.06s/it]"
     ]
    },
    {
     "name": "stderr",
     "output_type": "stream",
     "text": [
      "\r",
      " 44%|████████████████████████████████████▍                                              | 57/130 [00:44<00:56,  1.29it/s]"
     ]
    },
    {
     "name": "stderr",
     "output_type": "stream",
     "text": [
      "\r",
      " 45%|█████████████████████████████████████▋                                             | 59/130 [00:44<00:33,  2.12it/s]"
     ]
    },
    {
     "name": "stderr",
     "output_type": "stream",
     "text": [
      "\r",
      " 46%|██████████████████████████████████████▎                                            | 60/130 [00:44<00:27,  2.55it/s]"
     ]
    },
    {
     "name": "stderr",
     "output_type": "stream",
     "text": [
      "\r",
      " 47%|██████████████████████████████████████▉                                            | 61/130 [00:44<00:22,  3.04it/s]"
     ]
    },
    {
     "name": "stderr",
     "output_type": "stream",
     "text": [
      "\r",
      " 48%|███████████████████████████████████████▌                                           | 62/130 [00:44<00:20,  3.39it/s]"
     ]
    },
    {
     "name": "stderr",
     "output_type": "stream",
     "text": [
      "\r",
      " 48%|████████████████████████████████████████▏                                          | 63/130 [00:45<00:18,  3.58it/s]"
     ]
    },
    {
     "name": "stderr",
     "output_type": "stream",
     "text": [
      "\r",
      " 49%|████████████████████████████████████████▊                                          | 64/130 [00:45<00:17,  3.78it/s]"
     ]
    },
    {
     "name": "stderr",
     "output_type": "stream",
     "text": [
      "\r",
      " 50%|█████████████████████████████████████████▌                                         | 65/130 [00:50<01:41,  1.56s/it]"
     ]
    },
    {
     "name": "stderr",
     "output_type": "stream",
     "text": [
      "\r",
      " 51%|██████████████████████████████████████████▏                                        | 66/130 [00:50<01:12,  1.14s/it]"
     ]
    },
    {
     "name": "stderr",
     "output_type": "stream",
     "text": [
      "\r",
      " 52%|██████████████████████████████████████████▊                                        | 67/130 [00:50<00:52,  1.20it/s]"
     ]
    },
    {
     "name": "stderr",
     "output_type": "stream",
     "text": [
      "\r",
      " 52%|███████████████████████████████████████████▍                                       | 68/130 [00:50<00:39,  1.59it/s]"
     ]
    },
    {
     "name": "stderr",
     "output_type": "stream",
     "text": [
      "\r",
      " 53%|████████████████████████████████████████████                                       | 69/130 [00:50<00:29,  2.05it/s]"
     ]
    },
    {
     "name": "stderr",
     "output_type": "stream",
     "text": [
      "\r",
      " 54%|████████████████████████████████████████████▋                                      | 70/130 [00:50<00:23,  2.55it/s]"
     ]
    },
    {
     "name": "stderr",
     "output_type": "stream",
     "text": [
      "\r",
      " 55%|█████████████████████████████████████████████▎                                     | 71/130 [00:51<00:20,  2.82it/s]"
     ]
    },
    {
     "name": "stderr",
     "output_type": "stream",
     "text": [
      "\r",
      " 55%|█████████████████████████████████████████████▉                                     | 72/130 [00:51<00:18,  3.18it/s]"
     ]
    },
    {
     "name": "stderr",
     "output_type": "stream",
     "text": [
      "\r",
      " 56%|██████████████████████████████████████████████▌                                    | 73/130 [00:51<00:16,  3.45it/s]"
     ]
    },
    {
     "name": "stderr",
     "output_type": "stream",
     "text": [
      "\r",
      " 57%|███████████████████████████████████████████████▏                                   | 74/130 [00:57<01:56,  2.08s/it]"
     ]
    },
    {
     "name": "stderr",
     "output_type": "stream",
     "text": [
      "\r",
      " 58%|███████████████████████████████████████████████▉                                   | 75/130 [00:57<01:22,  1.50s/it]"
     ]
    },
    {
     "name": "stderr",
     "output_type": "stream",
     "text": [
      "\r",
      " 58%|████████████████████████████████████████████████▌                                  | 76/130 [00:58<00:59,  1.10s/it]"
     ]
    },
    {
     "name": "stderr",
     "output_type": "stream",
     "text": [
      "\r",
      " 59%|█████████████████████████████████████████████████▏                                 | 77/130 [00:58<00:43,  1.21it/s]"
     ]
    },
    {
     "name": "stderr",
     "output_type": "stream",
     "text": [
      "\r",
      " 60%|█████████████████████████████████████████████████▊                                 | 78/130 [00:58<00:33,  1.56it/s]"
     ]
    },
    {
     "name": "stderr",
     "output_type": "stream",
     "text": [
      "\r",
      " 61%|██████████████████████████████████████████████████▍                                | 79/130 [00:58<00:27,  1.88it/s]"
     ]
    },
    {
     "name": "stderr",
     "output_type": "stream",
     "text": [
      "\r",
      " 62%|███████████████████████████████████████████████████                                | 80/130 [00:59<00:22,  2.19it/s]"
     ]
    },
    {
     "name": "stderr",
     "output_type": "stream",
     "text": [
      "\r",
      " 62%|███████████████████████████████████████████████████▋                               | 81/130 [00:59<00:19,  2.50it/s]"
     ]
    },
    {
     "name": "stderr",
     "output_type": "stream",
     "text": [
      "\r",
      " 63%|████████████████████████████████████████████████████▎                              | 82/130 [00:59<00:17,  2.75it/s]"
     ]
    },
    {
     "name": "stderr",
     "output_type": "stream",
     "text": [
      "\r",
      " 64%|████████████████████████████████████████████████████▉                              | 83/130 [01:04<01:16,  1.63s/it]"
     ]
    },
    {
     "name": "stderr",
     "output_type": "stream",
     "text": [
      "\r",
      " 65%|█████████████████████████████████████████████████████▋                             | 84/130 [01:04<00:54,  1.18s/it]"
     ]
    },
    {
     "name": "stderr",
     "output_type": "stream",
     "text": [
      "\r",
      " 65%|██████████████████████████████████████████████████████▎                            | 85/130 [01:04<00:38,  1.17it/s]"
     ]
    },
    {
     "name": "stderr",
     "output_type": "stream",
     "text": [
      "\r",
      " 66%|██████████████████████████████████████████████████████▉                            | 86/130 [01:04<00:28,  1.55it/s]"
     ]
    },
    {
     "name": "stderr",
     "output_type": "stream",
     "text": [
      "\r",
      " 67%|███████████████████████████████████████████████████████▌                           | 87/130 [01:04<00:21,  2.01it/s]"
     ]
    },
    {
     "name": "stderr",
     "output_type": "stream",
     "text": [
      "\r",
      " 68%|████████████████████████████████████████████████████████▏                          | 88/130 [01:04<00:16,  2.54it/s]"
     ]
    },
    {
     "name": "stderr",
     "output_type": "stream",
     "text": [
      "\r",
      " 68%|████████████████████████████████████████████████████████▊                          | 89/130 [01:05<00:13,  2.96it/s]"
     ]
    },
    {
     "name": "stderr",
     "output_type": "stream",
     "text": [
      "\r",
      " 69%|█████████████████████████████████████████████████████████▍                         | 90/130 [01:05<00:12,  3.28it/s]"
     ]
    },
    {
     "name": "stderr",
     "output_type": "stream",
     "text": [
      "\r",
      " 70%|██████████████████████████████████████████████████████████                         | 91/130 [01:05<00:11,  3.53it/s]"
     ]
    },
    {
     "name": "stderr",
     "output_type": "stream",
     "text": [
      "\r",
      " 71%|██████████████████████████████████████████████████████████▋                        | 92/130 [01:05<00:10,  3.76it/s]"
     ]
    },
    {
     "name": "stderr",
     "output_type": "stream",
     "text": [
      "\r",
      " 72%|███████████████████████████████████████████████████████████▍                       | 93/130 [01:11<01:09,  1.87s/it]"
     ]
    },
    {
     "name": "stderr",
     "output_type": "stream",
     "text": [
      "\r",
      " 72%|████████████████████████████████████████████████████████████                       | 94/130 [01:11<00:48,  1.35s/it]"
     ]
    },
    {
     "name": "stderr",
     "output_type": "stream",
     "text": [
      "\r",
      " 73%|████████████████████████████████████████████████████████████▋                      | 95/130 [01:11<00:34,  1.02it/s]"
     ]
    },
    {
     "name": "stderr",
     "output_type": "stream",
     "text": [
      "\r",
      " 74%|█████████████████████████████████████████████████████████████▎                     | 96/130 [01:11<00:25,  1.36it/s]"
     ]
    },
    {
     "name": "stderr",
     "output_type": "stream",
     "text": [
      "\r",
      " 75%|█████████████████████████████████████████████████████████████▉                     | 97/130 [01:11<00:18,  1.77it/s]"
     ]
    },
    {
     "name": "stderr",
     "output_type": "stream",
     "text": [
      "\r",
      " 75%|██████████████████████████████████████████████████████████████▌                    | 98/130 [01:12<00:14,  2.26it/s]"
     ]
    },
    {
     "name": "stderr",
     "output_type": "stream",
     "text": [
      "\r",
      " 76%|███████████████████████████████████████████████████████████████▏                   | 99/130 [01:12<00:12,  2.56it/s]"
     ]
    },
    {
     "name": "stderr",
     "output_type": "stream",
     "text": [
      "\r",
      " 77%|███████████████████████████████████████████████████████████████                   | 100/130 [01:12<00:10,  2.87it/s]"
     ]
    },
    {
     "name": "stderr",
     "output_type": "stream",
     "text": [
      "\r",
      " 78%|███████████████████████████████████████████████████████████████▋                  | 101/130 [01:12<00:09,  3.12it/s]"
     ]
    },
    {
     "name": "stderr",
     "output_type": "stream",
     "text": [
      "\r",
      " 78%|████████████████████████████████████████████████████████████████▎                 | 102/130 [01:19<01:00,  2.17s/it]"
     ]
    },
    {
     "name": "stderr",
     "output_type": "stream",
     "text": [
      "\r",
      " 79%|████████████████████████████████████████████████████████████████▉                 | 103/130 [01:19<00:42,  1.56s/it]"
     ]
    },
    {
     "name": "stderr",
     "output_type": "stream",
     "text": [
      "\r",
      " 80%|█████████████████████████████████████████████████████████████████▌                | 104/130 [01:19<00:29,  1.14s/it]"
     ]
    },
    {
     "name": "stderr",
     "output_type": "stream",
     "text": [
      "\r",
      " 81%|██████████████████████████████████████████████████████████████████▏               | 105/130 [01:19<00:21,  1.17it/s]"
     ]
    },
    {
     "name": "stderr",
     "output_type": "stream",
     "text": [
      "\r",
      " 82%|██████████████████████████████████████████████████████████████████▊               | 106/130 [01:20<00:15,  1.53it/s]"
     ]
    },
    {
     "name": "stderr",
     "output_type": "stream",
     "text": [
      "\r",
      " 82%|███████████████████████████████████████████████████████████████████▍              | 107/130 [01:20<00:12,  1.87it/s]"
     ]
    },
    {
     "name": "stderr",
     "output_type": "stream",
     "text": [
      "\r",
      " 83%|████████████████████████████████████████████████████████████████████              | 108/130 [01:20<00:10,  2.10it/s]"
     ]
    },
    {
     "name": "stderr",
     "output_type": "stream",
     "text": [
      "\r",
      " 84%|████████████████████████████████████████████████████████████████████▊             | 109/130 [01:20<00:08,  2.41it/s]"
     ]
    },
    {
     "name": "stderr",
     "output_type": "stream",
     "text": [
      "\r",
      " 85%|█████████████████████████████████████████████████████████████████████▍            | 110/130 [01:21<00:07,  2.68it/s]"
     ]
    },
    {
     "name": "stderr",
     "output_type": "stream",
     "text": [
      "\r",
      " 85%|██████████████████████████████████████████████████████████████████████            | 111/130 [01:26<00:37,  1.95s/it]"
     ]
    },
    {
     "name": "stderr",
     "output_type": "stream",
     "text": [
      "\r",
      " 86%|██████████████████████████████████████████████████████████████████████▋           | 112/130 [01:27<00:26,  1.49s/it]"
     ]
    },
    {
     "name": "stderr",
     "output_type": "stream",
     "text": [
      "\r",
      " 87%|███████████████████████████████████████████████████████████████████████▎          | 113/130 [01:27<00:18,  1.08s/it]"
     ]
    },
    {
     "name": "stderr",
     "output_type": "stream",
     "text": [
      "\r",
      " 88%|███████████████████████████████████████████████████████████████████████▉          | 114/130 [01:27<00:12,  1.24it/s]"
     ]
    },
    {
     "name": "stderr",
     "output_type": "stream",
     "text": [
      "\r",
      " 88%|████████████████████████████████████████████████████████████████████████▌         | 115/130 [01:27<00:09,  1.63it/s]"
     ]
    },
    {
     "name": "stderr",
     "output_type": "stream",
     "text": [
      "\r",
      " 89%|█████████████████████████████████████████████████████████████████████████▏        | 116/130 [01:27<00:06,  2.01it/s]"
     ]
    },
    {
     "name": "stderr",
     "output_type": "stream",
     "text": [
      "\r",
      " 90%|█████████████████████████████████████████████████████████████████████████▊        | 117/130 [01:28<00:05,  2.31it/s]"
     ]
    },
    {
     "name": "stderr",
     "output_type": "stream",
     "text": [
      "\r",
      " 91%|██████████████████████████████████████████████████████████████████████████▍       | 118/130 [01:28<00:04,  2.66it/s]"
     ]
    },
    {
     "name": "stderr",
     "output_type": "stream",
     "text": [
      "\r",
      " 92%|███████████████████████████████████████████████████████████████████████████       | 119/130 [01:28<00:03,  2.97it/s]"
     ]
    },
    {
     "name": "stderr",
     "output_type": "stream",
     "text": [
      "\r",
      " 92%|███████████████████████████████████████████████████████████████████████████▋      | 120/130 [01:29<00:03,  3.12it/s]"
     ]
    },
    {
     "name": "stderr",
     "output_type": "stream",
     "text": [
      "\r",
      " 93%|████████████████████████████████████████████████████████████████████████████▎     | 121/130 [01:33<00:14,  1.66s/it]"
     ]
    },
    {
     "name": "stderr",
     "output_type": "stream",
     "text": [
      "\r",
      " 94%|████████████████████████████████████████████████████████████████████████████▉     | 122/130 [01:33<00:09,  1.20s/it]"
     ]
    },
    {
     "name": "stderr",
     "output_type": "stream",
     "text": [
      "\r",
      " 95%|█████████████████████████████████████████████████████████████████████████████▌    | 123/130 [01:34<00:06,  1.15it/s]"
     ]
    },
    {
     "name": "stderr",
     "output_type": "stream",
     "text": [
      "\r",
      " 95%|██████████████████████████████████████████████████████████████████████████████▏   | 124/130 [01:34<00:03,  1.56it/s]"
     ]
    },
    {
     "name": "stderr",
     "output_type": "stream",
     "text": [
      "\r",
      " 96%|██████████████████████████████████████████████████████████████████████████████▊   | 125/130 [01:34<00:02,  2.07it/s]"
     ]
    },
    {
     "name": "stderr",
     "output_type": "stream",
     "text": [
      "\r",
      " 97%|███████████████████████████████████████████████████████████████████████████████▍  | 126/130 [01:34<00:01,  2.71it/s]"
     ]
    },
    {
     "name": "stderr",
     "output_type": "stream",
     "text": [
      "\r",
      " 98%|████████████████████████████████████████████████████████████████████████████████  | 127/130 [01:34<00:00,  3.44it/s]"
     ]
    },
    {
     "name": "stderr",
     "output_type": "stream",
     "text": [
      "\r",
      " 98%|████████████████████████████████████████████████████████████████████████████████▋ | 128/130 [01:34<00:00,  4.25it/s]"
     ]
    },
    {
     "name": "stderr",
     "output_type": "stream",
     "text": [
      "\r",
      " 99%|█████████████████████████████████████████████████████████████████████████████████▎| 129/130 [01:34<00:00,  5.04it/s]"
     ]
    },
    {
     "name": "stderr",
     "output_type": "stream",
     "text": [
      "\r",
      "100%|██████████████████████████████████████████████████████████████████████████████████| 130/130 [01:35<00:00,  3.07it/s]"
     ]
    },
    {
     "name": "stderr",
     "output_type": "stream",
     "text": [
      "\r",
      "100%|██████████████████████████████████████████████████████████████████████████████████| 130/130 [01:35<00:00,  1.36it/s]"
     ]
    },
    {
     "name": "stderr",
     "output_type": "stream",
     "text": [
      "\n"
     ]
    },
    {
     "name": "stdout",
     "output_type": "stream",
     "text": [
      "time per sample: 717.67 μs\n",
      "samples per sec: 1393.41 samples/sec\n",
      "CPU times: user 1min 46s, sys: 54.2 s, total: 2min 40s\n",
      "Wall time: 1min 43s\n"
     ]
    }
   ],
   "source": [
    "%%time\n",
    "epochs = []\n",
    "for epoch in range(n_epochs):\n",
    "    with profile(f'benchmark-epoch{epoch}'):\n",
    "        epoch = benchmark(exp, batch_size=batch_size, gc_freq=gc_freq, exclude_first_batch=exclude_first_batch)\n",
    "    epochs.append(epoch)\n",
    "\n",
    "results = Results(\n",
    "    census=Method('census', epochs),\n",
    ")"
   ]
  },
  {
   "cell_type": "code",
   "execution_count": 8,
   "id": "2706d88d-48b1-4ea2-ab93-56c7858eceaa",
   "metadata": {
    "execution": {
     "iopub.execute_input": "2024-04-16T15:50:10.972189Z",
     "iopub.status.busy": "2024-04-16T15:50:10.971890Z",
     "iopub.status.idle": "2024-04-16T15:50:10.977077Z",
     "shell.execute_reply": "2024-04-16T15:50:10.976495Z"
    },
    "papermill": {
     "duration": 0.014912,
     "end_time": "2024-04-16T15:50:10.978156",
     "exception": false,
     "start_time": "2024-04-16T15:50:10.963244",
     "status": "completed"
    },
    "tags": []
   },
   "outputs": [
    {
     "data": {
      "text/plain": [
       "{'open_soma': [{'timers': {'Context.StorageManager.sm_load_group_metadata.sum': 0.016019,\n",
       "    'Context.StorageManager.sm_load_group_metadata.avg': 0.016019,\n",
       "    'Context.StorageManager.sm_load_group_from_uri.sum': 0.017831,\n",
       "    'Context.StorageManager.sm_load_group_from_uri.avg': 0.017831,\n",
       "    'Context.StorageManager.sm_load_group_details.sum': 0.0178357,\n",
       "    'Context.StorageManager.sm_load_group_details.avg': 0.0178357,\n",
       "    'Context.StorageManager.group_open_for_reads.sum': 0.0178391,\n",
       "    'Context.StorageManager.group_open_for_reads.avg': 0.0178391},\n",
       "   'counters': {'Context.StorageManager.read_unfiltered_byte_num': 373,\n",
       "    'Context.StorageManager.read_group_size': 104,\n",
       "    'Context.StorageManager.read_array_meta_size': 269,\n",
       "    'Context.StorageManager.VFS.read_ops_num': 9,\n",
       "    'Context.StorageManager.VFS.read_byte_num': 504,\n",
       "    'Context.StorageManager.VFS.ls_num': 3,\n",
       "    'Context.StorageManager.VFS.is_object_num': 1}}],\n",
       " 'datasets': [{'timers': {'Context.StorageManager.sm_load_group_metadata.sum': 0.0114808,\n",
       "    'Context.StorageManager.sm_load_group_metadata.avg': 0.0114808,\n",
       "    'Context.StorageManager.sm_load_group_from_uri.sum': 0.00842545,\n",
       "    'Context.StorageManager.sm_load_group_from_uri.avg': 0.00842545,\n",
       "    'Context.StorageManager.sm_load_group_details.sum': 0.00842977,\n",
       "    'Context.StorageManager.sm_load_group_details.avg': 0.00842977,\n",
       "    'Context.StorageManager.group_open_for_reads.sum': 0.00843252,\n",
       "    'Context.StorageManager.group_open_for_reads.avg': 0.00843252},\n",
       "   'counters': {'Context.StorageManager.read_unfiltered_byte_num': 291,\n",
       "    'Context.StorageManager.read_group_size': 152,\n",
       "    'Context.StorageManager.read_array_meta_size': 139,\n",
       "    'Context.StorageManager.VFS.read_ops_num': 6,\n",
       "    'Context.StorageManager.VFS.read_byte_num': 337,\n",
       "    'Context.StorageManager.VFS.ls_num': 3}}],\n",
       " 'get_exp_datapipe': [],\n",
       " 'benchmark-epoch0': []}"
      ]
     },
     "execution_count": 8,
     "metadata": {},
     "output_type": "execute_result"
    }
   ],
   "source": [
    "tdb.stats"
   ]
  },
  {
   "cell_type": "code",
   "execution_count": 9,
   "id": "8413e0fa-abfc-445b-9b45-56699e3c1547",
   "metadata": {
    "execution": {
     "iopub.execute_input": "2024-04-16T15:50:10.995134Z",
     "iopub.status.busy": "2024-04-16T15:50:10.994857Z",
     "iopub.status.idle": "2024-04-16T15:50:10.999174Z",
     "shell.execute_reply": "2024-04-16T15:50:10.998605Z"
    },
    "papermill": {
     "duration": 0.014031,
     "end_time": "2024-04-16T15:50:11.000217",
     "exception": false,
     "start_time": "2024-04-16T15:50:10.986186",
     "status": "completed"
    },
    "tags": []
   },
   "outputs": [
    {
     "data": {
      "text/plain": [
       "{'open_soma': [],\n",
       " 'datasets': [{'timers': {'Context.StorageManager.sm_load_fragment_metadata.sum': 0.0668471,\n",
       "    'Context.StorageManager.sm_load_fragment_metadata.avg': 0.0334235,\n",
       "    'Context.StorageManager.sm_load_filtered_fragment_uris.sum': 6.2975e-05,\n",
       "    'Context.StorageManager.sm_load_filtered_fragment_uris.avg': 3.14875e-05,\n",
       "    'Context.StorageManager.sm_load_array_schemas_and_fragment_metadata.sum': 0.0789969,\n",
       "    'Context.StorageManager.sm_load_array_schemas_and_fragment_metadata.avg': 0.0394985,\n",
       "    'Context.StorageManager.sm_load_array_schema_from_uri.sum': 0.0120394,\n",
       "    'Context.StorageManager.sm_load_array_schema_from_uri.avg': 0.00601971,\n",
       "    'Context.StorageManager.sm_load_array_metadata.sum': 0.0102381,\n",
       "    'Context.StorageManager.sm_load_array_metadata.avg': 0.0102381,\n",
       "    'Context.StorageManager.sm_load_all_array_schemas.sum': 0.0120641,\n",
       "    'Context.StorageManager.sm_load_all_array_schemas.avg': 0.00603203,\n",
       "    'Context.StorageManager.array_open_read_load_schemas_and_fragment_meta.sum': 0.0790091,\n",
       "    'Context.StorageManager.array_open_read_load_schemas_and_fragment_meta.avg': 0.0395046,\n",
       "    'Context.StorageManager.array_open_read_load_directory.sum': 0.0943101,\n",
       "    'Context.StorageManager.array_open_read_load_directory.avg': 0.047155,\n",
       "    'Context.StorageManager.array_open_READ.sum': 0.173335,\n",
       "    'Context.StorageManager.array_open_READ.avg': 0.0866674,\n",
       "    'Context.StorageManager.VFS.ArrayDirectory.load_consolidated_commit_uris.sum': 0.0427211,\n",
       "    'Context.StorageManager.VFS.ArrayDirectory.load_consolidated_commit_uris.avg': 0.0213606,\n",
       "    'Context.StorageManager.VFS.ArrayDirectory.list_root_uris.sum': 0.0461994,\n",
       "    'Context.StorageManager.VFS.ArrayDirectory.list_root_uris.avg': 0.0230997,\n",
       "    'Context.StorageManager.VFS.ArrayDirectory.list_fragment_meta_uris.sum': 0.0285721,\n",
       "    'Context.StorageManager.VFS.ArrayDirectory.list_fragment_meta_uris.avg': 0.0142861,\n",
       "    'Context.StorageManager.VFS.ArrayDirectory.list_commit_uris.sum': 0.0416238,\n",
       "    'Context.StorageManager.VFS.ArrayDirectory.list_commit_uris.avg': 0.0208119,\n",
       "    'Context.StorageManager.VFS.ArrayDirectory.list_array_schema_uris.sum': 0.0512602,\n",
       "    'Context.StorageManager.VFS.ArrayDirectory.list_array_schema_uris.avg': 0.0256301,\n",
       "    'Context.StorageManager.VFS.ArrayDirectory.list_array_meta_uris.sum': 0.0480142,\n",
       "    'Context.StorageManager.VFS.ArrayDirectory.list_array_meta_uris.avg': 0.0240071},\n",
       "   'counters': {'Context.StorageManager.read_unfiltered_byte_num': 1301,\n",
       "    'Context.StorageManager.read_frag_meta_size': 2044,\n",
       "    'Context.StorageManager.read_array_schema_size': 1230,\n",
       "    'Context.StorageManager.read_array_meta_size': 71,\n",
       "    'Context.StorageManager.VFS.read_ops_num': 15,\n",
       "    'Context.StorageManager.VFS.read_byte_num': 2950,\n",
       "    'Context.StorageManager.VFS.file_size_num': 4}}],\n",
       " 'get_exp_datapipe': [],\n",
       " 'benchmark-epoch0': []}"
      ]
     },
     "execution_count": 9,
     "metadata": {},
     "output_type": "execute_result"
    }
   ],
   "source": [
    "tdbs.stats"
   ]
  },
  {
   "cell_type": "code",
   "execution_count": 10,
   "id": "14bcbc20-0853-4404-8766-141632991e8c",
   "metadata": {
    "execution": {
     "iopub.execute_input": "2024-04-16T15:50:11.017550Z",
     "iopub.status.busy": "2024-04-16T15:50:11.017089Z",
     "iopub.status.idle": "2024-04-16T15:50:11.022317Z",
     "shell.execute_reply": "2024-04-16T15:50:11.021754Z"
    },
    "papermill": {
     "duration": 0.015051,
     "end_time": "2024-04-16T15:50:11.023375",
     "exception": false,
     "start_time": "2024-04-16T15:50:11.008324",
     "status": "completed"
    },
    "tags": []
   },
   "outputs": [
    {
     "name": "stderr",
     "output_type": "stream",
     "text": [
      "Saved results to results/us-west-2.json\n"
     ]
    }
   ],
   "source": [
    "results_json_path = f'results/{census_loc}.json'\n",
    "with open(results_json_path, 'w') as f:\n",
    "    json.dump(asdict(results), f, indent=2)\n",
    "    err(f\"Saved results to {results_json_path}\")"
   ]
  },
  {
   "cell_type": "code",
   "execution_count": 11,
   "id": "eb1fb31a-b7cf-416a-b801-dae42f03b397",
   "metadata": {
    "execution": {
     "iopub.execute_input": "2024-04-16T15:50:11.041636Z",
     "iopub.status.busy": "2024-04-16T15:50:11.041384Z",
     "iopub.status.idle": "2024-04-16T15:50:11.043976Z",
     "shell.execute_reply": "2024-04-16T15:50:11.043406Z"
    },
    "papermill": {
     "duration": 0.013248,
     "end_time": "2024-04-16T15:50:11.045000",
     "exception": false,
     "start_time": "2024-04-16T15:50:11.031752",
     "status": "completed"
    },
    "tags": []
   },
   "outputs": [],
   "source": [
    "# with open(results_json_path, 'r') as f:\n",
    "#     results = Results(**json.load(f))"
   ]
  },
  {
   "cell_type": "markdown",
   "id": "ece8e5db-bf91-4fac-bd8e-48d747477f92",
   "metadata": {
    "papermill": {
     "duration": 0.008133,
     "end_time": "2024-04-16T15:50:11.061240",
     "exception": false,
     "start_time": "2024-04-16T15:50:11.053107",
     "status": "completed"
    },
    "tags": []
   },
   "source": [
    "## Plot batch timings"
   ]
  },
  {
   "cell_type": "code",
   "execution_count": 12,
   "id": "1b6c7282-7c2a-464b-8b5a-e8dd44e789e4",
   "metadata": {
    "execution": {
     "iopub.execute_input": "2024-04-16T15:50:11.078765Z",
     "iopub.status.busy": "2024-04-16T15:50:11.078389Z",
     "iopub.status.idle": "2024-04-16T15:50:11.091080Z",
     "shell.execute_reply": "2024-04-16T15:50:11.090495Z"
    },
    "papermill": {
     "duration": 0.022645,
     "end_time": "2024-04-16T15:50:11.092114",
     "exception": false,
     "start_time": "2024-04-16T15:50:11.069469",
     "status": "completed"
    },
    "scrolled": true,
    "tags": []
   },
   "outputs": [
    {
     "name": "stderr",
     "output_type": "stream",
     "text": [
      "/tmp/ipykernel_12850/2254310219.py:5: FutureWarning: Downcasting object dtype arrays on .fillna, .ffill, .bfill is deprecated and will change in a future version. Call result.infer_objects(copy=False) instead. To opt-in to the future behavior, set `pd.set_option('future.no_silent_downcasting', True)`\n",
      "  df['gc'] = df['gc'].fillna(nan)\n"
     ]
    },
    {
     "data": {
      "text/html": [
       "<div>\n",
       "<style scoped>\n",
       "    .dataframe tbody tr th:only-of-type {\n",
       "        vertical-align: middle;\n",
       "    }\n",
       "\n",
       "    .dataframe tbody tr th {\n",
       "        vertical-align: top;\n",
       "    }\n",
       "\n",
       "    .dataframe thead th {\n",
       "        text-align: right;\n",
       "    }\n",
       "</style>\n",
       "<table border=\"1\" class=\"dataframe\">\n",
       "  <thead>\n",
       "    <tr style=\"text-align: right;\">\n",
       "      <th></th>\n",
       "      <th>idx</th>\n",
       "      <th>batch</th>\n",
       "    </tr>\n",
       "  </thead>\n",
       "  <tbody>\n",
       "    <tr>\n",
       "      <th>0</th>\n",
       "      <td>0</td>\n",
       "      <td>0.154935</td>\n",
       "    </tr>\n",
       "    <tr>\n",
       "      <th>1</th>\n",
       "      <td>1</td>\n",
       "      <td>0.096532</td>\n",
       "    </tr>\n",
       "    <tr>\n",
       "      <th>2</th>\n",
       "      <td>2</td>\n",
       "      <td>0.130247</td>\n",
       "    </tr>\n",
       "    <tr>\n",
       "      <th>3</th>\n",
       "      <td>3</td>\n",
       "      <td>0.148350</td>\n",
       "    </tr>\n",
       "    <tr>\n",
       "      <th>4</th>\n",
       "      <td>4</td>\n",
       "      <td>0.152071</td>\n",
       "    </tr>\n",
       "    <tr>\n",
       "      <th>...</th>\n",
       "      <td>...</td>\n",
       "      <td>...</td>\n",
       "    </tr>\n",
       "    <tr>\n",
       "      <th>125</th>\n",
       "      <td>125</td>\n",
       "      <td>0.103942</td>\n",
       "    </tr>\n",
       "    <tr>\n",
       "      <th>126</th>\n",
       "      <td>126</td>\n",
       "      <td>0.107960</td>\n",
       "    </tr>\n",
       "    <tr>\n",
       "      <th>127</th>\n",
       "      <td>127</td>\n",
       "      <td>0.107433</td>\n",
       "    </tr>\n",
       "    <tr>\n",
       "      <th>128</th>\n",
       "      <td>128</td>\n",
       "      <td>0.111557</td>\n",
       "    </tr>\n",
       "    <tr>\n",
       "      <th>129</th>\n",
       "      <td>129</td>\n",
       "      <td>0.622796</td>\n",
       "    </tr>\n",
       "  </tbody>\n",
       "</table>\n",
       "<p>130 rows × 2 columns</p>\n",
       "</div>"
      ],
      "text/plain": [
       "     idx     batch\n",
       "0      0  0.154935\n",
       "1      1  0.096532\n",
       "2      2  0.130247\n",
       "3      3  0.148350\n",
       "4      4  0.152071\n",
       "..   ...       ...\n",
       "125  125  0.103942\n",
       "126  126  0.107960\n",
       "127  127  0.107433\n",
       "128  128  0.111557\n",
       "129  129  0.622796\n",
       "\n",
       "[130 rows x 2 columns]"
      ]
     },
     "execution_count": 12,
     "metadata": {},
     "output_type": "execute_result"
    }
   ],
   "source": [
    "method = 'census'\n",
    "epoch = 0\n",
    "batches = getattr(results, 'census').epochs[epoch].batches\n",
    "df = pd.DataFrame(batches)\n",
    "df['gc'] = df['gc'].fillna(nan)\n",
    "if df.gc.isna().all():\n",
    "    df = df.drop(columns='gc')\n",
    "df.index.name = 'idx'\n",
    "df = df.reset_index()\n",
    "df"
   ]
  },
  {
   "cell_type": "code",
   "execution_count": 13,
   "id": "703da7d9-035a-4b9f-8062-62c509458391",
   "metadata": {
    "execution": {
     "iopub.execute_input": "2024-04-16T15:50:11.110092Z",
     "iopub.status.busy": "2024-04-16T15:50:11.109716Z",
     "iopub.status.idle": "2024-04-16T15:50:11.117047Z",
     "shell.execute_reply": "2024-04-16T15:50:11.116483Z"
    },
    "papermill": {
     "duration": 0.017531,
     "end_time": "2024-04-16T15:50:11.118121",
     "exception": false,
     "start_time": "2024-04-16T15:50:11.100590",
     "status": "completed"
    },
    "scrolled": true,
    "tags": []
   },
   "outputs": [
    {
     "data": {
      "text/html": [
       "<div>\n",
       "<style scoped>\n",
       "    .dataframe tbody tr th:only-of-type {\n",
       "        vertical-align: middle;\n",
       "    }\n",
       "\n",
       "    .dataframe tbody tr th {\n",
       "        vertical-align: top;\n",
       "    }\n",
       "\n",
       "    .dataframe thead th {\n",
       "        text-align: right;\n",
       "    }\n",
       "</style>\n",
       "<table border=\"1\" class=\"dataframe\">\n",
       "  <thead>\n",
       "    <tr style=\"text-align: right;\">\n",
       "      <th></th>\n",
       "      <th>idx</th>\n",
       "      <th>batch</th>\n",
       "    </tr>\n",
       "  </thead>\n",
       "  <tbody>\n",
       "    <tr>\n",
       "      <th>8</th>\n",
       "      <td>8</td>\n",
       "      <td>5.589230</td>\n",
       "    </tr>\n",
       "    <tr>\n",
       "      <th>17</th>\n",
       "      <td>17</td>\n",
       "      <td>6.437050</td>\n",
       "    </tr>\n",
       "    <tr>\n",
       "      <th>26</th>\n",
       "      <td>26</td>\n",
       "      <td>6.490147</td>\n",
       "    </tr>\n",
       "    <tr>\n",
       "      <th>36</th>\n",
       "      <td>36</td>\n",
       "      <td>4.817110</td>\n",
       "    </tr>\n",
       "    <tr>\n",
       "      <th>45</th>\n",
       "      <td>45</td>\n",
       "      <td>6.212139</td>\n",
       "    </tr>\n",
       "    <tr>\n",
       "      <th>54</th>\n",
       "      <td>54</td>\n",
       "      <td>3.972135</td>\n",
       "    </tr>\n",
       "    <tr>\n",
       "      <th>64</th>\n",
       "      <td>64</td>\n",
       "      <td>4.733140</td>\n",
       "    </tr>\n",
       "    <tr>\n",
       "      <th>73</th>\n",
       "      <td>73</td>\n",
       "      <td>6.280083</td>\n",
       "    </tr>\n",
       "    <tr>\n",
       "      <th>82</th>\n",
       "      <td>82</td>\n",
       "      <td>4.579611</td>\n",
       "    </tr>\n",
       "    <tr>\n",
       "      <th>92</th>\n",
       "      <td>92</td>\n",
       "      <td>5.613716</td>\n",
       "    </tr>\n",
       "    <tr>\n",
       "      <th>101</th>\n",
       "      <td>101</td>\n",
       "      <td>6.486861</td>\n",
       "    </tr>\n",
       "    <tr>\n",
       "      <th>110</th>\n",
       "      <td>110</td>\n",
       "      <td>5.646602</td>\n",
       "    </tr>\n",
       "    <tr>\n",
       "      <th>120</th>\n",
       "      <td>120</td>\n",
       "      <td>4.799742</td>\n",
       "    </tr>\n",
       "    <tr>\n",
       "      <th>129</th>\n",
       "      <td>129</td>\n",
       "      <td>0.622796</td>\n",
       "    </tr>\n",
       "  </tbody>\n",
       "</table>\n",
       "</div>"
      ],
      "text/plain": [
       "     idx     batch\n",
       "8      8  5.589230\n",
       "17    17  6.437050\n",
       "26    26  6.490147\n",
       "36    36  4.817110\n",
       "45    45  6.212139\n",
       "54    54  3.972135\n",
       "64    64  4.733140\n",
       "73    73  6.280083\n",
       "82    82  4.579611\n",
       "92    92  5.613716\n",
       "101  101  6.486861\n",
       "110  110  5.646602\n",
       "120  120  4.799742\n",
       "129  129  0.622796"
      ]
     },
     "execution_count": 13,
     "metadata": {},
     "output_type": "execute_result"
    }
   ],
   "source": [
    "ann = df[df.batch > ann_cutoff] if ann_cutoff else df[[]]\n",
    "ann"
   ]
  },
  {
   "cell_type": "code",
   "execution_count": 14,
   "id": "9bbe7687-edb0-4287-981f-96436ca40da6",
   "metadata": {
    "execution": {
     "iopub.execute_input": "2024-04-16T15:50:11.137190Z",
     "iopub.status.busy": "2024-04-16T15:50:11.136812Z",
     "iopub.status.idle": "2024-04-16T15:50:11.140520Z",
     "shell.execute_reply": "2024-04-16T15:50:11.139951Z"
    },
    "papermill": {
     "duration": 0.014891,
     "end_time": "2024-04-16T15:50:11.141580",
     "exception": false,
     "start_time": "2024-04-16T15:50:11.126689",
     "status": "completed"
    },
    "tags": []
   },
   "outputs": [
    {
     "data": {
      "text/plain": [
       "PlotConfigs(fmt='fig', w=1200, h=800, save=[], v=True, i=None, dir=None, grid='#ccc', bg='white')"
      ]
     },
     "execution_count": 14,
     "metadata": {},
     "output_type": "execute_result"
    }
   ],
   "source": [
    "pc"
   ]
  },
  {
   "cell_type": "code",
   "execution_count": 15,
   "id": "823603b4-61ac-4edd-9047-921e6b0568a7",
   "metadata": {
    "execution": {
     "iopub.execute_input": "2024-04-16T15:50:11.160067Z",
     "iopub.status.busy": "2024-04-16T15:50:11.159702Z",
     "iopub.status.idle": "2024-04-16T15:50:12.137451Z",
     "shell.execute_reply": "2024-04-16T15:50:12.136817Z"
    },
    "papermill": {
     "duration": 0.988246,
     "end_time": "2024-04-16T15:50:12.138529",
     "exception": false,
     "start_time": "2024-04-16T15:50:11.150283",
     "status": "completed"
    },
    "tags": []
   },
   "outputs": [
    {
     "name": "stderr",
     "output_type": "stream",
     "text": [
      "Saving: img/census-us-west-2.png\n"
     ]
    },
    {
     "name": "stderr",
     "output_type": "stream",
     "text": [
      "Returning IPython Image\n"
     ]
    },
    {
     "data": {
      "image/png": "[encoded data removed]",
      "text/plain": [
       "<IPython.core.display.Image object>"
      ]
     },
     "execution_count": 15,
     "metadata": {},
     "output_type": "execute_result"
    }
   ],
   "source": [
    "fig = px.bar(\n",
    "    df.set_index('idx')[['batch', *(['gc'] if 'gc' in df else [])]],\n",
    "    barmode='stack',\n",
    "    labels={\n",
    "        'idx': 'Batch idx',\n",
    "        'variable': '',\n",
    "        'value': 'Time (s)',\n",
    "    },\n",
    "    log_y=log_plot,\n",
    ").update_layout(\n",
    "    title=dict(text=f'Batch+GC times ({method} / {census_loc})'),\n",
    ").update_xaxes(\n",
    "    range=(-.5, len(df) - 1 + .5),\n",
    ")\n",
    "\n",
    "if not ann.empty:\n",
    "    anns = ann.set_index('idx').batch.to_dict().items()\n",
    "    for idx, batch in anns:\n",
    "        fig.add_annotation(\n",
    "            x=idx, y=log10(batch) if log_plot else batch,\n",
    "            showarrow=False,\n",
    "            text=f'{idx}: {batch:.1f}s',\n",
    "            xshift=7,\n",
    "            xanchor='left',\n",
    "        )\n",
    "\n",
    "plot(fig, f'census-{census_loc}', fmt='png', save=['png'], w=width, h=height, dir='img',)"
   ]
  }
 ],
 "metadata": {
  "kernelspec": {
   "display_name": "Python 3 (ipykernel)",
   "language": "python",
   "name": "python3"
  },
  "language_info": {
   "codemirror_mode": {
    "name": "ipython",
    "version": 3
   },
   "file_extension": ".py",
   "mimetype": "text/x-python",
   "name": "python",
   "nbconvert_exporter": "python",
   "pygments_lexer": "ipython3",
   "version": "3.11.8"
  },
  "papermill": {
   "default_parameters": {},
   "duration": 116.374606,
   "end_time": "2024-04-16T15:50:14.766533",
   "environment_variables": {},
   "exception": null,
   "input_path": "benchmark.ipynb",
   "output_path": "benchmarks/us-west-2.ipynb",
   "parameters": {
    "census_uri": ""
   },
   "start_time": "2024-04-16T15:48:18.391927",
   "version": "2.5.0"
  }
 },
 "nbformat": 4,
 "nbformat_minor": 5
}