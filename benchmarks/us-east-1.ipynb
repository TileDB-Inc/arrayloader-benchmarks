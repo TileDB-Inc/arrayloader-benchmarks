{
 "cells": [
  {
   "cell_type": "code",
   "execution_count": 1,
   "id": "cf534d10-2611-43fc-94a1-11650b44e30a",
   "metadata": {
    "execution": {
     "iopub.execute_input": "2024-04-16T15:57:13.274801Z",
     "iopub.status.busy": "2024-04-16T15:57:13.274548Z",
     "iopub.status.idle": "2024-04-16T15:57:26.889769Z",
     "shell.execute_reply": "2024-04-16T15:57:26.889181Z"
    },
    "papermill": {
     "duration": 13.620675,
     "end_time": "2024-04-16T15:57:26.891178",
     "exception": false,
     "start_time": "2024-04-16T15:57:13.270503",
     "status": "completed"
    },
    "tags": []
   },
   "outputs": [],
   "source": [
    "from benchmark import *\n",
    "from utils import *\n",
    "\n",
    "from cellxgene_census.experimental.ml import ExperimentDataPipe, experiment_dataloader\n",
    "import torch\n",
    "from torch.utils.data import DataLoader\n",
    "torch.ones(2).cuda();"
   ]
  },
  {
   "cell_type": "markdown",
   "id": "ea210b2d-c864-4ca1-be75-44f465d04450",
   "metadata": {
    "papermill": {
     "duration": 0.003012,
     "end_time": "2024-04-16T15:57:26.896822",
     "exception": false,
     "start_time": "2024-04-16T15:57:26.893810",
     "status": "completed"
    },
    "tags": []
   },
   "source": [
    "### [Papermill](https://papermill.readthedocs.io/en/latest/) params:"
   ]
  },
  {
   "cell_type": "code",
   "execution_count": 2,
   "id": "5bcfe840-ad0c-4b90-b977-384573638612",
   "metadata": {
    "editable": true,
    "execution": {
     "iopub.execute_input": "2024-04-16T15:57:26.902618Z",
     "iopub.status.busy": "2024-04-16T15:57:26.901844Z",
     "iopub.status.idle": "2024-04-16T15:57:26.906150Z",
     "shell.execute_reply": "2024-04-16T15:57:26.905704Z"
    },
    "papermill": {
     "duration": 0.008208,
     "end_time": "2024-04-16T15:57:26.907178",
     "exception": false,
     "start_time": "2024-04-16T15:57:26.898970",
     "status": "completed"
    },
    "slideshow": {
     "slide_type": ""
    },
    "tags": [
     "parameters"
    ]
   },
   "outputs": [],
   "source": [
    "# Set this to read from a local path\n",
    "experiment_uri = None\n",
    "\n",
    "# None ⟹ fetch from S3\n",
    "census_uri = None\n",
    "#census_uri = '/mnt/nvme/s3/cellxgene-census-public-us-west-2/cell-census/2023-12-15/soma'\n",
    "census_version = \"2023-12-15\"\n",
    "\n",
    "# By default:\n",
    "# - `local` if `census_uri` is a local path\n",
    "# - current region if `census_uri` is None (e.g. `us-east-1`, `us-west-2`)\n",
    "census_loc = None\n",
    "\n",
    "collection_id = '283d65eb-dd53-496d-adb7-7570c7caa443'\n",
    "# Slice datasets from `collection_id`\n",
    "start = 2\n",
    "end = 7\n",
    "\n",
    "n_epochs = 1\n",
    "batch_size = 1024\n",
    "n_vars = 20_000\n",
    "soma_chunk_size = 10_000\n",
    "gc_freq: Optional[int] = None  # When set, run `gc.collect()` every `gc_freq` batches\n",
    "exclude_first_batch = True\n",
    "\n",
    "# Plot configs\n",
    "ann_cutoff = .5  # Annotate plot with values for batch timings greater than this threshold\n",
    "log_plot = False\n",
    "width = 1200\n",
    "height = 700"
   ]
  },
  {
   "cell_type": "code",
   "execution_count": 3,
   "id": "610c4070",
   "metadata": {
    "execution": {
     "iopub.execute_input": "2024-04-16T15:57:26.913347Z",
     "iopub.status.busy": "2024-04-16T15:57:26.913016Z",
     "iopub.status.idle": "2024-04-16T15:57:26.915305Z",
     "shell.execute_reply": "2024-04-16T15:57:26.914886Z"
    },
    "papermill": {
     "duration": 0.006022,
     "end_time": "2024-04-16T15:57:26.916271",
     "exception": false,
     "start_time": "2024-04-16T15:57:26.910249",
     "status": "completed"
    },
    "tags": [
     "injected-parameters"
    ]
   },
   "outputs": [],
   "source": [
    "# Parameters\n",
    "census_uri = \"\"\n"
   ]
  },
  {
   "cell_type": "code",
   "execution_count": 4,
   "id": "a7a60456-92dc-466d-b3ca-a6d5df4c5121",
   "metadata": {
    "editable": true,
    "execution": {
     "iopub.execute_input": "2024-04-16T15:57:26.922365Z",
     "iopub.status.busy": "2024-04-16T15:57:26.922110Z",
     "iopub.status.idle": "2024-04-16T15:57:33.572032Z",
     "shell.execute_reply": "2024-04-16T15:57:33.571548Z"
    },
    "papermill": {
     "duration": 6.654737,
     "end_time": "2024-04-16T15:57:33.573152",
     "exception": false,
     "start_time": "2024-04-16T15:57:26.918415",
     "status": "completed"
    },
    "slideshow": {
     "slide_type": ""
    },
    "tags": []
   },
   "outputs": [
    {
     "name": "stderr",
     "output_type": "stream",
     "text": [
      "Loading census (us-east-1)\n"
     ]
    },
    {
     "name": "stderr",
     "output_type": "stream",
     "text": [
      "138 datasets: ['8e10f1c4-8e98-41e5-b65f-8cd89a887122', 'b165f033-9dec-468a-9248-802fc6902a74', 'ff7d15fa-f4b6-4a0e-992e-fd0c9d088ded', 'fe1a73ab-a203-45fd-84e9-0f7fd19efcbd', 'fbf173f9-f809-4d84-9b65-ae205d35b523', 'fa554686-fc07-44dd-b2de-b726d82d26ec', 'f9034091-2e8f-4ac6-9874-e7b7eb566824', 'f8dda921-5fb4-4c94-a654-c6fc346bfd6d', 'f7d003d4-40d5-4de8-858c-a9a8b48fcc67', 'f6d9f2ad-5ec7-4d53-b7f0-ceb0e7bcd181']\n"
     ]
    },
    {
     "data": {
      "text/plain": [
       "<Experiment 's3://cellxgene-census-public-us-west-2/cell-census/2023-12-15/soma/census_data/homo_sapiens' (open for 'r') (2 items)\n",
       "    'ms': 's3://cellxgene-census-public-us-west-2/cell-census/2023-12-15/soma/census_data/homo_sapiens/ms' (unopened)\n",
       "    'obs': 's3://cellxgene-census-public-us-west-2/cell-census/2023-12-15/soma/census_data/homo_sapiens/obs' (unopened)>"
      ]
     },
     "execution_count": 4,
     "metadata": {},
     "output_type": "execute_result"
    }
   ],
   "source": [
    "var_query = AxisQuery(coords=(slice(n_vars - 1),)) if n_vars else None\n",
    "\n",
    "if experiment_uri:\n",
    "    err(f\"Loading experiment {experiment_uri}\")\n",
    "    experiment = Experiment.open(experiment_uri)\n",
    "    obs_query = None\n",
    "else:\n",
    "    if not census_uri:\n",
    "        census_uri = None\n",
    "    \n",
    "    if census_loc is None:\n",
    "        if census_uri and census_uri.startswith('/'):\n",
    "            census_loc = 'local'\n",
    "        else:\n",
    "            census_loc = get_region()\n",
    "    \n",
    "    err(f\"Loading census ({census_loc})\")\n",
    "\n",
    "    with profile('open_soma'):\n",
    "        census = cellxgene_census.open_soma(uri=census_uri, census_version=census_version)\n",
    "    \n",
    "    datasets = get_datasets(census, collection_id, 'datasets')\n",
    "    err(f\"{len(datasets)} datasets: {datasets[:10]}\")\n",
    "    \n",
    "    experiment = census[\"census_data\"][\"homo_sapiens\"]\n",
    "    ds = datasets[slice(start, end)]\n",
    "    datasets_query = \"dataset_id in \" + str(ds)\n",
    "    obs_query = AxisQuery(value_filter=datasets_query)\n",
    "experiment"
   ]
  },
  {
   "cell_type": "code",
   "execution_count": 5,
   "id": "ac8ed548-8f2f-48c2-9eac-f6e5bb6174e4",
   "metadata": {
    "execution": {
     "iopub.execute_input": "2024-04-16T15:57:33.579285Z",
     "iopub.status.busy": "2024-04-16T15:57:33.579029Z",
     "iopub.status.idle": "2024-04-16T15:57:33.589383Z",
     "shell.execute_reply": "2024-04-16T15:57:33.588957Z"
    },
    "papermill": {
     "duration": 0.014498,
     "end_time": "2024-04-16T15:57:33.590422",
     "exception": false,
     "start_time": "2024-04-16T15:57:33.575924",
     "status": "completed"
    },
    "tags": []
   },
   "outputs": [
    {
     "name": "stdout",
     "output_type": "stream",
     "text": [
      "CPU times: user 4.37 ms, sys: 192 µs, total: 4.56 ms\n",
      "Wall time: 5.85 ms\n"
     ]
    },
    {
     "data": {
      "text/plain": [
       "Exp(datapipe=ExperimentDataPipe, loader=<torch.utils.data.dataloader.DataLoader object at 0x7fcdc01310d0>)"
      ]
     },
     "execution_count": 5,
     "metadata": {},
     "output_type": "execute_result"
    }
   ],
   "source": [
    "%%time\n",
    "with profile('get_exp_datapipe'):\n",
    "    experiment_datapipe = ExperimentDataPipe(\n",
    "        experiment,\n",
    "        measurement_name=\"RNA\",\n",
    "        X_name=\"raw\",\n",
    "        obs_query=obs_query,\n",
    "        var_query=var_query,\n",
    "        batch_size=batch_size,\n",
    "        shuffle=True,\n",
    "        soma_chunk_size=soma_chunk_size,\n",
    "    )\n",
    "    loader = experiment_dataloader(experiment_datapipe)\n",
    "exp = Exp(experiment_datapipe, loader)\n",
    "exp"
   ]
  },
  {
   "cell_type": "code",
   "execution_count": 6,
   "id": "7a614e15-a28d-45ce-a9a0-f22e9f78f824",
   "metadata": {
    "execution": {
     "iopub.execute_input": "2024-04-16T15:57:33.597095Z",
     "iopub.status.busy": "2024-04-16T15:57:33.596881Z",
     "iopub.status.idle": "2024-04-16T15:57:43.496705Z",
     "shell.execute_reply": "2024-04-16T15:57:43.496241Z"
    },
    "papermill": {
     "duration": 9.904053,
     "end_time": "2024-04-16T15:57:43.497841",
     "exception": false,
     "start_time": "2024-04-16T15:57:33.593788",
     "status": "completed"
    },
    "tags": []
   },
   "outputs": [
    {
     "name": "stdout",
     "output_type": "stream",
     "text": [
      "CPU times: user 9.29 s, sys: 2.64 s, total: 11.9 s\n",
      "Wall time: 9.9 s\n"
     ]
    },
    {
     "data": {
      "text/plain": [
       "133790"
      ]
     },
     "execution_count": 6,
     "metadata": {},
     "output_type": "execute_result"
    }
   ],
   "source": [
    "%%time\n",
    "exp.datapipe.shape[0]"
   ]
  },
  {
   "cell_type": "markdown",
   "id": "58d03d4d-c3e3-43b7-8fc8-9674eb3832ec",
   "metadata": {
    "papermill": {
     "duration": 0.003279,
     "end_time": "2024-04-16T15:57:43.504135",
     "exception": false,
     "start_time": "2024-04-16T15:57:43.500856",
     "status": "completed"
    },
    "tags": []
   },
   "source": [
    "## Run benchmark"
   ]
  },
  {
   "cell_type": "code",
   "execution_count": 7,
   "id": "c7610705-d2ec-4eb3-90e4-332626526728",
   "metadata": {
    "execution": {
     "iopub.execute_input": "2024-04-16T15:57:43.510409Z",
     "iopub.status.busy": "2024-04-16T15:57:43.510156Z",
     "iopub.status.idle": "2024-04-16T16:00:34.901959Z",
     "shell.execute_reply": "2024-04-16T16:00:34.901457Z"
    },
    "papermill": {
     "duration": 171.396225,
     "end_time": "2024-04-16T16:00:34.903040",
     "exception": false,
     "start_time": "2024-04-16T15:57:43.506815",
     "status": "completed"
    },
    "tags": []
   },
   "outputs": [
    {
     "name": "stderr",
     "output_type": "stream",
     "text": [
      "\r",
      "  0%|                                                                                              | 0/130 [00:00<?, ?it/s]"
     ]
    },
    {
     "name": "stderr",
     "output_type": "stream",
     "text": [
      "\r",
      "  1%|▋                                                                                     | 1/130 [00:00<00:16,  7.84it/s]"
     ]
    },
    {
     "name": "stderr",
     "output_type": "stream",
     "text": [
      "\r",
      "  2%|█▎                                                                                    | 2/130 [00:01<02:18,  1.08s/it]"
     ]
    },
    {
     "name": "stderr",
     "output_type": "stream",
     "text": [
      "\r",
      "  2%|█▉                                                                                    | 3/130 [00:02<01:22,  1.54it/s]"
     ]
    },
    {
     "name": "stderr",
     "output_type": "stream",
     "text": [
      "\r",
      "  3%|██▋                                                                                   | 4/130 [00:02<00:55,  2.25it/s]"
     ]
    },
    {
     "name": "stderr",
     "output_type": "stream",
     "text": [
      "\r",
      "  4%|███▎                                                                                  | 5/130 [00:02<00:41,  3.02it/s]"
     ]
    },
    {
     "name": "stderr",
     "output_type": "stream",
     "text": [
      "\r",
      "  5%|███▉                                                                                  | 6/130 [00:02<00:32,  3.81it/s]"
     ]
    },
    {
     "name": "stderr",
     "output_type": "stream",
     "text": [
      "\r",
      "  5%|████▋                                                                                 | 7/130 [00:02<00:26,  4.56it/s]"
     ]
    },
    {
     "name": "stderr",
     "output_type": "stream",
     "text": [
      "\r",
      "  6%|█████▎                                                                                | 8/130 [00:02<00:24,  4.89it/s]"
     ]
    },
    {
     "name": "stderr",
     "output_type": "stream",
     "text": [
      "\r",
      "  7%|█████▉                                                                                | 9/130 [00:14<07:24,  3.68s/it]"
     ]
    },
    {
     "name": "stderr",
     "output_type": "stream",
     "text": [
      "\r",
      "  8%|██████▌                                                                              | 10/130 [00:14<05:09,  2.58s/it]"
     ]
    },
    {
     "name": "stderr",
     "output_type": "stream",
     "text": [
      "\r",
      "  8%|███████▏                                                                             | 11/130 [00:15<04:40,  2.36s/it]"
     ]
    },
    {
     "name": "stderr",
     "output_type": "stream",
     "text": [
      "\r",
      "  9%|███████▊                                                                             | 12/130 [00:16<03:17,  1.68s/it]"
     ]
    },
    {
     "name": "stderr",
     "output_type": "stream",
     "text": [
      "\r",
      " 10%|████████▌                                                                            | 13/130 [00:16<02:20,  1.20s/it]"
     ]
    },
    {
     "name": "stderr",
     "output_type": "stream",
     "text": [
      "\r",
      " 11%|█████████▏                                                                           | 14/130 [00:16<01:40,  1.15it/s]"
     ]
    },
    {
     "name": "stderr",
     "output_type": "stream",
     "text": [
      "\r",
      " 12%|█████████▊                                                                           | 15/130 [00:16<01:13,  1.56it/s]"
     ]
    },
    {
     "name": "stderr",
     "output_type": "stream",
     "text": [
      "\r",
      " 12%|██████████▍                                                                          | 16/130 [00:16<00:54,  2.09it/s]"
     ]
    },
    {
     "name": "stderr",
     "output_type": "stream",
     "text": [
      "\r",
      " 13%|███████████                                                                          | 17/130 [00:16<00:41,  2.72it/s]"
     ]
    },
    {
     "name": "stderr",
     "output_type": "stream",
     "text": [
      "\r",
      " 14%|███████████▊                                                                         | 18/130 [00:23<04:26,  2.38s/it]"
     ]
    },
    {
     "name": "stderr",
     "output_type": "stream",
     "text": [
      "\r",
      " 15%|████████████▍                                                                        | 19/130 [00:23<03:08,  1.69s/it]"
     ]
    },
    {
     "name": "stderr",
     "output_type": "stream",
     "text": [
      "\r",
      " 15%|█████████████                                                                        | 20/130 [00:25<03:03,  1.67s/it]"
     ]
    },
    {
     "name": "stderr",
     "output_type": "stream",
     "text": [
      "\r",
      " 16%|█████████████▋                                                                       | 21/130 [00:25<02:11,  1.20s/it]"
     ]
    },
    {
     "name": "stderr",
     "output_type": "stream",
     "text": [
      "\r",
      " 18%|███████████████                                                                      | 23/130 [00:25<01:14,  1.45it/s]"
     ]
    },
    {
     "name": "stderr",
     "output_type": "stream",
     "text": [
      "\r",
      " 19%|████████████████▎                                                                    | 25/130 [00:25<00:47,  2.19it/s]"
     ]
    },
    {
     "name": "stderr",
     "output_type": "stream",
     "text": [
      "\r",
      " 21%|█████████████████▋                                                                   | 27/130 [00:34<03:16,  1.90s/it]"
     ]
    },
    {
     "name": "stderr",
     "output_type": "stream",
     "text": [
      "\r",
      " 22%|██████████████████▎                                                                  | 28/130 [00:34<02:36,  1.54s/it]"
     ]
    },
    {
     "name": "stderr",
     "output_type": "stream",
     "text": [
      "\r",
      " 22%|██████████████████▉                                                                  | 29/130 [00:35<02:03,  1.22s/it]"
     ]
    },
    {
     "name": "stderr",
     "output_type": "stream",
     "text": [
      "\r",
      " 23%|███████████████████▌                                                                 | 30/130 [00:37<02:22,  1.42s/it]"
     ]
    },
    {
     "name": "stderr",
     "output_type": "stream",
     "text": [
      "\r",
      " 24%|████████████████████▎                                                                | 31/130 [00:37<01:47,  1.09s/it]"
     ]
    },
    {
     "name": "stderr",
     "output_type": "stream",
     "text": [
      "\r",
      " 25%|████████████████████▉                                                                | 32/130 [00:37<01:21,  1.20it/s]"
     ]
    },
    {
     "name": "stderr",
     "output_type": "stream",
     "text": [
      "\r",
      " 25%|█████████████████████▌                                                               | 33/130 [00:37<01:01,  1.57it/s]"
     ]
    },
    {
     "name": "stderr",
     "output_type": "stream",
     "text": [
      "\r",
      " 26%|██████████████████████▏                                                              | 34/130 [00:37<00:47,  2.03it/s]"
     ]
    },
    {
     "name": "stderr",
     "output_type": "stream",
     "text": [
      "\r",
      " 27%|██████████████████████▉                                                              | 35/130 [00:37<00:37,  2.57it/s]"
     ]
    },
    {
     "name": "stderr",
     "output_type": "stream",
     "text": [
      "\r",
      " 28%|███████████████████████▌                                                             | 36/130 [00:37<00:29,  3.19it/s]"
     ]
    },
    {
     "name": "stderr",
     "output_type": "stream",
     "text": [
      "\r",
      " 28%|████████████████████████▏                                                            | 37/130 [00:51<06:38,  4.28s/it]"
     ]
    },
    {
     "name": "stderr",
     "output_type": "stream",
     "text": [
      "\r",
      " 29%|████████████████████████▊                                                            | 38/130 [00:51<04:40,  3.05s/it]"
     ]
    },
    {
     "name": "stderr",
     "output_type": "stream",
     "text": [
      "\r",
      " 30%|█████████████████████████▌                                                           | 39/130 [00:53<04:01,  2.66s/it]"
     ]
    },
    {
     "name": "stderr",
     "output_type": "stream",
     "text": [
      "\r",
      " 31%|██████████████████████████▏                                                          | 40/130 [00:53<02:51,  1.90s/it]"
     ]
    },
    {
     "name": "stderr",
     "output_type": "stream",
     "text": [
      "\r",
      " 32%|██████████████████████████▊                                                          | 41/130 [00:53<02:01,  1.37s/it]"
     ]
    },
    {
     "name": "stderr",
     "output_type": "stream",
     "text": [
      "\r",
      " 32%|███████████████████████████▍                                                         | 42/130 [00:53<01:27,  1.01it/s]"
     ]
    },
    {
     "name": "stderr",
     "output_type": "stream",
     "text": [
      "\r",
      " 33%|████████████████████████████                                                         | 43/130 [00:54<01:03,  1.37it/s]"
     ]
    },
    {
     "name": "stderr",
     "output_type": "stream",
     "text": [
      "\r",
      " 34%|████████████████████████████▊                                                        | 44/130 [00:54<00:46,  1.84it/s]"
     ]
    },
    {
     "name": "stderr",
     "output_type": "stream",
     "text": [
      "\r",
      " 35%|█████████████████████████████▍                                                       | 45/130 [00:54<00:35,  2.42it/s]"
     ]
    },
    {
     "name": "stderr",
     "output_type": "stream",
     "text": [
      "\r",
      " 35%|██████████████████████████████                                                       | 46/130 [01:02<03:42,  2.64s/it]"
     ]
    },
    {
     "name": "stderr",
     "output_type": "stream",
     "text": [
      "\r",
      " 36%|██████████████████████████████▋                                                      | 47/130 [01:02<02:36,  1.89s/it]"
     ]
    },
    {
     "name": "stderr",
     "output_type": "stream",
     "text": [
      "\r",
      " 37%|███████████████████████████████▍                                                     | 48/130 [01:02<01:51,  1.35s/it]"
     ]
    },
    {
     "name": "stderr",
     "output_type": "stream",
     "text": [
      "\r",
      " 38%|████████████████████████████████                                                     | 49/130 [01:04<01:59,  1.48s/it]"
     ]
    },
    {
     "name": "stderr",
     "output_type": "stream",
     "text": [
      "\r",
      " 38%|████████████████████████████████▋                                                    | 50/130 [01:04<01:25,  1.06s/it]"
     ]
    },
    {
     "name": "stderr",
     "output_type": "stream",
     "text": [
      "\r",
      " 39%|█████████████████████████████████▎                                                   | 51/130 [01:04<01:01,  1.29it/s]"
     ]
    },
    {
     "name": "stderr",
     "output_type": "stream",
     "text": [
      "\r",
      " 40%|██████████████████████████████████                                                   | 52/130 [01:04<00:44,  1.74it/s]"
     ]
    },
    {
     "name": "stderr",
     "output_type": "stream",
     "text": [
      "\r",
      " 41%|██████████████████████████████████▋                                                  | 53/130 [01:04<00:33,  2.30it/s]"
     ]
    },
    {
     "name": "stderr",
     "output_type": "stream",
     "text": [
      "\r",
      " 42%|███████████████████████████████████▎                                                 | 54/130 [01:04<00:25,  2.98it/s]"
     ]
    },
    {
     "name": "stderr",
     "output_type": "stream",
     "text": [
      "\r",
      " 42%|███████████████████████████████████▉                                                 | 55/130 [01:12<03:18,  2.64s/it]"
     ]
    },
    {
     "name": "stderr",
     "output_type": "stream",
     "text": [
      "\r",
      " 43%|████████████████████████████████████▌                                                | 56/130 [01:12<02:19,  1.89s/it]"
     ]
    },
    {
     "name": "stderr",
     "output_type": "stream",
     "text": [
      "\r",
      " 44%|█████████████████████████████████████▎                                               | 57/130 [01:14<02:11,  1.80s/it]"
     ]
    },
    {
     "name": "stderr",
     "output_type": "stream",
     "text": [
      "\r",
      " 45%|█████████████████████████████████████▉                                               | 58/130 [01:14<01:33,  1.29s/it]"
     ]
    },
    {
     "name": "stderr",
     "output_type": "stream",
     "text": [
      "\r",
      " 45%|██████████████████████████████████████▌                                              | 59/130 [01:14<01:06,  1.07it/s]"
     ]
    },
    {
     "name": "stderr",
     "output_type": "stream",
     "text": [
      "\r",
      " 46%|███████████████████████████████████████▏                                             | 60/130 [01:14<00:48,  1.45it/s]"
     ]
    },
    {
     "name": "stderr",
     "output_type": "stream",
     "text": [
      "\r",
      " 47%|███████████████████████████████████████▉                                             | 61/130 [01:14<00:35,  1.94it/s]"
     ]
    },
    {
     "name": "stderr",
     "output_type": "stream",
     "text": [
      "\r",
      " 48%|████████████████████████████████████████▌                                            | 62/130 [01:14<00:26,  2.55it/s]"
     ]
    },
    {
     "name": "stderr",
     "output_type": "stream",
     "text": [
      "\r",
      " 48%|█████████████████████████████████████████▏                                           | 63/130 [01:15<00:20,  3.25it/s]"
     ]
    },
    {
     "name": "stderr",
     "output_type": "stream",
     "text": [
      "\r",
      " 49%|█████████████████████████████████████████▊                                           | 64/130 [01:15<00:17,  3.84it/s]"
     ]
    },
    {
     "name": "stderr",
     "output_type": "stream",
     "text": [
      "\r",
      " 50%|██████████████████████████████████████████▌                                          | 65/130 [01:23<02:50,  2.63s/it]"
     ]
    },
    {
     "name": "stderr",
     "output_type": "stream",
     "text": [
      "\r",
      " 52%|███████████████████████████████████████████▊                                         | 67/130 [01:23<01:32,  1.46s/it]"
     ]
    },
    {
     "name": "stderr",
     "output_type": "stream",
     "text": [
      "\r",
      " 53%|█████████████████████████████████████████████                                        | 69/130 [01:23<00:56,  1.09it/s]"
     ]
    },
    {
     "name": "stderr",
     "output_type": "stream",
     "text": [
      "\r",
      " 54%|█████████████████████████████████████████████▊                                       | 70/130 [01:23<00:44,  1.34it/s]"
     ]
    },
    {
     "name": "stderr",
     "output_type": "stream",
     "text": [
      "\r",
      " 55%|██████████████████████████████████████████████▍                                      | 71/130 [01:28<01:35,  1.62s/it]"
     ]
    },
    {
     "name": "stderr",
     "output_type": "stream",
     "text": [
      "\r",
      " 55%|███████████████████████████████████████████████                                      | 72/130 [01:28<01:11,  1.23s/it]"
     ]
    },
    {
     "name": "stderr",
     "output_type": "stream",
     "text": [
      "\r",
      " 56%|███████████████████████████████████████████████▋                                     | 73/130 [01:28<00:53,  1.07it/s]"
     ]
    },
    {
     "name": "stderr",
     "output_type": "stream",
     "text": [
      "\r",
      " 57%|████████████████████████████████████████████████▍                                    | 74/130 [01:38<03:09,  3.38s/it]"
     ]
    },
    {
     "name": "stderr",
     "output_type": "stream",
     "text": [
      "\r",
      " 58%|█████████████████████████████████████████████████                                    | 75/130 [01:38<02:15,  2.46s/it]"
     ]
    },
    {
     "name": "stderr",
     "output_type": "stream",
     "text": [
      "\r",
      " 58%|█████████████████████████████████████████████████▋                                   | 76/130 [01:40<02:01,  2.25s/it]"
     ]
    },
    {
     "name": "stderr",
     "output_type": "stream",
     "text": [
      "\r",
      " 59%|██████████████████████████████████████████████████▎                                  | 77/130 [01:40<01:26,  1.64s/it]"
     ]
    },
    {
     "name": "stderr",
     "output_type": "stream",
     "text": [
      "\r",
      " 60%|███████████████████████████████████████████████████                                  | 78/130 [01:40<01:02,  1.19s/it]"
     ]
    },
    {
     "name": "stderr",
     "output_type": "stream",
     "text": [
      "\r",
      " 61%|███████████████████████████████████████████████████▋                                 | 79/130 [01:40<00:44,  1.14it/s]"
     ]
    },
    {
     "name": "stderr",
     "output_type": "stream",
     "text": [
      "\r",
      " 62%|████████████████████████████████████████████████████▎                                | 80/130 [01:40<00:32,  1.52it/s]"
     ]
    },
    {
     "name": "stderr",
     "output_type": "stream",
     "text": [
      "\r",
      " 62%|████████████████████████████████████████████████████▉                                | 81/130 [01:40<00:24,  1.99it/s]"
     ]
    },
    {
     "name": "stderr",
     "output_type": "stream",
     "text": [
      "\r",
      " 63%|█████████████████████████████████████████████████████▌                               | 82/130 [01:40<00:19,  2.51it/s]"
     ]
    },
    {
     "name": "stderr",
     "output_type": "stream",
     "text": [
      "\r",
      " 64%|██████████████████████████████████████████████████████▎                              | 83/130 [01:48<02:04,  2.65s/it]"
     ]
    },
    {
     "name": "stderr",
     "output_type": "stream",
     "text": [
      "\r",
      " 65%|██████████████████████████████████████████████████████▉                              | 84/130 [01:48<01:27,  1.89s/it]"
     ]
    },
    {
     "name": "stderr",
     "output_type": "stream",
     "text": [
      "\r",
      " 65%|███████████████████████████████████████████████████████▌                             | 85/130 [01:50<01:23,  1.85s/it]"
     ]
    },
    {
     "name": "stderr",
     "output_type": "stream",
     "text": [
      "\r",
      " 66%|████████████████████████████████████████████████████████▏                            | 86/130 [01:50<00:58,  1.33s/it]"
     ]
    },
    {
     "name": "stderr",
     "output_type": "stream",
     "text": [
      "\r",
      " 67%|████████████████████████████████████████████████████████▉                            | 87/130 [01:50<00:41,  1.03it/s]"
     ]
    },
    {
     "name": "stderr",
     "output_type": "stream",
     "text": [
      "\r",
      " 68%|█████████████████████████████████████████████████████████▌                           | 88/130 [01:51<00:29,  1.41it/s]"
     ]
    },
    {
     "name": "stderr",
     "output_type": "stream",
     "text": [
      "\r",
      " 68%|██████████████████████████████████████████████████████████▏                          | 89/130 [01:51<00:21,  1.89it/s]"
     ]
    },
    {
     "name": "stderr",
     "output_type": "stream",
     "text": [
      "\r",
      " 69%|██████████████████████████████████████████████████████████▊                          | 90/130 [01:51<00:16,  2.49it/s]"
     ]
    },
    {
     "name": "stderr",
     "output_type": "stream",
     "text": [
      "\r",
      " 70%|███████████████████████████████████████████████████████████▍                         | 91/130 [01:51<00:12,  3.18it/s]"
     ]
    },
    {
     "name": "stderr",
     "output_type": "stream",
     "text": [
      "\r",
      " 71%|████████████████████████████████████████████████████████████▏                        | 92/130 [01:51<00:09,  3.82it/s]"
     ]
    },
    {
     "name": "stderr",
     "output_type": "stream",
     "text": [
      "\r",
      " 72%|████████████████████████████████████████████████████████████▊                        | 93/130 [02:00<01:43,  2.81s/it]"
     ]
    },
    {
     "name": "stderr",
     "output_type": "stream",
     "text": [
      "\r",
      " 72%|█████████████████████████████████████████████████████████████▍                       | 94/130 [02:00<01:12,  2.01s/it]"
     ]
    },
    {
     "name": "stderr",
     "output_type": "stream",
     "text": [
      "\r",
      " 73%|██████████████████████████████████████████████████████████████                       | 95/130 [02:02<01:05,  1.88s/it]"
     ]
    },
    {
     "name": "stderr",
     "output_type": "stream",
     "text": [
      "\r",
      " 74%|██████████████████████████████████████████████████████████████▊                      | 96/130 [02:02<00:46,  1.36s/it]"
     ]
    },
    {
     "name": "stderr",
     "output_type": "stream",
     "text": [
      "\r",
      " 75%|███████████████████████████████████████████████████████████████▍                     | 97/130 [02:02<00:32,  1.01it/s]"
     ]
    },
    {
     "name": "stderr",
     "output_type": "stream",
     "text": [
      "\r",
      " 75%|████████████████████████████████████████████████████████████████                     | 98/130 [02:02<00:23,  1.37it/s]"
     ]
    },
    {
     "name": "stderr",
     "output_type": "stream",
     "text": [
      "\r",
      " 76%|████████████████████████████████████████████████████████████████▋                    | 99/130 [02:02<00:17,  1.81it/s]"
     ]
    },
    {
     "name": "stderr",
     "output_type": "stream",
     "text": [
      "\r",
      " 77%|████████████████████████████████████████████████████████████████▌                   | 100/130 [02:02<00:12,  2.35it/s]"
     ]
    },
    {
     "name": "stderr",
     "output_type": "stream",
     "text": [
      "\r",
      " 78%|█████████████████████████████████████████████████████████████████▎                  | 101/130 [02:02<00:10,  2.83it/s]"
     ]
    },
    {
     "name": "stderr",
     "output_type": "stream",
     "text": [
      "\r",
      " 78%|█████████████████████████████████████████████████████████████████▉                  | 102/130 [02:10<01:08,  2.44s/it]"
     ]
    },
    {
     "name": "stderr",
     "output_type": "stream",
     "text": [
      "\r",
      " 79%|██████████████████████████████████████████████████████████████████▌                 | 103/130 [02:10<00:46,  1.74s/it]"
     ]
    },
    {
     "name": "stderr",
     "output_type": "stream",
     "text": [
      "\r",
      " 80%|███████████████████████████████████████████████████████████████████▏                | 104/130 [02:10<00:32,  1.25s/it]"
     ]
    },
    {
     "name": "stderr",
     "output_type": "stream",
     "text": [
      "\r",
      " 81%|███████████████████████████████████████████████████████████████████▊                | 105/130 [02:12<00:35,  1.41s/it]"
     ]
    },
    {
     "name": "stderr",
     "output_type": "stream",
     "text": [
      "\r",
      " 82%|█████████████████████████████████████████████████████████████████████▏              | 107/130 [02:12<00:18,  1.24it/s]"
     ]
    },
    {
     "name": "stderr",
     "output_type": "stream",
     "text": [
      "\r",
      " 83%|█████████████████████████████████████████████████████████████████████▊              | 108/130 [02:12<00:13,  1.59it/s]"
     ]
    },
    {
     "name": "stderr",
     "output_type": "stream",
     "text": [
      "\r",
      " 84%|██████████████████████████████████████████████████████████████████████▍             | 109/130 [02:12<00:10,  2.03it/s]"
     ]
    },
    {
     "name": "stderr",
     "output_type": "stream",
     "text": [
      "\r",
      " 85%|███████████████████████████████████████████████████████████████████████             | 110/130 [02:12<00:07,  2.59it/s]"
     ]
    },
    {
     "name": "stderr",
     "output_type": "stream",
     "text": [
      "\r",
      " 85%|███████████████████████████████████████████████████████████████████████▋            | 111/130 [02:19<00:41,  2.19s/it]"
     ]
    },
    {
     "name": "stderr",
     "output_type": "stream",
     "text": [
      "\r",
      " 87%|█████████████████████████████████████████████████████████████████████████           | 113/130 [02:19<00:21,  1.26s/it]"
     ]
    },
    {
     "name": "stderr",
     "output_type": "stream",
     "text": [
      "\r",
      " 88%|█████████████████████████████████████████████████████████████████████████▋          | 114/130 [02:21<00:21,  1.35s/it]"
     ]
    },
    {
     "name": "stderr",
     "output_type": "stream",
     "text": [
      "\r",
      " 89%|██████████████████████████████████████████████████████████████████████████▉         | 116/130 [02:21<00:11,  1.19it/s]"
     ]
    },
    {
     "name": "stderr",
     "output_type": "stream",
     "text": [
      "\r",
      " 90%|███████████████████████████████████████████████████████████████████████████▌        | 117/130 [02:21<00:08,  1.48it/s]"
     ]
    },
    {
     "name": "stderr",
     "output_type": "stream",
     "text": [
      "\r",
      " 92%|████████████████████████████████████████████████████████████████████████████▉       | 119/130 [02:21<00:04,  2.23it/s]"
     ]
    },
    {
     "name": "stderr",
     "output_type": "stream",
     "text": [
      "\r",
      " 92%|█████████████████████████████████████████████████████████████████████████████▌      | 120/130 [02:21<00:03,  2.65it/s]"
     ]
    },
    {
     "name": "stderr",
     "output_type": "stream",
     "text": [
      "\r",
      " 93%|██████████████████████████████████████████████████████████████████████████████▏     | 121/130 [02:29<00:19,  2.12s/it]"
     ]
    },
    {
     "name": "stderr",
     "output_type": "stream",
     "text": [
      "\r",
      " 94%|██████████████████████████████████████████████████████████████████████████████▊     | 122/130 [02:29<00:12,  1.61s/it]"
     ]
    },
    {
     "name": "stderr",
     "output_type": "stream",
     "text": [
      "\r",
      " 95%|███████████████████████████████████████████████████████████████████████████████▍    | 123/130 [02:29<00:08,  1.22s/it]"
     ]
    },
    {
     "name": "stderr",
     "output_type": "stream",
     "text": [
      "\r",
      " 95%|████████████████████████████████████████████████████████████████████████████████    | 124/130 [02:30<00:05,  1.09it/s]"
     ]
    },
    {
     "name": "stderr",
     "output_type": "stream",
     "text": [
      "\r",
      " 96%|████████████████████████████████████████████████████████████████████████████████▊   | 125/130 [02:30<00:03,  1.44it/s]"
     ]
    },
    {
     "name": "stderr",
     "output_type": "stream",
     "text": [
      "\r",
      " 97%|█████████████████████████████████████████████████████████████████████████████████▍  | 126/130 [02:30<00:02,  1.90it/s]"
     ]
    },
    {
     "name": "stderr",
     "output_type": "stream",
     "text": [
      "\r",
      " 98%|██████████████████████████████████████████████████████████████████████████████████  | 127/130 [02:30<00:01,  2.42it/s]"
     ]
    },
    {
     "name": "stderr",
     "output_type": "stream",
     "text": [
      "\r",
      " 98%|██████████████████████████████████████████████████████████████████████████████████▋ | 128/130 [02:30<00:00,  3.04it/s]"
     ]
    },
    {
     "name": "stderr",
     "output_type": "stream",
     "text": [
      "\r",
      " 99%|███████████████████████████████████████████████████████████████████████████████████▎| 129/130 [02:30<00:00,  3.70it/s]"
     ]
    },
    {
     "name": "stderr",
     "output_type": "stream",
     "text": [
      "\r",
      "100%|████████████████████████████████████████████████████████████████████████████████████| 130/130 [02:31<00:00,  2.72it/s]"
     ]
    },
    {
     "name": "stderr",
     "output_type": "stream",
     "text": [
      "\r",
      "100%|████████████████████████████████████████████████████████████████████████████████████| 130/130 [02:31<00:00,  1.16s/it]"
     ]
    },
    {
     "name": "stderr",
     "output_type": "stream",
     "text": [
      "\n"
     ]
    },
    {
     "name": "stdout",
     "output_type": "stream",
     "text": [
      "time per sample: 1137.39 μs\n",
      "samples per sec: 879.21 samples/sec\n",
      "CPU times: user 1min 51s, sys: 51.4 s, total: 2min 43s\n",
      "Wall time: 2min 51s\n"
     ]
    }
   ],
   "source": [
    "%%time\n",
    "epochs = []\n",
    "for epoch in range(n_epochs):\n",
    "    with profile(f'benchmark-epoch{epoch}'):\n",
    "        epoch = benchmark(exp, batch_size=batch_size, gc_freq=gc_freq, exclude_first_batch=exclude_first_batch)\n",
    "    epochs.append(epoch)\n",
    "\n",
    "results = Results(\n",
    "    census=Method('census', epochs),\n",
    ")"
   ]
  },
  {
   "cell_type": "code",
   "execution_count": 8,
   "id": "2706d88d-48b1-4ea2-ab93-56c7858eceaa",
   "metadata": {
    "execution": {
     "iopub.execute_input": "2024-04-16T16:00:34.919877Z",
     "iopub.status.busy": "2024-04-16T16:00:34.919624Z",
     "iopub.status.idle": "2024-04-16T16:00:34.923601Z",
     "shell.execute_reply": "2024-04-16T16:00:34.923173Z"
    },
    "papermill": {
     "duration": 0.013215,
     "end_time": "2024-04-16T16:00:34.924631",
     "exception": false,
     "start_time": "2024-04-16T16:00:34.911416",
     "status": "completed"
    },
    "tags": []
   },
   "outputs": [
    {
     "data": {
      "text/plain": [
       "{'open_soma': [{'timers': {'Context.StorageManager.sm_load_group_metadata.sum': 0.078558,\n",
       "    'Context.StorageManager.sm_load_group_metadata.avg': 0.078558,\n",
       "    'Context.StorageManager.sm_load_group_from_uri.sum': 0.0948156,\n",
       "    'Context.StorageManager.sm_load_group_from_uri.avg': 0.0948156,\n",
       "    'Context.StorageManager.sm_load_group_details.sum': 0.094837,\n",
       "    'Context.StorageManager.sm_load_group_details.avg': 0.094837,\n",
       "    'Context.StorageManager.group_open_for_reads.sum': 0.0948399,\n",
       "    'Context.StorageManager.group_open_for_reads.avg': 0.0948399},\n",
       "   'counters': {'Context.StorageManager.read_unfiltered_byte_num': 373,\n",
       "    'Context.StorageManager.read_group_size': 104,\n",
       "    'Context.StorageManager.read_array_meta_size': 269,\n",
       "    'Context.StorageManager.VFS.read_ops_num': 9,\n",
       "    'Context.StorageManager.VFS.read_byte_num': 504,\n",
       "    'Context.StorageManager.VFS.ls_num': 3,\n",
       "    'Context.StorageManager.VFS.is_object_num': 1}}],\n",
       " 'datasets': [{'timers': {'Context.StorageManager.sm_load_group_metadata.sum': 0.0788492,\n",
       "    'Context.StorageManager.sm_load_group_metadata.avg': 0.0788492,\n",
       "    'Context.StorageManager.sm_load_group_from_uri.sum': 0.0764592,\n",
       "    'Context.StorageManager.sm_load_group_from_uri.avg': 0.0764592,\n",
       "    'Context.StorageManager.sm_load_group_details.sum': 0.0764635,\n",
       "    'Context.StorageManager.sm_load_group_details.avg': 0.0764635,\n",
       "    'Context.StorageManager.group_open_for_reads.sum': 0.0764665,\n",
       "    'Context.StorageManager.group_open_for_reads.avg': 0.0764665},\n",
       "   'counters': {'Context.StorageManager.read_unfiltered_byte_num': 291,\n",
       "    'Context.StorageManager.read_group_size': 152,\n",
       "    'Context.StorageManager.read_array_meta_size': 139,\n",
       "    'Context.StorageManager.VFS.read_ops_num': 6,\n",
       "    'Context.StorageManager.VFS.read_byte_num': 337,\n",
       "    'Context.StorageManager.VFS.ls_num': 3}}],\n",
       " 'get_exp_datapipe': [],\n",
       " 'benchmark-epoch0': []}"
      ]
     },
     "execution_count": 8,
     "metadata": {},
     "output_type": "execute_result"
    }
   ],
   "source": [
    "tdb.stats"
   ]
  },
  {
   "cell_type": "code",
   "execution_count": 9,
   "id": "8413e0fa-abfc-445b-9b45-56699e3c1547",
   "metadata": {
    "execution": {
     "iopub.execute_input": "2024-04-16T16:00:34.940744Z",
     "iopub.status.busy": "2024-04-16T16:00:34.940467Z",
     "iopub.status.idle": "2024-04-16T16:00:34.944167Z",
     "shell.execute_reply": "2024-04-16T16:00:34.943754Z"
    },
    "papermill": {
     "duration": 0.012927,
     "end_time": "2024-04-16T16:00:34.945166",
     "exception": false,
     "start_time": "2024-04-16T16:00:34.932239",
     "status": "completed"
    },
    "tags": []
   },
   "outputs": [
    {
     "data": {
      "text/plain": [
       "{'open_soma': [],\n",
       " 'datasets': [{'timers': {'Context.StorageManager.sm_load_fragment_metadata.sum': 0.312475,\n",
       "    'Context.StorageManager.sm_load_fragment_metadata.avg': 0.156238,\n",
       "    'Context.StorageManager.sm_load_filtered_fragment_uris.sum': 5.3363e-05,\n",
       "    'Context.StorageManager.sm_load_filtered_fragment_uris.avg': 2.66815e-05,\n",
       "    'Context.StorageManager.sm_load_array_schemas_and_fragment_metadata.sum': 0.411806,\n",
       "    'Context.StorageManager.sm_load_array_schemas_and_fragment_metadata.avg': 0.205903,\n",
       "    'Context.StorageManager.sm_load_array_schema_from_uri.sum': 0.0982791,\n",
       "    'Context.StorageManager.sm_load_array_schema_from_uri.avg': 0.0491395,\n",
       "    'Context.StorageManager.sm_load_array_metadata.sum': 0.0715512,\n",
       "    'Context.StorageManager.sm_load_array_metadata.avg': 0.0715512,\n",
       "    'Context.StorageManager.sm_load_all_array_schemas.sum': 0.0983075,\n",
       "    'Context.StorageManager.sm_load_all_array_schemas.avg': 0.0491538,\n",
       "    'Context.StorageManager.array_open_read_load_schemas_and_fragment_meta.sum': 0.413193,\n",
       "    'Context.StorageManager.array_open_read_load_schemas_and_fragment_meta.avg': 0.206597,\n",
       "    'Context.StorageManager.array_open_read_load_directory.sum': 0.517357,\n",
       "    'Context.StorageManager.array_open_read_load_directory.avg': 0.258679,\n",
       "    'Context.StorageManager.array_open_READ.sum': 0.930567,\n",
       "    'Context.StorageManager.array_open_READ.avg': 0.465284,\n",
       "    'Context.StorageManager.VFS.ArrayDirectory.load_consolidated_commit_uris.sum': 0.230351,\n",
       "    'Context.StorageManager.VFS.ArrayDirectory.load_consolidated_commit_uris.avg': 0.115175,\n",
       "    'Context.StorageManager.VFS.ArrayDirectory.list_root_uris.sum': 0.282595,\n",
       "    'Context.StorageManager.VFS.ArrayDirectory.list_root_uris.avg': 0.141297,\n",
       "    'Context.StorageManager.VFS.ArrayDirectory.list_fragment_meta_uris.sum': 0.280964,\n",
       "    'Context.StorageManager.VFS.ArrayDirectory.list_fragment_meta_uris.avg': 0.140482,\n",
       "    'Context.StorageManager.VFS.ArrayDirectory.list_commit_uris.sum': 0.277999,\n",
       "    'Context.StorageManager.VFS.ArrayDirectory.list_commit_uris.avg': 0.139,\n",
       "    'Context.StorageManager.VFS.ArrayDirectory.list_array_schema_uris.sum': 0.285824,\n",
       "    'Context.StorageManager.VFS.ArrayDirectory.list_array_schema_uris.avg': 0.142912,\n",
       "    'Context.StorageManager.VFS.ArrayDirectory.list_array_meta_uris.sum': 0.146274,\n",
       "    'Context.StorageManager.VFS.ArrayDirectory.list_array_meta_uris.avg': 0.0731368},\n",
       "   'counters': {'Context.StorageManager.read_unfiltered_byte_num': 1301,\n",
       "    'Context.StorageManager.read_frag_meta_size': 2044,\n",
       "    'Context.StorageManager.read_array_schema_size': 1230,\n",
       "    'Context.StorageManager.read_array_meta_size': 71,\n",
       "    'Context.StorageManager.VFS.read_ops_num': 15,\n",
       "    'Context.StorageManager.VFS.read_byte_num': 2950,\n",
       "    'Context.StorageManager.VFS.file_size_num': 4}}],\n",
       " 'get_exp_datapipe': [],\n",
       " 'benchmark-epoch0': []}"
      ]
     },
     "execution_count": 9,
     "metadata": {},
     "output_type": "execute_result"
    }
   ],
   "source": [
    "tdbs.stats"
   ]
  },
  {
   "cell_type": "code",
   "execution_count": 10,
   "id": "14bcbc20-0853-4404-8766-141632991e8c",
   "metadata": {
    "execution": {
     "iopub.execute_input": "2024-04-16T16:00:34.961577Z",
     "iopub.status.busy": "2024-04-16T16:00:34.961306Z",
     "iopub.status.idle": "2024-04-16T16:00:34.965885Z",
     "shell.execute_reply": "2024-04-16T16:00:34.965435Z"
    },
    "papermill": {
     "duration": 0.013975,
     "end_time": "2024-04-16T16:00:34.966910",
     "exception": false,
     "start_time": "2024-04-16T16:00:34.952935",
     "status": "completed"
    },
    "tags": []
   },
   "outputs": [
    {
     "name": "stderr",
     "output_type": "stream",
     "text": [
      "Saved results to results/us-east-1.json\n"
     ]
    }
   ],
   "source": [
    "results_json_path = f'results/{census_loc}.json'\n",
    "with open(results_json_path, 'w') as f:\n",
    "    json.dump(asdict(results), f, indent=2)\n",
    "    err(f\"Saved results to {results_json_path}\")"
   ]
  },
  {
   "cell_type": "code",
   "execution_count": 11,
   "id": "eb1fb31a-b7cf-416a-b801-dae42f03b397",
   "metadata": {
    "execution": {
     "iopub.execute_input": "2024-04-16T16:00:34.984463Z",
     "iopub.status.busy": "2024-04-16T16:00:34.984259Z",
     "iopub.status.idle": "2024-04-16T16:00:34.986440Z",
     "shell.execute_reply": "2024-04-16T16:00:34.986005Z"
    },
    "papermill": {
     "duration": 0.011619,
     "end_time": "2024-04-16T16:00:34.987398",
     "exception": false,
     "start_time": "2024-04-16T16:00:34.975779",
     "status": "completed"
    },
    "tags": []
   },
   "outputs": [],
   "source": [
    "# with open(results_json_path, 'r') as f:\n",
    "#     results = Results(**json.load(f))"
   ]
  },
  {
   "cell_type": "markdown",
   "id": "ece8e5db-bf91-4fac-bd8e-48d747477f92",
   "metadata": {
    "papermill": {
     "duration": 0.008568,
     "end_time": "2024-04-16T16:00:35.003738",
     "exception": false,
     "start_time": "2024-04-16T16:00:34.995170",
     "status": "completed"
    },
    "tags": []
   },
   "source": [
    "## Plot batch timings"
   ]
  },
  {
   "cell_type": "code",
   "execution_count": 12,
   "id": "1b6c7282-7c2a-464b-8b5a-e8dd44e789e4",
   "metadata": {
    "execution": {
     "iopub.execute_input": "2024-04-16T16:00:35.020435Z",
     "iopub.status.busy": "2024-04-16T16:00:35.020145Z",
     "iopub.status.idle": "2024-04-16T16:00:35.037183Z",
     "shell.execute_reply": "2024-04-16T16:00:35.036736Z"
    },
    "papermill": {
     "duration": 0.026532,
     "end_time": "2024-04-16T16:00:35.038257",
     "exception": false,
     "start_time": "2024-04-16T16:00:35.011725",
     "status": "completed"
    },
    "scrolled": true,
    "tags": []
   },
   "outputs": [
    {
     "name": "stderr",
     "output_type": "stream",
     "text": [
      "/tmp/ipykernel_5202/2254310219.py:5: FutureWarning: Downcasting object dtype arrays on .fillna, .ffill, .bfill is deprecated and will change in a future version. Call result.infer_objects(copy=False) instead. To opt-in to the future behavior, set `pd.set_option('future.no_silent_downcasting', True)`\n",
      "  df['gc'] = df['gc'].fillna(nan)\n"
     ]
    },
    {
     "data": {
      "text/html": [
       "<div>\n",
       "<style scoped>\n",
       "    .dataframe tbody tr th:only-of-type {\n",
       "        vertical-align: middle;\n",
       "    }\n",
       "\n",
       "    .dataframe tbody tr th {\n",
       "        vertical-align: top;\n",
       "    }\n",
       "\n",
       "    .dataframe thead th {\n",
       "        text-align: right;\n",
       "    }\n",
       "</style>\n",
       "<table border=\"1\" class=\"dataframe\">\n",
       "  <thead>\n",
       "    <tr style=\"text-align: right;\">\n",
       "      <th></th>\n",
       "      <th>idx</th>\n",
       "      <th>batch</th>\n",
       "    </tr>\n",
       "  </thead>\n",
       "  <tbody>\n",
       "    <tr>\n",
       "      <th>0</th>\n",
       "      <td>0</td>\n",
       "      <td>0.128929</td>\n",
       "    </tr>\n",
       "    <tr>\n",
       "      <th>1</th>\n",
       "      <td>1</td>\n",
       "      <td>1.752463</td>\n",
       "    </tr>\n",
       "    <tr>\n",
       "      <th>2</th>\n",
       "      <td>2</td>\n",
       "      <td>0.136541</td>\n",
       "    </tr>\n",
       "    <tr>\n",
       "      <th>3</th>\n",
       "      <td>3</td>\n",
       "      <td>0.126779</td>\n",
       "    </tr>\n",
       "    <tr>\n",
       "      <th>4</th>\n",
       "      <td>4</td>\n",
       "      <td>0.131371</td>\n",
       "    </tr>\n",
       "    <tr>\n",
       "      <th>...</th>\n",
       "      <td>...</td>\n",
       "      <td>...</td>\n",
       "    </tr>\n",
       "    <tr>\n",
       "      <th>125</th>\n",
       "      <td>125</td>\n",
       "      <td>0.113266</td>\n",
       "    </tr>\n",
       "    <tr>\n",
       "      <th>126</th>\n",
       "      <td>126</td>\n",
       "      <td>0.136624</td>\n",
       "    </tr>\n",
       "    <tr>\n",
       "      <th>127</th>\n",
       "      <td>127</td>\n",
       "      <td>0.124696</td>\n",
       "    </tr>\n",
       "    <tr>\n",
       "      <th>128</th>\n",
       "      <td>128</td>\n",
       "      <td>0.129637</td>\n",
       "    </tr>\n",
       "    <tr>\n",
       "      <th>129</th>\n",
       "      <td>129</td>\n",
       "      <td>0.596829</td>\n",
       "    </tr>\n",
       "  </tbody>\n",
       "</table>\n",
       "<p>130 rows × 2 columns</p>\n",
       "</div>"
      ],
      "text/plain": [
       "     idx     batch\n",
       "0      0  0.128929\n",
       "1      1  1.752463\n",
       "2      2  0.136541\n",
       "3      3  0.126779\n",
       "4      4  0.131371\n",
       "..   ...       ...\n",
       "125  125  0.113266\n",
       "126  126  0.136624\n",
       "127  127  0.124696\n",
       "128  128  0.129637\n",
       "129  129  0.596829\n",
       "\n",
       "[130 rows x 2 columns]"
      ]
     },
     "execution_count": 12,
     "metadata": {},
     "output_type": "execute_result"
    }
   ],
   "source": [
    "method = 'census'\n",
    "epoch = 0\n",
    "batches = getattr(results, 'census').epochs[epoch].batches\n",
    "df = pd.DataFrame(batches)\n",
    "df['gc'] = df['gc'].fillna(nan)\n",
    "if df.gc.isna().all():\n",
    "    df = df.drop(columns='gc')\n",
    "df.index.name = 'idx'\n",
    "df = df.reset_index()\n",
    "df"
   ]
  },
  {
   "cell_type": "code",
   "execution_count": 13,
   "id": "703da7d9-035a-4b9f-8062-62c509458391",
   "metadata": {
    "execution": {
     "iopub.execute_input": "2024-04-16T16:00:35.055226Z",
     "iopub.status.busy": "2024-04-16T16:00:35.055005Z",
     "iopub.status.idle": "2024-04-16T16:00:35.062018Z",
     "shell.execute_reply": "2024-04-16T16:00:35.061562Z"
    },
    "papermill": {
     "duration": 0.016642,
     "end_time": "2024-04-16T16:00:35.063030",
     "exception": false,
     "start_time": "2024-04-16T16:00:35.046388",
     "status": "completed"
    },
    "scrolled": true,
    "tags": []
   },
   "outputs": [
    {
     "data": {
      "text/html": [
       "<div>\n",
       "<style scoped>\n",
       "    .dataframe tbody tr th:only-of-type {\n",
       "        vertical-align: middle;\n",
       "    }\n",
       "\n",
       "    .dataframe tbody tr th {\n",
       "        vertical-align: top;\n",
       "    }\n",
       "\n",
       "    .dataframe thead th {\n",
       "        text-align: right;\n",
       "    }\n",
       "</style>\n",
       "<table border=\"1\" class=\"dataframe\">\n",
       "  <thead>\n",
       "    <tr style=\"text-align: right;\">\n",
       "      <th></th>\n",
       "      <th>idx</th>\n",
       "      <th>batch</th>\n",
       "    </tr>\n",
       "  </thead>\n",
       "  <tbody>\n",
       "    <tr>\n",
       "      <th>1</th>\n",
       "      <td>1</td>\n",
       "      <td>1.752463</td>\n",
       "    </tr>\n",
       "    <tr>\n",
       "      <th>8</th>\n",
       "      <td>8</td>\n",
       "      <td>11.306602</td>\n",
       "    </tr>\n",
       "    <tr>\n",
       "      <th>10</th>\n",
       "      <td>10</td>\n",
       "      <td>1.857610</td>\n",
       "    </tr>\n",
       "    <tr>\n",
       "      <th>17</th>\n",
       "      <td>17</td>\n",
       "      <td>7.050571</td>\n",
       "    </tr>\n",
       "    <tr>\n",
       "      <th>19</th>\n",
       "      <td>19</td>\n",
       "      <td>1.618716</td>\n",
       "    </tr>\n",
       "    <tr>\n",
       "      <th>26</th>\n",
       "      <td>26</td>\n",
       "      <td>8.813518</td>\n",
       "    </tr>\n",
       "    <tr>\n",
       "      <th>29</th>\n",
       "      <td>29</td>\n",
       "      <td>2.048048</td>\n",
       "    </tr>\n",
       "    <tr>\n",
       "      <th>36</th>\n",
       "      <td>36</td>\n",
       "      <td>13.792218</td>\n",
       "    </tr>\n",
       "    <tr>\n",
       "      <th>38</th>\n",
       "      <td>38</td>\n",
       "      <td>1.719484</td>\n",
       "    </tr>\n",
       "    <tr>\n",
       "      <th>45</th>\n",
       "      <td>45</td>\n",
       "      <td>7.857027</td>\n",
       "    </tr>\n",
       "    <tr>\n",
       "      <th>48</th>\n",
       "      <td>48</td>\n",
       "      <td>1.757828</td>\n",
       "    </tr>\n",
       "    <tr>\n",
       "      <th>54</th>\n",
       "      <td>54</td>\n",
       "      <td>8.031938</td>\n",
       "    </tr>\n",
       "    <tr>\n",
       "      <th>56</th>\n",
       "      <td>56</td>\n",
       "      <td>1.585206</td>\n",
       "    </tr>\n",
       "    <tr>\n",
       "      <th>64</th>\n",
       "      <td>64</td>\n",
       "      <td>8.156335</td>\n",
       "    </tr>\n",
       "    <tr>\n",
       "      <th>70</th>\n",
       "      <td>70</td>\n",
       "      <td>4.372889</td>\n",
       "    </tr>\n",
       "    <tr>\n",
       "      <th>73</th>\n",
       "      <td>73</td>\n",
       "      <td>9.796815</td>\n",
       "    </tr>\n",
       "    <tr>\n",
       "      <th>75</th>\n",
       "      <td>75</td>\n",
       "      <td>1.737421</td>\n",
       "    </tr>\n",
       "    <tr>\n",
       "      <th>82</th>\n",
       "      <td>82</td>\n",
       "      <td>7.936054</td>\n",
       "    </tr>\n",
       "    <tr>\n",
       "      <th>84</th>\n",
       "      <td>84</td>\n",
       "      <td>1.740970</td>\n",
       "    </tr>\n",
       "    <tr>\n",
       "      <th>92</th>\n",
       "      <td>92</td>\n",
       "      <td>8.755523</td>\n",
       "    </tr>\n",
       "    <tr>\n",
       "      <th>94</th>\n",
       "      <td>94</td>\n",
       "      <td>1.590513</td>\n",
       "    </tr>\n",
       "    <tr>\n",
       "      <th>101</th>\n",
       "      <td>101</td>\n",
       "      <td>7.294533</td>\n",
       "    </tr>\n",
       "    <tr>\n",
       "      <th>104</th>\n",
       "      <td>104</td>\n",
       "      <td>1.769130</td>\n",
       "    </tr>\n",
       "    <tr>\n",
       "      <th>110</th>\n",
       "      <td>110</td>\n",
       "      <td>6.845129</td>\n",
       "    </tr>\n",
       "    <tr>\n",
       "      <th>113</th>\n",
       "      <td>113</td>\n",
       "      <td>1.623572</td>\n",
       "    </tr>\n",
       "    <tr>\n",
       "      <th>120</th>\n",
       "      <td>120</td>\n",
       "      <td>7.695810</td>\n",
       "    </tr>\n",
       "    <tr>\n",
       "      <th>129</th>\n",
       "      <td>129</td>\n",
       "      <td>0.596829</td>\n",
       "    </tr>\n",
       "  </tbody>\n",
       "</table>\n",
       "</div>"
      ],
      "text/plain": [
       "     idx      batch\n",
       "1      1   1.752463\n",
       "8      8  11.306602\n",
       "10    10   1.857610\n",
       "17    17   7.050571\n",
       "19    19   1.618716\n",
       "26    26   8.813518\n",
       "29    29   2.048048\n",
       "36    36  13.792218\n",
       "38    38   1.719484\n",
       "45    45   7.857027\n",
       "48    48   1.757828\n",
       "54    54   8.031938\n",
       "56    56   1.585206\n",
       "64    64   8.156335\n",
       "70    70   4.372889\n",
       "73    73   9.796815\n",
       "75    75   1.737421\n",
       "82    82   7.936054\n",
       "84    84   1.740970\n",
       "92    92   8.755523\n",
       "94    94   1.590513\n",
       "101  101   7.294533\n",
       "104  104   1.769130\n",
       "110  110   6.845129\n",
       "113  113   1.623572\n",
       "120  120   7.695810\n",
       "129  129   0.596829"
      ]
     },
     "execution_count": 13,
     "metadata": {},
     "output_type": "execute_result"
    }
   ],
   "source": [
    "ann = df[df.batch > ann_cutoff] if ann_cutoff else df[[]]\n",
    "ann"
   ]
  },
  {
   "cell_type": "code",
   "execution_count": 14,
   "id": "9bbe7687-edb0-4287-981f-96436ca40da6",
   "metadata": {
    "execution": {
     "iopub.execute_input": "2024-04-16T16:00:35.080341Z",
     "iopub.status.busy": "2024-04-16T16:00:35.080084Z",
     "iopub.status.idle": "2024-04-16T16:00:35.083128Z",
     "shell.execute_reply": "2024-04-16T16:00:35.082713Z"
    },
    "papermill": {
     "duration": 0.012833,
     "end_time": "2024-04-16T16:00:35.084128",
     "exception": false,
     "start_time": "2024-04-16T16:00:35.071295",
     "status": "completed"
    },
    "tags": []
   },
   "outputs": [
    {
     "data": {
      "text/plain": [
       "PlotConfigs(fmt='fig', w=1200, h=800, save=[], v=True, i=None, dir=None, grid='#ccc', bg='white')"
      ]
     },
     "execution_count": 14,
     "metadata": {},
     "output_type": "execute_result"
    }
   ],
   "source": [
    "pc"
   ]
  },
  {
   "cell_type": "code",
   "execution_count": 15,
   "id": "823603b4-61ac-4edd-9047-921e6b0568a7",
   "metadata": {
    "execution": {
     "iopub.execute_input": "2024-04-16T16:00:35.102671Z",
     "iopub.status.busy": "2024-04-16T16:00:35.102424Z",
     "iopub.status.idle": "2024-04-16T16:00:37.758305Z",
     "shell.execute_reply": "2024-04-16T16:00:37.757760Z"
    },
    "papermill": {
     "duration": 2.667008,
     "end_time": "2024-04-16T16:00:37.759466",
     "exception": false,
     "start_time": "2024-04-16T16:00:35.092458",
     "status": "completed"
    },
    "tags": []
   },
   "outputs": [
    {
     "name": "stderr",
     "output_type": "stream",
     "text": [
      "Saving: img/census-us-east-1.png\n"
     ]
    },
    {
     "name": "stderr",
     "output_type": "stream",
     "text": [
      "Returning IPython Image\n"
     ]
    },
    {
     "data": {
      "image/png": "[encoded data removed]",
      "text/plain": [
       "<IPython.core.display.Image object>"
      ]
     },
     "execution_count": 15,
     "metadata": {},
     "output_type": "execute_result"
    }
   ],
   "source": [
    "fig = px.bar(\n",
    "    df.set_index('idx')[['batch', *(['gc'] if 'gc' in df else [])]],\n",
    "    barmode='stack',\n",
    "    labels={\n",
    "        'idx': 'Batch idx',\n",
    "        'variable': '',\n",
    "        'value': 'Time (s)',\n",
    "    },\n",
    "    log_y=log_plot,\n",
    ").update_layout(\n",
    "    title=dict(text=f'Batch+GC times ({method} / {census_loc})'),\n",
    ").update_xaxes(\n",
    "    range=(-.5, len(df) - 1 + .5),\n",
    ")\n",
    "\n",
    "if not ann.empty:\n",
    "    anns = ann.set_index('idx').batch.to_dict().items()\n",
    "    for idx, batch in anns:\n",
    "        fig.add_annotation(\n",
    "            x=idx, y=log10(batch) if log_plot else batch,\n",
    "            showarrow=False,\n",
    "            text=f'{idx}: {batch:.1f}s',\n",
    "            xshift=7,\n",
    "            xanchor='left',\n",
    "        )\n",
    "\n",
    "plot(fig, f'census-{census_loc}', fmt='png', save=['png'], w=width, h=height, dir='img',)"
   ]
  }
 ],
 "metadata": {
  "kernelspec": {
   "display_name": "Python 3 (ipykernel)",
   "language": "python",
   "name": "python3"
  },
  "language_info": {
   "codemirror_mode": {
    "name": "ipython",
    "version": 3
   },
   "file_extension": ".py",
   "mimetype": "text/x-python",
   "name": "python",
   "nbconvert_exporter": "python",
   "pygments_lexer": "ipython3",
   "version": "3.11.8"
  },
  "papermill": {
   "default_parameters": {},
   "duration": 208.147208,
   "end_time": "2024-04-16T16:00:40.387073",
   "environment_variables": {},
   "exception": null,
   "input_path": "benchmark.ipynb",
   "output_path": "benchmarks/us-east-1.ipynb",
   "parameters": {
    "census_uri": ""
   },
   "start_time": "2024-04-16T15:57:12.239865",
   "version": "2.5.0"
  }
 },
 "nbformat": 4,
 "nbformat_minor": 5
}