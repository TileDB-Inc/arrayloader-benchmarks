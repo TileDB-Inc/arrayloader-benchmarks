{
 "cells": [
  {
   "cell_type": "code",
   "execution_count": 1,
   "id": "cf534d10-2611-43fc-94a1-11650b44e30a",
   "metadata": {
    "execution": {
     "iopub.execute_input": "2024-04-15T17:09:38.883894Z",
     "iopub.status.busy": "2024-04-15T17:09:38.883420Z",
     "iopub.status.idle": "2024-04-15T17:09:43.627754Z",
     "shell.execute_reply": "2024-04-15T17:09:43.627172Z"
    },
    "papermill": {
     "duration": 4.750818,
     "end_time": "2024-04-15T17:09:43.629187",
     "exception": false,
     "start_time": "2024-04-15T17:09:38.878369",
     "status": "completed"
    },
    "tags": []
   },
   "outputs": [],
   "source": [
    "from utils import *\n",
    "\n",
    "import cellxgene_census\n",
    "from cellxgene_census.experimental.ml import ExperimentDataPipe, experiment_dataloader\n",
    "import somacore as soma\n",
    "from somacore import AxisQuery\n",
    "import torch\n",
    "from torch.utils.data import DataLoader\n",
    "torch.ones(2).cuda();"
   ]
  },
  {
   "cell_type": "markdown",
   "id": "ea210b2d-c864-4ca1-be75-44f465d04450",
   "metadata": {
    "papermill": {
     "duration": 0.002856,
     "end_time": "2024-04-15T17:09:43.635278",
     "exception": false,
     "start_time": "2024-04-15T17:09:43.632422",
     "status": "completed"
    },
    "tags": []
   },
   "source": [
    "### [Papermill](https://papermill.readthedocs.io/en/latest/) params:"
   ]
  },
  {
   "cell_type": "code",
   "execution_count": 2,
   "id": "5bcfe840-ad0c-4b90-b977-384573638612",
   "metadata": {
    "editable": true,
    "execution": {
     "iopub.execute_input": "2024-04-15T17:09:43.642426Z",
     "iopub.status.busy": "2024-04-15T17:09:43.641782Z",
     "iopub.status.idle": "2024-04-15T17:09:43.645672Z",
     "shell.execute_reply": "2024-04-15T17:09:43.645197Z"
    },
    "papermill": {
     "duration": 0.00845,
     "end_time": "2024-04-15T17:09:43.646632",
     "exception": false,
     "start_time": "2024-04-15T17:09:43.638182",
     "status": "completed"
    },
    "slideshow": {
     "slide_type": ""
    },
    "tags": [
     "parameters"
    ]
   },
   "outputs": [],
   "source": [
    "# Set to None to fetch from S3\n",
    "census_uri = '/mnt/nvme/s3/cellxgene-census-public-us-west-2/cell-census/2023-12-15/soma'\n",
    "\n",
    "# Slice 138 total datasets\n",
    "start = 2\n",
    "end = 7\n",
    "\n",
    "n_epochs = 1\n",
    "BATCH_SIZE = 1024\n",
    "n_vars = 20_000\n",
    "SOMA_CHUNK_SIZE = 10_000\n",
    "\n",
    "# Misc\n",
    "peek_dataset_lens = None  # When set, initialize loaders and print `len`s for the first [this many] datasets\n",
    "\n",
    "# Plot configs\n",
    "period = 10  # Color batch timings by this modulus (to highlight periodic artifacts)\n",
    "ann_cutoff = .5  # Annotate plot with values for batch timings greater than this threshold\n",
    "log_plot = False\n",
    "width = 1200\n",
    "height = 700"
   ]
  },
  {
   "cell_type": "code",
   "execution_count": 3,
   "id": "e8e22305-4c80-40f8-ab55-067e2f7e2f1a",
   "metadata": {
    "editable": true,
    "execution": {
     "iopub.execute_input": "2024-04-15T17:09:43.653367Z",
     "iopub.status.busy": "2024-04-15T17:09:43.653104Z",
     "iopub.status.idle": "2024-04-15T17:09:43.656337Z",
     "shell.execute_reply": "2024-04-15T17:09:43.655869Z"
    },
    "papermill": {
     "duration": 0.007948,
     "end_time": "2024-04-15T17:09:43.657393",
     "exception": false,
     "start_time": "2024-04-15T17:09:43.649445",
     "status": "completed"
    },
    "slideshow": {
     "slide_type": ""
    },
    "tags": []
   },
   "outputs": [
    {
     "name": "stderr",
     "output_type": "stream",
     "text": [
      "Using local census\n"
     ]
    }
   ],
   "source": [
    "if not census_uri:\n",
    "    census_uri = None\n",
    "if census_uri and census_uri.startswith('/'):\n",
    "    census_loc = 'local'\n",
    "else:\n",
    "    census_loc = 'S3'\n",
    "err(f\"Using {census_loc} census\")"
   ]
  },
  {
   "cell_type": "code",
   "execution_count": 4,
   "id": "dee78f66-5b8f-4d38-9c5f-e96282808d31",
   "metadata": {
    "editable": true,
    "execution": {
     "iopub.execute_input": "2024-04-15T17:09:43.664004Z",
     "iopub.status.busy": "2024-04-15T17:09:43.663737Z",
     "iopub.status.idle": "2024-04-15T17:09:43.744709Z",
     "shell.execute_reply": "2024-04-15T17:09:43.744205Z"
    },
    "papermill": {
     "duration": 0.085535,
     "end_time": "2024-04-15T17:09:43.745824",
     "exception": false,
     "start_time": "2024-04-15T17:09:43.660289",
     "status": "completed"
    },
    "slideshow": {
     "slide_type": ""
    },
    "tags": []
   },
   "outputs": [
    {
     "data": {
      "text/plain": [
       "['8e10f1c4-8e98-41e5-b65f-8cd89a887122',\n",
       " 'b165f033-9dec-468a-9248-802fc6902a74',\n",
       " 'ff7d15fa-f4b6-4a0e-992e-fd0c9d088ded',\n",
       " 'fe1a73ab-a203-45fd-84e9-0f7fd19efcbd',\n",
       " 'fbf173f9-f809-4d84-9b65-ae205d35b523',\n",
       " 'fa554686-fc07-44dd-b2de-b726d82d26ec',\n",
       " 'f9034091-2e8f-4ac6-9874-e7b7eb566824',\n",
       " 'f8dda921-5fb4-4c94-a654-c6fc346bfd6d',\n",
       " 'f7d003d4-40d5-4de8-858c-a9a8b48fcc67',\n",
       " 'f6d9f2ad-5ec7-4d53-b7f0-ceb0e7bcd181']"
      ]
     },
     "execution_count": 4,
     "metadata": {},
     "output_type": "execute_result"
    }
   ],
   "source": [
    "census = cellxgene_census.open_soma(uri=census_uri)\n",
    "\n",
    "#reference = ln.Collection.filter(uid=\"1gsdckxvOvIjQgeDVS1F\").one().reference\n",
    "reference = '283d65eb-dd53-496d-adb7-7570c7caa443'\n",
    "query_collection_id = f\"collection_id == '{reference}'\"\n",
    "datasets =(census[\"census_info\"][\"datasets\"]\n",
    "           .read(column_names=[\"dataset_id\"], value_filter=query_collection_id)\n",
    "           .concat().to_pandas())[\"dataset_id\"].tolist()\n",
    "datasets[:10]"
   ]
  },
  {
   "cell_type": "code",
   "execution_count": 5,
   "id": "1c387c19-f218-4ddd-9686-a80f08a88b02",
   "metadata": {
    "execution": {
     "iopub.execute_input": "2024-04-15T17:09:43.753228Z",
     "iopub.status.busy": "2024-04-15T17:09:43.752975Z",
     "iopub.status.idle": "2024-04-15T17:09:43.756317Z",
     "shell.execute_reply": "2024-04-15T17:09:43.755856Z"
    },
    "papermill": {
     "duration": 0.008117,
     "end_time": "2024-04-15T17:09:43.757376",
     "exception": false,
     "start_time": "2024-04-15T17:09:43.749259",
     "status": "completed"
    },
    "tags": []
   },
   "outputs": [
    {
     "data": {
      "text/plain": [
       "138"
      ]
     },
     "execution_count": 5,
     "metadata": {},
     "output_type": "execute_result"
    }
   ],
   "source": [
    "len(datasets)"
   ]
  },
  {
   "cell_type": "code",
   "execution_count": 6,
   "id": "73e0d831-da5d-41e0-ac4b-ac9e2e359a90",
   "metadata": {
    "execution": {
     "iopub.execute_input": "2024-04-15T17:09:43.764364Z",
     "iopub.status.busy": "2024-04-15T17:09:43.764129Z",
     "iopub.status.idle": "2024-04-15T17:09:43.779983Z",
     "shell.execute_reply": "2024-04-15T17:09:43.779500Z"
    },
    "papermill": {
     "duration": 0.02066,
     "end_time": "2024-04-15T17:09:43.781100",
     "exception": false,
     "start_time": "2024-04-15T17:09:43.760440",
     "status": "completed"
    },
    "tags": []
   },
   "outputs": [
    {
     "data": {
      "text/plain": [
       "<Experiment 'file:///mnt/nvme/s3/cellxgene-census-public-us-west-2/cell-census/2023-12-15/soma/census_data/homo_sapiens' (open for 'r') (2 items)\n",
       "    'ms': 'file:///mnt/nvme/s3/cellxgene-census-public-us-west-2/cell-census/2023-12-15/soma/census_data/homo_sapiens/ms' (unopened)\n",
       "    'obs': 'file:///mnt/nvme/s3/cellxgene-census-public-us-west-2/cell-census/2023-12-15/soma/census_data/homo_sapiens/obs' (unopened)>"
      ]
     },
     "execution_count": 6,
     "metadata": {},
     "output_type": "execute_result"
    }
   ],
   "source": [
    "experiment = census[\"census_data\"][\"homo_sapiens\"]\n",
    "experiment"
   ]
  },
  {
   "cell_type": "code",
   "execution_count": 7,
   "id": "2a51a7e4-3af5-4d21-8c8b-91713540599e",
   "metadata": {
    "execution": {
     "iopub.execute_input": "2024-04-15T17:09:43.788341Z",
     "iopub.status.busy": "2024-04-15T17:09:43.788091Z",
     "iopub.status.idle": "2024-04-15T17:09:43.791108Z",
     "shell.execute_reply": "2024-04-15T17:09:43.790647Z"
    },
    "papermill": {
     "duration": 0.007841,
     "end_time": "2024-04-15T17:09:43.792120",
     "exception": false,
     "start_time": "2024-04-15T17:09:43.784279",
     "status": "completed"
    },
    "tags": []
   },
   "outputs": [],
   "source": [
    "@dataclass\n",
    "class Exp:\n",
    "    datapipe: ExperimentDataPipe\n",
    "    loader: DataLoader"
   ]
  },
  {
   "cell_type": "code",
   "execution_count": 8,
   "id": "ac8ed548-8f2f-48c2-9eac-f6e5bb6174e4",
   "metadata": {
    "execution": {
     "iopub.execute_input": "2024-04-15T17:09:43.799360Z",
     "iopub.status.busy": "2024-04-15T17:09:43.799145Z",
     "iopub.status.idle": "2024-04-15T17:09:43.802677Z",
     "shell.execute_reply": "2024-04-15T17:09:43.802236Z"
    },
    "papermill": {
     "duration": 0.008278,
     "end_time": "2024-04-15T17:09:43.803658",
     "exception": false,
     "start_time": "2024-04-15T17:09:43.795380",
     "status": "completed"
    },
    "tags": []
   },
   "outputs": [],
   "source": [
    "def get_exp_datapipe(start=None, end=None) -> Exp:\n",
    "    ds = datasets[slice(start, end)]\n",
    "    query_datasets = \"dataset_id in \" + str(ds)\n",
    "    experiment_datapipe = ExperimentDataPipe(\n",
    "        experiment,\n",
    "        measurement_name=\"RNA\",\n",
    "        X_name=\"raw\",\n",
    "        obs_query=AxisQuery(value_filter=query_datasets),\n",
    "        var_query=AxisQuery(coords=(slice(n_vars-1),)),\n",
    "        batch_size=BATCH_SIZE,\n",
    "        shuffle=True,\n",
    "        soma_chunk_size=SOMA_CHUNK_SIZE,\n",
    "    )\n",
    "    loader = experiment_dataloader(experiment_datapipe)\n",
    "    return Exp(experiment_datapipe, loader)"
   ]
  },
  {
   "cell_type": "markdown",
   "id": "80993178-384d-42c3-97a1-a6e405fdc207",
   "metadata": {
    "editable": true,
    "papermill": {
     "duration": 0.003233,
     "end_time": "2024-04-15T17:09:43.810123",
     "exception": false,
     "start_time": "2024-04-15T17:09:43.806890",
     "status": "completed"
    },
    "slideshow": {
     "slide_type": ""
    },
    "tags": []
   },
   "source": [
    "Optional: peek at `peek_dataset_lens` datasets' lengths:"
   ]
  },
  {
   "cell_type": "code",
   "execution_count": 9,
   "id": "a4fb0241-7ef8-4811-a7de-1786242476fe",
   "metadata": {
    "editable": true,
    "execution": {
     "iopub.execute_input": "2024-04-15T17:09:43.817352Z",
     "iopub.status.busy": "2024-04-15T17:09:43.817086Z",
     "iopub.status.idle": "2024-04-15T17:09:43.820704Z",
     "shell.execute_reply": "2024-04-15T17:09:43.820239Z"
    },
    "papermill": {
     "duration": 0.008354,
     "end_time": "2024-04-15T17:09:43.821728",
     "exception": false,
     "start_time": "2024-04-15T17:09:43.813374",
     "status": "completed"
    },
    "slideshow": {
     "slide_type": ""
    },
    "tags": []
   },
   "outputs": [
    {
     "name": "stdout",
     "output_type": "stream",
     "text": [
      "CPU times: user 15 µs, sys: 5 µs, total: 20 µs\n",
      "Wall time: 37.9 µs\n"
     ]
    }
   ],
   "source": [
    "%%time\n",
    "if peek_dataset_lens:\n",
    "    exps_prefix = [ get_exp_datapipe(start=i, n=1) for i in range(10) ]\n",
    "    print([ exp.datapipe.shape[0] for exp in exps_prefix ])"
   ]
  },
  {
   "cell_type": "code",
   "execution_count": 10,
   "id": "d7096ab2-54ca-4a64-9d9d-e94ffad8d7a6",
   "metadata": {
    "execution": {
     "iopub.execute_input": "2024-04-15T17:09:43.829049Z",
     "iopub.status.busy": "2024-04-15T17:09:43.828778Z",
     "iopub.status.idle": "2024-04-15T17:09:43.831602Z",
     "shell.execute_reply": "2024-04-15T17:09:43.831177Z"
    },
    "papermill": {
     "duration": 0.007623,
     "end_time": "2024-04-15T17:09:43.832604",
     "exception": false,
     "start_time": "2024-04-15T17:09:43.824981",
     "status": "completed"
    },
    "tags": []
   },
   "outputs": [],
   "source": [
    "@dataclass\n",
    "class Batch:\n",
    "    batch: float\n",
    "    gc: Optional[float] = None"
   ]
  },
  {
   "cell_type": "code",
   "execution_count": 11,
   "id": "87d827ed-0fdf-48ba-a3ad-552692bf2c9a",
   "metadata": {
    "execution": {
     "iopub.execute_input": "2024-04-15T17:09:43.839953Z",
     "iopub.status.busy": "2024-04-15T17:09:43.839700Z",
     "iopub.status.idle": "2024-04-15T17:09:43.842592Z",
     "shell.execute_reply": "2024-04-15T17:09:43.842154Z"
    },
    "papermill": {
     "duration": 0.007656,
     "end_time": "2024-04-15T17:09:43.843539",
     "exception": false,
     "start_time": "2024-04-15T17:09:43.835883",
     "status": "completed"
    },
    "tags": []
   },
   "outputs": [],
   "source": [
    "@dataclass\n",
    "class Epoch:\n",
    "    time_per_sample: float\n",
    "    samples_per_sec: float\n",
    "    batches: list[Batch]"
   ]
  },
  {
   "cell_type": "code",
   "execution_count": 12,
   "id": "f63d0b2a-f0b3-4a5d-ae09-63cad724b4ae",
   "metadata": {
    "execution": {
     "iopub.execute_input": "2024-04-15T17:09:43.851060Z",
     "iopub.status.busy": "2024-04-15T17:09:43.850758Z",
     "iopub.status.idle": "2024-04-15T17:09:43.853531Z",
     "shell.execute_reply": "2024-04-15T17:09:43.853099Z"
    },
    "papermill": {
     "duration": 0.007647,
     "end_time": "2024-04-15T17:09:43.854547",
     "exception": false,
     "start_time": "2024-04-15T17:09:43.846900",
     "status": "completed"
    },
    "tags": []
   },
   "outputs": [],
   "source": [
    "@dataclass\n",
    "class Method:\n",
    "    name: str\n",
    "    epochs: list[Epoch]"
   ]
  },
  {
   "cell_type": "code",
   "execution_count": 13,
   "id": "00a5c54d-5a38-43d1-9332-ba9f1ca5b135",
   "metadata": {
    "execution": {
     "iopub.execute_input": "2024-04-15T17:09:43.863345Z",
     "iopub.status.busy": "2024-04-15T17:09:43.863081Z",
     "iopub.status.idle": "2024-04-15T17:09:43.866273Z",
     "shell.execute_reply": "2024-04-15T17:09:43.865846Z"
    },
    "papermill": {
     "duration": 0.009207,
     "end_time": "2024-04-15T17:09:43.867251",
     "exception": false,
     "start_time": "2024-04-15T17:09:43.858044",
     "status": "completed"
    },
    "tags": []
   },
   "outputs": [],
   "source": [
    "@dataclass\n",
    "class Results:\n",
    "    census: Method\n",
    "    merlin: Optional[Method] = None\n",
    "    mapped_collection: Optional[Method] = None"
   ]
  },
  {
   "cell_type": "code",
   "execution_count": 14,
   "id": "a4a79d77-b0e0-48c0-9f50-df511142e938",
   "metadata": {
    "editable": true,
    "execution": {
     "iopub.execute_input": "2024-04-15T17:09:43.875230Z",
     "iopub.status.busy": "2024-04-15T17:09:43.874974Z",
     "iopub.status.idle": "2024-04-15T17:09:43.880515Z",
     "shell.execute_reply": "2024-04-15T17:09:43.880070Z"
    },
    "papermill": {
     "duration": 0.010847,
     "end_time": "2024-04-15T17:09:43.881520",
     "exception": false,
     "start_time": "2024-04-15T17:09:43.870673",
     "status": "completed"
    },
    "slideshow": {
     "slide_type": ""
    },
    "tags": []
   },
   "outputs": [],
   "source": [
    "def benchmark(exp: Exp) -> Epoch:\n",
    "    n_samples = exp.datapipe.shape[0]\n",
    "    loader_iter = exp.loader.__iter__()\n",
    "    # exclude first batch from benchmark as this includes the setup time\n",
    "    batch = next(loader_iter)\n",
    "    \n",
    "    num_iter = n_samples // BATCH_SIZE if n_samples is not None else None\n",
    "    \n",
    "    batches = []\n",
    "    start_time = batch_time = time()\n",
    "    \n",
    "    total = num_iter if num_iter is not None else len(loader_iter)\n",
    "    for i, batch in tqdm(enumerate(loader_iter), total=total):\n",
    "        X = batch[\"x\"] if isinstance(batch, dict) else batch[0] \n",
    "        # for pytorch DataLoader\n",
    "        # Merlin sends to cuda by default\n",
    "        if hasattr(X, \"is_cuda\") and not X.is_cuda:\n",
    "            X = X.cuda()\n",
    "        \n",
    "        if num_iter is not None and i == num_iter:\n",
    "            break\n",
    "\n",
    "        batch_elapsed = time() - batch_time\n",
    "\n",
    "        gc_time = None\n",
    "        if i % 10 == 0:\n",
    "            gc_before = time()\n",
    "            gc.collect()\n",
    "            gc_time = time() - gc_before\n",
    "\n",
    "        batches.append(Batch(batch_elapsed, gc_time))\n",
    "        batch_time = time()\n",
    "    \n",
    "    execution_time = time() - start_time\n",
    "    gc.collect()\n",
    "    \n",
    "    time_per_sample = (1e6 * execution_time) / (total * BATCH_SIZE)\n",
    "    print(f'time per sample: {time_per_sample:.2f} μs')\n",
    "    samples_per_sec = total * BATCH_SIZE / execution_time\n",
    "    print(f'samples per sec: {samples_per_sec:.2f} samples/sec')\n",
    "    \n",
    "    return Epoch(samples_per_sec=samples_per_sec, time_per_sample=time_per_sample, batches=batches)"
   ]
  },
  {
   "cell_type": "code",
   "execution_count": 15,
   "id": "7a614e15-a28d-45ce-a9a0-f22e9f78f824",
   "metadata": {
    "execution": {
     "iopub.execute_input": "2024-04-15T17:09:43.889126Z",
     "iopub.status.busy": "2024-04-15T17:09:43.888881Z",
     "iopub.status.idle": "2024-04-15T17:09:44.503764Z",
     "shell.execute_reply": "2024-04-15T17:09:44.503240Z"
    },
    "papermill": {
     "duration": 0.619938,
     "end_time": "2024-04-15T17:09:44.504872",
     "exception": false,
     "start_time": "2024-04-15T17:09:43.884934",
     "status": "completed"
    },
    "tags": []
   },
   "outputs": [
    {
     "name": "stdout",
     "output_type": "stream",
     "text": [
      "CPU times: user 7.75 s, sys: 2.35 s, total: 10.1 s\n",
      "Wall time: 610 ms\n"
     ]
    },
    {
     "data": {
      "text/plain": [
       "133790"
      ]
     },
     "execution_count": 15,
     "metadata": {},
     "output_type": "execute_result"
    }
   ],
   "source": [
    "%%time\n",
    "exp = get_exp_datapipe(start=start, end=end)\n",
    "exp.datapipe.shape[0]"
   ]
  },
  {
   "cell_type": "markdown",
   "id": "58d03d4d-c3e3-43b7-8fc8-9674eb3832ec",
   "metadata": {
    "papermill": {
     "duration": 0.003686,
     "end_time": "2024-04-15T17:09:44.512275",
     "exception": false,
     "start_time": "2024-04-15T17:09:44.508589",
     "status": "completed"
    },
    "tags": []
   },
   "source": [
    "## Run benchmark"
   ]
  },
  {
   "cell_type": "code",
   "execution_count": 16,
   "id": "c7610705-d2ec-4eb3-90e4-332626526728",
   "metadata": {
    "execution": {
     "iopub.execute_input": "2024-04-15T17:09:44.520268Z",
     "iopub.status.busy": "2024-04-15T17:09:44.520002Z",
     "iopub.status.idle": "2024-04-15T17:11:02.468619Z",
     "shell.execute_reply": "2024-04-15T17:11:02.468051Z"
    },
    "papermill": {
     "duration": 77.953912,
     "end_time": "2024-04-15T17:11:02.469722",
     "exception": false,
     "start_time": "2024-04-15T17:09:44.515810",
     "status": "completed"
    },
    "tags": []
   },
   "outputs": [
    {
     "name": "stderr",
     "output_type": "stream",
     "text": [
      "\r",
      "  0%|                                                                                              | 0/130 [00:00<?, ?it/s]"
     ]
    },
    {
     "name": "stderr",
     "output_type": "stream",
     "text": [
      "\r",
      "  1%|▋                                                                                     | 1/130 [00:00<01:15,  1.70it/s]"
     ]
    },
    {
     "name": "stderr",
     "output_type": "stream",
     "text": [
      "\r",
      "  2%|█▎                                                                                    | 2/130 [00:00<00:51,  2.49it/s]"
     ]
    },
    {
     "name": "stderr",
     "output_type": "stream",
     "text": [
      "\r",
      "  2%|█▉                                                                                    | 3/130 [00:01<00:45,  2.80it/s]"
     ]
    },
    {
     "name": "stderr",
     "output_type": "stream",
     "text": [
      "\r",
      "  3%|██▋                                                                                   | 4/130 [00:01<00:43,  2.90it/s]"
     ]
    },
    {
     "name": "stderr",
     "output_type": "stream",
     "text": [
      "\r",
      "  4%|███▎                                                                                  | 5/130 [00:01<00:40,  3.08it/s]"
     ]
    },
    {
     "name": "stderr",
     "output_type": "stream",
     "text": [
      "\r",
      "  5%|███▉                                                                                  | 6/130 [00:01<00:32,  3.76it/s]"
     ]
    },
    {
     "name": "stderr",
     "output_type": "stream",
     "text": [
      "\r",
      "  5%|████▋                                                                                 | 7/130 [00:02<00:28,  4.36it/s]"
     ]
    },
    {
     "name": "stderr",
     "output_type": "stream",
     "text": [
      "\r",
      "  6%|█████▎                                                                                | 8/130 [00:02<00:27,  4.48it/s]"
     ]
    },
    {
     "name": "stderr",
     "output_type": "stream",
     "text": [
      "\r",
      "  7%|█████▉                                                                                | 9/130 [00:05<02:24,  1.19s/it]"
     ]
    },
    {
     "name": "stderr",
     "output_type": "stream",
     "text": [
      "\r",
      "  8%|██████▌                                                                              | 10/130 [00:05<01:45,  1.14it/s]"
     ]
    },
    {
     "name": "stderr",
     "output_type": "stream",
     "text": [
      "\r",
      "  8%|███████▏                                                                             | 11/130 [00:06<01:35,  1.25it/s]"
     ]
    },
    {
     "name": "stderr",
     "output_type": "stream",
     "text": [
      "\r",
      "  9%|███████▊                                                                             | 12/130 [00:06<01:19,  1.48it/s]"
     ]
    },
    {
     "name": "stderr",
     "output_type": "stream",
     "text": [
      "\r",
      " 10%|████████▌                                                                            | 13/130 [00:07<01:09,  1.69it/s]"
     ]
    },
    {
     "name": "stderr",
     "output_type": "stream",
     "text": [
      "\r",
      " 11%|█████████▏                                                                           | 14/130 [00:07<00:54,  2.11it/s]"
     ]
    },
    {
     "name": "stderr",
     "output_type": "stream",
     "text": [
      "\r",
      " 12%|█████████▊                                                                           | 15/130 [00:07<00:44,  2.60it/s]"
     ]
    },
    {
     "name": "stderr",
     "output_type": "stream",
     "text": [
      "\r",
      " 12%|██████████▍                                                                          | 16/130 [00:07<00:36,  3.09it/s]"
     ]
    },
    {
     "name": "stderr",
     "output_type": "stream",
     "text": [
      "\r",
      " 13%|███████████                                                                          | 17/130 [00:08<00:35,  3.17it/s]"
     ]
    },
    {
     "name": "stderr",
     "output_type": "stream",
     "text": [
      "\r",
      " 14%|███████████▊                                                                         | 18/130 [00:11<02:30,  1.34s/it]"
     ]
    },
    {
     "name": "stderr",
     "output_type": "stream",
     "text": [
      "\r",
      " 15%|████████████▍                                                                        | 19/130 [00:11<01:50,  1.00it/s]"
     ]
    },
    {
     "name": "stderr",
     "output_type": "stream",
     "text": [
      "\r",
      " 15%|█████████████                                                                        | 20/130 [00:12<01:22,  1.33it/s]"
     ]
    },
    {
     "name": "stderr",
     "output_type": "stream",
     "text": [
      "\r",
      " 16%|█████████████▋                                                                       | 21/130 [00:12<01:21,  1.34it/s]"
     ]
    },
    {
     "name": "stderr",
     "output_type": "stream",
     "text": [
      "\r",
      " 17%|██████████████▍                                                                      | 22/130 [00:13<01:05,  1.64it/s]"
     ]
    },
    {
     "name": "stderr",
     "output_type": "stream",
     "text": [
      "\r",
      " 18%|███████████████                                                                      | 23/130 [00:13<00:52,  2.05it/s]"
     ]
    },
    {
     "name": "stderr",
     "output_type": "stream",
     "text": [
      "\r",
      " 18%|███████████████▋                                                                     | 24/130 [00:13<00:42,  2.52it/s]"
     ]
    },
    {
     "name": "stderr",
     "output_type": "stream",
     "text": [
      "\r",
      " 19%|████████████████▎                                                                    | 25/130 [00:13<00:39,  2.64it/s]"
     ]
    },
    {
     "name": "stderr",
     "output_type": "stream",
     "text": [
      "\r",
      " 20%|█████████████████                                                                    | 26/130 [00:14<00:33,  3.11it/s]"
     ]
    },
    {
     "name": "stderr",
     "output_type": "stream",
     "text": [
      "\r",
      " 21%|█████████████████▋                                                                   | 27/130 [00:17<01:53,  1.10s/it]"
     ]
    },
    {
     "name": "stderr",
     "output_type": "stream",
     "text": [
      "\r",
      " 22%|██████████████████▎                                                                  | 28/130 [00:17<01:24,  1.21it/s]"
     ]
    },
    {
     "name": "stderr",
     "output_type": "stream",
     "text": [
      "\r",
      " 22%|██████████████████▉                                                                  | 29/130 [00:17<01:03,  1.60it/s]"
     ]
    },
    {
     "name": "stderr",
     "output_type": "stream",
     "text": [
      "\r",
      " 23%|███████████████████▌                                                                 | 30/130 [00:17<00:50,  1.98it/s]"
     ]
    },
    {
     "name": "stderr",
     "output_type": "stream",
     "text": [
      "\r",
      " 24%|████████████████████▎                                                                | 31/130 [00:18<00:56,  1.76it/s]"
     ]
    },
    {
     "name": "stderr",
     "output_type": "stream",
     "text": [
      "\r",
      " 25%|████████████████████▉                                                                | 32/130 [00:18<00:46,  2.13it/s]"
     ]
    },
    {
     "name": "stderr",
     "output_type": "stream",
     "text": [
      "\r",
      " 25%|█████████████████████▌                                                               | 33/130 [00:18<00:36,  2.63it/s]"
     ]
    },
    {
     "name": "stderr",
     "output_type": "stream",
     "text": [
      "\r",
      " 26%|██████████████████████▏                                                              | 34/130 [00:18<00:30,  3.19it/s]"
     ]
    },
    {
     "name": "stderr",
     "output_type": "stream",
     "text": [
      "\r",
      " 27%|██████████████████████▉                                                              | 35/130 [00:19<00:29,  3.26it/s]"
     ]
    },
    {
     "name": "stderr",
     "output_type": "stream",
     "text": [
      "\r",
      " 28%|███████████████████████▌                                                             | 36/130 [00:19<00:24,  3.80it/s]"
     ]
    },
    {
     "name": "stderr",
     "output_type": "stream",
     "text": [
      "\r",
      " 28%|████████████████████████▏                                                            | 37/130 [00:22<01:34,  1.01s/it]"
     ]
    },
    {
     "name": "stderr",
     "output_type": "stream",
     "text": [
      "\r",
      " 29%|████████████████████████▊                                                            | 38/130 [00:22<01:09,  1.32it/s]"
     ]
    },
    {
     "name": "stderr",
     "output_type": "stream",
     "text": [
      "\r",
      " 30%|█████████████████████████▌                                                           | 39/130 [00:22<00:52,  1.73it/s]"
     ]
    },
    {
     "name": "stderr",
     "output_type": "stream",
     "text": [
      "\r",
      " 31%|██████████████████████████▏                                                          | 40/130 [00:22<00:43,  2.07it/s]"
     ]
    },
    {
     "name": "stderr",
     "output_type": "stream",
     "text": [
      "\r",
      " 32%|██████████████████████████▊                                                          | 41/130 [00:23<00:51,  1.73it/s]"
     ]
    },
    {
     "name": "stderr",
     "output_type": "stream",
     "text": [
      "\r",
      " 32%|███████████████████████████▍                                                         | 42/130 [00:23<00:41,  2.10it/s]"
     ]
    },
    {
     "name": "stderr",
     "output_type": "stream",
     "text": [
      "\r",
      " 33%|████████████████████████████                                                         | 43/130 [00:23<00:33,  2.61it/s]"
     ]
    },
    {
     "name": "stderr",
     "output_type": "stream",
     "text": [
      "\r",
      " 34%|████████████████████████████▊                                                        | 44/130 [00:24<00:27,  3.17it/s]"
     ]
    },
    {
     "name": "stderr",
     "output_type": "stream",
     "text": [
      "\r",
      " 35%|█████████████████████████████▍                                                       | 45/130 [00:24<00:27,  3.06it/s]"
     ]
    },
    {
     "name": "stderr",
     "output_type": "stream",
     "text": [
      "\r",
      " 35%|██████████████████████████████                                                       | 46/130 [00:28<01:59,  1.43s/it]"
     ]
    },
    {
     "name": "stderr",
     "output_type": "stream",
     "text": [
      "\r",
      " 36%|██████████████████████████████▋                                                      | 47/130 [00:28<01:27,  1.06s/it]"
     ]
    },
    {
     "name": "stderr",
     "output_type": "stream",
     "text": [
      "\r",
      " 37%|███████████████████████████████▍                                                     | 48/130 [00:28<01:06,  1.24it/s]"
     ]
    },
    {
     "name": "stderr",
     "output_type": "stream",
     "text": [
      "\r",
      " 38%|████████████████████████████████                                                     | 49/130 [00:29<00:53,  1.50it/s]"
     ]
    },
    {
     "name": "stderr",
     "output_type": "stream",
     "text": [
      "\r",
      " 38%|████████████████████████████████▋                                                    | 50/130 [00:29<00:44,  1.78it/s]"
     ]
    },
    {
     "name": "stderr",
     "output_type": "stream",
     "text": [
      "\r",
      " 39%|█████████████████████████████████▎                                                   | 51/130 [00:30<00:50,  1.57it/s]"
     ]
    },
    {
     "name": "stderr",
     "output_type": "stream",
     "text": [
      "\r",
      " 40%|██████████████████████████████████                                                   | 52/130 [00:30<00:38,  2.00it/s]"
     ]
    },
    {
     "name": "stderr",
     "output_type": "stream",
     "text": [
      "\r",
      " 41%|██████████████████████████████████▋                                                  | 53/130 [00:30<00:33,  2.32it/s]"
     ]
    },
    {
     "name": "stderr",
     "output_type": "stream",
     "text": [
      "\r",
      " 42%|███████████████████████████████████▎                                                 | 54/130 [00:30<00:27,  2.80it/s]"
     ]
    },
    {
     "name": "stderr",
     "output_type": "stream",
     "text": [
      "\r",
      " 42%|███████████████████████████████████▉                                                 | 55/130 [00:32<00:50,  1.47it/s]"
     ]
    },
    {
     "name": "stderr",
     "output_type": "stream",
     "text": [
      "\r",
      " 43%|████████████████████████████████████▌                                                | 56/130 [00:32<00:38,  1.92it/s]"
     ]
    },
    {
     "name": "stderr",
     "output_type": "stream",
     "text": [
      "\r",
      " 44%|█████████████████████████████████████▎                                               | 57/130 [00:32<00:29,  2.44it/s]"
     ]
    },
    {
     "name": "stderr",
     "output_type": "stream",
     "text": [
      "\r",
      " 45%|█████████████████████████████████████▉                                               | 58/130 [00:32<00:25,  2.81it/s]"
     ]
    },
    {
     "name": "stderr",
     "output_type": "stream",
     "text": [
      "\r",
      " 45%|██████████████████████████████████████▌                                              | 59/130 [00:33<00:24,  2.92it/s]"
     ]
    },
    {
     "name": "stderr",
     "output_type": "stream",
     "text": [
      "\r",
      " 46%|███████████████████████████████████████▏                                             | 60/130 [00:33<00:23,  3.01it/s]"
     ]
    },
    {
     "name": "stderr",
     "output_type": "stream",
     "text": [
      "\r",
      " 47%|███████████████████████████████████████▉                                             | 61/130 [00:34<00:31,  2.17it/s]"
     ]
    },
    {
     "name": "stderr",
     "output_type": "stream",
     "text": [
      "\r",
      " 48%|████████████████████████████████████████▌                                            | 62/130 [00:34<00:25,  2.71it/s]"
     ]
    },
    {
     "name": "stderr",
     "output_type": "stream",
     "text": [
      "\r",
      " 48%|█████████████████████████████████████████▏                                           | 63/130 [00:34<00:21,  3.15it/s]"
     ]
    },
    {
     "name": "stderr",
     "output_type": "stream",
     "text": [
      "\r",
      " 49%|█████████████████████████████████████████▊                                           | 64/130 [00:34<00:18,  3.52it/s]"
     ]
    },
    {
     "name": "stderr",
     "output_type": "stream",
     "text": [
      "\r",
      " 50%|██████████████████████████████████████████▌                                          | 65/130 [00:37<01:07,  1.04s/it]"
     ]
    },
    {
     "name": "stderr",
     "output_type": "stream",
     "text": [
      "\r",
      " 51%|███████████████████████████████████████████▏                                         | 66/130 [00:37<00:49,  1.28it/s]"
     ]
    },
    {
     "name": "stderr",
     "output_type": "stream",
     "text": [
      "\r",
      " 52%|███████████████████████████████████████████▊                                         | 67/130 [00:37<00:37,  1.68it/s]"
     ]
    },
    {
     "name": "stderr",
     "output_type": "stream",
     "text": [
      "\r",
      " 52%|████████████████████████████████████████████▍                                        | 68/130 [00:38<00:30,  2.07it/s]"
     ]
    },
    {
     "name": "stderr",
     "output_type": "stream",
     "text": [
      "\r",
      " 53%|█████████████████████████████████████████████                                        | 69/130 [00:38<00:25,  2.40it/s]"
     ]
    },
    {
     "name": "stderr",
     "output_type": "stream",
     "text": [
      "\r",
      " 54%|█████████████████████████████████████████████▊                                       | 70/130 [00:38<00:21,  2.76it/s]"
     ]
    },
    {
     "name": "stderr",
     "output_type": "stream",
     "text": [
      "\r",
      " 55%|██████████████████████████████████████████████▍                                      | 71/130 [00:39<00:27,  2.11it/s]"
     ]
    },
    {
     "name": "stderr",
     "output_type": "stream",
     "text": [
      "\r",
      " 55%|███████████████████████████████████████████████                                      | 72/130 [00:39<00:22,  2.62it/s]"
     ]
    },
    {
     "name": "stderr",
     "output_type": "stream",
     "text": [
      "\r",
      " 56%|███████████████████████████████████████████████▋                                     | 73/130 [00:39<00:19,  2.95it/s]"
     ]
    },
    {
     "name": "stderr",
     "output_type": "stream",
     "text": [
      "\r",
      " 57%|████████████████████████████████████████████████▍                                    | 74/130 [00:43<01:10,  1.26s/it]"
     ]
    },
    {
     "name": "stderr",
     "output_type": "stream",
     "text": [
      "\r",
      " 58%|█████████████████████████████████████████████████                                    | 75/130 [00:43<00:51,  1.06it/s]"
     ]
    },
    {
     "name": "stderr",
     "output_type": "stream",
     "text": [
      "\r",
      " 58%|█████████████████████████████████████████████████▋                                   | 76/130 [00:43<00:38,  1.42it/s]"
     ]
    },
    {
     "name": "stderr",
     "output_type": "stream",
     "text": [
      "\r",
      " 59%|██████████████████████████████████████████████████▎                                  | 77/130 [00:43<00:29,  1.78it/s]"
     ]
    },
    {
     "name": "stderr",
     "output_type": "stream",
     "text": [
      "\r",
      " 60%|███████████████████████████████████████████████████                                  | 78/130 [00:44<00:25,  2.06it/s]"
     ]
    },
    {
     "name": "stderr",
     "output_type": "stream",
     "text": [
      "\r",
      " 61%|███████████████████████████████████████████████████▋                                 | 79/130 [00:44<00:21,  2.40it/s]"
     ]
    },
    {
     "name": "stderr",
     "output_type": "stream",
     "text": [
      "\r",
      " 62%|████████████████████████████████████████████████████▎                                | 80/130 [00:44<00:19,  2.59it/s]"
     ]
    },
    {
     "name": "stderr",
     "output_type": "stream",
     "text": [
      "\r",
      " 62%|████████████████████████████████████████████████████▉                                | 81/130 [00:45<00:24,  1.97it/s]"
     ]
    },
    {
     "name": "stderr",
     "output_type": "stream",
     "text": [
      "\r",
      " 63%|█████████████████████████████████████████████████████▌                               | 82/130 [00:45<00:20,  2.36it/s]"
     ]
    },
    {
     "name": "stderr",
     "output_type": "stream",
     "text": [
      "\r",
      " 64%|██████████████████████████████████████████████████████▎                              | 83/130 [00:47<00:39,  1.19it/s]"
     ]
    },
    {
     "name": "stderr",
     "output_type": "stream",
     "text": [
      "\r",
      " 65%|██████████████████████████████████████████████████████▉                              | 84/130 [00:47<00:29,  1.57it/s]"
     ]
    },
    {
     "name": "stderr",
     "output_type": "stream",
     "text": [
      "\r",
      " 65%|███████████████████████████████████████████████████████▌                             | 85/130 [00:47<00:22,  2.04it/s]"
     ]
    },
    {
     "name": "stderr",
     "output_type": "stream",
     "text": [
      "\r",
      " 66%|████████████████████████████████████████████████████████▏                            | 86/130 [00:48<00:18,  2.43it/s]"
     ]
    },
    {
     "name": "stderr",
     "output_type": "stream",
     "text": [
      "\r",
      " 67%|████████████████████████████████████████████████████████▉                            | 87/130 [00:48<00:15,  2.69it/s]"
     ]
    },
    {
     "name": "stderr",
     "output_type": "stream",
     "text": [
      "\r",
      " 68%|█████████████████████████████████████████████████████████▌                           | 88/130 [00:48<00:14,  2.98it/s]"
     ]
    },
    {
     "name": "stderr",
     "output_type": "stream",
     "text": [
      "\r",
      " 68%|██████████████████████████████████████████████████████████▏                          | 89/130 [00:48<00:12,  3.20it/s]"
     ]
    },
    {
     "name": "stderr",
     "output_type": "stream",
     "text": [
      "\r",
      " 69%|██████████████████████████████████████████████████████████▊                          | 90/130 [00:49<00:11,  3.40it/s]"
     ]
    },
    {
     "name": "stderr",
     "output_type": "stream",
     "text": [
      "\r",
      " 70%|███████████████████████████████████████████████████████████▍                         | 91/130 [00:49<00:17,  2.25it/s]"
     ]
    },
    {
     "name": "stderr",
     "output_type": "stream",
     "text": [
      "\r",
      " 71%|████████████████████████████████████████████████████████████▏                        | 92/130 [00:50<00:15,  2.44it/s]"
     ]
    },
    {
     "name": "stderr",
     "output_type": "stream",
     "text": [
      "\r",
      " 72%|████████████████████████████████████████████████████████████▊                        | 93/130 [00:54<00:53,  1.45s/it]"
     ]
    },
    {
     "name": "stderr",
     "output_type": "stream",
     "text": [
      "\r",
      " 72%|█████████████████████████████████████████████████████████████▍                       | 94/130 [00:54<00:38,  1.07s/it]"
     ]
    },
    {
     "name": "stderr",
     "output_type": "stream",
     "text": [
      "\r",
      " 73%|██████████████████████████████████████████████████████████████                       | 95/130 [00:54<00:28,  1.24it/s]"
     ]
    },
    {
     "name": "stderr",
     "output_type": "stream",
     "text": [
      "\r",
      " 74%|██████████████████████████████████████████████████████████████▊                      | 96/130 [00:54<00:22,  1.53it/s]"
     ]
    },
    {
     "name": "stderr",
     "output_type": "stream",
     "text": [
      "\r",
      " 75%|███████████████████████████████████████████████████████████████▍                     | 97/130 [00:55<00:18,  1.83it/s]"
     ]
    },
    {
     "name": "stderr",
     "output_type": "stream",
     "text": [
      "\r",
      " 75%|████████████████████████████████████████████████████████████████                     | 98/130 [00:55<00:15,  2.12it/s]"
     ]
    },
    {
     "name": "stderr",
     "output_type": "stream",
     "text": [
      "\r",
      " 76%|████████████████████████████████████████████████████████████████▋                    | 99/130 [00:55<00:13,  2.31it/s]"
     ]
    },
    {
     "name": "stderr",
     "output_type": "stream",
     "text": [
      "\r",
      " 77%|████████████████████████████████████████████████████████████████▌                   | 100/130 [00:55<00:11,  2.55it/s]"
     ]
    },
    {
     "name": "stderr",
     "output_type": "stream",
     "text": [
      "\r",
      " 78%|█████████████████████████████████████████████████████████████████▎                  | 101/130 [00:56<00:13,  2.08it/s]"
     ]
    },
    {
     "name": "stderr",
     "output_type": "stream",
     "text": [
      "\r",
      " 78%|█████████████████████████████████████████████████████████████████▉                  | 102/130 [00:58<00:26,  1.04it/s]"
     ]
    },
    {
     "name": "stderr",
     "output_type": "stream",
     "text": [
      "\r",
      " 79%|██████████████████████████████████████████████████████████████████▌                 | 103/130 [00:58<00:19,  1.37it/s]"
     ]
    },
    {
     "name": "stderr",
     "output_type": "stream",
     "text": [
      "\r",
      " 80%|███████████████████████████████████████████████████████████████████▏                | 104/130 [00:59<00:15,  1.71it/s]"
     ]
    },
    {
     "name": "stderr",
     "output_type": "stream",
     "text": [
      "\r",
      " 81%|███████████████████████████████████████████████████████████████████▊                | 105/130 [00:59<00:13,  1.90it/s]"
     ]
    },
    {
     "name": "stderr",
     "output_type": "stream",
     "text": [
      "\r",
      " 82%|████████████████████████████████████████████████████████████████████▍               | 106/130 [01:00<00:11,  2.01it/s]"
     ]
    },
    {
     "name": "stderr",
     "output_type": "stream",
     "text": [
      "\r",
      " 82%|█████████████████████████████████████████████████████████████████████▏              | 107/130 [01:00<00:10,  2.11it/s]"
     ]
    },
    {
     "name": "stderr",
     "output_type": "stream",
     "text": [
      "\r",
      " 83%|█████████████████████████████████████████████████████████████████████▊              | 108/130 [01:00<00:09,  2.22it/s]"
     ]
    },
    {
     "name": "stderr",
     "output_type": "stream",
     "text": [
      "\r",
      " 84%|██████████████████████████████████████████████████████████████████████▍             | 109/130 [01:01<00:08,  2.47it/s]"
     ]
    },
    {
     "name": "stderr",
     "output_type": "stream",
     "text": [
      "\r",
      " 85%|███████████████████████████████████████████████████████████████████████             | 110/130 [01:01<00:06,  3.05it/s]"
     ]
    },
    {
     "name": "stderr",
     "output_type": "stream",
     "text": [
      "\r",
      " 85%|███████████████████████████████████████████████████████████████████████▋            | 111/130 [01:06<00:32,  1.71s/it]"
     ]
    },
    {
     "name": "stderr",
     "output_type": "stream",
     "text": [
      "\r",
      " 86%|████████████████████████████████████████████████████████████████████████▎           | 112/130 [01:06<00:23,  1.32s/it]"
     ]
    },
    {
     "name": "stderr",
     "output_type": "stream",
     "text": [
      "\r",
      " 87%|█████████████████████████████████████████████████████████████████████████           | 113/130 [01:07<00:17,  1.04s/it]"
     ]
    },
    {
     "name": "stderr",
     "output_type": "stream",
     "text": [
      "\r",
      " 88%|█████████████████████████████████████████████████████████████████████████▋          | 114/130 [01:07<00:13,  1.19it/s]"
     ]
    },
    {
     "name": "stderr",
     "output_type": "stream",
     "text": [
      "\r",
      " 88%|██████████████████████████████████████████████████████████████████████████▎         | 115/130 [01:07<00:10,  1.48it/s]"
     ]
    },
    {
     "name": "stderr",
     "output_type": "stream",
     "text": [
      "\r",
      " 89%|██████████████████████████████████████████████████████████████████████████▉         | 116/130 [01:07<00:07,  1.90it/s]"
     ]
    },
    {
     "name": "stderr",
     "output_type": "stream",
     "text": [
      "\r",
      " 90%|███████████████████████████████████████████████████████████████████████████▌        | 117/130 [01:08<00:05,  2.34it/s]"
     ]
    },
    {
     "name": "stderr",
     "output_type": "stream",
     "text": [
      "\r",
      " 91%|████████████████████████████████████████████████████████████████████████████▏       | 118/130 [01:08<00:04,  2.60it/s]"
     ]
    },
    {
     "name": "stderr",
     "output_type": "stream",
     "text": [
      "\r",
      " 92%|████████████████████████████████████████████████████████████████████████████▉       | 119/130 [01:08<00:03,  3.06it/s]"
     ]
    },
    {
     "name": "stderr",
     "output_type": "stream",
     "text": [
      "\r",
      " 92%|█████████████████████████████████████████████████████████████████████████████▌      | 120/130 [01:08<00:02,  3.51it/s]"
     ]
    },
    {
     "name": "stderr",
     "output_type": "stream",
     "text": [
      "\r",
      " 93%|██████████████████████████████████████████████████████████████████████████████▏     | 121/130 [01:12<00:11,  1.27s/it]"
     ]
    },
    {
     "name": "stderr",
     "output_type": "stream",
     "text": [
      "\r",
      " 94%|██████████████████████████████████████████████████████████████████████████████▊     | 122/130 [01:12<00:07,  1.08it/s]"
     ]
    },
    {
     "name": "stderr",
     "output_type": "stream",
     "text": [
      "\r",
      " 95%|███████████████████████████████████████████████████████████████████████████████▍    | 123/130 [01:12<00:04,  1.45it/s]"
     ]
    },
    {
     "name": "stderr",
     "output_type": "stream",
     "text": [
      "\r",
      " 95%|████████████████████████████████████████████████████████████████████████████████    | 124/130 [01:12<00:03,  1.91it/s]"
     ]
    },
    {
     "name": "stderr",
     "output_type": "stream",
     "text": [
      "\r",
      " 96%|████████████████████████████████████████████████████████████████████████████████▊   | 125/130 [01:12<00:02,  2.45it/s]"
     ]
    },
    {
     "name": "stderr",
     "output_type": "stream",
     "text": [
      "\r",
      " 97%|█████████████████████████████████████████████████████████████████████████████████▍  | 126/130 [01:12<00:01,  3.14it/s]"
     ]
    },
    {
     "name": "stderr",
     "output_type": "stream",
     "text": [
      "\r",
      " 98%|██████████████████████████████████████████████████████████████████████████████████  | 127/130 [01:13<00:00,  3.80it/s]"
     ]
    },
    {
     "name": "stderr",
     "output_type": "stream",
     "text": [
      "\r",
      " 98%|██████████████████████████████████████████████████████████████████████████████████▋ | 128/130 [01:13<00:00,  4.60it/s]"
     ]
    },
    {
     "name": "stderr",
     "output_type": "stream",
     "text": [
      "\r",
      " 99%|███████████████████████████████████████████████████████████████████████████████████▎| 129/130 [01:13<00:00,  5.22it/s]"
     ]
    },
    {
     "name": "stderr",
     "output_type": "stream",
     "text": [
      "\r",
      "100%|████████████████████████████████████████████████████████████████████████████████████| 130/130 [01:13<00:00,  4.74it/s]"
     ]
    },
    {
     "name": "stderr",
     "output_type": "stream",
     "text": [
      "\r",
      "100%|████████████████████████████████████████████████████████████████████████████████████| 130/130 [01:13<00:00,  1.76it/s]"
     ]
    },
    {
     "name": "stderr",
     "output_type": "stream",
     "text": [
      "\n"
     ]
    },
    {
     "name": "stdout",
     "output_type": "stream",
     "text": [
      "time per sample: 553.94 μs\n",
      "samples per sec: 1805.24 samples/sec\n",
      "CPU times: user 1min 38s, sys: 52.2 s, total: 2min 30s\n",
      "Wall time: 1min 17s\n"
     ]
    }
   ],
   "source": [
    "%%time\n",
    "epochs = []\n",
    "for epoch in range(n_epochs):\n",
    "    epoch = benchmark(exp)\n",
    "    epochs.append(epoch)\n",
    "\n",
    "results = Results(\n",
    "    census=Method('census', epochs),\n",
    ")"
   ]
  },
  {
   "cell_type": "code",
   "execution_count": 17,
   "id": "14bcbc20-0853-4404-8766-141632991e8c",
   "metadata": {
    "execution": {
     "iopub.execute_input": "2024-04-15T17:11:02.489012Z",
     "iopub.status.busy": "2024-04-15T17:11:02.488736Z",
     "iopub.status.idle": "2024-04-15T17:11:02.493615Z",
     "shell.execute_reply": "2024-04-15T17:11:02.493130Z"
    },
    "papermill": {
     "duration": 0.015606,
     "end_time": "2024-04-15T17:11:02.494653",
     "exception": false,
     "start_time": "2024-04-15T17:11:02.479047",
     "status": "completed"
    },
    "tags": []
   },
   "outputs": [
    {
     "name": "stderr",
     "output_type": "stream",
     "text": [
      "Saved results to results-local.json\n"
     ]
    }
   ],
   "source": [
    "results_json_path = f'results-{census_loc}.json'\n",
    "with open(results_json_path, 'w') as f:\n",
    "    json.dump(asdict(results), f, indent=2)\n",
    "    err(f\"Saved results to {results_json_path}\")"
   ]
  },
  {
   "cell_type": "code",
   "execution_count": 18,
   "id": "eb1fb31a-b7cf-416a-b801-dae42f03b397",
   "metadata": {
    "execution": {
     "iopub.execute_input": "2024-04-15T17:11:02.513253Z",
     "iopub.status.busy": "2024-04-15T17:11:02.513027Z",
     "iopub.status.idle": "2024-04-15T17:11:02.515307Z",
     "shell.execute_reply": "2024-04-15T17:11:02.514847Z"
    },
    "papermill": {
     "duration": 0.01275,
     "end_time": "2024-04-15T17:11:02.516301",
     "exception": false,
     "start_time": "2024-04-15T17:11:02.503551",
     "status": "completed"
    },
    "tags": []
   },
   "outputs": [],
   "source": [
    "# with open(results_json_path, 'r') as f:\n",
    "#     results = Results(**json.load(f))"
   ]
  },
  {
   "cell_type": "markdown",
   "id": "ece8e5db-bf91-4fac-bd8e-48d747477f92",
   "metadata": {
    "papermill": {
     "duration": 0.008834,
     "end_time": "2024-04-15T17:11:02.534043",
     "exception": false,
     "start_time": "2024-04-15T17:11:02.525209",
     "status": "completed"
    },
    "tags": []
   },
   "source": [
    "## Plot batch timings"
   ]
  },
  {
   "cell_type": "code",
   "execution_count": 19,
   "id": "1b6c7282-7c2a-464b-8b5a-e8dd44e789e4",
   "metadata": {
    "execution": {
     "iopub.execute_input": "2024-04-15T17:11:02.552596Z",
     "iopub.status.busy": "2024-04-15T17:11:02.552326Z",
     "iopub.status.idle": "2024-04-15T17:11:02.565077Z",
     "shell.execute_reply": "2024-04-15T17:11:02.564620Z"
    },
    "papermill": {
     "duration": 0.023219,
     "end_time": "2024-04-15T17:11:02.566095",
     "exception": false,
     "start_time": "2024-04-15T17:11:02.542876",
     "status": "completed"
    },
    "scrolled": true,
    "tags": []
   },
   "outputs": [
    {
     "data": {
      "text/html": [
       "<div>\n",
       "<style scoped>\n",
       "    .dataframe tbody tr th:only-of-type {\n",
       "        vertical-align: middle;\n",
       "    }\n",
       "\n",
       "    .dataframe tbody tr th {\n",
       "        vertical-align: top;\n",
       "    }\n",
       "\n",
       "    .dataframe thead th {\n",
       "        text-align: right;\n",
       "    }\n",
       "</style>\n",
       "<table border=\"1\" class=\"dataframe\">\n",
       "  <thead>\n",
       "    <tr style=\"text-align: right;\">\n",
       "      <th></th>\n",
       "      <th>idx</th>\n",
       "      <th>batch</th>\n",
       "      <th>gc</th>\n",
       "      <th>res</th>\n",
       "      <th>res_str</th>\n",
       "    </tr>\n",
       "  </thead>\n",
       "  <tbody>\n",
       "    <tr>\n",
       "      <th>0</th>\n",
       "      <td>0</td>\n",
       "      <td>0.152289</td>\n",
       "      <td>0.436125</td>\n",
       "      <td>0</td>\n",
       "      <td>0mod10</td>\n",
       "    </tr>\n",
       "    <tr>\n",
       "      <th>1</th>\n",
       "      <td>1</td>\n",
       "      <td>0.272602</td>\n",
       "      <td>NaN</td>\n",
       "      <td>1</td>\n",
       "      <td>1mod10</td>\n",
       "    </tr>\n",
       "    <tr>\n",
       "      <th>2</th>\n",
       "      <td>2</td>\n",
       "      <td>0.302508</td>\n",
       "      <td>NaN</td>\n",
       "      <td>2</td>\n",
       "      <td>2mod10</td>\n",
       "    </tr>\n",
       "    <tr>\n",
       "      <th>3</th>\n",
       "      <td>3</td>\n",
       "      <td>0.326183</td>\n",
       "      <td>NaN</td>\n",
       "      <td>3</td>\n",
       "      <td>3mod10</td>\n",
       "    </tr>\n",
       "    <tr>\n",
       "      <th>4</th>\n",
       "      <td>4</td>\n",
       "      <td>0.290479</td>\n",
       "      <td>NaN</td>\n",
       "      <td>4</td>\n",
       "      <td>4mod10</td>\n",
       "    </tr>\n",
       "    <tr>\n",
       "      <th>...</th>\n",
       "      <td>...</td>\n",
       "      <td>...</td>\n",
       "      <td>...</td>\n",
       "      <td>...</td>\n",
       "      <td>...</td>\n",
       "    </tr>\n",
       "    <tr>\n",
       "      <th>125</th>\n",
       "      <td>125</td>\n",
       "      <td>0.111412</td>\n",
       "      <td>NaN</td>\n",
       "      <td>5</td>\n",
       "      <td>5mod10</td>\n",
       "    </tr>\n",
       "    <tr>\n",
       "      <th>126</th>\n",
       "      <td>126</td>\n",
       "      <td>0.133615</td>\n",
       "      <td>NaN</td>\n",
       "      <td>6</td>\n",
       "      <td>6mod10</td>\n",
       "    </tr>\n",
       "    <tr>\n",
       "      <th>127</th>\n",
       "      <td>127</td>\n",
       "      <td>0.110792</td>\n",
       "      <td>NaN</td>\n",
       "      <td>7</td>\n",
       "      <td>7mod10</td>\n",
       "    </tr>\n",
       "    <tr>\n",
       "      <th>128</th>\n",
       "      <td>128</td>\n",
       "      <td>0.131356</td>\n",
       "      <td>NaN</td>\n",
       "      <td>8</td>\n",
       "      <td>8mod10</td>\n",
       "    </tr>\n",
       "    <tr>\n",
       "      <th>129</th>\n",
       "      <td>129</td>\n",
       "      <td>0.255716</td>\n",
       "      <td>NaN</td>\n",
       "      <td>9</td>\n",
       "      <td>9mod10</td>\n",
       "    </tr>\n",
       "  </tbody>\n",
       "</table>\n",
       "<p>130 rows × 5 columns</p>\n",
       "</div>"
      ],
      "text/plain": [
       "     idx     batch        gc  res res_str\n",
       "0      0  0.152289  0.436125    0  0mod10\n",
       "1      1  0.272602       NaN    1  1mod10\n",
       "2      2  0.302508       NaN    2  2mod10\n",
       "3      3  0.326183       NaN    3  3mod10\n",
       "4      4  0.290479       NaN    4  4mod10\n",
       "..   ...       ...       ...  ...     ...\n",
       "125  125  0.111412       NaN    5  5mod10\n",
       "126  126  0.133615       NaN    6  6mod10\n",
       "127  127  0.110792       NaN    7  7mod10\n",
       "128  128  0.131356       NaN    8  8mod10\n",
       "129  129  0.255716       NaN    9  9mod10\n",
       "\n",
       "[130 rows x 5 columns]"
      ]
     },
     "execution_count": 19,
     "metadata": {},
     "output_type": "execute_result"
    }
   ],
   "source": [
    "method = 'census'\n",
    "epoch = 0\n",
    "batches = getattr(results, 'census').epochs[epoch].batches\n",
    "df = pd.DataFrame(batches)\n",
    "df.index.name = 'idx'\n",
    "if period:\n",
    "    df['res'] = df.index % period\n",
    "    df['res_str'] = df.res.astype('str') + f'mod{period}'\n",
    "df = df.reset_index()\n",
    "df"
   ]
  },
  {
   "cell_type": "code",
   "execution_count": 20,
   "id": "703da7d9-035a-4b9f-8062-62c509458391",
   "metadata": {
    "execution": {
     "iopub.execute_input": "2024-04-15T17:11:02.585357Z",
     "iopub.status.busy": "2024-04-15T17:11:02.585011Z",
     "iopub.status.idle": "2024-04-15T17:11:02.592878Z",
     "shell.execute_reply": "2024-04-15T17:11:02.592418Z"
    },
    "papermill": {
     "duration": 0.018652,
     "end_time": "2024-04-15T17:11:02.593847",
     "exception": false,
     "start_time": "2024-04-15T17:11:02.575195",
     "status": "completed"
    },
    "scrolled": true,
    "tags": []
   },
   "outputs": [
    {
     "data": {
      "text/html": [
       "<div>\n",
       "<style scoped>\n",
       "    .dataframe tbody tr th:only-of-type {\n",
       "        vertical-align: middle;\n",
       "    }\n",
       "\n",
       "    .dataframe tbody tr th {\n",
       "        vertical-align: top;\n",
       "    }\n",
       "\n",
       "    .dataframe thead th {\n",
       "        text-align: right;\n",
       "    }\n",
       "</style>\n",
       "<table border=\"1\" class=\"dataframe\">\n",
       "  <thead>\n",
       "    <tr style=\"text-align: right;\">\n",
       "      <th></th>\n",
       "      <th>idx</th>\n",
       "      <th>batch</th>\n",
       "      <th>gc</th>\n",
       "      <th>res</th>\n",
       "      <th>res_str</th>\n",
       "    </tr>\n",
       "  </thead>\n",
       "  <tbody>\n",
       "    <tr>\n",
       "      <th>8</th>\n",
       "      <td>8</td>\n",
       "      <td>3.322045</td>\n",
       "      <td>NaN</td>\n",
       "      <td>8</td>\n",
       "      <td>8mod10</td>\n",
       "    </tr>\n",
       "    <tr>\n",
       "      <th>17</th>\n",
       "      <td>17</td>\n",
       "      <td>3.736648</td>\n",
       "      <td>NaN</td>\n",
       "      <td>7</td>\n",
       "      <td>7mod10</td>\n",
       "    </tr>\n",
       "    <tr>\n",
       "      <th>26</th>\n",
       "      <td>26</td>\n",
       "      <td>2.929826</td>\n",
       "      <td>NaN</td>\n",
       "      <td>6</td>\n",
       "      <td>6mod10</td>\n",
       "    </tr>\n",
       "    <tr>\n",
       "      <th>36</th>\n",
       "      <td>36</td>\n",
       "      <td>2.757518</td>\n",
       "      <td>NaN</td>\n",
       "      <td>6</td>\n",
       "      <td>6mod10</td>\n",
       "    </tr>\n",
       "    <tr>\n",
       "      <th>45</th>\n",
       "      <td>45</td>\n",
       "      <td>3.995673</td>\n",
       "      <td>NaN</td>\n",
       "      <td>5</td>\n",
       "      <td>5mod10</td>\n",
       "    </tr>\n",
       "    <tr>\n",
       "      <th>54</th>\n",
       "      <td>54</td>\n",
       "      <td>1.431642</td>\n",
       "      <td>NaN</td>\n",
       "      <td>4</td>\n",
       "      <td>4mod10</td>\n",
       "    </tr>\n",
       "    <tr>\n",
       "      <th>64</th>\n",
       "      <td>64</td>\n",
       "      <td>2.817515</td>\n",
       "      <td>NaN</td>\n",
       "      <td>4</td>\n",
       "      <td>4mod10</td>\n",
       "    </tr>\n",
       "    <tr>\n",
       "      <th>73</th>\n",
       "      <td>73</td>\n",
       "      <td>3.423882</td>\n",
       "      <td>NaN</td>\n",
       "      <td>3</td>\n",
       "      <td>3mod10</td>\n",
       "    </tr>\n",
       "    <tr>\n",
       "      <th>82</th>\n",
       "      <td>82</td>\n",
       "      <td>1.817622</td>\n",
       "      <td>NaN</td>\n",
       "      <td>2</td>\n",
       "      <td>2mod10</td>\n",
       "    </tr>\n",
       "    <tr>\n",
       "      <th>92</th>\n",
       "      <td>92</td>\n",
       "      <td>3.867055</td>\n",
       "      <td>NaN</td>\n",
       "      <td>2</td>\n",
       "      <td>2mod10</td>\n",
       "    </tr>\n",
       "    <tr>\n",
       "      <th>101</th>\n",
       "      <td>101</td>\n",
       "      <td>2.080394</td>\n",
       "      <td>NaN</td>\n",
       "      <td>1</td>\n",
       "      <td>1mod10</td>\n",
       "    </tr>\n",
       "    <tr>\n",
       "      <th>110</th>\n",
       "      <td>110</td>\n",
       "      <td>4.451075</td>\n",
       "      <td>0.470925</td>\n",
       "      <td>0</td>\n",
       "      <td>0mod10</td>\n",
       "    </tr>\n",
       "    <tr>\n",
       "      <th>120</th>\n",
       "      <td>120</td>\n",
       "      <td>3.082840</td>\n",
       "      <td>0.486485</td>\n",
       "      <td>0</td>\n",
       "      <td>0mod10</td>\n",
       "    </tr>\n",
       "  </tbody>\n",
       "</table>\n",
       "</div>"
      ],
      "text/plain": [
       "     idx     batch        gc  res res_str\n",
       "8      8  3.322045       NaN    8  8mod10\n",
       "17    17  3.736648       NaN    7  7mod10\n",
       "26    26  2.929826       NaN    6  6mod10\n",
       "36    36  2.757518       NaN    6  6mod10\n",
       "45    45  3.995673       NaN    5  5mod10\n",
       "54    54  1.431642       NaN    4  4mod10\n",
       "64    64  2.817515       NaN    4  4mod10\n",
       "73    73  3.423882       NaN    3  3mod10\n",
       "82    82  1.817622       NaN    2  2mod10\n",
       "92    92  3.867055       NaN    2  2mod10\n",
       "101  101  2.080394       NaN    1  1mod10\n",
       "110  110  4.451075  0.470925    0  0mod10\n",
       "120  120  3.082840  0.486485    0  0mod10"
      ]
     },
     "execution_count": 20,
     "metadata": {},
     "output_type": "execute_result"
    }
   ],
   "source": [
    "ann = df[df.batch > ann_cutoff] if ann_cutoff else df[[]]\n",
    "ann"
   ]
  },
  {
   "cell_type": "code",
   "execution_count": 21,
   "id": "9bbe7687-edb0-4287-981f-96436ca40da6",
   "metadata": {
    "execution": {
     "iopub.execute_input": "2024-04-15T17:11:02.613384Z",
     "iopub.status.busy": "2024-04-15T17:11:02.613073Z",
     "iopub.status.idle": "2024-04-15T17:11:02.616125Z",
     "shell.execute_reply": "2024-04-15T17:11:02.615698Z"
    },
    "papermill": {
     "duration": 0.013887,
     "end_time": "2024-04-15T17:11:02.617144",
     "exception": false,
     "start_time": "2024-04-15T17:11:02.603257",
     "status": "completed"
    },
    "tags": []
   },
   "outputs": [
    {
     "data": {
      "text/plain": [
       "PlotConfigs(fmt='fig', w=1200, h=800, save=[], v=True, i=None, dir=None, grid='#ccc', bg='white')"
      ]
     },
     "execution_count": 21,
     "metadata": {},
     "output_type": "execute_result"
    }
   ],
   "source": [
    "pc"
   ]
  },
  {
   "cell_type": "code",
   "execution_count": 22,
   "id": "823603b4-61ac-4edd-9047-921e6b0568a7",
   "metadata": {
    "execution": {
     "iopub.execute_input": "2024-04-15T17:11:02.642625Z",
     "iopub.status.busy": "2024-04-15T17:11:02.642379Z",
     "iopub.status.idle": "2024-04-15T17:11:03.660895Z",
     "shell.execute_reply": "2024-04-15T17:11:03.660343Z"
    },
    "papermill": {
     "duration": 1.035537,
     "end_time": "2024-04-15T17:11:03.661945",
     "exception": false,
     "start_time": "2024-04-15T17:11:02.626408",
     "status": "completed"
    },
    "tags": []
   },
   "outputs": [
    {
     "name": "stderr",
     "output_type": "stream",
     "text": [
      "Saving: img/census-local.png\n"
     ]
    },
    {
     "name": "stderr",
     "output_type": "stream",
     "text": [
      "Returning IPython Image\n"
     ]
    },
    {
     "data": {
      "image/png": "[encoded data removed]",
      "text/plain": [
       "<IPython.core.display.Image object>"
      ]
     },
     "execution_count": 22,
     "metadata": {},
     "output_type": "execute_result"
    }
   ],
   "source": [
    "fig = px.bar(\n",
    "    df.set_index('idx')[['batch', 'gc']],\n",
    "    barmode='stack',\n",
    "    labels={\n",
    "        'idx': 'Batch idx',\n",
    "        'variable': '',\n",
    "        'value': 'Time (s)',\n",
    "    },\n",
    "    log_y=log_plot,\n",
    ").update_layout(\n",
    "    title=dict(text=f'Batch+GC times ({method} / {census_loc})'),\n",
    ").update_xaxes(\n",
    "    range=(-.5, len(df) - 1 + .5),\n",
    ")\n",
    "\n",
    "if not ann.empty:\n",
    "    anns = ann.set_index('idx').batch.to_dict().items()\n",
    "    for idx, batch in anns:\n",
    "        fig.add_annotation(\n",
    "            x=idx, y=log10(batch) if log_plot else batch,\n",
    "            showarrow=False,\n",
    "            text=f'{idx}: {batch:.1f}s',\n",
    "            xshift=7,\n",
    "            xanchor='left',\n",
    "        )\n",
    "\n",
    "plot(fig, f'census-{census_loc}', fmt='png', save=['png'], w=width, h=height, dir='img',)"
   ]
  }
 ],
 "metadata": {
  "kernelspec": {
   "display_name": "Python 3 (ipykernel)",
   "language": "python",
   "name": "python3"
  },
  "language_info": {
   "codemirror_mode": {
    "name": "ipython",
    "version": 3
   },
   "file_extension": ".py",
   "mimetype": "text/x-python",
   "name": "python",
   "nbconvert_exporter": "python",
   "pygments_lexer": "ipython3",
   "version": "3.11.8"
  },
  "papermill": {
   "default_parameters": {},
   "duration": 88.244293,
   "end_time": "2024-04-15T17:11:06.288766",
   "environment_variables": {},
   "exception": null,
   "input_path": "benchmark.ipynb",
   "output_path": "benchmark-local.ipynb",
   "parameters": {},
   "start_time": "2024-04-15T17:09:38.044473",
   "version": "2.5.0"
  }
 },
 "nbformat": 4,
 "nbformat_minor": 5
}